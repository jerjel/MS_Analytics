{
 "cells": [
  {
   "cell_type": "markdown",
   "metadata": {},
   "source": [
    "# Data Programming in Python | BAIS:6040\n",
    "# Functions, Packages, Exceptions - Exercise Solutions"
   ]
  },
  {
   "cell_type": "markdown",
   "metadata": {},
   "source": [
    "## Exercises for User-Defined Functions (12 Questions)"
   ]
  },
  {
   "cell_type": "markdown",
   "metadata": {},
   "source": [
    "1\\. Write a function <i>concatenate</i> that takes two strings <i>s1</i> and <i>s2</i> as arguments and returns the concatenation of the two strings with a space between them. "
   ]
  },
  {
   "cell_type": "code",
   "execution_count": null,
   "metadata": {},
   "outputs": [],
   "source": [
    "# Your answer here\n",
    "def concatenate(s1, s2):\n",
    "    return s1 + \" \" + s2"
   ]
  },
  {
   "cell_type": "code",
   "execution_count": null,
   "metadata": {
    "scrolled": true
   },
   "outputs": [],
   "source": [
    "# Test the function here\n",
    "concatenate(\"Learning\", \"Python\")"
   ]
  },
  {
   "cell_type": "markdown",
   "metadata": {},
   "source": [
    "2\\. Write a function <i>concatenate_all</i> that takes a list <i>l</i> of strings as an argument and returns the concatenation of all strings in <i>l</i> with a space between them. "
   ]
  },
  {
   "cell_type": "code",
   "execution_count": null,
   "metadata": {},
   "outputs": [],
   "source": [
    "# Your answer here\n",
    "def concatenate_all(l):\n",
    "    return \" \".join(l)"
   ]
  },
  {
   "cell_type": "code",
   "execution_count": null,
   "metadata": {},
   "outputs": [],
   "source": [
    "# Test the function here\n",
    "concatenate_all([\"Python\", \"R\", \"SAS\", \"SPSS\", \"Matlab\", \"Stata\"])"
   ]
  },
  {
   "cell_type": "markdown",
   "metadata": {},
   "source": [
    "3\\. Write a function <i>upper_concatenate_all</i> that takes a list <i>l</i> of strings as an argument and returns the concatenation of all strings in <i>l</i> in upper case with a space between them. "
   ]
  },
  {
   "cell_type": "code",
   "execution_count": null,
   "metadata": {},
   "outputs": [],
   "source": [
    "# Your answer here\n",
    "def upper_concatenate_all(l):\n",
    "    l_tmp = [s.upper() for s in l]\n",
    "    \n",
    "    return \" \".join(l_tmp)"
   ]
  },
  {
   "cell_type": "code",
   "execution_count": null,
   "metadata": {},
   "outputs": [],
   "source": [
    "# Test the function here\n",
    "upper_concatenate_all([\"Python\", \"R\", \"SAS\", \"SPSS\", \"Matlab\", \"Stata\"])"
   ]
  },
  {
   "cell_type": "markdown",
   "metadata": {},
   "source": [
    "4\\. Write a function <i>get_min</i> that takes two numbers <i>num1</i> and <i>num2</i> as arguments and returns the smaller value. If the two numbers are equal, it returns either value. "
   ]
  },
  {
   "cell_type": "code",
   "execution_count": null,
   "metadata": {},
   "outputs": [],
   "source": [
    "# Your answer here\n",
    "def get_min(num1, num2):\n",
    "    if num1 < num2:\n",
    "        return num1\n",
    "    else:\n",
    "        return num2"
   ]
  },
  {
   "cell_type": "code",
   "execution_count": null,
   "metadata": {},
   "outputs": [],
   "source": [
    "# Test the function here\n",
    "get_min(3, 5)"
   ]
  },
  {
   "cell_type": "markdown",
   "metadata": {},
   "source": [
    "5\\. Write a function <i>get_min_all</i> that takes a list <i>l</i> of numbers as an argument and returns the smallest value in <i>l</i>. If the two numbers are equal, it returns either value. "
   ]
  },
  {
   "cell_type": "code",
   "execution_count": null,
   "metadata": {},
   "outputs": [],
   "source": [
    "# Your answer here\n",
    "def get_min_all(l):\n",
    "    return(min(l))"
   ]
  },
  {
   "cell_type": "code",
   "execution_count": null,
   "metadata": {},
   "outputs": [],
   "source": [
    "# Test the function here\n",
    "get_min_all([3, 5, 9, 6, 2, 7])"
   ]
  },
  {
   "cell_type": "markdown",
   "metadata": {},
   "source": [
    "6\\. Write a function <i>get_abs_min_all</i> that takes a list <i>l</i> of numbers as an argument and returns the smallest absolute value in <i>l</i>. If the two numbers are equal, it returns either value. "
   ]
  },
  {
   "cell_type": "code",
   "execution_count": null,
   "metadata": {},
   "outputs": [],
   "source": [
    "# Your answer here\n",
    "def get_abs_min_all(l):\n",
    "    l_tmp = [abs(num) for num in l]\n",
    "    \n",
    "    return(min(l_tmp))"
   ]
  },
  {
   "cell_type": "code",
   "execution_count": null,
   "metadata": {},
   "outputs": [],
   "source": [
    "# Test the function here\n",
    "get_abs_min_all([-3, 5, -9, -6, -2, 7])"
   ]
  },
  {
   "cell_type": "markdown",
   "metadata": {},
   "source": [
    "7\\. Write a function <i>get_head_tail</i> that takes a list <i>l</i> as an argument and returns the first and last elements in <i>l</i>. If <i>l</i> has no or only one element, it should return \"The input list is too short!\". "
   ]
  },
  {
   "cell_type": "code",
   "execution_count": null,
   "metadata": {},
   "outputs": [],
   "source": [
    "# Your answer here\n",
    "def get_head_tail(l):\n",
    "    if len(l) < 2:\n",
    "        return \"The input list is too short!\"\n",
    "    else:\n",
    "        return l[0], l[-1]"
   ]
  },
  {
   "cell_type": "code",
   "execution_count": null,
   "metadata": {
    "scrolled": true
   },
   "outputs": [],
   "source": [
    "# Test the function here\n",
    "get_head_tail([\"Python\", \"R\", \"SAS\", \"SPSS\", \"Matlab\", \"Stata\"]) # Output: ('Python', 'Stata')."
   ]
  },
  {
   "cell_type": "code",
   "execution_count": null,
   "metadata": {
    "scrolled": true
   },
   "outputs": [],
   "source": [
    "# Test the function here\n",
    "get_head_tail([\"Python\"])                                        # Output: 'The input list is too short!'."
   ]
  },
  {
   "cell_type": "markdown",
   "metadata": {},
   "source": [
    "8\\. Write a function <i>highlight</i> that takes two strings <i>s</i> and <i>sub_s</i> as arguments and returns a new copy of <i>s</i> with its substring <i>sub_s</i> being highlighted in upper case and surrounded by *. If <i>s</i> does not contain <i>sub_s</i>, it should return \"No substring!\". "
   ]
  },
  {
   "cell_type": "code",
   "execution_count": null,
   "metadata": {},
   "outputs": [],
   "source": [
    "# Your answer here\n",
    "def highlight(s, sub_s):\n",
    "    if sub_s not in s:\n",
    "        return \"No substring!\"\n",
    "    else:\n",
    "        return s.replace(sub_s, \"*\"+ sub_s.upper() + \"*\")        # Or \"*{}*\".format(sub_s.upper())"
   ]
  },
  {
   "cell_type": "code",
   "execution_count": null,
   "metadata": {
    "scrolled": true
   },
   "outputs": [],
   "source": [
    "# Test the function here\n",
    "highlight(\"I'm learning Python data analytics.\", \"Python\")       # Output: \"I'm learning *PYTHON* data analytics.\""
   ]
  },
  {
   "cell_type": "code",
   "execution_count": null,
   "metadata": {
    "scrolled": false
   },
   "outputs": [],
   "source": [
    "# Test the function here\n",
    "highlight(\"I'm learning Python data analytics.\", \"SAS\")          # Output: 'No substring!'."
   ]
  },
  {
   "cell_type": "markdown",
   "metadata": {},
   "source": [
    "9\\. Write a function <i>trim_message</i> that takes a string <i>message</i> and two integers <i>start</i> and <i>end</i> as arguments and returns the substring of <i>message</i> that starts at the index position <i>start</i> and ends at the index position <i>end</i> - 1."
   ]
  },
  {
   "cell_type": "code",
   "execution_count": null,
   "metadata": {},
   "outputs": [],
   "source": [
    "# Your answer here\n",
    "def trim_message(message, start, end):\n",
    "    return message[start:end]"
   ]
  },
  {
   "cell_type": "code",
   "execution_count": null,
   "metadata": {
    "scrolled": true
   },
   "outputs": [],
   "source": [
    "# Test the function here\n",
    "trim_message(\"I'm learning Python data analytics.\", 13, 19)      # Output: 'Python'"
   ]
  },
  {
   "cell_type": "markdown",
   "metadata": {},
   "source": [
    "10\\. Write a function <i>trim_message2</i> that works the same as <i>trim_message</i> above. In addition, check inside the function if the type of <i>message</i> is <b>str</b> and the types of <i>start</i> and <i>end</i> are <b>int</b>. If any of those evaluates to false, return \"Invalid parameter type!\". Check also if the <i>start</i> parameter is greater than or equal to 0 and less than <i>end</i> and if <i>end</i> is less than or equal to the length of <i>message</i>. If any of those evaluates to false, return \"Invalid parameter value!\"."
   ]
  },
  {
   "cell_type": "code",
   "execution_count": null,
   "metadata": {},
   "outputs": [],
   "source": [
    "# Your answer here\n",
    "def trim_message2(message, start, end):\n",
    "    if (type(message) != str) or (type(start) != int) or (type(end) != int):\n",
    "        return (\"Invalid parameter type!\")\n",
    "    \n",
    "    if (start < 0) or (start >= end) or (end > len(message)):\n",
    "        return (\"Invalid parameter value!\")\n",
    "    \n",
    "    return message[start:end]"
   ]
  },
  {
   "cell_type": "code",
   "execution_count": null,
   "metadata": {},
   "outputs": [],
   "source": [
    "# Test the function here\n",
    "trim_message2(\"I'm learning Python data analytics.\", 13, 19)     # Output: 'Python'    "
   ]
  },
  {
   "cell_type": "code",
   "execution_count": null,
   "metadata": {},
   "outputs": [],
   "source": [
    "# Test the function here\n",
    "trim_message2(10000, 13, 19)                                     # Output: 'Invalid parameter type!'"
   ]
  },
  {
   "cell_type": "code",
   "execution_count": null,
   "metadata": {
    "scrolled": true
   },
   "outputs": [],
   "source": [
    "# Test the function here\n",
    "trim_message2(\"I'm learning Python data analytics.\", -1, 19)     # Output: 'Invalid parameter value!'"
   ]
  },
  {
   "cell_type": "code",
   "execution_count": null,
   "metadata": {},
   "outputs": [],
   "source": [
    "# Test the function here\n",
    "trim_message2(\"I'm learning Python data analytics.\", 13, 10)     # Output: 'Invalid parameter value!'"
   ]
  },
  {
   "cell_type": "code",
   "execution_count": null,
   "metadata": {},
   "outputs": [],
   "source": [
    "# Test the function here\n",
    "trim_message2(\"I'm learning Python data analytics.\", 13, 100)    # Output: 'Invalid parameter value!'"
   ]
  },
  {
   "cell_type": "markdown",
   "metadata": {},
   "source": [
    "11\\. create a dictionary <i>kwargs</i> that sets the parameter values of <i>message</i>, <i>start</i>, and <i>end</i> on your own and call the function <i>trim_message2</i> by passing <i>kwargs</i>."
   ]
  },
  {
   "cell_type": "code",
   "execution_count": null,
   "metadata": {},
   "outputs": [],
   "source": [
    "# Your answer here\n",
    "kwargs = {\"message\": \"I'm learning Python data analytics.\", \"start\": 13, \"end\": 19}"
   ]
  },
  {
   "cell_type": "code",
   "execution_count": null,
   "metadata": {},
   "outputs": [],
   "source": [
    "# Test the function here\n",
    "trim_message2(**kwargs)                                          # Output: 'Python'    "
   ]
  },
  {
   "cell_type": "markdown",
   "metadata": {},
   "source": [
    "12\\. Write a function <i>count</i> that takes a list <i>l</i> of strings as an argument and returns a dictionary <i>word_counts</i> with keys being the unique strings in <i>l</i> and values being the occurrence counts of the strings. Do not use the <b>Counter</b> module in the <b>collections</b> package. (Hint: if a string is not in the dictionary as a key, add a new key-value pair (STRING, 1), otherwise, increment the current value of the string by 1.)"
   ]
  },
  {
   "cell_type": "code",
   "execution_count": 1,
   "metadata": {},
   "outputs": [],
   "source": [
    "# Your answer here\n",
    "def count(l):\n",
    "    word_counts = dict()\n",
    "    \n",
    "    for s in l:\n",
    "        if s not in word_counts:\n",
    "            word_counts[s] = 1\n",
    "        else:\n",
    "            word_counts[s] += 1\n",
    "            \n",
    "    return word_counts"
   ]
  },
  {
   "cell_type": "code",
   "execution_count": 2,
   "metadata": {
    "scrolled": true
   },
   "outputs": [
    {
     "data": {
      "text/plain": [
       "{'the': 3, 'a': 1, 'an': 1, 'of': 2, 'as': 1}"
      ]
     },
     "execution_count": 2,
     "metadata": {},
     "output_type": "execute_result"
    }
   ],
   "source": [
    "# Test the function here\n",
    "count([\"the\", \"a\", \"the\", \"an\", \"of\", \"as\", \"the\", \"of\"])       # Output : {'the': 3, 'a': 1, 'an': 1, 'of': 2, 'as': 1} "
   ]
  },
  {
   "cell_type": "markdown",
   "metadata": {},
   "source": [
    "## Exercises for Exceptions (3 Questions)"
   ]
  },
  {
   "cell_type": "markdown",
   "metadata": {},
   "source": [
    "1\\. Using <b>if</b>-<b>else</b> statements and no <b>try</b>-<b>except</b> statements, write a function <i>get_remainder</i> that takes two numbers <i>num1</i> and <i>num2</i> as arguments and returns the remainder of <i>num1</i> divided by <i>num2</i>. It returns \"Zero Division!\" if <i>num2</i> (the divisor) equals 0."
   ]
  },
  {
   "cell_type": "code",
   "execution_count": null,
   "metadata": {},
   "outputs": [],
   "source": [
    "# Your answer here\n",
    "def get_remainder(num1, num2):\n",
    "    if num2 == 0:\n",
    "        return \"Zero Division!\"\n",
    "    else:\n",
    "        return num1 % num2"
   ]
  },
  {
   "cell_type": "code",
   "execution_count": null,
   "metadata": {},
   "outputs": [],
   "source": [
    "# Test the function here\n",
    "get_remainder(10, 3)          # Output: 1"
   ]
  },
  {
   "cell_type": "code",
   "execution_count": null,
   "metadata": {},
   "outputs": [],
   "source": [
    "# Test the function here\n",
    "get_remainder(10, 0)          # Output: 'Zero Division!'"
   ]
  },
  {
   "cell_type": "markdown",
   "metadata": {},
   "source": [
    "2\\. Using <b>try</b>-<b>except</b> statements instead of <b>if</b>-<b>else</b> statements, write a function <i>get_remainder2</i> that works the same as <i>get_remainder</i>. In addition, it returns \"Unexpected Error!\" for all other exceptions. "
   ]
  },
  {
   "cell_type": "code",
   "execution_count": null,
   "metadata": {},
   "outputs": [],
   "source": [
    "# Your answer here\n",
    "def get_remainder2(num1, num2):\n",
    "    try:\n",
    "        return num1 % num2\n",
    "    except ZeroDivisionError:\n",
    "        return \"Zero Division!\"\n",
    "    except:\n",
    "        return \"Unexpected Error!\""
   ]
  },
  {
   "cell_type": "code",
   "execution_count": null,
   "metadata": {},
   "outputs": [],
   "source": [
    "# Test the function here\n",
    "get_remainder2(10, 3)          # Output: 1"
   ]
  },
  {
   "cell_type": "code",
   "execution_count": null,
   "metadata": {
    "scrolled": true
   },
   "outputs": [],
   "source": [
    "# Test the function here\n",
    "get_remainder2(10, 0)          # Output: 'Zero Division!'"
   ]
  },
  {
   "cell_type": "code",
   "execution_count": null,
   "metadata": {},
   "outputs": [],
   "source": [
    "# Test the function here\n",
    "get_remainder2(\"a\", 3)         # Output: 'Unexpected Error!'"
   ]
  },
  {
   "cell_type": "markdown",
   "metadata": {},
   "source": [
    "3\\. Using an <b>assert</b> statement instead of <b>try</b>-<b>except</b> statements and <b>if</b>-<b>else</b> statements, write a function <i>get_remainder3</i> that works the same as <i>get_remainder</i> except that it ruturns an AssertionError printing \"Zero Division!\" if the divisor euqals 0. "
   ]
  },
  {
   "cell_type": "code",
   "execution_count": null,
   "metadata": {},
   "outputs": [],
   "source": [
    "# Your answer here\n",
    "def get_remainder3(num1, num2):\n",
    "    assert num2 != 0, \"Zero Division!\"\n",
    "    \n",
    "    return num1 % num2"
   ]
  },
  {
   "cell_type": "code",
   "execution_count": null,
   "metadata": {
    "scrolled": true
   },
   "outputs": [],
   "source": [
    "# Test the function here\n",
    "get_remainder3(10, 0)          # Output: AssertionError: Zero Division!"
   ]
  }
 ],
 "metadata": {
  "kernelspec": {
   "display_name": "Python 3",
   "language": "python",
   "name": "python3"
  },
  "language_info": {
   "codemirror_mode": {
    "name": "ipython",
    "version": 3
   },
   "file_extension": ".py",
   "mimetype": "text/x-python",
   "name": "python",
   "nbconvert_exporter": "python",
   "pygments_lexer": "ipython3",
   "version": "3.8.3"
  }
 },
 "nbformat": 4,
 "nbformat_minor": 1
}
