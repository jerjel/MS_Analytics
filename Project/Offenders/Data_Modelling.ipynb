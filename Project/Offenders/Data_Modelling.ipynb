{
 "cells": [
  {
   "cell_type": "markdown",
   "id": "297acef3",
   "metadata": {},
   "source": [
    "# Project: 3-Year Recidivism for Offenders Released from Iowa Prison\n",
    "#### Iowa Correctional System - https://data.iowa.gov/Correctional-System/3-Year-Recidivism-for-Offenders-Released-from-Pris/mw8r-vqy4"
   ]
  },
  {
   "cell_type": "markdown",
   "id": "37b5601f",
   "metadata": {},
   "source": [
    "## Module2: Modelling and Prediction"
   ]
  },
  {
   "cell_type": "markdown",
   "id": "e50fb73f",
   "metadata": {},
   "source": [
    "There are two types of problems defined with this project. One is to find whether or not the offender would commit another crime in a three year period and return to prison. Another one would be to find the offense done by the returned offender."
   ]
  },
  {
   "cell_type": "markdown",
   "id": "f91d1f73",
   "metadata": {},
   "source": [
    "### Goal of Binary Classification Problem"
   ]
  },
  {
   "cell_type": "markdown",
   "id": "62fea7a3",
   "metadata": {},
   "source": [
    "This dataset reports whether an offender is re-admitted to prison or not within three years from being released from prison in Iowa. In our classification model we want to predict whether an imaginery offender who has a Release Type, Race - Ethnicity, Age At Release, Sex, Offense Classification, Offense Type, Offense Subtype, Days to Return, Recidivism Type and Target Population would have commited another crime and return to prison in a three year period. This is a binary classification problem. "
   ]
  },
  {
   "cell_type": "code",
   "execution_count": 1,
   "id": "804a9d9d",
   "metadata": {},
   "outputs": [],
   "source": [
    "# Imports\n",
    "import pandas as pd\n",
    "import numpy as np\n",
    "import matplotlib.pylab as plt\n",
    "from tabulate import tabulate\n",
    "\n",
    "from sklearn.model_selection import train_test_split\n",
    "from sklearn.pipeline import Pipeline\n",
    "from sklearn.compose import ColumnTransformer\n",
    "from sklearn.preprocessing import StandardScaler, MinMaxScaler, OneHotEncoder\n",
    "from sklearn.impute import SimpleImputer\n",
    "\n",
    "from sklearn.neighbors import KNeighborsClassifier\n",
    "from sklearn.svm import SVC  \n",
    "from sklearn.ensemble import RandomForestClassifier\n",
    "from sklearn.metrics import accuracy_score, recall_score, precision_score, fbeta_score\n",
    "from sklearn.metrics import roc_curve"
   ]
  },
  {
   "cell_type": "code",
   "execution_count": 2,
   "id": "c8d0faba",
   "metadata": {
    "scrolled": true
   },
   "outputs": [],
   "source": [
    "# Read csv file to dataframe\n",
    "df = pd.read_csv('offender_classification.csv', index_col=0) "
   ]
  },
  {
   "cell_type": "markdown",
   "id": "199369ec",
   "metadata": {},
   "source": [
    "#### Training and Testing dataset"
   ]
  },
  {
   "cell_type": "code",
   "execution_count": 3,
   "id": "696a617a",
   "metadata": {},
   "outputs": [],
   "source": [
    "# Names of different columns\n",
    "categorical_cols = list(df.columns)\n",
    "categorical_cols.remove('return_to_prison')\n",
    "# Removed due to Data leakage\n",
    "categorical_cols.remove('recidivism_type') \n",
    "\n",
    "continuous_cols = []\n",
    "\n",
    "predictor_cols = categorical_cols + continuous_cols\n",
    "target_col = \"return_to_prison\"\n",
    "\n",
    "# Split dataset to train and test datasets\n",
    "X=df[predictor_cols]\n",
    "y=df[target_col]\n",
    "\n",
    "X_train, X_test, y_train, y_test = train_test_split(df[predictor_cols], y, random_state=0)"
   ]
  },
  {
   "cell_type": "markdown",
   "id": "427a581f",
   "metadata": {},
   "source": [
    "#### Project Pipeline Transformers"
   ]
  },
  {
   "cell_type": "code",
   "execution_count": 4,
   "id": "e8fe6ed2",
   "metadata": {},
   "outputs": [],
   "source": [
    "# Pipeline for project models\n",
    "num_transformer = Pipeline(steps=[('impute', SimpleImputer(strategy='mean'))\n",
    "                                 ,('scale', MinMaxScaler())])\n",
    "\n",
    "cat_transformer = Pipeline(steps=[('impute',SimpleImputer(strategy='most_frequent'))\n",
    "                                 ,('enc', OneHotEncoder(sparse = False, handle_unknown='ignore'\n",
    "                                                        ,dtype=np.int32))])\n",
    "\n",
    "preprocessor = ColumnTransformer(transformers=[('num', num_transformer, continuous_cols),\n",
    "                                           ('cat', cat_transformer, categorical_cols)]\n",
    "                             ,remainder='passthrough')"
   ]
  },
  {
   "cell_type": "markdown",
   "id": "698e48e8",
   "metadata": {},
   "source": [
    "#### Modeling Function"
   ]
  },
  {
   "cell_type": "code",
   "execution_count": 5,
   "id": "406f3deb",
   "metadata": {},
   "outputs": [],
   "source": [
    "def createModel(algorithm):\n",
    "    # Create model using pipeline\n",
    "    pipe = Pipeline(steps=[('preprocess', preprocessor)\n",
    "                            ,('rgr', algorithm)])\n",
    "\n",
    "    pipe.fit(X_train, y_train)\n",
    "\n",
    "    # Scores\n",
    "    score_train = pipe.score(X_train, y_train)\n",
    "    score_test = pipe.score(X_test, y_test)\n",
    "    \n",
    "    return score_train, score_test, pipe"
   ]
  },
  {
   "cell_type": "markdown",
   "id": "74c30676",
   "metadata": {},
   "source": [
    "#### Modeling with KNN, SVC and RFC"
   ]
  },
  {
   "cell_type": "code",
   "execution_count": 6,
   "id": "bc5193b7",
   "metadata": {},
   "outputs": [],
   "source": [
    "# K Nearest Neighbors (KNN) model using pipeline\n",
    "knn_train, knn_test, pipe_knn = createModel(KNeighborsClassifier(n_neighbors=3))\n",
    "\n",
    "# Support Vector Classifier (SVC) model using pipeline\n",
    "svc_train, svc_test, pipe_svc = createModel(SVC(kernel='linear'))\n",
    "\n",
    "# Random Forest Classifier (RFC) model using pipeline\n",
    "rfc_train, rfc_test, pipe_rfc = createModel(RandomForestClassifier(n_estimators=100))\n"
   ]
  },
  {
   "cell_type": "markdown",
   "id": "454bfda0",
   "metadata": {},
   "source": [
    "#### Confusion Matrix Measures"
   ]
  },
  {
   "cell_type": "code",
   "execution_count": 7,
   "id": "4e771be6",
   "metadata": {},
   "outputs": [],
   "source": [
    "def getMatrixMeasures(pred):\n",
    "    return \"%0.3f   \" % accuracy_score(y_test, pred), \"%0.3f \" % recall_score(y_test, pred, pos_label=\"Yes\"), \"%0.3f    \" % precision_score(y_test, pred, pos_label=\"Yes\"), \"%0.3f    \" % fbeta_score(y_test, pred, beta=1, pos_label=\"Yes\")\n",
    "\n"
   ]
  },
  {
   "cell_type": "markdown",
   "id": "949ab262",
   "metadata": {},
   "source": [
    "#### Result Comparison"
   ]
  },
  {
   "cell_type": "code",
   "execution_count": 8,
   "id": "985f7651",
   "metadata": {},
   "outputs": [
    {
     "name": "stdout",
     "output_type": "stream",
     "text": [
      "--Classification Model Scores--\n",
      "Dataset      KNN Score    SVC Score    RFC Score\n",
      "---------  -----------  -----------  -----------\n",
      "Training      0.74927      0.608533     0.856506\n",
      "Testing       0.565937     0.590998     0.586861\n",
      "\n",
      "\n",
      "--Confusion matrix measures--\n",
      "Model    ('Accuracy', 'Recall', 'Precision', 'f-measure')\n",
      "-------  --------------------------------------------------\n",
      "KNN      ('0.566   ', '0.445 ', '0.467    ', '0.456    ')\n",
      "SVC      ('0.591   ', '0.130 ', '0.495    ', '0.206    ')\n",
      "RFC      ('0.587   ', '0.410 ', '0.492    ', '0.448    ')\n",
      "\n",
      "\n",
      "--Model Predictions--\n",
      "Prediction    Actual    KNN      SVC      RFC\n",
      "------------  --------  -------  -------  -------\n",
      "Test1         ['Yes']   ['Yes']  ['No']   ['Yes']\n",
      "Test2         ['No']    ['Yes']  ['Yes']  ['No']\n"
     ]
    }
   ],
   "source": [
    "# Scores\n",
    "print(\"--Classification Model Scores--\")\n",
    "print(tabulate([['Training', knn_train, svc_train, rfc_train], \n",
    "                ['Testing', knn_test, svc_test, rfc_test]], \n",
    "        headers=['Dataset', 'KNN Score', 'SVC Score', 'RFC Score']))\n",
    "\n",
    "print(\"\\n\")\n",
    "# Confusion matrix measures\n",
    "print(\"--Confusion matrix measures--\")\n",
    "print(tabulate([['KNN', getMatrixMeasures(pipe_knn.predict(X_test))],\n",
    "                ['SVC', getMatrixMeasures(pipe_svc.predict(X_test))],\n",
    "                ['RFC', getMatrixMeasures(pipe_rfc.predict(X_test))]], \n",
    "        headers=['Model', ('Accuracy', 'Recall', 'Precision', 'f-measure')]))\n",
    "\n",
    "print(\"\\n\")\n",
    "# Test the model\n",
    "print(\"--Model Predictions--\")\n",
    "print(tabulate([['Test1', list(y_test.head(1)), pipe_knn.predict(X_test.head(1)), pipe_svc.predict(X_test.head(1)), pipe_rfc.predict(X_test.head(1))], \n",
    "                ['Test2', list(y_test.tail(1)), pipe_knn.predict(X_test.tail(1)), pipe_svc.predict(X_test.tail(1)), pipe_rfc.predict(X_test.tail(1))]], \n",
    "        headers=['Prediction', 'Actual', 'KNN', 'SVC', 'RFC']))\n"
   ]
  },
  {
   "cell_type": "markdown",
   "id": "ef2f0071",
   "metadata": {},
   "source": [
    "#### Summary"
   ]
  },
  {
   "cell_type": "markdown",
   "id": "8c8d4139",
   "metadata": {},
   "source": [
    "Based on the f-measure, it looks like KNN is a better approach for predicting Recidivism. Given below is the ROC curve related to RNN "
   ]
  },
  {
   "cell_type": "code",
   "execution_count": 9,
   "id": "303a9e02",
   "metadata": {},
   "outputs": [
    {
     "data": {
      "image/png": "[encoded data removed]",
      "text/plain": [
       "<Figure size 432x288 with 1 Axes>"
      ]
     },
     "metadata": {
      "needs_background": "light"
     },
     "output_type": "display_data"
    }
   ],
   "source": [
    "def plot_roc_curve(model, fper, tper):\n",
    "    plt.plot(fper, tper, color='red', label='ROC')\n",
    "    plt.plot([0, 1], [0, 1], color='green', linestyle='--')\n",
    "    plt.xlabel('False Positive Rate')\n",
    "    plt.ylabel('True Positive Rate')\n",
    "    plt.title(model + ' Receiver Operating Characteristic Curve')\n",
    "    plt.legend()\n",
    "    plt.show()\n",
    "\n",
    "prob = pipe_knn.predict_proba(X_test)[::,1]\n",
    "fpr, tpr, _ = roc_curve(y_test, prob, pos_label=\"Yes\")\n",
    "plot_roc_curve('KNN Model', fpr, tpr)\n"
   ]
  },
  {
   "cell_type": "markdown",
   "id": "5c958dd6",
   "metadata": {},
   "source": [
    "### Goal of Second Classification Problem"
   ]
  },
  {
   "cell_type": "markdown",
   "id": "f1604d94",
   "metadata": {},
   "source": [
    "This dataset reports whether an offender is re-admitted to prison or not within three years from being released from prison in Iowa. In our second classification model we want to predict the offense of an imaginery offender who would have commited another crime and returned to prison in a three year period. "
   ]
  },
  {
   "cell_type": "code",
   "execution_count": 10,
   "id": "cf8ea2df",
   "metadata": {},
   "outputs": [
    {
     "name": "stdout",
     "output_type": "stream",
     "text": [
      "--Classification Model Scores--\n",
      "Dataset      KNN Score    SVC Score    RFC Score\n",
      "---------  -----------  -----------  -----------\n",
      "Training      0.607185     0.641127     0.999008\n",
      "Testing       0.392262     0.475        0.464286\n",
      "\n",
      "\n",
      "--Model Predictions--\n",
      "Prediction    Actual              KNN                 SVC                 RFC\n",
      "------------  ------------------  ------------------  ------------------  ------------------\n",
      "Test1         ['Other Criminal']  ['Other Criminal']  ['Other Criminal']  ['Other Criminal']\n",
      "Test2         ['Theft']           ['Alcohol']         ['Other Criminal']  ['Burglary']\n"
     ]
    }
   ],
   "source": [
    "# Read file\n",
    "df_yes = pd.read_csv('recidivism_types.csv', index_col=0) \n",
    "\n",
    "# Names of different columns\n",
    "categorical_cols = list(df_yes.columns)\n",
    "categorical_cols.remove('new_offensesub_type')\n",
    "\n",
    "# Removing Data Leakage\n",
    "categorical_cols.remove('new_offenseclassification')\n",
    "categorical_cols.remove('new_offensetype')\n",
    "\n",
    "continuous_cols = []\n",
    "\n",
    "predictor_cols = categorical_cols + continuous_cols\n",
    "target_col = \"new_offensesub_type\"\n",
    "\n",
    "# Split dataset to train and test datasets\n",
    "X=df_yes[predictor_cols]\n",
    "y=df_yes[target_col]\n",
    "\n",
    "X_train, X_test, y_train, y_test = train_test_split(df_yes[predictor_cols], y, random_state=0)\n",
    "\n",
    "# Pipeline for project models\n",
    "preprocessor = ColumnTransformer(transformers=[('num', num_transformer, continuous_cols),\n",
    "                                           ('cat', cat_transformer, categorical_cols)]\n",
    "                             ,remainder='passthrough')\n",
    "\n",
    "# K Nearest Neighbors (KNN) model using pipeline\n",
    "knn_train, knn_test, pipe_knn = createModel(KNeighborsClassifier(n_neighbors=3))\n",
    "\n",
    "# Support Vector Classifier (SVC) model using pipeline\n",
    "svc_train, svc_test, pipe_svc = createModel(SVC(kernel='linear'))\n",
    "\n",
    "# Random Forest Classifier (RFC) model using pipeline\n",
    "rfc_train, rfc_test, pipe_rfc = createModel(RandomForestClassifier(n_estimators=100))\n",
    "\n",
    "\n",
    "# Scores\n",
    "print(\"--Classification Model Scores--\")\n",
    "print(tabulate([['Training', knn_train, svc_train, rfc_train], \n",
    "                ['Testing', knn_test, svc_test, rfc_test]], \n",
    "        headers=['Dataset', 'KNN Score', 'SVC Score', 'RFC Score']))\n",
    "\n",
    "print(\"\\n\")\n",
    "# Test the model\n",
    "print(\"--Model Predictions--\")\n",
    "print(tabulate([['Test1', list(y_test.head(1)), pipe_knn.predict(X_test.head(1)), pipe_svc.predict(X_test.head(1)), pipe_rfc.predict(X_test.head(1))], \n",
    "                ['Test2', list(y_test.tail(1)), pipe_knn.predict(X_test.tail(1)), pipe_svc.predict(X_test.tail(1)), pipe_rfc.predict(X_test.tail(1))]], \n",
    "        headers=['Prediction', 'Actual', 'KNN', 'SVC', 'RFC']))\n"
   ]
  }
 ],
 "metadata": {
  "kernelspec": {
   "display_name": "Python 3",
   "language": "python",
   "name": "python3"
  },
  "language_info": {
   "codemirror_mode": {
    "name": "ipython",
    "version": 3
   },
   "file_extension": ".py",
   "mimetype": "text/x-python",
   "name": "python",
   "nbconvert_exporter": "python",
   "pygments_lexer": "ipython3",
   "version": "3.8.0"
  }
 },
 "nbformat": 4,
 "nbformat_minor": 5
}
