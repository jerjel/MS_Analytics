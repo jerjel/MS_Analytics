{
 "cells": [
  {
   "cell_type": "markdown",
   "metadata": {},
   "source": [
    "# Text Analytics | BAIS:6100\n",
    "# Homework 1. Python Basics for Text Processing Part 1"
   ]
  },
  {
   "cell_type": "markdown",
   "metadata": {},
   "source": [
    "16 questions, 7 points in total"
   ]
  },
  {
   "cell_type": "markdown",
   "metadata": {},
   "source": [
    "## Instructions"
   ]
  },
  {
   "cell_type": "markdown",
   "metadata": {},
   "source": [
    "- Fill in the Python statements needed to complete all the questions below. \n",
    "- Program everything inside this notebook. \n",
    "- Use only one cell per question. \n",
    "- Each code cell must be run with no errors.\n",
    "- Do not contain any unnecessary code in your answer. (Only the final outcome will be regarded as your answer.)\n",
    "- If the question requests that you store information in a certain variable, use the specific variables name (case sensitive).\n",
    "- All problems must be solved in a programmable way.\n",
    "- When you are done, make sure to save your notebook and then click Restart & Run All before subimission to create a clean version."
   ]
  },
  {
   "cell_type": "markdown",
   "metadata": {},
   "source": [
    "## Questions"
   ]
  },
  {
   "cell_type": "markdown",
   "metadata": {},
   "source": [
    "You have a string `s` as follows. "
   ]
  },
  {
   "cell_type": "markdown",
   "metadata": {},
   "source": [
    "*** Do not change the content of `s` while answering the questions."
   ]
  },
  {
   "cell_type": "code",
   "execution_count": 1,
   "metadata": {},
   "outputs": [
    {
     "data": {
      "text/plain": [
       "\"This year's Golden Globes nominees are a mix of old and new, highlighting what we've been watching from home during the pandemic. Read the list:\""
      ]
     },
     "execution_count": 1,
     "metadata": {},
     "output_type": "execute_result"
    }
   ],
   "source": [
    "# Make sure to run this cell.\n",
    "s = \"This year's Golden Globes nominees are a mix of old and new, highlighting what we've been watching from home during the pandemic. Read the list:\"\n",
    "s"
   ]
  },
  {
   "cell_type": "markdown",
   "metadata": {},
   "source": [
    "1\\. (0.4 pts) Get the length of `s` and save it in the variable `ans1`."
   ]
  },
  {
   "cell_type": "code",
   "execution_count": 2,
   "metadata": {},
   "outputs": [],
   "source": [
    "# Your answer here\n",
    "ans1 = len(s)"
   ]
  },
  {
   "cell_type": "code",
   "execution_count": 3,
   "metadata": {},
   "outputs": [
    {
     "data": {
      "text/plain": [
       "144"
      ]
     },
     "execution_count": 3,
     "metadata": {},
     "output_type": "execute_result"
    }
   ],
   "source": [
    "# Check your answer here. (Do not make any change to this cell. Just run this cell.)\n",
    "ans1"
   ]
  },
  {
   "cell_type": "markdown",
   "metadata": {},
   "source": [
    "2\\. (0.4 pts) Select the first 10 characters from `s` and save the substring in the variable `ans2`."
   ]
  },
  {
   "cell_type": "code",
   "execution_count": 4,
   "metadata": {},
   "outputs": [],
   "source": [
    "# Your answer here\n",
    "ans2 = s[:10]"
   ]
  },
  {
   "cell_type": "code",
   "execution_count": 5,
   "metadata": {},
   "outputs": [
    {
     "data": {
      "text/plain": [
       "\"This year'\""
      ]
     },
     "execution_count": 5,
     "metadata": {},
     "output_type": "execute_result"
    }
   ],
   "source": [
    "# Check your answer here. (Do not make any change to this cell. Just run this cell.)\n",
    "ans2"
   ]
  },
  {
   "cell_type": "markdown",
   "metadata": {},
   "source": [
    "3\\. (0.4 pts) Select the last 10 characters from `s` and save the substring in the variable `ans3`."
   ]
  },
  {
   "cell_type": "code",
   "execution_count": 6,
   "metadata": {},
   "outputs": [],
   "source": [
    "# Your answer here\n",
    "ans3 = s[-10:]"
   ]
  },
  {
   "cell_type": "code",
   "execution_count": 7,
   "metadata": {},
   "outputs": [
    {
     "data": {
      "text/plain": [
       "' the list:'"
      ]
     },
     "execution_count": 7,
     "metadata": {},
     "output_type": "execute_result"
    }
   ],
   "source": [
    "# Check your answer here. (Do not make any change to this cell. Just run this cell.)\n",
    "ans3"
   ]
  },
  {
   "cell_type": "markdown",
   "metadata": {},
   "source": [
    "4\\. (0.4 pts) Get the frequency of the word *the* in `s` and save it in the variable `ans4`."
   ]
  },
  {
   "cell_type": "code",
   "execution_count": 8,
   "metadata": {},
   "outputs": [],
   "source": [
    "# Your answer here\n",
    "ans4 = s.count(\"the\")"
   ]
  },
  {
   "cell_type": "code",
   "execution_count": 9,
   "metadata": {},
   "outputs": [
    {
     "data": {
      "text/plain": [
       "2"
      ]
     },
     "execution_count": 9,
     "metadata": {},
     "output_type": "execute_result"
    }
   ],
   "source": [
    "# Check your answer here. (Do not make any change to this cell. Just run this cell.)\n",
    "ans4"
   ]
  },
  {
   "cell_type": "markdown",
   "metadata": {},
   "source": [
    "5\\. (0.4 pts) Replace all the occurrences of the word *the* in `s` with its uppercase *THE* and save the new string in the variable `ans5`."
   ]
  },
  {
   "cell_type": "code",
   "execution_count": 10,
   "metadata": {},
   "outputs": [],
   "source": [
    "# Your answer here\n",
    "ans5 = s.replace(\"the\", \"THE\")"
   ]
  },
  {
   "cell_type": "code",
   "execution_count": 11,
   "metadata": {},
   "outputs": [
    {
     "data": {
      "text/plain": [
       "\"This year's Golden Globes nominees are a mix of old and new, highlighting what we've been watching from home during THE pandemic. Read THE list:\""
      ]
     },
     "execution_count": 11,
     "metadata": {},
     "output_type": "execute_result"
    }
   ],
   "source": [
    "# Check your answer here. (Do not make any change to this cell. Just run this cell.)\n",
    "ans5"
   ]
  },
  {
   "cell_type": "markdown",
   "metadata": {},
   "source": [
    "6\\. (0.6 pts) Write a for loop that iterates all the characters in `s` such that if the current character is uppercase, it prints its lowercase, and vice versa. The output must look the same as below. Use the <b>print</b> function to print each character. "
   ]
  },
  {
   "cell_type": "raw",
   "metadata": {},
   "source": [
    "tHIS YEAR'S gOLDEN gLOBES NOMINEES ARE A MIX OF OLD AND NEW, HIGHLIGHTING WHAT WE'VE BEEN WATCHING FROM HOME DURING THE PANDEMIC. rEAD THE LIST:"
   ]
  },
  {
   "cell_type": "code",
   "execution_count": 12,
   "metadata": {},
   "outputs": [
    {
     "name": "stdout",
     "output_type": "stream",
     "text": [
      "tHIS YEAR'S gOLDEN gLOBES NOMINEES ARE A MIX OF OLD AND NEW, HIGHLIGHTING WHAT WE'VE BEEN WATCHING FROM HOME DURING THE PANDEMIC. rEAD THE LIST:"
     ]
    }
   ],
   "source": [
    "# Your answer here\n",
    "for c in s:\n",
    "    if c.isupper():\n",
    "        print(c.lower(), end=\"\")\n",
    "    elif c.islower():\n",
    "        print(c.upper(), end=\"\")\n",
    "    else:\n",
    "        print(c, end=\"\")"
   ]
  },
  {
   "cell_type": "code",
   "execution_count": 13,
   "metadata": {},
   "outputs": [
    {
     "name": "stdout",
     "output_type": "stream",
     "text": [
      "tHIS YEAR'S gOLDEN gLOBES NOMINEES ARE A MIX OF OLD AND NEW, HIGHLIGHTING WHAT WE'VE BEEN WATCHING FROM HOME DURING THE PANDEMIC. rEAD THE LIST:"
     ]
    }
   ],
   "source": [
    "# Alternatively\n",
    "for c in s:\n",
    "    if c.isupper():\n",
    "        print(c.lower(), end=\"\")\n",
    "    else:\n",
    "        print(c.upper(), end=\"\")"
   ]
  },
  {
   "cell_type": "markdown",
   "metadata": {},
   "source": [
    "<hr>"
   ]
  },
  {
   "cell_type": "markdown",
   "metadata": {},
   "source": [
    "7\\. (0.4 pts) Go to this web page https://en.wikipedia.org/wiki/List_of_FIFA_Women%27s_World_Cup_finals and find the table entitled *List of finals matches, their venues and locations, the finalists and final scores*. Create a dictionary `winners` with its keys being the years in the *Year* column of the table and values being the winners in the *Winners* column. For example, the value for the key *1991* is '*United States*'. You may copy-and-paste the information on the web page to fill in the dictionary. The data type of the kyes in the dictionary must be integer, not string. "
   ]
  },
  {
   "cell_type": "code",
   "execution_count": 14,
   "metadata": {},
   "outputs": [],
   "source": [
    "# Your answer here\n",
    "winners = {\n",
    "    1991: \"United States\",\n",
    "    1995: \"Norway\",\n",
    "    1999: \"United States\",\n",
    "    2003: \"Germany\",\n",
    "    2007: \"Germany\",\n",
    "    2011: \"Japan\",\n",
    "    2015: \"United States\",\n",
    "    2019: \"United States\"\n",
    "}"
   ]
  },
  {
   "cell_type": "code",
   "execution_count": 15,
   "metadata": {},
   "outputs": [
    {
     "data": {
      "text/plain": [
       "{1991: 'United States',\n",
       " 1995: 'Norway',\n",
       " 1999: 'United States',\n",
       " 2003: 'Germany',\n",
       " 2007: 'Germany',\n",
       " 2011: 'Japan',\n",
       " 2015: 'United States',\n",
       " 2019: 'United States'}"
      ]
     },
     "execution_count": 15,
     "metadata": {},
     "output_type": "execute_result"
    }
   ],
   "source": [
    "# Check your answer here. (Do not make any change to this cell. Just run this cell.)\n",
    "winners"
   ]
  },
  {
   "cell_type": "code",
   "execution_count": 16,
   "metadata": {},
   "outputs": [
    {
     "data": {
      "text/plain": [
       "True"
      ]
     },
     "execution_count": 16,
     "metadata": {},
     "output_type": "execute_result"
    }
   ],
   "source": [
    "# Check your answer here. (Do not make any change to this cell. Just run this cell.)\n",
    "type(winners) == dict     # Expected output: True"
   ]
  },
  {
   "cell_type": "code",
   "execution_count": 17,
   "metadata": {},
   "outputs": [
    {
     "data": {
      "text/plain": [
       "True"
      ]
     },
     "execution_count": 17,
     "metadata": {},
     "output_type": "execute_result"
    }
   ],
   "source": [
    "# Check your answer here. (Do not make any change to this cell. Just run this cell.)\n",
    "1991 in winners           # Expected output: True"
   ]
  },
  {
   "cell_type": "markdown",
   "metadata": {},
   "source": [
    "8\\. (0.4 pts) Get the winner of the year 2019 using `winners` and save it in the variable `ans8`."
   ]
  },
  {
   "cell_type": "code",
   "execution_count": 18,
   "metadata": {},
   "outputs": [],
   "source": [
    "# Your answer here\n",
    "ans8 = winners[2019]"
   ]
  },
  {
   "cell_type": "code",
   "execution_count": 19,
   "metadata": {},
   "outputs": [
    {
     "data": {
      "text/plain": [
       "'United States'"
      ]
     },
     "execution_count": 19,
     "metadata": {},
     "output_type": "execute_result"
    }
   ],
   "source": [
    "# Check your answer here. (Do not make any change to this cell. Just run this cell.)\n",
    "ans8"
   ]
  },
  {
   "cell_type": "markdown",
   "metadata": {},
   "source": [
    "9\\. (0.6 pts) Create another dictionary `winners_detail` with the same keys as `winners` but its values being another dictionaries, each of which has three keys '*winner*', '*score*', and '*runner-up*' as well as their values coming from the three columns *Winners*, *Score*, and *Runners-up* of the table, respectively. For example, the value for the key *1991* is a dictionary with the three keys '*winner*', '*score*', and '*runner-up*' and their values '*United States*', '*2-1*', and '*Norway*', respectively. "
   ]
  },
  {
   "cell_type": "markdown",
   "metadata": {},
   "source": [
    "*** Filling in the dictionary must be a hassle, but please just do so for now. We are going to learn how to automatically extract information from a web page in Module 6. "
   ]
  },
  {
   "cell_type": "code",
   "execution_count": 20,
   "metadata": {},
   "outputs": [],
   "source": [
    "# Your answer here\n",
    "winners_detail = {\n",
    "    1991: {\"winner\": \"United States\", \"score\": \"2-1\", \"runner-up\": \"Norway\"},\n",
    "    1995: {\"winner\": \"Norway\", \"score\": \"2-0\", \"runner-up\": \"Germany\"},\n",
    "    1999: {\"winner\": \"United States\", \"score\": \"0-0\", \"runner-up\": \"China PR\"},\n",
    "    2003: {\"winner\": \"Germany\", \"score\": \"2-1\", \"runner-up\": \"Sweden\"},\n",
    "    2007: {\"winner\": \"Germany\", \"score\": \"2-0\", \"runner-up\": \"Brazil\"},\n",
    "    2011: {\"winner\": \"Japan\", \"score\": \"2-2\", \"runner-up\": \"United States\"},\n",
    "    2015: {\"winner\": \"United States\", \"score\": \"5-2\", \"runner-up\": \"Japan\"},\n",
    "    2019: {\"winner\": \"United States\", \"score\": \"2-0\", \"runner-up\": \"Netherlands\"}\n",
    "}"
   ]
  },
  {
   "cell_type": "code",
   "execution_count": 21,
   "metadata": {},
   "outputs": [
    {
     "data": {
      "text/plain": [
       "{1991: {'winner': 'United States', 'score': '2-1', 'runner-up': 'Norway'},\n",
       " 1995: {'winner': 'Norway', 'score': '2-0', 'runner-up': 'Germany'},\n",
       " 1999: {'winner': 'United States', 'score': '0-0', 'runner-up': 'China PR'},\n",
       " 2003: {'winner': 'Germany', 'score': '2-1', 'runner-up': 'Sweden'},\n",
       " 2007: {'winner': 'Germany', 'score': '2-0', 'runner-up': 'Brazil'},\n",
       " 2011: {'winner': 'Japan', 'score': '2-2', 'runner-up': 'United States'},\n",
       " 2015: {'winner': 'United States', 'score': '5-2', 'runner-up': 'Japan'},\n",
       " 2019: {'winner': 'United States', 'score': '2-0', 'runner-up': 'Netherlands'}}"
      ]
     },
     "execution_count": 21,
     "metadata": {},
     "output_type": "execute_result"
    }
   ],
   "source": [
    "# Check your answer here. (Do not make any change to this cell. Just run this cell.)\n",
    "winners_detail"
   ]
  },
  {
   "cell_type": "code",
   "execution_count": 22,
   "metadata": {},
   "outputs": [
    {
     "data": {
      "text/plain": [
       "True"
      ]
     },
     "execution_count": 22,
     "metadata": {},
     "output_type": "execute_result"
    }
   ],
   "source": [
    "# Check your answer here. (Do not make any change to this cell. Just run this cell.)\n",
    "type(winners_detail) == dict     # Expected output: True"
   ]
  },
  {
   "cell_type": "code",
   "execution_count": 23,
   "metadata": {},
   "outputs": [
    {
     "data": {
      "text/plain": [
       "True"
      ]
     },
     "execution_count": 23,
     "metadata": {},
     "output_type": "execute_result"
    }
   ],
   "source": [
    "# Check your answer here. (Do not make any change to this cell. Just run this cell.)\n",
    "1991 in winners_detail           # Expected output: True"
   ]
  },
  {
   "cell_type": "markdown",
   "metadata": {},
   "source": [
    "10\\. (0.4 pts) Get the score for the year 2019 using `winners_detail` and save it in the variable `ans10`."
   ]
  },
  {
   "cell_type": "code",
   "execution_count": 24,
   "metadata": {},
   "outputs": [],
   "source": [
    "# Your answer here\n",
    "ans10 = winners_detail[2019][\"score\"]"
   ]
  },
  {
   "cell_type": "code",
   "execution_count": 25,
   "metadata": {},
   "outputs": [
    {
     "data": {
      "text/plain": [
       "'2-0'"
      ]
     },
     "execution_count": 25,
     "metadata": {},
     "output_type": "execute_result"
    }
   ],
   "source": [
    "# Check your answer here. (Do not make any change to this cell. Just run this cell.)\n",
    "ans10"
   ]
  },
  {
   "cell_type": "markdown",
   "metadata": {},
   "source": [
    "11\\. (0.4 pts) Add a new key *2022* to `winners_detail` with its value being a dictionary with all of the three values being '*N/A*'. "
   ]
  },
  {
   "cell_type": "code",
   "execution_count": 26,
   "metadata": {},
   "outputs": [],
   "source": [
    "# Your answer here\n",
    "winners_detail[2022] = {\"winner\": \"N/A\", \"score\": \"N/A\", \"runner-up\": \"N/A\"}"
   ]
  },
  {
   "cell_type": "code",
   "execution_count": 27,
   "metadata": {},
   "outputs": [
    {
     "data": {
      "text/plain": [
       "{1991: {'winner': 'United States', 'score': '2-1', 'runner-up': 'Norway'},\n",
       " 1995: {'winner': 'Norway', 'score': '2-0', 'runner-up': 'Germany'},\n",
       " 1999: {'winner': 'United States', 'score': '0-0', 'runner-up': 'China PR'},\n",
       " 2003: {'winner': 'Germany', 'score': '2-1', 'runner-up': 'Sweden'},\n",
       " 2007: {'winner': 'Germany', 'score': '2-0', 'runner-up': 'Brazil'},\n",
       " 2011: {'winner': 'Japan', 'score': '2-2', 'runner-up': 'United States'},\n",
       " 2015: {'winner': 'United States', 'score': '5-2', 'runner-up': 'Japan'},\n",
       " 2019: {'winner': 'United States', 'score': '2-0', 'runner-up': 'Netherlands'},\n",
       " 2022: {'winner': 'N/A', 'score': 'N/A', 'runner-up': 'N/A'}}"
      ]
     },
     "execution_count": 27,
     "metadata": {},
     "output_type": "execute_result"
    }
   ],
   "source": [
    "# Check your answer here. (Do not make any change to this cell. Just run this cell.)\n",
    "winners_detail"
   ]
  },
  {
   "cell_type": "markdown",
   "metadata": {},
   "source": [
    "<hr>"
   ]
  },
  {
   "cell_type": "markdown",
   "metadata": {},
   "source": [
    "`tweets_cnnbrk` is a list of recent tweet strings from the timeline of CNN Breaking News on Twitter. "
   ]
  },
  {
   "cell_type": "markdown",
   "metadata": {},
   "source": [
    "*** Do not change the content of `tweets_cnnbrk` while answering the questions."
   ]
  },
  {
   "cell_type": "code",
   "execution_count": 28,
   "metadata": {},
   "outputs": [],
   "source": [
    "tweets_cnnbrk = [\n",
    "    \"The United States Navy sent a guided-missile destroyer through the Taiwan Strait on Thursday, the first time a US warship has gone through the waterway that separates China and Taiwan during the Biden administration.\",\n",
    "    \"Internet and news services continue to be disrupted across Myanmar as the country's military seeks to secure their grip on power after deposing the democratically-elected government.\",\n",
    "    \"House Republicans vote to keep Rep. Liz Cheney in leadership after she defended her impeachment vote.\",\n",
    "    \"Senate approves a power-sharing agreement that formally hands over control of committees to Democrats.\",\n",
    "    \"House Democrats will take the first steps to remove Rep. Marjorie Taylor Greene from her committee assignments, Majority Leader Hoyer says.\",\n",
    "    \"The Justice Department drops a Trump administration lawsuit that accused Yale University of discriminating against Asian American and White applicants.\",\n",
    "    \"This year's Golden Globes nominees are a mix of old and new, highlighting what we've been watching from home during the pandemic. Read the list:\",\n",
    "    \"Myanmar's ousted civilian leader, Aung San Suu Kyi, has been remanded in custody for two weeks under import-export laws, her party says.\",\n",
    "    \"President Biden paid his respects to Capitol Police Officer Brian Sicknick, whose remains lie in honor after he was killed in the insurrection.\",\n",
    "    \"The House of Representatives has officially created a new rule that will fine any member for failing to complete security screening prior to entering the House floor.\",\n",
    "    \"Amazon CEO Jeff Bezos is stepping down later this year, and will transition to the role of executive chair.\",\n",
    "    \"Face masks are now required in US national parks when visitors can't maintain physical distance and in all National Park Service buildings.\",\n",
    "    \"The Senate confirms Alejandro Mayorkas as Homeland Security secretary. He is the first Latino and immigrant to serve at the helm of the department.\",\n",
    "    \"Legendary Emmy and Tony Award-winning actor Hal Holbrook has died, his daughter confirms. Holbrook portrayed iconic author Mark Twain in one-man shows for more than six decades.\",\n",
    "    \"FBI Director Christopher Wray identified the agents killed in the Sunrise, Florida, shootout as Special Agent Daniel Alfin and Special Agent Laura Schwartzenberger.\"\n",
    "]"
   ]
  },
  {
   "cell_type": "markdown",
   "metadata": {},
   "source": [
    "12\\. (0.4 pts) Get the number of elements, or strings, in `tweets_cnnbrk` and save it in the variable `ans12`."
   ]
  },
  {
   "cell_type": "code",
   "execution_count": 29,
   "metadata": {},
   "outputs": [],
   "source": [
    "# Your answer here\n",
    "ans12 = len(tweets_cnnbrk)"
   ]
  },
  {
   "cell_type": "code",
   "execution_count": 30,
   "metadata": {},
   "outputs": [
    {
     "data": {
      "text/plain": [
       "15"
      ]
     },
     "execution_count": 30,
     "metadata": {},
     "output_type": "execute_result"
    }
   ],
   "source": [
    "# Check your answer here. (Do not make any change to this cell. Just run this cell.)\n",
    "ans12"
   ]
  },
  {
   "cell_type": "markdown",
   "metadata": {},
   "source": [
    "13\\. (0.4 pts) Write a for loop that iterates the strings in `tweets_cnnbrk` printing only the strings that have fewer than 120 characters. Use the <b>print</b> function to print each string. Printed strings are separated by a new line. "
   ]
  },
  {
   "cell_type": "code",
   "execution_count": 31,
   "metadata": {},
   "outputs": [
    {
     "name": "stdout",
     "output_type": "stream",
     "text": [
      "House Republicans vote to keep Rep. Liz Cheney in leadership after she defended her impeachment vote.\n",
      "Senate approves a power-sharing agreement that formally hands over control of committees to Democrats.\n",
      "Amazon CEO Jeff Bezos is stepping down later this year, and will transition to the role of executive chair.\n"
     ]
    }
   ],
   "source": [
    "# Your answer here\n",
    "for item in tweets_cnnbrk:\n",
    "    if len(item) < 120:\n",
    "        print(item, end=\"\\n\")"
   ]
  },
  {
   "cell_type": "markdown",
   "metadata": {},
   "source": [
    "14\\. (0.6 pts) Using list comprehension, create a new list `ans14` from `tweets_cnnbrk` such that the new list has only the first 30 characters of each string in `tweets_cnnbrk` followed by '*...*'. For example, the first two items in `ans14` are '*The United States Navy sent a ...*' and '*Internet and news services con...*'. "
   ]
  },
  {
   "cell_type": "markdown",
   "metadata": {},
   "source": [
    "*** Make sure to use list comprehension as opposed to using a for loop. "
   ]
  },
  {
   "cell_type": "code",
   "execution_count": 32,
   "metadata": {
    "scrolled": true
   },
   "outputs": [],
   "source": [
    "# Your answer here\n",
    "ans14 = [item[:30] + \"...\" for item in tweets_cnnbrk]"
   ]
  },
  {
   "cell_type": "code",
   "execution_count": 33,
   "metadata": {},
   "outputs": [
    {
     "data": {
      "text/plain": [
       "['The United States Navy sent a ...',\n",
       " 'Internet and news services con...',\n",
       " 'House Republicans vote to keep...',\n",
       " 'Senate approves a power-sharin...',\n",
       " 'House Democrats will take the ...',\n",
       " 'The Justice Department drops a...',\n",
       " \"This year's Golden Globes nomi...\",\n",
       " \"Myanmar's ousted civilian lead...\",\n",
       " 'President Biden paid his respe...',\n",
       " 'The House of Representatives h...',\n",
       " 'Amazon CEO Jeff Bezos is stepp...',\n",
       " 'Face masks are now required in...',\n",
       " 'The Senate confirms Alejandro ...',\n",
       " 'Legendary Emmy and Tony Award-...',\n",
       " 'FBI Director Christopher Wray ...']"
      ]
     },
     "execution_count": 33,
     "metadata": {},
     "output_type": "execute_result"
    }
   ],
   "source": [
    "# Check your answer here. (Do not make any change to this cell. Just run this cell.)\n",
    "ans14"
   ]
  },
  {
   "cell_type": "code",
   "execution_count": 34,
   "metadata": {},
   "outputs": [
    {
     "data": {
      "text/plain": [
       "True"
      ]
     },
     "execution_count": 34,
     "metadata": {},
     "output_type": "execute_result"
    }
   ],
   "source": [
    "# Check your answer here. (Do not make any change to this cell. Just run this cell.)\n",
    "len(ans14[0]) == 33     # Expected output: True"
   ]
  },
  {
   "cell_type": "markdown",
   "metadata": {},
   "source": [
    "<hr>"
   ]
  },
  {
   "cell_type": "markdown",
   "metadata": {},
   "source": [
    "15\\. (0.4 pts) Write a function `get_first_3_tokens` that takes a string `s` as an argument, splits the string with space into a list of tokens, and then returns a list with the first three items in the list. "
   ]
  },
  {
   "cell_type": "code",
   "execution_count": 35,
   "metadata": {},
   "outputs": [],
   "source": [
    "# Your answer here\n",
    "def get_first_3_tokens(s):\n",
    "    return s.split()[:3]"
   ]
  },
  {
   "cell_type": "code",
   "execution_count": 36,
   "metadata": {},
   "outputs": [
    {
     "data": {
      "text/plain": [
       "['This', \"year's\", 'Golden']"
      ]
     },
     "execution_count": 36,
     "metadata": {},
     "output_type": "execute_result"
    }
   ],
   "source": [
    "# Check your answer here. (Do not make any change to this cell. Just run this cell.)\n",
    "get_first_3_tokens(\"This year's Golden Globes nominees are a mix of old and new.\")\n",
    "\n",
    "# Expected output: ['This', \"year's\", 'Golden']"
   ]
  },
  {
   "cell_type": "markdown",
   "metadata": {},
   "source": [
    "16\\. (0.4 pts) Write a function `highlight` that takes two strings `s` and `subs` as arguments and returns a copy of `s` with its substring `subs` replaced with its uppercase and surrounded by \\* (asterisk) (see the example in the function test below). If `s` does not contain `subs`, it must return '*No substring!*'."
   ]
  },
  {
   "cell_type": "code",
   "execution_count": 37,
   "metadata": {},
   "outputs": [],
   "source": [
    "# Your answer here\n",
    "def highlight(s, subs):\n",
    "    if subs not in s:\n",
    "        return \"No substring!\"\n",
    "    \n",
    "    return s.replace(subs, \"*\" + subs.upper() + \"*\")"
   ]
  },
  {
   "cell_type": "code",
   "execution_count": 38,
   "metadata": {
    "scrolled": true
   },
   "outputs": [
    {
     "data": {
      "text/plain": [
       "\"I'm learning *PYTHON* data analytics.\""
      ]
     },
     "execution_count": 38,
     "metadata": {},
     "output_type": "execute_result"
    }
   ],
   "source": [
    "# Test the function here\n",
    "highlight(\"I'm learning Python data analytics.\", \"Python\")       # Expected output: \"I'm learning *PYTHON* data analytics.\""
   ]
  },
  {
   "cell_type": "code",
   "execution_count": 39,
   "metadata": {
    "scrolled": false
   },
   "outputs": [
    {
     "data": {
      "text/plain": [
       "'No substring!'"
      ]
     },
     "execution_count": 39,
     "metadata": {},
     "output_type": "execute_result"
    }
   ],
   "source": [
    "# Test the function here\n",
    "highlight(\"I'm learning Python data analytics.\", \"SAS\")          # Expected output: 'No substring!'."
   ]
  },
  {
   "cell_type": "markdown",
   "metadata": {},
   "source": [
    "### Now that you have completed all the questions, click Kernel > Restart & Run All to creat a clean version of this notebook and check if all cells have run as expected. "
   ]
  },
  {
   "cell_type": "markdown",
   "metadata": {},
   "source": [
    "## Quick Survey"
   ]
  },
  {
   "cell_type": "markdown",
   "metadata": {},
   "source": [
    "How long did it take you to complete this homework? (This will not affect your score. Your answer will be very helpful for the instructor to design homewoks and exams. Thank you!)"
   ]
  },
  {
   "cell_type": "markdown",
   "metadata": {},
   "source": [
    ": X minutes"
   ]
  }
 ],
 "metadata": {
  "kernelspec": {
   "display_name": "Python 3",
   "language": "python",
   "name": "python3"
  },
  "language_info": {
   "codemirror_mode": {
    "name": "ipython",
    "version": 3
   },
   "file_extension": ".py",
   "mimetype": "text/x-python",
   "name": "python",
   "nbconvert_exporter": "python",
   "pygments_lexer": "ipython3",
   "version": "3.7.5"
  }
 },
 "nbformat": 4,
 "nbformat_minor": 2
}
