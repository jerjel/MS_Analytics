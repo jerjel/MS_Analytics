{
 "cells": [
  {
   "cell_type": "markdown",
   "metadata": {},
   "source": [
    "# Text Analytics | BAIS:6100\n",
    "# Test 1"
   ]
  },
  {
   "cell_type": "markdown",
   "metadata": {},
   "source": [
    "Your name: Jerry Jacob"
   ]
  },
  {
   "cell_type": "markdown",
   "metadata": {},
   "source": [
    "### 1. (1 pt)"
   ]
  },
  {
   "cell_type": "code",
   "execution_count": 1,
   "metadata": {},
   "outputs": [],
   "source": [
    "# Your answer here\n",
    "import pandas as pd\n",
    "df = pd.read_csv(\"classdata/tweets/tweets_test1.csv\", sep=\"\\t\")"
   ]
  },
  {
   "cell_type": "code",
   "execution_count": 2,
   "metadata": {},
   "outputs": [
    {
     "data": {
      "text/html": [
       "<div>\n",
       "<style scoped>\n",
       "    .dataframe tbody tr th:only-of-type {\n",
       "        vertical-align: middle;\n",
       "    }\n",
       "\n",
       "    .dataframe tbody tr th {\n",
       "        vertical-align: top;\n",
       "    }\n",
       "\n",
       "    .dataframe thead th {\n",
       "        text-align: right;\n",
       "    }\n",
       "</style>\n",
       "<table border=\"1\" class=\"dataframe\">\n",
       "  <thead>\n",
       "    <tr style=\"text-align: right;\">\n",
       "      <th></th>\n",
       "      <th>created_at</th>\n",
       "      <th>user_screen_name</th>\n",
       "      <th>user_name</th>\n",
       "      <th>user_location</th>\n",
       "      <th>user_description</th>\n",
       "      <th>text</th>\n",
       "    </tr>\n",
       "  </thead>\n",
       "  <tbody>\n",
       "    <tr>\n",
       "      <th>0</th>\n",
       "      <td>Tue Jan 08 03:35:00 +0000 2019</td>\n",
       "      <td>BensPapa</td>\n",
       "      <td>🌹 Juan (he/him) 🌹</td>\n",
       "      <td>Portland, OR</td>\n",
       "      <td>(He/Him) Juan the Food Science Guy, Continuous Improvement Nerd, #DemSocialist @PortlandDSA, #LaborBranch. And Sports: #SFGiants, #RipCity, #RCTID...</td>\n",
       "      <td>On the climate front, looking at low income “rebate” for higher fuel costs. Seems like a cop out to me. Means testi… https://t.co/2quYAPdOYs</td>\n",
       "    </tr>\n",
       "    <tr>\n",
       "      <th>1</th>\n",
       "      <td>Sat Jun 29 08:39:40 +0000 2019</td>\n",
       "      <td>FlamingoclubFc</td>\n",
       "      <td>Peter Pestka</td>\n",
       "      <td>Mount Everest 8,848 meters</td>\n",
       "      <td>A team with health organization missionary work for you and your team</td>\n",
       "      <td>Folks it has been a successful climate change awareness and introduction of the Flamingo  journey in Paris. Merci f… https://t.co/59RyJmcTTZ</td>\n",
       "    </tr>\n",
       "    <tr>\n",
       "      <th>2</th>\n",
       "      <td>Tue Dec 10 14:00:31 +0000 2019</td>\n",
       "      <td>EINFinanceNews</td>\n",
       "      <td>EIN Finance News</td>\n",
       "      <td>Washington, D.C.</td>\n",
       "      <td>Latest finance industry news for global professionals &amp; analysts. Finance Industry Today is a media monitoring service provided by EIN News.</td>\n",
       "      <td>The EU’s New Climate Weapon Is in Financial Fine Print https://t.co/EtxR4MyUg8</td>\n",
       "    </tr>\n",
       "    <tr>\n",
       "      <th>3</th>\n",
       "      <td>Tue Dec 17 18:43:27 +0000 2019</td>\n",
       "      <td>MikeGrunwald</td>\n",
       "      <td>Michael Grunwald</td>\n",
       "      <td>Miami Beach, FL</td>\n",
       "      <td>Senior writer, @POLITICOMag. Editor-at-large, The Agenda. Author of The New New Deal: The Hidden Story of Change in the Obama Era.</td>\n",
       "      <td>Bernie or Warren or Kamala could hold up the budget to fight for solar and EVs. But most Democrats are just rhetorical climate warriors.</td>\n",
       "    </tr>\n",
       "    <tr>\n",
       "      <th>4</th>\n",
       "      <td>Sun Jul 07 07:13:13 +0000 2019</td>\n",
       "      <td>videocrime</td>\n",
       "      <td>neon Jason Evangelion</td>\n",
       "      <td>St. Louis, MO</td>\n",
       "      <td>1/4 of Shark Dad (@wearesharkdad), CEO of Laser Goose Records, podcast host (@48minutesofdogs)  gamer, dad, DIYer, big time idiot, Dr. Yinz Fanclu...</td>\n",
       "      <td>@teenmethuselah In the coming climate wars, someone has to man the still while the menfolk battle over the potable water</td>\n",
       "    </tr>\n",
       "    <tr>\n",
       "      <th>...</th>\n",
       "      <td>...</td>\n",
       "      <td>...</td>\n",
       "      <td>...</td>\n",
       "      <td>...</td>\n",
       "      <td>...</td>\n",
       "      <td>...</td>\n",
       "    </tr>\n",
       "    <tr>\n",
       "      <th>9995</th>\n",
       "      <td>Thu Sep 19 01:56:09 +0000 2019</td>\n",
       "      <td>shopperann68</td>\n",
       "      <td>Nett</td>\n",
       "      <td>Arizona, USA</td>\n",
       "      <td>On the best adventure ever-Life. There is nothing more tragic than to sleep through a revolution-MLK Jr, 5/18/1966 https://t.co/KGY7Ao6kiW #resist...</td>\n",
       "      <td>Saying Geoengineering technology is \"cheap\" is DECEPTION. The scale of destruction climate engineering has inflicte… https://t.co/3NvF7AmpoE</td>\n",
       "    </tr>\n",
       "    <tr>\n",
       "      <th>9996</th>\n",
       "      <td>Fri Aug 02 22:14:46 +0000 2019</td>\n",
       "      <td>trevcosi23</td>\n",
       "      <td>Trevor Cancilla</td>\n",
       "      <td>Sacramento, CA</td>\n",
       "      <td>I'm @busterposey's good friend. Proud fan of #sfgiants, #sackings, and #49ers. TV is my drug. DVR is my dealer. I like to laugh. Entertain me! #Sa...</td>\n",
       "      <td>@HeuristicLineup Well those are still more seasons than SF has. Climate change just makes two of the 4 here in Sac… https://t.co/G56us2URzD</td>\n",
       "    </tr>\n",
       "    <tr>\n",
       "      <th>9997</th>\n",
       "      <td>Fri Oct 11 22:53:52 +0000 2019</td>\n",
       "      <td>EpiphanyEstates</td>\n",
       "      <td>Epiphany Estates</td>\n",
       "      <td>United Kingdom</td>\n",
       "      <td>epiphany estates are advisers and purchasers of bereaved estates from single items to large estates. Valuers, of fine art, decorative arts, Jewels.</td>\n",
       "      <td>The climate change extinction Psychos!! And the remoaners - join forces to join the “ I’m a twat club”</td>\n",
       "    </tr>\n",
       "    <tr>\n",
       "      <th>9998</th>\n",
       "      <td>Mon May 20 11:34:20 +0000 2019</td>\n",
       "      <td>MNW_81</td>\n",
       "      <td>Martha N. Wilhelm</td>\n",
       "      <td>Sudan</td>\n",
       "      <td>Transition / Peace building / Development Coordination Specialist| Leadership/ People Management Scwcholar| Views are my own &amp; Rts aren't endorsem...</td>\n",
       "      <td>@dshekuza ur search for a seat @ a table on youth issues esp on climate change @ environment is admirable. U’ve bee… https://t.co/kPsS2zHcqg</td>\n",
       "    </tr>\n",
       "    <tr>\n",
       "      <th>9999</th>\n",
       "      <td>Mon Aug 26 14:42:08 +0000 2019</td>\n",
       "      <td>piyushmittal</td>\n",
       "      <td>Piyush Mittal</td>\n",
       "      <td>California, USA</td>\n",
       "      <td>Live and let live. Trying to reduce my carbon footprint. Not a Trump fan.</td>\n",
       "      <td>Trump fiddles as climate change ravages the world https://t.co/NDWb1lTMsb</td>\n",
       "    </tr>\n",
       "  </tbody>\n",
       "</table>\n",
       "<p>10000 rows × 6 columns</p>\n",
       "</div>"
      ],
      "text/plain": [
       "                          created_at user_screen_name              user_name  \\\n",
       "0     Tue Jan 08 03:35:00 +0000 2019         BensPapa      🌹 Juan (he/him) 🌹   \n",
       "1     Sat Jun 29 08:39:40 +0000 2019   FlamingoclubFc           Peter Pestka   \n",
       "2     Tue Dec 10 14:00:31 +0000 2019   EINFinanceNews       EIN Finance News   \n",
       "3     Tue Dec 17 18:43:27 +0000 2019     MikeGrunwald       Michael Grunwald   \n",
       "4     Sun Jul 07 07:13:13 +0000 2019       videocrime  neon Jason Evangelion   \n",
       "...                              ...              ...                    ...   \n",
       "9995  Thu Sep 19 01:56:09 +0000 2019     shopperann68                   Nett   \n",
       "9996  Fri Aug 02 22:14:46 +0000 2019       trevcosi23        Trevor Cancilla   \n",
       "9997  Fri Oct 11 22:53:52 +0000 2019  EpiphanyEstates       Epiphany Estates   \n",
       "9998  Mon May 20 11:34:20 +0000 2019           MNW_81      Martha N. Wilhelm   \n",
       "9999  Mon Aug 26 14:42:08 +0000 2019     piyushmittal          Piyush Mittal   \n",
       "\n",
       "                   user_location  \\\n",
       "0                   Portland, OR   \n",
       "1     Mount Everest 8,848 meters   \n",
       "2               Washington, D.C.   \n",
       "3                Miami Beach, FL   \n",
       "4                  St. Louis, MO   \n",
       "...                          ...   \n",
       "9995                Arizona, USA   \n",
       "9996              Sacramento, CA   \n",
       "9997              United Kingdom   \n",
       "9998                       Sudan   \n",
       "9999             California, USA   \n",
       "\n",
       "                                                                                                                                           user_description  \\\n",
       "0     (He/Him) Juan the Food Science Guy, Continuous Improvement Nerd, #DemSocialist @PortlandDSA, #LaborBranch. And Sports: #SFGiants, #RipCity, #RCTID...   \n",
       "1                                                                                     A team with health organization missionary work for you and your team   \n",
       "2              Latest finance industry news for global professionals & analysts. Finance Industry Today is a media monitoring service provided by EIN News.   \n",
       "3                        Senior writer, @POLITICOMag. Editor-at-large, The Agenda. Author of The New New Deal: The Hidden Story of Change in the Obama Era.   \n",
       "4     1/4 of Shark Dad (@wearesharkdad), CEO of Laser Goose Records, podcast host (@48minutesofdogs)  gamer, dad, DIYer, big time idiot, Dr. Yinz Fanclu...   \n",
       "...                                                                                                                                                     ...   \n",
       "9995  On the best adventure ever-Life. There is nothing more tragic than to sleep through a revolution-MLK Jr, 5/18/1966 https://t.co/KGY7Ao6kiW #resist...   \n",
       "9996  I'm @busterposey's good friend. Proud fan of #sfgiants, #sackings, and #49ers. TV is my drug. DVR is my dealer. I like to laugh. Entertain me! #Sa...   \n",
       "9997    epiphany estates are advisers and purchasers of bereaved estates from single items to large estates. Valuers, of fine art, decorative arts, Jewels.   \n",
       "9998  Transition / Peace building / Development Coordination Specialist| Leadership/ People Management Scwcholar| Views are my own & Rts aren't endorsem...   \n",
       "9999                                                                              Live and let live. Trying to reduce my carbon footprint. Not a Trump fan.   \n",
       "\n",
       "                                                                                                                                              text  \n",
       "0     On the climate front, looking at low income “rebate” for higher fuel costs. Seems like a cop out to me. Means testi… https://t.co/2quYAPdOYs  \n",
       "1     Folks it has been a successful climate change awareness and introduction of the Flamingo  journey in Paris. Merci f… https://t.co/59RyJmcTTZ  \n",
       "2                                                                   The EU’s New Climate Weapon Is in Financial Fine Print https://t.co/EtxR4MyUg8  \n",
       "3         Bernie or Warren or Kamala could hold up the budget to fight for solar and EVs. But most Democrats are just rhetorical climate warriors.  \n",
       "4                         @teenmethuselah In the coming climate wars, someone has to man the still while the menfolk battle over the potable water  \n",
       "...                                                                                                                                            ...  \n",
       "9995  Saying Geoengineering technology is \"cheap\" is DECEPTION. The scale of destruction climate engineering has inflicte… https://t.co/3NvF7AmpoE  \n",
       "9996   @HeuristicLineup Well those are still more seasons than SF has. Climate change just makes two of the 4 here in Sac… https://t.co/G56us2URzD  \n",
       "9997                                        The climate change extinction Psychos!! And the remoaners - join forces to join the “ I’m a twat club”  \n",
       "9998  @dshekuza ur search for a seat @ a table on youth issues esp on climate change @ environment is admirable. U’ve bee… https://t.co/kPsS2zHcqg  \n",
       "9999                                                                     Trump fiddles as climate change ravages the world https://t.co/NDWb1lTMsb  \n",
       "\n",
       "[10000 rows x 6 columns]"
      ]
     },
     "execution_count": 2,
     "metadata": {},
     "output_type": "execute_result"
    }
   ],
   "source": [
    "# Check your answer here. (Do not make any change to this cell. Just run this cell.)\n",
    "pd.set_option('display.max_colwidth', 150)\n",
    "df"
   ]
  },
  {
   "cell_type": "markdown",
   "metadata": {},
   "source": [
    "### 2. (2 pts)"
   ]
  },
  {
   "cell_type": "code",
   "execution_count": 3,
   "metadata": {},
   "outputs": [],
   "source": [
    "# Your answer here\n",
    "ans2_1=df.shape[0]\n",
    "ans2_2=df.shape[1]"
   ]
  },
  {
   "cell_type": "code",
   "execution_count": 4,
   "metadata": {},
   "outputs": [
    {
     "data": {
      "text/plain": [
       "(10000, 6)"
      ]
     },
     "execution_count": 4,
     "metadata": {},
     "output_type": "execute_result"
    }
   ],
   "source": [
    "# Check your answer here. (Do not make any change to this cell. Just run this cell.)\n",
    "ans2_1, ans2_2"
   ]
  },
  {
   "cell_type": "markdown",
   "metadata": {},
   "source": [
    "### 3. (2 pts)"
   ]
  },
  {
   "cell_type": "code",
   "execution_count": 5,
   "metadata": {},
   "outputs": [],
   "source": [
    "# Your answer here\n",
    "ans3 = df[\"text\"][:10]"
   ]
  },
  {
   "cell_type": "code",
   "execution_count": 6,
   "metadata": {},
   "outputs": [
    {
     "data": {
      "text/plain": [
       "0    On the climate front, looking at low income “rebate” for higher fuel costs. Seems like a cop out to me. Means testi… https://t.co/2quYAPdOYs\n",
       "1    Folks it has been a successful climate change awareness and introduction of the Flamingo  journey in Paris. Merci f… https://t.co/59RyJmcTTZ\n",
       "2                                                                  The EU’s New Climate Weapon Is in Financial Fine Print https://t.co/EtxR4MyUg8\n",
       "3        Bernie or Warren or Kamala could hold up the budget to fight for solar and EVs. But most Democrats are just rhetorical climate warriors.\n",
       "4                        @teenmethuselah In the coming climate wars, someone has to man the still while the menfolk battle over the potable water\n",
       "5    @FreckledLiberty you wish. go join the flat-eathers, the anti-vaxxers, the climate change deniers and the rest of t… https://t.co/OiUuMPvyWt\n",
       "6                                                       Theresa May criticises children protesting against climate change https://t.co/kGUgtwU0ag\n",
       "7                                             Transcript: Greta Thunberg's Speech At The U.N. Climate Action Summit - NPR https://t.co/Vrni1bqWLZ\n",
       "8    @Fahrenthold A little more than a year ago MAGAs on Twitter were still telling me that climate scientists were exag… https://t.co/mbwoTS3hrG\n",
       "9    moon jaein has done nothing but kiss up to china and NK when it’s been clear that the political climate has shown t… https://t.co/oGfZElqZUz\n",
       "Name: text, dtype: object"
      ]
     },
     "execution_count": 6,
     "metadata": {},
     "output_type": "execute_result"
    }
   ],
   "source": [
    "# Check your answer here. (Do not make any change to this cell. Just run this cell.)\n",
    "ans3"
   ]
  },
  {
   "cell_type": "markdown",
   "metadata": {},
   "source": [
    "### 4. (2 pts)"
   ]
  },
  {
   "cell_type": "code",
   "execution_count": 7,
   "metadata": {},
   "outputs": [],
   "source": [
    "# Your answer here\n",
    "ans4 = df.iloc[-10:,:3]"
   ]
  },
  {
   "cell_type": "code",
   "execution_count": 8,
   "metadata": {},
   "outputs": [
    {
     "data": {
      "text/html": [
       "<div>\n",
       "<style scoped>\n",
       "    .dataframe tbody tr th:only-of-type {\n",
       "        vertical-align: middle;\n",
       "    }\n",
       "\n",
       "    .dataframe tbody tr th {\n",
       "        vertical-align: top;\n",
       "    }\n",
       "\n",
       "    .dataframe thead th {\n",
       "        text-align: right;\n",
       "    }\n",
       "</style>\n",
       "<table border=\"1\" class=\"dataframe\">\n",
       "  <thead>\n",
       "    <tr style=\"text-align: right;\">\n",
       "      <th></th>\n",
       "      <th>created_at</th>\n",
       "      <th>user_screen_name</th>\n",
       "      <th>user_name</th>\n",
       "    </tr>\n",
       "  </thead>\n",
       "  <tbody>\n",
       "    <tr>\n",
       "      <th>9990</th>\n",
       "      <td>Fri Dec 27 21:17:18 +0000 2019</td>\n",
       "      <td>901CBD</td>\n",
       "      <td>901 CBD LLC. Tony Falasca Owner.</td>\n",
       "    </tr>\n",
       "    <tr>\n",
       "      <th>9991</th>\n",
       "      <td>Thu Apr 04 07:00:06 +0000 2019</td>\n",
       "      <td>klima_netz</td>\n",
       "      <td>Klimaschutz-Netz</td>\n",
       "    </tr>\n",
       "    <tr>\n",
       "      <th>9992</th>\n",
       "      <td>Thu Mar 14 04:52:04 +0000 2019</td>\n",
       "      <td>Tykee_James</td>\n",
       "      <td>TykeeJames</td>\n",
       "    </tr>\n",
       "    <tr>\n",
       "      <th>9993</th>\n",
       "      <td>Wed Dec 04 17:39:12 +0000 2019</td>\n",
       "      <td>JwintersA</td>\n",
       "      <td>Jeffrey Winters at ASME</td>\n",
       "    </tr>\n",
       "    <tr>\n",
       "      <th>9994</th>\n",
       "      <td>Thu Sep 26 15:42:19 +0000 2019</td>\n",
       "      <td>DsOchoa</td>\n",
       "      <td>🌊DSOchoa 🇺🇸</td>\n",
       "    </tr>\n",
       "    <tr>\n",
       "      <th>9995</th>\n",
       "      <td>Thu Sep 19 01:56:09 +0000 2019</td>\n",
       "      <td>shopperann68</td>\n",
       "      <td>Nett</td>\n",
       "    </tr>\n",
       "    <tr>\n",
       "      <th>9996</th>\n",
       "      <td>Fri Aug 02 22:14:46 +0000 2019</td>\n",
       "      <td>trevcosi23</td>\n",
       "      <td>Trevor Cancilla</td>\n",
       "    </tr>\n",
       "    <tr>\n",
       "      <th>9997</th>\n",
       "      <td>Fri Oct 11 22:53:52 +0000 2019</td>\n",
       "      <td>EpiphanyEstates</td>\n",
       "      <td>Epiphany Estates</td>\n",
       "    </tr>\n",
       "    <tr>\n",
       "      <th>9998</th>\n",
       "      <td>Mon May 20 11:34:20 +0000 2019</td>\n",
       "      <td>MNW_81</td>\n",
       "      <td>Martha N. Wilhelm</td>\n",
       "    </tr>\n",
       "    <tr>\n",
       "      <th>9999</th>\n",
       "      <td>Mon Aug 26 14:42:08 +0000 2019</td>\n",
       "      <td>piyushmittal</td>\n",
       "      <td>Piyush Mittal</td>\n",
       "    </tr>\n",
       "  </tbody>\n",
       "</table>\n",
       "</div>"
      ],
      "text/plain": [
       "                          created_at user_screen_name  \\\n",
       "9990  Fri Dec 27 21:17:18 +0000 2019           901CBD   \n",
       "9991  Thu Apr 04 07:00:06 +0000 2019       klima_netz   \n",
       "9992  Thu Mar 14 04:52:04 +0000 2019      Tykee_James   \n",
       "9993  Wed Dec 04 17:39:12 +0000 2019        JwintersA   \n",
       "9994  Thu Sep 26 15:42:19 +0000 2019          DsOchoa   \n",
       "9995  Thu Sep 19 01:56:09 +0000 2019     shopperann68   \n",
       "9996  Fri Aug 02 22:14:46 +0000 2019       trevcosi23   \n",
       "9997  Fri Oct 11 22:53:52 +0000 2019  EpiphanyEstates   \n",
       "9998  Mon May 20 11:34:20 +0000 2019           MNW_81   \n",
       "9999  Mon Aug 26 14:42:08 +0000 2019     piyushmittal   \n",
       "\n",
       "                             user_name  \n",
       "9990  901 CBD LLC. Tony Falasca Owner.  \n",
       "9991                  Klimaschutz-Netz  \n",
       "9992                        TykeeJames  \n",
       "9993           Jeffrey Winters at ASME  \n",
       "9994                       🌊DSOchoa 🇺🇸  \n",
       "9995                              Nett  \n",
       "9996                   Trevor Cancilla  \n",
       "9997                  Epiphany Estates  \n",
       "9998                 Martha N. Wilhelm  \n",
       "9999                     Piyush Mittal  "
      ]
     },
     "execution_count": 8,
     "metadata": {},
     "output_type": "execute_result"
    }
   ],
   "source": [
    "# Check your answer here. (Do not make any change to this cell. Just run this cell.)\n",
    "ans4"
   ]
  },
  {
   "cell_type": "markdown",
   "metadata": {},
   "source": [
    "### 5. (2 pts)"
   ]
  },
  {
   "cell_type": "code",
   "execution_count": 9,
   "metadata": {},
   "outputs": [],
   "source": [
    "# Your answer here\n",
    "ans5 = len(df[df.user_location==\"Los Angeles, CA\"])"
   ]
  },
  {
   "cell_type": "code",
   "execution_count": 10,
   "metadata": {},
   "outputs": [
    {
     "data": {
      "text/plain": [
       "54"
      ]
     },
     "execution_count": 10,
     "metadata": {},
     "output_type": "execute_result"
    }
   ],
   "source": [
    "# Check your answer here. (Do not make any change to this cell. Just run this cell.)\n",
    "ans5"
   ]
  },
  {
   "cell_type": "markdown",
   "metadata": {},
   "source": [
    "### 6. (2 pts)"
   ]
  },
  {
   "cell_type": "code",
   "execution_count": 11,
   "metadata": {},
   "outputs": [],
   "source": [
    "# Your answer here\n",
    "ans6 = df.sample(n=1000, replace=False)[[\"created_at\", \"text\"]]"
   ]
  },
  {
   "cell_type": "code",
   "execution_count": 12,
   "metadata": {},
   "outputs": [
    {
     "data": {
      "text/html": [
       "<div>\n",
       "<style scoped>\n",
       "    .dataframe tbody tr th:only-of-type {\n",
       "        vertical-align: middle;\n",
       "    }\n",
       "\n",
       "    .dataframe tbody tr th {\n",
       "        vertical-align: top;\n",
       "    }\n",
       "\n",
       "    .dataframe thead th {\n",
       "        text-align: right;\n",
       "    }\n",
       "</style>\n",
       "<table border=\"1\" class=\"dataframe\">\n",
       "  <thead>\n",
       "    <tr style=\"text-align: right;\">\n",
       "      <th></th>\n",
       "      <th>created_at</th>\n",
       "      <th>text</th>\n",
       "    </tr>\n",
       "  </thead>\n",
       "  <tbody>\n",
       "    <tr>\n",
       "      <th>4450</th>\n",
       "      <td>Thu Oct 24 16:54:27 +0000 2019</td>\n",
       "      <td>New York State is leading on climate policy and legislation with the “Climate Leadership and Community Protection A… https://t.co/TI7DVnYGhs</td>\n",
       "    </tr>\n",
       "    <tr>\n",
       "      <th>8066</th>\n",
       "      <td>Sat Feb 09 12:48:57 +0000 2019</td>\n",
       "      <td>The truth about big oil and climate change - Big oil and the environment https://t.co/gwThY3ny1U</td>\n",
       "    </tr>\n",
       "    <tr>\n",
       "      <th>2379</th>\n",
       "      <td>Thu Sep 05 18:24:57 +0000 2019</td>\n",
       "      <td>WHAT'S THIS?YOU MEAN TO TELL ME THE SOLUTION TO CLIMATE CHANGE ISN'T MEAT????</td>\n",
       "    </tr>\n",
       "    <tr>\n",
       "      <th>8667</th>\n",
       "      <td>Mon Nov 25 20:20:47 +0000 2019</td>\n",
       "      <td>The Amazon: on the frontline of a global battle to tackle the climate crisis !!!https://t.co/hdrxT7NV6r</td>\n",
       "    </tr>\n",
       "    <tr>\n",
       "      <th>4525</th>\n",
       "      <td>Sat Jun 22 16:09:40 +0000 2019</td>\n",
       "      <td>@guardiannews There is No climate crisis. The occurrence of drought has been steadily decreasing over the last 50 y… https://t.co/oI6lB6TFPI</td>\n",
       "    </tr>\n",
       "    <tr>\n",
       "      <th>...</th>\n",
       "      <td>...</td>\n",
       "      <td>...</td>\n",
       "    </tr>\n",
       "    <tr>\n",
       "      <th>8559</th>\n",
       "      <td>Tue Oct 22 08:10:39 +0000 2019</td>\n",
       "      <td>@hilarityjane @marianlquinn This is horrifying. This is what climate fear mongering accomplishes. The \"best\" is yet to come I'm afraid.</td>\n",
       "    </tr>\n",
       "    <tr>\n",
       "      <th>4794</th>\n",
       "      <td>Sun Oct 27 18:19:43 +0000 2019</td>\n",
       "      <td>@NofSeven @JasperBrown4 Thank you. The only thing in Manning's favor is he accepts climate change is real, or says… https://t.co/oGqoFzhJMv</td>\n",
       "    </tr>\n",
       "    <tr>\n",
       "      <th>9855</th>\n",
       "      <td>Tue Sep 03 13:38:40 +0000 2019</td>\n",
       "      <td>How to get rid of climate change Step 1: Take your climate change to the climate bank and exchange it for climate billsStep 2: Profit</td>\n",
       "    </tr>\n",
       "    <tr>\n",
       "      <th>5983</th>\n",
       "      <td>Sat Oct 12 02:35:20 +0000 2019</td>\n",
       "      <td>I'm supporting frontline action to #StopAdani by sending a message to companies doing working on the climate and wa… https://t.co/CbWKItahNs</td>\n",
       "    </tr>\n",
       "    <tr>\n",
       "      <th>360</th>\n",
       "      <td>Mon Oct 28 12:48:30 +0000 2019</td>\n",
       "      <td>@RockCharts28 @dmit0820 @thehill @AndrewYang Says the guy that denies what a majority of scientists and climate aut… https://t.co/Aj1BHWTHvt</td>\n",
       "    </tr>\n",
       "  </tbody>\n",
       "</table>\n",
       "<p>1000 rows × 2 columns</p>\n",
       "</div>"
      ],
      "text/plain": [
       "                          created_at  \\\n",
       "4450  Thu Oct 24 16:54:27 +0000 2019   \n",
       "8066  Sat Feb 09 12:48:57 +0000 2019   \n",
       "2379  Thu Sep 05 18:24:57 +0000 2019   \n",
       "8667  Mon Nov 25 20:20:47 +0000 2019   \n",
       "4525  Sat Jun 22 16:09:40 +0000 2019   \n",
       "...                              ...   \n",
       "8559  Tue Oct 22 08:10:39 +0000 2019   \n",
       "4794  Sun Oct 27 18:19:43 +0000 2019   \n",
       "9855  Tue Sep 03 13:38:40 +0000 2019   \n",
       "5983  Sat Oct 12 02:35:20 +0000 2019   \n",
       "360   Mon Oct 28 12:48:30 +0000 2019   \n",
       "\n",
       "                                                                                                                                              text  \n",
       "4450  New York State is leading on climate policy and legislation with the “Climate Leadership and Community Protection A… https://t.co/TI7DVnYGhs  \n",
       "8066                                              The truth about big oil and climate change - Big oil and the environment https://t.co/gwThY3ny1U  \n",
       "2379                                                                 WHAT'S THIS?YOU MEAN TO TELL ME THE SOLUTION TO CLIMATE CHANGE ISN'T MEAT????  \n",
       "8667                                       The Amazon: on the frontline of a global battle to tackle the climate crisis !!!https://t.co/hdrxT7NV6r  \n",
       "4525  @guardiannews There is No climate crisis. The occurrence of drought has been steadily decreasing over the last 50 y… https://t.co/oI6lB6TFPI  \n",
       "...                                                                                                                                            ...  \n",
       "8559       @hilarityjane @marianlquinn This is horrifying. This is what climate fear mongering accomplishes. The \"best\" is yet to come I'm afraid.  \n",
       "4794   @NofSeven @JasperBrown4 Thank you. The only thing in Manning's favor is he accepts climate change is real, or says… https://t.co/oGqoFzhJMv  \n",
       "9855         How to get rid of climate change Step 1: Take your climate change to the climate bank and exchange it for climate billsStep 2: Profit  \n",
       "5983  I'm supporting frontline action to #StopAdani by sending a message to companies doing working on the climate and wa… https://t.co/CbWKItahNs  \n",
       "360   @RockCharts28 @dmit0820 @thehill @AndrewYang Says the guy that denies what a majority of scientists and climate aut… https://t.co/Aj1BHWTHvt  \n",
       "\n",
       "[1000 rows x 2 columns]"
      ]
     },
     "execution_count": 12,
     "metadata": {},
     "output_type": "execute_result"
    }
   ],
   "source": [
    "# Check your answer here. (Do not make any change to this cell. Just run this cell.)\n",
    "ans6"
   ]
  },
  {
   "cell_type": "markdown",
   "metadata": {},
   "source": [
    "### 7. (3 pts)"
   ]
  },
  {
   "cell_type": "code",
   "execution_count": 13,
   "metadata": {
    "scrolled": false
   },
   "outputs": [],
   "source": [
    "# Your answer here\n",
    "user_info=dict()\n",
    "for index, series in df.iterrows():\n",
    "    user_info[series.user_screen_name]=dict()\n",
    "    user_info[series.user_screen_name][\"name\"]=series.user_name\n",
    "    user_info[series.user_screen_name][\"location\"]=series.user_location\n",
    "    user_info[series.user_screen_name][\"description\"]=series.user_description"
   ]
  },
  {
   "cell_type": "code",
   "execution_count": 14,
   "metadata": {},
   "outputs": [
    {
     "data": {
      "text/plain": [
       "{'name': '🌹 Juan (he/him) 🌹',\n",
       " 'location': 'Portland, OR',\n",
       " 'description': '(He/Him) Juan the Food Science Guy, Continuous Improvement Nerd, #DemSocialist @PortlandDSA, #LaborBranch. And Sports: #SFGiants, #RipCity, #RCTID, #TdF'}"
      ]
     },
     "execution_count": 14,
     "metadata": {},
     "output_type": "execute_result"
    }
   ],
   "source": [
    "# Check your answer here. (Do not make any change to this cell. Just run this cell.)\n",
    "user_info[\"BensPapa\"]"
   ]
  },
  {
   "cell_type": "code",
   "execution_count": 15,
   "metadata": {},
   "outputs": [
    {
     "data": {
      "text/plain": [
       "10000"
      ]
     },
     "execution_count": 15,
     "metadata": {},
     "output_type": "execute_result"
    }
   ],
   "source": [
    "# Check your answer here. (Do not make any change to this cell. Just run this cell.)\n",
    "len(user_info)"
   ]
  },
  {
   "cell_type": "markdown",
   "metadata": {},
   "source": [
    "### 8. (3 pts)"
   ]
  },
  {
   "cell_type": "code",
   "execution_count": 16,
   "metadata": {
    "scrolled": true
   },
   "outputs": [],
   "source": [
    "# Your answer here\n",
    "import re\n",
    "def formatComment(dfcomm):\n",
    "    user = dfcomm[\"user_screen_name\"]\n",
    "    day = \"\".join(re.findall(\"^\\w{3} (\\w{3} \\d\\d)\", dfcomm[\"created_at\"]))\n",
    "    year = \"\".join(re.findall(\"^\\w{3}.+(\\d\\d\\d\\d)$\", dfcomm[\"created_at\"]))\n",
    "    return \"Posted by {} on {}, {}\".format(user, day, year)\n",
    "\n",
    "df[\"comment\"] = [formatComment(row) for index, row in df.iterrows()]"
   ]
  },
  {
   "cell_type": "code",
   "execution_count": 17,
   "metadata": {},
   "outputs": [
    {
     "data": {
      "text/html": [
       "<div>\n",
       "<style scoped>\n",
       "    .dataframe tbody tr th:only-of-type {\n",
       "        vertical-align: middle;\n",
       "    }\n",
       "\n",
       "    .dataframe tbody tr th {\n",
       "        vertical-align: top;\n",
       "    }\n",
       "\n",
       "    .dataframe thead th {\n",
       "        text-align: right;\n",
       "    }\n",
       "</style>\n",
       "<table border=\"1\" class=\"dataframe\">\n",
       "  <thead>\n",
       "    <tr style=\"text-align: right;\">\n",
       "      <th></th>\n",
       "      <th>user_screen_name</th>\n",
       "      <th>created_at</th>\n",
       "      <th>comment</th>\n",
       "    </tr>\n",
       "  </thead>\n",
       "  <tbody>\n",
       "    <tr>\n",
       "      <th>0</th>\n",
       "      <td>BensPapa</td>\n",
       "      <td>Tue Jan 08 03:35:00 +0000 2019</td>\n",
       "      <td>Posted by BensPapa on Jan 08, 2019</td>\n",
       "    </tr>\n",
       "    <tr>\n",
       "      <th>1</th>\n",
       "      <td>FlamingoclubFc</td>\n",
       "      <td>Sat Jun 29 08:39:40 +0000 2019</td>\n",
       "      <td>Posted by FlamingoclubFc on Jun 29, 2019</td>\n",
       "    </tr>\n",
       "    <tr>\n",
       "      <th>2</th>\n",
       "      <td>EINFinanceNews</td>\n",
       "      <td>Tue Dec 10 14:00:31 +0000 2019</td>\n",
       "      <td>Posted by EINFinanceNews on Dec 10, 2019</td>\n",
       "    </tr>\n",
       "    <tr>\n",
       "      <th>3</th>\n",
       "      <td>MikeGrunwald</td>\n",
       "      <td>Tue Dec 17 18:43:27 +0000 2019</td>\n",
       "      <td>Posted by MikeGrunwald on Dec 17, 2019</td>\n",
       "    </tr>\n",
       "    <tr>\n",
       "      <th>4</th>\n",
       "      <td>videocrime</td>\n",
       "      <td>Sun Jul 07 07:13:13 +0000 2019</td>\n",
       "      <td>Posted by videocrime on Jul 07, 2019</td>\n",
       "    </tr>\n",
       "    <tr>\n",
       "      <th>...</th>\n",
       "      <td>...</td>\n",
       "      <td>...</td>\n",
       "      <td>...</td>\n",
       "    </tr>\n",
       "    <tr>\n",
       "      <th>9995</th>\n",
       "      <td>shopperann68</td>\n",
       "      <td>Thu Sep 19 01:56:09 +0000 2019</td>\n",
       "      <td>Posted by shopperann68 on Sep 19, 2019</td>\n",
       "    </tr>\n",
       "    <tr>\n",
       "      <th>9996</th>\n",
       "      <td>trevcosi23</td>\n",
       "      <td>Fri Aug 02 22:14:46 +0000 2019</td>\n",
       "      <td>Posted by trevcosi23 on Aug 02, 2019</td>\n",
       "    </tr>\n",
       "    <tr>\n",
       "      <th>9997</th>\n",
       "      <td>EpiphanyEstates</td>\n",
       "      <td>Fri Oct 11 22:53:52 +0000 2019</td>\n",
       "      <td>Posted by EpiphanyEstates on Oct 11, 2019</td>\n",
       "    </tr>\n",
       "    <tr>\n",
       "      <th>9998</th>\n",
       "      <td>MNW_81</td>\n",
       "      <td>Mon May 20 11:34:20 +0000 2019</td>\n",
       "      <td>Posted by MNW_81 on May 20, 2019</td>\n",
       "    </tr>\n",
       "    <tr>\n",
       "      <th>9999</th>\n",
       "      <td>piyushmittal</td>\n",
       "      <td>Mon Aug 26 14:42:08 +0000 2019</td>\n",
       "      <td>Posted by piyushmittal on Aug 26, 2019</td>\n",
       "    </tr>\n",
       "  </tbody>\n",
       "</table>\n",
       "<p>10000 rows × 3 columns</p>\n",
       "</div>"
      ],
      "text/plain": [
       "     user_screen_name                      created_at  \\\n",
       "0            BensPapa  Tue Jan 08 03:35:00 +0000 2019   \n",
       "1      FlamingoclubFc  Sat Jun 29 08:39:40 +0000 2019   \n",
       "2      EINFinanceNews  Tue Dec 10 14:00:31 +0000 2019   \n",
       "3        MikeGrunwald  Tue Dec 17 18:43:27 +0000 2019   \n",
       "4          videocrime  Sun Jul 07 07:13:13 +0000 2019   \n",
       "...               ...                             ...   \n",
       "9995     shopperann68  Thu Sep 19 01:56:09 +0000 2019   \n",
       "9996       trevcosi23  Fri Aug 02 22:14:46 +0000 2019   \n",
       "9997  EpiphanyEstates  Fri Oct 11 22:53:52 +0000 2019   \n",
       "9998           MNW_81  Mon May 20 11:34:20 +0000 2019   \n",
       "9999     piyushmittal  Mon Aug 26 14:42:08 +0000 2019   \n",
       "\n",
       "                                        comment  \n",
       "0            Posted by BensPapa on Jan 08, 2019  \n",
       "1      Posted by FlamingoclubFc on Jun 29, 2019  \n",
       "2      Posted by EINFinanceNews on Dec 10, 2019  \n",
       "3        Posted by MikeGrunwald on Dec 17, 2019  \n",
       "4          Posted by videocrime on Jul 07, 2019  \n",
       "...                                         ...  \n",
       "9995     Posted by shopperann68 on Sep 19, 2019  \n",
       "9996       Posted by trevcosi23 on Aug 02, 2019  \n",
       "9997  Posted by EpiphanyEstates on Oct 11, 2019  \n",
       "9998           Posted by MNW_81 on May 20, 2019  \n",
       "9999     Posted by piyushmittal on Aug 26, 2019  \n",
       "\n",
       "[10000 rows x 3 columns]"
      ]
     },
     "execution_count": 17,
     "metadata": {},
     "output_type": "execute_result"
    }
   ],
   "source": [
    "# Check your answer here. (Do not make any change to this cell. Just run this cell.)\n",
    "df[[\"user_screen_name\", \"created_at\", \"comment\"]]"
   ]
  },
  {
   "cell_type": "markdown",
   "metadata": {},
   "source": [
    "### 9. (3 pts)"
   ]
  },
  {
   "cell_type": "code",
   "execution_count": 18,
   "metadata": {},
   "outputs": [],
   "source": [
    "# Your answer here\n",
    "import nltk\n",
    "def processKeyWords(tupleList):\n",
    "    keywords=list()\n",
    "    for tuple in tupleList:\n",
    "        word = tuple[0]\n",
    "        tag = tuple[1]\n",
    "        if tag.startswith(\"NN\") | tag.startswith(\"JJ\") | tag.startswith(\"VB\") | tag.startswith(\"RB\"):\n",
    "            keywords.append(word)\n",
    "    return keywords\n",
    "    \n",
    "df[\"words\"] = df.text.apply(lambda x: nltk.word_tokenize(x))\n",
    "df[\"tagged_words\"] = df.words.apply(lambda x: nltk.pos_tag(x))\n",
    "df[\"keywords\"] = df.tagged_words.apply(lambda x: processKeyWords(x))"
   ]
  },
  {
   "cell_type": "code",
   "execution_count": 19,
   "metadata": {
    "scrolled": false
   },
   "outputs": [
    {
     "data": {
      "text/html": [
       "<div>\n",
       "<style scoped>\n",
       "    .dataframe tbody tr th:only-of-type {\n",
       "        vertical-align: middle;\n",
       "    }\n",
       "\n",
       "    .dataframe tbody tr th {\n",
       "        vertical-align: top;\n",
       "    }\n",
       "\n",
       "    .dataframe thead th {\n",
       "        text-align: right;\n",
       "    }\n",
       "</style>\n",
       "<table border=\"1\" class=\"dataframe\">\n",
       "  <thead>\n",
       "    <tr style=\"text-align: right;\">\n",
       "      <th></th>\n",
       "      <th>text</th>\n",
       "      <th>keywords</th>\n",
       "    </tr>\n",
       "  </thead>\n",
       "  <tbody>\n",
       "    <tr>\n",
       "      <th>0</th>\n",
       "      <td>On the climate front, looking at low income “rebate” for higher fuel costs. Seems like a cop out to me. Means testi… https://t.co/2quYAPdOYs</td>\n",
       "      <td>[climate, front, looking, low, income, “, rebate, ”, higher, fuel, costs, Seems, cop, Means, testi…, https, //t.co/2quYAPdOYs]</td>\n",
       "    </tr>\n",
       "    <tr>\n",
       "      <th>1</th>\n",
       "      <td>Folks it has been a successful climate change awareness and introduction of the Flamingo  journey in Paris. Merci f… https://t.co/59RyJmcTTZ</td>\n",
       "      <td>[Folks, has, been, successful, climate, change, awareness, introduction, Flamingo, journey, Paris, Merci, f…, https, //t.co/59RyJmcTTZ]</td>\n",
       "    </tr>\n",
       "    <tr>\n",
       "      <th>2</th>\n",
       "      <td>The EU’s New Climate Weapon Is in Financial Fine Print https://t.co/EtxR4MyUg8</td>\n",
       "      <td>[EU, ’, s, New, Climate, Weapon, Is, Financial, Fine, Print, https, //t.co/EtxR4MyUg8]</td>\n",
       "    </tr>\n",
       "    <tr>\n",
       "      <th>3</th>\n",
       "      <td>Bernie or Warren or Kamala could hold up the budget to fight for solar and EVs. But most Democrats are just rhetorical climate warriors.</td>\n",
       "      <td>[Bernie, Warren, Kamala, hold, budget, fight, solar, EVs, most, Democrats, are, just, rhetorical, climate, warriors]</td>\n",
       "    </tr>\n",
       "    <tr>\n",
       "      <th>4</th>\n",
       "      <td>@teenmethuselah In the coming climate wars, someone has to man the still while the menfolk battle over the potable water</td>\n",
       "      <td>[@, teenmethuselah, coming, climate, wars, someone, has, man, still, menfolk, battle, potable, water]</td>\n",
       "    </tr>\n",
       "    <tr>\n",
       "      <th>...</th>\n",
       "      <td>...</td>\n",
       "      <td>...</td>\n",
       "    </tr>\n",
       "    <tr>\n",
       "      <th>9995</th>\n",
       "      <td>Saying Geoengineering technology is \"cheap\" is DECEPTION. The scale of destruction climate engineering has inflicte… https://t.co/3NvF7AmpoE</td>\n",
       "      <td>[Saying, Geoengineering, technology, is, cheap, is, DECEPTION, scale, destruction, climate, engineering, has, inflicte…, https, //t.co/3NvF7AmpoE]</td>\n",
       "    </tr>\n",
       "    <tr>\n",
       "      <th>9996</th>\n",
       "      <td>@HeuristicLineup Well those are still more seasons than SF has. Climate change just makes two of the 4 here in Sac… https://t.co/G56us2URzD</td>\n",
       "      <td>[@, HeuristicLineup, Well, are, still, more, seasons, SF, has, Climate, change, just, makes, here, Sac…, https, //t.co/G56us2URzD]</td>\n",
       "    </tr>\n",
       "    <tr>\n",
       "      <th>9997</th>\n",
       "      <td>The climate change extinction Psychos!! And the remoaners - join forces to join the “ I’m a twat club”</td>\n",
       "      <td>[climate, change, extinction, Psychos, remoaners, join, forces, join, “, ’, m, twat, club, ”]</td>\n",
       "    </tr>\n",
       "    <tr>\n",
       "      <th>9998</th>\n",
       "      <td>@dshekuza ur search for a seat @ a table on youth issues esp on climate change @ environment is admirable. U’ve bee… https://t.co/kPsS2zHcqg</td>\n",
       "      <td>[@, dshekuza, ur, search, seat, @, table, youth, issues, esp, climate, change, @, environment, is, admirable, U, ’, ve, bee…, https, //t.co/kPsS2z...</td>\n",
       "    </tr>\n",
       "    <tr>\n",
       "      <th>9999</th>\n",
       "      <td>Trump fiddles as climate change ravages the world https://t.co/NDWb1lTMsb</td>\n",
       "      <td>[Trump, fiddles, climate, change, ravages, world, https, //t.co/NDWb1lTMsb]</td>\n",
       "    </tr>\n",
       "  </tbody>\n",
       "</table>\n",
       "<p>10000 rows × 2 columns</p>\n",
       "</div>"
      ],
      "text/plain": [
       "                                                                                                                                              text  \\\n",
       "0     On the climate front, looking at low income “rebate” for higher fuel costs. Seems like a cop out to me. Means testi… https://t.co/2quYAPdOYs   \n",
       "1     Folks it has been a successful climate change awareness and introduction of the Flamingo  journey in Paris. Merci f… https://t.co/59RyJmcTTZ   \n",
       "2                                                                   The EU’s New Climate Weapon Is in Financial Fine Print https://t.co/EtxR4MyUg8   \n",
       "3         Bernie or Warren or Kamala could hold up the budget to fight for solar and EVs. But most Democrats are just rhetorical climate warriors.   \n",
       "4                         @teenmethuselah In the coming climate wars, someone has to man the still while the menfolk battle over the potable water   \n",
       "...                                                                                                                                            ...   \n",
       "9995  Saying Geoengineering technology is \"cheap\" is DECEPTION. The scale of destruction climate engineering has inflicte… https://t.co/3NvF7AmpoE   \n",
       "9996   @HeuristicLineup Well those are still more seasons than SF has. Climate change just makes two of the 4 here in Sac… https://t.co/G56us2URzD   \n",
       "9997                                        The climate change extinction Psychos!! And the remoaners - join forces to join the “ I’m a twat club”   \n",
       "9998  @dshekuza ur search for a seat @ a table on youth issues esp on climate change @ environment is admirable. U’ve bee… https://t.co/kPsS2zHcqg   \n",
       "9999                                                                     Trump fiddles as climate change ravages the world https://t.co/NDWb1lTMsb   \n",
       "\n",
       "                                                                                                                                                   keywords  \n",
       "0                            [climate, front, looking, low, income, “, rebate, ”, higher, fuel, costs, Seems, cop, Means, testi…, https, //t.co/2quYAPdOYs]  \n",
       "1                   [Folks, has, been, successful, climate, change, awareness, introduction, Flamingo, journey, Paris, Merci, f…, https, //t.co/59RyJmcTTZ]  \n",
       "2                                                                    [EU, ’, s, New, Climate, Weapon, Is, Financial, Fine, Print, https, //t.co/EtxR4MyUg8]  \n",
       "3                                      [Bernie, Warren, Kamala, hold, budget, fight, solar, EVs, most, Democrats, are, just, rhetorical, climate, warriors]  \n",
       "4                                                     [@, teenmethuselah, coming, climate, wars, someone, has, man, still, menfolk, battle, potable, water]  \n",
       "...                                                                                                                                                     ...  \n",
       "9995     [Saying, Geoengineering, technology, is, cheap, is, DECEPTION, scale, destruction, climate, engineering, has, inflicte…, https, //t.co/3NvF7AmpoE]  \n",
       "9996                     [@, HeuristicLineup, Well, are, still, more, seasons, SF, has, Climate, change, just, makes, here, Sac…, https, //t.co/G56us2URzD]  \n",
       "9997                                                          [climate, change, extinction, Psychos, remoaners, join, forces, join, “, ’, m, twat, club, ”]  \n",
       "9998  [@, dshekuza, ur, search, seat, @, table, youth, issues, esp, climate, change, @, environment, is, admirable, U, ’, ve, bee…, https, //t.co/kPsS2z...  \n",
       "9999                                                                            [Trump, fiddles, climate, change, ravages, world, https, //t.co/NDWb1lTMsb]  \n",
       "\n",
       "[10000 rows x 2 columns]"
      ]
     },
     "execution_count": 19,
     "metadata": {},
     "output_type": "execute_result"
    }
   ],
   "source": [
    "# Check your answer here. (Do not make any change to this cell. Just run this cell.)\n",
    "df[[\"text\", \"keywords\"]]"
   ]
  },
  {
   "cell_type": "markdown",
   "metadata": {},
   "source": [
    "### 10. (2 pts)"
   ]
  },
  {
   "cell_type": "code",
   "execution_count": 20,
   "metadata": {
    "scrolled": true
   },
   "outputs": [
    {
     "data": {
      "text/plain": [
       "[('@aoc', 153),\n",
       " ('@realdonaldtrump', 139),\n",
       " ('@gretathunberg', 136),\n",
       " ('@berniesanders', 53),\n",
       " ('@youtube', 47),\n",
       " ('@cnn', 35),\n",
       " ('@jayinslee', 28),\n",
       " ('@borisjohnson', 26),\n",
       " ('@thehill', 25),\n",
       " ('@gop', 23),\n",
       " ('@ewarren', 23),\n",
       " ('@justintrudeau', 20),\n",
       " ('@cathmckenna', 19),\n",
       " ('@breitbartnews', 19),\n",
       " ('@kamalaharris', 18),\n",
       " ('@ilhanmn', 18),\n",
       " ('@speakerpelosi', 18),\n",
       " ('@channel4news', 15),\n",
       " ('@scottmorrisonmp', 15),\n",
       " ('@johncornyn', 15),\n",
       " ('@sensanders', 15),\n",
       " ('@andrewyang', 14),\n",
       " ('@nytimes', 14),\n",
       " ('@potus', 14),\n",
       " ('@ukchange', 14),\n",
       " ('@maximebernier', 14),\n",
       " ('@extinctionr', 13),\n",
       " ('@andrewscheer', 13),\n",
       " ('@juliahb1', 12),\n",
       " ('@skynews', 11),\n",
       " ('@nbcnews', 11),\n",
       " ('@bbcnews', 11),\n",
       " ('@un', 11),\n",
       " ('@senschumer', 11),\n",
       " ('@washingtonpost', 10),\n",
       " ('@jeremycorbyn', 10),\n",
       " ('@gavinnewsom', 10),\n",
       " ('@abcnews', 10),\n",
       " ('@petebuttigieg', 10),\n",
       " ('@senfeinstein', 10),\n",
       " ('@vapaavuori', 10),\n",
       " ('@marvinjrees', 10),\n",
       " ('@brunocovas', 10),\n",
       " ('@mayordanplato', 10),\n",
       " ('@abc', 10),\n",
       " ('@lbc', 9),\n",
       " ('@thenation', 9),\n",
       " ('@repadamschiff', 9),\n",
       " ('@elonmusk', 9),\n",
       " ('@joebiden', 9)]"
      ]
     },
     "execution_count": 20,
     "metadata": {},
     "output_type": "execute_result"
    }
   ],
   "source": [
    "# Your answer here\n",
    "from collections import Counter\n",
    "df[\"mentions\"] = df.text.apply(lambda x: re.findall(\"@\\w+\",x))\n",
    "\n",
    "counter = Counter()\n",
    "counteritems = list()\n",
    "for idx, items in df.mentions.iteritems():\n",
    "    counteritems.extend([item.lower() for item in items])\n",
    "counter.update(counteritems)\n",
    "counter.most_common(50)"
   ]
  },
  {
   "cell_type": "markdown",
   "metadata": {},
   "source": [
    "### 11. (3 pts)"
   ]
  },
  {
   "cell_type": "code",
   "execution_count": 21,
   "metadata": {},
   "outputs": [],
   "source": [
    "# Your answer here\n",
    "import random\n",
    "import string\n",
    "with open(\"outcome/test1_output.csv\", mode=\"w\") as fw:\n",
    "    fw.write(\"sid/sequence\\n\")\n",
    "    for i in range(3000):\n",
    "        sid = \"s\"+\"\".join([random.choice(string.digits) for i in range(5)])\n",
    "        seq = \"\".join([random.choice(\"ACTG\") for i in range(30)])\n",
    "        fw.write(\"{}/{}\\n\".format(sid,seq))\n",
    "        \n",
    "        \n",
    "        \n",
    "        "
   ]
  },
  {
   "cell_type": "code",
   "execution_count": 22,
   "metadata": {},
   "outputs": [
    {
     "data": {
      "text/plain": [
       "True"
      ]
     },
     "execution_count": 22,
     "metadata": {},
     "output_type": "execute_result"
    }
   ],
   "source": [
    "# Check your answer here. (Do not make any change to this cell. Just run this cell.)\n",
    "import os\n",
    "os.path.isfile(\"outcome/test1_output.csv\")     # Expected output: True"
   ]
  },
  {
   "cell_type": "markdown",
   "metadata": {},
   "source": [
    "## * Make sure to Restart & Run All to create a clean version of this notebook!"
   ]
  }
 ],
 "metadata": {
  "kernelspec": {
   "display_name": "Python 3",
   "language": "python",
   "name": "python3"
  },
  "language_info": {
   "codemirror_mode": {
    "name": "ipython",
    "version": 3
   },
   "file_extension": ".py",
   "mimetype": "text/x-python",
   "name": "python",
   "nbconvert_exporter": "python",
   "pygments_lexer": "ipython3",
   "version": "3.7.5"
  }
 },
 "nbformat": 4,
 "nbformat_minor": 2
}
