{
 "cells": [
  {
   "cell_type": "markdown",
   "metadata": {},
   "source": [
    "# Text Analytics | BAIS:6100\n",
    "# Module 11: Keyword Network Analysis"
   ]
  },
  {
   "cell_type": "markdown",
   "metadata": {},
   "source": [
    "Instructor: Kang-Pyo Lee "
   ]
  },
  {
   "cell_type": "code",
   "execution_count": null,
   "metadata": {},
   "outputs": [],
   "source": [
    "# ! pip install --user --upgrade matplotlib networkx"
   ]
  },
  {
   "cell_type": "code",
   "execution_count": null,
   "metadata": {},
   "outputs": [],
   "source": [
    "screen_name = \"cnnbrk\""
   ]
  },
  {
   "cell_type": "code",
   "execution_count": null,
   "metadata": {},
   "outputs": [],
   "source": [
    "import pandas as pd\n",
    "pd.set_option('display.max_colwidth', 150)\n",
    "\n",
    "df = pd.read_csv(\"classdata/tweets/timeline_{}.csv\".format(screen_name), sep=\"\\t\")\n",
    "df"
   ]
  },
  {
   "cell_type": "code",
   "execution_count": null,
   "metadata": {},
   "outputs": [],
   "source": [
    "from IPython.display import Image\n",
    "Image(\"classdata/images/keyword_network.png\")"
   ]
  },
  {
   "cell_type": "markdown",
   "metadata": {},
   "source": [
    "## Step 1: Calculate keyword frequencies and keyword co-occurrence frequencies"
   ]
  },
  {
   "cell_type": "markdown",
   "metadata": {},
   "source": [
    "The keyword frequencies will be used as the node weights and the keyword co-occurrence frequencies as the edge weights. "
   ]
  },
  {
   "cell_type": "code",
   "execution_count": null,
   "metadata": {},
   "outputs": [],
   "source": [
    "import nltk\n",
    "\n",
    "df[\"words\"] = df.text.apply(lambda x: nltk.word_tokenize(x))\n",
    "df[[\"text\", \"words\"]]"
   ]
  },
  {
   "cell_type": "code",
   "execution_count": null,
   "metadata": {},
   "outputs": [],
   "source": [
    "from nltk.corpus import stopwords\n",
    "import string\n",
    "\n",
    "global_stopwords = stopwords.words(\"english\")\n",
    "local_stopwords = [c for c in string.punctuation] +\\\n",
    "                  ['’', '``', '…', '...', \"''\", '‘', '“', '”', \"....\", \"'m\", \"'re\", \"'s\", \"'ve\", \n",
    "                   'amp', 'https', \"n't\", 'rt', 'a…', 'co', 'i…', 't…']"
   ]
  },
  {
   "cell_type": "code",
   "execution_count": null,
   "metadata": {},
   "outputs": [],
   "source": [
    "from collections import Counter\n",
    "\n",
    "###################################################################################\n",
    "# The 'counter' object will have all the word count information. \n",
    "# The 'co_counter' object will have all the co-occurrence count information.\n",
    "###################################################################################\n",
    "counter = Counter()\n",
    "co_counter = dict()\n",
    "\n",
    "for l in df.words:\n",
    "    word_set = set()\n",
    "    \n",
    "    for item in l:\n",
    "        word = item.lower()\n",
    "        \n",
    "        if word not in (global_stopwords + local_stopwords):\n",
    "            word_set.add(word)\n",
    "\n",
    "    counter.update(word_set)\n",
    "    \n",
    "    ###################################################################################\n",
    "    # Calculate co-occurrence count of two words and save it in 'co_counter'.\n",
    "    # Co_counter is a dictionary of dictionaries.\n",
    "    ###################################################################################\n",
    "    words = list(word_set)\n",
    "    for word1 in words:\n",
    "        if word1 not in co_counter:\n",
    "            co_counter[word1] = dict()\n",
    "        \n",
    "        for word2 in words:\n",
    "            ######################################\n",
    "            # Skip if the two words are the same.\n",
    "            ######################################\n",
    "            if word1 == word2:\n",
    "                continue\n",
    "            \n",
    "            if word2 not in co_counter[word1]:\n",
    "                co_counter[word1][word2] = 1\n",
    "            else:\n",
    "                co_counter[word1][word2] += 1"
   ]
  },
  {
   "cell_type": "code",
   "execution_count": null,
   "metadata": {},
   "outputs": [],
   "source": [
    "counter.most_common(30)"
   ]
  },
  {
   "cell_type": "code",
   "execution_count": null,
   "metadata": {},
   "outputs": [],
   "source": [
    "co_counter[\"biden\"][\"trump\"], co_counter[\"trump\"][\"biden\"]"
   ]
  },
  {
   "cell_type": "markdown",
   "metadata": {},
   "source": [
    "The co-occurrence frequency of two keywords is symmetric. "
   ]
  },
  {
   "cell_type": "markdown",
   "metadata": {},
   "source": [
    "## Step 2: Create a graph object"
   ]
  },
  {
   "cell_type": "code",
   "execution_count": null,
   "metadata": {},
   "outputs": [],
   "source": [
    "import networkx as nx\n",
    "\n",
    "G = nx.Graph()"
   ]
  },
  {
   "cell_type": "markdown",
   "metadata": {},
   "source": [
    "networkx.Graph: https://networkx.github.io/documentation/stable/reference/classes/graph.html"
   ]
  },
  {
   "cell_type": "markdown",
   "metadata": {},
   "source": [
    "## Step 3: Decide the number of nodes in the graph "
   ]
  },
  {
   "cell_type": "code",
   "execution_count": null,
   "metadata": {},
   "outputs": [],
   "source": [
    "num_nodes = 30"
   ]
  },
  {
   "cell_type": "markdown",
   "metadata": {},
   "source": [
    "Recall that nodes correspond to keywords. "
   ]
  },
  {
   "cell_type": "markdown",
   "metadata": {},
   "source": [
    "## Step 4: Define nodes and their weights for network visualization "
   ]
  },
  {
   "cell_type": "code",
   "execution_count": null,
   "metadata": {},
   "outputs": [],
   "source": [
    "nodes = [item[0] for item in counter.most_common(num_nodes)]\n",
    "node_weights = [item[1] * 10 for item in counter.most_common(num_nodes)]"
   ]
  },
  {
   "cell_type": "markdown",
   "metadata": {},
   "source": [
    "Let's take the 30 most common keywords as nodes and their frequencies as node weights. The node weights, represented later in the form of node size of a graph, need to be adjusted by being multiplied by 10 for better visualization. "
   ]
  },
  {
   "cell_type": "markdown",
   "metadata": {},
   "source": [
    "## Step 5: Add nodes to the graph"
   ]
  },
  {
   "cell_type": "code",
   "execution_count": null,
   "metadata": {},
   "outputs": [],
   "source": [
    "for word in nodes:\n",
    "    G.add_node(word, weight=counter.get(word))"
   ]
  },
  {
   "cell_type": "markdown",
   "metadata": {},
   "source": [
    "networkx.Graph.add_node: https://networkx.github.io/documentation/stable/reference/classes/generated/networkx.Graph.add_node.html"
   ]
  },
  {
   "cell_type": "markdown",
   "metadata": {},
   "source": [
    "Add each node to `G`, such that the `weight` parameter is set to the keyword frequency. "
   ]
  },
  {
   "cell_type": "code",
   "execution_count": null,
   "metadata": {},
   "outputs": [],
   "source": [
    "G.nodes.data()     # Check what nodes there are in G"
   ]
  },
  {
   "cell_type": "markdown",
   "metadata": {},
   "source": [
    "networkx.Graph.nodes: https://networkx.github.io/documentation/stable/reference/classes/generated/networkx.Graph.nodes.html"
   ]
  },
  {
   "cell_type": "markdown",
   "metadata": {},
   "source": [
    "## Step 6: Add edges to the graph"
   ]
  },
  {
   "cell_type": "code",
   "execution_count": null,
   "metadata": {},
   "outputs": [],
   "source": [
    "for word1 in nodes:\n",
    "    for word2 in nodes:\n",
    "        if (word1 != word2) & (word2 in co_counter[word1]):\n",
    "            G.add_edge(word1, word2, weight=co_counter[word1][word2])"
   ]
  },
  {
   "cell_type": "markdown",
   "metadata": {},
   "source": [
    "networkx.Graph.add_edge: https://networkx.github.io/documentation/stable/reference/classes/generated/networkx.Graph.add_edge.html"
   ]
  },
  {
   "cell_type": "markdown",
   "metadata": {},
   "source": [
    "For each pair of keywords in `nodes`, add an edge to `G`, such that the `weight` parameter is set to the co-occurrence frequency. Recall that an edge between two nodes represents the co-occurrence of the two keywords in the same document and that the weight of the edge is the co-occurrence frequency. "
   ]
  },
  {
   "cell_type": "code",
   "execution_count": null,
   "metadata": {},
   "outputs": [],
   "source": [
    "G.edges.data()     # Check what edges there are in G"
   ]
  },
  {
   "cell_type": "markdown",
   "metadata": {},
   "source": [
    "networkx.Graph.edges: https://networkx.github.io/documentation/stable/reference/classes/generated/networkx.Graph.edges.html"
   ]
  },
  {
   "cell_type": "markdown",
   "metadata": {},
   "source": [
    "## Step 7: Define edges and their weights for network visualization "
   ]
  },
  {
   "cell_type": "code",
   "execution_count": null,
   "metadata": {
    "scrolled": true
   },
   "outputs": [],
   "source": [
    "edges = nx.get_edge_attributes(G, \"weight\").keys()\n",
    "edges"
   ]
  },
  {
   "cell_type": "markdown",
   "metadata": {},
   "source": [
    "networkx.classes.function.get_edge_attributes: https://networkx.github.io/documentation/stable/reference/generated/networkx.classes.function.get_edge_attributes.html"
   ]
  },
  {
   "cell_type": "code",
   "execution_count": null,
   "metadata": {},
   "outputs": [],
   "source": [
    "edge_weights = nx.get_edge_attributes(G, \"weight\").values()\n",
    "edge_weights"
   ]
  },
  {
   "cell_type": "code",
   "execution_count": null,
   "metadata": {},
   "outputs": [],
   "source": [
    "edge_weights = [item / 10 for item in edge_weights]\n",
    "edge_weights"
   ]
  },
  {
   "cell_type": "markdown",
   "metadata": {},
   "source": [
    "The edge weights, represented later in the form of edge thickness of a graph, need to be adjusted by being divided by 10 for better visualization. "
   ]
  },
  {
   "cell_type": "markdown",
   "metadata": {},
   "source": [
    "## Step 8: Plot the graph"
   ]
  },
  {
   "cell_type": "markdown",
   "metadata": {},
   "source": [
    "Types of layouts\n",
    "- circular\n",
    "- random\n",
    "- spectral\n",
    "- spring\n",
    "- shell"
   ]
  },
  {
   "cell_type": "code",
   "execution_count": null,
   "metadata": {},
   "outputs": [],
   "source": [
    "from matplotlib import pyplot as plt"
   ]
  },
  {
   "cell_type": "code",
   "execution_count": null,
   "metadata": {
    "scrolled": false
   },
   "outputs": [],
   "source": [
    "plt.figure(figsize=(10, 10))\n",
    "nx.draw_networkx(G, pos=nx.circular_layout(G), \n",
    "                 nodelist=nodes, node_size=node_weights, edgelist=edges, width=edge_weights,\n",
    "                 node_color=\"yellow\", with_labels=True, font_size=10)\n",
    "plt.draw()"
   ]
  },
  {
   "cell_type": "markdown",
   "metadata": {},
   "source": [
    "networkx.drawing.nx_pylab.draw_networkx: https://networkx.github.io/documentation/stable/reference/generated/networkx.drawing.nx_pylab.draw_networkx.html"
   ]
  },
  {
   "cell_type": "markdown",
   "metadata": {},
   "source": [
    "As node size represents keyword frequency, larger nodes mean that the keywords for those nodes are used more frequently. Likewise, as edge thickness represents co-occurrence frequency, thicker edges mean that the two keywords connected by those edges appear in the same documents, or tweets, more frequently."
   ]
  },
  {
   "cell_type": "code",
   "execution_count": null,
   "metadata": {},
   "outputs": [],
   "source": [
    "plt.figure(figsize=(10, 10))\n",
    "nx.draw_networkx(G, pos=nx.random_layout(G, seed=0), \n",
    "                 nodelist=nodes, node_size=node_weights, edgelist=edges, width=edge_weights,\n",
    "                 node_color=\"yellow\", with_labels=True, font_size=10)\n",
    "plt.draw()"
   ]
  },
  {
   "cell_type": "code",
   "execution_count": null,
   "metadata": {},
   "outputs": [],
   "source": [
    "plt.figure(figsize=(10, 10))\n",
    "nx.draw_networkx(G, pos=nx.spring_layout(G), \n",
    "                 nodelist=nodes, node_size=node_weights, edgelist=edges, width=edge_weights,\n",
    "                 node_color=\"yellow\", with_labels=True, font_size=10)\n",
    "plt.draw()"
   ]
  },
  {
   "cell_type": "markdown",
   "metadata": {},
   "source": [
    "The spring layout uses an algorithm to arrange closely related nodes such that they are close to one another.  "
   ]
  },
  {
   "cell_type": "markdown",
   "metadata": {},
   "source": [
    "## Exercises - Keyword Network Analysis"
   ]
  }
 ],
 "metadata": {
  "kernelspec": {
   "display_name": "Python 3",
   "language": "python",
   "name": "python3"
  },
  "language_info": {
   "codemirror_mode": {
    "name": "ipython",
    "version": 3
   },
   "file_extension": ".py",
   "mimetype": "text/x-python",
   "name": "python",
   "nbconvert_exporter": "python",
   "pygments_lexer": "ipython3",
   "version": "3.7.5"
  }
 },
 "nbformat": 4,
 "nbformat_minor": 2
}
