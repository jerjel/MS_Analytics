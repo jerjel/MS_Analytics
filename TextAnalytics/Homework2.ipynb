{
 "cells": [
  {
   "cell_type": "markdown",
   "metadata": {},
   "source": [
    "# Text Analytics | BAIS:6100\n",
    "# Homework 2. Python Basics for Text Processing Part 2"
   ]
  },
  {
   "cell_type": "markdown",
   "metadata": {},
   "source": [
    "13 questions, 7 points in total"
   ]
  },
  {
   "cell_type": "markdown",
   "metadata": {},
   "source": [
    "## Instructions"
   ]
  },
  {
   "cell_type": "markdown",
   "metadata": {},
   "source": [
    "- Fill in the Python statements needed to complete all the questions below. \n",
    "- Program everything inside this notebook. \n",
    "- Use only one cell per question. \n",
    "- Each code cell must be run with no errors.\n",
    "- Do not contain any unnecessary code in your answer. (Only the final outcome will be regarded as your answer.)\n",
    "- If the question requests that you store information in a certain variable, use the specific variables name (case sensitive).\n",
    "- All problems must be solved in a programmable way.\n",
    "- When you are done, make sure to save your notebook and then click Restart & Run All before subimission to create a clean version."
   ]
  },
  {
   "cell_type": "markdown",
   "metadata": {},
   "source": [
    "## Questions"
   ]
  },
  {
   "cell_type": "markdown",
   "metadata": {},
   "source": [
    "Import the two packages <b>random</b> and <b>string</b>. Copy-and-paste the `generate_random_string` function to reuse it. "
   ]
  },
  {
   "cell_type": "code",
   "execution_count": null,
   "metadata": {},
   "outputs": [],
   "source": [
    "# Your answer here\n"
   ]
  },
  {
   "cell_type": "markdown",
   "metadata": {},
   "source": [
    "1\\. (0.5 pts) Create a new file `hw1_output.csv` in the `outcome` folder. The first row in the file contains two column names `rid` and `num`. The following 1000 rows contain the following two column values: the first column has row IDs ranging from 1 to 1000 and the second column has strings of 5-10 random digits. Rows are separated by a new line and columns by a comma. For example, the first five rows in the file look as below. (Be aware that the numbers below should be different than yours as they were randomly generated.) "
   ]
  },
  {
   "cell_type": "raw",
   "metadata": {},
   "source": [
    "rid,num\n",
    "1,5494572\n",
    "2,17654\n",
    "3,1196825\n",
    "4,05998"
   ]
  },
  {
   "cell_type": "code",
   "execution_count": null,
   "metadata": {},
   "outputs": [],
   "source": [
    "# Your answer here\n"
   ]
  },
  {
   "cell_type": "code",
   "execution_count": null,
   "metadata": {},
   "outputs": [],
   "source": [
    "# Check your answer here. (Do not make any change to this cell. Just run this cell.)\n",
    "import os\n",
    "os.path.isfile(\"outcome/hw1_output.csv\")     # Expected output: True"
   ]
  },
  {
   "cell_type": "markdown",
   "metadata": {},
   "source": [
    "Dictionary `d` simply maps each digit character to a puncutation character."
   ]
  },
  {
   "cell_type": "code",
   "execution_count": null,
   "metadata": {},
   "outputs": [],
   "source": [
    "# Make sure to run this cell.\n",
    "d = {\n",
    "    \"1\": \"!\",\n",
    "    \"2\": \"@\", \n",
    "    \"3\": \"#\",\n",
    "    \"4\": \"$\",\n",
    "    \"5\": \"%\",\n",
    "    \"6\": \"^\",\n",
    "    \"7\": \"&\",\n",
    "    \"8\": \"*\",\n",
    "    \"9\": \"(\",\n",
    "    \"0\": \")\", \n",
    "}"
   ]
  },
  {
   "cell_type": "markdown",
   "metadata": {},
   "source": [
    "2\\. (0.7 pts) Create another file `hw1_output2.csv` in the `outcome` folder. The first row in the file contains three column names `rid`, `num`, and `code`. The following 1000 rows contain the following three column values: the first column has the same row IDs as above, the second column has strings of random digits with the same rule as above, and the third column has code strings, each character of which is the value for the key in the dictionary `d`. For example, if the random string of digits is '3164482864', its corresponding code string is '#!^\\$\\$\\*@\\*^$', as '3' is mapped to '#', '1' is to '!', so on and so forth. Rows are separated by a new line and columns by a comma. For example, the first five rows in the file look as below. (Be aware that the numbers and strings below should be different than yours as they were randomly generated.) "
   ]
  },
  {
   "cell_type": "raw",
   "metadata": {},
   "source": [
    "rid,num,code\n",
    "1,3164482864,#!^$$*@*^$\n",
    "2,2233297733,@@##@(&&##\n",
    "3,7713718,&&!#&!*\n",
    "4,373982531,#&#(*@%#!"
   ]
  },
  {
   "cell_type": "code",
   "execution_count": null,
   "metadata": {},
   "outputs": [],
   "source": [
    "# Your answer here\n"
   ]
  },
  {
   "cell_type": "code",
   "execution_count": null,
   "metadata": {},
   "outputs": [],
   "source": [
    "# Check your answer here. (Do not make any change to this cell. Just run this cell.)\n",
    "os.path.isfile(\"outcome/hw1_output2.csv\")     # Expected output: True"
   ]
  },
  {
   "cell_type": "markdown",
   "metadata": {},
   "source": [
    "<hr>"
   ]
  },
  {
   "cell_type": "markdown",
   "metadata": {},
   "source": [
    "Import the <b>Pandas</b> package and set the max column width to 150. "
   ]
  },
  {
   "cell_type": "code",
   "execution_count": null,
   "metadata": {},
   "outputs": [],
   "source": [
    "# Your answer here\n"
   ]
  },
  {
   "cell_type": "markdown",
   "metadata": {},
   "source": [
    "3\\. (0.5 pts) Read the `timeline_UN.csv` file in the `classdata/tweets` folder into a Pandas dataframe `df`.   "
   ]
  },
  {
   "cell_type": "code",
   "execution_count": null,
   "metadata": {},
   "outputs": [],
   "source": [
    "# Your answer here\n"
   ]
  },
  {
   "cell_type": "code",
   "execution_count": null,
   "metadata": {},
   "outputs": [],
   "source": [
    "# Check your answer here. (Do not make any change to this cell. Just run this cell.)\n",
    "df"
   ]
  },
  {
   "cell_type": "markdown",
   "metadata": {},
   "source": [
    "4\\. (0.5 pts) Select from `df` the element at row index position 100 and in the `created_at` column and then save it in the variable `ans4`."
   ]
  },
  {
   "cell_type": "code",
   "execution_count": null,
   "metadata": {},
   "outputs": [],
   "source": [
    "# Your answer here\n"
   ]
  },
  {
   "cell_type": "code",
   "execution_count": null,
   "metadata": {},
   "outputs": [],
   "source": [
    "# Check your answer here. (Do not make any change to this cell. Just run this cell.)\n",
    "ans4"
   ]
  },
  {
   "cell_type": "markdown",
   "metadata": {},
   "source": [
    "5\\. (0.5 pts) Select, from `df`, all rows with its `is_retweet` column value being 0 and then, from the selected dataframe, create a random sample of 10 rows without duplicates. Set `random_state` to 0 when sampling. Save the final dataframe in the variable `ans5`."
   ]
  },
  {
   "cell_type": "code",
   "execution_count": null,
   "metadata": {},
   "outputs": [],
   "source": [
    "# Your answer here\n"
   ]
  },
  {
   "cell_type": "code",
   "execution_count": null,
   "metadata": {},
   "outputs": [],
   "source": [
    "# Check your answer here. (Do not make any change to this cell. Just run this cell.)\n",
    "ans5"
   ]
  },
  {
   "cell_type": "markdown",
   "metadata": {},
   "source": [
    "6\\. (0.5 pts) Select the first 30 values from the `created_at` column of `df` and print only the HH:MM:SS part of each value, where H denotes each digit in an hour, M each digit in a minute, and S each digit in a second. Rows in the printed output are separated by a new line. For example, the first three rows in the printed output must look as follows."
   ]
  },
  {
   "cell_type": "raw",
   "metadata": {},
   "source": [
    "22:07:48\n",
    "21:06:21\n",
    "20:05:00"
   ]
  },
  {
   "cell_type": "code",
   "execution_count": null,
   "metadata": {},
   "outputs": [],
   "source": [
    "# Your answer here\n"
   ]
  },
  {
   "cell_type": "markdown",
   "metadata": {},
   "source": [
    "7\\. (0.5 pts) Select the first 30 rows from `df` and print the values of each row in the following format: '\\[TYPE\\]  TEXT' where TYPE is either '*Tweet*' if the `is_retweet` column value equals 0 or '*Retweet*' if 1, and TEXT is the `text` column value. Rows are separated by two new lines. For example, the printed output for the first seven rows must look as follows."
   ]
  },
  {
   "cell_type": "raw",
   "metadata": {},
   "source": [
    "[Retweet] RT @WFP: Famine feeds on:🌪️ #ClimateChange🌀  Chaos💥 ConflictCOVID-19 has compounded existing issues and pushed millions of people to t…\n",
    "\n",
    "[Retweet] RT @UNReliefChief: Our best chance of getting ahead of this virus now is if all wealthy nations, especially those with multiple deals with…\n",
    "\n",
    "[Tweet] 🌳 Forest &amp; land conservation☀ Renewable energy🌾 Climate-friendly farming techniques👷‍♀️ Green businesses &amp; jobs… https://t.co/698QTIsN0S\n",
    "\n",
    "[Retweet] RT @Refugees: 2020 was a record low for refugee resettlement.We urge States to offer more resettlement places and help save lives of refu…\n",
    "\n",
    "[Retweet] RT @UNICEF: “The very little we know about the impact of the conflict on children in Tigray is deeply troubling. @unicefchief To reach f…\n",
    "\n",
    "[Tweet] On Wednesday's #HolocaustRemembranceDay we honour the memory of the six million Jews &amp; millions of others who peris… https://t.co/lxdxEKGDEk\n",
    "\n",
    "[Retweet] RT @mbachelet: On this day, we are reminded of the horror to which hatred and lies can lead.Words have consequences.We need to ensure t…\n"
   ]
  },
  {
   "cell_type": "code",
   "execution_count": null,
   "metadata": {
    "scrolled": false
   },
   "outputs": [],
   "source": [
    "# Your answer here\n"
   ]
  },
  {
   "cell_type": "markdown",
   "metadata": {},
   "source": [
    "8\\. (0.5 pts) Add a new column `num_tokens` to `df` such that each value in the column is the number tokens of the `text` column value. (Use the <b>split</b> method to get a list of tokens of a string).  "
   ]
  },
  {
   "cell_type": "code",
   "execution_count": null,
   "metadata": {},
   "outputs": [],
   "source": [
    "# Your answer here\n"
   ]
  },
  {
   "cell_type": "code",
   "execution_count": null,
   "metadata": {},
   "outputs": [],
   "source": [
    "# Check your answer here. (Do not make any change to this cell. Just run this cell.)\n",
    "df[[\"text\", \"num_tokens\"]]"
   ]
  },
  {
   "cell_type": "markdown",
   "metadata": {},
   "source": [
    "9\\. (0.7 pts) Add a new column `text_date` to `df` such that each column value is a string in the format 'TEXT \\[posted on b DD, YYYY\\]', where TEXT is the first 50 characters of the `text` column value concatenated by '...', b denotes the the abbreviated month name such as Jan and Feb, D denotes each digit in a day, and Y denotes each digit in a year, all of which come from the `created_at` column value. For example, the first and last values in the new column must look as below, respectively. You may need to define a user-created function to add the new column.   "
   ]
  },
  {
   "cell_type": "raw",
   "metadata": {},
   "source": [
    "RT @WFP: Famine feeds on:🌪️ #ClimateChange🌀 Chaos... [posted on Jan 27, 2021]"
   ]
  },
  {
   "cell_type": "raw",
   "metadata": {},
   "source": [
    "RT @Refugees: On #WorldRefugeeDay, we celebrate an... [posted on Jun 20, 2020]"
   ]
  },
  {
   "cell_type": "code",
   "execution_count": null,
   "metadata": {},
   "outputs": [],
   "source": [
    "# Your answer here\n"
   ]
  },
  {
   "cell_type": "code",
   "execution_count": null,
   "metadata": {},
   "outputs": [],
   "source": [
    "# Check your answer here. (Do not make any change to this cell. Just run this cell.)\n",
    "df[[\"text\", \"text_date\"]]"
   ]
  },
  {
   "cell_type": "markdown",
   "metadata": {},
   "source": [
    "10\\. (0.5 pts) Add a new column `mention_covid` to `df` such that each column value is either True if the `text` column value contains the word '*covid*' (case-insensitive) or False otherwise. For example, the first value in the new column must be True, as the text does contain the word '*covid*', whereas the second value must be False, as the text does not have the word.  "
   ]
  },
  {
   "cell_type": "code",
   "execution_count": null,
   "metadata": {},
   "outputs": [],
   "source": [
    "# Your answer here\n"
   ]
  },
  {
   "cell_type": "code",
   "execution_count": null,
   "metadata": {},
   "outputs": [],
   "source": [
    "# Check your answer here. (Do not make any change to this cell. Just run this cell.)\n",
    "df[[\"text\", \"mention_covid\"]]"
   ]
  },
  {
   "cell_type": "markdown",
   "metadata": {},
   "source": [
    "<hr>"
   ]
  },
  {
   "cell_type": "markdown",
   "metadata": {},
   "source": [
    "Import the <b>re</b> package to use regular expressions. "
   ]
  },
  {
   "cell_type": "code",
   "execution_count": null,
   "metadata": {},
   "outputs": [],
   "source": [
    "# Your answer here\n"
   ]
  },
  {
   "cell_type": "markdown",
   "metadata": {},
   "source": [
    "String `html` contains some HTML code. "
   ]
  },
  {
   "cell_type": "code",
   "execution_count": null,
   "metadata": {},
   "outputs": [],
   "source": [
    "# Make sure to run this cell.\n",
    "html = '<!DOCTYPE html><html><body><h2>HTML Images</h2><p>HTML images are defined with the img tag:</p><img src=\"w3schools.jpg\" alt=\"W3Schools.com\" width=\"104\" height=\"142\"></body></html>'\n",
    "html"
   ]
  },
  {
   "cell_type": "markdown",
   "metadata": {},
   "source": [
    "11\\. (0.5 pts) An HTML element starts with the `<html>` tag and ends with `</html>` tag. Using a regular expression, get a list of strings containing the HTML element in `html` and save the resulting list in the variable `ans11`. The list must look as follows:"
   ]
  },
  {
   "cell_type": "raw",
   "metadata": {},
   "source": [
    "['<html><body><h2>HTML Images</h2><p>HTML images are defined with the img tag:</p><img src=\"w3schools.jpg\" alt=\"W3Schools.com\" width=\"104\" height=\"142\"></body></html>']"
   ]
  },
  {
   "cell_type": "code",
   "execution_count": null,
   "metadata": {},
   "outputs": [],
   "source": [
    "# Your answer here\n"
   ]
  },
  {
   "cell_type": "code",
   "execution_count": null,
   "metadata": {},
   "outputs": [],
   "source": [
    "# Check your answer here. (Do not make any change to this cell. Just run this cell.)\n",
    "ans11"
   ]
  },
  {
   "cell_type": "markdown",
   "metadata": {},
   "source": [
    "12\\. (0.6 pts) A P element starts with the `<p>` tag and ends with `</p>` tag. Using a regular expression, get a list of strings containing only the text part between the start tag and the end tag in `html` and save the resulting list in the variable `ans12`. The list must look as follows:"
   ]
  },
  {
   "cell_type": "raw",
   "metadata": {},
   "source": [
    "['HTML images are defined with the img tag:']"
   ]
  },
  {
   "cell_type": "code",
   "execution_count": null,
   "metadata": {},
   "outputs": [],
   "source": [
    "# Your answer here\n"
   ]
  },
  {
   "cell_type": "code",
   "execution_count": null,
   "metadata": {},
   "outputs": [],
   "source": [
    "# Check your answer here. (Do not make any change to this cell. Just run this cell.)\n",
    "ans12"
   ]
  },
  {
   "cell_type": "markdown",
   "metadata": {},
   "source": [
    "String `text` contains several email addresses in it. "
   ]
  },
  {
   "cell_type": "code",
   "execution_count": null,
   "metadata": {},
   "outputs": [],
   "source": [
    "# Make sure to run this cell.\n",
    "text = \"If you have any questions, please contact any of the following session organizers:\\n\\n\\\n",
    "Roy Barnes, rcbarnes@umich.edu\\n\\\n",
    "Josh Murray, josh.murray@vanderbilt.edu\\n\\\n",
    "Tarun Banerjee, tarunbanerjee@pitt.edu\\n\\\n",
    "Eelke Heemskerk, E.M.Heemskerk@uva.nl\\n\\\n",
    "Mohamed Oubenal, oubenal1@gmail.com\\n\\n\\\n",
    "If you have any problems with the system please do not hesitate to contact info@data-mining-forum.de.\\n\\n\\\n",
    "We look forward to seeing you in Paris!\"\n",
    "\n",
    "print(text)"
   ]
  },
  {
   "cell_type": "markdown",
   "metadata": {},
   "source": [
    "13\\. (0.5 pts) Using a regular expression, get a list of strings containing all the email addresses in `text` and save the resulting list in the variable `ans13`. The list must contain all six email addresses as follows:"
   ]
  },
  {
   "cell_type": "raw",
   "metadata": {},
   "source": [
    "['rcbarnes@umich.edu',\n",
    " 'josh.murray@vanderbilt.edu',\n",
    " 'tarunbanerjee@pitt.edu',\n",
    " 'E.M.Heemskerk@uva.nl',\n",
    " 'oubenal1@gmail.com',\n",
    " 'info@data-mining-forum.de']"
   ]
  },
  {
   "cell_type": "code",
   "execution_count": null,
   "metadata": {
    "scrolled": true
   },
   "outputs": [],
   "source": [
    "# Your answer here\n"
   ]
  },
  {
   "cell_type": "code",
   "execution_count": null,
   "metadata": {},
   "outputs": [],
   "source": [
    "# Check your answer here. (Do not make any change to this cell. Just run this cell.)\n",
    "ans13"
   ]
  },
  {
   "cell_type": "markdown",
   "metadata": {},
   "source": [
    "### Now that you have completed all the questions, click Kernel > Restart & Run All to creat a clean version of this notebook and check if all cells have run as expected. "
   ]
  },
  {
   "cell_type": "markdown",
   "metadata": {},
   "source": [
    "## Quick Survey"
   ]
  },
  {
   "cell_type": "markdown",
   "metadata": {},
   "source": [
    "How long did it take you to complete this homework? (This will not affect your score. Your answer will be very helpful for the instructor to design homewoks and exams. Thank you!)"
   ]
  },
  {
   "cell_type": "markdown",
   "metadata": {},
   "source": [
    ": X minutes"
   ]
  }
 ],
 "metadata": {
  "kernelspec": {
   "display_name": "Python 3",
   "language": "python",
   "name": "python3"
  },
  "language_info": {
   "codemirror_mode": {
    "name": "ipython",
    "version": 3
   },
   "file_extension": ".py",
   "mimetype": "text/x-python",
   "name": "python",
   "nbconvert_exporter": "python",
   "pygments_lexer": "ipython3",
   "version": "3.7.5"
  }
 },
 "nbformat": 4,
 "nbformat_minor": 2
}
