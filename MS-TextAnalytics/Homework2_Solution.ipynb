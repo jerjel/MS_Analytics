{
 "cells": [
  {
   "cell_type": "markdown",
   "metadata": {},
   "source": [
    "# Text Analytics | BAIS:6100\n",
    "# Homework 2. Python Basics for Text Processing Part 2"
   ]
  },
  {
   "cell_type": "markdown",
   "metadata": {},
   "source": [
    "13 questions, 7 points in total"
   ]
  },
  {
   "cell_type": "markdown",
   "metadata": {},
   "source": [
    "## Instructions"
   ]
  },
  {
   "cell_type": "markdown",
   "metadata": {},
   "source": [
    "- Fill in the Python statements needed to complete all the questions below. \n",
    "- Program everything inside this notebook. \n",
    "- Use only one cell per question. \n",
    "- Each code cell must be run with no errors.\n",
    "- Do not contain any unnecessary code in your answer. (Only the final outcome will be regarded as your answer.)\n",
    "- If the question requests that you store information in a certain variable, use the specific variables name (case sensitive).\n",
    "- All problems must be solved in a programmable way.\n",
    "- When you are done, make sure to save your notebook and then click Restart & Run All before subimission to create a clean version."
   ]
  },
  {
   "cell_type": "markdown",
   "metadata": {},
   "source": [
    "## Questions"
   ]
  },
  {
   "cell_type": "markdown",
   "metadata": {},
   "source": [
    "Import the two packages <b>random</b> and <b>string</b>. Copy-and-paste the `generate_random_string` function to reuse it. "
   ]
  },
  {
   "cell_type": "code",
   "execution_count": 1,
   "metadata": {},
   "outputs": [],
   "source": [
    "# Your answer here\n",
    "import random\n",
    "import string\n",
    "\n",
    "def generate_random_string(seq, min_len, max_len):\n",
    "    return \"\".join([random.choice(seq) for i in range(random.choice(range(min_len, max_len+1)))])"
   ]
  },
  {
   "cell_type": "markdown",
   "metadata": {},
   "source": [
    "1\\. (0.5 pts) Create a new file `hw1_output.csv` in the `outcome` folder. The first row in the file contains two column names `rid` and `num`. The following 1000 rows contain the following two column values: the first column has row IDs ranging from 1 to 1000 and the second column has strings of 5-10 random digits. Rows are separated by a new line and columns by a comma. For example, the first five rows in the file look as below. (Be aware that the numbers below should be different than yours as they were randomly generated.) "
   ]
  },
  {
   "cell_type": "raw",
   "metadata": {},
   "source": [
    "rid,num\n",
    "1,5494572\n",
    "2,17654\n",
    "3,1196825\n",
    "4,05998"
   ]
  },
  {
   "cell_type": "code",
   "execution_count": 2,
   "metadata": {},
   "outputs": [],
   "source": [
    "# Your answer here\n",
    "with open(\"outcome/hw1_output.csv\", mode=\"w\") as fw:\n",
    "    fw.write(\"rid,num\\n\")\n",
    "    \n",
    "    for i in range(1, 1001):\n",
    "        rid = i\n",
    "        num = generate_random_string(string.digits, 5, 10)\n",
    "        \n",
    "        fw.write(\"{},{}\\n\".format(rid, num))"
   ]
  },
  {
   "cell_type": "code",
   "execution_count": 3,
   "metadata": {},
   "outputs": [
    {
     "data": {
      "text/plain": [
       "True"
      ]
     },
     "execution_count": 3,
     "metadata": {},
     "output_type": "execute_result"
    }
   ],
   "source": [
    "# Check your answer here. (Do not make any change to this cell. Just run this cell.)\n",
    "import os\n",
    "os.path.isfile(\"outcome/hw1_output.csv\")     # Expected output: True"
   ]
  },
  {
   "cell_type": "markdown",
   "metadata": {},
   "source": [
    "Dictionary `d` simply maps each digit character to a puncutation character."
   ]
  },
  {
   "cell_type": "code",
   "execution_count": 4,
   "metadata": {},
   "outputs": [],
   "source": [
    "# Make sure to run this cell.\n",
    "d = {\n",
    "    \"1\": \"!\",\n",
    "    \"2\": \"@\", \n",
    "    \"3\": \"#\",\n",
    "    \"4\": \"$\",\n",
    "    \"5\": \"%\",\n",
    "    \"6\": \"^\",\n",
    "    \"7\": \"&\",\n",
    "    \"8\": \"*\",\n",
    "    \"9\": \"(\",\n",
    "    \"0\": \")\", \n",
    "}"
   ]
  },
  {
   "cell_type": "markdown",
   "metadata": {},
   "source": [
    "2\\. (0.7 pts) Create another file `hw1_output2.csv` in the `outcome` folder. The first row in the file contains three column names `rid`, `num`, and `code`. The following 1000 rows contain the following three column values: the first column has the same row IDs as above, the second column has strings of random digits with the same rule as above, and the third column has code strings, each character of which is the value for the key in the dictionary `d`. For example, if the random string of digits is '3164482864', its corresponding code string is '#!^\\$\\$\\*@\\*^$', as '3' is mapped to '#', '1' is to '!', so on and so forth. Rows are separated by a new line and columns by a comma. For example, the first five rows in the file look as below. (Be aware that the numbers and strings below should be different than yours as they were randomly generated.) "
   ]
  },
  {
   "cell_type": "raw",
   "metadata": {},
   "source": [
    "rid,num,code\n",
    "1,3164482864,#!^$$*@*^$\n",
    "2,2233297733,@@##@(&&##\n",
    "3,7713718,&&!#&!*\n",
    "4,373982531,#&#(*@%#!"
   ]
  },
  {
   "cell_type": "code",
   "execution_count": 5,
   "metadata": {},
   "outputs": [],
   "source": [
    "# Your answer here\n",
    "with open(\"outcome/hw1_output2.csv\", mode=\"w\") as fw:\n",
    "    fw.write(\"rid,num,code\\n\")\n",
    "    \n",
    "    for i in range(1, 1001):\n",
    "        rid = i\n",
    "        num = generate_random_string(string.digits, 5, 10)\n",
    "        code = \"\".join([d[c] for c in num])\n",
    "        \n",
    "        fw.write(\"{},{},{}\\n\".format(rid, num, code))"
   ]
  },
  {
   "cell_type": "code",
   "execution_count": 6,
   "metadata": {},
   "outputs": [
    {
     "data": {
      "text/plain": [
       "True"
      ]
     },
     "execution_count": 6,
     "metadata": {},
     "output_type": "execute_result"
    }
   ],
   "source": [
    "# Check your answer here. (Do not make any change to this cell. Just run this cell.)\n",
    "os.path.isfile(\"outcome/hw1_output2.csv\")     # Expected output: True"
   ]
  },
  {
   "cell_type": "markdown",
   "metadata": {},
   "source": [
    "<hr>"
   ]
  },
  {
   "cell_type": "markdown",
   "metadata": {},
   "source": [
    "Import the <b>Pandas</b> package and set the max column width to 150. "
   ]
  },
  {
   "cell_type": "code",
   "execution_count": 7,
   "metadata": {},
   "outputs": [],
   "source": [
    "# Your answer here\n",
    "import pandas as pd\n",
    "pd.set_option('display.max_colwidth', 150)"
   ]
  },
  {
   "cell_type": "markdown",
   "metadata": {},
   "source": [
    "3\\. (0.5 pts) Read the `timeline_UN.csv` file in the `classdata/tweets` folder into a Pandas dataframe `df`.   "
   ]
  },
  {
   "cell_type": "code",
   "execution_count": 8,
   "metadata": {},
   "outputs": [],
   "source": [
    "# Your answer here\n",
    "df = pd.read_csv(\"classdata/tweets/timeline_UN.csv\", sep=\"\\t\")"
   ]
  },
  {
   "cell_type": "code",
   "execution_count": 9,
   "metadata": {},
   "outputs": [
    {
     "data": {
      "text/html": [
       "<div>\n",
       "<style scoped>\n",
       "    .dataframe tbody tr th:only-of-type {\n",
       "        vertical-align: middle;\n",
       "    }\n",
       "\n",
       "    .dataframe tbody tr th {\n",
       "        vertical-align: top;\n",
       "    }\n",
       "\n",
       "    .dataframe thead th {\n",
       "        text-align: right;\n",
       "    }\n",
       "</style>\n",
       "<table border=\"1\" class=\"dataframe\">\n",
       "  <thead>\n",
       "    <tr style=\"text-align: right;\">\n",
       "      <th></th>\n",
       "      <th>status_id</th>\n",
       "      <th>created_at</th>\n",
       "      <th>text</th>\n",
       "      <th>retweet_count</th>\n",
       "      <th>favorite_count</th>\n",
       "      <th>is_retweet</th>\n",
       "      <th>retweet_created_at</th>\n",
       "    </tr>\n",
       "  </thead>\n",
       "  <tbody>\n",
       "    <tr>\n",
       "      <th>0</th>\n",
       "      <td>1354551711172587523</td>\n",
       "      <td>Wed Jan 27 22:07:48 +0000 2021</td>\n",
       "      <td>RT @WFP: Famine feeds on:🌪️ #ClimateChange🌀  Chaos💥 ConflictCOVID-19 has compounded existing issues and pushed millions of people to t…</td>\n",
       "      <td>64</td>\n",
       "      <td>0</td>\n",
       "      <td>1</td>\n",
       "      <td>Tue Jan 26 00:54:00 +0000 2021</td>\n",
       "    </tr>\n",
       "    <tr>\n",
       "      <th>1</th>\n",
       "      <td>1354536245385457666</td>\n",
       "      <td>Wed Jan 27 21:06:21 +0000 2021</td>\n",
       "      <td>RT @UNReliefChief: Our best chance of getting ahead of this virus now is if all wealthy nations, especially those with multiple deals with…</td>\n",
       "      <td>29</td>\n",
       "      <td>0</td>\n",
       "      <td>1</td>\n",
       "      <td>Tue Jan 26 20:19:39 +0000 2021</td>\n",
       "    </tr>\n",
       "    <tr>\n",
       "      <th>2</th>\n",
       "      <td>1354520804747186177</td>\n",
       "      <td>Wed Jan 27 20:05:00 +0000 2021</td>\n",
       "      <td>🌳 Forest &amp;amp; land conservation☀ Renewable energy🌾 Climate-friendly farming techniques👷‍♀️ Green businesses &amp;amp; jobs… https://t.co/698QTIsN0S</td>\n",
       "      <td>68</td>\n",
       "      <td>221</td>\n",
       "      <td>0</td>\n",
       "      <td>NaN</td>\n",
       "    </tr>\n",
       "    <tr>\n",
       "      <th>3</th>\n",
       "      <td>1354504731457179663</td>\n",
       "      <td>Wed Jan 27 19:01:08 +0000 2021</td>\n",
       "      <td>RT @Refugees: 2020 was a record low for refugee resettlement.We urge States to offer more resettlement places and help save lives of refu…</td>\n",
       "      <td>41</td>\n",
       "      <td>0</td>\n",
       "      <td>1</td>\n",
       "      <td>Wed Jan 27 08:14:00 +0000 2021</td>\n",
       "    </tr>\n",
       "    <tr>\n",
       "      <th>4</th>\n",
       "      <td>1354489960167071744</td>\n",
       "      <td>Wed Jan 27 18:02:26 +0000 2021</td>\n",
       "      <td>RT @UNICEF: “The very little we know about the impact of the conflict on children in Tigray is deeply troubling. @unicefchief To reach f…</td>\n",
       "      <td>107</td>\n",
       "      <td>0</td>\n",
       "      <td>1</td>\n",
       "      <td>Wed Jan 27 15:21:44 +0000 2021</td>\n",
       "    </tr>\n",
       "    <tr>\n",
       "      <th>...</th>\n",
       "      <td>...</td>\n",
       "      <td>...</td>\n",
       "      <td>...</td>\n",
       "      <td>...</td>\n",
       "      <td>...</td>\n",
       "      <td>...</td>\n",
       "      <td>...</td>\n",
       "    </tr>\n",
       "    <tr>\n",
       "      <th>3195</th>\n",
       "      <td>1274401880714534912</td>\n",
       "      <td>Sat Jun 20 18:01:00 +0000 2020</td>\n",
       "      <td>#LGBTI rights = HUMAN rightsThis #PrideMonth, join UN @free_equal in the fight against transphobia &amp;amp; homophobia.… https://t.co/F18q47KPC9</td>\n",
       "      <td>199</td>\n",
       "      <td>628</td>\n",
       "      <td>0</td>\n",
       "      <td>NaN</td>\n",
       "    </tr>\n",
       "    <tr>\n",
       "      <th>3196</th>\n",
       "      <td>1274371933656584199</td>\n",
       "      <td>Sat Jun 20 16:02:00 +0000 2020</td>\n",
       "      <td>There were 26 million refugees globally at the end of 2019.On Saturday's #WorldRefugeeDay, show your solidarity w… https://t.co/ljrYHhYz2P</td>\n",
       "      <td>226</td>\n",
       "      <td>456</td>\n",
       "      <td>0</td>\n",
       "      <td>NaN</td>\n",
       "    </tr>\n",
       "    <tr>\n",
       "      <th>3197</th>\n",
       "      <td>1274337365721563136</td>\n",
       "      <td>Sat Jun 20 13:44:38 +0000 2020</td>\n",
       "      <td>RT @antonioguterres: Nearly 80 million women, children &amp;amp; men have been forced from their homes as refugees or internally displaced people.…</td>\n",
       "      <td>1237</td>\n",
       "      <td>0</td>\n",
       "      <td>1</td>\n",
       "      <td>Fri Jun 19 23:35:00 +0000 2020</td>\n",
       "    </tr>\n",
       "    <tr>\n",
       "      <th>3198</th>\n",
       "      <td>1274326886643118080</td>\n",
       "      <td>Sat Jun 20 13:03:00 +0000 2020</td>\n",
       "      <td>The worldwide response to #COVID19 has demonstrated the power of solidarity. People are spreading kindness through… https://t.co/R1r30jWy3W</td>\n",
       "      <td>228</td>\n",
       "      <td>596</td>\n",
       "      <td>0</td>\n",
       "      <td>NaN</td>\n",
       "    </tr>\n",
       "    <tr>\n",
       "      <th>3199</th>\n",
       "      <td>1274316448530411524</td>\n",
       "      <td>Sat Jun 20 12:21:31 +0000 2020</td>\n",
       "      <td>RT @Refugees: On #WorldRefugeeDay, we celebrate and honour refugees across the world. You never cease to inspire us.From the UN High Comm…</td>\n",
       "      <td>388</td>\n",
       "      <td>0</td>\n",
       "      <td>1</td>\n",
       "      <td>Sat Jun 20 08:05:00 +0000 2020</td>\n",
       "    </tr>\n",
       "  </tbody>\n",
       "</table>\n",
       "<p>3200 rows × 7 columns</p>\n",
       "</div>"
      ],
      "text/plain": [
       "                status_id                      created_at  \\\n",
       "0     1354551711172587523  Wed Jan 27 22:07:48 +0000 2021   \n",
       "1     1354536245385457666  Wed Jan 27 21:06:21 +0000 2021   \n",
       "2     1354520804747186177  Wed Jan 27 20:05:00 +0000 2021   \n",
       "3     1354504731457179663  Wed Jan 27 19:01:08 +0000 2021   \n",
       "4     1354489960167071744  Wed Jan 27 18:02:26 +0000 2021   \n",
       "...                   ...                             ...   \n",
       "3195  1274401880714534912  Sat Jun 20 18:01:00 +0000 2020   \n",
       "3196  1274371933656584199  Sat Jun 20 16:02:00 +0000 2020   \n",
       "3197  1274337365721563136  Sat Jun 20 13:44:38 +0000 2020   \n",
       "3198  1274326886643118080  Sat Jun 20 13:03:00 +0000 2020   \n",
       "3199  1274316448530411524  Sat Jun 20 12:21:31 +0000 2020   \n",
       "\n",
       "                                                                                                                                                  text  \\\n",
       "0              RT @WFP: Famine feeds on:🌪️ #ClimateChange🌀  Chaos💥 ConflictCOVID-19 has compounded existing issues and pushed millions of people to t…   \n",
       "1          RT @UNReliefChief: Our best chance of getting ahead of this virus now is if all wealthy nations, especially those with multiple deals with…   \n",
       "2     🌳 Forest &amp; land conservation☀ Renewable energy🌾 Climate-friendly farming techniques👷‍♀️ Green businesses &amp; jobs… https://t.co/698QTIsN0S   \n",
       "3           RT @Refugees: 2020 was a record low for refugee resettlement.We urge States to offer more resettlement places and help save lives of refu…   \n",
       "4            RT @UNICEF: “The very little we know about the impact of the conflict on children in Tigray is deeply troubling. @unicefchief To reach f…   \n",
       "...                                                                                                                                                ...   \n",
       "3195     #LGBTI rights = HUMAN rightsThis #PrideMonth, join UN @free_equal in the fight against transphobia &amp; homophobia.… https://t.co/F18q47KPC9   \n",
       "3196        There were 26 million refugees globally at the end of 2019.On Saturday's #WorldRefugeeDay, show your solidarity w… https://t.co/ljrYHhYz2P   \n",
       "3197   RT @antonioguterres: Nearly 80 million women, children &amp; men have been forced from their homes as refugees or internally displaced people.…   \n",
       "3198       The worldwide response to #COVID19 has demonstrated the power of solidarity. People are spreading kindness through… https://t.co/R1r30jWy3W   \n",
       "3199        RT @Refugees: On #WorldRefugeeDay, we celebrate and honour refugees across the world. You never cease to inspire us.From the UN High Comm…   \n",
       "\n",
       "      retweet_count  favorite_count  is_retweet  \\\n",
       "0                64               0           1   \n",
       "1                29               0           1   \n",
       "2                68             221           0   \n",
       "3                41               0           1   \n",
       "4               107               0           1   \n",
       "...             ...             ...         ...   \n",
       "3195            199             628           0   \n",
       "3196            226             456           0   \n",
       "3197           1237               0           1   \n",
       "3198            228             596           0   \n",
       "3199            388               0           1   \n",
       "\n",
       "                  retweet_created_at  \n",
       "0     Tue Jan 26 00:54:00 +0000 2021  \n",
       "1     Tue Jan 26 20:19:39 +0000 2021  \n",
       "2                                NaN  \n",
       "3     Wed Jan 27 08:14:00 +0000 2021  \n",
       "4     Wed Jan 27 15:21:44 +0000 2021  \n",
       "...                              ...  \n",
       "3195                             NaN  \n",
       "3196                             NaN  \n",
       "3197  Fri Jun 19 23:35:00 +0000 2020  \n",
       "3198                             NaN  \n",
       "3199  Sat Jun 20 08:05:00 +0000 2020  \n",
       "\n",
       "[3200 rows x 7 columns]"
      ]
     },
     "execution_count": 9,
     "metadata": {},
     "output_type": "execute_result"
    }
   ],
   "source": [
    "# Check your answer here. (Do not make any change to this cell. Just run this cell.)\n",
    "df"
   ]
  },
  {
   "cell_type": "markdown",
   "metadata": {},
   "source": [
    "4\\. (0.5 pts) Select from `df` the element at row index position 100 and in the `created_at` column and then save it in the variable `ans4`."
   ]
  },
  {
   "cell_type": "code",
   "execution_count": 10,
   "metadata": {},
   "outputs": [],
   "source": [
    "# Your answer here\n",
    "ans4 = df[\"created_at\"][100]"
   ]
  },
  {
   "cell_type": "code",
   "execution_count": 11,
   "metadata": {},
   "outputs": [
    {
     "data": {
      "text/plain": [
       "'Wed Jan 20 21:00:37 +0000 2021'"
      ]
     },
     "execution_count": 11,
     "metadata": {},
     "output_type": "execute_result"
    }
   ],
   "source": [
    "# Check your answer here. (Do not make any change to this cell. Just run this cell.)\n",
    "ans4"
   ]
  },
  {
   "cell_type": "markdown",
   "metadata": {},
   "source": [
    "5\\. (0.5 pts) Select, from `df`, all rows with its `is_retweet` column value being 0 and then, from the selected dataframe, create a random sample of 10 rows without duplicates. Set `random_state` to 0 when sampling. Save the final dataframe in the variable `ans5`."
   ]
  },
  {
   "cell_type": "code",
   "execution_count": 12,
   "metadata": {},
   "outputs": [],
   "source": [
    "# Your answer here\n",
    "ans5 = df[df.is_retweet == 0].sample(n=10, random_state=0)"
   ]
  },
  {
   "cell_type": "code",
   "execution_count": 13,
   "metadata": {},
   "outputs": [
    {
     "data": {
      "text/html": [
       "<div>\n",
       "<style scoped>\n",
       "    .dataframe tbody tr th:only-of-type {\n",
       "        vertical-align: middle;\n",
       "    }\n",
       "\n",
       "    .dataframe tbody tr th {\n",
       "        vertical-align: top;\n",
       "    }\n",
       "\n",
       "    .dataframe thead th {\n",
       "        text-align: right;\n",
       "    }\n",
       "</style>\n",
       "<table border=\"1\" class=\"dataframe\">\n",
       "  <thead>\n",
       "    <tr style=\"text-align: right;\">\n",
       "      <th></th>\n",
       "      <th>status_id</th>\n",
       "      <th>created_at</th>\n",
       "      <th>text</th>\n",
       "      <th>retweet_count</th>\n",
       "      <th>favorite_count</th>\n",
       "      <th>is_retweet</th>\n",
       "      <th>retweet_created_at</th>\n",
       "    </tr>\n",
       "  </thead>\n",
       "  <tbody>\n",
       "    <tr>\n",
       "      <th>1705</th>\n",
       "      <td>1313283833878339584</td>\n",
       "      <td>Tue Oct 06 01:04:00 +0000 2020</td>\n",
       "      <td>1,100+ photos from all over the world were submitted for @WMO's 2021 calendar competition. Vote for your favourit… https://t.co/Kr77Zkicfj</td>\n",
       "      <td>76</td>\n",
       "      <td>325</td>\n",
       "      <td>0</td>\n",
       "      <td>NaN</td>\n",
       "    </tr>\n",
       "    <tr>\n",
       "      <th>3035</th>\n",
       "      <td>1278494850682241024</td>\n",
       "      <td>Thu Jul 02 01:05:00 +0000 2020</td>\n",
       "      <td>All humans have the right to thrive with dignity and freedom from racism and discrimination in all its forms.--… https://t.co/RYCG8ySZQE</td>\n",
       "      <td>195</td>\n",
       "      <td>549</td>\n",
       "      <td>0</td>\n",
       "      <td>NaN</td>\n",
       "    </tr>\n",
       "    <tr>\n",
       "      <th>813</th>\n",
       "      <td>1333909995021275140</td>\n",
       "      <td>Tue Dec 01 23:05:00 +0000 2020</td>\n",
       "      <td>The pandemic has highlighted the value of migrant labour.Many of those providing essential health &amp;amp; care services… https://t.co/wueaK4Gaog</td>\n",
       "      <td>51</td>\n",
       "      <td>181</td>\n",
       "      <td>0</td>\n",
       "      <td>NaN</td>\n",
       "    </tr>\n",
       "    <tr>\n",
       "      <th>313</th>\n",
       "      <td>1346367077750173696</td>\n",
       "      <td>Tue Jan 05 08:05:00 +0000 2021</td>\n",
       "      <td>The successful @unpeacekeeping / @_AfricanUnion mission in Darfur closed last week after 13 years of… https://t.co/iBHzSKo9gR</td>\n",
       "      <td>54</td>\n",
       "      <td>243</td>\n",
       "      <td>0</td>\n",
       "      <td>NaN</td>\n",
       "    </tr>\n",
       "    <tr>\n",
       "      <th>728</th>\n",
       "      <td>1335902624969846784</td>\n",
       "      <td>Mon Dec 07 11:03:00 +0000 2020</td>\n",
       "      <td>The world is witnessing record-high levels of displacement.Every day, the UN works to provide protection for 82.5… https://t.co/I3zHZPFFsG</td>\n",
       "      <td>73</td>\n",
       "      <td>284</td>\n",
       "      <td>0</td>\n",
       "      <td>NaN</td>\n",
       "    </tr>\n",
       "    <tr>\n",
       "      <th>2478</th>\n",
       "      <td>1294440168019996673</td>\n",
       "      <td>Sat Aug 15 01:06:00 +0000 2020</td>\n",
       "      <td>Artists from around the Pacific are coming together this weekend to pay tribute to essential workers &amp;amp; support ever… https://t.co/qNNrkuRmrl</td>\n",
       "      <td>62</td>\n",
       "      <td>204</td>\n",
       "      <td>0</td>\n",
       "      <td>NaN</td>\n",
       "    </tr>\n",
       "    <tr>\n",
       "      <th>599</th>\n",
       "      <td>1338439340062461952</td>\n",
       "      <td>Mon Dec 14 11:03:00 +0000 2020</td>\n",
       "      <td>An unbroken 'cold chain' of refrigerators &amp;amp; coolers will be required to safely deliver new #COVID19 vaccines.… https://t.co/IFKFDbcRWy</td>\n",
       "      <td>79</td>\n",
       "      <td>241</td>\n",
       "      <td>0</td>\n",
       "      <td>NaN</td>\n",
       "    </tr>\n",
       "    <tr>\n",
       "      <th>1277</th>\n",
       "      <td>1322705918363078658</td>\n",
       "      <td>Sun Nov 01 01:04:00 +0000 2020</td>\n",
       "      <td>The United Nations not only stands with you -- the United Nations belongs to you, and is you -- @antonioguterres.… https://t.co/4ldvAwMhcP</td>\n",
       "      <td>146</td>\n",
       "      <td>567</td>\n",
       "      <td>0</td>\n",
       "      <td>NaN</td>\n",
       "    </tr>\n",
       "    <tr>\n",
       "      <th>253</th>\n",
       "      <td>1347906471254753281</td>\n",
       "      <td>Sat Jan 09 14:02:00 +0000 2021</td>\n",
       "      <td>1/3 of food produced is being lost or wasted, all while global hunger &amp;amp; food insecurity are on the rise.See how t… https://t.co/VqvfGpq8w0</td>\n",
       "      <td>198</td>\n",
       "      <td>574</td>\n",
       "      <td>0</td>\n",
       "      <td>NaN</td>\n",
       "    </tr>\n",
       "    <tr>\n",
       "      <th>715</th>\n",
       "      <td>1336174667174998016</td>\n",
       "      <td>Tue Dec 08 05:04:00 +0000 2020</td>\n",
       "      <td>Women #ServingForPeace with @UNPOL:🕊 help build &amp;amp; sustain peace;👮‍♀️ provide sense of security;👩‍🏫 serve as role… https://t.co/gwrvOLa7Yo</td>\n",
       "      <td>46</td>\n",
       "      <td>181</td>\n",
       "      <td>0</td>\n",
       "      <td>NaN</td>\n",
       "    </tr>\n",
       "  </tbody>\n",
       "</table>\n",
       "</div>"
      ],
      "text/plain": [
       "                status_id                      created_at  \\\n",
       "1705  1313283833878339584  Tue Oct 06 01:04:00 +0000 2020   \n",
       "3035  1278494850682241024  Thu Jul 02 01:05:00 +0000 2020   \n",
       "813   1333909995021275140  Tue Dec 01 23:05:00 +0000 2020   \n",
       "313   1346367077750173696  Tue Jan 05 08:05:00 +0000 2021   \n",
       "728   1335902624969846784  Mon Dec 07 11:03:00 +0000 2020   \n",
       "2478  1294440168019996673  Sat Aug 15 01:06:00 +0000 2020   \n",
       "599   1338439340062461952  Mon Dec 14 11:03:00 +0000 2020   \n",
       "1277  1322705918363078658  Sun Nov 01 01:04:00 +0000 2020   \n",
       "253   1347906471254753281  Sat Jan 09 14:02:00 +0000 2021   \n",
       "715   1336174667174998016  Tue Dec 08 05:04:00 +0000 2020   \n",
       "\n",
       "                                                                                                                                                  text  \\\n",
       "1705        1,100+ photos from all over the world were submitted for @WMO's 2021 calendar competition. Vote for your favourit… https://t.co/Kr77Zkicfj   \n",
       "3035          All humans have the right to thrive with dignity and freedom from racism and discrimination in all its forms.--… https://t.co/RYCG8ySZQE   \n",
       "813     The pandemic has highlighted the value of migrant labour.Many of those providing essential health &amp; care services… https://t.co/wueaK4Gaog   \n",
       "313                      The successful @unpeacekeeping / @_AfricanUnion mission in Darfur closed last week after 13 years of… https://t.co/iBHzSKo9gR   \n",
       "728         The world is witnessing record-high levels of displacement.Every day, the UN works to provide protection for 82.5… https://t.co/I3zHZPFFsG   \n",
       "2478  Artists from around the Pacific are coming together this weekend to pay tribute to essential workers &amp; support ever… https://t.co/qNNrkuRmrl   \n",
       "599         An unbroken 'cold chain' of refrigerators &amp; coolers will be required to safely deliver new #COVID19 vaccines.… https://t.co/IFKFDbcRWy   \n",
       "1277        The United Nations not only stands with you -- the United Nations belongs to you, and is you -- @antonioguterres.… https://t.co/4ldvAwMhcP   \n",
       "253     1/3 of food produced is being lost or wasted, all while global hunger &amp; food insecurity are on the rise.See how t… https://t.co/VqvfGpq8w0   \n",
       "715      Women #ServingForPeace with @UNPOL:🕊 help build &amp; sustain peace;👮‍♀️ provide sense of security;👩‍🏫 serve as role… https://t.co/gwrvOLa7Yo   \n",
       "\n",
       "      retweet_count  favorite_count  is_retweet retweet_created_at  \n",
       "1705             76             325           0                NaN  \n",
       "3035            195             549           0                NaN  \n",
       "813              51             181           0                NaN  \n",
       "313              54             243           0                NaN  \n",
       "728              73             284           0                NaN  \n",
       "2478             62             204           0                NaN  \n",
       "599              79             241           0                NaN  \n",
       "1277            146             567           0                NaN  \n",
       "253             198             574           0                NaN  \n",
       "715              46             181           0                NaN  "
      ]
     },
     "execution_count": 13,
     "metadata": {},
     "output_type": "execute_result"
    }
   ],
   "source": [
    "# Check your answer here. (Do not make any change to this cell. Just run this cell.)\n",
    "ans5"
   ]
  },
  {
   "cell_type": "markdown",
   "metadata": {},
   "source": [
    "6\\. (0.5 pts) Select the first 30 values from the `created_at` column of `df` and print only the HH:MM:SS part of each value, where H denotes each digit in an hour, M each digit in a minute, and S each digit in a second. Rows in the printed output are separated by a new line. For example, the first three rows in the printed output must look as follows."
   ]
  },
  {
   "cell_type": "raw",
   "metadata": {},
   "source": [
    "22:07:48\n",
    "21:06:21\n",
    "20:05:00"
   ]
  },
  {
   "cell_type": "code",
   "execution_count": 14,
   "metadata": {},
   "outputs": [
    {
     "name": "stdout",
     "output_type": "stream",
     "text": [
      "22:07:48\n",
      "21:06:21\n",
      "20:05:00\n",
      "19:01:08\n",
      "18:02:26\n",
      "17:03:00\n",
      "16:35:43\n",
      "16:00:50\n",
      "15:07:00\n",
      "13:56:27\n",
      "13:03:00\n",
      "12:00:11\n",
      "11:07:00\n",
      "08:53:50\n",
      "08:05:00\n",
      "05:04:00\n",
      "03:01:00\n",
      "01:01:00\n",
      "00:29:59\n",
      "23:22:07\n",
      "22:05:13\n",
      "20:57:46\n",
      "20:09:00\n",
      "18:00:26\n",
      "17:02:42\n",
      "16:01:13\n",
      "15:00:55\n",
      "14:04:00\n",
      "11:06:00\n",
      "08:05:00\n"
     ]
    }
   ],
   "source": [
    "# Your answer here\n",
    "for item in df.created_at[:30]:\n",
    "    print(item[11:19])"
   ]
  },
  {
   "cell_type": "markdown",
   "metadata": {},
   "source": [
    "7\\. (0.5 pts) Select the first 30 rows from `df` and print the values of each row in the following format: '\\[TYPE\\]  TEXT' where TYPE is either '*Tweet*' if the `is_retweet` column value equals 0 or '*Retweet*' if 1, and TEXT is the `text` column value. Rows are separated by two new lines. For example, the printed output for the first seven rows must look as follows."
   ]
  },
  {
   "cell_type": "raw",
   "metadata": {},
   "source": [
    "[Retweet] RT @WFP: Famine feeds on:🌪️ #ClimateChange🌀  Chaos💥 ConflictCOVID-19 has compounded existing issues and pushed millions of people to t…\n",
    "\n",
    "[Retweet] RT @UNReliefChief: Our best chance of getting ahead of this virus now is if all wealthy nations, especially those with multiple deals with…\n",
    "\n",
    "[Tweet] 🌳 Forest &amp; land conservation☀ Renewable energy🌾 Climate-friendly farming techniques👷‍♀️ Green businesses &amp; jobs… https://t.co/698QTIsN0S\n",
    "\n",
    "[Retweet] RT @Refugees: 2020 was a record low for refugee resettlement.We urge States to offer more resettlement places and help save lives of refu…\n",
    "\n",
    "[Retweet] RT @UNICEF: “The very little we know about the impact of the conflict on children in Tigray is deeply troubling. @unicefchief To reach f…\n",
    "\n",
    "[Tweet] On Wednesday's #HolocaustRemembranceDay we honour the memory of the six million Jews &amp; millions of others who peris… https://t.co/lxdxEKGDEk\n",
    "\n",
    "[Retweet] RT @mbachelet: On this day, we are reminded of the horror to which hatred and lies can lead.Words have consequences.We need to ensure t…\n"
   ]
  },
  {
   "cell_type": "code",
   "execution_count": 15,
   "metadata": {
    "scrolled": false
   },
   "outputs": [
    {
     "name": "stdout",
     "output_type": "stream",
     "text": [
      "[Retweet] RT @WFP: Famine feeds on:🌪️ #ClimateChange🌀  Chaos💥 ConflictCOVID-19 has compounded existing issues and pushed millions of people to t…\n",
      "\n",
      "[Retweet] RT @UNReliefChief: Our best chance of getting ahead of this virus now is if all wealthy nations, especially those with multiple deals with…\n",
      "\n",
      "[Tweet] 🌳 Forest &amp; land conservation☀ Renewable energy🌾 Climate-friendly farming techniques👷‍♀️ Green businesses &amp; jobs… https://t.co/698QTIsN0S\n",
      "\n",
      "[Retweet] RT @Refugees: 2020 was a record low for refugee resettlement.We urge States to offer more resettlement places and help save lives of refu…\n",
      "\n",
      "[Retweet] RT @UNICEF: “The very little we know about the impact of the conflict on children in Tigray is deeply troubling. @unicefchief To reach f…\n",
      "\n",
      "[Tweet] On Wednesday's #HolocaustRemembranceDay we honour the memory of the six million Jews &amp; millions of others who peris… https://t.co/lxdxEKGDEk\n",
      "\n",
      "[Retweet] RT @mbachelet: On this day, we are reminded of the horror to which hatred and lies can lead.Words have consequences.We need to ensure t…\n",
      "\n",
      "[Retweet] RT @UNDP: 50 countries. 17 languages. 1.2 million people. The results are in of our #PeoplesClimateVote - the largest survey of public op…\n",
      "\n",
      "[Tweet] Constituents who are asking questions &amp; raising issues are very powerful. -- UN Envoy Mark Carney explains that e… https://t.co/dXxEfWvr0y\n",
      "\n",
      "[Retweet] RT @UNESCO: The Holocaust began with words - and in the era of the internet and social media, the power of propaganda is more devastating t…\n",
      "\n",
      "[Tweet] We can all help #ProtectTheFacts and ensure the Holocaust is not denied, excused, minimised or misrepresented.Lea… https://t.co/aU6pk0Mjv7\n",
      "\n",
      "[Retweet] RT @UNICEF: #CycloneEloise has destroyed homes, health centres and classrooms in Mozambique.@UNICEF_Moz is urgently working with partners…\n",
      "\n",
      "[Tweet] This year must be a year of healing -- healing from the pandemic, and healing our broken societies in which hatred… https://t.co/zz0sJF6s2C\n",
      "\n",
      "[Retweet] RT @antonioguterres: Today we honour the memory of the six million Jews &amp; millions of others who were systematically murdered in the Holoca…\n",
      "\n",
      "[Tweet] 9 out of 10 people around the world breathe highly polluted air. Be a #ClimateAction superhero - bike, walk or ta… https://t.co/sp0bErONiL\n",
      "\n",
      "[Tweet] The Holocaust began with words, and today, the power of propaganda is more devastating than ever. But education &amp;… https://t.co/DDGgyH0fBs\n",
      "\n",
      "[Tweet] With #COVID19 exacerbating existing challenges, increased support is needed for peacebuilding, alongside a renewed… https://t.co/JU4fL91q03\n",
      "\n",
      "[Tweet] As we remember those who died in the Holocaust and honour the survivors, our best tribute is the creation of a wor… https://t.co/vVcHFKVddl\n",
      "\n",
      "[Retweet] RT @GlobalGoalsUN: #COVID19 has turned the world upside down. While vaccines give us some comfort, we're far from a decisive victory.@UND…\n",
      "\n",
      "[Tweet] “Elections are a crucial part of building a democratic Palestinian State built on rule of law, with equal rights fo… https://t.co/otEr4KSyN9\n",
      "\n",
      "[Retweet] RT @antonioguterres: The world has reached the heartbreaking milestone of 100 million #COVID19 cases, as the virus continues to surge aroun…\n",
      "\n",
      "[Retweet] RT @UNESCO: It's up to you.It's up to him.It's up to them.It's up to me.Taking action to counter Holocaust distortion is everyone’s…\n",
      "\n",
      "[Tweet] Climate change lawsuits are on the rise around the world, drawing on existing laws that guarantee everyone the fund… https://t.co/vHrlgQ0ZQR\n",
      "\n",
      "[Retweet] RT @FAO: Soils host a 1/4 of our planet's biodiversity. Yet, soil pollution puts this at risk. It starts by reducing #soils’ biodiversity…\n",
      "\n",
      "[Tweet] In Syria, kids are back in class after months of school closures due to #COVID19. Watch as @WFP prepares &amp; delive… https://t.co/Turkk4QeMf\n",
      "\n",
      "[Retweet] RT @UNmigration: 🚨 Heavy rains and flooding have displaced thousands of people in Mozambique. IOM and partners are working to ensure coor…\n",
      "\n",
      "[Retweet] RT @UNEP: Recent trends in climate litigation include “greenwashing” and non-disclosures, when corporate messaging contains false or mislea…\n",
      "\n",
      "[Tweet] We must honour the past to safeguard the future.Ahead of Wednesday's #HolocaustRemembranceDay, see how to… https://t.co/RopbKn59UZ\n",
      "\n",
      "[Tweet] Child labour has decreased by 38% since 2000 - yet, 152 million children worldwide are still trapped in child labou… https://t.co/8QQq22PZAa\n",
      "\n",
      "[Tweet] A country’s ability to adapt to &amp; prepare for the increasingly harmful impacts of the climate crisis should not de… https://t.co/qi0Vwu3BBv\n",
      "\n"
     ]
    }
   ],
   "source": [
    "# Your answer here\n",
    "for idx, series in df[:30].iterrows():\n",
    "    text = series.text\n",
    "    is_retweet = series.is_retweet\n",
    "    \n",
    "    if is_retweet == 0:\n",
    "        print(\"[Tweet] {}\\n\".format(text))\n",
    "    else:\n",
    "        print(\"[Retweet] {}\\n\".format(text))"
   ]
  },
  {
   "cell_type": "markdown",
   "metadata": {},
   "source": [
    "8\\. (0.5 pts) Add a new column `num_tokens` to `df` such that each value in the column is the number tokens of the `text` column value. (Use the <b>split</b> method to get a list of tokens of a string).  "
   ]
  },
  {
   "cell_type": "code",
   "execution_count": 16,
   "metadata": {},
   "outputs": [],
   "source": [
    "# Your answer here\n",
    "df[\"num_tokens\"] = df.text.apply(lambda x: len(x.split()))"
   ]
  },
  {
   "cell_type": "code",
   "execution_count": 17,
   "metadata": {},
   "outputs": [
    {
     "data": {
      "text/html": [
       "<div>\n",
       "<style scoped>\n",
       "    .dataframe tbody tr th:only-of-type {\n",
       "        vertical-align: middle;\n",
       "    }\n",
       "\n",
       "    .dataframe tbody tr th {\n",
       "        vertical-align: top;\n",
       "    }\n",
       "\n",
       "    .dataframe thead th {\n",
       "        text-align: right;\n",
       "    }\n",
       "</style>\n",
       "<table border=\"1\" class=\"dataframe\">\n",
       "  <thead>\n",
       "    <tr style=\"text-align: right;\">\n",
       "      <th></th>\n",
       "      <th>text</th>\n",
       "      <th>num_tokens</th>\n",
       "    </tr>\n",
       "  </thead>\n",
       "  <tbody>\n",
       "    <tr>\n",
       "      <th>0</th>\n",
       "      <td>RT @WFP: Famine feeds on:🌪️ #ClimateChange🌀  Chaos💥 ConflictCOVID-19 has compounded existing issues and pushed millions of people to t…</td>\n",
       "      <td>19</td>\n",
       "    </tr>\n",
       "    <tr>\n",
       "      <th>1</th>\n",
       "      <td>RT @UNReliefChief: Our best chance of getting ahead of this virus now is if all wealthy nations, especially those with multiple deals with…</td>\n",
       "      <td>23</td>\n",
       "    </tr>\n",
       "    <tr>\n",
       "      <th>2</th>\n",
       "      <td>🌳 Forest &amp;amp; land conservation☀ Renewable energy🌾 Climate-friendly farming techniques👷‍♀️ Green businesses &amp;amp; jobs… https://t.co/698QTIsN0S</td>\n",
       "      <td>15</td>\n",
       "    </tr>\n",
       "    <tr>\n",
       "      <th>3</th>\n",
       "      <td>RT @Refugees: 2020 was a record low for refugee resettlement.We urge States to offer more resettlement places and help save lives of refu…</td>\n",
       "      <td>23</td>\n",
       "    </tr>\n",
       "    <tr>\n",
       "      <th>4</th>\n",
       "      <td>RT @UNICEF: “The very little we know about the impact of the conflict on children in Tigray is deeply troubling. @unicefchief To reach f…</td>\n",
       "      <td>24</td>\n",
       "    </tr>\n",
       "    <tr>\n",
       "      <th>...</th>\n",
       "      <td>...</td>\n",
       "      <td>...</td>\n",
       "    </tr>\n",
       "    <tr>\n",
       "      <th>3195</th>\n",
       "      <td>#LGBTI rights = HUMAN rightsThis #PrideMonth, join UN @free_equal in the fight against transphobia &amp;amp; homophobia.… https://t.co/F18q47KPC9</td>\n",
       "      <td>17</td>\n",
       "    </tr>\n",
       "    <tr>\n",
       "      <th>3196</th>\n",
       "      <td>There were 26 million refugees globally at the end of 2019.On Saturday's #WorldRefugeeDay, show your solidarity w… https://t.co/ljrYHhYz2P</td>\n",
       "      <td>18</td>\n",
       "    </tr>\n",
       "    <tr>\n",
       "      <th>3197</th>\n",
       "      <td>RT @antonioguterres: Nearly 80 million women, children &amp;amp; men have been forced from their homes as refugees or internally displaced people.…</td>\n",
       "      <td>21</td>\n",
       "    </tr>\n",
       "    <tr>\n",
       "      <th>3198</th>\n",
       "      <td>The worldwide response to #COVID19 has demonstrated the power of solidarity. People are spreading kindness through… https://t.co/R1r30jWy3W</td>\n",
       "      <td>17</td>\n",
       "    </tr>\n",
       "    <tr>\n",
       "      <th>3199</th>\n",
       "      <td>RT @Refugees: On #WorldRefugeeDay, we celebrate and honour refugees across the world. You never cease to inspire us.From the UN High Comm…</td>\n",
       "      <td>22</td>\n",
       "    </tr>\n",
       "  </tbody>\n",
       "</table>\n",
       "<p>3200 rows × 2 columns</p>\n",
       "</div>"
      ],
      "text/plain": [
       "                                                                                                                                                  text  \\\n",
       "0              RT @WFP: Famine feeds on:🌪️ #ClimateChange🌀  Chaos💥 ConflictCOVID-19 has compounded existing issues and pushed millions of people to t…   \n",
       "1          RT @UNReliefChief: Our best chance of getting ahead of this virus now is if all wealthy nations, especially those with multiple deals with…   \n",
       "2     🌳 Forest &amp; land conservation☀ Renewable energy🌾 Climate-friendly farming techniques👷‍♀️ Green businesses &amp; jobs… https://t.co/698QTIsN0S   \n",
       "3           RT @Refugees: 2020 was a record low for refugee resettlement.We urge States to offer more resettlement places and help save lives of refu…   \n",
       "4            RT @UNICEF: “The very little we know about the impact of the conflict on children in Tigray is deeply troubling. @unicefchief To reach f…   \n",
       "...                                                                                                                                                ...   \n",
       "3195     #LGBTI rights = HUMAN rightsThis #PrideMonth, join UN @free_equal in the fight against transphobia &amp; homophobia.… https://t.co/F18q47KPC9   \n",
       "3196        There were 26 million refugees globally at the end of 2019.On Saturday's #WorldRefugeeDay, show your solidarity w… https://t.co/ljrYHhYz2P   \n",
       "3197   RT @antonioguterres: Nearly 80 million women, children &amp; men have been forced from their homes as refugees or internally displaced people.…   \n",
       "3198       The worldwide response to #COVID19 has demonstrated the power of solidarity. People are spreading kindness through… https://t.co/R1r30jWy3W   \n",
       "3199        RT @Refugees: On #WorldRefugeeDay, we celebrate and honour refugees across the world. You never cease to inspire us.From the UN High Comm…   \n",
       "\n",
       "      num_tokens  \n",
       "0             19  \n",
       "1             23  \n",
       "2             15  \n",
       "3             23  \n",
       "4             24  \n",
       "...          ...  \n",
       "3195          17  \n",
       "3196          18  \n",
       "3197          21  \n",
       "3198          17  \n",
       "3199          22  \n",
       "\n",
       "[3200 rows x 2 columns]"
      ]
     },
     "execution_count": 17,
     "metadata": {},
     "output_type": "execute_result"
    }
   ],
   "source": [
    "# Check your answer here. (Do not make any change to this cell. Just run this cell.)\n",
    "df[[\"text\", \"num_tokens\"]]"
   ]
  },
  {
   "cell_type": "markdown",
   "metadata": {},
   "source": [
    "9\\. (0.7 pts) Add a new column `text_date` to `df` such that each column value is a string in the format 'TEXT \\[posted on b DD, YYYY\\]', where TEXT is the first 50 characters of the `text` column value concatenated by '...', b denotes the the abbreviated month name such as Jan and Feb, D denotes each digit in a day, and Y denotes each digit in a year, all of which come from the `created_at` column value. For example, the first and last values in the new column must look as below, respectively. You may need to define a user-created function to add the new column.   "
   ]
  },
  {
   "cell_type": "raw",
   "metadata": {},
   "source": [
    "RT @WFP: Famine feeds on:🌪️ #ClimateChange🌀 Chaos... [posted on Jan 27, 2021]"
   ]
  },
  {
   "cell_type": "raw",
   "metadata": {},
   "source": [
    "RT @Refugees: On #WorldRefugeeDay, we celebrate an... [posted on Jun 20, 2020]"
   ]
  },
  {
   "cell_type": "code",
   "execution_count": 18,
   "metadata": {},
   "outputs": [],
   "source": [
    "# Your answer here\n",
    "def format_row(row):\n",
    "    text = row.text\n",
    "    timestamp = row.created_at\n",
    "    date = timestamp[4:10]\n",
    "    year = timestamp[-4:]\n",
    "    \n",
    "    return \"{}... [posted on {}, {}]\".format(text[:50], date, year)\n",
    "\n",
    "df[\"text_date\"] = df.apply(lambda x: format_row(x), axis=1)"
   ]
  },
  {
   "cell_type": "code",
   "execution_count": 19,
   "metadata": {},
   "outputs": [
    {
     "data": {
      "text/html": [
       "<div>\n",
       "<style scoped>\n",
       "    .dataframe tbody tr th:only-of-type {\n",
       "        vertical-align: middle;\n",
       "    }\n",
       "\n",
       "    .dataframe tbody tr th {\n",
       "        vertical-align: top;\n",
       "    }\n",
       "\n",
       "    .dataframe thead th {\n",
       "        text-align: right;\n",
       "    }\n",
       "</style>\n",
       "<table border=\"1\" class=\"dataframe\">\n",
       "  <thead>\n",
       "    <tr style=\"text-align: right;\">\n",
       "      <th></th>\n",
       "      <th>text</th>\n",
       "      <th>text_date</th>\n",
       "    </tr>\n",
       "  </thead>\n",
       "  <tbody>\n",
       "    <tr>\n",
       "      <th>0</th>\n",
       "      <td>RT @WFP: Famine feeds on:🌪️ #ClimateChange🌀  Chaos💥 ConflictCOVID-19 has compounded existing issues and pushed millions of people to t…</td>\n",
       "      <td>RT @WFP: Famine feeds on:🌪️ #ClimateChange🌀  Chaos... [posted on Jan 27, 2021]</td>\n",
       "    </tr>\n",
       "    <tr>\n",
       "      <th>1</th>\n",
       "      <td>RT @UNReliefChief: Our best chance of getting ahead of this virus now is if all wealthy nations, especially those with multiple deals with…</td>\n",
       "      <td>RT @UNReliefChief: Our best chance of getting ahea... [posted on Jan 27, 2021]</td>\n",
       "    </tr>\n",
       "    <tr>\n",
       "      <th>2</th>\n",
       "      <td>🌳 Forest &amp;amp; land conservation☀ Renewable energy🌾 Climate-friendly farming techniques👷‍♀️ Green businesses &amp;amp; jobs… https://t.co/698QTIsN0S</td>\n",
       "      <td>🌳 Forest &amp;amp; land conservation☀ Renewable energy... [posted on Jan 27, 2021]</td>\n",
       "    </tr>\n",
       "    <tr>\n",
       "      <th>3</th>\n",
       "      <td>RT @Refugees: 2020 was a record low for refugee resettlement.We urge States to offer more resettlement places and help save lives of refu…</td>\n",
       "      <td>RT @Refugees: 2020 was a record low for refugee re... [posted on Jan 27, 2021]</td>\n",
       "    </tr>\n",
       "    <tr>\n",
       "      <th>4</th>\n",
       "      <td>RT @UNICEF: “The very little we know about the impact of the conflict on children in Tigray is deeply troubling. @unicefchief To reach f…</td>\n",
       "      <td>RT @UNICEF: “The very little we know about the imp... [posted on Jan 27, 2021]</td>\n",
       "    </tr>\n",
       "    <tr>\n",
       "      <th>...</th>\n",
       "      <td>...</td>\n",
       "      <td>...</td>\n",
       "    </tr>\n",
       "    <tr>\n",
       "      <th>3195</th>\n",
       "      <td>#LGBTI rights = HUMAN rightsThis #PrideMonth, join UN @free_equal in the fight against transphobia &amp;amp; homophobia.… https://t.co/F18q47KPC9</td>\n",
       "      <td>#LGBTI rights = HUMAN rightsThis #PrideMonth, join... [posted on Jun 20, 2020]</td>\n",
       "    </tr>\n",
       "    <tr>\n",
       "      <th>3196</th>\n",
       "      <td>There were 26 million refugees globally at the end of 2019.On Saturday's #WorldRefugeeDay, show your solidarity w… https://t.co/ljrYHhYz2P</td>\n",
       "      <td>There were 26 million refugees globally at the end... [posted on Jun 20, 2020]</td>\n",
       "    </tr>\n",
       "    <tr>\n",
       "      <th>3197</th>\n",
       "      <td>RT @antonioguterres: Nearly 80 million women, children &amp;amp; men have been forced from their homes as refugees or internally displaced people.…</td>\n",
       "      <td>RT @antonioguterres: Nearly 80 million women, chil... [posted on Jun 20, 2020]</td>\n",
       "    </tr>\n",
       "    <tr>\n",
       "      <th>3198</th>\n",
       "      <td>The worldwide response to #COVID19 has demonstrated the power of solidarity. People are spreading kindness through… https://t.co/R1r30jWy3W</td>\n",
       "      <td>The worldwide response to #COVID19 has demonstrate... [posted on Jun 20, 2020]</td>\n",
       "    </tr>\n",
       "    <tr>\n",
       "      <th>3199</th>\n",
       "      <td>RT @Refugees: On #WorldRefugeeDay, we celebrate and honour refugees across the world. You never cease to inspire us.From the UN High Comm…</td>\n",
       "      <td>RT @Refugees: On #WorldRefugeeDay, we celebrate an... [posted on Jun 20, 2020]</td>\n",
       "    </tr>\n",
       "  </tbody>\n",
       "</table>\n",
       "<p>3200 rows × 2 columns</p>\n",
       "</div>"
      ],
      "text/plain": [
       "                                                                                                                                                  text  \\\n",
       "0              RT @WFP: Famine feeds on:🌪️ #ClimateChange🌀  Chaos💥 ConflictCOVID-19 has compounded existing issues and pushed millions of people to t…   \n",
       "1          RT @UNReliefChief: Our best chance of getting ahead of this virus now is if all wealthy nations, especially those with multiple deals with…   \n",
       "2     🌳 Forest &amp; land conservation☀ Renewable energy🌾 Climate-friendly farming techniques👷‍♀️ Green businesses &amp; jobs… https://t.co/698QTIsN0S   \n",
       "3           RT @Refugees: 2020 was a record low for refugee resettlement.We urge States to offer more resettlement places and help save lives of refu…   \n",
       "4            RT @UNICEF: “The very little we know about the impact of the conflict on children in Tigray is deeply troubling. @unicefchief To reach f…   \n",
       "...                                                                                                                                                ...   \n",
       "3195     #LGBTI rights = HUMAN rightsThis #PrideMonth, join UN @free_equal in the fight against transphobia &amp; homophobia.… https://t.co/F18q47KPC9   \n",
       "3196        There were 26 million refugees globally at the end of 2019.On Saturday's #WorldRefugeeDay, show your solidarity w… https://t.co/ljrYHhYz2P   \n",
       "3197   RT @antonioguterres: Nearly 80 million women, children &amp; men have been forced from their homes as refugees or internally displaced people.…   \n",
       "3198       The worldwide response to #COVID19 has demonstrated the power of solidarity. People are spreading kindness through… https://t.co/R1r30jWy3W   \n",
       "3199        RT @Refugees: On #WorldRefugeeDay, we celebrate and honour refugees across the world. You never cease to inspire us.From the UN High Comm…   \n",
       "\n",
       "                                                                           text_date  \n",
       "0     RT @WFP: Famine feeds on:🌪️ #ClimateChange🌀  Chaos... [posted on Jan 27, 2021]  \n",
       "1     RT @UNReliefChief: Our best chance of getting ahea... [posted on Jan 27, 2021]  \n",
       "2     🌳 Forest &amp; land conservation☀ Renewable energy... [posted on Jan 27, 2021]  \n",
       "3     RT @Refugees: 2020 was a record low for refugee re... [posted on Jan 27, 2021]  \n",
       "4     RT @UNICEF: “The very little we know about the imp... [posted on Jan 27, 2021]  \n",
       "...                                                                              ...  \n",
       "3195  #LGBTI rights = HUMAN rightsThis #PrideMonth, join... [posted on Jun 20, 2020]  \n",
       "3196  There were 26 million refugees globally at the end... [posted on Jun 20, 2020]  \n",
       "3197  RT @antonioguterres: Nearly 80 million women, chil... [posted on Jun 20, 2020]  \n",
       "3198  The worldwide response to #COVID19 has demonstrate... [posted on Jun 20, 2020]  \n",
       "3199  RT @Refugees: On #WorldRefugeeDay, we celebrate an... [posted on Jun 20, 2020]  \n",
       "\n",
       "[3200 rows x 2 columns]"
      ]
     },
     "execution_count": 19,
     "metadata": {},
     "output_type": "execute_result"
    }
   ],
   "source": [
    "# Check your answer here. (Do not make any change to this cell. Just run this cell.)\n",
    "df[[\"text\", \"text_date\"]]"
   ]
  },
  {
   "cell_type": "markdown",
   "metadata": {},
   "source": [
    "10\\. (0.5 pts) Add a new column `mention_covid` to `df` such that each column value is either True if the `text` column value contains the word '*covid*' (case-insensitive) or False otherwise. For example, the first value in the new column must be True, as the text does contain the word '*covid*', whereas the second value must be False, as the text does not have the word.  "
   ]
  },
  {
   "cell_type": "code",
   "execution_count": 20,
   "metadata": {},
   "outputs": [],
   "source": [
    "# Your answer here\n",
    "df[\"mention_covid\"] = df.text.str.contains(\"covid\", case=False)"
   ]
  },
  {
   "cell_type": "code",
   "execution_count": 21,
   "metadata": {},
   "outputs": [],
   "source": [
    "# Alternatively\n",
    "df[\"mention_covid\"] = df.text.apply(lambda x: \"covid\" in x.lower())"
   ]
  },
  {
   "cell_type": "code",
   "execution_count": 22,
   "metadata": {},
   "outputs": [
    {
     "data": {
      "text/html": [
       "<div>\n",
       "<style scoped>\n",
       "    .dataframe tbody tr th:only-of-type {\n",
       "        vertical-align: middle;\n",
       "    }\n",
       "\n",
       "    .dataframe tbody tr th {\n",
       "        vertical-align: top;\n",
       "    }\n",
       "\n",
       "    .dataframe thead th {\n",
       "        text-align: right;\n",
       "    }\n",
       "</style>\n",
       "<table border=\"1\" class=\"dataframe\">\n",
       "  <thead>\n",
       "    <tr style=\"text-align: right;\">\n",
       "      <th></th>\n",
       "      <th>text</th>\n",
       "      <th>mention_covid</th>\n",
       "    </tr>\n",
       "  </thead>\n",
       "  <tbody>\n",
       "    <tr>\n",
       "      <th>0</th>\n",
       "      <td>RT @WFP: Famine feeds on:🌪️ #ClimateChange🌀  Chaos💥 ConflictCOVID-19 has compounded existing issues and pushed millions of people to t…</td>\n",
       "      <td>True</td>\n",
       "    </tr>\n",
       "    <tr>\n",
       "      <th>1</th>\n",
       "      <td>RT @UNReliefChief: Our best chance of getting ahead of this virus now is if all wealthy nations, especially those with multiple deals with…</td>\n",
       "      <td>False</td>\n",
       "    </tr>\n",
       "    <tr>\n",
       "      <th>2</th>\n",
       "      <td>🌳 Forest &amp;amp; land conservation☀ Renewable energy🌾 Climate-friendly farming techniques👷‍♀️ Green businesses &amp;amp; jobs… https://t.co/698QTIsN0S</td>\n",
       "      <td>False</td>\n",
       "    </tr>\n",
       "    <tr>\n",
       "      <th>3</th>\n",
       "      <td>RT @Refugees: 2020 was a record low for refugee resettlement.We urge States to offer more resettlement places and help save lives of refu…</td>\n",
       "      <td>False</td>\n",
       "    </tr>\n",
       "    <tr>\n",
       "      <th>4</th>\n",
       "      <td>RT @UNICEF: “The very little we know about the impact of the conflict on children in Tigray is deeply troubling. @unicefchief To reach f…</td>\n",
       "      <td>False</td>\n",
       "    </tr>\n",
       "    <tr>\n",
       "      <th>...</th>\n",
       "      <td>...</td>\n",
       "      <td>...</td>\n",
       "    </tr>\n",
       "    <tr>\n",
       "      <th>3195</th>\n",
       "      <td>#LGBTI rights = HUMAN rightsThis #PrideMonth, join UN @free_equal in the fight against transphobia &amp;amp; homophobia.… https://t.co/F18q47KPC9</td>\n",
       "      <td>False</td>\n",
       "    </tr>\n",
       "    <tr>\n",
       "      <th>3196</th>\n",
       "      <td>There were 26 million refugees globally at the end of 2019.On Saturday's #WorldRefugeeDay, show your solidarity w… https://t.co/ljrYHhYz2P</td>\n",
       "      <td>False</td>\n",
       "    </tr>\n",
       "    <tr>\n",
       "      <th>3197</th>\n",
       "      <td>RT @antonioguterres: Nearly 80 million women, children &amp;amp; men have been forced from their homes as refugees or internally displaced people.…</td>\n",
       "      <td>False</td>\n",
       "    </tr>\n",
       "    <tr>\n",
       "      <th>3198</th>\n",
       "      <td>The worldwide response to #COVID19 has demonstrated the power of solidarity. People are spreading kindness through… https://t.co/R1r30jWy3W</td>\n",
       "      <td>True</td>\n",
       "    </tr>\n",
       "    <tr>\n",
       "      <th>3199</th>\n",
       "      <td>RT @Refugees: On #WorldRefugeeDay, we celebrate and honour refugees across the world. You never cease to inspire us.From the UN High Comm…</td>\n",
       "      <td>False</td>\n",
       "    </tr>\n",
       "  </tbody>\n",
       "</table>\n",
       "<p>3200 rows × 2 columns</p>\n",
       "</div>"
      ],
      "text/plain": [
       "                                                                                                                                                  text  \\\n",
       "0              RT @WFP: Famine feeds on:🌪️ #ClimateChange🌀  Chaos💥 ConflictCOVID-19 has compounded existing issues and pushed millions of people to t…   \n",
       "1          RT @UNReliefChief: Our best chance of getting ahead of this virus now is if all wealthy nations, especially those with multiple deals with…   \n",
       "2     🌳 Forest &amp; land conservation☀ Renewable energy🌾 Climate-friendly farming techniques👷‍♀️ Green businesses &amp; jobs… https://t.co/698QTIsN0S   \n",
       "3           RT @Refugees: 2020 was a record low for refugee resettlement.We urge States to offer more resettlement places and help save lives of refu…   \n",
       "4            RT @UNICEF: “The very little we know about the impact of the conflict on children in Tigray is deeply troubling. @unicefchief To reach f…   \n",
       "...                                                                                                                                                ...   \n",
       "3195     #LGBTI rights = HUMAN rightsThis #PrideMonth, join UN @free_equal in the fight against transphobia &amp; homophobia.… https://t.co/F18q47KPC9   \n",
       "3196        There were 26 million refugees globally at the end of 2019.On Saturday's #WorldRefugeeDay, show your solidarity w… https://t.co/ljrYHhYz2P   \n",
       "3197   RT @antonioguterres: Nearly 80 million women, children &amp; men have been forced from their homes as refugees or internally displaced people.…   \n",
       "3198       The worldwide response to #COVID19 has demonstrated the power of solidarity. People are spreading kindness through… https://t.co/R1r30jWy3W   \n",
       "3199        RT @Refugees: On #WorldRefugeeDay, we celebrate and honour refugees across the world. You never cease to inspire us.From the UN High Comm…   \n",
       "\n",
       "      mention_covid  \n",
       "0              True  \n",
       "1             False  \n",
       "2             False  \n",
       "3             False  \n",
       "4             False  \n",
       "...             ...  \n",
       "3195          False  \n",
       "3196          False  \n",
       "3197          False  \n",
       "3198           True  \n",
       "3199          False  \n",
       "\n",
       "[3200 rows x 2 columns]"
      ]
     },
     "execution_count": 22,
     "metadata": {},
     "output_type": "execute_result"
    }
   ],
   "source": [
    "# Check your answer here. (Do not make any change to this cell. Just run this cell.)\n",
    "df[[\"text\", \"mention_covid\"]]"
   ]
  },
  {
   "cell_type": "markdown",
   "metadata": {},
   "source": [
    "<hr>"
   ]
  },
  {
   "cell_type": "markdown",
   "metadata": {},
   "source": [
    "Import the <b>re</b> package to use regular expressions. "
   ]
  },
  {
   "cell_type": "code",
   "execution_count": 23,
   "metadata": {},
   "outputs": [],
   "source": [
    "# Your answer here\n",
    "import re"
   ]
  },
  {
   "cell_type": "markdown",
   "metadata": {},
   "source": [
    "String `html` contains some HTML code. "
   ]
  },
  {
   "cell_type": "code",
   "execution_count": 24,
   "metadata": {},
   "outputs": [
    {
     "data": {
      "text/plain": [
       "'<!DOCTYPE html><html><body><h2>HTML Images</h2><p>HTML images are defined with the img tag:</p><img src=\"w3schools.jpg\" alt=\"W3Schools.com\" width=\"104\" height=\"142\"></body></html>'"
      ]
     },
     "execution_count": 24,
     "metadata": {},
     "output_type": "execute_result"
    }
   ],
   "source": [
    "# Make sure to run this cell.\n",
    "html = '<!DOCTYPE html><html><body><h2>HTML Images</h2><p>HTML images are defined with the img tag:</p><img src=\"w3schools.jpg\" alt=\"W3Schools.com\" width=\"104\" height=\"142\"></body></html>'\n",
    "html"
   ]
  },
  {
   "cell_type": "markdown",
   "metadata": {},
   "source": [
    "11\\. (0.5 pts) An HTML element starts with the `<html>` tag and ends with `</html>` tag. Using a regular expression, get a list of strings containing the HTML element in `html` and save the resulting list in the variable `ans11`. The list must look as follows:"
   ]
  },
  {
   "cell_type": "raw",
   "metadata": {},
   "source": [
    "['<html><body><h2>HTML Images</h2><p>HTML images are defined with the img tag:</p><img src=\"w3schools.jpg\" alt=\"W3Schools.com\" width=\"104\" height=\"142\"></body></html>']"
   ]
  },
  {
   "cell_type": "code",
   "execution_count": 25,
   "metadata": {},
   "outputs": [],
   "source": [
    "# Your answer here\n",
    "ans11 = re.findall(\"<html>.*</html>\", html)"
   ]
  },
  {
   "cell_type": "code",
   "execution_count": 26,
   "metadata": {},
   "outputs": [
    {
     "data": {
      "text/plain": [
       "['<html><body><h2>HTML Images</h2><p>HTML images are defined with the img tag:</p><img src=\"w3schools.jpg\" alt=\"W3Schools.com\" width=\"104\" height=\"142\"></body></html>']"
      ]
     },
     "execution_count": 26,
     "metadata": {},
     "output_type": "execute_result"
    }
   ],
   "source": [
    "# Check your answer here. (Do not make any change to this cell. Just run this cell.)\n",
    "ans11"
   ]
  },
  {
   "cell_type": "markdown",
   "metadata": {},
   "source": [
    "12\\. (0.6 pts) A P element starts with the `<p>` tag and ends with `</p>` tag. Using a regular expression, get a list of strings containing only the text part between the start tag and the end tag in `html` and save the resulting list in the variable `ans12`. The list must look as follows:"
   ]
  },
  {
   "cell_type": "raw",
   "metadata": {},
   "source": [
    "['HTML images are defined with the img tag:']"
   ]
  },
  {
   "cell_type": "code",
   "execution_count": 27,
   "metadata": {},
   "outputs": [],
   "source": [
    "# Your answer here\n",
    "ans12 = re.findall(\"<p>(.+)</p>\", html)"
   ]
  },
  {
   "cell_type": "code",
   "execution_count": 28,
   "metadata": {},
   "outputs": [
    {
     "data": {
      "text/plain": [
       "['HTML images are defined with the img tag:']"
      ]
     },
     "execution_count": 28,
     "metadata": {},
     "output_type": "execute_result"
    }
   ],
   "source": [
    "# Check your answer here. (Do not make any change to this cell. Just run this cell.)\n",
    "ans12"
   ]
  },
  {
   "cell_type": "markdown",
   "metadata": {},
   "source": [
    "String `text` contains several email addresses in it. "
   ]
  },
  {
   "cell_type": "code",
   "execution_count": 29,
   "metadata": {},
   "outputs": [
    {
     "name": "stdout",
     "output_type": "stream",
     "text": [
      "If you have any questions, please contact any of the following session organizers:\n",
      "\n",
      "Roy Barnes, rcbarnes@umich.edu\n",
      "Josh Murray, josh.murray@vanderbilt.edu\n",
      "Tarun Banerjee, tarunbanerjee@pitt.edu\n",
      "Eelke Heemskerk, E.M.Heemskerk@uva.nl\n",
      "Mohamed Oubenal, oubenal1@gmail.com\n",
      "\n",
      "If you have any problems with the system please do not hesitate to contact info@data-mining-forum.de.\n",
      "\n",
      "We look forward to seeing you in Paris!\n"
     ]
    }
   ],
   "source": [
    "# Make sure to run this cell.\n",
    "text = \"If you have any questions, please contact any of the following session organizers:\\n\\n\\\n",
    "Roy Barnes, rcbarnes@umich.edu\\n\\\n",
    "Josh Murray, josh.murray@vanderbilt.edu\\n\\\n",
    "Tarun Banerjee, tarunbanerjee@pitt.edu\\n\\\n",
    "Eelke Heemskerk, E.M.Heemskerk@uva.nl\\n\\\n",
    "Mohamed Oubenal, oubenal1@gmail.com\\n\\n\\\n",
    "If you have any problems with the system please do not hesitate to contact info@data-mining-forum.de.\\n\\n\\\n",
    "We look forward to seeing you in Paris!\"\n",
    "\n",
    "print(text)"
   ]
  },
  {
   "cell_type": "markdown",
   "metadata": {},
   "source": [
    "13\\. (0.5 pts) Using a regular expression, get a list of strings containing all the email addresses in `text` and save the resulting list in the variable `ans13`. The list must contain all six email addresses as follows:"
   ]
  },
  {
   "cell_type": "raw",
   "metadata": {},
   "source": [
    "['rcbarnes@umich.edu',\n",
    " 'josh.murray@vanderbilt.edu',\n",
    " 'tarunbanerjee@pitt.edu',\n",
    " 'E.M.Heemskerk@uva.nl',\n",
    " 'oubenal1@gmail.com',\n",
    " 'info@data-mining-forum.de']"
   ]
  },
  {
   "cell_type": "code",
   "execution_count": 30,
   "metadata": {
    "scrolled": true
   },
   "outputs": [],
   "source": [
    "# Your answer here\n",
    "ans13 = re.findall(\"[a-zA-Z0-9\\.]+@[a-zA-Z0-9.-]+\\.[a-zA-Z0-9]+\", text)"
   ]
  },
  {
   "cell_type": "code",
   "execution_count": 31,
   "metadata": {},
   "outputs": [
    {
     "data": {
      "text/plain": [
       "['rcbarnes@umich.edu',\n",
       " 'josh.murray@vanderbilt.edu',\n",
       " 'tarunbanerjee@pitt.edu',\n",
       " 'E.M.Heemskerk@uva.nl',\n",
       " 'oubenal1@gmail.com',\n",
       " 'info@data-mining-forum.de']"
      ]
     },
     "execution_count": 31,
     "metadata": {},
     "output_type": "execute_result"
    }
   ],
   "source": [
    "# Check your answer here. (Do not make any change to this cell. Just run this cell.)\n",
    "ans13"
   ]
  },
  {
   "cell_type": "markdown",
   "metadata": {},
   "source": [
    "### Now that you have completed all the questions, click Kernel > Restart & Run All to creat a clean version of this notebook and check if all cells have run as expected. "
   ]
  },
  {
   "cell_type": "markdown",
   "metadata": {},
   "source": [
    "## Quick Survey"
   ]
  },
  {
   "cell_type": "markdown",
   "metadata": {},
   "source": [
    "How long did it take you to complete this homework? (This will not affect your score. Your answer will be very helpful for the instructor to design homewoks and exams. Thank you!)"
   ]
  },
  {
   "cell_type": "markdown",
   "metadata": {},
   "source": [
    ": X minutes"
   ]
  }
 ],
 "metadata": {
  "kernelspec": {
   "display_name": "Python 3",
   "language": "python",
   "name": "python3"
  },
  "language_info": {
   "codemirror_mode": {
    "name": "ipython",
    "version": 3
   },
   "file_extension": ".py",
   "mimetype": "text/x-python",
   "name": "python",
   "nbconvert_exporter": "python",
   "pygments_lexer": "ipython3",
   "version": "3.7.5"
  }
 },
 "nbformat": 4,
 "nbformat_minor": 2
}
