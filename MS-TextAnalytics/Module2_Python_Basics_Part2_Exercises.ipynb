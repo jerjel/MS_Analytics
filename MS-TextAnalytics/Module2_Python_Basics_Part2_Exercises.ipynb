{
 "cells": [
  {
   "cell_type": "markdown",
   "metadata": {},
   "source": [
    "# Text Analytics | BAIS:6100\n",
    "# Module 2: Python Basics for Text Processing, Part 2 - Exercises"
   ]
  },
  {
   "cell_type": "markdown",
   "metadata": {},
   "source": [
    "Instructor: Kang-Pyo Lee "
   ]
  },
  {
   "cell_type": "markdown",
   "metadata": {},
   "source": [
    "## Exercises - File Writing and Reading"
   ]
  },
  {
   "cell_type": "markdown",
   "metadata": {},
   "source": [
    "1\\. Import the two packages <b>random</b> and <b>string</b>. Copy-and-paste the `generate_random_string` function to reuse it. "
   ]
  },
  {
   "cell_type": "code",
   "execution_count": null,
   "metadata": {},
   "outputs": [],
   "source": [
    "# Your answer here\n"
   ]
  },
  {
   "cell_type": "markdown",
   "metadata": {},
   "source": [
    "2\\. Create a new file `ex_output.csv` in the `outcome` folder. The first row in the file contains the only column name `userid`. The following 500 rows contain user IDs, each of which starts with the string '*user*' followed by a string of five random digits. Rows are separated by a new line. For example, the first five rows in the file look as below. (Be aware that the numbers after '*user*' below should be different than yours as they were randomly generated.)"
   ]
  },
  {
   "cell_type": "raw",
   "metadata": {},
   "source": [
    "userid\n",
    "user75010\n",
    "user97549\n",
    "user49437\n",
    "user76840"
   ]
  },
  {
   "cell_type": "code",
   "execution_count": null,
   "metadata": {},
   "outputs": [],
   "source": [
    "# Your answer here\n",
    "with open(\"outcome/ex_output.csv\", mode=\"w\") as fw:\n",
    "    fw.write(\"userid\\n\")\n",
    "    \n",
    "    for i in range(500):\n",
    "        userid = \"user\" + generate_random_string(string.digits, 5, 5)\n",
    "        fw.write(\"{}\\n\".format(userid))"
   ]
  },
  {
   "cell_type": "markdown",
   "metadata": {},
   "source": [
    "3\\. Create another file `ex_output2.csv` in the `outcome` folder. The first row in the file contains two column names `userid` and `password`. The following 500 rows contain 1) user IDs with the same rule as above and 2) passwords, each of which is a string of 10-19 random digits, ASCII letters, or punctuation characters. Rows are separated by a new line and columns by a tab. For example, the first five rows in the file look as below. (Be aware again that the user IDs and passwords below should be different than yours.)"
   ]
  },
  {
   "cell_type": "raw",
   "metadata": {},
   "source": [
    "userid\tpassword\n",
    "user10552\td*L.Dgb!W,Q\n",
    "user85817\tJ;,?tFM#8Xv`\n",
    "user54513\t.Yt3_y73%i;H1\n",
    "user58010\ts.aN[7uJib"
   ]
  },
  {
   "cell_type": "code",
   "execution_count": null,
   "metadata": {},
   "outputs": [],
   "source": [
    "# Your answer here\n"
   ]
  },
  {
   "cell_type": "markdown",
   "metadata": {},
   "source": [
    "4\\. Read the `ex_output2.csv` file in the `outcome` directory and print the first ten rows including the header row as they are. For example, the first three rows in the printed output look as below. (Be aware again that the user IDs and passwords below should be different than yours.)"
   ]
  },
  {
   "cell_type": "raw",
   "metadata": {},
   "source": [
    "userid\tpassword\n",
    "user10552\td*L.Dgb!W,Q\n",
    "user85817\tJ;,?tFM#8Xv`"
   ]
  },
  {
   "cell_type": "code",
   "execution_count": null,
   "metadata": {},
   "outputs": [],
   "source": [
    "# Your answer here\n"
   ]
  },
  {
   "cell_type": "markdown",
   "metadata": {},
   "source": [
    "5\\. Read the `ex_output2.csv` file in the `outcome` directory and print only the user IDs in the first ten rows including the header row. For example, the first three rows in the printed output look as below. (Be aware again that the user IDs below should be different than yours.)"
   ]
  },
  {
   "cell_type": "raw",
   "metadata": {},
   "source": [
    "userid\n",
    "user10552\n",
    "user85817"
   ]
  },
  {
   "cell_type": "code",
   "execution_count": null,
   "metadata": {},
   "outputs": [],
   "source": [
    "# Your answer here\n"
   ]
  },
  {
   "cell_type": "markdown",
   "metadata": {},
   "source": [
    "## Exercises - Element Selection from a Dataframe"
   ]
  },
  {
   "cell_type": "markdown",
   "metadata": {},
   "source": [
    "Twitter screen name options:\n",
    "- justinbieber\n",
    "- katyperry\n",
    "- Cristiano\n",
    "- TheEllenShow\n",
    "- KimKardashian\n",
    "- cnnbrk\n",
    "- BillGates\n",
    "- nytimes\n",
    "- NASA\n",
    "- elonmusk"
   ]
  },
  {
   "cell_type": "code",
   "execution_count": null,
   "metadata": {},
   "outputs": [],
   "source": [
    "from IPython.display import Image\n",
    "Image(\"classdata/images/data_timelines.png\")"
   ]
  },
  {
   "cell_type": "markdown",
   "metadata": {},
   "source": [
    "Choose a Twitter screen name you're interested in and save it in the `screen_name` variable below. Note that screen names are case-sensitive. "
   ]
  },
  {
   "cell_type": "code",
   "execution_count": null,
   "metadata": {},
   "outputs": [],
   "source": [
    "screen_name = \"cnnbrk\""
   ]
  },
  {
   "cell_type": "markdown",
   "metadata": {},
   "source": [
    "Import the <b>Pandas</b> package and set the max column width to 150. "
   ]
  },
  {
   "cell_type": "code",
   "execution_count": null,
   "metadata": {},
   "outputs": [],
   "source": [
    "# Your answer here\n"
   ]
  },
  {
   "cell_type": "markdown",
   "metadata": {},
   "source": [
    "1\\. Read the CSV file in the `classdata/tweets/` folder that corresponds to the Twitter user you have chosen into a Pandas dataframe `df`. "
   ]
  },
  {
   "cell_type": "code",
   "execution_count": null,
   "metadata": {},
   "outputs": [],
   "source": [
    "# Your answer here\n"
   ]
  },
  {
   "cell_type": "code",
   "execution_count": null,
   "metadata": {},
   "outputs": [],
   "source": [
    "# Check your answer here. (Do not make any change to this cell. Just run this cell.)\n",
    "df"
   ]
  },
  {
   "cell_type": "markdown",
   "metadata": {},
   "source": [
    "2\\. Get the list of column labels of `df`. "
   ]
  },
  {
   "cell_type": "code",
   "execution_count": null,
   "metadata": {
    "scrolled": true
   },
   "outputs": [],
   "source": [
    "# Your answer here\n"
   ]
  },
  {
   "cell_type": "markdown",
   "metadata": {},
   "source": [
    "3\\. Get the list of row index positions of `df`. "
   ]
  },
  {
   "cell_type": "code",
   "execution_count": null,
   "metadata": {
    "scrolled": true
   },
   "outputs": [],
   "source": [
    "# Your answer here\n"
   ]
  },
  {
   "cell_type": "markdown",
   "metadata": {},
   "source": [
    "4\\. Get the shape of `df`. "
   ]
  },
  {
   "cell_type": "code",
   "execution_count": null,
   "metadata": {
    "scrolled": true
   },
   "outputs": [],
   "source": [
    "# Your answer here\n"
   ]
  },
  {
   "cell_type": "markdown",
   "metadata": {},
   "source": [
    "5\\. Get the number of rows, or records, in `df`. "
   ]
  },
  {
   "cell_type": "code",
   "execution_count": null,
   "metadata": {
    "scrolled": true
   },
   "outputs": [],
   "source": [
    "# Your answer here\n"
   ]
  },
  {
   "cell_type": "markdown",
   "metadata": {},
   "source": [
    "6\\. Select all values from the `created_at` column. "
   ]
  },
  {
   "cell_type": "code",
   "execution_count": null,
   "metadata": {},
   "outputs": [],
   "source": [
    "# Your answer here\n"
   ]
  },
  {
   "cell_type": "markdown",
   "metadata": {},
   "source": [
    "7\\. Select the first 3 rows from `df`. "
   ]
  },
  {
   "cell_type": "code",
   "execution_count": null,
   "metadata": {},
   "outputs": [],
   "source": [
    "# Your answer here\n"
   ]
  },
  {
   "cell_type": "markdown",
   "metadata": {},
   "source": [
    "8\\. Select the last 3 rows from `df`."
   ]
  },
  {
   "cell_type": "code",
   "execution_count": null,
   "metadata": {},
   "outputs": [],
   "source": [
    "# Your answer here\n"
   ]
  },
  {
   "cell_type": "markdown",
   "metadata": {},
   "source": [
    "9. Select the element at row index position 999 and in the `text` column."
   ]
  },
  {
   "cell_type": "code",
   "execution_count": null,
   "metadata": {},
   "outputs": [],
   "source": [
    "# Your answer here\n"
   ]
  },
  {
   "cell_type": "markdown",
   "metadata": {},
   "source": [
    "10\\. Select the element in the fifth row and the third column."
   ]
  },
  {
   "cell_type": "code",
   "execution_count": null,
   "metadata": {},
   "outputs": [],
   "source": [
    "# Your answer here\n"
   ]
  },
  {
   "cell_type": "markdown",
   "metadata": {},
   "source": [
    "11\\. Select all values from the last column, without specifying the column label."
   ]
  },
  {
   "cell_type": "code",
   "execution_count": null,
   "metadata": {},
   "outputs": [],
   "source": [
    "# Your answer here\n"
   ]
  },
  {
   "cell_type": "markdown",
   "metadata": {},
   "source": [
    "12\\. Select all rows in the last two columns, without specifying the column labels."
   ]
  },
  {
   "cell_type": "code",
   "execution_count": null,
   "metadata": {},
   "outputs": [],
   "source": [
    "# Your answer here\n"
   ]
  },
  {
   "cell_type": "markdown",
   "metadata": {},
   "source": [
    "13\\. Select the first five rows in the last two columns, without specifying the column labels."
   ]
  },
  {
   "cell_type": "code",
   "execution_count": null,
   "metadata": {},
   "outputs": [],
   "source": [
    "# Your answer here\n"
   ]
  },
  {
   "cell_type": "markdown",
   "metadata": {},
   "source": [
    "14\\. Select all rows from `df` with the `favorite_count` column value being strictly larger than 5000."
   ]
  },
  {
   "cell_type": "code",
   "execution_count": null,
   "metadata": {
    "scrolled": true
   },
   "outputs": [],
   "source": [
    "# Your answer here\n"
   ]
  },
  {
   "cell_type": "markdown",
   "metadata": {},
   "source": [
    "15\\. Select all rows from `df` with the `favorite_count` column value being between 5000 (inclusive) and 10000 (exclusive)."
   ]
  },
  {
   "cell_type": "code",
   "execution_count": null,
   "metadata": {},
   "outputs": [],
   "source": [
    "# Your answer here\n"
   ]
  },
  {
   "cell_type": "markdown",
   "metadata": {},
   "source": [
    "16\\. Create a random sample of 100 rows from `df` without duplicates. "
   ]
  },
  {
   "cell_type": "code",
   "execution_count": null,
   "metadata": {
    "scrolled": false
   },
   "outputs": [],
   "source": [
    "# Your answer here\n"
   ]
  },
  {
   "cell_type": "markdown",
   "metadata": {},
   "source": [
    "## Exercises - Dataframe Iteration & File Writing"
   ]
  },
  {
   "cell_type": "markdown",
   "metadata": {},
   "source": [
    "Let's continue to use `df`."
   ]
  },
  {
   "cell_type": "markdown",
   "metadata": {},
   "source": [
    "1\\. Select the first ten values from the `text` column of `df` and print the first 30 characters of each value concatenated by the string '...'. Rows in the printed output are separated by a new line. For example, the first three rows in the printed output look as follows. (Be aware that your output text should be different if you have chosen a different dataset.)"
   ]
  },
  {
   "cell_type": "raw",
   "metadata": {},
   "source": [
    "The Federal Reserve has left i...\n",
    "A Homeland Security message wa...\n",
    "A tornado strikes Florida, dam..."
   ]
  },
  {
   "cell_type": "code",
   "execution_count": null,
   "metadata": {
    "scrolled": true
   },
   "outputs": [],
   "source": [
    "# Your answer here\n",
    "for text in df[:10].text:\n",
    "    print(text[:30] + \"...\")"
   ]
  },
  {
   "cell_type": "markdown",
   "metadata": {},
   "source": [
    "2\\. Select the first ten rows from `df` and print the values of each row in the following format: 'created at: CREATED_AT, text: TEXT, retweet_count: RETWEET_COUNT', where CREATED_AT, TEXT, and RETWEET_COUNT are the values from the three columns `created_at`, `text`, and `retweet_count`, respectively. Rows are separated by two new lines. For example, the first three rows in the printed output look as follows. (Be aware that your output text should be different if you have chosen a different dataset.)"
   ]
  },
  {
   "cell_type": "raw",
   "metadata": {},
   "source": [
    "created_at: Wed Jan 27 19:26:46 +0000 2021, text: The Federal Reserve has left interest rates unchanged as it warns of a slowing economic recovery… https://t.co/RcZ9jODrJX, retweet_count: 172\n",
    "\n",
    "created_at: Wed Jan 27 19:12:11 +0000 2021, text: A Homeland Security message warns of potential violence from extremists that could persist in the weeks following t… https://t.co/xCrcl2ABeV, retweet_count: 419\n",
    "\n",
    "created_at: Wed Jan 27 17:24:37 +0000 2021, text: A tornado strikes Florida, damaging Tallahassee International Airport, the National Weather Service says https://t.co/qwM7GwCTwp, retweet_count: 302\n"
   ]
  },
  {
   "cell_type": "code",
   "execution_count": null,
   "metadata": {
    "scrolled": false
   },
   "outputs": [],
   "source": [
    "# Your answer here\n"
   ]
  },
  {
   "cell_type": "markdown",
   "metadata": {},
   "source": [
    "3\\. Select all rows from `df` with the `is_retweet` column value being 0 and save the resulting dataframe in a CSV file in the `outcome` folder such that the column separator is a tab and it contains the index of the dataframe. "
   ]
  },
  {
   "cell_type": "code",
   "execution_count": null,
   "metadata": {
    "scrolled": true
   },
   "outputs": [],
   "source": [
    "# Your answer here\n"
   ]
  },
  {
   "cell_type": "markdown",
   "metadata": {},
   "source": [
    "## Exercises - Adding Columns to a Dataframe"
   ]
  },
  {
   "cell_type": "markdown",
   "metadata": {},
   "source": [
    "Let's continue to use `df`."
   ]
  },
  {
   "cell_type": "markdown",
   "metadata": {},
   "source": [
    "1\\. Add a new column `text_shortened` to `df` such that each value in the column is the first 30 characters of the `text` column value concatenated by the string '...'.  "
   ]
  },
  {
   "cell_type": "code",
   "execution_count": null,
   "metadata": {},
   "outputs": [],
   "source": [
    "# Your answer here\n",
    "df[\"text_shortened\"] = df.text.apply(lambda x: x[:30] + \"...\")"
   ]
  },
  {
   "cell_type": "code",
   "execution_count": null,
   "metadata": {},
   "outputs": [],
   "source": [
    "# Check your answer here.\n",
    "df[[\"text\", \"text_shortened\"]]"
   ]
  },
  {
   "cell_type": "markdown",
   "metadata": {},
   "source": [
    "2\\. Add a new column `first_last_token` to `df` such that each column value is a tuple with two elements: the first element being the first token of the `text` column value and the second one being the last token (use the <b>split</b> method). "
   ]
  },
  {
   "cell_type": "code",
   "execution_count": null,
   "metadata": {},
   "outputs": [],
   "source": [
    "# Your answer here\n"
   ]
  },
  {
   "cell_type": "code",
   "execution_count": null,
   "metadata": {},
   "outputs": [],
   "source": [
    "# Check your answer here.\n",
    "df[[\"text\", \"first_last_token\"]]"
   ]
  },
  {
   "cell_type": "markdown",
   "metadata": {},
   "source": [
    "3\\. Add a new column `metrics` to `df` such that each column value is a tuple with three values from the three columns `retweet_count`, `favorite_count`, and `is_retweet`, respectively, in order. "
   ]
  },
  {
   "cell_type": "code",
   "execution_count": null,
   "metadata": {},
   "outputs": [],
   "source": [
    "# Your answer here\n"
   ]
  },
  {
   "cell_type": "code",
   "execution_count": null,
   "metadata": {},
   "outputs": [],
   "source": [
    "# Check your answer here.\n",
    "df[[\"retweet_count\", \"favorite_count\", \"is_retweet\", \"metrics\"]]"
   ]
  },
  {
   "cell_type": "markdown",
   "metadata": {},
   "source": [
    "4\\. Add a new column `text_noellipsis` to `df` such that each column value is just the `text` column value but with no ellipsis ('…') in it. "
   ]
  },
  {
   "cell_type": "code",
   "execution_count": null,
   "metadata": {},
   "outputs": [],
   "source": [
    "# Your answer here\n"
   ]
  },
  {
   "cell_type": "code",
   "execution_count": null,
   "metadata": {},
   "outputs": [],
   "source": [
    "# Check your answer here.\n",
    "df[[\"text\", \"text_noellipsis\"]]"
   ]
  },
  {
   "cell_type": "markdown",
   "metadata": {},
   "source": [
    "5\\. Add a new column `num_mentions` to `df` such that each column value is the number of '@' symbols in the `text` column value. "
   ]
  },
  {
   "cell_type": "code",
   "execution_count": null,
   "metadata": {},
   "outputs": [],
   "source": [
    "# Your answer here\n"
   ]
  },
  {
   "cell_type": "code",
   "execution_count": null,
   "metadata": {},
   "outputs": [],
   "source": [
    "# Check your answer here.\n",
    "df[[\"text\", \"num_mentions\"]]"
   ]
  },
  {
   "cell_type": "markdown",
   "metadata": {},
   "source": [
    "## Exercises - Regular Expressions"
   ]
  },
  {
   "cell_type": "code",
   "execution_count": null,
   "metadata": {},
   "outputs": [],
   "source": [
    "dates = [\"23-10-2002\", \"23/10/2002\", \"10/23/2002\", \"23/10/02\", \"23 Oct 2002\", \n",
    "         \"23 October 2002\", \"Oct 23, 2002\", \"October 23, 2002\"]"
   ]
  },
  {
   "cell_type": "markdown",
   "metadata": {},
   "source": [
    "The `text` string contains various forms of date expressions. "
   ]
  },
  {
   "cell_type": "code",
   "execution_count": null,
   "metadata": {},
   "outputs": [],
   "source": [
    "text = \"\\n\".join(dates)\n",
    "print(text)"
   ]
  },
  {
   "cell_type": "markdown",
   "metadata": {},
   "source": [
    "Import the <b>re</b> package."
   ]
  },
  {
   "cell_type": "code",
   "execution_count": null,
   "metadata": {},
   "outputs": [],
   "source": [
    "# Your answer here\n"
   ]
  },
  {
   "cell_type": "markdown",
   "metadata": {},
   "source": [
    "1\\. Write a regular expression that is able to find from `text` the following patterns: DD-mm-YYYY, DD/mm/YYYY, and mm/DD/YYYY where Y denotes each digit in a year, m each digit in a month, and D each digit in a day. The output list must have found the first three dates in `text` as follows: "
   ]
  },
  {
   "cell_type": "raw",
   "metadata": {},
   "source": [
    "['23-10-2002', '23/10/2002', '10/23/2002']"
   ]
  },
  {
   "cell_type": "code",
   "execution_count": null,
   "metadata": {},
   "outputs": [],
   "source": [
    "# Your answer here\n",
    "re.findall(\"\\d\\d[/-]\\d\\d[/-]\\d\\d\\d\\d\", text)"
   ]
  },
  {
   "cell_type": "markdown",
   "metadata": {},
   "source": [
    "2\\. Write a regular expression that is able to find the above patterns as well as mm/DD/YY. The output list must have found the first four dates in `text` as follows: "
   ]
  },
  {
   "cell_type": "raw",
   "metadata": {},
   "source": [
    "['23-10-2002', '23/10/2002', '10/23/2002', '23/10/02']"
   ]
  },
  {
   "cell_type": "code",
   "execution_count": null,
   "metadata": {},
   "outputs": [],
   "source": [
    "# Your answer here\n"
   ]
  },
  {
   "cell_type": "markdown",
   "metadata": {},
   "source": [
    "3\\. Write a regular expression that is able to find the following pattern: DD b YYYY where b denotes the abbreviated month name such as Jan and Feb. The output list must have found the following date in `text`: "
   ]
  },
  {
   "cell_type": "raw",
   "metadata": {},
   "source": [
    "['23 Oct 2002']"
   ]
  },
  {
   "cell_type": "code",
   "execution_count": null,
   "metadata": {},
   "outputs": [],
   "source": [
    "# Your answer here\n"
   ]
  },
  {
   "cell_type": "markdown",
   "metadata": {},
   "source": [
    "4\\. Write a regular expression that is able to find the following patterns: DD b YYYY and DD B YYYY where B denotes the full month name such as January and February. The output list must have found the following dates in `text`: "
   ]
  },
  {
   "cell_type": "raw",
   "metadata": {},
   "source": [
    "['23 Oct 2002', '23 October 2002']"
   ]
  },
  {
   "cell_type": "code",
   "execution_count": null,
   "metadata": {},
   "outputs": [],
   "source": [
    "# Your answer here\n"
   ]
  },
  {
   "cell_type": "markdown",
   "metadata": {},
   "source": [
    "5\\. Write a regular expression that is able to find the following patterns: b DD, YYYY and B DD, YYYY. The output list must have found the following dates in `text`: "
   ]
  },
  {
   "cell_type": "raw",
   "metadata": {},
   "source": [
    "['Oct 23, 2002', 'October 23, 2002']"
   ]
  },
  {
   "cell_type": "code",
   "execution_count": null,
   "metadata": {},
   "outputs": [],
   "source": [
    "# Your answer here\n"
   ]
  }
 ],
 "metadata": {
  "kernelspec": {
   "display_name": "Python 3",
   "language": "python",
   "name": "python3"
  },
  "language_info": {
   "codemirror_mode": {
    "name": "ipython",
    "version": 3
   },
   "file_extension": ".py",
   "mimetype": "text/x-python",
   "name": "python",
   "nbconvert_exporter": "python",
   "pygments_lexer": "ipython3",
   "version": "3.7.5"
  }
 },
 "nbformat": 4,
 "nbformat_minor": 2
}
