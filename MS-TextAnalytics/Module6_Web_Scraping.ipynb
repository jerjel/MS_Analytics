{
 "cells": [
  {
   "cell_type": "markdown",
   "metadata": {},
   "source": [
    "# Text Analytics | BAIS:6100\n",
    "# Module 6: Web Scraping"
   ]
  },
  {
   "cell_type": "markdown",
   "metadata": {},
   "source": [
    "Instructor: Kang-Pyo Lee \n",
    "\n",
    "Topics to be covered:\n",
    "- Fetching content from a website using <b>requests</b>\n",
    "- Parsing HTML code using <b>BeautifulSoup</b>"
   ]
  },
  {
   "cell_type": "code",
   "execution_count": null,
   "metadata": {},
   "outputs": [],
   "source": [
    "# ! pip install --user --upgrade bs4 requests"
   ]
  },
  {
   "cell_type": "markdown",
   "metadata": {},
   "source": [
    "## Fetch HTML content from a webpage using Requests"
   ]
  },
  {
   "cell_type": "markdown",
   "metadata": {},
   "source": [
    "https://fivethirtyeight.com/features/why-was-the-national-polling-environment-so-off-in-2020/"
   ]
  },
  {
   "cell_type": "code",
   "execution_count": null,
   "metadata": {},
   "outputs": [],
   "source": [
    "url = \"https://fivethirtyeight.com/features/why-was-the-national-polling-environment-so-off-in-2020/\""
   ]
  },
  {
   "cell_type": "markdown",
   "metadata": {},
   "source": [
    "### *** Please run the cells for HTTP requests only when needed. "
   ]
  },
  {
   "cell_type": "code",
   "execution_count": null,
   "metadata": {},
   "outputs": [],
   "source": [
    "import requests\n",
    "r = requests.get(url)"
   ]
  },
  {
   "cell_type": "markdown",
   "metadata": {},
   "source": [
    "https://requests.kennethreitz.org/"
   ]
  },
  {
   "cell_type": "code",
   "execution_count": null,
   "metadata": {
    "scrolled": true
   },
   "outputs": [],
   "source": [
    "r.content"
   ]
  },
  {
   "cell_type": "markdown",
   "metadata": {},
   "source": [
    "Note that the HTML content you have retrieved does not always corresopond to what you are actually seeing on a web browser. Web sites are able to distinguish program access from normal human access using a web browser. Some web sites do not care about the program access, whereas other web sites do care about it and block the undesirable access. In this case, take a close look at the HTML content and you will see it does not have the information you expected.  "
   ]
  },
  {
   "cell_type": "markdown",
   "metadata": {},
   "source": [
    "## Load the fetched content as a BeautifulSoup object"
   ]
  },
  {
   "cell_type": "code",
   "execution_count": null,
   "metadata": {
    "scrolled": true
   },
   "outputs": [],
   "source": [
    "from bs4 import BeautifulSoup\n",
    "\n",
    "soup = BeautifulSoup(r.content, \"html.parser\")"
   ]
  },
  {
   "cell_type": "markdown",
   "metadata": {},
   "source": [
    "https://www.crummy.com/software/BeautifulSoup/bs4/doc/"
   ]
  },
  {
   "cell_type": "markdown",
   "metadata": {},
   "source": [
    "## Extract the title of the webpage"
   ]
  },
  {
   "cell_type": "markdown",
   "metadata": {},
   "source": [
    "Do not confuse the title of a webpage with the title of an article."
   ]
  },
  {
   "cell_type": "code",
   "execution_count": null,
   "metadata": {
    "scrolled": true
   },
   "outputs": [],
   "source": [
    "soup.title"
   ]
  },
  {
   "cell_type": "code",
   "execution_count": null,
   "metadata": {},
   "outputs": [],
   "source": [
    "soup.title.text"
   ]
  },
  {
   "cell_type": "markdown",
   "metadata": {},
   "source": [
    "## Extract the title of the article"
   ]
  },
  {
   "cell_type": "markdown",
   "metadata": {},
   "source": [
    "If you want to extract information from a webpage, always start by identifying the corresponding HTML element in the HTML code using the Inspect feature of the Chrome Browser. \n",
    "\n",
    "When searching for an HTML element using <b>BeautifulSoup</b>, you can use either the <b>find</b> method or <b>find_all</b> method.\n",
    "- The <b>find</b> method returns the first found element. \n",
    "- The <b>find_all</b> method returns a list of all found elements in order. \n",
    "\n",
    "You can simply choose to use the <b>find</b> mehtod if you are confident that there is only one element matching or the element you are searching for is the first element matching.  "
   ]
  },
  {
   "cell_type": "code",
   "execution_count": null,
   "metadata": {
    "scrolled": true
   },
   "outputs": [],
   "source": [
    "soup.find(name=\"h1\", attrs={\"class\": \"article-title article-title-single entry-title\"})"
   ]
  },
  {
   "cell_type": "markdown",
   "metadata": {},
   "source": [
    "https://www.crummy.com/software/BeautifulSoup/bs4/doc/#find"
   ]
  },
  {
   "cell_type": "markdown",
   "metadata": {},
   "source": [
    "In addition to specifying the tag of the element you are searching for in the first parameter `name`, you can use any clues that help identify the element by specifying them in the second parameter `attrs`. Note the `attrs` parameter takes a dictionary. \n",
    "\n",
    "In the above example, if the class name is unique, you will always be able to find the element. If not, the <b>find</b> method will return the first found element, which could not be the element you are trying to find. In this case, you would better use different clues in the `attrs` parameter or consider using the <b>find_all</b> method.  "
   ]
  },
  {
   "cell_type": "code",
   "execution_count": null,
   "metadata": {},
   "outputs": [],
   "source": [
    "soup.find(\"h1\", {\"class\": \"article-title article-title-single entry-title\"}).text"
   ]
  },
  {
   "cell_type": "code",
   "execution_count": null,
   "metadata": {},
   "outputs": [],
   "source": [
    "soup.find(\"h1\", {\"class\": \"article-title article-title-single entry-title\"}).text.strip()"
   ]
  },
  {
   "cell_type": "markdown",
   "metadata": {},
   "source": [
    "## Extract the author name of the article"
   ]
  },
  {
   "cell_type": "code",
   "execution_count": null,
   "metadata": {},
   "outputs": [],
   "source": [
    "soup.find(\"a\", {\"class\": \"author url fn\"})"
   ]
  },
  {
   "cell_type": "code",
   "execution_count": null,
   "metadata": {},
   "outputs": [],
   "source": [
    "soup.find(\"a\", {\"class\": \"author url fn\"}).text"
   ]
  },
  {
   "cell_type": "code",
   "execution_count": null,
   "metadata": {},
   "outputs": [],
   "source": [
    "soup.find(\"a\", {\"class\": \"author url fn\"})[\"href\"]"
   ]
  },
  {
   "cell_type": "markdown",
   "metadata": {},
   "source": [
    "## Fetch an image from the webpage"
   ]
  },
  {
   "cell_type": "code",
   "execution_count": null,
   "metadata": {},
   "outputs": [],
   "source": [
    "soup.find(\"picture\", {\"class\": \"featured-picture\"})"
   ]
  },
  {
   "cell_type": "markdown",
   "metadata": {},
   "source": [
    "When the element you are searching for has no unique clues, you should try finding the parent/ancestor element, by which you can narrow down the scope of search, and then you can start another search from there. This is the beauty of hierarchical search. "
   ]
  },
  {
   "cell_type": "code",
   "execution_count": null,
   "metadata": {},
   "outputs": [],
   "source": [
    "soup.find(\"picture\", {\"class\": \"featured-picture\"}).find(\"img\")"
   ]
  },
  {
   "cell_type": "markdown",
   "metadata": {},
   "source": [
    "Because there is only one img element in the picture element found above, you do not have to add any additional attributes, or clues, in the find method. "
   ]
  },
  {
   "cell_type": "code",
   "execution_count": null,
   "metadata": {},
   "outputs": [],
   "source": [
    "soup.find(\"picture\", {\"class\": \"featured-picture\"}).find(\"img\")[\"src\"]"
   ]
  },
  {
   "cell_type": "code",
   "execution_count": null,
   "metadata": {},
   "outputs": [],
   "source": [
    "img_url = soup.find(\"picture\", {\"class\": \"featured-picture\"}).find(\"img\")[\"src\"]\n",
    "img_url"
   ]
  },
  {
   "cell_type": "code",
   "execution_count": null,
   "metadata": {
    "scrolled": false
   },
   "outputs": [],
   "source": [
    "from IPython.display import Image\n",
    "\n",
    "Image(url=img_url)"
   ]
  },
  {
   "cell_type": "markdown",
   "metadata": {},
   "source": [
    "Note that this is not saving the image. It is just displaying the image fetched from the website. "
   ]
  },
  {
   "cell_type": "code",
   "execution_count": null,
   "metadata": {},
   "outputs": [],
   "source": [
    "r = requests.get(img_url)\n",
    "\n",
    "with open(\"outcome/photo.jpg\", \"w+b\") as fw:\n",
    "    fw.write(r.content)"
   ]
  },
  {
   "cell_type": "code",
   "execution_count": null,
   "metadata": {},
   "outputs": [],
   "source": [
    "Image(\"outcome/photo.jpg\")"
   ]
  },
  {
   "cell_type": "markdown",
   "metadata": {},
   "source": [
    "## Extract the body text of the article"
   ]
  },
  {
   "cell_type": "code",
   "execution_count": null,
   "metadata": {},
   "outputs": [],
   "source": [
    "soup.find(\"div\", attrs={\"class\": \"entry-content single-post-content\"})"
   ]
  },
  {
   "cell_type": "code",
   "execution_count": null,
   "metadata": {
    "scrolled": true
   },
   "outputs": [],
   "source": [
    "soup.find(\"div\", attrs={\"class\": \"entry-content single-post-content\"}).text"
   ]
  },
  {
   "cell_type": "code",
   "execution_count": null,
   "metadata": {
    "scrolled": true
   },
   "outputs": [],
   "source": [
    "soup.find(\"div\", attrs={\"class\": \"entry-content single-post-content\"}).text.replace(\"\\n\", \" \").strip()"
   ]
  },
  {
   "cell_type": "markdown",
   "metadata": {},
   "source": [
    "## Extract a list of article titles"
   ]
  },
  {
   "cell_type": "markdown",
   "metadata": {},
   "source": [
    "https://fivethirtyeight.com/features/"
   ]
  },
  {
   "cell_type": "code",
   "execution_count": null,
   "metadata": {},
   "outputs": [],
   "source": [
    "url = \"https://fivethirtyeight.com/features/\"\n",
    "r = requests.get(url)\n",
    "soup = BeautifulSoup(r.content, \"html.parser\")"
   ]
  },
  {
   "cell_type": "code",
   "execution_count": null,
   "metadata": {
    "scrolled": false
   },
   "outputs": [],
   "source": [
    "h2_list = soup.find_all(name=\"h2\", attrs={\"class\": \"article-title entry-title\"})\n",
    "h2_list"
   ]
  },
  {
   "cell_type": "markdown",
   "metadata": {},
   "source": [
    "https://www.crummy.com/software/BeautifulSoup/bs4/doc/#find-all"
   ]
  },
  {
   "cell_type": "markdown",
   "metadata": {},
   "source": [
    "The <b>find_all</b> method looks through a tag’s descendants and retrieves all descendants that match your filters."
   ]
  },
  {
   "cell_type": "code",
   "execution_count": null,
   "metadata": {
    "scrolled": true
   },
   "outputs": [],
   "source": [
    "len(h2_list)"
   ]
  },
  {
   "cell_type": "code",
   "execution_count": null,
   "metadata": {},
   "outputs": [],
   "source": [
    "for h2 in h2_list:\n",
    "    print(h2.text.strip())"
   ]
  },
  {
   "cell_type": "code",
   "execution_count": null,
   "metadata": {},
   "outputs": [],
   "source": [
    "for h2 in h2_list:\n",
    "    url = h2.find(\"a\")[\"href\"]     # Starting from each h2 element, go deeper by one level to find an a element \n",
    "    print(url)"
   ]
  },
  {
   "cell_type": "markdown",
   "metadata": {},
   "source": [
    "The hierarchical search of BeautifulSoup is very useful in navigating the nested HTML elements. "
   ]
  },
  {
   "cell_type": "markdown",
   "metadata": {},
   "source": [
    "## Handle pagination"
   ]
  },
  {
   "cell_type": "code",
   "execution_count": null,
   "metadata": {},
   "outputs": [],
   "source": [
    "urls = [\"https://fivethirtyeight.com/features/\"]\n",
    "\n",
    "for i in range(2, 101):     # The range(2, 101) generates a list of integers from 2 to 100.\n",
    "    url = \"https://fivethirtyeight.com/features/page/{}/\".format(i)\n",
    "    urls.append(url)\n",
    "    \n",
    "urls"
   ]
  },
  {
   "cell_type": "markdown",
   "metadata": {},
   "source": [
    "Try to get all of the URLs of the target webpages first before trying to get the contents from those webpages. At this point, it is important to find a rule for creating the URLs. "
   ]
  },
  {
   "cell_type": "code",
   "execution_count": null,
   "metadata": {},
   "outputs": [],
   "source": [
    "for url in urls:\n",
    "    print(url)              # Do whatever you want with each web page."
   ]
  },
  {
   "cell_type": "markdown",
   "metadata": {},
   "source": [
    "## Write & read an HTML file"
   ]
  },
  {
   "cell_type": "code",
   "execution_count": null,
   "metadata": {},
   "outputs": [],
   "source": [
    "url = \"https://fivethirtyeight.com/features/why-was-the-national-polling-environment-so-off-in-2020/\"\n",
    "r = requests.get(url)"
   ]
  },
  {
   "cell_type": "code",
   "execution_count": null,
   "metadata": {},
   "outputs": [],
   "source": [
    "url[len(\"https://fivethirtyeight.com/features/\"):-1]"
   ]
  },
  {
   "cell_type": "code",
   "execution_count": null,
   "metadata": {},
   "outputs": [],
   "source": [
    "file_name = url[len(\"https://fivethirtyeight.com/features/\"):-1] + \".html\"\n",
    "file_name"
   ]
  },
  {
   "cell_type": "code",
   "execution_count": null,
   "metadata": {},
   "outputs": [],
   "source": [
    "with open(\"outcome/\" + file_name, \"w+b\") as fw:\n",
    "    fw.write(r.content)"
   ]
  },
  {
   "cell_type": "code",
   "execution_count": null,
   "metadata": {},
   "outputs": [],
   "source": [
    "with open(\"outcome/\" + file_name, \"r+b\") as fr:\n",
    "    soup = BeautifulSoup(fr.read(), \"html.parser\")\n",
    "    \n",
    "    print(soup.title.text)          # Do whatever you want with the saved web page."
   ]
  },
  {
   "cell_type": "markdown",
   "metadata": {},
   "source": [
    "## Automate the process of saving all articles on the Features list"
   ]
  },
  {
   "cell_type": "code",
   "execution_count": null,
   "metadata": {},
   "outputs": [],
   "source": [
    "urls = [\"https://fivethirtyeight.com/features/\"]\n",
    "\n",
    "for i in range(2, 10):     # The range(2, 10) generates a list of integers from 2 to 9.\n",
    "    url = \"https://fivethirtyeight.com/features/page/{}/\".format(i)\n",
    "    urls.append(url)\n",
    "\n",
    "urls"
   ]
  },
  {
   "cell_type": "code",
   "execution_count": null,
   "metadata": {},
   "outputs": [],
   "source": [
    "import os\n",
    "\n",
    "if not os.path.isdir(\"outcome/HTMLs\"):\n",
    "    os.mkdir(\"outcome/HTMLs\")"
   ]
  },
  {
   "cell_type": "code",
   "execution_count": null,
   "metadata": {},
   "outputs": [],
   "source": [
    "import time     # Necessary for the sleep function."
   ]
  },
  {
   "cell_type": "code",
   "execution_count": null,
   "metadata": {
    "scrolled": false
   },
   "outputs": [],
   "source": [
    "for url in urls:\n",
    "    print(url)\n",
    "    \n",
    "    ####################################################\n",
    "    # Get the content of a page\n",
    "    ####################################################\n",
    "    r = requests.get(url)\n",
    "    soup = BeautifulSoup(r.content, \"html.parser\")\n",
    "    \n",
    "    ####################################################\n",
    "    # Get the list of articles\n",
    "    ####################################################\n",
    "    h2_list = soup.find_all(name=\"h2\", attrs={\"class\": \"article-title entry-title\"})\n",
    "    \n",
    "    for h2 in h2_list:\n",
    "        ####################################################\n",
    "        # Find the anchor tag\n",
    "        ####################################################\n",
    "        a = h2.find(\"a\")\n",
    "        \n",
    "        ####################################################\n",
    "        # Extract the title & URL of an article\n",
    "        ####################################################\n",
    "        title = a.text\n",
    "        article_url = a[\"href\"]\n",
    "        \n",
    "        ####################################################\n",
    "        # Fetch the content and save it as an HTML file\n",
    "        ####################################################\n",
    "        r2 = requests.get(article_url)\n",
    "                \n",
    "        file_name = article_url[len(\"https://fivethirtyeight.com/features/\"):-1] + \".html\"\n",
    "        with open(\"outcome/HTMLs/\" + file_name, \"w+b\") as fw:\n",
    "            fw.write(r2.content)\n",
    "        \n",
    "        print(\"- \" + file_name + \" saved.\")\n",
    "        \n",
    "        ####################################################\n",
    "        # Sleep for a second to not overload the web site\n",
    "        ####################################################\n",
    "        time.sleep(1)\n",
    "    \n",
    "    print()"
   ]
  },
  {
   "cell_type": "markdown",
   "metadata": {},
   "source": [
    "## Extract information from all HTML files & save it in a CSV file"
   ]
  },
  {
   "cell_type": "code",
   "execution_count": null,
   "metadata": {},
   "outputs": [],
   "source": [
    "os.listdir(\"outcome/HTMLs\")"
   ]
  },
  {
   "cell_type": "code",
   "execution_count": null,
   "metadata": {},
   "outputs": [],
   "source": [
    "with open(\"outcome/html_metadata.csv\", \"w\", encoding=\"utf8\") as fw:\n",
    "    ####################################################\n",
    "    # Column names on the first row\n",
    "    ####################################################\n",
    "    fw.write(\"file_name\\tarticle_title\\tarticle_author\\n\")   # A tab between columns and a new line between rows  \n",
    "\n",
    "    for file_name in os.listdir(\"outcome/HTMLs\"):\n",
    "        if not file_name.endswith(\".html\"):\n",
    "            continue\n",
    "        \n",
    "        ####################################################\n",
    "        # Column values starting from the second row\n",
    "        ####################################################\n",
    "        with open(\"outcome/HTMLs/\" + file_name, \"r+b\") as fr:\n",
    "            print(file_name)\n",
    "            soup = BeautifulSoup(fr.read(), \"html.parser\")\n",
    "            article_title = soup.find(\"h1\", {\"class\": \"article-title article-title-single entry-title\"}).text.strip()\n",
    "            article_author = soup.find(\"a\", {\"class\": \"author url fn\"}).text\n",
    "            \n",
    "            #####################################################################\n",
    "            # Remove all possible tabs, as tab is being used as column delimiter\n",
    "            #####################################################################\n",
    "            article_title = article_title.replace(\"\\t\", \"\")\n",
    "            article_aurthor = article_author.replace(\"\\t\", \"\")\n",
    "            \n",
    "            fw.write(\"{}\\t{}\\t{}\\n\".format(file_name, article_title, article_author))"
   ]
  },
  {
   "cell_type": "code",
   "execution_count": null,
   "metadata": {},
   "outputs": [],
   "source": [
    "with open(\"outcome/html_metadata.csv\", \"w\", encoding=\"utf8\") as fw:\n",
    "    ####################################################\n",
    "    # Column names on the first row\n",
    "    ####################################################\n",
    "    fw.write(\"file_name\\tarticle_title\\tarticle_author\\n\")\n",
    "\n",
    "    for file_name in os.listdir(\"outcome/HTMLs\"):\n",
    "        if not file_name.endswith(\".html\"):\n",
    "            continue\n",
    "        \n",
    "        ####################################################\n",
    "        # Column values starting from the second row\n",
    "        ####################################################\n",
    "        with open(\"outcome/HTMLs/\" + file_name, \"r+b\") as fr:\n",
    "            print(file_name)\n",
    "            soup = BeautifulSoup(fr.read(), \"html.parser\")\n",
    "            article_title = soup.find(\"h1\", {\"class\": \"article-title article-title-single entry-title\"}).text.strip()\n",
    "            \n",
    "            ####################################################\n",
    "            # No author exception handling\n",
    "            ####################################################\n",
    "            if soup.find(\"a\", {\"class\": \"author url fn\"}) == None:\n",
    "                article_author = \"\"\n",
    "            else:\n",
    "                article_author = soup.find(\"a\", {\"class\": \"author url fn\"}).text\n",
    "            \n",
    "            ####################################################\n",
    "            # Remove all possible tabs\n",
    "            ####################################################\n",
    "            article_title = article_title.replace(\"\\t\", \"\")\n",
    "            article_aurthor = article_author.replace(\"\\t\", \"\")\n",
    "                        \n",
    "            fw.write(\"{}\\t{}\\t{}\\n\".format(file_name, article_title, article_author))"
   ]
  },
  {
   "cell_type": "markdown",
   "metadata": {},
   "source": [
    "## Exercises - HTML Parsing Using BeautifulSoup"
   ]
  }
 ],
 "metadata": {
  "kernelspec": {
   "display_name": "Python 3",
   "language": "python",
   "name": "python3"
  },
  "language_info": {
   "codemirror_mode": {
    "name": "ipython",
    "version": 3
   },
   "file_extension": ".py",
   "mimetype": "text/x-python",
   "name": "python",
   "nbconvert_exporter": "python",
   "pygments_lexer": "ipython3",
   "version": "3.7.5"
  }
 },
 "nbformat": 4,
 "nbformat_minor": 1
}
