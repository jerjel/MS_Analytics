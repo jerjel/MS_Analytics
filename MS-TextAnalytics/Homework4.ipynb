{
 "cells": [
  {
   "cell_type": "markdown",
   "metadata": {},
   "source": [
    "# Text Analytics | BAIS:6100\n",
    "# Homework 4. Web Scraping"
   ]
  },
  {
   "cell_type": "markdown",
   "metadata": {},
   "source": [
    "5 questions, 7 points in total"
   ]
  },
  {
   "cell_type": "markdown",
   "metadata": {},
   "source": [
    "## Instructions"
   ]
  },
  {
   "cell_type": "markdown",
   "metadata": {},
   "source": [
    "- Fill in the Python statements needed to complete all the questions below. \n",
    "- Program everything inside this notebook. \n",
    "- Use only one cell per question. \n",
    "- Each code cell must be run with no errors.\n",
    "- Do not contain any unnecessary code in your answer. (Only the final outcome will be regarded as your answer.)\n",
    "- If the question requests that you store information in a certain variable, use the specific variables name (case sensitive).\n",
    "- All problems must be solved in a programmable way.\n",
    "- When you are done, make sure to save your notebook and then click Restart & Run All before subimission to create a clean version."
   ]
  },
  {
   "cell_type": "markdown",
   "metadata": {},
   "source": [
    "## Questions"
   ]
  },
  {
   "cell_type": "markdown",
   "metadata": {},
   "source": [
    "Import the <b>requests</b> package and the <b>BeautifulSoup</b> module from the <b>bs4</b> package . You are going to extract information from one of the webpages on DataScienceCentral.com: https://www.datasciencecentral.com/profiles/blogs/beautiful-mathematical-images. Fetch the HTML content from the webpage and then create a BeautifulSoup object named `soup` to parse the HTML content. "
   ]
  },
  {
   "cell_type": "code",
   "execution_count": null,
   "metadata": {},
   "outputs": [],
   "source": [
    "# Your answer here\n"
   ]
  },
  {
   "cell_type": "code",
   "execution_count": null,
   "metadata": {},
   "outputs": [],
   "source": [
    "# Check your answer here. (Do not make any change to this cell. Just run this cell.)\n",
    "soup"
   ]
  },
  {
   "cell_type": "markdown",
   "metadata": {},
   "source": [
    "1\\. (1 pt) Get the title text of the article, not of the webpage, which is '*Beautiful Mathematical Images*', and save it in the `ans1` variable."
   ]
  },
  {
   "cell_type": "code",
   "execution_count": null,
   "metadata": {},
   "outputs": [],
   "source": [
    "# Your answer here\n"
   ]
  },
  {
   "cell_type": "code",
   "execution_count": null,
   "metadata": {},
   "outputs": [],
   "source": [
    "# Check your answer here. (Do not make any change to this cell. Just run this cell.)\n",
    "ans1"
   ]
  },
  {
   "cell_type": "markdown",
   "metadata": {},
   "source": [
    "2\\. (1 pt) Right below the article title, there is a text referring to the author, '*Vincent Granville*', followed by another text referring to the posting date and time, '*on February 2, 2021 at 10:30am*'. Get the two texts and save them in the variables `ans2_1` and `ans2_2`, respectively. Strip out unnecessary leading or trailing whitespaces.  \n",
    "\n",
    "[Hint] Each of the two texts is defined in an a element. Focus on finding those two a elements. You may need hierarchical search. "
   ]
  },
  {
   "cell_type": "code",
   "execution_count": null,
   "metadata": {},
   "outputs": [],
   "source": [
    "# Your answer here\n"
   ]
  },
  {
   "cell_type": "code",
   "execution_count": null,
   "metadata": {},
   "outputs": [],
   "source": [
    "# Check your answer here. (Do not make any change to this cell. Just run this cell.)\n",
    "ans2_1, ans2_2"
   ]
  },
  {
   "cell_type": "markdown",
   "metadata": {},
   "source": [
    "3\\. (1 pt) Get the entire body text of the article, which starts with '*To zoom in on any picture,*' and ends with '*articles and books, here.*'. To clean the text, do the following:\n",
    "- Replace each new line ('\\n') in the body text with a whitespace (' ')\n",
    "- Remove all '\\xa0' characters.\n",
    "- Strip out all leading and trailing whitespaces. \n",
    "\n",
    "Save the resulting string in the variable `ans3`."
   ]
  },
  {
   "cell_type": "code",
   "execution_count": null,
   "metadata": {},
   "outputs": [],
   "source": [
    "# Your answer here\n"
   ]
  },
  {
   "cell_type": "code",
   "execution_count": null,
   "metadata": {
    "scrolled": true
   },
   "outputs": [],
   "source": [
    "# Check your answer here. (Do not make any change to this cell. Just run this cell.)\n",
    "ans3"
   ]
  },
  {
   "cell_type": "markdown",
   "metadata": {},
   "source": [
    "4\\. (2 pts) There are seven images in the body text. Print the URL of each image in order, seprarated by a new line. The printed output look as follows:"
   ]
  },
  {
   "cell_type": "raw",
   "metadata": {},
   "source": [
    "https://storage.ning.com/topology/rest/1.0/file/get/8505475867?profile=RESIZE_710x\n",
    "https://storage.ning.com/topology/rest/1.0/file/get/8505364456?profile=RESIZE_710x\n",
    "https://storage.ning.com/topology/rest/1.0/file/get/8507391075?profile=RESIZE_710x\n",
    "https://storage.ning.com/topology/rest/1.0/file/get/8507394283?profile=RESIZE_710x\n",
    "https://storage.ning.com/topology/rest/1.0/file/get/8507115889?profile=RESIZE_710x\n",
    "https://storage.ning.com/topology/rest/1.0/file/get/8507235501?profile=RESIZE_710x\n",
    "https://storage.ning.com/topology/rest/1.0/file/get/8572990262?profile=RESIZE_710x"
   ]
  },
  {
   "cell_type": "code",
   "execution_count": null,
   "metadata": {},
   "outputs": [],
   "source": [
    "# Your answer here\n"
   ]
  },
  {
   "cell_type": "markdown",
   "metadata": {},
   "source": [
    "<hr>"
   ]
  },
  {
   "cell_type": "markdown",
   "metadata": {},
   "source": [
    "Next, you are going to extract information from another webpage on DataScienceCentral.com: https://www.datasciencecentral.com/profiles/blog/list?promoted=1&page=1. Fetch the HTML content from the webpage and then create a BeautifulSoup object named `soup2` to parse the HTML content. "
   ]
  },
  {
   "cell_type": "code",
   "execution_count": null,
   "metadata": {},
   "outputs": [],
   "source": [
    "# Your answer here\n"
   ]
  },
  {
   "cell_type": "code",
   "execution_count": null,
   "metadata": {},
   "outputs": [],
   "source": [
    "# Check your answer here. (Do not make any change to this cell. Just run this cell.)\n",
    "soup2"
   ]
  },
  {
   "cell_type": "markdown",
   "metadata": {},
   "source": [
    "5\\. (2 pts) The webpage lists 20 featured blog posts. Print the title and URL of each blog post, such that the title is printed on the first row and the URL on the following row, followed by a new line on the following row. For example, the first three blog posts on the list are printed as below. Note that the titles and URLs could be different than yours, as the content of the webpage changes overt time. "
   ]
  },
  {
   "cell_type": "raw",
   "metadata": {},
   "source": [
    "A Plethora of Machine Learning Articles: Part 2\n",
    "https://www.datasciencecentral.com/profiles/blogs/a-plethora-of-machine-learning-articles-part-2\n",
    "\n",
    "DSC Weekly Digest 01 March 2021\n",
    "https://www.datasciencecentral.com/profiles/blogs/dsc-weekly-digest-01-march-2021\n",
    "\n",
    "Tweaking Algorithmic Filtering to Combat Fake News\n",
    "https://www.datasciencecentral.com/profiles/blogs/tweaking-algorithmic-filtering-to-combat-fake-news\n"
   ]
  },
  {
   "cell_type": "code",
   "execution_count": null,
   "metadata": {
    "scrolled": false
   },
   "outputs": [],
   "source": [
    "# Your answer here\n"
   ]
  },
  {
   "cell_type": "markdown",
   "metadata": {},
   "source": [
    "### Now that you have completed all the questions, click Kernel > Restart & Run All to creat a clean version of this notebook and check if all cells have run as expected. "
   ]
  }
 ],
 "metadata": {
  "kernelspec": {
   "display_name": "Python 3",
   "language": "python",
   "name": "python3"
  },
  "language_info": {
   "codemirror_mode": {
    "name": "ipython",
    "version": 3
   },
   "file_extension": ".py",
   "mimetype": "text/x-python",
   "name": "python",
   "nbconvert_exporter": "python",
   "pygments_lexer": "ipython3",
   "version": "3.7.5"
  }
 },
 "nbformat": 4,
 "nbformat_minor": 2
}
