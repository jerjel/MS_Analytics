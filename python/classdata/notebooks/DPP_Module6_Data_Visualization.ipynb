{
 "cells": [
  {
   "cell_type": "markdown",
   "metadata": {},
   "source": [
    "# Data Programming in Python | BAIS:6040\n",
    "# Data Visualization"
   ]
  },
  {
   "cell_type": "markdown",
   "metadata": {},
   "source": [
    "Instructor: Jeff Hendricks\n",
    "\n",
    "Topics to be covered:\n",
    "- Visualization Using Matplotlib Pandas\n",
    "- Visualization of Time Series Data\n",
    "- Visualization Using Seaborn\n",
    "- Interactive Visualization Using Plotly & Cufflinks\n",
    "- Exercises\n",
    "\n",
    "References: \n",
    "- Seaborn (https://seaborn.pydata.org/)\n",
    "- Plotly (https://plotly.com/python/)\n",
    "- Cufflinks(https://plotly.com/python/pandas-backend/)\n",
    "- Major League Baseball data form SeanLahman.com (http://www.seanlahman.com/baseball-archive/statistics/)\n",
    "- Pandas Visualization (https://pandas.pydata.org/pandas-docs/stable/user_guide/visualization.html) \n",
    "- Python Data Science Handbook by Jake VanderPlas (http://shop.oreilly.com/product/0636920034919.do)\n",
    "- Python for Data Analysis by Wes McKinney (https://www.oreilly.com/library/view/python-for-data/9781491957653/)"
   ]
  },
  {
   "cell_type": "markdown",
   "metadata": {},
   "source": [
    "## Importing Modules"
   ]
  },
  {
   "cell_type": "code",
   "execution_count": null,
   "metadata": {},
   "outputs": [],
   "source": [
    "from IPython.display import Image                   # image display\n",
    "import matplotlib.pyplot as plt                     # visualization\n",
    "import numpy as np                                  # random number generation\n",
    "import pandas as pd                                 # dataframes\n",
    "\n",
    "# inline display of plots\n",
    "%matplotlib inline"
   ]
  },
  {
   "cell_type": "markdown",
   "metadata": {},
   "source": [
    "## Basic Matplotlib\n",
    "\n",
    "Matplotlib provides the functionality to create static bitmap objects (PNG,JPG) or of PDF format\n",
    "\n",
    "- plt.figure() figure properties\n",
    "- plt.axis() axis properties\n",
    "- plt.grid() grid properties\n",
    "- plt.plot() plot function with x and y arguments\n",
    "- plt.xlabel(), plt.ylabel() labels for respective axes\n",
    "- plt.title() title for the overall plot\n",
    "\n",
    "https://matplotlib.org/tutorials/introductory/pyplot.html#sphx-glr-tutorials-introductory-pyplot-py"
   ]
  },
  {
   "cell_type": "markdown",
   "metadata": {},
   "source": [
    "### Using Style Sheets\n",
    "\n",
    "The style package adds support for easy-to-switch plotting \"styles\"\n",
    "\n",
    "https://matplotlib.org/tutorials/introductory/customizing.html\n",
    "\n",
    "https://tonysyu.github.io/raw_content/matplotlib-style-gallery/gallery.html"
   ]
  },
  {
   "cell_type": "code",
   "execution_count": null,
   "metadata": {},
   "outputs": [],
   "source": [
    "# set the plotting style to seaborn\n",
    "plt.style.use('seaborn')"
   ]
  },
  {
   "cell_type": "markdown",
   "metadata": {},
   "source": [
    "### Line Properties\n",
    "\n",
    "- Color Abbreviations\n",
    "   - r = red\n",
    "   - g = green\n",
    "   - b = blue\n",
    "   - k = blak\n",
    "- Character Symbols\n",
    "   - o = circle marker\n",
    "   - v = triangle_down marker\n",
    "- Line width\n",
    "\n",
    "https://matplotlib.org/api/_as_gen/matplotlib.lines.Line2D.html#matplotlib.lines.Line2D"
   ]
  },
  {
   "cell_type": "code",
   "execution_count": null,
   "metadata": {},
   "outputs": [],
   "source": [
    "# create a 2-dimensional array with 3 columns of data\n",
    "# each column is a cumulative sum along the rows (axis 0)\n",
    "y = np.random.standard_normal((20,3)).cumsum(axis=0)"
   ]
  },
  {
   "cell_type": "code",
   "execution_count": null,
   "metadata": {},
   "outputs": [],
   "source": [
    "y.shape"
   ]
  },
  {
   "cell_type": "code",
   "execution_count": null,
   "metadata": {
    "scrolled": false
   },
   "outputs": [],
   "source": [
    "# pyplot automatically considers each column (axis 1 dimension) as a separate data series\n",
    "plt.figure(figsize=(10,10))\n",
    "plt.plot(y,lw=1.5)\n",
    "plt.plot(y,'ro')  # adds a red circle symbol\n",
    "plt.xlabel('Index')\n",
    "plt.ylabel('Value')\n",
    "plt.title('Basic Plot')\n",
    "plt.show()"
   ]
  },
  {
   "cell_type": "code",
   "execution_count": null,
   "metadata": {},
   "outputs": [],
   "source": [
    "# explicity assign a data subset to a line and label them\n",
    "# you can add a legend and set the location\n",
    "plt.figure(figsize=(10,10))\n",
    "plt.plot(y[:,0],lw=1.5, label='Line 1')\n",
    "plt.plot(y[:,1],lw=1.5, label='Line 2')\n",
    "plt.plot(y[:,2],lw=1.5, label='Line 3')\n",
    "plt.plot(y,'ro')  # adds a red circle symbol\n",
    "plt.legend(loc=0)  # sets the location of the legend to the best possible\n",
    "plt.xlabel('Index')\n",
    "plt.ylabel('Value')\n",
    "plt.title('Basic Plot')\n",
    "plt.show()"
   ]
  },
  {
   "cell_type": "markdown",
   "metadata": {},
   "source": [
    "## Basics of Pandas and Matplotlib Visualization"
   ]
  },
  {
   "cell_type": "markdown",
   "metadata": {},
   "source": [
    "The <b>matplotlib.pyplot.plot</b> is a function of Matplotlib, while the <b>pandas.Series.plot</b> and <b>pandas.DataFrame.plot</b> are methods of Pandas. "
   ]
  },
  {
   "cell_type": "markdown",
   "metadata": {},
   "source": [
    "The <b>matplotlib.pyplot.plot</b> function is used to plot data. The <b>plot</b> method on series and dataframes is just a simple wrapper around <b>matplotlib.pyplot.plot</b>, which means you can just use the <b>plot</b> method on a series or a dataframe without having to explicitly call <b>matplotlib.pyplot.plot</b>. Nevertheless, you still need to import <b>matplotlib.pyplot</b> to use the <b>plot</b> method of Pandas."
   ]
  },
  {
   "cell_type": "code",
   "execution_count": null,
   "metadata": {},
   "outputs": [],
   "source": [
    "#import matplotlib.pyplot as plt                     \n",
    "import numpy as np                                  \n",
    "import pandas as pd\n",
    "\n",
    "series = pd.Series(np.random.randint(1, 101, 10))   # from an array with 10 random integers between 1 and 100 \n",
    "series"
   ]
  },
  {
   "cell_type": "code",
   "execution_count": null,
   "metadata": {},
   "outputs": [],
   "source": [
    "series.plot(kind=\"line\", grid=True)\n",
    "plt.show()"
   ]
  },
  {
   "cell_type": "markdown",
   "metadata": {},
   "source": [
    "pandas.Series.plot: https://pandas.pydata.org/pandas-docs/stable/reference/api/pandas.Series.plot.html"
   ]
  },
  {
   "cell_type": "markdown",
   "metadata": {},
   "source": [
    "When drawing a plot on a Pandas series using the <b>plot</b> method, the x axis is the index of the series, while the y axis is its values."
   ]
  },
  {
   "cell_type": "markdown",
   "metadata": {},
   "source": [
    "`kind`: str\n",
    "- line: line plot (default)\n",
    "- bar: vertical bar plot\n",
    "- barh: horizontal bar plot\n",
    "- hist: histogram\n",
    "- box: boxplot\n",
    "- kde: Kernel Density Estimation plot\n",
    "- density: same as ‘kde’\n",
    "- area: area plot\n",
    "- pie: pie plot"
   ]
  },
  {
   "cell_type": "code",
   "execution_count": null,
   "metadata": {},
   "outputs": [],
   "source": [
    "df = pd.DataFrame(np.random.randint(1, 101, (10,3)),  # from a 10 x 3 array with random integers between 1 and 100\n",
    "                  columns=[\"a\", \"b\", \"c\"])\n",
    "df"
   ]
  },
  {
   "cell_type": "code",
   "execution_count": null,
   "metadata": {},
   "outputs": [],
   "source": [
    "df.plot(kind=\"bar\", grid=True)\n",
    "plt.show()"
   ]
  },
  {
   "cell_type": "markdown",
   "metadata": {},
   "source": [
    "pandas.DataFrame.plot: https://pandas.pydata.org/pandas-docs/stable/reference/api/pandas.DataFrame.plot.html"
   ]
  },
  {
   "cell_type": "markdown",
   "metadata": {},
   "source": [
    "When drawing a plot on a Pandas dataframe using the <b>plot</b> method, the x axis is the index of the dataframe, while the y axis is the values of the columns in the dataframe. In this example, there are thee lines that correspond to the three columns."
   ]
  },
  {
   "cell_type": "code",
   "execution_count": null,
   "metadata": {
    "scrolled": false
   },
   "outputs": [],
   "source": [
    "df[[\"b\", \"c\"]].plot(kind=\"line\", grid=True)"
   ]
  },
  {
   "cell_type": "markdown",
   "metadata": {},
   "source": [
    "You can select some of the columns you are interested in. "
   ]
  },
  {
   "cell_type": "code",
   "execution_count": null,
   "metadata": {},
   "outputs": [],
   "source": [
    "df[[\"b\", \"c\"]].plot(kind=\"line\", grid=True)\n",
    "plt.show()                                        # Remove the plotting objects information above the plot."
   ]
  },
  {
   "cell_type": "markdown",
   "metadata": {},
   "source": [
    "## Visualization of Baseball Data"
   ]
  },
  {
   "cell_type": "code",
   "execution_count": null,
   "metadata": {},
   "outputs": [],
   "source": [
    "import matplotlib.pyplot as plt \n",
    "import pandas as pd"
   ]
  },
  {
   "cell_type": "code",
   "execution_count": null,
   "metadata": {},
   "outputs": [],
   "source": [
    "dfb = pd.read_csv(\"data/MLB_Batting.csv\")"
   ]
  },
  {
   "cell_type": "code",
   "execution_count": null,
   "metadata": {},
   "outputs": [],
   "source": [
    "dfb.info()"
   ]
  },
  {
   "cell_type": "raw",
   "metadata": {},
   "source": [
    "# Data Dictionary (Variable, Definition)\n",
    "playerID       Player ID code\n",
    "yearID         Year\n",
    "stint          player's stint (order of appearances within a season)\n",
    "teamID         Team\n",
    "lgID           League\n",
    "G              Games\n",
    "AB             At Bats\n",
    "R              Runs\n",
    "H              Hits\n",
    "2B             Doubles\n",
    "3B             Triples\n",
    "HR             Homeruns\n",
    "RBI            Runs Batted In\n",
    "SB             Stolen Bases\n",
    "CS             Caught Stealing\n",
    "BB             Base on Balls\n",
    "SO             Strikeouts\n",
    "IBB            Intentional walks\n",
    "HBP            Hit by pitch\n",
    "SH             Sacrifice hits\n",
    "SF             Sacrifice flies\n",
    "GIDP           Grounded into double plays"
   ]
  },
  {
   "cell_type": "markdown",
   "metadata": {},
   "source": [
    "Each row, or record, is a batter. "
   ]
  },
  {
   "cell_type": "code",
   "execution_count": null,
   "metadata": {},
   "outputs": [],
   "source": [
    "dfb.head()"
   ]
  },
  {
   "cell_type": "code",
   "execution_count": null,
   "metadata": {},
   "outputs": [],
   "source": [
    "dfb.yearID.value_counts(ascending=False)     # Count the number of rows, or records, by year."
   ]
  },
  {
   "cell_type": "markdown",
   "metadata": {},
   "source": [
    "pandas.Series.value_counts: https://pandas.pydata.org/pandas-docs/stable/reference/api/pandas.Series.value_counts.html"
   ]
  },
  {
   "cell_type": "code",
   "execution_count": null,
   "metadata": {},
   "outputs": [],
   "source": [
    "dfb.lgID.value_counts(ascending=False)"
   ]
  },
  {
   "cell_type": "code",
   "execution_count": null,
   "metadata": {},
   "outputs": [],
   "source": [
    "dfb18 = dfb[(dfb.yearID == 2018) & ((dfb.lgID == \"NL\") | (dfb.lgID == \"AL\"))]"
   ]
  },
  {
   "cell_type": "markdown",
   "metadata": {},
   "source": [
    "We would like to select the rows in which the <i>yearID</i> is 2018 and the <i>lgID</i>  is either 'NL' or 'AL'."
   ]
  },
  {
   "cell_type": "code",
   "execution_count": null,
   "metadata": {},
   "outputs": [],
   "source": [
    "dfb18.shape"
   ]
  },
  {
   "cell_type": "code",
   "execution_count": null,
   "metadata": {
    "scrolled": false
   },
   "outputs": [],
   "source": [
    "dfb18.info()"
   ]
  },
  {
   "cell_type": "code",
   "execution_count": null,
   "metadata": {},
   "outputs": [],
   "source": [
    "dfb18.head()"
   ]
  },
  {
   "cell_type": "code",
   "execution_count": null,
   "metadata": {
    "scrolled": false
   },
   "outputs": [],
   "source": [
    "dfb18.tail()"
   ]
  },
  {
   "cell_type": "code",
   "execution_count": null,
   "metadata": {
    "scrolled": false
   },
   "outputs": [],
   "source": [
    "dfb18.H.plot(kind=\"line\", figsize=(15,7), legend=True, grid=True)\n",
    "plt.show()"
   ]
  },
  {
   "cell_type": "code",
   "execution_count": null,
   "metadata": {},
   "outputs": [],
   "source": [
    "dfb18['H'].plot(kind=\"line\", figsize=(15,7), legend=True, grid=True)\n",
    "plt.show()"
   ]
  },
  {
   "cell_type": "markdown",
   "metadata": {},
   "source": [
    "The x axis is the index of the series, which is the index of the dataframe, while the y axis is the values of the series. "
   ]
  },
  {
   "cell_type": "code",
   "execution_count": null,
   "metadata": {},
   "outputs": [],
   "source": [
    "dfb18.H.plot(kind=\"hist\", bins=30, grid=True, figsize=(15,7))\n",
    "plt.show()"
   ]
  },
  {
   "cell_type": "markdown",
   "metadata": {},
   "source": [
    "A histogram is a representation of the distribution of data. The function groups the values of a series into bins, counts the values in each bin, and then draws a histrogram with all bins in the x axis and their counts in the y axis."
   ]
  },
  {
   "cell_type": "markdown",
   "metadata": {},
   "source": [
    "Many of the values are in the first bin that contains values from 0 to 5 or something, which means many batters make at most 5 hits in the season of 2018. "
   ]
  },
  {
   "cell_type": "code",
   "execution_count": null,
   "metadata": {},
   "outputs": [],
   "source": [
    "dfb18.H.plot(kind=\"hist\", bins=30, cumulative=True, grid=True, figsize=(15,7))\n",
    "plt.show()"
   ]
  },
  {
   "cell_type": "markdown",
   "metadata": {},
   "source": [
    "A cumulative histogram is a cumulative representation of the distribution of data."
   ]
  },
  {
   "cell_type": "code",
   "execution_count": null,
   "metadata": {},
   "outputs": [],
   "source": [
    "dfb18[[\"AB\", \"H\", \"2B\", \"3B\", \"HR\", \"BB\", \"SO\"]].plot(kind=\"box\", grid=True, figsize=(15,7))\n",
    "plt.show()"
   ]
  },
  {
   "cell_type": "markdown",
   "metadata": {},
   "source": [
    "A box plot is a method for graphically depicting groups of numerical data through their quartiles (Q1, Q2, and Q3). The box extends from the Q1 to Q3 quartile values of the data, with a line at the median (Q2). The whiskers extend from the edges of box to show the range of the data. The position of the whiskers is set by default to 1.5 * IQR (IQR = Q3 - Q1) from the edges of the box. Outlier points are those past the end of the whiskers."
   ]
  },
  {
   "cell_type": "code",
   "execution_count": null,
   "metadata": {},
   "outputs": [],
   "source": [
    "Image(url=\"http://www.datavizcatalogue.com/methods/images/anatomy/box_plot.png\")"
   ]
  },
  {
   "cell_type": "code",
   "execution_count": null,
   "metadata": {},
   "outputs": [],
   "source": [
    "dfb18[[\"AB\", \"H\", \"2B\", \"3B\", \"HR\", \"BB\", \"SO\"]].plot(kind=\"box\", vert=False, grid=True, figsize=(15,7))\n",
    "plt.show()"
   ]
  },
  {
   "cell_type": "code",
   "execution_count": null,
   "metadata": {},
   "outputs": [],
   "source": [
    "dfb18.plot(kind='scatter', x='H', y='HR', figsize=(10,10))\n",
    "plt.show()"
   ]
  },
  {
   "cell_type": "markdown",
   "metadata": {},
   "source": [
    "A scatter plot is a two-dimensional data visualization that uses dots to represent the values obtained for two different variables - one plotted along the x axis and the other plotted along the y axis. This kind of plot is useful to see complex correlations between two variables."
   ]
  },
  {
   "cell_type": "code",
   "execution_count": null,
   "metadata": {},
   "outputs": [],
   "source": [
    "dfb18.plot(kind='scatter', x='HR', y='SO', figsize=(10,10))\n",
    "plt.show()"
   ]
  },
  {
   "cell_type": "code",
   "execution_count": null,
   "metadata": {
    "scrolled": false
   },
   "outputs": [],
   "source": [
    "pd.plotting.scatter_matrix(dfb18[[\"AB\", \"H\", \"2B\", \"3B\", \"HR\", \"BB\", \"SO\"]], figsize=(10,10), diagonal=\"hist\")\n",
    "plt.show()"
   ]
  },
  {
   "cell_type": "markdown",
   "metadata": {},
   "source": [
    "pandas.plotting.scatter_matrix: https://pandas.pydata.org/pandas-docs/stable/reference/api/pandas.plotting.scatter_matrix.html"
   ]
  },
  {
   "cell_type": "markdown",
   "metadata": {},
   "source": [
    "A scatter matrix is a pair-wise scatter plot of several variables presented in a matrix format. It can be used to determine whether the two variables are correlated and whether the correlation is positive or negative. \n",
    "- Positive correlation: as one variable increases so does the other\n",
    "- Negative Correlation: as one variable increases, the other decreases\n",
    "- No correlation: there is no apparent relationship between the two variables"
   ]
  },
  {
   "cell_type": "code",
   "execution_count": null,
   "metadata": {
    "scrolled": true
   },
   "outputs": [],
   "source": [
    "dfb18[[\"AB\", \"H\", \"2B\", \"3B\", \"HR\", \"BB\", \"SO\"]].corr()"
   ]
  },
  {
   "cell_type": "markdown",
   "metadata": {},
   "source": [
    "pandas.DataFrame.corr: https://pandas.pydata.org/pandas-docs/stable/reference/api/pandas.DataFrame.corr.html"
   ]
  },
  {
   "cell_type": "markdown",
   "metadata": {},
   "source": [
    "The <b>corr()</b> method computes pairwise correlation of columns. The closer the corrleation coefficient is to 1, the stronger the positive correlation is. Likewise, the closer it is to -1, the stronger the negative correlation is. "
   ]
  },
  {
   "cell_type": "markdown",
   "metadata": {},
   "source": [
    "`method`: {'pearson', 'kendall', 'spearman'}\n",
    "- pearson: standard correlation coefficient (default)\n",
    "- kendall: Kendall Tau correlation coefficient\n",
    "- spearman : Spearman rank correlation"
   ]
  },
  {
   "cell_type": "code",
   "execution_count": null,
   "metadata": {},
   "outputs": [],
   "source": [
    "series = dfb18.groupby(\"teamID\").HR.sum()\n",
    "series"
   ]
  },
  {
   "cell_type": "code",
   "execution_count": null,
   "metadata": {},
   "outputs": [],
   "source": [
    "series = series.sort_values(ascending=False)\n",
    "series"
   ]
  },
  {
   "cell_type": "code",
   "execution_count": null,
   "metadata": {},
   "outputs": [],
   "source": [
    "series.plot(kind=\"bar\", title=\"Home Runs by Team\", figsize=(15,5))"
   ]
  },
  {
   "cell_type": "code",
   "execution_count": null,
   "metadata": {},
   "outputs": [],
   "source": [
    "series.plot(kind=\"barh\", title=\"Home Runs by Team\", figsize=(10,10))"
   ]
  },
  {
   "cell_type": "code",
   "execution_count": null,
   "metadata": {},
   "outputs": [],
   "source": [
    "series = dfb18.groupby(\"lgID\").H.sum()\n",
    "series"
   ]
  },
  {
   "cell_type": "code",
   "execution_count": null,
   "metadata": {},
   "outputs": [],
   "source": [
    "series.plot(kind=\"pie\", title=\"Hits: AL vs. NL\", figsize=(5,5), autopct='%.1f', fontsize=13)"
   ]
  },
  {
   "cell_type": "markdown",
   "metadata": {},
   "source": [
    "## Visualization of Time Series Data "
   ]
  },
  {
   "cell_type": "code",
   "execution_count": null,
   "metadata": {},
   "outputs": [],
   "source": [
    "import pandas as pd\n",
    "\n",
    "# setting the squeeze parameter to True squeezes the one column dataframe down to type Series\n",
    "series = pd.read_csv('data/daily-minimum-temperatures.csv',header=0, index_col=0, parse_dates=True, squeeze=True)\n",
    "\n",
    "series.head()"
   ]
  },
  {
   "cell_type": "code",
   "execution_count": null,
   "metadata": {
    "scrolled": false
   },
   "outputs": [],
   "source": [
    "series.plot(kind=\"line\", title=\"Minimum Temp over Time\", figsize=(15,7))\n",
    "plt.show()"
   ]
  },
  {
   "cell_type": "code",
   "execution_count": null,
   "metadata": {
    "scrolled": true
   },
   "outputs": [],
   "source": [
    "series.loc['1990-1-1 00:00:00':]"
   ]
  },
  {
   "cell_type": "code",
   "execution_count": null,
   "metadata": {
    "scrolled": false
   },
   "outputs": [],
   "source": [
    "series.loc['1990-1-1':]"
   ]
  },
  {
   "cell_type": "code",
   "execution_count": null,
   "metadata": {},
   "outputs": [],
   "source": [
    "series.loc['1990-1-1':'1990-6-30']"
   ]
  },
  {
   "cell_type": "code",
   "execution_count": null,
   "metadata": {},
   "outputs": [],
   "source": [
    "series.loc['1990-1-1':'1990-6-30'].plot(kind=\"line\", title=\"Minimum Temp over Time\", figsize=(15,7))\n",
    "plt.show()"
   ]
  },
  {
   "cell_type": "markdown",
   "metadata": {},
   "source": [
    "## Plotting with Seaborn\n",
    "\n",
    "Seaborn is a Python data visualization library based on matplotlib. It provides a high-level interface for drawing attractive and informative statistical graphics.\n",
    "\n",
    "- Import of matplotlib required\n",
    "- Specializes on statistical visualizations\n",
    "- Richer visuals than matplotlib\n",
    "\n",
    "https://seaborn.pydata.org/tutorial.html"
   ]
  },
  {
   "cell_type": "markdown",
   "metadata": {},
   "source": [
    "### Seaborn figure styles\n",
    "There are five preset seaborn themes: darkgrid, whitegrid, dark, white, and ticks. They are each suited to different applications and personal preferences. The default theme is darkgrid. \n",
    "\n",
    "https://seaborn.pydata.org/tutorial/aesthetics.html#seaborn-figure-styles"
   ]
  },
  {
   "cell_type": "markdown",
   "metadata": {},
   "source": [
    "### Building color palettes\n",
    "\n",
    "The most important function for working with discrete color palettes is color_palette(). This function provides an interface to many (though not all) of the possible ways you can generate colors in seaborn, and it’s used internally by any function that has a palette argument (and in some cases for a color argument when multiple colors are needed).\n",
    "\n",
    "https://seaborn.pydata.org/tutorial/color_palettes.html"
   ]
  },
  {
   "cell_type": "code",
   "execution_count": null,
   "metadata": {},
   "outputs": [],
   "source": [
    "import pandas as pd\n",
    "import seaborn as sns\n",
    "import numpy as np\n",
    "import matplotlib.pyplot as plt\n",
    "from scipy import stats\n",
    "\n",
    "sns.set(style='ticks', palette='Set2')"
   ]
  },
  {
   "cell_type": "code",
   "execution_count": null,
   "metadata": {},
   "outputs": [],
   "source": [
    "df = sns.load_dataset('titanic')[[\"survived\", \"pclass\", \"sex\", \"age\", \"fare\"]].dropna()\n",
    "df['survive'] = df.survived.astype(bool)\n",
    "# Drop outliers. This is to help the visualization in the next examples.\n",
    "df = df[df.fare < 400]\n",
    "df.head()"
   ]
  },
  {
   "cell_type": "markdown",
   "metadata": {},
   "source": [
    "### Seaborn Boxplot\n",
    "\n",
    "https://seaborn.pydata.org/generated/seaborn.boxplot.html"
   ]
  },
  {
   "cell_type": "code",
   "execution_count": null,
   "metadata": {},
   "outputs": [],
   "source": [
    "sns.set(style=\"whitegrid\")\n",
    "sns.boxplot(x=\"survive\", y=\"fare\", hue='sex', width=0.6, data=df)\n",
    "plt.show()"
   ]
  },
  {
   "cell_type": "code",
   "execution_count": null,
   "metadata": {},
   "outputs": [],
   "source": [
    "def createBoxPlot(df, x, y):\n",
    "    sns.set(style=\"whitegrid\")\n",
    "    p = sns.boxplot(x=x, y=y, data=df)\n",
    "    m1 = df.groupby([x])[y].median().values\n",
    "    mL1 = [str(np.round(s, 2)) for s in m1]\n",
    "\n",
    "    ind = 0\n",
    "    for tick in range(len(p.get_xticklabels())):\n",
    "        p.text(tick-.2, m1[ind], mL1[ind],  horizontalalignment='center',  color='w', weight='semibold')\n",
    "        ind += 1    \n",
    "    plt.show()"
   ]
  },
  {
   "cell_type": "code",
   "execution_count": null,
   "metadata": {},
   "outputs": [],
   "source": [
    "createBoxPlot(df,'sex','fare')"
   ]
  },
  {
   "cell_type": "markdown",
   "metadata": {},
   "source": [
    "### Seaborn Distribution Plot\n",
    "\n",
    "This function combines the matplotlib hist function (with automatic calculation of a good default bin size) with the seaborn kdeplot() and rugplot() functions.\n",
    "\n",
    "- bins : specify the number of bins\n",
    "- rug : create the rugplot or not\n",
    "- kde : whether to plot a gaussian kernel density estimate\n",
    "\n",
    "https://seaborn.pydata.org/generated/seaborn.distplot.html#seaborn.distplot"
   ]
  },
  {
   "cell_type": "code",
   "execution_count": null,
   "metadata": {},
   "outputs": [],
   "source": [
    "sns.distplot(df.fare, rug=True, kde=True)\n",
    "plt.show()"
   ]
  },
  {
   "cell_type": "markdown",
   "metadata": {},
   "source": [
    "### Correlation Plot using Seaborn Heatmap"
   ]
  },
  {
   "cell_type": "code",
   "execution_count": null,
   "metadata": {},
   "outputs": [],
   "source": [
    "def createCorrelationPlot(df):\n",
    "    sns.set(style=\"white\")\n",
    "    # Compute the correlation matrix\n",
    "    #corr = d.corr()\n",
    "\n",
    "    # Generate a mask for the upper triangle\n",
    "    #mask = np.triu(np.ones_like(corr, dtype=np.bool))\n",
    "\n",
    "    # Set up the matplotlib figure\n",
    "    f, ax = plt.subplots(figsize=(11, 9))\n",
    "\n",
    "    # Generate a custom diverging colormap\n",
    "    #cmap = sns.diverging_palette(220, 10, as_cmap=True)\n",
    "\n",
    "    # Draw the heatmap with the mask and correct aspect ratio\n",
    "    sns.heatmap(df.corr()\n",
    "                ,mask=np.triu(np.ones_like(df.corr(), dtype=np.bool))\n",
    "                ,cmap=sns.diverging_palette(220, 10, as_cmap=True)\n",
    "                ,vmax=.3, center=0\n",
    "                ,square=True, linewidths=.5, cbar_kws={\"shrink\": .5})\n",
    "    plt.show()"
   ]
  },
  {
   "cell_type": "code",
   "execution_count": null,
   "metadata": {},
   "outputs": [],
   "source": [
    "createCorrelationPlot(df[[\"survive\", \"pclass\", \"age\", \"fare\"]])"
   ]
  },
  {
   "cell_type": "markdown",
   "metadata": {},
   "source": [
    "## Interactive Visualization with Plotly Express\n",
    "\n",
    "Plotly Express is a built-in part of the plotly library, and is the recommended starting point for creating most common figures.\n",
    "\n",
    "https://plotly.com/python/plotly-express/\n",
    "\n",
    "Plotly is a library available to create interactive plots based on the D3.js standard. \n",
    "\n",
    "- Allows for zooming in and out\n",
    "- Dedicated visualization for data science and tightly integrated with Python ecosystem\n",
    "\n",
    "https://plotly.com/python/"
   ]
  },
  {
   "cell_type": "markdown",
   "metadata": {},
   "source": [
    "### Plotly Express"
   ]
  },
  {
   "cell_type": "code",
   "execution_count": null,
   "metadata": {},
   "outputs": [],
   "source": [
    "#!pip install plotly-express"
   ]
  },
  {
   "cell_type": "code",
   "execution_count": null,
   "metadata": {},
   "outputs": [],
   "source": [
    "data=np.random.standard_normal((360,3)).cumsum(axis=0)\n",
    "\n",
    "index = pd.date_range('2018-1-1', freq='D', periods=len(data))\n",
    "\n",
    "df = pd.DataFrame(data = 10+5*data\n",
    "             ,index=index\n",
    "             ,columns=['A','B','C'])\n",
    "df.head()"
   ]
  },
  {
   "cell_type": "code",
   "execution_count": null,
   "metadata": {},
   "outputs": [],
   "source": [
    "import plotly.express as px\n",
    "\n",
    "fig = px.histogram(df, x='A', nbins=10,\n",
    "                   marginal=\"box\", # or violin, rug\n",
    "                   hover_data=df.columns)\n",
    "fig.show()"
   ]
  },
  {
   "cell_type": "code",
   "execution_count": null,
   "metadata": {},
   "outputs": [],
   "source": [
    "import plotly.express as px\n",
    "\n",
    "fig = px.line(df, x=df.index, y=['A','B'])\n",
    "fig.show()"
   ]
  },
  {
   "cell_type": "code",
   "execution_count": null,
   "metadata": {},
   "outputs": [],
   "source": [
    "import plotly.express as px\n",
    "\n",
    "fig = px.scatter_3d(df, x='A', y='B', z='C')\n",
    "fig.show()"
   ]
  },
  {
   "cell_type": "code",
   "execution_count": null,
   "metadata": {},
   "outputs": [],
   "source": [
    "import seaborn as sns\n",
    "\n",
    "df_titanic = sns.load_dataset('titanic')[[\"survived\", \"pclass\", \"sex\", \"age\", \"fare\"]].dropna()\n",
    "df_titanic['survive'] = df_titanic.survived.astype(bool)\n",
    "# Drop outliers. This is to help the visualization in the next examples.\n",
    "df_titanic = df_titanic[df_titanic.fare < 400]\n",
    "df_titanic.head(2)"
   ]
  },
  {
   "cell_type": "code",
   "execution_count": null,
   "metadata": {},
   "outputs": [],
   "source": [
    "import plotly.express as px\n",
    "\n",
    "fig = px.histogram(df_titanic, x='fare', nbins=10, color='pclass',\n",
    "                   marginal=\"violin\", # or violin, rug\n",
    "                   hover_data=df_titanic.columns)\n",
    "fig.show()"
   ]
  },
  {
   "cell_type": "markdown",
   "metadata": {},
   "source": [
    "## Exercises for Visualization (6 questions)"
   ]
  },
  {
   "cell_type": "markdown",
   "metadata": {},
   "source": [
    "Let's continue to use <i>dfb</i> for our dataframe."
   ]
  },
  {
   "cell_type": "markdown",
   "metadata": {},
   "source": [
    "1\\. Draw a histogram that plots the distribution of <i>Walks in 2017 for the National League</i> with 10 bins. Set `figsize` to 15 x 5."
   ]
  },
  {
   "cell_type": "code",
   "execution_count": null,
   "metadata": {},
   "outputs": [],
   "source": [
    "# Your answer here\n"
   ]
  },
  {
   "cell_type": "markdown",
   "metadata": {},
   "source": [
    "2\\. Create the same histogram as #1 above using Seaborn and include a rugplot and kernel density estimate."
   ]
  },
  {
   "cell_type": "code",
   "execution_count": null,
   "metadata": {},
   "outputs": [],
   "source": [
    "# Your answer here\n"
   ]
  },
  {
   "cell_type": "markdown",
   "metadata": {},
   "source": [
    "3\\. Draw a scatter plot where the x axis is <i>Walks in 2017</i> and the y axis is <i>Strikeouts in 2017</i>. Set the `figsize` to 10 x 10. "
   ]
  },
  {
   "cell_type": "code",
   "execution_count": null,
   "metadata": {
    "scrolled": false
   },
   "outputs": [],
   "source": [
    "# Your answer here\n"
   ]
  },
  {
   "cell_type": "markdown",
   "metadata": {},
   "source": [
    "4\\. Draw a box plot that displays the distributions of both <i>Hits in 2017</i> and <i>Homeruns in 2017</i>. Set the `title` to 'Hitting Distribution' and the `figsize` to 10 x 10. "
   ]
  },
  {
   "cell_type": "code",
   "execution_count": null,
   "metadata": {
    "scrolled": false
   },
   "outputs": [],
   "source": [
    "# Your answer here\n"
   ]
  },
  {
   "cell_type": "markdown",
   "metadata": {},
   "source": [
    "5\\. Create a Seaborn boxplot for the distribution of home runs in 2017 and 2018 in the American and National Leagues. The hue should be based on the league and the x axis represents the year."
   ]
  },
  {
   "cell_type": "code",
   "execution_count": null,
   "metadata": {},
   "outputs": [],
   "source": [
    "# Your answer here\n"
   ]
  },
  {
   "cell_type": "markdown",
   "metadata": {},
   "source": [
    "6\\. Using plotly express, draw an interactive line plot of the minimum temperature data above for the year 1990."
   ]
  },
  {
   "cell_type": "code",
   "execution_count": null,
   "metadata": {},
   "outputs": [],
   "source": [
    "# Your answer here\n"
   ]
  }
 ],
 "metadata": {
  "kernelspec": {
   "display_name": "Python 3",
   "language": "python",
   "name": "python3"
  },
  "language_info": {
   "codemirror_mode": {
    "name": "ipython",
    "version": 3
   },
   "file_extension": ".py",
   "mimetype": "text/x-python",
   "name": "python",
   "nbconvert_exporter": "python",
   "pygments_lexer": "ipython3",
   "version": "3.8.0"
  }
 },
 "nbformat": 4,
 "nbformat_minor": 1
}
