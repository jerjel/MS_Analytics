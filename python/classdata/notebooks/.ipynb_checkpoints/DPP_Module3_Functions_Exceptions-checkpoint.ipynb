{
 "cells": [
  {
   "cell_type": "markdown",
   "metadata": {},
   "source": [
    "# Data Programming in Python | BAIS:6040\n",
    "# Functions, Packages, Exceptions"
   ]
  },
  {
   "cell_type": "markdown",
   "metadata": {},
   "source": [
    "Instructor: Jeff Hendricks\n",
    "\n",
    "Topics to be covered:\n",
    "- User-defined Functions (+ exercises)\n",
    "- Modules & Packages\n",
    "- Exceptions (+ exercises)\n",
    "\n",
    "References: \n",
    "- Learning Python, 5th Edition by Mark Lutz (http://shop.oreilly.com/product/0636920028154.do)\n",
    "- Python Programming by en.wikibooks.org (https://en.wikibooks.org/wiki/Python_Programming)"
   ]
  },
  {
   "cell_type": "markdown",
   "metadata": {},
   "source": [
    "## ▪ User-Defined Functions"
   ]
  },
  {
   "cell_type": "markdown",
   "metadata": {},
   "source": [
    "A function is a block of reusable code that is used to perform a specific action. The advantages of using functions include:\n",
    "- reducing duplication of code\n",
    "- decomposing complex problems into simpler pieces\n",
    "- improving clarity or readability of the code\n",
    "- reuse of code\n",
    "- information hiding"
   ]
  },
  {
   "cell_type": "raw",
   "metadata": {},
   "source": [
    "def functionname(argument1, argument2, ):\n",
    "    statements"
   ]
  },
  {
   "cell_type": "code",
   "execution_count": null,
   "metadata": {},
   "outputs": [],
   "source": [
    "def square(x):\n",
    "    return x * x"
   ]
  },
  {
   "cell_type": "markdown",
   "metadata": {},
   "source": [
    "In this example, <i>square</i> is the function name; <i>x</i> is the (only) argument, or parameter. Make sure to put a colon (:) after the parentheses. <i>x</i> * <i>x</i> is the return value of this function."
   ]
  },
  {
   "cell_type": "code",
   "execution_count": null,
   "metadata": {},
   "outputs": [],
   "source": [
    "square(3)"
   ]
  },
  {
   "cell_type": "markdown",
   "metadata": {},
   "source": [
    "To call a function, just specify the function name followed by parameter values enclosed with parentheses. "
   ]
  },
  {
   "cell_type": "code",
   "execution_count": null,
   "metadata": {},
   "outputs": [],
   "source": [
    "def multiply(x, y):\n",
    "    return x * y"
   ]
  },
  {
   "cell_type": "markdown",
   "metadata": {},
   "source": [
    "A function can have multiple arguments. "
   ]
  },
  {
   "cell_type": "code",
   "execution_count": null,
   "metadata": {},
   "outputs": [],
   "source": [
    "multiply(3, 5)"
   ]
  },
  {
   "cell_type": "code",
   "execution_count": null,
   "metadata": {},
   "outputs": [],
   "source": [
    "def multiply_print(x, y):\n",
    "    print(\"{} times {} equals {}.\".format(x, y, x * y))"
   ]
  },
  {
   "cell_type": "markdown",
   "metadata": {},
   "source": [
    "A function can return no value. "
   ]
  },
  {
   "cell_type": "code",
   "execution_count": null,
   "metadata": {},
   "outputs": [],
   "source": [
    "multiply_print(5, 3)"
   ]
  },
  {
   "cell_type": "code",
   "execution_count": null,
   "metadata": {},
   "outputs": [],
   "source": [
    "def get_first_2_items(l):\n",
    "    return (l[0], l[1])"
   ]
  },
  {
   "cell_type": "markdown",
   "metadata": {},
   "source": [
    "A function can return multiple values. "
   ]
  },
  {
   "cell_type": "code",
   "execution_count": null,
   "metadata": {},
   "outputs": [],
   "source": [
    "get_first_2_items([1, 2, 3, 4, 5])"
   ]
  },
  {
   "cell_type": "code",
   "execution_count": null,
   "metadata": {
    "scrolled": false
   },
   "outputs": [],
   "source": [
    "a, b = get_first_2_items([1, 2, 3, 4, 5])\n",
    "print(a, b)"
   ]
  },
  {
   "cell_type": "code",
   "execution_count": null,
   "metadata": {},
   "outputs": [],
   "source": [
    "c = get_first_2_items([1, 2, 3, 4, 5])\n",
    "print(c)"
   ]
  },
  {
   "cell_type": "markdown",
   "metadata": {},
   "source": [
    "A function's return value can be used by assigning it to a variable. "
   ]
  },
  {
   "cell_type": "code",
   "execution_count": null,
   "metadata": {},
   "outputs": [],
   "source": [
    "def just_print():\n",
    "    print(\"Hello, world!\")"
   ]
  },
  {
   "cell_type": "markdown",
   "metadata": {},
   "source": [
    "A function can have no arguments. "
   ]
  },
  {
   "cell_type": "code",
   "execution_count": null,
   "metadata": {},
   "outputs": [],
   "source": [
    "just_print()"
   ]
  },
  {
   "cell_type": "code",
   "execution_count": null,
   "metadata": {},
   "outputs": [],
   "source": [
    "def remove_all_whitespaces(s):\n",
    "    s_tmp = s.replace(\" \", \"\")\n",
    "    s_tmp = s_tmp.replace(\"\\t\", \"\")\n",
    "    s_tmp = s_tmp.replace(\"\\n\", \"\")\n",
    "    \n",
    "    return s_tmp"
   ]
  },
  {
   "cell_type": "markdown",
   "metadata": {},
   "source": [
    "You can write a series of operations in the function body."
   ]
  },
  {
   "cell_type": "code",
   "execution_count": null,
   "metadata": {
    "scrolled": true
   },
   "outputs": [],
   "source": [
    "remove_all_whitespaces(\"\\t\\t\\tI'm learning Python Data Analytics.\\n\")"
   ]
  },
  {
   "cell_type": "code",
   "execution_count": null,
   "metadata": {},
   "outputs": [],
   "source": [
    "def get_max(x, y):\n",
    "    if x > y:\n",
    "        return x\n",
    "    else:\n",
    "        return y"
   ]
  },
  {
   "cell_type": "markdown",
   "metadata": {},
   "source": [
    "You can use <b>if</b> statements in the function body to make the function respond differently to the parameters. "
   ]
  },
  {
   "cell_type": "code",
   "execution_count": null,
   "metadata": {},
   "outputs": [],
   "source": [
    "get_max(3, 5)"
   ]
  },
  {
   "cell_type": "code",
   "execution_count": null,
   "metadata": {},
   "outputs": [],
   "source": [
    "def get_first_n_items(l, n=3):\n",
    "    return l[:n]"
   ]
  },
  {
   "cell_type": "markdown",
   "metadata": {},
   "source": [
    "You can set the default value of an argument in a function."
   ]
  },
  {
   "cell_type": "code",
   "execution_count": null,
   "metadata": {},
   "outputs": [],
   "source": [
    "get_first_n_items([1, 2, 3, 4, 5], 2)"
   ]
  },
  {
   "cell_type": "markdown",
   "metadata": {},
   "source": [
    " You will have the option of not specifying a value for that argument when calling the function. If you do not specify a value, then the parameter will have the default value given when the function executes. "
   ]
  },
  {
   "cell_type": "code",
   "execution_count": null,
   "metadata": {
    "scrolled": true
   },
   "outputs": [],
   "source": [
    "get_first_n_items([1, 2, 3, 4, 5])"
   ]
  },
  {
   "cell_type": "code",
   "execution_count": null,
   "metadata": {},
   "outputs": [],
   "source": [
    "def get_first_n_items(n=3, l):\n",
    "    return l[:n]"
   ]
  },
  {
   "cell_type": "markdown",
   "metadata": {},
   "source": [
    "When declaring the arguments in a function, default arguments must follow non-default arguments."
   ]
  },
  {
   "cell_type": "code",
   "execution_count": null,
   "metadata": {},
   "outputs": [],
   "source": [
    "get_first_n_items(l=[1, 2, 3, 4, 5], n=2)"
   ]
  },
  {
   "cell_type": "markdown",
   "metadata": {},
   "source": [
    "When calling a function you can specify the parameters by name and you can do so in any order. "
   ]
  },
  {
   "cell_type": "code",
   "execution_count": null,
   "metadata": {},
   "outputs": [],
   "source": [
    "get_first_n_items(n=2, l=[1, 2, 3, 4, 5])"
   ]
  },
  {
   "cell_type": "code",
   "execution_count": null,
   "metadata": {},
   "outputs": [],
   "source": [
    "get_first_n_items([1, 2, 3, 4, 5], 2)"
   ]
  },
  {
   "cell_type": "markdown",
   "metadata": {},
   "source": [
    "In case of calling a function not specifying the parameters by name, order is important."
   ]
  },
  {
   "cell_type": "code",
   "execution_count": null,
   "metadata": {},
   "outputs": [],
   "source": [
    "get_first_n_items(2, [1, 2, 3, 4, 5])"
   ]
  },
  {
   "cell_type": "code",
   "execution_count": null,
   "metadata": {},
   "outputs": [],
   "source": [
    "kwargs = {\"l\": [1, 2, 3, 4, 5], \"n\": 2}\n",
    "get_first_n_items(**kwargs)     # The same as get_first_n_items(l=[1, 2, 3, 4, 5], n=2)"
   ]
  },
  {
   "cell_type": "markdown",
   "metadata": {},
   "source": [
    "<b>\\*\\*kwargs</b> allows you to pass keyworded variable length of arguments to a function. You can think of the <i>kwargs</i> as being a dictionary that maps each keyword to the value that we pass alongside it. The double star allows you to pass through keyword arguments. "
   ]
  },
  {
   "cell_type": "code",
   "execution_count": null,
   "metadata": {},
   "outputs": [],
   "source": [
    "def inner_function(in_param_1, in_param_2, in_param_3):\n",
    "    print('This is the inner function ' + str(in_param_1) + str(in_param_2) + str(in_param_3))\n",
    "    \n",
    "def outer_function(out_param_1, out_param_2, **kwargs):\n",
    "    print('This is the outer function ' + str(out_param_1) + str(out_param_2))\n",
    "    inner_function(in_param_3=out_param_2, **kwargs)"
   ]
  },
  {
   "cell_type": "code",
   "execution_count": null,
   "metadata": {},
   "outputs": [],
   "source": [
    "inner_params = {'in_param_1':65, 'in_param_2':'DPP'}\n",
    "\n",
    "outer_function('Jeff',1, **inner_params)"
   ]
  },
  {
   "cell_type": "markdown",
   "metadata": {},
   "source": [
    "## Exercises for User-Defined Functions (12 Questions)"
   ]
  },
  {
   "cell_type": "markdown",
   "metadata": {},
   "source": [
    "1\\. Write a function <i>concatenate</i> that takes two strings <i>s1</i> and <i>s2</i> as arguments and returns the concatenation of the two strings with a space between them. "
   ]
  },
  {
   "cell_type": "code",
   "execution_count": null,
   "metadata": {},
   "outputs": [],
   "source": [
    "# Your answer here\n"
   ]
  },
  {
   "cell_type": "code",
   "execution_count": null,
   "metadata": {
    "scrolled": true
   },
   "outputs": [],
   "source": [
    "# Test the function here\n",
    "concatenate(\"Learning\", \"Python\")"
   ]
  },
  {
   "cell_type": "markdown",
   "metadata": {},
   "source": [
    "2\\. Write a function <i>concatenate_all</i> that takes a list <i>l</i> of strings as an argument and returns the concatenation of all strings in <i>l</i> with a space between them. "
   ]
  },
  {
   "cell_type": "code",
   "execution_count": null,
   "metadata": {},
   "outputs": [],
   "source": [
    "# Your answer here\n"
   ]
  },
  {
   "cell_type": "code",
   "execution_count": null,
   "metadata": {},
   "outputs": [],
   "source": [
    "# Test the function here\n",
    "concatenate_all([\"Python\", \"R\", \"SAS\", \"SPSS\", \"Matlab\", \"Stata\"])"
   ]
  },
  {
   "cell_type": "markdown",
   "metadata": {},
   "source": [
    "3\\. Write a function <i>upper_concatenate_all</i> that takes a list <i>l</i> of strings as an argument and returns the concatenation of all strings in <i>l</i> in upper case with a space between them. "
   ]
  },
  {
   "cell_type": "code",
   "execution_count": null,
   "metadata": {},
   "outputs": [],
   "source": [
    "# Your answer here\n"
   ]
  },
  {
   "cell_type": "code",
   "execution_count": null,
   "metadata": {},
   "outputs": [],
   "source": [
    "# Test the function here\n",
    "upper_concatenate_all([\"Python\", \"R\", \"SAS\", \"SPSS\", \"Matlab\", \"Stata\"])"
   ]
  },
  {
   "cell_type": "markdown",
   "metadata": {},
   "source": [
    "4\\. Write a function <i>get_min</i> that takes two numbers <i>num1</i> and <i>num2</i> as arguments and returns the smaller value. If the two numbers are equal, it returns either value. "
   ]
  },
  {
   "cell_type": "code",
   "execution_count": null,
   "metadata": {},
   "outputs": [],
   "source": [
    "# Your answer here\n"
   ]
  },
  {
   "cell_type": "code",
   "execution_count": null,
   "metadata": {},
   "outputs": [],
   "source": [
    "# Test the function here\n",
    "get_min(3, 5)"
   ]
  },
  {
   "cell_type": "markdown",
   "metadata": {},
   "source": [
    "5\\. Write a function <i>get_min_all</i> that takes a list <i>l</i> of numbers as an argument and returns the smallest value in <i>l</i>. If the two numbers are equal, it returns either value. "
   ]
  },
  {
   "cell_type": "code",
   "execution_count": null,
   "metadata": {},
   "outputs": [],
   "source": [
    "# Your answer here\n"
   ]
  },
  {
   "cell_type": "code",
   "execution_count": null,
   "metadata": {},
   "outputs": [],
   "source": [
    "# Test the function here\n",
    "get_min_all([3, 5, 9, 6, 2, 7])"
   ]
  },
  {
   "cell_type": "markdown",
   "metadata": {},
   "source": [
    "6\\. Write a function <i>get_abs_min_all</i> that takes a list <i>l</i> of numbers as an argument and returns the smallest absolute value in <i>l</i>. If the two numbers are equal, it returns either value. "
   ]
  },
  {
   "cell_type": "code",
   "execution_count": null,
   "metadata": {},
   "outputs": [],
   "source": [
    "# Your answer here\n"
   ]
  },
  {
   "cell_type": "code",
   "execution_count": null,
   "metadata": {},
   "outputs": [],
   "source": [
    "# Test the function here\n",
    "get_abs_min_all([-3, 5, -9, -6, -2, 7])"
   ]
  },
  {
   "cell_type": "markdown",
   "metadata": {},
   "source": [
    "7\\. Write a function <i>get_head_tail</i> that takes a list <i>l</i> as an argument and returns the first and last elements in <i>l</i>. If <i>l</i> has no or only one element, it should return \"The input list is too short!\". "
   ]
  },
  {
   "cell_type": "code",
   "execution_count": null,
   "metadata": {},
   "outputs": [],
   "source": [
    "# Your answer here\n"
   ]
  },
  {
   "cell_type": "code",
   "execution_count": null,
   "metadata": {
    "scrolled": true
   },
   "outputs": [],
   "source": [
    "# Test the function here\n",
    "get_head_tail([\"Python\", \"R\", \"SAS\", \"SPSS\", \"Matlab\", \"Stata\"]) # Output: ('Python', 'Stata')."
   ]
  },
  {
   "cell_type": "code",
   "execution_count": null,
   "metadata": {
    "scrolled": true
   },
   "outputs": [],
   "source": [
    "# Test the function here\n",
    "get_head_tail([\"Python\"])                                        # Output: 'The input list is too short!'."
   ]
  },
  {
   "cell_type": "markdown",
   "metadata": {},
   "source": [
    "8\\. Write a function <i>highlight</i> that takes two strings <i>s</i> and <i>sub_s</i> as arguments and returns a new copy of <i>s</i> with its substring <i>sub_s</i> being highlighted in upper case and surrounded by *. If <i>s</i> does not contain <i>sub_s</i>, it should return \"No substring!\". "
   ]
  },
  {
   "cell_type": "code",
   "execution_count": null,
   "metadata": {},
   "outputs": [],
   "source": [
    "# Your answer here\n"
   ]
  },
  {
   "cell_type": "code",
   "execution_count": null,
   "metadata": {
    "scrolled": true
   },
   "outputs": [],
   "source": [
    "# Test the function here\n",
    "highlight(\"I'm learning Python data analytics.\", \"Python\")       # Output: \"I'm learning *PYTHON* data analytics.\""
   ]
  },
  {
   "cell_type": "code",
   "execution_count": null,
   "metadata": {
    "scrolled": false
   },
   "outputs": [],
   "source": [
    "# Test the function here\n",
    "highlight(\"I'm learning Python data analytics.\", \"SAS\")          # Output: 'No substring!'."
   ]
  },
  {
   "cell_type": "markdown",
   "metadata": {},
   "source": [
    "9\\. Write a function <i>trim_message</i> that takes a string <i>message</i> and two integers <i>start</i> and <i>end</i> as arguments and returns the substring of <i>message</i> that starts at the index position <i>start</i> and ends at the index position <i>end</i> - 1."
   ]
  },
  {
   "cell_type": "code",
   "execution_count": null,
   "metadata": {},
   "outputs": [],
   "source": [
    "# Your answer here\n"
   ]
  },
  {
   "cell_type": "code",
   "execution_count": null,
   "metadata": {
    "scrolled": true
   },
   "outputs": [],
   "source": [
    "# Test the function here\n",
    "trim_message(\"I'm learning Python data analytics.\", 13, 19)      # Output: 'Python'"
   ]
  },
  {
   "cell_type": "markdown",
   "metadata": {},
   "source": [
    "10\\. Write a function <i>trim_message2</i> that works the same as <i>trim_message</i> above. In addition, check inside the function if the type of <i>message</i> is <b>str</b> and the types of <i>start</i> and <i>end</i> are <b>int</b>. If any of those evaluates to false, return \"Invalid parameter type!\". Check also if the <i>start</i> parameter is greater than or equal to 0 and less than <i>end</i> and if <i>end</i> is less than or equal to the length of <i>message</i>. If any of those evaluates to false, return \"Invalid parameter value!\"."
   ]
  },
  {
   "cell_type": "code",
   "execution_count": null,
   "metadata": {},
   "outputs": [],
   "source": [
    "# Your answer here\n"
   ]
  },
  {
   "cell_type": "code",
   "execution_count": null,
   "metadata": {},
   "outputs": [],
   "source": [
    "# Test the function here\n",
    "trim_message2(\"I'm learning Python data analytics.\", 13, 19)     # Output: 'Python'    "
   ]
  },
  {
   "cell_type": "code",
   "execution_count": null,
   "metadata": {},
   "outputs": [],
   "source": [
    "# Test the function here\n",
    "trim_message2(10000, 13, 19)                                     # Output: 'Invalid parameter type!'"
   ]
  },
  {
   "cell_type": "code",
   "execution_count": null,
   "metadata": {
    "scrolled": true
   },
   "outputs": [],
   "source": [
    "# Test the function here\n",
    "trim_message2(\"I'm learning Python data analytics.\", -1, 19)     # Output: 'Invalid parameter value!'"
   ]
  },
  {
   "cell_type": "code",
   "execution_count": null,
   "metadata": {},
   "outputs": [],
   "source": [
    "# Test the function here\n",
    "trim_message2(\"I'm learning Python data analytics.\", 13, 10)     # Output: 'Invalid parameter value!'"
   ]
  },
  {
   "cell_type": "code",
   "execution_count": null,
   "metadata": {},
   "outputs": [],
   "source": [
    "# Test the function here\n",
    "trim_message2(\"I'm learning Python data analytics.\", 13, 100)    # Output: 'Invalid parameter value!'"
   ]
  },
  {
   "cell_type": "markdown",
   "metadata": {},
   "source": [
    "11\\. create a dictionary <i>kwargs</i> that sets the parameter values of <i>message</i>, <i>start</i>, and <i>end</i> on your own and call the function <i>trim_message2</i> by passing <i>kwargs</i>."
   ]
  },
  {
   "cell_type": "code",
   "execution_count": null,
   "metadata": {},
   "outputs": [],
   "source": [
    "# Your answer here\n"
   ]
  },
  {
   "cell_type": "code",
   "execution_count": null,
   "metadata": {},
   "outputs": [],
   "source": [
    "# Test the function here\n",
    "trim_message2(**kwargs)                                          # Output: 'Python'    "
   ]
  },
  {
   "cell_type": "markdown",
   "metadata": {},
   "source": [
    "12\\. Write a function <i>count</i> that takes a list <i>l</i> of strings as an argument and returns a dictionary <i>word_counts</i> with keys being the unique strings in <i>l</i> and values being the occurrence counts of the strings. Do not use the <b>Counter</b> module in the <b>collections</b> package. (Hint: if a string is not in the dictionary as a key, add a new key-value pair (STRING, 1), otherwise, increment the current value of the string by 1.)"
   ]
  },
  {
   "cell_type": "code",
   "execution_count": null,
   "metadata": {},
   "outputs": [],
   "source": [
    "# Your answer here\n"
   ]
  },
  {
   "cell_type": "code",
   "execution_count": null,
   "metadata": {
    "scrolled": true
   },
   "outputs": [],
   "source": [
    "# Test the function here\n",
    "count([\"the\", \"a\", \"the\", \"an\", \"of\", \"as\", \"the\", \"of\"])       # Output : {'the': 3, 'a': 1, 'an': 1, 'of': 2, 'as': 1} "
   ]
  },
  {
   "cell_type": "markdown",
   "metadata": {},
   "source": [
    "## ▪ Modules & Packages"
   ]
  },
  {
   "cell_type": "markdown",
   "metadata": {},
   "source": [
    "A module is a file containing Python definitions and statements. The file name is the module name with the file extension .py appended. \n",
    "<br><br>\n",
    "Packages are a way of structuring Python's module namespace by using \"dotted module names\". For example, the module name A.B designates a submodule named B in a package named A."
   ]
  },
  {
   "cell_type": "code",
   "execution_count": null,
   "metadata": {},
   "outputs": [],
   "source": [
    "import math\n",
    "math.sqrt(9)"
   ]
  },
  {
   "cell_type": "markdown",
   "metadata": {},
   "source": [
    "One way to use a module in a package is to import the whole package the module belongs to into the current workspace. "
   ]
  },
  {
   "cell_type": "code",
   "execution_count": null,
   "metadata": {},
   "outputs": [],
   "source": [
    "from math import sqrt\n",
    "sqrt(9)"
   ]
  },
  {
   "cell_type": "markdown",
   "metadata": {},
   "source": [
    "You can specify a submodule to be loaded from a package. In this case, you do not call the package."
   ]
  },
  {
   "cell_type": "code",
   "execution_count": null,
   "metadata": {},
   "outputs": [],
   "source": [
    "import numpy as np\n",
    "import pandas as pd"
   ]
  },
  {
   "cell_type": "code",
   "execution_count": null,
   "metadata": {},
   "outputs": [],
   "source": [
    "!pip install numpy"
   ]
  },
  {
   "cell_type": "markdown",
   "metadata": {},
   "source": [
    "You can give a local name to a module to be imported. "
   ]
  },
  {
   "cell_type": "markdown",
   "metadata": {},
   "source": [
    "External modules such as <i>numpy</i>, <i>pandas</i>, and <i>sklearn</i> should be installed in advance at an OS level using <i>pip</i> command, not at a Python level. "
   ]
  },
  {
   "cell_type": "markdown",
   "metadata": {},
   "source": [
    "## ▪ Exceptions"
   ]
  },
  {
   "cell_type": "markdown",
   "metadata": {},
   "source": [
    "Python raises exceptions whenever it detects errors in programs at runtime. "
   ]
  },
  {
   "cell_type": "markdown",
   "metadata": {},
   "source": [
    "You can catch and respond to the errors in your code, or ignore the exceptions that are raised."
   ]
  },
  {
   "cell_type": "markdown",
   "metadata": {},
   "source": [
    "If an error is ignored, it stops the program and prints an error message, which you have seen already. "
   ]
  },
  {
   "cell_type": "raw",
   "metadata": {},
   "source": [
    "try:\n",
    "    statements                    # Run this main action first\n",
    "except Exception1:\n",
    "    statements                    # Run if Exception1 is raised during try block\n",
    "except (Exception2, Exception3):\n",
    "    statements                    # Run if any of these exceptions occur\n",
    "...\n",
    "except:\n",
    "    statements                    # Run for all other exceptions raised\n",
    "else:\n",
    "    statements                    # Run if no exception was raised during try block\n",
    "finally:\n",
    "    statements                    # Always run on the way out "
   ]
  },
  {
   "cell_type": "markdown",
   "metadata": {},
   "source": [
    "The <b>try</b>/<b>except</b> combination is required, while the others are optional. "
   ]
  },
  {
   "cell_type": "markdown",
   "metadata": {},
   "source": [
    "Exceptions that are usually raised:\n",
    "- AssertionError\n",
    "- AttributeError\n",
    "- ImportError\n",
    "- IndexError\n",
    "- KeyError\n",
    "- MemoryError\n",
    "- NameError\n",
    "- OSError\n",
    "- RuntimeError\n",
    "- SyntaxError\n",
    "- TypeError\n",
    "- ValueError\n",
    "- ZeroDivisionError"
   ]
  },
  {
   "cell_type": "markdown",
   "metadata": {},
   "source": [
    "Concrete exceptions: https://docs.python.org/3/library/exceptions.html#concrete-exceptions"
   ]
  },
  {
   "cell_type": "code",
   "execution_count": null,
   "metadata": {},
   "outputs": [],
   "source": [
    "l = [0, 1, 2, 3, 4]\n",
    "a = l[10]"
   ]
  },
  {
   "cell_type": "code",
   "execution_count": null,
   "metadata": {},
   "outputs": [],
   "source": [
    "try:\n",
    "    a = l[10]\n",
    "except IndexError:\n",
    "    print(\"IndexError exception!\")"
   ]
  },
  {
   "cell_type": "markdown",
   "metadata": {},
   "source": [
    "First, do whatever you want in the <b>try</b> body and then specify the exception you want to catch in the <b>except</b> header, and then specify how you want to take care of the exception in the <b>except</b> body."
   ]
  },
  {
   "cell_type": "code",
   "execution_count": null,
   "metadata": {},
   "outputs": [],
   "source": [
    "a = 3 / 0"
   ]
  },
  {
   "cell_type": "code",
   "execution_count": null,
   "metadata": {},
   "outputs": [],
   "source": [
    "try:\n",
    "    a = 3 / 0\n",
    "except ZeroDivisionError:\n",
    "    print(\"ZeroDivisionError exception!\")"
   ]
  },
  {
   "cell_type": "code",
   "execution_count": null,
   "metadata": {},
   "outputs": [],
   "source": [
    "buildings = {\"UCC\": \"University Capitol Center\",\n",
    "             \"CPHB\": \"College of Public Health Building\",\n",
    "             \"IMU\": \"Iowa Memorial Union\"}\n",
    "a = buildings[\"PBB\"]"
   ]
  },
  {
   "cell_type": "code",
   "execution_count": null,
   "metadata": {},
   "outputs": [],
   "source": [
    "try:\n",
    "    a = buildings[\"PBB\"]\n",
    "except KeyError:\n",
    "    print(\"KeyError exception!\")"
   ]
  },
  {
   "cell_type": "code",
   "execution_count": null,
   "metadata": {},
   "outputs": [],
   "source": [
    "locations = [\"UCC\", \"IMU\", \"PBB\", \"CPHB\"]\n",
    "\n",
    "for location in locations:\n",
    "    print(\"{}: {}\".format(location, buildings[location]))"
   ]
  },
  {
   "cell_type": "markdown",
   "metadata": {},
   "source": [
    "You may want to have the <b>for</b> loop see all elements in <i>locations</i> without halting due to the KeyError."
   ]
  },
  {
   "cell_type": "code",
   "execution_count": null,
   "metadata": {},
   "outputs": [],
   "source": [
    "locations = [\"UCC\", \"PBB\", \"IMU\", \"CPHB\"]\n",
    "\n",
    "for location in locations:\n",
    "    try:\n",
    "        print(\"{}: {}\".format(location, buildings[location]))\n",
    "    except KeyError:\n",
    "        print(\"No key: {}\".format(location))     # Or just pass"
   ]
  },
  {
   "cell_type": "code",
   "execution_count": null,
   "metadata": {},
   "outputs": [],
   "source": [
    "locations = [\"UCC\", \"PBB\", \"IMU\", \"CPHB\"]\n",
    "\n",
    "for location in locations:\n",
    "    if location in buildings:\n",
    "        print(\"{}: {}\".format(location, buildings[location]))\n",
    "    else:\n",
    "        print(\"No key: {}\".format(location))"
   ]
  },
  {
   "cell_type": "markdown",
   "metadata": {},
   "source": [
    "You can do the same exception handling using <b>if-else</b> statements."
   ]
  },
  {
   "cell_type": "code",
   "execution_count": null,
   "metadata": {},
   "outputs": [],
   "source": [
    "l1 = [\"a\", \"b\", \"c\", \"d\", \"e\"]\n",
    "l2 = [\"1\", \"2\", \"3\", 4, \"5\"]\n",
    "\n",
    "for item1, item2 in zip(l1, l2):\n",
    "    try:\n",
    "        print(item1 + item2)\n",
    "    except:\n",
    "        print(\"Unexpected exception detected!\")"
   ]
  },
  {
   "cell_type": "markdown",
   "metadata": {},
   "source": [
    "No specific exceptions were specified in the <b>except</b> statement. The <b>except</b> statement runs for all other exceptions raised, which is useful for hadling all other exceptions that are not easy to predict. "
   ]
  },
  {
   "cell_type": "markdown",
   "metadata": {},
   "source": [
    "### The assert Statement"
   ]
  },
  {
   "cell_type": "markdown",
   "metadata": {},
   "source": [
    "As a somewhat special case for debugging purposes, Python raises an AssertionError if the test evaluates to false. This is one of the easiest way to test something and raise an exception if the test evaluates to false. "
   ]
  },
  {
   "cell_type": "raw",
   "metadata": {},
   "source": [
    "assert test"
   ]
  },
  {
   "cell_type": "code",
   "execution_count": null,
   "metadata": {},
   "outputs": [],
   "source": [
    "a, b = 1, 2\n",
    "assert a == b"
   ]
  },
  {
   "cell_type": "code",
   "execution_count": null,
   "metadata": {},
   "outputs": [],
   "source": [
    "a == b"
   ]
  },
  {
   "cell_type": "markdown",
   "metadata": {},
   "source": [
    "Note that the statement `assert a == b` returns an AssertionError while just `a == b` returns True/False. "
   ]
  },
  {
   "cell_type": "code",
   "execution_count": null,
   "metadata": {},
   "outputs": [],
   "source": [
    "l1 = [\"a\", \"b\", \"c\", \"d\", \"e\"]\n",
    "l2 = [\"1\", \"2\", \"3\", 4, \"5\"]"
   ]
  },
  {
   "cell_type": "code",
   "execution_count": null,
   "metadata": {},
   "outputs": [],
   "source": [
    "for item1, item2 in zip(l1, l2):\n",
    "    assert (type(item1) == str) & (type(item2) == str)\n",
    "    \n",
    "    print(item1 + item2)"
   ]
  },
  {
   "cell_type": "code",
   "execution_count": null,
   "metadata": {},
   "outputs": [],
   "source": [
    "for item1, item2 in zip(l1, l2):\n",
    "    assert type(item1) == str, \"Each item from l1 must be a string!\"\n",
    "    assert type(item2) == str, \"Each item from l2 must be a string!\"\n",
    "    \n",
    "    print(item1 + item2)"
   ]
  },
  {
   "cell_type": "markdown",
   "metadata": {},
   "source": [
    "You can specify the message to be printed with the AssertionError."
   ]
  },
  {
   "cell_type": "markdown",
   "metadata": {},
   "source": [
    "## Exercises for Exceptions (3 Questions)"
   ]
  },
  {
   "cell_type": "markdown",
   "metadata": {},
   "source": [
    "1\\. Using <b>if</b>-<b>else</b> statements and no <b>try</b>-<b>except</b> statements, write a function <i>get_remainder</i> that takes two numbers <i>num1</i> and <i>num2</i> as arguments and returns the remainder of <i>num1</i> divided by <i>num2</i>. It returns \"Zero Division!\" if <i>num2</i> (the divisor) equals 0."
   ]
  },
  {
   "cell_type": "code",
   "execution_count": null,
   "metadata": {},
   "outputs": [],
   "source": [
    "# Your answer here\n"
   ]
  },
  {
   "cell_type": "code",
   "execution_count": null,
   "metadata": {},
   "outputs": [],
   "source": [
    "# Test the function here\n",
    "get_remainder(10, 3)          # Output: 1"
   ]
  },
  {
   "cell_type": "code",
   "execution_count": null,
   "metadata": {},
   "outputs": [],
   "source": [
    "# Test the function here\n",
    "get_remainder(10, 0)          # Output: 'Zero Division!'"
   ]
  },
  {
   "cell_type": "markdown",
   "metadata": {},
   "source": [
    "2\\. Using <b>try</b>-<b>except</b> statements instead of <b>if</b>-<b>else</b> statements, write a function <i>get_remainder2</i> that works the same as <i>get_remainder</i>. In addition, it returns \"Unexpected Error!\" for all other exceptions. "
   ]
  },
  {
   "cell_type": "code",
   "execution_count": null,
   "metadata": {},
   "outputs": [],
   "source": [
    "# Your answer here\n"
   ]
  },
  {
   "cell_type": "code",
   "execution_count": null,
   "metadata": {},
   "outputs": [],
   "source": [
    "# Test the function here\n",
    "get_remainder2(10, 3)          # Output: 1"
   ]
  },
  {
   "cell_type": "code",
   "execution_count": null,
   "metadata": {
    "scrolled": true
   },
   "outputs": [],
   "source": [
    "# Test the function here\n",
    "get_remainder2(10, 0)          # Output: 'Zero Division!'"
   ]
  },
  {
   "cell_type": "code",
   "execution_count": null,
   "metadata": {},
   "outputs": [],
   "source": [
    "# Test the function here\n",
    "get_remainder2(\"a\", 3)         # Output: 'Unexpected Error!'"
   ]
  },
  {
   "cell_type": "markdown",
   "metadata": {},
   "source": [
    "3\\. Using an <b>assert</b> statement instead of <b>try</b>-<b>except</b> statements and <b>if</b>-<b>else</b> statements, write a function <i>get_remainder3</i> that works the same as <i>get_remainder</i> except that it ruturns an AssertionError printing \"Zero Division!\" if the divisor euqals 0. "
   ]
  },
  {
   "cell_type": "code",
   "execution_count": null,
   "metadata": {},
   "outputs": [],
   "source": [
    "# Your answer here\n"
   ]
  },
  {
   "cell_type": "code",
   "execution_count": null,
   "metadata": {
    "scrolled": true
   },
   "outputs": [],
   "source": [
    "# Test the function here\n",
    "get_remainder3(10, 0)          # Output: AssertionError: Zero Division!"
   ]
  }
 ],
 "metadata": {
  "kernelspec": {
   "display_name": "Python 3",
   "language": "python",
   "name": "python3"
  },
  "language_info": {
   "codemirror_mode": {
    "name": "ipython",
    "version": 3
   },
   "file_extension": ".py",
   "mimetype": "text/x-python",
   "name": "python",
   "nbconvert_exporter": "python",
   "pygments_lexer": "ipython3",
   "version": "3.8.0"
  }
 },
 "nbformat": 4,
 "nbformat_minor": 1
}
