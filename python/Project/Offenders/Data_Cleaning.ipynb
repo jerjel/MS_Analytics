{
 "cells": [
  {
   "cell_type": "markdown",
   "id": "e9b7eae9",
   "metadata": {},
   "source": [
    "# Project: 3-Year Recidivism for Offenders Released from Iowa Prison\n",
    "#### Iowa Correctional System - https://data.iowa.gov/Correctional-System/3-Year-Recidivism-for-Offenders-Released-from-Pris/mw8r-vqy4"
   ]
  },
  {
   "cell_type": "markdown",
   "id": "fc377295",
   "metadata": {},
   "source": [
    "## Module 1: Data Exploration, Visualization and Cleaning"
   ]
  },
  {
   "cell_type": "markdown",
   "id": "c550bddb",
   "metadata": {},
   "source": [
    "This dataset reports whether an offender is re-admitted to prison or not within three years from being released from prison in Iowa. The recidivism reporting year is the fiscal year (year ending June 30) marking the end of the three year tracking period.\n",
    "\n",
    "The Department of Corrections uses recidivism as an indicator on whether strategies are reducing offenders relapse into criminal behavior. A three year time frame is used as studies have shown if an offender relapses into criminal behavior it is most likely to happen within three years of being released."
   ]
  },
  {
   "cell_type": "markdown",
   "id": "236cd894",
   "metadata": {},
   "source": [
    "Data Attributes\n",
    "* Fiscal Year Released,Fiscal year (year ending June 30) for which the offender was released from prison.,Number\n",
    "* Recidivism Reporting Year,Fiscal year (year ending June 30) that marks the end of the 3-year tracking period. For example  offenders exited prison in FY 2012 are found in recidivism reporting year FY 2015.,Number\n",
    "* Main Supervising District,The Judicial District supervising the offender for the longest time during the tracking period.,Plain Text\n",
    "* Release Type,Reasoning for Offender's release from prison.,Plain Text\n",
    "* Race - Ethnicity,Offender's Race and Ethnicity,Plain Text\n",
    "* Age At Release,Offender's age group at release from prison.,Plain Text\n",
    "* Sex,Gender of our offender,Plain Text\n",
    "* Offense Classification,Maximum penalties: A Felony = Life; B Felony = 25 or 50 years; C Felony = 10 years; D Felony = 5 years; Aggravated Misdemeanor = 2 years; Serious Misdemeanor = 1 year; Simple Misdemeanor = 30 days,Plain Text\n",
    "* Offense Type,General category for the most serious offense for which the offender was placed in prison.,Plain Text\n",
    "* Offense Subtype,Further classification of the most serious offense for which the offender was placed in prison.,Plain Text\n",
    "* Return to Prison,No = Did not return to prison within the three year tracking period; Yes = Admitted to prison for any reason within the three year tracking period,Plain Text\n",
    "* Days to Return,Number of days it took before the offender returned to prison.,Number\n",
    "* Recidivism Type,Indicates the reason for return to prison.,Plain Text\n",
    "* New Offense Classification,New conviction maximum penalties: A Felony = Life; B Felony = 25 or 50 years; C Felony = 10 years; D Felony = 5 years; Aggravated Misdemeanor = 2 years; Serious Misdemeanor = 1 year; Simple Misdemeanor = 30 days,Plain Text\n",
    "* New Offense Type,General category for the new conviction while the offender is out of prison.,Plain Text\n",
    "* New Offense Sub Type,Further classification of the new conviction.,Plain Text\n",
    "* Target Population,The Department of Corrections has undertaken specific strategies to reduce recidivism rates for prisoners who are on parole.,Plain Text"
   ]
  },
  {
   "cell_type": "markdown",
   "id": "441e5403",
   "metadata": {},
   "source": [
    "### Data Access\n",
    "##### Read raw data and prepare data for analysis "
   ]
  },
  {
   "cell_type": "code",
   "execution_count": 1,
   "id": "c12548a7",
   "metadata": {},
   "outputs": [],
   "source": [
    "# Imports for project\n",
    "import pandas as pd\n",
    "import matplotlib.pyplot as plt"
   ]
  },
  {
   "cell_type": "code",
   "execution_count": 2,
   "id": "00089a98",
   "metadata": {
    "scrolled": true
   },
   "outputs": [
    {
     "name": "stdout",
     "output_type": "stream",
     "text": [
      "<class 'pandas.core.frame.DataFrame'>\n",
      "RangeIndex: 26020 entries, 0 to 26019\n",
      "Data columns (total 17 columns):\n",
      " #   Column                      Non-Null Count  Dtype  \n",
      "---  ------                      --------------  -----  \n",
      " 0   Fiscal Year Released        26020 non-null  int64  \n",
      " 1   Recidivism Reporting Year   26020 non-null  int64  \n",
      " 2   Main Supervising District   16439 non-null  object \n",
      " 3   Release Type                24258 non-null  object \n",
      " 4   Race - Ethnicity            25990 non-null  object \n",
      " 5   Age At Release              26017 non-null  object \n",
      " 6   Sex                         26017 non-null  object \n",
      " 7   Offense Classification      26020 non-null  object \n",
      " 8   Offense Type                26020 non-null  object \n",
      " 9   Offense Subtype             26020 non-null  object \n",
      " 10  Return to Prison            26020 non-null  object \n",
      " 11  Days to Return              8681 non-null   float64\n",
      " 12  Recidivism Type             26020 non-null  object \n",
      " 13  New Offense Classification  6718 non-null   object \n",
      " 14  New Offense Type            6718 non-null   object \n",
      " 15  New Offense Sub Type        6699 non-null   object \n",
      " 16  Target Population           26020 non-null  object \n",
      "dtypes: float64(1), int64(2), object(14)\n",
      "memory usage: 3.4+ MB\n"
     ]
    }
   ],
   "source": [
    "# Read csv file to dataframe\n",
    "df = pd.read_csv('data.csv') \n",
    "df.info()"
   ]
  },
  {
   "cell_type": "code",
   "execution_count": 3,
   "id": "4454c701",
   "metadata": {
    "scrolled": false
   },
   "outputs": [
    {
     "data": {
      "text/html": [
       "<div>\n",
       "<style scoped>\n",
       "    .dataframe tbody tr th:only-of-type {\n",
       "        vertical-align: middle;\n",
       "    }\n",
       "\n",
       "    .dataframe tbody tr th {\n",
       "        vertical-align: top;\n",
       "    }\n",
       "\n",
       "    .dataframe thead th {\n",
       "        text-align: right;\n",
       "    }\n",
       "</style>\n",
       "<table border=\"1\" class=\"dataframe\">\n",
       "  <thead>\n",
       "    <tr style=\"text-align: right;\">\n",
       "      <th></th>\n",
       "      <th>return_to_prison</th>\n",
       "      <th>days_to_return</th>\n",
       "      <th>recidivism_type</th>\n",
       "      <th>target_population</th>\n",
       "    </tr>\n",
       "  </thead>\n",
       "  <tbody>\n",
       "    <tr>\n",
       "      <th>25820</th>\n",
       "      <td>Yes</td>\n",
       "      <td>66.0</td>\n",
       "      <td>Tech</td>\n",
       "      <td>Yes</td>\n",
       "    </tr>\n",
       "    <tr>\n",
       "      <th>25821</th>\n",
       "      <td>Yes</td>\n",
       "      <td>824.0</td>\n",
       "      <td>New</td>\n",
       "      <td>Yes</td>\n",
       "    </tr>\n",
       "    <tr>\n",
       "      <th>25822</th>\n",
       "      <td>Yes</td>\n",
       "      <td>264.0</td>\n",
       "      <td>New</td>\n",
       "      <td>Yes</td>\n",
       "    </tr>\n",
       "    <tr>\n",
       "      <th>25823</th>\n",
       "      <td>Yes</td>\n",
       "      <td>575.0</td>\n",
       "      <td>New</td>\n",
       "      <td>Yes</td>\n",
       "    </tr>\n",
       "    <tr>\n",
       "      <th>25824</th>\n",
       "      <td>Yes</td>\n",
       "      <td>347.0</td>\n",
       "      <td>New</td>\n",
       "      <td>Yes</td>\n",
       "    </tr>\n",
       "    <tr>\n",
       "      <th>...</th>\n",
       "      <td>...</td>\n",
       "      <td>...</td>\n",
       "      <td>...</td>\n",
       "      <td>...</td>\n",
       "    </tr>\n",
       "    <tr>\n",
       "      <th>26015</th>\n",
       "      <td>Yes</td>\n",
       "      <td>166.0</td>\n",
       "      <td>New</td>\n",
       "      <td>No</td>\n",
       "    </tr>\n",
       "    <tr>\n",
       "      <th>26016</th>\n",
       "      <td>Yes</td>\n",
       "      <td>1016.0</td>\n",
       "      <td>New</td>\n",
       "      <td>Yes</td>\n",
       "    </tr>\n",
       "    <tr>\n",
       "      <th>26017</th>\n",
       "      <td>Yes</td>\n",
       "      <td>252.0</td>\n",
       "      <td>Tech</td>\n",
       "      <td>Yes</td>\n",
       "    </tr>\n",
       "    <tr>\n",
       "      <th>26018</th>\n",
       "      <td>Yes</td>\n",
       "      <td>798.0</td>\n",
       "      <td>New</td>\n",
       "      <td>Yes</td>\n",
       "    </tr>\n",
       "    <tr>\n",
       "      <th>26019</th>\n",
       "      <td>Yes</td>\n",
       "      <td>369.0</td>\n",
       "      <td>Tech</td>\n",
       "      <td>Yes</td>\n",
       "    </tr>\n",
       "  </tbody>\n",
       "</table>\n",
       "<p>200 rows × 4 columns</p>\n",
       "</div>"
      ],
      "text/plain": [
       "      return_to_prison  days_to_return recidivism_type target_population\n",
       "25820              Yes            66.0            Tech               Yes\n",
       "25821              Yes           824.0             New               Yes\n",
       "25822              Yes           264.0             New               Yes\n",
       "25823              Yes           575.0             New               Yes\n",
       "25824              Yes           347.0             New               Yes\n",
       "...                ...             ...             ...               ...\n",
       "26015              Yes           166.0             New                No\n",
       "26016              Yes          1016.0             New               Yes\n",
       "26017              Yes           252.0            Tech               Yes\n",
       "26018              Yes           798.0             New               Yes\n",
       "26019              Yes           369.0            Tech               Yes\n",
       "\n",
       "[200 rows x 4 columns]"
      ]
     },
     "execution_count": 3,
     "metadata": {},
     "output_type": "execute_result"
    }
   ],
   "source": [
    "# Modify column names to remove spaces\n",
    "df.columns = [col.lower().replace(' ','_').replace('e_','e').replace('_-_','_').replace('-_','_') for col in df.columns]\n",
    "df.columns\n",
    "df[['return_to_prison', 'days_to_return','recidivism_type', 'target_population']].tail(200)"
   ]
  },
  {
   "cell_type": "code",
   "execution_count": 4,
   "id": "a91f0186",
   "metadata": {},
   "outputs": [
    {
     "name": "stdout",
     "output_type": "stream",
     "text": [
      "fiscal_year_released [2010 2014 2011 2012 2013 2015] \n",
      "\n",
      "recidivism_reporting_year [2013 2017 2014 2015 2016 2018] \n",
      "\n",
      "main_supervising_district ['6JD' '4JD' '7JD' nan '1JD' '2JD' '8JD' '5JD' '3JD' 'Interstate Compact'\n",
      " 'ISC'] \n",
      "\n",
      "releasetype ['Parole' 'Discharged – End of Sentence' 'Special Sentence' nan\n",
      " 'Interstate Compact Parole' 'Parole Granted'\n",
      " 'Discharged - Expiration of Sentence' 'Paroled w/Immediate Discharge'\n",
      " 'Paroled to Detainer - U.S. Marshall'\n",
      " 'Paroled to Detainer - Out of State' 'Released to Special Sentence'\n",
      " 'Paroled to Detainer - INS' 'Paroled to Detainer - Iowa'] \n",
      "\n",
      "race_ethnicity ['White - Non-Hispanic' 'Black - Non-Hispanic'\n",
      " 'American Indian or Alaska Native - Non-Hispanic' 'White - Hispanic'\n",
      " 'American Indian or Alaska Native - Hispanic'\n",
      " 'Asian or Pacific Islander - Non-Hispanic' 'White -' 'Black -'\n",
      " 'Black - Hispanic' 'Asian or Pacific Islander - Hispanic' 'N/A -' nan] \n",
      "\n",
      "ageat_release ['25-34' '45-54' 'Under 25' '35-44' '55 and Older' nan] \n",
      "\n",
      "sex ['Male' 'Female' nan] \n",
      "\n",
      "offenseclassification ['B Felony' 'C Felony' 'Felony - Enhanced' 'D Felony'\n",
      " 'Aggravated Misdemeanor' 'Other Felony (Old Code)' 'Serious Misdemeanor'\n",
      " 'Sexual Predator Community Supervision' 'Simple Misdemeanor'\n",
      " 'Felony - Enhancement to Original Penalty' 'Felony - Mandatory Minimum'\n",
      " 'Special Sentence 2005' 'Other Felony' 'A Felony' 'Other Misdemeanor'] \n",
      "\n",
      "offensetype ['Other' 'Drug' 'Property' 'Violent' 'Public Order'] \n",
      "\n",
      "offensesubtype ['Other Criminal' 'Trafficking' 'Forgery/Fraud' 'Other Drug' 'Burglary'\n",
      " 'Sex' 'Theft' 'Assault' 'Traffic' 'Alcohol' 'Vandalism' 'Robbery'\n",
      " 'Other Violent' 'Weapons' 'OWI' 'Drug Possession' 'Flight/Escape' 'Arson'\n",
      " 'Sex Offender Registry/Residency' 'Murder/Manslaughter'\n",
      " 'Special Sentence Revocation' 'Kidnap' 'Stolen Property'\n",
      " 'Prostitution/Pimping' 'Other Public Order' 'Animals'] \n",
      "\n",
      "return_to_prison ['No' 'Yes'] \n",
      "\n",
      "days_to_return [  nan  433.  453. ... 1052. 1073.  760.] \n",
      "\n",
      "recidivism_type ['No Recidivism' 'New' 'Tech'] \n",
      "\n",
      "new_offenseclassification [nan 'C Felony' 'D Felony' 'Aggravated Misdemeanor' 'Serious Misdemeanor'\n",
      " 'Felony - Enhancement to Original Penalty' 'B Felony'\n",
      " 'Simple Misdemeanor' 'A Felony' 'Other Misdemeanor' 'Public Order' 'Drug'\n",
      " 'Violent' 'Special Sentence 2005' 'Felony - Mandatory Minimum'\n",
      " 'Other Felony'] \n",
      "\n",
      "new_offensetype [nan 'Drug' 'Public Order' 'Violent' 'Property' 'Other' 'Flight/Escape'\n",
      " 'Drug Possession' 'Sex' 'Traffic' 'Assault'] \n",
      "\n",
      "new_offensesub_type [nan 'Trafficking' 'Other Drug' 'Traffic' 'Assault' 'Flight/Escape'\n",
      " 'Burglary' 'Forgery/Fraud' 'Other Criminal' 'Theft' 'Weapons'\n",
      " 'Drug Possession' 'OWI' 'Alcohol' 'Robbery' 'Vandalism'\n",
      " 'Murder/Manslaughter' 'Other Public Order' 'Arson' 'Sex' 'Other Violent'\n",
      " 'Prostitution/Pimping' 'Animals' 'Kidnap' 'Other Property'\n",
      " 'Stolen Property'] \n",
      "\n",
      "target_population ['Yes' 'No'] \n",
      "\n"
     ]
    }
   ],
   "source": [
    "# Review unique data items in each column\n",
    "for col in df.columns:\n",
    "    print(col, df[col].unique(),\"\\n\")"
   ]
  },
  {
   "cell_type": "markdown",
   "id": "0f8e3e74",
   "metadata": {},
   "source": [
    "### Data Exploration\n",
    "#### Exploring the data with Visualizations"
   ]
  },
  {
   "cell_type": "code",
   "execution_count": 5,
   "id": "420b7e85",
   "metadata": {
    "scrolled": true
   },
   "outputs": [
    {
     "data": {
      "text/plain": [
       "<AxesSubplot:title={'center':'Offenders by Age'}, xlabel='ageat_release'>"
      ]
     },
     "execution_count": 5,
     "metadata": {},
     "output_type": "execute_result"
    },
    {
     "data": {
      "image/png": "[encoded data removed]",
      "text/plain": [
       "<Figure size 720x360 with 1 Axes>"
      ]
     },
     "metadata": {
      "needs_background": "light"
     },
     "output_type": "display_data"
    }
   ],
   "source": [
    "# Offenders by Age\n",
    "df.loc[df['ageat_release'] == 'Under 25', 'ageat_release'] ='0-25'\n",
    "series = df.groupby(\"ageat_release\").fiscal_year_released.count()\n",
    "series.plot(kind=\"line\", marker='D', title=\"Offenders by Age\", figsize=(10,5))"
   ]
  },
  {
   "cell_type": "code",
   "execution_count": 6,
   "id": "4454be18",
   "metadata": {},
   "outputs": [
    {
     "data": {
      "text/plain": [
       "<AxesSubplot:title={'center':'Offense Types'}, xlabel='offensesubtype'>"
      ]
     },
     "execution_count": 6,
     "metadata": {},
     "output_type": "execute_result"
    },
    {
     "data": {
      "image/png": "[encoded data removed]",
      "text/plain": [
       "<Figure size 720x360 with 1 Axes>"
      ]
     },
     "metadata": {
      "needs_background": "light"
     },
     "output_type": "display_data"
    }
   ],
   "source": [
    "# Offense Types\n",
    "series = df.groupby(\"offensesubtype\").fiscal_year_released.count()\n",
    "series.plot(kind=\"bar\", title=\"Offense Types\", figsize=(10,5))"
   ]
  },
  {
   "cell_type": "code",
   "execution_count": 7,
   "id": "bb4d779c",
   "metadata": {},
   "outputs": [
    {
     "data": {
      "text/plain": [
       "<AxesSubplot:title={'center':'Male vs. Female Offenders'}, ylabel='fiscal_year_released'>"
      ]
     },
     "execution_count": 7,
     "metadata": {},
     "output_type": "execute_result"
    },
    {
     "data": {
      "image/png": "[encoded data removed]",
      "text/plain": [
       "<Figure size 360x360 with 1 Axes>"
      ]
     },
     "metadata": {},
     "output_type": "display_data"
    }
   ],
   "source": [
    "# Male vs. Female Offenders\n",
    "series = df.groupby(\"sex\").fiscal_year_released.count()\n",
    "series.plot(kind=\"pie\", title=\"Male vs. Female Offenders\", figsize=(5,5), autopct='%.1f', fontsize=13)"
   ]
  },
  {
   "cell_type": "code",
   "execution_count": 8,
   "id": "e828b311",
   "metadata": {},
   "outputs": [
    {
     "data": {
      "text/plain": [
       "<AxesSubplot:title={'center':'Offenders by Ethnicity'}, ylabel='race_ethnicity'>"
      ]
     },
     "execution_count": 8,
     "metadata": {},
     "output_type": "execute_result"
    },
    {
     "data": {
      "image/png": "[encoded data removed]",
      "text/plain": [
       "<Figure size 720x360 with 1 Axes>"
      ]
     },
     "metadata": {
      "needs_background": "light"
     },
     "output_type": "display_data"
    }
   ],
   "source": [
    "# Offenders by Ethnicity\n",
    "series = df.groupby(\"race_ethnicity\").fiscal_year_released.count()\n",
    "series.plot(kind=\"barh\", title=\"Offenders by Ethnicity\", figsize=(10,5))"
   ]
  },
  {
   "cell_type": "markdown",
   "id": "6def1a4a",
   "metadata": {},
   "source": [
    "### Data Analysis and Cleaning\n",
    "#### Basic data analysis for modelling"
   ]
  },
  {
   "cell_type": "code",
   "execution_count": 9,
   "id": "0f026a22",
   "metadata": {},
   "outputs": [
    {
     "name": "stdout",
     "output_type": "stream",
     "text": [
      "No     17339\n",
      "Yes     8681\n",
      "Name: return_to_prison, dtype: int64 \n",
      "\n",
      "\n",
      "fiscal_year_released             0\n",
      "recidivism_reporting_year        0\n",
      "main_supervising_district     9581\n",
      "releasetype                   1762\n",
      "race_ethnicity                  30\n",
      "ageat_release                    3\n",
      "sex                              3\n",
      "offenseclassification            0\n",
      "offensetype                      0\n",
      "offensesubtype                   0\n",
      "return_to_prison                 0\n",
      "days_to_return               17339\n",
      "recidivism_type                  0\n",
      "new_offenseclassification    19302\n",
      "new_offensetype              19302\n",
      "new_offensesub_type          19321\n",
      "target_population                0\n",
      "dtype: int64\n"
     ]
    }
   ],
   "source": [
    "# How balanced is the dataset based on target attribute (Offenders returned v/s did not return)\n",
    "print(df['return_to_prison'].value_counts(), \"\\n\\n\")\n",
    "\n",
    "# How many rows in each column have null values\n",
    "print(df.isna().sum())\n"
   ]
  },
  {
   "cell_type": "code",
   "execution_count": 10,
   "id": "720c92e8",
   "metadata": {
    "scrolled": true
   },
   "outputs": [
    {
     "name": "stdout",
     "output_type": "stream",
     "text": [
      "Yes: 6633\n",
      "No: 9805\n"
     ]
    }
   ],
   "source": [
    "# Prepare dataset for classification problem\n",
    "df_classification = df.drop(['days_to_return','new_offenseclassification', 'new_offensetype','new_offensesub_type'], axis=1)\n",
    "df_classification.dropna(axis=0,inplace=True)\n",
    "\n",
    "# How balanced is the final dataset\n",
    "print(\"Yes: {}\".format(len(df_classification[(df_classification.return_to_prison == 'Yes')])))\n",
    "print(\"No: {}\".format(len(df_classification[(df_classification.return_to_prison == 'No')])))\n",
    "\n",
    "# Save dataframe to a csv file\n",
    "df_classification.to_csv('offender_classification.csv') "
   ]
  },
  {
   "cell_type": "code",
   "execution_count": 11,
   "id": "88d3467c",
   "metadata": {},
   "outputs": [
    {
     "name": "stdout",
     "output_type": "stream",
     "text": [
      "6718\n",
      "fiscal_year_released           0\n",
      "recidivism_reporting_year      0\n",
      "releasetype                  350\n",
      "race_ethnicity                 0\n",
      "ageat_release                  0\n",
      "sex                            0\n",
      "offenseclassification          0\n",
      "offensetype                    0\n",
      "offensesubtype                 0\n",
      "return_to_prison               0\n",
      "days_to_return                 0\n",
      "recidivism_type                0\n",
      "new_offenseclassification      0\n",
      "new_offensetype                0\n",
      "new_offensesub_type            0\n",
      "target_population              0\n",
      "dtype: int64\n"
     ]
    }
   ],
   "source": [
    "# Prepare dataset for regression problem\n",
    "df_yes = df[(df.return_to_prison == 'Yes')]\n",
    "\n",
    "# Remove 'main_supervising_district' column and all null 'new_offenseclassification' rows\n",
    "df_yes = df_yes[df_yes['new_offenseclassification'].notna()]\n",
    "df_yes.drop(['main_supervising_district'], axis = 1, inplace=True)\n",
    "\n",
    "# Replace 'offense_sub_type'\n",
    "df_yes.loc[df['new_offensesub_type'].isna(), 'new_offensesub_type'] = df['new_offensetype']\n",
    "\n",
    "print(len(df_yes))\n",
    "print(df_yes.isna().sum())\n",
    "\n",
    "# Save dataframe to a csv file\n",
    "df_yes.to_csv('recidivism_types.csv') "
   ]
  }
 ],
 "metadata": {
  "kernelspec": {
   "display_name": "Python 3",
   "language": "python",
   "name": "python3"
  },
  "language_info": {
   "codemirror_mode": {
    "name": "ipython",
    "version": 3
   },
   "file_extension": ".py",
   "mimetype": "text/x-python",
   "name": "python",
   "nbconvert_exporter": "python",
   "pygments_lexer": "ipython3",
   "version": "3.8.0"
  }
 },
 "nbformat": 4,
 "nbformat_minor": 5
}
