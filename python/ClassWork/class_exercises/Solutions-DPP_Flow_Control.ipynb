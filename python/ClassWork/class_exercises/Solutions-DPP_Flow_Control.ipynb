{
 "cells": [
  {
   "cell_type": "markdown",
   "metadata": {},
   "source": [
    "# Data Programming in Python | BAIS:6040\n",
    "# Flow Control & Functional Programming - Exercise Solutions"
   ]
  },
  {
   "cell_type": "markdown",
   "metadata": {},
   "source": [
    "## Exercises for Branches"
   ]
  },
  {
   "cell_type": "markdown",
   "metadata": {},
   "source": [
    "1. Write an <b>if</b> statement that prints \"Even\" if <i>x</i> is an even number and \"Odd\" if <i>x</i> is an odd number."
   ]
  },
  {
   "cell_type": "code",
   "execution_count": null,
   "metadata": {},
   "outputs": [],
   "source": [
    "x = 5"
   ]
  },
  {
   "cell_type": "code",
   "execution_count": null,
   "metadata": {},
   "outputs": [],
   "source": [
    "# Your answer here\n",
    "if x % 2 == 0:\n",
    "    print(\"Even\")\n",
    "else:\n",
    "    print(\"Odd\")"
   ]
  },
  {
   "cell_type": "markdown",
   "metadata": {},
   "source": [
    "2. Write an <b>if</b> statement that prints \"Integer\" if <i>x</i> is an integer, \"Float\" if <i>x</i> is a floating point number, \"Complex\" if <i>x</i> is a complex number, and \"Not a number\" otherwise. "
   ]
  },
  {
   "cell_type": "code",
   "execution_count": null,
   "metadata": {},
   "outputs": [],
   "source": [
    "# Your answer here\n",
    "\n",
    "if type(x) == int:\n",
    "    print(\"Integer\")\n",
    "elif type(x) == float:\n",
    "    print(\"Float\")\n",
    "elif type(x) == complex:\n",
    "    print(\"Complex\")\n",
    "else:\n",
    "    print(\"Not a number\")"
   ]
  },
  {
   "cell_type": "markdown",
   "metadata": {},
   "source": [
    "3. Write an <b>if</b> statement that prints \"x is greater than y.\" if <i>x</i> is greater than <i>y</i>, \"x equals y.\" if <i>x</i> equals <i>y</i>, and \"x is smaller than y.\" otherwise. "
   ]
  },
  {
   "cell_type": "code",
   "execution_count": null,
   "metadata": {},
   "outputs": [],
   "source": [
    "x, y = 3, 5"
   ]
  },
  {
   "cell_type": "code",
   "execution_count": null,
   "metadata": {},
   "outputs": [],
   "source": [
    "# Your answer here\n",
    "\n",
    "if x > y:\n",
    "    print(\"x is greater than y\")\n",
    "elif x == y:\n",
    "    print(\"x equals y\")\n",
    "else:\n",
    "    print(\"x is smaller than y\")"
   ]
  },
  {
   "cell_type": "markdown",
   "metadata": {},
   "source": [
    "## Exercises for for Loops (16 Questions)"
   ]
  },
  {
   "cell_type": "markdown",
   "metadata": {},
   "source": [
    "1. Write a <b>for</b> loop that prints all integers from 0 to 99, separated by a tab."
   ]
  },
  {
   "cell_type": "code",
   "execution_count": null,
   "metadata": {},
   "outputs": [],
   "source": [
    "# Your answer here\n",
    "for num in range(0, 100):\n",
    "    print(num, end=\"\\t\")"
   ]
  },
  {
   "cell_type": "markdown",
   "metadata": {},
   "source": [
    "2. Write a <b>for</b> loop that prints all characters in <i>s</i>, separated by a tab."
   ]
  },
  {
   "cell_type": "code",
   "execution_count": null,
   "metadata": {},
   "outputs": [],
   "source": [
    "s = \"abcdefghijklmnopqrstuvwxyz\""
   ]
  },
  {
   "cell_type": "code",
   "execution_count": null,
   "metadata": {},
   "outputs": [],
   "source": [
    "# Your answer here\n",
    "for c in s:\n",
    "    print(c, end=\"\\t\")"
   ]
  },
  {
   "cell_type": "markdown",
   "metadata": {},
   "source": [
    "3. Write a <b>for</b> loop that prints the same as right above, but this time using the index of <i>s</i>."
   ]
  },
  {
   "cell_type": "code",
   "execution_count": null,
   "metadata": {},
   "outputs": [],
   "source": [
    "# Your answer here\n",
    "for i in range(len(s)):\n",
    "    print(s[i], end=\"\\t\")"
   ]
  },
  {
   "cell_type": "markdown",
   "metadata": {},
   "source": [
    "4. Write a <b>for</b> loop that prints the same as right above except that the letters at odd index number positions are printed in upper case, while those at even index number positions are printed as they are."
   ]
  },
  {
   "cell_type": "code",
   "execution_count": null,
   "metadata": {},
   "outputs": [],
   "source": [
    "# Your answer here\n",
    "for i in range(len(s)):\n",
    "    if i % 2 == 1:\n",
    "        print(s[i].upper(), end=\"\\t\")\n",
    "    else:\n",
    "        print(s[i], end=\"\\t\")"
   ]
  },
  {
   "cell_type": "markdown",
   "metadata": {},
   "source": [
    "5. Write a <b>for</b> loop that prints \"NAME is SEX and aged AGE.\" for all tuples in <i>employees</i>, separated by a new line, where NAME is the first value in each tuple, SEX the second, and AGE the thrid. For example, the first line should look as follows: <i>Alice is female and aged 30.</i>"
   ]
  },
  {
   "cell_type": "code",
   "execution_count": null,
   "metadata": {},
   "outputs": [],
   "source": [
    "employees = [(\"Alice\", 30, \"female\"), (\"Bob\", 25, \"male\"), (\"Tom\", 34, \"male\")]"
   ]
  },
  {
   "cell_type": "code",
   "execution_count": null,
   "metadata": {},
   "outputs": [],
   "source": [
    "# Your answer here\n",
    "for name, age, sex in employees:\n",
    "    print(\"{} is {} and aged {}.\".format(name, sex, age))"
   ]
  },
  {
   "cell_type": "markdown",
   "metadata": {},
   "source": [
    "6. Write a <b>for</b> loop that prints \"ABBREVIATION is the abbreviation for FULLNAME.\" for all key-value pairs in <i>states</i>, separated by a new line, where ABBREVIATION is the key in <i>states</i> and FULLNAME the key. For example, the first line should look as follows: <i>IA is the abbreviation for Iowa.</i>"
   ]
  },
  {
   "cell_type": "code",
   "execution_count": null,
   "metadata": {},
   "outputs": [],
   "source": [
    "states = {\"IA\": \"Iowa\", \"IL\": \"Illinois\", \"MN\": \"Minnesota\", \"NE\": \"Nebraska\", \"WI\": \"Wisconsin\"}"
   ]
  },
  {
   "cell_type": "code",
   "execution_count": null,
   "metadata": {},
   "outputs": [],
   "source": [
    "# Your answer here\n",
    "for key in states:\n",
    "    print(\"{} is the abbreviation for {}.\".format(key, states[key]))"
   ]
  },
  {
   "cell_type": "markdown",
   "metadata": {},
   "source": [
    "7. Write a <b>for</b> loop that prints all names in <i>names</i> in uppercase, separated by a new line."
   ]
  },
  {
   "cell_type": "code",
   "execution_count": null,
   "metadata": {},
   "outputs": [],
   "source": [
    "names = [\"Alice\", \"Bob\", \"Mary\", \"Sam\", \"Sarah\", \"Tom\"]"
   ]
  },
  {
   "cell_type": "code",
   "execution_count": null,
   "metadata": {
    "scrolled": false
   },
   "outputs": [],
   "source": [
    "# Your answer here\n",
    "for name in names:\n",
    "    print(name.upper())"
   ]
  },
  {
   "cell_type": "markdown",
   "metadata": {},
   "source": [
    "8. Write a <b>for</b> loop that prints the first two characters of each name in <i>names</i> in lowercase, separated by a new line."
   ]
  },
  {
   "cell_type": "code",
   "execution_count": null,
   "metadata": {
    "scrolled": true
   },
   "outputs": [],
   "source": [
    "# Your answer here\n",
    "for name in names:\n",
    "    print(name.lower()[:2])     # Or item[:2].lower()"
   ]
  },
  {
   "cell_type": "markdown",
   "metadata": {},
   "source": [
    "9. Write a <b>for</b> loop that only prints the names in <i>names</i> with a length of 3, separated by a new line."
   ]
  },
  {
   "cell_type": "code",
   "execution_count": null,
   "metadata": {
    "scrolled": true
   },
   "outputs": [],
   "source": [
    "# Your answer here\n",
    "for name in names:\n",
    "    if len(name) == 3:\n",
    "        print(name)"
   ]
  },
  {
   "cell_type": "markdown",
   "metadata": {},
   "source": [
    "10. Write a <b>for</b> loop that only prints the names in <i>names</i> that end with either <i>m</i> or <i>y</i>, separated by a new line."
   ]
  },
  {
   "cell_type": "code",
   "execution_count": null,
   "metadata": {
    "scrolled": true
   },
   "outputs": [],
   "source": [
    "# Your answer here\n",
    "for name in names:\n",
    "    if (name.endswith(\"m\") or (name.endswith(\"y\"))):\n",
    "        print(name)"
   ]
  },
  {
   "cell_type": "markdown",
   "metadata": {},
   "source": [
    "11. Write a <b>for</b> loop that prints the pairs of two items that are at the same position in <i>men</i> and <i>women</i>, respectively, for example, Bob & Alice, Sam & Mary, and Tom & Sarah, separated by a new line. (Use the <b>zip()</b> built-in fuction.)"
   ]
  },
  {
   "cell_type": "code",
   "execution_count": null,
   "metadata": {},
   "outputs": [],
   "source": [
    "men = [\"Bob\", \"Sam\", \"Tom\"]\n",
    "women = [\"Alice\", \"Mary\", \"Sarah\"]"
   ]
  },
  {
   "cell_type": "code",
   "execution_count": null,
   "metadata": {},
   "outputs": [],
   "source": [
    "# Your answer here\n",
    "for name1, name2 in zip(men, women):\n",
    "    print(name1 + \" & \" + name2)"
   ]
  },
  {
   "cell_type": "markdown",
   "metadata": {},
   "source": [
    "12. Write a nested <b>for</b> loop that prints all possible pairs of the two names from <i>men</i> and <i>women</i>, respectively, for example, Bob & Alice, Bob & Mary, Bob & Sarah, Sam & Alice, ..., and Tom & Sarah, separated by a new line. "
   ]
  },
  {
   "cell_type": "code",
   "execution_count": null,
   "metadata": {},
   "outputs": [],
   "source": [
    "# Your answer here\n",
    "for name1 in men:\n",
    "    for name2 in women:\n",
    "        print(name1 + \" & \" + name2)"
   ]
  },
  {
   "cell_type": "markdown",
   "metadata": {},
   "source": [
    "13. The list <i>l</i> is a list of odd numbers from 1 to 999. Write a <b>for</b> loop that adds all numbers in <i>l</i> one after another. It should print the final sum after the <b>for</b> loop."
   ]
  },
  {
   "cell_type": "code",
   "execution_count": null,
   "metadata": {},
   "outputs": [],
   "source": [
    "l = range(1, 1000, 2)"
   ]
  },
  {
   "cell_type": "code",
   "execution_count": null,
   "metadata": {},
   "outputs": [],
   "source": [
    "# Your answer here\n",
    "sum1 = 0\n",
    "for num in l:\n",
    "    sum1 += num\n",
    "\n",
    "print(sum1)"
   ]
  },
  {
   "cell_type": "markdown",
   "metadata": {},
   "source": [
    "14. Check if the result from the <b>for</b> loop matches the result from the <b>sum</b> function.  "
   ]
  },
  {
   "cell_type": "code",
   "execution_count": null,
   "metadata": {},
   "outputs": [],
   "source": [
    "# Your answer here\n",
    "sum1 == sum(l)"
   ]
  },
  {
   "cell_type": "markdown",
   "metadata": {},
   "source": [
    "15. Write a <b>for</b> loop that adds all numbers in <i>l</i> one after another, printing the current sum for every 10th number (i.e., at the index positions 9, 19, 29, ...). It should print the final sum after the <b>for</b> loop."
   ]
  },
  {
   "cell_type": "code",
   "execution_count": null,
   "metadata": {},
   "outputs": [],
   "source": [
    "# Your answer here\n",
    "sum1 = 0\n",
    "for i in range(len(l)):\n",
    "    sum1 += l[i]\n",
    "    if i % 10 == 9:\n",
    "        print(sum1, i)\n",
    "\n",
    "print(sum1)"
   ]
  },
  {
   "cell_type": "markdown",
   "metadata": {},
   "source": [
    "16. Write a <b>for</b> loop that calculates the product of the first 10 numbers in <i>l</i>. It should print the final product after the <b>for</b> loop."
   ]
  },
  {
   "cell_type": "code",
   "execution_count": null,
   "metadata": {},
   "outputs": [],
   "source": [
    "# Your answer here\n",
    "product = 1\n",
    "for num in l[:10]:\n",
    "    product *= num\n",
    "\n",
    "print(product)"
   ]
  },
  {
   "cell_type": "markdown",
   "metadata": {},
   "source": [
    "## Exercises for List Comprehensions (4 Questions)"
   ]
  },
  {
   "cell_type": "markdown",
   "metadata": {},
   "source": [
    "1. Using list comprehension, create a list of squares of the numbers from <i>l</i>."
   ]
  },
  {
   "cell_type": "code",
   "execution_count": null,
   "metadata": {},
   "outputs": [],
   "source": [
    "l = [1, 2, 3, 4, 5]"
   ]
  },
  {
   "cell_type": "code",
   "execution_count": null,
   "metadata": {},
   "outputs": [],
   "source": [
    "# Your answer here\n",
    "[num ** 2 for num in l]"
   ]
  },
  {
   "cell_type": "markdown",
   "metadata": {},
   "source": [
    "2. Using list comprehension, create a list of lists, each of which contains the square and cube of each number from <i>l</i>."
   ]
  },
  {
   "cell_type": "code",
   "execution_count": null,
   "metadata": {},
   "outputs": [],
   "source": [
    "# Your answer here\n",
    "[[num ** 2, num ** 3] for num in l]"
   ]
  },
  {
   "cell_type": "markdown",
   "metadata": {},
   "source": [
    "3. Using list comprehension, create a list of the names from <i>l</i> in lower case."
   ]
  },
  {
   "cell_type": "code",
   "execution_count": null,
   "metadata": {},
   "outputs": [],
   "source": [
    "names = [\"Alice\", \"Bob\", \"Tom\"]"
   ]
  },
  {
   "cell_type": "code",
   "execution_count": null,
   "metadata": {},
   "outputs": [],
   "source": [
    "# Your answer here\n",
    "[name.lower() for name in names]"
   ]
  },
  {
   "cell_type": "markdown",
   "metadata": {},
   "source": [
    "4. Using list comprehension, create a list of tuples, each of which contains each name from <i>l</i> and the length of the name."
   ]
  },
  {
   "cell_type": "code",
   "execution_count": null,
   "metadata": {},
   "outputs": [],
   "source": [
    "# Your answer here\n",
    "[(name, len(name)) for name in names]"
   ]
  },
  {
   "cell_type": "markdown",
   "metadata": {},
   "source": [
    "## Exercises for break, continue, and pass (4 Questions)"
   ]
  },
  {
   "cell_type": "markdown",
   "metadata": {},
   "source": [
    "1. Write a <b>for</b> loop that prints all names in <i>employees</i> except for Mary."
   ]
  },
  {
   "cell_type": "code",
   "execution_count": null,
   "metadata": {},
   "outputs": [],
   "source": [
    "employees = [\"Alice\", \"Bob\", \"Mary\", \"Sam\", \"Sarah\", \"Tom\"]"
   ]
  },
  {
   "cell_type": "code",
   "execution_count": null,
   "metadata": {},
   "outputs": [],
   "source": [
    "# Your answer here\n",
    "for name in employees:\n",
    "    if name == \"Mary\":\n",
    "        continue\n",
    "    print(name)"
   ]
  },
  {
   "cell_type": "markdown",
   "metadata": {},
   "source": [
    "2. Write a <b>for</b> loop that prints the names in <i>employees</i> from the beginning but stops when it sees Mary."
   ]
  },
  {
   "cell_type": "code",
   "execution_count": null,
   "metadata": {},
   "outputs": [],
   "source": [
    "# Your answer here\n",
    "for name in employees:\n",
    "    if name == \"Mary\":\n",
    "        break\n",
    "    print(name)"
   ]
  },
  {
   "cell_type": "markdown",
   "metadata": {},
   "source": [
    "3. The list <i>l</i> is a list of odd numbers from 1 to 1000. Write a <b>for</b> loop that adds all numbers in <i>l</i> except for multiples of 5. It should print the final sum after the <b>for</b> loop."
   ]
  },
  {
   "cell_type": "code",
   "execution_count": null,
   "metadata": {},
   "outputs": [],
   "source": [
    "l = range(1, 1000, 2)"
   ]
  },
  {
   "cell_type": "code",
   "execution_count": null,
   "metadata": {},
   "outputs": [],
   "source": [
    "# Your answer here\n",
    "sum1 = 0\n",
    "for num in l:\n",
    "    if num % 5 == 0:\n",
    "        continue\n",
    "    sum1 += num\n",
    "\n",
    "sum1"
   ]
  },
  {
   "cell_type": "markdown",
   "metadata": {},
   "source": [
    "4. Write a <b>for</b> loop that adds numbers in <i>l</i> from the beginning but stops when the sum exceeds 1000, printing the current sum and the number last added."
   ]
  },
  {
   "cell_type": "code",
   "execution_count": null,
   "metadata": {},
   "outputs": [],
   "source": [
    "# Your answer here\n",
    "sum1 = 0\n",
    "for num in l:\n",
    "    sum1 += num\n",
    "    if sum1 > 1000:\n",
    "        print(sum1, num)\n",
    "        break"
   ]
  },
  {
   "cell_type": "markdown",
   "metadata": {},
   "source": [
    "## Exercises for while Loops (2 Questions)"
   ]
  },
  {
   "cell_type": "markdown",
   "metadata": {},
   "source": [
    "1. Write a <b>while</b> loop that repeatedly prints the current value of <i>x</i> ane then divides <i>x</i> in half at each iteration and stops when <i>x</i> becomes less than 1."
   ]
  },
  {
   "cell_type": "code",
   "execution_count": null,
   "metadata": {},
   "outputs": [],
   "source": [
    "x = float(1000)"
   ]
  },
  {
   "cell_type": "code",
   "execution_count": null,
   "metadata": {},
   "outputs": [],
   "source": [
    "# Your answer here\n",
    "while x >= 1:\n",
    "    print(x)\n",
    "    x /= 2  "
   ]
  },
  {
   "cell_type": "markdown",
   "metadata": {},
   "source": [
    "2. Write a <b>while</b> loop that interactively asks the user to enter an integer and tells if the number is even or odd. It exits when the user enters \"stop\"."
   ]
  },
  {
   "cell_type": "code",
   "execution_count": null,
   "metadata": {},
   "outputs": [],
   "source": [
    "# Your answer here\n",
    "while True:\n",
    "    num = input(\"Enter an integer: \")\n",
    "    if num == \"stop\":\n",
    "        break\n",
    "    else:\n",
    "        if int(num) % 2 == 0: \n",
    "            print(\"{} is an even number.\".format(num))\n",
    "        else:\n",
    "            print(\"{} is an odd number.\".format(num))"
   ]
  },
  {
   "cell_type": "markdown",
   "metadata": {},
   "source": [
    "## Exercises for Lambda Functions (2 Questions)"
   ]
  },
  {
   "cell_type": "markdown",
   "metadata": {},
   "source": [
    "1. Create a list of results from taking 7 times every number in the range from 1 to 10 inclusive as a lambda function using the map() function."
   ]
  },
  {
   "cell_type": "code",
   "execution_count": null,
   "metadata": {},
   "outputs": [],
   "source": [
    "# Your answer here\n",
    "list(map(lambda x: x*7, range(1,11)))"
   ]
  },
  {
   "cell_type": "markdown",
   "metadata": {},
   "source": [
    "2. Create a list of all the numbers divisible by 3 in the range from 0 to 30 inclusive as a lambda function using the filter() function. "
   ]
  },
  {
   "cell_type": "code",
   "execution_count": null,
   "metadata": {},
   "outputs": [],
   "source": [
    "# Your answer here\n",
    "list(filter(lambda x: x % 3 == 0, range(31)))"
   ]
  }
 ],
 "metadata": {
  "kernelspec": {
   "display_name": "Python 3",
   "language": "python",
   "name": "python3"
  },
  "language_info": {
   "codemirror_mode": {
    "name": "ipython",
    "version": 3
   },
   "file_extension": ".py",
   "mimetype": "text/x-python",
   "name": "python",
   "nbconvert_exporter": "python",
   "pygments_lexer": "ipython3",
   "version": "3.8.3"
  }
 },
 "nbformat": 4,
 "nbformat_minor": 1
}
