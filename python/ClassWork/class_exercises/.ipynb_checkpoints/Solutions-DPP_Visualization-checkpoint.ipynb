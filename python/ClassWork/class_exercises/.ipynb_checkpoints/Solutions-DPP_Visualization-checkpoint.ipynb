{
 "cells": [
  {
   "cell_type": "markdown",
   "metadata": {},
   "source": [
    "# Data Programming in Python | BAIS:6040\n",
    "# Data Visualization - Practice Exercise Solutions"
   ]
  },
  {
   "cell_type": "markdown",
   "metadata": {},
   "source": [
    "## Importing Modules"
   ]
  },
  {
   "cell_type": "code",
   "execution_count": null,
   "metadata": {},
   "outputs": [],
   "source": [
    "from IPython.display import Image                   # image display\n",
    "import matplotlib.pyplot as plt                     # visualization\n",
    "import numpy as np                                  # random number generation\n",
    "import pandas as pd                                 # dataframes\n",
    "\n",
    "# inline display of plots\n",
    "%matplotlib inline\n",
    "\n",
    "# set the plotting style to seaborn\n",
    "plt.style.use('seaborn')"
   ]
  },
  {
   "cell_type": "markdown",
   "metadata": {},
   "source": [
    "## Exercises for Visualization (6 questions)"
   ]
  },
  {
   "cell_type": "markdown",
   "metadata": {},
   "source": [
    "Let's continue to use <i>dfb</i> for our dataframe."
   ]
  },
  {
   "cell_type": "markdown",
   "metadata": {},
   "source": [
    "1\\. Draw a histogram that plots the distribution of <i>Walks in 2017 for the National League</i> with 10 bins. Set `figsize` to 15 x 5."
   ]
  },
  {
   "cell_type": "code",
   "execution_count": null,
   "metadata": {},
   "outputs": [],
   "source": [
    "# Your answer here\n",
    "dfb[(dfb.yearID == 2017) & (dfb.lgID == \"NL\")].BB.plot(kind=\"hist\", bins=10, grid=True, figsize=(15,5))\n",
    "plt.show()"
   ]
  },
  {
   "cell_type": "markdown",
   "metadata": {},
   "source": [
    "2\\. Create the same histogram as #1 above using Seaborn and include a rugplot and kernel density estimate."
   ]
  },
  {
   "cell_type": "code",
   "execution_count": null,
   "metadata": {},
   "outputs": [],
   "source": [
    "# Your answer here\n",
    "sns.distplot(dfb[(dfb.yearID == 2017) & (dfb.lgID == \"NL\")].BB, rug=True, bins=10, kde=True)\n",
    "plt.show()"
   ]
  },
  {
   "cell_type": "markdown",
   "metadata": {},
   "source": [
    "3\\. Draw a scatter plot where the x axis is <i>Walks in 2017</i> and the y axis is <i>Strikeouts in 2017</i>. Set the `figsize` to 10 x 10. "
   ]
  },
  {
   "cell_type": "code",
   "execution_count": null,
   "metadata": {
    "scrolled": false
   },
   "outputs": [],
   "source": [
    "# Your answer here\n",
    "dfb[dfb.yearID == 2017].plot(kind='scatter', x='BB', y='SO', figsize=(10,10))\n",
    "plt.show()"
   ]
  },
  {
   "cell_type": "markdown",
   "metadata": {},
   "source": [
    "4\\. Draw a box plot that displays the distributions of both <i>Hits in 2017</i> and <i>Homeruns in 2017</i>. Set the `title` to 'Hitting Distribution' and the `figsize` to 10 x 10. "
   ]
  },
  {
   "cell_type": "code",
   "execution_count": null,
   "metadata": {
    "scrolled": false
   },
   "outputs": [],
   "source": [
    "# Your answer here\n",
    "dfb[dfb.yearID == 2017][[\"H\", \"HR\"]].plot(kind=\"box\", grid=True, title='Hitting Distribution', figsize=(10,10))\n",
    "plt.show()"
   ]
  },
  {
   "cell_type": "markdown",
   "metadata": {},
   "source": [
    "5\\. Create a Seaborn boxplot for the distribution of home runs in 2017 and 2018 in the American and National Leagues. The hue should be based on the league and the x axis represents the year."
   ]
  },
  {
   "cell_type": "code",
   "execution_count": null,
   "metadata": {},
   "outputs": [],
   "source": [
    "# Your answer here\n",
    "sns.set(style=\"whitegrid\")\n",
    "sns.boxplot(x=\"yearID\", y=\"HR\", hue='lgID', width=0.6\n",
    "            ,data=dfb[((dfb.yearID == 2017) | (dfb.yearID == 2018)) & ((dfb.lgID == \"NL\") | (dfb.lgID == \"AL\"))])\n",
    "plt.show()"
   ]
  },
  {
   "cell_type": "markdown",
   "metadata": {},
   "source": [
    "6\\. Using plotly express, draw an interactive line plot of the minimum temperature data above for the year 1990."
   ]
  },
  {
   "cell_type": "code",
   "execution_count": null,
   "metadata": {},
   "outputs": [],
   "source": [
    "# Your answer here\n",
    "import plotly.express as px\n",
    "\n",
    "series = pd.read_csv('data/daily-minimum-temperatures.csv',header=0, index_col=0, parse_dates=True, squeeze=False)\n",
    "series = series.loc['1990-1-1':'1990-12-31']\n",
    "\n",
    "fig = px.line(series, x=series.index, y='Temp')\n",
    "fig.show()"
   ]
  }
 ],
 "metadata": {
  "kernelspec": {
   "display_name": "Python 3",
   "language": "python",
   "name": "python3"
  },
  "language_info": {
   "codemirror_mode": {
    "name": "ipython",
    "version": 3
   },
   "file_extension": ".py",
   "mimetype": "text/x-python",
   "name": "python",
   "nbconvert_exporter": "python",
   "pygments_lexer": "ipython3",
   "version": "3.8.3"
  }
 },
 "nbformat": 4,
 "nbformat_minor": 1
}
