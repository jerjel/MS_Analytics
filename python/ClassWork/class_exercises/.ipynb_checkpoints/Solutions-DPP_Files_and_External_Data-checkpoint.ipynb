{
 "cells": [
  {
   "cell_type": "markdown",
   "metadata": {},
   "source": [
    "# Data Programming in Python | BAIS:6040\n",
    "# Files and External Data Sources - Exercise Solutions"
   ]
  },
  {
   "cell_type": "markdown",
   "metadata": {},
   "source": [
    "## Importing modules"
   ]
  },
  {
   "cell_type": "code",
   "execution_count": 2,
   "metadata": {},
   "outputs": [],
   "source": [
    "import json                            # handling JSON files\n",
    "import sqlite3 as sq3                  # communicating with SQLite3 database\n",
    "import os                              # using OS-dependent functionality \n",
    "import pandas as pd                    # handling Pandas dataframes\n",
    "from seaborn import load_dataset       # using the Titanic dataset"
   ]
  },
  {
   "cell_type": "markdown",
   "metadata": {},
   "source": [
    "## Exercises for file writing and reading (6 questions)"
   ]
  },
  {
   "cell_type": "markdown",
   "metadata": {},
   "source": [
    "1\\. Creat a list <i>l</i> of integers from 1 (inclusive) to 100 (inclusive). Write a CSV file named <i>ex_output.csv</i> under the directory <i>data</i>. The file contains only one column name <i>id</i> in the first row and, starting from the second row, each number from <i>l</i> in each line."
   ]
  },
  {
   "cell_type": "code",
   "execution_count": null,
   "metadata": {},
   "outputs": [],
   "source": [
    "# Your answer here\n",
    "l = range(1, 101)\n",
    "with open(\"data/ex_output.csv\", mode=\"w\") as fw:\n",
    "    fw.write(\"id\\n\")\n",
    "    for num in l:\n",
    "        fw.write(\"{}\\n\".format(num))"
   ]
  },
  {
   "cell_type": "markdown",
   "metadata": {},
   "source": [
    "2\\. Continue to use the list <i>l</i>. Write another CSV file named <i>ex_output2.csv</i> under the directory <i>data</i>. The file contains three column names <i>id</i>, <i>square</i>, and <i>cube</i> in the first row and, starting from the second row, each number from <i>l</i>, its square, and its cube in each line. The delimiter between columns is a comma. "
   ]
  },
  {
   "cell_type": "code",
   "execution_count": null,
   "metadata": {},
   "outputs": [],
   "source": [
    "# Your answer here\n",
    "with open(\"data/ex_output2.csv\", mode=\"w\") as fw:\n",
    "    fw.write(\"id,square,cube\\n\")\n",
    "    for num in l:\n",
    "        fw.write(\"{},{},{}\\n\".format(num, num**2, num**3))"
   ]
  },
  {
   "cell_type": "markdown",
   "metadata": {},
   "source": [
    "Let's continue to use the dataframe <i>df</i> from the Titanic dataset."
   ]
  },
  {
   "cell_type": "code",
   "execution_count": null,
   "metadata": {
    "scrolled": false
   },
   "outputs": [],
   "source": [
    "df = load_dataset(\"titanic\")\n",
    "df.head()"
   ]
  },
  {
   "cell_type": "markdown",
   "metadata": {},
   "source": [
    "3\\. Create a CSV file named <i>ex_titanic.csv</i> under the directory <i>data</i>. The file contains three column names <i>sex</i>, <i>pclass</i> and <i>embark_town</i> in the first row and the values from the corresponding columns of <i>df</i> in the following rows. The delimiter between columns is a tab."
   ]
  },
  {
   "cell_type": "code",
   "execution_count": null,
   "metadata": {},
   "outputs": [],
   "source": [
    "# Your answer here\n",
    "with open(\"data/ex_titanic.csv\", mode=\"w\") as fw:\n",
    "    fw.write(\"sex\\tclass\\tembark_town\\n\")\n",
    "    \n",
    "    for idx, val in df.iterrows():\n",
    "        sex = val.sex\n",
    "        pclass = val.pclass\n",
    "        town = val.embark_town\n",
    "        \n",
    "        fw.write(\"{}\\t{}\\t{}\\n\".format(sex, pclass, town))"
   ]
  },
  {
   "cell_type": "markdown",
   "metadata": {},
   "source": [
    "4\\. Create a CSV file named <i>ex_titanic2.csv</i> under the directory <i>data</i>. The file contains the same contents as <i>ex_titanic.csv</i>. In addition, it contains another column named <i>num_fam_mems</i>, meaning the number of family members, which is the sum of the column <i>sibsp</i> (siblings and spouses) and the column <i>parch</i> (parents and children). "
   ]
  },
  {
   "cell_type": "code",
   "execution_count": null,
   "metadata": {},
   "outputs": [],
   "source": [
    "# Your answer here\n",
    "with open(\"data/ex_titanic2.csv\", mode=\"w\") as fw:\n",
    "    fw.write(\"sex\\tpclass\\tembark_town\\tnum_fam_mems\\n\")\n",
    "    \n",
    "    for idx, val in df.iterrows():\n",
    "        sex = val.sex\n",
    "        pclass = val.pclass\n",
    "        town = val.embark_town\n",
    "        num_fam_mems = val.sibsp + val.parch\n",
    "        \n",
    "        fw.write(\"{}\\t{}\\t{}\\t{}\\n\".format(sex, pclass, town, num_fam_mems))"
   ]
  },
  {
   "cell_type": "markdown",
   "metadata": {},
   "source": [
    "5\\. Read the file <i>ex_titanic2.csv</i> under the directory <i>data</i> and print the first five rows as they are."
   ]
  },
  {
   "cell_type": "code",
   "execution_count": null,
   "metadata": {},
   "outputs": [],
   "source": [
    "# Your answer here\n",
    "with open(\"data/ex_titanic2.csv\", mode=\"r\") as fr:\n",
    "    lines = fr.readlines()\n",
    "    for line in lines[:5]:\n",
    "        print(line, end=\"\")"
   ]
  },
  {
   "cell_type": "markdown",
   "metadata": {},
   "source": [
    "6\\. Read the file <i>ex_titanic2.csv</i> under the directory <i>data</i> and print the first five rows under the column <i>embark_town</i>. "
   ]
  },
  {
   "cell_type": "code",
   "execution_count": null,
   "metadata": {},
   "outputs": [],
   "source": [
    "# Your answer here\n",
    "with open(\"data/ex_titanic2.csv\", mode=\"r\") as fr:\n",
    "    lines = fr.readlines()\n",
    "    for line in lines[:5]:\n",
    "        _, _, town, _ = line.split(\"\\t\")\n",
    "        print(town)"
   ]
  },
  {
   "cell_type": "markdown",
   "metadata": {},
   "source": [
    "## Exercises for JSON file writing and reading (3 questions)"
   ]
  },
  {
   "cell_type": "markdown",
   "metadata": {},
   "source": [
    "Let's continue to use the dataframe <i>df</i> from the Titanic dataset."
   ]
  },
  {
   "cell_type": "code",
   "execution_count": 7,
   "metadata": {
    "scrolled": false
   },
   "outputs": [
    {
     "data": {
      "text/html": [
       "<div>\n",
       "<style scoped>\n",
       "    .dataframe tbody tr th:only-of-type {\n",
       "        vertical-align: middle;\n",
       "    }\n",
       "\n",
       "    .dataframe tbody tr th {\n",
       "        vertical-align: top;\n",
       "    }\n",
       "\n",
       "    .dataframe thead th {\n",
       "        text-align: right;\n",
       "    }\n",
       "</style>\n",
       "<table border=\"1\" class=\"dataframe\">\n",
       "  <thead>\n",
       "    <tr style=\"text-align: right;\">\n",
       "      <th></th>\n",
       "      <th>survived</th>\n",
       "      <th>pclass</th>\n",
       "      <th>sex</th>\n",
       "      <th>age</th>\n",
       "      <th>sibsp</th>\n",
       "      <th>parch</th>\n",
       "      <th>fare</th>\n",
       "      <th>embarked</th>\n",
       "      <th>class</th>\n",
       "      <th>who</th>\n",
       "      <th>adult_male</th>\n",
       "      <th>deck</th>\n",
       "      <th>embark_town</th>\n",
       "      <th>alive</th>\n",
       "      <th>alone</th>\n",
       "    </tr>\n",
       "  </thead>\n",
       "  <tbody>\n",
       "    <tr>\n",
       "      <th>0</th>\n",
       "      <td>0</td>\n",
       "      <td>3</td>\n",
       "      <td>male</td>\n",
       "      <td>22.0</td>\n",
       "      <td>1</td>\n",
       "      <td>0</td>\n",
       "      <td>7.2500</td>\n",
       "      <td>S</td>\n",
       "      <td>Third</td>\n",
       "      <td>man</td>\n",
       "      <td>True</td>\n",
       "      <td>NaN</td>\n",
       "      <td>Southampton</td>\n",
       "      <td>no</td>\n",
       "      <td>False</td>\n",
       "    </tr>\n",
       "    <tr>\n",
       "      <th>1</th>\n",
       "      <td>1</td>\n",
       "      <td>1</td>\n",
       "      <td>female</td>\n",
       "      <td>38.0</td>\n",
       "      <td>1</td>\n",
       "      <td>0</td>\n",
       "      <td>71.2833</td>\n",
       "      <td>C</td>\n",
       "      <td>First</td>\n",
       "      <td>woman</td>\n",
       "      <td>False</td>\n",
       "      <td>C</td>\n",
       "      <td>Cherbourg</td>\n",
       "      <td>yes</td>\n",
       "      <td>False</td>\n",
       "    </tr>\n",
       "    <tr>\n",
       "      <th>2</th>\n",
       "      <td>1</td>\n",
       "      <td>3</td>\n",
       "      <td>female</td>\n",
       "      <td>26.0</td>\n",
       "      <td>0</td>\n",
       "      <td>0</td>\n",
       "      <td>7.9250</td>\n",
       "      <td>S</td>\n",
       "      <td>Third</td>\n",
       "      <td>woman</td>\n",
       "      <td>False</td>\n",
       "      <td>NaN</td>\n",
       "      <td>Southampton</td>\n",
       "      <td>yes</td>\n",
       "      <td>True</td>\n",
       "    </tr>\n",
       "    <tr>\n",
       "      <th>3</th>\n",
       "      <td>1</td>\n",
       "      <td>1</td>\n",
       "      <td>female</td>\n",
       "      <td>35.0</td>\n",
       "      <td>1</td>\n",
       "      <td>0</td>\n",
       "      <td>53.1000</td>\n",
       "      <td>S</td>\n",
       "      <td>First</td>\n",
       "      <td>woman</td>\n",
       "      <td>False</td>\n",
       "      <td>C</td>\n",
       "      <td>Southampton</td>\n",
       "      <td>yes</td>\n",
       "      <td>False</td>\n",
       "    </tr>\n",
       "    <tr>\n",
       "      <th>4</th>\n",
       "      <td>0</td>\n",
       "      <td>3</td>\n",
       "      <td>male</td>\n",
       "      <td>35.0</td>\n",
       "      <td>0</td>\n",
       "      <td>0</td>\n",
       "      <td>8.0500</td>\n",
       "      <td>S</td>\n",
       "      <td>Third</td>\n",
       "      <td>man</td>\n",
       "      <td>True</td>\n",
       "      <td>NaN</td>\n",
       "      <td>Southampton</td>\n",
       "      <td>no</td>\n",
       "      <td>True</td>\n",
       "    </tr>\n",
       "  </tbody>\n",
       "</table>\n",
       "</div>"
      ],
      "text/plain": [
       "   survived  pclass     sex   age  sibsp  parch     fare embarked  class  \\\n",
       "0         0       3    male  22.0      1      0   7.2500        S  Third   \n",
       "1         1       1  female  38.0      1      0  71.2833        C  First   \n",
       "2         1       3  female  26.0      0      0   7.9250        S  Third   \n",
       "3         1       1  female  35.0      1      0  53.1000        S  First   \n",
       "4         0       3    male  35.0      0      0   8.0500        S  Third   \n",
       "\n",
       "     who  adult_male deck  embark_town alive  alone  \n",
       "0    man        True  NaN  Southampton    no  False  \n",
       "1  woman       False    C    Cherbourg   yes  False  \n",
       "2  woman       False  NaN  Southampton   yes   True  \n",
       "3  woman       False    C  Southampton   yes  False  \n",
       "4    man        True  NaN  Southampton    no   True  "
      ]
     },
     "execution_count": 7,
     "metadata": {},
     "output_type": "execute_result"
    }
   ],
   "source": [
    "df = load_dataset(\"titanic\")\n",
    "df.head()"
   ]
  },
  {
   "cell_type": "markdown",
   "metadata": {},
   "source": [
    "1\\. Create a list <i>passengers</i>, in which each element is a dictionary with the keys being <i>sex</i>, <i>pclass</i>, and <i>embark_town</i> and the values being their corresponding values in <i>df</i>. "
   ]
  },
  {
   "cell_type": "code",
   "execution_count": 10,
   "metadata": {},
   "outputs": [
    {
     "data": {
      "text/plain": [
       "[{'sex': 'male', 'pclass': 3, 'town': 'Southampton'},\n",
       " {'sex': 'female', 'pclass': 1, 'town': 'Cherbourg'},\n",
       " {'sex': 'female', 'pclass': 3, 'town': 'Southampton'},\n",
       " {'sex': 'female', 'pclass': 1, 'town': 'Southampton'},\n",
       " {'sex': 'male', 'pclass': 3, 'town': 'Southampton'}]"
      ]
     },
     "execution_count": 10,
     "metadata": {},
     "output_type": "execute_result"
    }
   ],
   "source": [
    "# Your answer here\n",
    "passengers = []\n",
    "\n",
    "for idx, val in df.iterrows():\n",
    "    sex = val.sex\n",
    "    pclass = val.pclass\n",
    "    town = val.embark_town\n",
    "    \n",
    "    passenger = {\"sex\": sex, \"pclass\": pclass, \"town\": town}\n",
    "    passengers.append(passenger)\n",
    "    \n",
    "passengers[:5]"
   ]
  },
  {
   "cell_type": "markdown",
   "metadata": {},
   "source": [
    "2\\. Serialize <i>passengers</i> as a JSON formatted stream to a file named <i>ex_passengers.json</i> under the directory <i>data</i>."
   ]
  },
  {
   "cell_type": "code",
   "execution_count": null,
   "metadata": {},
   "outputs": [],
   "source": [
    "# Your answer here\n",
    "with open(\"data/ex_passengers.json\", \"w\") as fw:\n",
    "    json.dump(passengers, fw)"
   ]
  },
  {
   "cell_type": "markdown",
   "metadata": {},
   "source": [
    "3\\. Deserialize the <i>ex_passengers.json</i> file under the directory <i>data</i> to a Python list named <i>passengers_new</i>."
   ]
  },
  {
   "cell_type": "code",
   "execution_count": null,
   "metadata": {},
   "outputs": [],
   "source": [
    "# Your answer here\n",
    "with open(\"data/ex_passengers.json\", \"r\") as fr:\n",
    "    passengers_new = json.load(fr)\n",
    "    \n",
    "passengers_new[:5]"
   ]
  }
 ],
 "metadata": {
  "kernelspec": {
   "display_name": "Python 3",
   "language": "python",
   "name": "python3"
  },
  "language_info": {
   "codemirror_mode": {
    "name": "ipython",
    "version": 3
   },
   "file_extension": ".py",
   "mimetype": "text/x-python",
   "name": "python",
   "nbconvert_exporter": "python",
   "pygments_lexer": "ipython3",
   "version": "3.8.3"
  }
 },
 "nbformat": 4,
 "nbformat_minor": 1
}
