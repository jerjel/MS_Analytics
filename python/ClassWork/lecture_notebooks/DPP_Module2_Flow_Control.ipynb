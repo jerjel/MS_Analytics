{
 "cells": [
  {
   "cell_type": "markdown",
   "metadata": {},
   "source": [
    "# Data Programming in Python | BAIS:6040\n",
    "# Flow Control & Functional Programming"
   ]
  },
  {
   "cell_type": "markdown",
   "metadata": {},
   "source": [
    "Instructor: Jeff Hendricks \n",
    "\n",
    "Topics to be covered:\n",
    "- Flow Control (+ exercises)\n",
    "- List Comprehensions (+ exercises)\n",
    "- Functional Programming (+ exercises)\n",
    "\n",
    "References: \n",
    "- Learning Python, 5th Edition by Mark Lutz (http://shop.oreilly.com/product/0636920028154.do)\n",
    "- Python Programming by en.wikibooks.org (https://en.wikibooks.org/wiki/Python_Programming)"
   ]
  },
  {
   "cell_type": "markdown",
   "metadata": {},
   "source": [
    "## Flow Control"
   ]
  },
  {
   "cell_type": "markdown",
   "metadata": {},
   "source": [
    "There are three main categories of program control flow in Python:\n",
    "- branches (if, elif, else)\n",
    "- loops (for loops, while loops)\n",
    "- function calls"
   ]
  },
  {
   "cell_type": "markdown",
   "metadata": {},
   "source": [
    "## ▪ Branches"
   ]
  },
  {
   "cell_type": "raw",
   "metadata": {},
   "source": [
    "if test1:\n",
    "    statements1\n",
    "elif test2:\n",
    "    statements2\n",
    "else:\n",
    "    statements3"
   ]
  },
  {
   "cell_type": "markdown",
   "metadata": {},
   "source": [
    "The Python <b>if</b> statement takes the form of an <b>if</b> test, followed by one or more optional <b>elif</b> (\"else if\") tests and a final optional <b>else</b> block. "
   ]
  },
  {
   "cell_type": "markdown",
   "metadata": {},
   "source": [
    "The tests and <b>else</b> part each have an associated block of nested statements, indented under a headline."
   ]
  },
  {
   "cell_type": "markdown",
   "metadata": {},
   "source": [
    "When the <b>if</b> statement runs, Python executes the block of code associated with the first test that evaluates to true, or the <b>else</b> block if all tests prove false. "
   ]
  },
  {
   "cell_type": "code",
   "execution_count": 4,
   "metadata": {},
   "outputs": [],
   "source": [
    "x = -3"
   ]
  },
  {
   "cell_type": "code",
   "execution_count": null,
   "metadata": {},
   "outputs": [],
   "source": [
    "if x > 0:\n",
    "    print(\"X is positive.\")"
   ]
  },
  {
   "cell_type": "markdown",
   "metadata": {},
   "source": [
    "It prints nothing because the if test evalues to false. "
   ]
  },
  {
   "cell_type": "code",
   "execution_count": 5,
   "metadata": {},
   "outputs": [
    {
     "name": "stdout",
     "output_type": "stream",
     "text": [
      "X is negative.\n"
     ]
    }
   ],
   "source": [
    "if x > 0:\n",
    "    print(\"X is positive.\")\n",
    "else:                                # for the rest of the cases\n",
    "    print(\"X is negative.\")"
   ]
  },
  {
   "cell_type": "code",
   "execution_count": 6,
   "metadata": {},
   "outputs": [
    {
     "name": "stdout",
     "output_type": "stream",
     "text": [
      "X is negative.\n"
     ]
    }
   ],
   "source": [
    "if x > 0:\n",
    "    print(\"X is positive.\")\n",
    "elif x == 0:\n",
    "    print(\"X is zero.\")\n",
    "else:\n",
    "    print(\"X is negative.\")"
   ]
  },
  {
   "cell_type": "code",
   "execution_count": 7,
   "metadata": {},
   "outputs": [
    {
     "name": "stdout",
     "output_type": "stream",
     "text": [
      "X is negative.\n"
     ]
    }
   ],
   "source": [
    "if x > 0:\n",
    "    print(\"X is positive.\")\n",
    "else:\n",
    "    if x == 0:\n",
    "        print(\"X is zero.\")\n",
    "    else:\n",
    "        print(\"X is negative.\")"
   ]
  },
  {
   "cell_type": "markdown",
   "metadata": {},
   "source": [
    "<b>If</b> statements can be nested. Note that this code using nested <b>if-else</b> statements works exactly the same as the previous code using <b>if-elif-else</b> statements. The logic is the same. "
   ]
  },
  {
   "cell_type": "code",
   "execution_count": null,
   "metadata": {
    "scrolled": true
   },
   "outputs": [],
   "source": [
    "if (type(x) == int) or (type(x) == float) or (type(x) == complex):\n",
    "    print(\"X is a number.\")\n",
    "else:\n",
    "    print(\"X is not a number.\")"
   ]
  },
  {
   "cell_type": "markdown",
   "metadata": {},
   "source": [
    "You can set a complex condition in a test using Boolean operators. "
   ]
  },
  {
   "cell_type": "code",
   "execution_count": null,
   "metadata": {},
   "outputs": [],
   "source": [
    "if type(x) in [int, float, complex]:\n",
    "    print(\"X is a number.\")\n",
    "else:\n",
    "    print(\"X is not a number.\")"
   ]
  },
  {
   "cell_type": "markdown",
   "metadata": {},
   "source": [
    "You can use the <b>in</b> operator to combine the three conditions into a single condition. "
   ]
  },
  {
   "cell_type": "markdown",
   "metadata": {},
   "source": [
    "## Exercises for Branches"
   ]
  },
  {
   "cell_type": "markdown",
   "metadata": {},
   "source": [
    "1. Write an <b>if</b> statement that prints \"Even\" if <i>x</i> is an even number and \"Odd\" if <i>x</i> is an odd number."
   ]
  },
  {
   "cell_type": "code",
   "execution_count": 2,
   "metadata": {},
   "outputs": [],
   "source": [
    "x = 5"
   ]
  },
  {
   "cell_type": "code",
   "execution_count": 14,
   "metadata": {},
   "outputs": [
    {
     "name": "stdout",
     "output_type": "stream",
     "text": [
      "Odd\n"
     ]
    }
   ],
   "source": [
    "# Your answer here\n",
    "if x%2==0:\n",
    "    print('Even')\n",
    "else:\n",
    "    print('Odd')"
   ]
  },
  {
   "cell_type": "markdown",
   "metadata": {},
   "source": [
    "2. Write an <b>if</b> statement that prints \"Integer\" if <i>x</i> is an integer, \"Float\" if <i>x</i> is a floating point number, \"Complex\" if <i>x</i> is a complex number, and \"Not a number\" otherwise. "
   ]
  },
  {
   "cell_type": "code",
   "execution_count": 16,
   "metadata": {},
   "outputs": [
    {
     "name": "stdout",
     "output_type": "stream",
     "text": [
      "Integer\n"
     ]
    }
   ],
   "source": [
    "# Your answer here\n",
    "if type(x)==int:\n",
    "    print ('Integer')\n",
    "elif type(x)==float:\n",
    "    print ('Float')\n",
    "elif type(x)==complex:\n",
    "    print ('Complex')\n",
    "else:\n",
    "    print('Not a number')"
   ]
  },
  {
   "cell_type": "markdown",
   "metadata": {},
   "source": [
    "3. Write an <b>if</b> statement that prints \"x is greater than y.\" if <i>x</i> is greater than <i>y</i>, \"x equals y.\" if <i>x</i> equals <i>y</i>, and \"x is smaller than y.\" otherwise. "
   ]
  },
  {
   "cell_type": "code",
   "execution_count": 18,
   "metadata": {},
   "outputs": [],
   "source": [
    "x, y = 3, 5"
   ]
  },
  {
   "cell_type": "code",
   "execution_count": 19,
   "metadata": {},
   "outputs": [
    {
     "name": "stdout",
     "output_type": "stream",
     "text": [
      "x is smaller than y.\n"
     ]
    }
   ],
   "source": [
    "# Your answer here\n",
    "if x>y:\n",
    "    print ('x is greater than y.')\n",
    "elif x<y:\n",
    "    print ('x is smaller than y.')\n",
    "else:\n",
    "    print('x equals y.')"
   ]
  },
  {
   "cell_type": "markdown",
   "metadata": {},
   "source": [
    "## Loops - for Loops"
   ]
  },
  {
   "cell_type": "markdown",
   "metadata": {},
   "source": [
    "The <b>for</b> loop steps through the items in any ordered sequence or other iterable object. "
   ]
  },
  {
   "cell_type": "raw",
   "metadata": {},
   "source": [
    "for target in object:\n",
    "    statements"
   ]
  },
  {
   "cell_type": "markdown",
   "metadata": {},
   "source": [
    "- It begins with a header line that specifies an assignment target (or targets), along with the object you want to step through. \n",
    "- The header is followed by a block of (normally indented) statements that you want to repeat. \n",
    "- When Python runs a <b>for</b> loop, it assigns the items in the iterable <i>object</i> to the <i>target</i> one by one and executes the loop body for each. \n",
    "- The loop body typically uses the assignment target to refer to the current item in the sequence. "
   ]
  },
  {
   "cell_type": "code",
   "execution_count": 8,
   "metadata": {},
   "outputs": [],
   "source": [
    "l = [1, 2, 3, 4, 5, 6, 7, 8, 9, 10]"
   ]
  },
  {
   "cell_type": "code",
   "execution_count": 9,
   "metadata": {},
   "outputs": [
    {
     "name": "stdout",
     "output_type": "stream",
     "text": [
      "1\n",
      "2\n",
      "3\n",
      "4\n",
      "5\n",
      "6\n",
      "7\n",
      "8\n",
      "9\n",
      "10\n"
     ]
    }
   ],
   "source": [
    "for num in l:\n",
    "    print(num)"
   ]
  },
  {
   "cell_type": "code",
   "execution_count": 10,
   "metadata": {},
   "outputs": [],
   "source": [
    "sum1 = 0\n",
    "for num in l:\n",
    "    sum1 += num     # The same as sum1 = sum1 + num"
   ]
  },
  {
   "cell_type": "markdown",
   "metadata": {},
   "source": [
    "To get the sum of numbers in <i>l</i>, you need a variable, <i>sum1</i> in the above example, to store the intermediate sum calculated from each iteration. Note that the initial value of <i>sum1</i> was set to 0 to be added by any number later. "
   ]
  },
  {
   "cell_type": "code",
   "execution_count": 11,
   "metadata": {},
   "outputs": [
    {
     "data": {
      "text/plain": [
       "55"
      ]
     },
     "execution_count": 11,
     "metadata": {},
     "output_type": "execute_result"
    }
   ],
   "source": [
    "sum1"
   ]
  },
  {
   "cell_type": "code",
   "execution_count": 12,
   "metadata": {},
   "outputs": [
    {
     "data": {
      "text/plain": [
       "True"
      ]
     },
     "execution_count": 12,
     "metadata": {},
     "output_type": "execute_result"
    }
   ],
   "source": [
    "sum1 == sum(l)"
   ]
  },
  {
   "cell_type": "code",
   "execution_count": 13,
   "metadata": {},
   "outputs": [],
   "source": [
    "product = 1\n",
    "for num in l:\n",
    "    product *= num   # The same as product = product * num"
   ]
  },
  {
   "cell_type": "markdown",
   "metadata": {},
   "source": [
    "Note that the initial value of <i>product</i> was set to 1 to be multiplied by any number later. "
   ]
  },
  {
   "cell_type": "code",
   "execution_count": 14,
   "metadata": {},
   "outputs": [
    {
     "data": {
      "text/plain": [
       "3628800"
      ]
     },
     "execution_count": 14,
     "metadata": {},
     "output_type": "execute_result"
    }
   ],
   "source": [
    "product"
   ]
  },
  {
   "cell_type": "code",
   "execution_count": 15,
   "metadata": {},
   "outputs": [
    {
     "name": "stdout",
     "output_type": "stream",
     "text": [
      "P y t h o n "
     ]
    }
   ],
   "source": [
    "s = \"Python\"\n",
    "for c in s:\n",
    "    print(c, end=\" \")     # end: sets a string appended after the last value, default a newline."
   ]
  },
  {
   "cell_type": "markdown",
   "metadata": {},
   "source": [
    "The <b>for</b> loop can iterate over a string. "
   ]
  },
  {
   "cell_type": "code",
   "execution_count": 20,
   "metadata": {},
   "outputs": [],
   "source": [
    "employees = [(\"Alice\", 30), (\"Bob\", 25), (\"Tom\", 34)]"
   ]
  },
  {
   "cell_type": "markdown",
   "metadata": {},
   "source": [
    "The <b>for</b> loop can iterate over any iterable object. "
   ]
  },
  {
   "cell_type": "code",
   "execution_count": 21,
   "metadata": {},
   "outputs": [
    {
     "name": "stdout",
     "output_type": "stream",
     "text": [
      "Name: Alice, Age: 30\n",
      "Name: Bob, Age: 25\n",
      "Name: Tom, Age: 34\n"
     ]
    }
   ],
   "source": [
    "for t in employees:\n",
    "    name = t[0]\n",
    "    age = t[1]\n",
    "    print(\"Name: {}, Age: {}\".format(name, age))"
   ]
  },
  {
   "cell_type": "code",
   "execution_count": 22,
   "metadata": {},
   "outputs": [
    {
     "name": "stdout",
     "output_type": "stream",
     "text": [
      "Name: Alice, Age: 30\n",
      "Name: Bob, Age: 25\n",
      "Name: Tom, Age: 34\n"
     ]
    }
   ],
   "source": [
    "for t in employees:\n",
    "    name, age = t\n",
    "    print(\"Name: {}, Age: {}\".format(name, age))"
   ]
  },
  {
   "cell_type": "markdown",
   "metadata": {},
   "source": [
    "Instead of assigning values to <i>name</i> and <i>age</i> each, you can assign the values directly from a tuple.  "
   ]
  },
  {
   "cell_type": "code",
   "execution_count": 23,
   "metadata": {
    "scrolled": true
   },
   "outputs": [
    {
     "name": "stdout",
     "output_type": "stream",
     "text": [
      "Name: Alice, Age: 30\n",
      "Name: Bob, Age: 25\n",
      "Name: Tom, Age: 34\n"
     ]
    }
   ],
   "source": [
    "for (name, age) in employees:\n",
    "    print(\"Name: {}, Age: {}\".format(name, age))"
   ]
  },
  {
   "cell_type": "markdown",
   "metadata": {},
   "source": [
    "A better way to assign values is to unpack the tuple in the header line. The header line automatically unpacks the current tuple on each iteration. "
   ]
  },
  {
   "cell_type": "code",
   "execution_count": 24,
   "metadata": {},
   "outputs": [
    {
     "name": "stdout",
     "output_type": "stream",
     "text": [
      "Name: Alice, Age: 30\n",
      "Name: Bob, Age: 25\n",
      "Name: Tom, Age: 34\n"
     ]
    }
   ],
   "source": [
    "for name, age in employees:\n",
    "    print(\"Name: {}, Age: {}\".format(name, age))"
   ]
  },
  {
   "cell_type": "markdown",
   "metadata": {},
   "source": [
    "You can skip the round brackets around the targets in the header line. This is the easiest way to access each tuple in a list."
   ]
  },
  {
   "cell_type": "code",
   "execution_count": 25,
   "metadata": {},
   "outputs": [],
   "source": [
    "buildings = {\"UCC\": \"University Capitol Center\",\n",
    "             \"CPHB\": \"College of Public Health Building\",\n",
    "             \"IMU\": \"Iowa Memorial Union\"}"
   ]
  },
  {
   "cell_type": "code",
   "execution_count": 27,
   "metadata": {},
   "outputs": [
    {
     "name": "stdout",
     "output_type": "stream",
     "text": [
      "UCC (University Capitol Center)\n",
      "CPHB (College of Public Health Building)\n",
      "IMU (Iowa Memorial Union)\n"
     ]
    }
   ],
   "source": [
    "for key in buildings:\n",
    "    val = buildings[key]\n",
    "    print(\"{} ({})\".format(key, val))"
   ]
  },
  {
   "cell_type": "markdown",
   "metadata": {},
   "source": [
    "One way to iterate over a dictionary is to use the keys."
   ]
  },
  {
   "cell_type": "code",
   "execution_count": 28,
   "metadata": {},
   "outputs": [
    {
     "name": "stdout",
     "output_type": "stream",
     "text": [
      "UCC (University Capitol Center)\n",
      "CPHB (College of Public Health Building)\n",
      "IMU (Iowa Memorial Union)\n"
     ]
    }
   ],
   "source": [
    "for key, val in buildings.items():\n",
    "    print(\"{} ({})\".format(key, val))"
   ]
  },
  {
   "cell_type": "markdown",
   "metadata": {},
   "source": [
    "Another way to interate over a dicitonary is to use the <b>items()</b> method that returns (key, value) tuples. In this case, you can unpack the key and value in the header line."
   ]
  },
  {
   "cell_type": "code",
   "execution_count": 29,
   "metadata": {},
   "outputs": [],
   "source": [
    "s = {\"cat\", \"dog\", \"bird\"}"
   ]
  },
  {
   "cell_type": "code",
   "execution_count": 30,
   "metadata": {},
   "outputs": [
    {
     "name": "stdout",
     "output_type": "stream",
     "text": [
      "dog\n",
      "cat\n",
      "bird\n"
     ]
    }
   ],
   "source": [
    "for item in s:\n",
    "    print(item)"
   ]
  },
  {
   "cell_type": "markdown",
   "metadata": {},
   "source": [
    "Order of set elements is random. You cannot change the order unless you convert the set to other type such as list. "
   ]
  },
  {
   "cell_type": "markdown",
   "metadata": {},
   "source": [
    "### Iteration Using the Index"
   ]
  },
  {
   "cell_type": "markdown",
   "metadata": {},
   "source": [
    "You can iterate over an iterable object using its index."
   ]
  },
  {
   "cell_type": "code",
   "execution_count": 31,
   "metadata": {},
   "outputs": [
    {
     "data": {
      "text/plain": [
       "[19, 38, 57, 76, 95, 114, 133, 152, 171, 190, 209, 228, 247, 266, 285]"
      ]
     },
     "execution_count": 31,
     "metadata": {},
     "output_type": "execute_result"
    }
   ],
   "source": [
    "l = range(19, 300, 19)\n",
    "list(l)"
   ]
  },
  {
   "cell_type": "markdown",
   "metadata": {},
   "source": [
    "The list <i>l</i> is a list of multiples of 19 between 19 and 299. "
   ]
  },
  {
   "cell_type": "code",
   "execution_count": 28,
   "metadata": {},
   "outputs": [
    {
     "name": "stdout",
     "output_type": "stream",
     "text": [
      "19 38 57 76 95 114 133 152 171 190 209 228 247 266 285 "
     ]
    }
   ],
   "source": [
    "for num in l:\n",
    "    print(num, end=\" \")"
   ]
  },
  {
   "cell_type": "code",
   "execution_count": 30,
   "metadata": {},
   "outputs": [
    {
     "data": {
      "text/plain": [
       "range(0, 15)"
      ]
     },
     "execution_count": 30,
     "metadata": {},
     "output_type": "execute_result"
    }
   ],
   "source": [
    "range(len(l))"
   ]
  },
  {
   "cell_type": "code",
   "execution_count": 31,
   "metadata": {},
   "outputs": [
    {
     "name": "stdout",
     "output_type": "stream",
     "text": [
      "19 38 57 76 95 114 133 152 171 190 209 228 247 266 285 "
     ]
    }
   ],
   "source": [
    "for i in range(len(l)):\n",
    "    print(l[i], end=\" \")"
   ]
  },
  {
   "cell_type": "markdown",
   "metadata": {},
   "source": [
    "You can do the same thing using the index of <i>l</i>. This is useful when you need to track the number of items visited at each iteration. "
   ]
  },
  {
   "cell_type": "code",
   "execution_count": 32,
   "metadata": {},
   "outputs": [
    {
     "name": "stdout",
     "output_type": "stream",
     "text": [
      "0: 19\n",
      "1: 38\n",
      "2: 57\n",
      "3: 76\n",
      "4: 95\n",
      "5: 114\n",
      "6: 133\n",
      "7: 152\n",
      "8: 171\n",
      "9: 190\n",
      "10: 209\n",
      "11: 228\n",
      "12: 247\n",
      "13: 266\n",
      "14: 285\n"
     ]
    }
   ],
   "source": [
    "for i in range(len(l)):\n",
    "    print(\"{}: {}\".format(i, l[i]))"
   ]
  },
  {
   "cell_type": "markdown",
   "metadata": {},
   "source": [
    "### Nested for Loops"
   ]
  },
  {
   "cell_type": "code",
   "execution_count": 33,
   "metadata": {},
   "outputs": [],
   "source": [
    "l1 = [\"a\", \"b\", \"c\"]\n",
    "l2 = [\"x\", \"y\", \"z\"]"
   ]
  },
  {
   "cell_type": "code",
   "execution_count": 34,
   "metadata": {},
   "outputs": [
    {
     "name": "stdout",
     "output_type": "stream",
     "text": [
      "ax\n",
      "ay\n",
      "az\n",
      "bx\n",
      "by\n",
      "bz\n",
      "cx\n",
      "cy\n",
      "cz\n"
     ]
    }
   ],
   "source": [
    "for item1 in l1:               # outer for loop\n",
    "    for item2 in l2:           # inner for loop\n",
    "        print(item1 + item2)"
   ]
  },
  {
   "cell_type": "markdown",
   "metadata": {},
   "source": [
    "The inner for loop runs for every item in the outer for loop. "
   ]
  },
  {
   "cell_type": "code",
   "execution_count": 35,
   "metadata": {},
   "outputs": [
    {
     "name": "stdout",
     "output_type": "stream",
     "text": [
      "ax\n",
      "bx\n",
      "cx\n",
      "ay\n",
      "by\n",
      "cy\n",
      "az\n",
      "bz\n",
      "cz\n"
     ]
    }
   ],
   "source": [
    "for item2 in l2:               # outer for loop\n",
    "    for item1 in l1:           # inner for loop\n",
    "        print(item1 + item2)"
   ]
  },
  {
   "cell_type": "markdown",
   "metadata": {},
   "source": [
    "The order of retrieving and printing elements depends on how it is described in the nested <b>for</b> loop."
   ]
  },
  {
   "cell_type": "code",
   "execution_count": 36,
   "metadata": {},
   "outputs": [
    {
     "name": "stdout",
     "output_type": "stream",
     "text": [
      "axp\n",
      "axq\n",
      "axr\n",
      "ayp\n",
      "ayq\n",
      "ayr\n",
      "azp\n",
      "azq\n",
      "azr\n",
      "bxp\n",
      "bxq\n",
      "bxr\n",
      "byp\n",
      "byq\n",
      "byr\n",
      "bzp\n",
      "bzq\n",
      "bzr\n",
      "cxp\n",
      "cxq\n",
      "cxr\n",
      "cyp\n",
      "cyq\n",
      "cyr\n",
      "czp\n",
      "czq\n",
      "czr\n"
     ]
    }
   ],
   "source": [
    "l1 = [\"a\", \"b\", \"c\"]\n",
    "l2 = [\"x\", \"y\", \"z\"]\n",
    "l3 = [\"p\", \"q\", \"r\"]\n",
    "\n",
    "for item1 in l1:\n",
    "    for item2 in l2:\n",
    "        for item3 in l3:\n",
    "            print(item1 + item2 + item3)"
   ]
  },
  {
   "cell_type": "markdown",
   "metadata": {},
   "source": [
    "You can write a nested <b>for</b> loop with a depth of 3. "
   ]
  },
  {
   "cell_type": "code",
   "execution_count": 37,
   "metadata": {},
   "outputs": [
    {
     "name": "stdout",
     "output_type": "stream",
     "text": [
      "111\n",
      "112\n",
      "113\n",
      "121\n",
      "122\n",
      "123\n",
      "131\n",
      "132\n",
      "133\n",
      "211\n",
      "212\n",
      "213\n",
      "221\n",
      "222\n",
      "223\n",
      "231\n",
      "232\n",
      "233\n",
      "311\n",
      "312\n",
      "313\n",
      "321\n",
      "322\n",
      "323\n",
      "331\n",
      "332\n",
      "333\n"
     ]
    }
   ],
   "source": [
    "l = [\"1\", \"2\", \"3\"]\n",
    "\n",
    "for item1 in l:\n",
    "    for item2 in l:\n",
    "        for item3 in l:\n",
    "            print(item1 + item2 + item3)"
   ]
  },
  {
   "cell_type": "markdown",
   "metadata": {},
   "source": [
    "You can write a nested <b>for</b> loop using even a single loop."
   ]
  },
  {
   "cell_type": "markdown",
   "metadata": {},
   "source": [
    "## Exercises for for Loops (16 Questions)"
   ]
  },
  {
   "cell_type": "markdown",
   "metadata": {},
   "source": [
    "1. Write a <b>for</b> loop that prints all integers from 0 to 99, separated by a tab."
   ]
  },
  {
   "cell_type": "code",
   "execution_count": 37,
   "metadata": {},
   "outputs": [
    {
     "name": "stdout",
     "output_type": "stream",
     "text": [
      "0\t1\t2\t3\t4\t5\t6\t7\t8\t9\t10\t11\t12\t13\t14\t15\t16\t17\t18\t19\t20\t21\t22\t23\t24\t25\t26\t27\t28\t29\t30\t31\t32\t33\t34\t35\t36\t37\t38\t39\t40\t41\t42\t43\t44\t45\t46\t47\t48\t49\t50\t51\t52\t53\t54\t55\t56\t57\t58\t59\t60\t61\t62\t63\t64\t65\t66\t67\t68\t69\t70\t71\t72\t73\t74\t75\t76\t77\t78\t79\t80\t81\t82\t83\t84\t85\t86\t87\t88\t89\t90\t91\t92\t93\t94\t95\t96\t97\t98\t99\t"
     ]
    }
   ],
   "source": [
    "# Your answer here\n",
    "for i in range(100):\n",
    "    print(i, end=\"\\t\")\n",
    "    "
   ]
  },
  {
   "cell_type": "markdown",
   "metadata": {},
   "source": [
    "2. Write a <b>for</b> loop that prints all characters in <i>s</i>, separated by a tab."
   ]
  },
  {
   "cell_type": "code",
   "execution_count": 53,
   "metadata": {},
   "outputs": [],
   "source": [
    "s = \"zabcdefghijklmnopqrstuvwxy\""
   ]
  },
  {
   "cell_type": "code",
   "execution_count": 54,
   "metadata": {},
   "outputs": [
    {
     "name": "stdout",
     "output_type": "stream",
     "text": [
      "z\ta\tb\tc\td\te\tf\tg\th\ti\tj\tk\tl\tm\tn\to\tp\tq\tr\ts\tt\tu\tv\tw\tx\ty\t"
     ]
    }
   ],
   "source": [
    "# Your answer here\n",
    "for c in s:\n",
    "    print(c, end=\"\\t\")"
   ]
  },
  {
   "cell_type": "markdown",
   "metadata": {},
   "source": [
    "3. Write a <b>for</b> loop that prints the same as right above, but this time using the index of <i>s</i>."
   ]
  },
  {
   "cell_type": "code",
   "execution_count": 55,
   "metadata": {},
   "outputs": [
    {
     "name": "stdout",
     "output_type": "stream",
     "text": [
      "a\tb\tc\td\te\tf\tg\th\ti\tj\tk\tl\tm\tn\to\tp\tq\tr\ts\tt\tu\tv\tw\tx\ty\tz\t"
     ]
    }
   ],
   "source": [
    "# Your answer here\n",
    "for c in sorted(s):\n",
    "    print(c, end=\"\\t\")"
   ]
  },
  {
   "cell_type": "markdown",
   "metadata": {},
   "source": [
    "4. Write a <b>for</b> loop that prints the same as right above except that the letters at odd index number positions are printed in upper case, while those at even index number positions are printed as they are."
   ]
  },
  {
   "cell_type": "code",
   "execution_count": 56,
   "metadata": {},
   "outputs": [
    {
     "ename": "ValueError",
     "evalue": "not enough values to unpack (expected 2, got 1)",
     "output_type": "error",
     "traceback": [
      "\u001b[0;31m---------------------------------------------------------------------------\u001b[0m",
      "\u001b[0;31mValueError\u001b[0m                                Traceback (most recent call last)",
      "\u001b[0;32m<ipython-input-56-a7e3c650dff6>\u001b[0m in \u001b[0;36m<module>\u001b[0;34m\u001b[0m\n\u001b[1;32m      1\u001b[0m \u001b[0;31m# Your answer here\u001b[0m\u001b[0;34m\u001b[0m\u001b[0;34m\u001b[0m\u001b[0;34m\u001b[0m\u001b[0m\n\u001b[0;32m----> 2\u001b[0;31m \u001b[0;32mfor\u001b[0m \u001b[0mi\u001b[0m\u001b[0;34m,\u001b[0m \u001b[0mc\u001b[0m \u001b[0;32min\u001b[0m \u001b[0msorted\u001b[0m\u001b[0;34m(\u001b[0m\u001b[0ms\u001b[0m\u001b[0;34m)\u001b[0m\u001b[0;34m:\u001b[0m\u001b[0;34m\u001b[0m\u001b[0;34m\u001b[0m\u001b[0m\n\u001b[0m\u001b[1;32m      3\u001b[0m     \u001b[0mprint\u001b[0m\u001b[0;34m(\u001b[0m\u001b[0mc\u001b[0m\u001b[0;34m,\u001b[0m \u001b[0mend\u001b[0m\u001b[0;34m=\u001b[0m\u001b[0;34m\"\\t\"\u001b[0m\u001b[0;34m)\u001b[0m\u001b[0;34m\u001b[0m\u001b[0;34m\u001b[0m\u001b[0m\n",
      "\u001b[0;31mValueError\u001b[0m: not enough values to unpack (expected 2, got 1)"
     ]
    }
   ],
   "source": [
    "# Your answer here\n",
    "odd = true\n",
    "for c in sorted(s):\n",
    "    print(c, end=\"\\t\")"
   ]
  },
  {
   "cell_type": "markdown",
   "metadata": {},
   "source": [
    "5. Write a <b>for</b> loop that prints \"NAME is SEX and aged AGE.\" for all tuples in <i>employees</i>, separated by a new line, where NAME is the first value in each tuple, SEX the second, and AGE the thrid. For example, the first line should look as follows: <i>Alice is female and aged 30.</i>"
   ]
  },
  {
   "cell_type": "code",
   "execution_count": null,
   "metadata": {},
   "outputs": [],
   "source": [
    "employees = [(\"Alice\", 30, \"female\"), (\"Bob\", 25, \"male\"), (\"Tom\", 34, \"male\")]"
   ]
  },
  {
   "cell_type": "code",
   "execution_count": null,
   "metadata": {},
   "outputs": [],
   "source": [
    "# Your answer here\n"
   ]
  },
  {
   "cell_type": "markdown",
   "metadata": {},
   "source": [
    "6. Write a <b>for</b> loop that prints \"ABBREVIATION is the abbreviation for FULLNAME.\" for all key-value pairs in <i>states</i>, separated by a new line, where ABBREVIATION is the key in <i>states</i> and FULLNAME the key. For example, the first line should look as follows: <i>IA is the abbreviation for Iowa.</i>"
   ]
  },
  {
   "cell_type": "code",
   "execution_count": null,
   "metadata": {},
   "outputs": [],
   "source": [
    "states = {\"IA\": \"Iowa\", \"IL\": \"Illinois\", \"MN\": \"Minnesota\", \"NE\": \"Nebraska\", \"WI\": \"Wisconsin\"}"
   ]
  },
  {
   "cell_type": "code",
   "execution_count": null,
   "metadata": {},
   "outputs": [],
   "source": [
    "# Your answer here\n"
   ]
  },
  {
   "cell_type": "markdown",
   "metadata": {},
   "source": [
    "7. Write a <b>for</b> loop that prints all names in <i>names</i> in uppercase, separated by a new line."
   ]
  },
  {
   "cell_type": "code",
   "execution_count": null,
   "metadata": {},
   "outputs": [],
   "source": [
    "names = [\"Alice\", \"Bob\", \"Mary\", \"Sam\", \"Sarah\", \"Tom\"]"
   ]
  },
  {
   "cell_type": "code",
   "execution_count": null,
   "metadata": {
    "scrolled": false
   },
   "outputs": [],
   "source": [
    "# Your answer here\n"
   ]
  },
  {
   "cell_type": "markdown",
   "metadata": {},
   "source": [
    "8. Write a <b>for</b> loop that prints the first two characters of each name in <i>names</i> in lowercase, separated by a new line."
   ]
  },
  {
   "cell_type": "code",
   "execution_count": null,
   "metadata": {
    "scrolled": true
   },
   "outputs": [],
   "source": [
    "# Your answer here\n"
   ]
  },
  {
   "cell_type": "markdown",
   "metadata": {},
   "source": [
    "9. Write a <b>for</b> loop that only prints the names in <i>names</i> with a length of 3, separated by a new line."
   ]
  },
  {
   "cell_type": "code",
   "execution_count": null,
   "metadata": {
    "scrolled": true
   },
   "outputs": [],
   "source": [
    "# Your answer here\n"
   ]
  },
  {
   "cell_type": "markdown",
   "metadata": {},
   "source": [
    "10. Write a <b>for</b> loop that only prints the names in <i>names</i> that end with either <i>m</i> or <i>y</i>, separated by a new line."
   ]
  },
  {
   "cell_type": "code",
   "execution_count": null,
   "metadata": {
    "scrolled": true
   },
   "outputs": [],
   "source": [
    "# Your answer here\n"
   ]
  },
  {
   "cell_type": "markdown",
   "metadata": {},
   "source": [
    "11. Write a <b>for</b> loop that prints the pairs of two items that are at the same position in <i>men</i> and <i>women</i>, respectively, for example, Bob & Alice, Sam & Mary, and Tom & Sarah, separated by a new line. (Use the <b>zip()</b> built-in fuction.)"
   ]
  },
  {
   "cell_type": "code",
   "execution_count": null,
   "metadata": {},
   "outputs": [],
   "source": [
    "men = [\"Bob\", \"Sam\", \"Tom\"]\n",
    "women = [\"Alice\", \"Mary\", \"Sarah\"]"
   ]
  },
  {
   "cell_type": "code",
   "execution_count": null,
   "metadata": {},
   "outputs": [],
   "source": [
    "# Your answer here\n"
   ]
  },
  {
   "cell_type": "markdown",
   "metadata": {},
   "source": [
    "12. Write a nested <b>for</b> loop that prints all possible pairs of the two names from <i>men</i> and <i>women</i>, respectively, for example, Bob & Alice, Bob & Mary, Bob & Sarah, Sam & Alice, ..., and Tom & Sarah, separated by a new line. "
   ]
  },
  {
   "cell_type": "code",
   "execution_count": null,
   "metadata": {},
   "outputs": [],
   "source": [
    "# Your answer here\n"
   ]
  },
  {
   "cell_type": "markdown",
   "metadata": {},
   "source": [
    "13. The list <i>l</i> is a list of odd numbers from 1 to 999. Write a <b>for</b> loop that adds all numbers in <i>l</i> one after another. It should print the final sum after the <b>for</b> loop."
   ]
  },
  {
   "cell_type": "code",
   "execution_count": null,
   "metadata": {},
   "outputs": [],
   "source": [
    "l = range(1, 1000, 2)"
   ]
  },
  {
   "cell_type": "code",
   "execution_count": null,
   "metadata": {},
   "outputs": [],
   "source": [
    "# Your answer here\n"
   ]
  },
  {
   "cell_type": "markdown",
   "metadata": {},
   "source": [
    "14. Check if the result from the <b>for</b> loop matches the result from the <b>sum</b> function.  "
   ]
  },
  {
   "cell_type": "code",
   "execution_count": null,
   "metadata": {},
   "outputs": [],
   "source": [
    "# Your answer here\n"
   ]
  },
  {
   "cell_type": "markdown",
   "metadata": {},
   "source": [
    "15. Write a <b>for</b> loop that adds all numbers in <i>l</i> one after another, printing the current sum for every 10th number (i.e., at the index positions 9, 19, 29, ...). It should print the final sum after the <b>for</b> loop."
   ]
  },
  {
   "cell_type": "code",
   "execution_count": null,
   "metadata": {},
   "outputs": [],
   "source": [
    "# Your answer here\n"
   ]
  },
  {
   "cell_type": "markdown",
   "metadata": {},
   "source": [
    "16. Write a <b>for</b> loop that calculates the product of the first 10 numbers in <i>l</i>. It should print the final product after the <b>for</b> loop."
   ]
  },
  {
   "cell_type": "code",
   "execution_count": null,
   "metadata": {},
   "outputs": [],
   "source": [
    "# Your answer here\n"
   ]
  },
  {
   "cell_type": "markdown",
   "metadata": {},
   "source": [
    "### List Comprehensions"
   ]
  },
  {
   "cell_type": "markdown",
   "metadata": {},
   "source": [
    "List comprehensions are used for quickly creating a new list from another iterables using <b>for</b> loops. "
   ]
  },
  {
   "cell_type": "code",
   "execution_count": 38,
   "metadata": {},
   "outputs": [],
   "source": [
    "l1 = [1, 2, 3]"
   ]
  },
  {
   "cell_type": "code",
   "execution_count": 39,
   "metadata": {},
   "outputs": [
    {
     "data": {
      "text/plain": [
       "[10, 20, 30]"
      ]
     },
     "execution_count": 39,
     "metadata": {},
     "output_type": "execute_result"
    }
   ],
   "source": [
    "l2 = []\n",
    "for num in l1:\n",
    "    l2.append(num * 10)\n",
    "\n",
    "l2"
   ]
  },
  {
   "cell_type": "markdown",
   "metadata": {},
   "source": [
    "You want to create a new list <i>l2</i> by multiplying each element of <i>l1</i> by 10."
   ]
  },
  {
   "cell_type": "code",
   "execution_count": 40,
   "metadata": {},
   "outputs": [
    {
     "data": {
      "text/plain": [
       "[10, 20, 30]"
      ]
     },
     "execution_count": 40,
     "metadata": {},
     "output_type": "execute_result"
    }
   ],
   "source": [
    "l2 = [num * 10 for num in l1]\n",
    "l2"
   ]
  },
  {
   "cell_type": "markdown",
   "metadata": {},
   "source": [
    "Using list comprehension, you simply describe the process using which the list should be created."
   ]
  },
  {
   "cell_type": "code",
   "execution_count": 41,
   "metadata": {},
   "outputs": [],
   "source": [
    "l1 = [\"1\", \"2\", \"3\"]\n",
    "l2 = [\"a\", \"b\", \"c\"]"
   ]
  },
  {
   "cell_type": "code",
   "execution_count": 42,
   "metadata": {},
   "outputs": [
    {
     "name": "stdout",
     "output_type": "stream",
     "text": [
      "Wall time: 0 ns\n"
     ]
    },
    {
     "data": {
      "text/plain": [
       "['1a', '1b', '1c', '2a', '2b', '2c', '3a', '3b', '3c']"
      ]
     },
     "execution_count": 42,
     "metadata": {},
     "output_type": "execute_result"
    }
   ],
   "source": [
    "%%time\n",
    "l3 = []\n",
    "for s1 in l1:         \n",
    "    for s2 in l2:\n",
    "        l3.append(s1 + s2)\n",
    "l3"
   ]
  },
  {
   "cell_type": "markdown",
   "metadata": {},
   "source": [
    "You want to create a new list <i>l3</i> by concatenating all pairs of elements from <i>l1</i> and <i>l2</i>."
   ]
  },
  {
   "cell_type": "code",
   "execution_count": 43,
   "metadata": {},
   "outputs": [
    {
     "name": "stdout",
     "output_type": "stream",
     "text": [
      "Wall time: 0 ns\n"
     ]
    },
    {
     "data": {
      "text/plain": [
       "['1a', '1b', '1c', '2a', '2b', '2c', '3a', '3b', '3c']"
      ]
     },
     "execution_count": 43,
     "metadata": {},
     "output_type": "execute_result"
    }
   ],
   "source": [
    "%%time\n",
    "l3 = [s1 + s2 for s1 in l1 for s2 in l2]\n",
    "l3"
   ]
  },
  {
   "cell_type": "markdown",
   "metadata": {},
   "source": [
    "List comprehensions have not only the code length advantage, but also the time advantage. List comprehensions are 35% faster than for loops."
   ]
  },
  {
   "cell_type": "markdown",
   "metadata": {},
   "source": [
    "## Exercises for List Comprehensions (4 Questions)"
   ]
  },
  {
   "cell_type": "markdown",
   "metadata": {},
   "source": [
    "1. Using list comprehension, create a list of squares of the numbers from <i>l</i>."
   ]
  },
  {
   "cell_type": "code",
   "execution_count": null,
   "metadata": {},
   "outputs": [],
   "source": [
    "l = [1, 2, 3, 4, 5]"
   ]
  },
  {
   "cell_type": "code",
   "execution_count": null,
   "metadata": {},
   "outputs": [],
   "source": [
    "# Your answer here\n"
   ]
  },
  {
   "cell_type": "markdown",
   "metadata": {},
   "source": [
    "2. Using list comprehension, create a list of lists, each of which contains the square and cube of each number from <i>l</i>."
   ]
  },
  {
   "cell_type": "code",
   "execution_count": null,
   "metadata": {},
   "outputs": [],
   "source": [
    "# Your answer here\n"
   ]
  },
  {
   "cell_type": "markdown",
   "metadata": {},
   "source": [
    "3. Using list comprehension, create a list of the names from <i>l</i> in lower case."
   ]
  },
  {
   "cell_type": "code",
   "execution_count": null,
   "metadata": {},
   "outputs": [],
   "source": [
    "names = [\"Alice\", \"Bob\", \"Tom\"]"
   ]
  },
  {
   "cell_type": "code",
   "execution_count": null,
   "metadata": {},
   "outputs": [],
   "source": [
    "# Your answer here\n"
   ]
  },
  {
   "cell_type": "markdown",
   "metadata": {},
   "source": [
    "4. Using list comprehension, create a list of tuples, each of which contains each name from <i>l</i> and the length of the name."
   ]
  },
  {
   "cell_type": "code",
   "execution_count": null,
   "metadata": {},
   "outputs": [],
   "source": [
    "# Your answer here\n"
   ]
  },
  {
   "cell_type": "markdown",
   "metadata": {},
   "source": [
    "### break, continue, and pass Statements in Loops"
   ]
  },
  {
   "cell_type": "markdown",
   "metadata": {},
   "source": [
    "- <b>break</b>: exits the current loop (past the entire loop statement)\n",
    "- <b>continue</b>: jumps to the header line of the current loop\n",
    "- <b>pass</b>: does nothing at all (i.e., an empty statement placeholder)"
   ]
  },
  {
   "cell_type": "markdown",
   "metadata": {},
   "source": [
    "These statements are typically used in an <b>if</b> statement. "
   ]
  },
  {
   "cell_type": "code",
   "execution_count": null,
   "metadata": {},
   "outputs": [],
   "source": [
    "l = [1, 2, 3, 4, 5, 6, 7, 8, 9, 10]"
   ]
  },
  {
   "cell_type": "code",
   "execution_count": null,
   "metadata": {},
   "outputs": [],
   "source": [
    "for num in l:\n",
    "    if num == 5:\n",
    "        break       # Stops!\n",
    "    else:\n",
    "        print(num)"
   ]
  },
  {
   "cell_type": "markdown",
   "metadata": {},
   "source": [
    "The <b>for</b> loop prints each number in <i>l</i> from the beginning and stops when it sees 5."
   ]
  },
  {
   "cell_type": "code",
   "execution_count": null,
   "metadata": {},
   "outputs": [],
   "source": [
    "for num in l:\n",
    "    if num % 2 == 0: \n",
    "        continue     # Moves on to the next iteration of the loop\n",
    "    else:\n",
    "        print(num)            "
   ]
  },
  {
   "cell_type": "markdown",
   "metadata": {},
   "source": [
    "The <b>for</b> loop prints only the odd numbers in <i>l</i>."
   ]
  },
  {
   "cell_type": "code",
   "execution_count": null,
   "metadata": {},
   "outputs": [],
   "source": [
    "for num in l:\n",
    "    if num % 2 == 1:\n",
    "        print(num)            "
   ]
  },
  {
   "cell_type": "markdown",
   "metadata": {},
   "source": [
    "This <b>for</b> loop works the same as the previous one."
   ]
  },
  {
   "cell_type": "code",
   "execution_count": null,
   "metadata": {},
   "outputs": [],
   "source": [
    "for num in l:\n",
    "    pass"
   ]
  },
  {
   "cell_type": "markdown",
   "metadata": {},
   "source": [
    "The <b>pass</b> statement is used when the syntax requires a statement, but you have nothing useful to say. It is ofen used to code an empty body for a compound statement. "
   ]
  },
  {
   "cell_type": "code",
   "execution_count": null,
   "metadata": {},
   "outputs": [],
   "source": [
    "for num in l:\n",
    "    "
   ]
  },
  {
   "cell_type": "markdown",
   "metadata": {},
   "source": [
    "The loop body requires any valid statement. "
   ]
  },
  {
   "cell_type": "markdown",
   "metadata": {},
   "source": [
    "## Exercises for break, continue, and pass (4 Questions)"
   ]
  },
  {
   "cell_type": "markdown",
   "metadata": {},
   "source": [
    "1. Write a <b>for</b> loop that prints all names in <i>employees</i> except for Mary."
   ]
  },
  {
   "cell_type": "code",
   "execution_count": null,
   "metadata": {},
   "outputs": [],
   "source": [
    "employees = [\"Alice\", \"Bob\", \"Mary\", \"Sam\", \"Sarah\", \"Tom\"]"
   ]
  },
  {
   "cell_type": "code",
   "execution_count": null,
   "metadata": {},
   "outputs": [],
   "source": [
    "# Your answer here\n"
   ]
  },
  {
   "cell_type": "markdown",
   "metadata": {},
   "source": [
    "2. Write a <b>for</b> loop that prints the names in <i>employees</i> from the beginning but stops when it sees Mary."
   ]
  },
  {
   "cell_type": "code",
   "execution_count": null,
   "metadata": {},
   "outputs": [],
   "source": [
    "# Your answer here\n"
   ]
  },
  {
   "cell_type": "markdown",
   "metadata": {},
   "source": [
    "3. The list <i>l</i> is a list of odd numbers from 1 to 1000. Write a <b>for</b> loop that adds all numbers in <i>l</i> except for multiples of 5. It should print the final sum after the <b>for</b> loop."
   ]
  },
  {
   "cell_type": "code",
   "execution_count": null,
   "metadata": {},
   "outputs": [],
   "source": [
    "l = range(1, 1000, 2)"
   ]
  },
  {
   "cell_type": "code",
   "execution_count": null,
   "metadata": {},
   "outputs": [],
   "source": [
    "# Your answer here\n"
   ]
  },
  {
   "cell_type": "markdown",
   "metadata": {},
   "source": [
    "4. Write a <b>for</b> loop that adds numbers in <i>l</i> from the beginning but stops when the sum exceeds 1000, printing the current sum and the number last added."
   ]
  },
  {
   "cell_type": "code",
   "execution_count": null,
   "metadata": {},
   "outputs": [],
   "source": [
    "# Your answer here\n"
   ]
  },
  {
   "cell_type": "markdown",
   "metadata": {},
   "source": [
    "## Loops - while Loops"
   ]
  },
  {
   "cell_type": "markdown",
   "metadata": {},
   "source": [
    "The <b>while</b> loop repeatedly executes a block of statements as long as a test at the top keeps evaluating to a true value. "
   ]
  },
  {
   "cell_type": "raw",
   "metadata": {},
   "source": [
    "while test:\n",
    "    statements"
   ]
  },
  {
   "cell_type": "markdown",
   "metadata": {},
   "source": [
    "- It begins with a header line with a test expression. \n",
    "- The header is followed by a block of (normally indented) statements that you want to repeat. \n",
    "- Python keeps evaluating the test at the top and executing the statements in the loop body until the test returns a false value. "
   ]
  },
  {
   "cell_type": "code",
   "execution_count": null,
   "metadata": {
    "scrolled": true
   },
   "outputs": [],
   "source": [
    "x, y = 0, 5\n",
    "\n",
    "while x < y:\n",
    "    print(x)\n",
    "    x += 1"
   ]
  },
  {
   "cell_type": "code",
   "execution_count": null,
   "metadata": {},
   "outputs": [],
   "source": [
    "x, y = 0, 5\n",
    "\n",
    "while True:\n",
    "    if x >= y:\n",
    "        break\n",
    "    print(x)\n",
    "    x += 1"
   ]
  },
  {
   "cell_type": "markdown",
   "metadata": {},
   "source": [
    "The <b>while</b> loops with the test expression True need an <b>if</b> statement and <b>break</b> in the loop body, so that it can stop."
   ]
  },
  {
   "cell_type": "code",
   "execution_count": null,
   "metadata": {},
   "outputs": [],
   "source": [
    "while True:\n",
    "    s = input(\"Enter a string: \")\n",
    "    if s == \"stop\":\n",
    "        break\n",
    "    else:\n",
    "        print(\"Length: {}\".format(len(s)))"
   ]
  },
  {
   "cell_type": "markdown",
   "metadata": {},
   "source": [
    "You can write a simple interactive loop that inputs data with the built-in <b>input()</b> function. "
   ]
  },
  {
   "cell_type": "markdown",
   "metadata": {},
   "source": [
    "## Exercises for while Loops (2 Questions)"
   ]
  },
  {
   "cell_type": "markdown",
   "metadata": {},
   "source": [
    "1. Write a <b>while</b> loop that repeatedly prints the current value of <i>x</i> ane then divides <i>x</i> in half at each iteration and stops when <i>x</i> becomes less than 1."
   ]
  },
  {
   "cell_type": "code",
   "execution_count": null,
   "metadata": {},
   "outputs": [],
   "source": [
    "x = float(1000)"
   ]
  },
  {
   "cell_type": "code",
   "execution_count": null,
   "metadata": {},
   "outputs": [],
   "source": [
    "# Your answer here\n"
   ]
  },
  {
   "cell_type": "markdown",
   "metadata": {},
   "source": [
    "2. Write a <b>while</b> loop that interactively asks the user to enter an integer and tells if the number is even or odd. It exits when the user enters \"stop\"."
   ]
  },
  {
   "cell_type": "code",
   "execution_count": null,
   "metadata": {},
   "outputs": [],
   "source": [
    "# Your answer here\n"
   ]
  },
  {
   "cell_type": "markdown",
   "metadata": {},
   "source": [
    "## Lambda Functions & Functional Programming"
   ]
  },
  {
   "cell_type": "markdown",
   "metadata": {},
   "source": [
    "A lambda or anonymous function is a block of code that is used to perform a specific action in line with another code statement.\n",
    "\n",
    "They can be used with functional programming tools like map(), reduce(), and filter() to write code without explicit loops.\n",
    "\n",
    "It can be considered good practice to avoid explicit loops on the python level where possible. List comprehensions and functional programming tools help avoid explicit loops."
   ]
  },
  {
   "cell_type": "markdown",
   "metadata": {},
   "source": [
    "The following can be interpreted as applying (mapping) every value in the range from 0 to 4 to the lambda function that adds 2 to every input value. The results of the mapping are stored as a list."
   ]
  },
  {
   "cell_type": "code",
   "execution_count": 44,
   "metadata": {},
   "outputs": [
    {
     "data": {
      "text/plain": [
       "[2, 3, 4, 5, 6]"
      ]
     },
     "execution_count": 44,
     "metadata": {},
     "output_type": "execute_result"
    }
   ],
   "source": [
    "list(map(lambda x: x+2, range(5)))"
   ]
  },
  {
   "cell_type": "markdown",
   "metadata": {},
   "source": [
    "This example uses filter() and a lambda function to create a list of all the even numbers between 0 and 14."
   ]
  },
  {
   "cell_type": "code",
   "execution_count": 47,
   "metadata": {},
   "outputs": [
    {
     "data": {
      "text/plain": [
       "[0, 2, 4, 6, 8, 10, 12, 14]"
      ]
     },
     "execution_count": 47,
     "metadata": {},
     "output_type": "execute_result"
    }
   ],
   "source": [
    "list(filter(lambda x: x % 2 == 0, range(15)))"
   ]
  },
  {
   "cell_type": "markdown",
   "metadata": {},
   "source": [
    "The reduce(fun,seq) function is used to apply a particular function passed in its argument to all of the list elements mentioned in the sequence passed along.This function is defined in “functools” module.\n",
    "\n",
    "The following finds the product of all the numbers in the range from 1 to 4."
   ]
  },
  {
   "cell_type": "code",
   "execution_count": 48,
   "metadata": {
    "scrolled": true
   },
   "outputs": [
    {
     "data": {
      "text/plain": [
       "24"
      ]
     },
     "execution_count": 48,
     "metadata": {},
     "output_type": "execute_result"
    }
   ],
   "source": [
    "import functools\n",
    "\n",
    "functools.reduce(lambda x,y: x*y, range(1,5,1))"
   ]
  },
  {
   "cell_type": "markdown",
   "metadata": {},
   "source": [
    "## Exercises for Lambda Functions (2 Questions)"
   ]
  },
  {
   "cell_type": "markdown",
   "metadata": {},
   "source": [
    "1. Create a list of results from taking 7 times every number in the range from 1 to 10 inclusive as a lambda function using the map() function."
   ]
  },
  {
   "cell_type": "code",
   "execution_count": null,
   "metadata": {},
   "outputs": [],
   "source": [
    "# Your answer here\n"
   ]
  },
  {
   "cell_type": "markdown",
   "metadata": {},
   "source": [
    "2. Create a list of all the numbers divisible by 3 in the range from 0 to 30 inclusive as a lambda function using the filter() function. "
   ]
  },
  {
   "cell_type": "code",
   "execution_count": null,
   "metadata": {},
   "outputs": [],
   "source": [
    "# Your answer here\n"
   ]
  }
 ],
 "metadata": {
  "kernelspec": {
   "display_name": "Python 3",
   "language": "python",
   "name": "python3"
  },
  "language_info": {
   "codemirror_mode": {
    "name": "ipython",
    "version": 3
   },
   "file_extension": ".py",
   "mimetype": "text/x-python",
   "name": "python",
   "nbconvert_exporter": "python",
   "pygments_lexer": "ipython3",
   "version": "3.8.0"
  }
 },
 "nbformat": 4,
 "nbformat_minor": 1
}
