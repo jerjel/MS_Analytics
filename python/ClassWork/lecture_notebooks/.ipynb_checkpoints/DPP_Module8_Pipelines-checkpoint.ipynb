{
 "cells": [
  {
   "cell_type": "markdown",
   "metadata": {},
   "source": [
    "# Data Programming in Python | BAIS:6040\n",
    "# Advanced Data Analytics: Machine Learning Pipelines\n",
    "\n",
    "Instructor: Jeff Hendricks\n",
    "\n",
    "Topics to be covered:\n",
    "- Building a machine learning pipeline for regression\n",
    "- Exercises to build a pipeline for classification\n",
    "\n",
    "References: \n",
    "- Documentation scikit-learn (http://scikit-learn.org/stable/documentation.html)\n",
    "- Introduction to Machine Learning with Python (http://shop.oreilly.com/product/0636920030515.do)\n"
   ]
  },
  {
   "cell_type": "markdown",
   "metadata": {},
   "source": [
    "### Importing Modules"
   ]
  },
  {
   "cell_type": "code",
   "execution_count": 1,
   "metadata": {},
   "outputs": [],
   "source": [
    "import numpy as np\n",
    "import pandas as pd\n",
    "import matplotlib.pylab as plt\n",
    "import seaborn as sns\n",
    "import joblib"
   ]
  },
  {
   "cell_type": "markdown",
   "metadata": {},
   "source": [
    "### Load the Dataset & Feature Engineering\n",
    "- Adding the Month and MonthText Features engineered from the Date"
   ]
  },
  {
   "cell_type": "code",
   "execution_count": 2,
   "metadata": {},
   "outputs": [
    {
     "data": {
      "text/html": [
       "<div>\n",
       "<style scoped>\n",
       "    .dataframe tbody tr th:only-of-type {\n",
       "        vertical-align: middle;\n",
       "    }\n",
       "\n",
       "    .dataframe tbody tr th {\n",
       "        vertical-align: top;\n",
       "    }\n",
       "\n",
       "    .dataframe thead th {\n",
       "        text-align: right;\n",
       "    }\n",
       "</style>\n",
       "<table border=\"1\" class=\"dataframe\">\n",
       "  <thead>\n",
       "    <tr style=\"text-align: right;\">\n",
       "      <th></th>\n",
       "      <th>Date</th>\n",
       "      <th>Location</th>\n",
       "      <th>MinTemp</th>\n",
       "      <th>MaxTemp</th>\n",
       "      <th>Rainfall</th>\n",
       "      <th>Evaporation</th>\n",
       "      <th>Sunshine</th>\n",
       "      <th>WindGustDir</th>\n",
       "      <th>WindGustSpeed</th>\n",
       "      <th>WindDir9am</th>\n",
       "      <th>...</th>\n",
       "      <th>Pressure3pm</th>\n",
       "      <th>Cloud9am</th>\n",
       "      <th>Cloud3pm</th>\n",
       "      <th>Temp9am</th>\n",
       "      <th>Temp3pm</th>\n",
       "      <th>RainToday</th>\n",
       "      <th>RISK_MM</th>\n",
       "      <th>RainTomorrow</th>\n",
       "      <th>Month</th>\n",
       "      <th>MonthText</th>\n",
       "    </tr>\n",
       "  </thead>\n",
       "  <tbody>\n",
       "    <tr>\n",
       "      <th>0</th>\n",
       "      <td>2007-11-01</td>\n",
       "      <td>Canberra</td>\n",
       "      <td>8.0</td>\n",
       "      <td>24.3</td>\n",
       "      <td>0.0</td>\n",
       "      <td>3.4</td>\n",
       "      <td>6.3</td>\n",
       "      <td>NW</td>\n",
       "      <td>30.0</td>\n",
       "      <td>SW</td>\n",
       "      <td>...</td>\n",
       "      <td>1015.0</td>\n",
       "      <td>7</td>\n",
       "      <td>7</td>\n",
       "      <td>14.4</td>\n",
       "      <td>23.6</td>\n",
       "      <td>No</td>\n",
       "      <td>3.6</td>\n",
       "      <td>Yes</td>\n",
       "      <td>11</td>\n",
       "      <td>November</td>\n",
       "    </tr>\n",
       "    <tr>\n",
       "      <th>1</th>\n",
       "      <td>2007-11-02</td>\n",
       "      <td>Canberra</td>\n",
       "      <td>14.0</td>\n",
       "      <td>26.9</td>\n",
       "      <td>3.6</td>\n",
       "      <td>4.4</td>\n",
       "      <td>9.7</td>\n",
       "      <td>ENE</td>\n",
       "      <td>39.0</td>\n",
       "      <td>E</td>\n",
       "      <td>...</td>\n",
       "      <td>1008.4</td>\n",
       "      <td>5</td>\n",
       "      <td>3</td>\n",
       "      <td>17.5</td>\n",
       "      <td>25.7</td>\n",
       "      <td>Yes</td>\n",
       "      <td>3.6</td>\n",
       "      <td>Yes</td>\n",
       "      <td>11</td>\n",
       "      <td>November</td>\n",
       "    </tr>\n",
       "  </tbody>\n",
       "</table>\n",
       "<p>2 rows × 26 columns</p>\n",
       "</div>"
      ],
      "text/plain": [
       "        Date  Location  MinTemp  MaxTemp  Rainfall  Evaporation  Sunshine  \\\n",
       "0 2007-11-01  Canberra      8.0     24.3       0.0          3.4       6.3   \n",
       "1 2007-11-02  Canberra     14.0     26.9       3.6          4.4       9.7   \n",
       "\n",
       "  WindGustDir  WindGustSpeed WindDir9am  ... Pressure3pm  Cloud9am  Cloud3pm  \\\n",
       "0          NW           30.0         SW  ...      1015.0         7         7   \n",
       "1         ENE           39.0          E  ...      1008.4         5         3   \n",
       "\n",
       "   Temp9am  Temp3pm  RainToday  RISK_MM  RainTomorrow  Month  MonthText  \n",
       "0     14.4     23.6         No      3.6           Yes     11   November  \n",
       "1     17.5     25.7        Yes      3.6           Yes     11   November  \n",
       "\n",
       "[2 rows x 26 columns]"
      ]
     },
     "execution_count": 2,
     "metadata": {},
     "output_type": "execute_result"
    }
   ],
   "source": [
    "# Load data & add month feature\n",
    "weather = pd.read_csv('../../Data/weather.csv', parse_dates=['Date'])\n",
    "\n",
    "weather['Month'] = pd.Categorical(weather.Date.dt.month)\n",
    "weather['MonthText'] = pd.Categorical(weather.Date.dt.month_name())\n",
    "\n",
    "weather.head(2)"
   ]
  },
  {
   "cell_type": "code",
   "execution_count": 3,
   "metadata": {},
   "outputs": [
    {
     "data": {
      "text/plain": [
       "Date              0\n",
       "Location          0\n",
       "MinTemp           0\n",
       "MaxTemp           0\n",
       "Rainfall          0\n",
       "Evaporation       0\n",
       "Sunshine          3\n",
       "WindGustDir       3\n",
       "WindGustSpeed     2\n",
       "WindDir9am       31\n",
       "WindDir3pm        1\n",
       "WindSpeed9am      7\n",
       "WindSpeed3pm      0\n",
       "Humidity9am       0\n",
       "Humidity3pm       0\n",
       "Pressure9am       0\n",
       "Pressure3pm       0\n",
       "Cloud9am          0\n",
       "Cloud3pm          0\n",
       "Temp9am           0\n",
       "Temp3pm           0\n",
       "RainToday         0\n",
       "RISK_MM           0\n",
       "RainTomorrow      0\n",
       "Month             0\n",
       "MonthText         0\n",
       "dtype: int64"
      ]
     },
     "execution_count": 3,
     "metadata": {},
     "output_type": "execute_result"
    }
   ],
   "source": [
    "weather.isna().sum()"
   ]
  },
  {
   "cell_type": "markdown",
   "metadata": {},
   "source": [
    "### Prepare Data for Modeling\n",
    "\n",
    "- Divide the data into train and test subsets"
   ]
  },
  {
   "cell_type": "code",
   "execution_count": 4,
   "metadata": {
    "scrolled": true
   },
   "outputs": [],
   "source": [
    "from sklearn.model_selection import train_test_split\n",
    "\n",
    "# Names of different columns\n",
    "categorical_cols = [\"WindGustDir\", \"RainToday\", \"MonthText\"]\n",
    "continuous_cols = [\"Sunshine\", \"Humidity3pm\", \"MaxTemp\"]\n",
    "\n",
    "predictor_cols = categorical_cols + continuous_cols\n",
    "target_col = \"Rainfall\"\n",
    "\n",
    "X=weather[predictor_cols]\n",
    "y=weather[target_col]\n",
    "\n",
    "X_train, X_test, y_train, y_test = train_test_split(weather[predictor_cols], y, random_state=0)"
   ]
  },
  {
   "cell_type": "code",
   "execution_count": 5,
   "metadata": {},
   "outputs": [
    {
     "data": {
      "text/plain": [
       "(274, 6)"
      ]
     },
     "execution_count": 5,
     "metadata": {},
     "output_type": "execute_result"
    }
   ],
   "source": [
    "X_train.shape"
   ]
  },
  {
   "cell_type": "markdown",
   "metadata": {},
   "source": [
    "### Simple Imputer to Handle Missing Values\n",
    "- This is a different approach from last week where we handled the missing values in the exploration\n",
    "\n",
    "Reference\n",
    "- https://scikit-learn.org/stable/modules/generated/sklearn.impute.SimpleImputer.html"
   ]
  },
  {
   "cell_type": "code",
   "execution_count": 6,
   "metadata": {},
   "outputs": [],
   "source": [
    "from sklearn.impute import SimpleImputer\n",
    "\n",
    "imp_mean = SimpleImputer(strategy='mean')\n",
    "imp_mf = SimpleImputer(strategy='most_frequent')\n",
    "\n",
    "imp_mean.fit(X_train.Sunshine.values.reshape(-1, 1))\n",
    "imp_mf.fit(X_train.WindGustDir.values.reshape(-1, 1))\n",
    "\n",
    "X_train['WindGustDir']=imp_mf.transform(X_train.WindGustDir.values.reshape(-1, 1))[:,0]\n",
    "X_train['Sunshine'] = imp_mean.transform(X_train.Sunshine.values.reshape(-1, 1))[:,0]"
   ]
  },
  {
   "cell_type": "code",
   "execution_count": 7,
   "metadata": {},
   "outputs": [
    {
     "data": {
      "text/plain": [
       "(274, 6)"
      ]
     },
     "execution_count": 7,
     "metadata": {},
     "output_type": "execute_result"
    }
   ],
   "source": [
    "X_train.shape"
   ]
  },
  {
   "cell_type": "code",
   "execution_count": 8,
   "metadata": {},
   "outputs": [
    {
     "data": {
      "text/plain": [
       "(274,)"
      ]
     },
     "execution_count": 8,
     "metadata": {},
     "output_type": "execute_result"
    }
   ],
   "source": [
    "X_train.Sunshine.values.shape"
   ]
  },
  {
   "cell_type": "code",
   "execution_count": 9,
   "metadata": {},
   "outputs": [
    {
     "data": {
      "text/plain": [
       "(274, 1)"
      ]
     },
     "execution_count": 9,
     "metadata": {},
     "output_type": "execute_result"
    }
   ],
   "source": [
    "X_train.Sunshine.values.reshape(-1, 1).shape"
   ]
  },
  {
   "cell_type": "code",
   "execution_count": 10,
   "metadata": {},
   "outputs": [
    {
     "data": {
      "text/plain": [
       "(274,)"
      ]
     },
     "execution_count": 10,
     "metadata": {},
     "output_type": "execute_result"
    }
   ],
   "source": [
    "X_train.Sunshine.values.reshape(-1, 1)[:,0].shape"
   ]
  },
  {
   "cell_type": "markdown",
   "metadata": {},
   "source": [
    "### Build a Pipeline for Regression Modeling with Ridge\n",
    "\n",
    "- Least Squares with l2 Regularization\n",
    "- We're using the default parameters for the Ridge Regressor\n",
    "- Notice we're dropping the first column for the One Hot Encoding.  This is common for linear models\n",
    "\n",
    "References\n",
    "\n",
    "- sklearn.linear_model.Ridge: https://scikit-learn.org/stable/modules/generated/sklearn.linear_model.Ridge.html\n",
    "\n",
    "- SimpleImputer: https://scikit-learn.org/stable/modules/generated/sklearn.impute.SimpleImputer.html\n",
    "- OneHotEncoder: https://scikit-learn.org/stable/modules/generated/sklearn.preprocessing.OneHotEncoder.html\n",
    "- MinMaxScaler: https://scikit-learn.org/stable/modules/generated/sklearn.preprocessing.MinMaxScaler.html"
   ]
  },
  {
   "cell_type": "code",
   "execution_count": 11,
   "metadata": {
    "scrolled": true
   },
   "outputs": [],
   "source": [
    "from sklearn.model_selection import train_test_split\n",
    "\n",
    "# Names of different columns\n",
    "categorical_cols = [\"WindGustDir\", \"RainToday\", \"MonthText\"]\n",
    "continuous_cols = [\"Sunshine\", \"Humidity3pm\", \"MaxTemp\"]\n",
    "\n",
    "predictor_cols = categorical_cols + continuous_cols\n",
    "target_col = \"Rainfall\"\n",
    "\n",
    "X=weather[predictor_cols]\n",
    "y=weather[target_col]\n",
    "\n",
    "X_train, X_test, y_train, y_test = train_test_split(weather[predictor_cols], y, random_state=0)"
   ]
  },
  {
   "cell_type": "code",
   "execution_count": 12,
   "metadata": {},
   "outputs": [
    {
     "data": {
      "text/plain": [
       "[('preprocess',\n",
       "  ColumnTransformer(remainder='passthrough',\n",
       "                    transformers=[('num',\n",
       "                                   Pipeline(steps=[('impute', SimpleImputer()),\n",
       "                                                   ('scale', MinMaxScaler())]),\n",
       "                                   ['Sunshine', 'Humidity3pm', 'MaxTemp']),\n",
       "                                  ('cat',\n",
       "                                   Pipeline(steps=[('impute',\n",
       "                                                    SimpleImputer(strategy='most_frequent')),\n",
       "                                                   ('enc',\n",
       "                                                    OneHotEncoder(drop='first',\n",
       "                                                                  dtype=<class 'numpy.int32'>,\n",
       "                                                                  sparse=False))]),\n",
       "                                   ['WindGustDir', 'RainToday', 'MonthText'])])),\n",
       " ('rgr', Ridge())]"
      ]
     },
     "execution_count": 12,
     "metadata": {},
     "output_type": "execute_result"
    }
   ],
   "source": [
    "from sklearn.pipeline import Pipeline\n",
    "from sklearn.compose import ColumnTransformer\n",
    "from sklearn.preprocessing import StandardScaler, MinMaxScaler, OneHotEncoder\n",
    "from sklearn.impute import SimpleImputer\n",
    "from sklearn.linear_model import Ridge\n",
    "\n",
    "num_transformer = Pipeline(steps=[('impute', SimpleImputer(strategy='mean'))\n",
    "                                 ,('scale', MinMaxScaler())])\n",
    "\n",
    "cat_transformer = Pipeline(steps=[('impute',SimpleImputer(strategy='most_frequent'))\n",
    "                                 ,('enc', OneHotEncoder(sparse = False, drop='first', handle_unknown='error'\n",
    "                                                        ,dtype=np.int32))])\n",
    "\n",
    "\n",
    "preprocessor = ColumnTransformer(transformers=[('num', num_transformer, continuous_cols),\n",
    "                                               ('cat', cat_transformer, categorical_cols)]\n",
    "                                 ,remainder='passthrough')\n",
    "\n",
    "pipe_ridge = Pipeline(steps=[('preprocess', preprocessor)\n",
    "                            ,('rgr', Ridge())])\n",
    "\n",
    "pipe_ridge.steps"
   ]
  },
  {
   "cell_type": "markdown",
   "metadata": {},
   "source": [
    "#### Each component of the pipeline can be fit & transformed"
   ]
  },
  {
   "cell_type": "code",
   "execution_count": 13,
   "metadata": {},
   "outputs": [
    {
     "name": "stdout",
     "output_type": "stream",
     "text": [
      "X_train shape  (274, 6)\n",
      "Preprocessed shape  (274, 30)\n"
     ]
    },
    {
     "data": {
      "text/plain": [
       "array([[0.625     , 0.5060241 , 0.37234043, ..., 0.        , 0.        ,\n",
       "        0.        ],\n",
       "       [0.42647059, 0.54216867, 0.28014184, ..., 0.        , 0.        ,\n",
       "        0.        ],\n",
       "       [0.68382353, 0.27710843, 0.37234043, ..., 0.        , 0.        ,\n",
       "        0.        ],\n",
       "       ...,\n",
       "       [0.85294118, 0.1686747 , 0.73049645, ..., 0.        , 0.        ,\n",
       "        0.        ],\n",
       "       [0.63970588, 0.36144578, 0.47163121, ..., 0.        , 0.        ,\n",
       "        0.        ],\n",
       "       [0.74264706, 0.25301205, 0.46099291, ..., 0.        , 0.        ,\n",
       "        0.        ]])"
      ]
     },
     "execution_count": 13,
     "metadata": {},
     "output_type": "execute_result"
    }
   ],
   "source": [
    "print('X_train shape ', X_train.shape)\n",
    "print('Preprocessed shape ', preprocessor.fit_transform(X_train).shape)\n",
    "\n",
    "preprocessor.fit_transform(X_train)"
   ]
  },
  {
   "cell_type": "code",
   "execution_count": 14,
   "metadata": {
    "scrolled": true
   },
   "outputs": [
    {
     "name": "stdout",
     "output_type": "stream",
     "text": [
      "X_train continuous shape  (274, 3)\n",
      "num_transformer shape  (274, 3)\n"
     ]
    },
    {
     "data": {
      "text/plain": [
       "array([[0.625     , 0.5060241 , 0.37234043],\n",
       "       [0.42647059, 0.54216867, 0.28014184],\n",
       "       [0.68382353, 0.27710843, 0.37234043],\n",
       "       [0.83823529, 0.04819277, 0.87588652],\n",
       "       [0.75      , 0.26506024, 0.64893617],\n",
       "       [0.77205882, 0.25301205, 0.93971631],\n",
       "       [0.83088235, 0.02409639, 0.92907801],\n",
       "       [0.95588235, 0.19277108, 0.71985816],\n",
       "       [0.88970588, 0.08433735, 0.70212766],\n",
       "       [0.57352941, 0.42168675, 0.45744681],\n",
       "       [0.69852941, 0.30120482, 0.14184397],\n",
       "       [0.58088235, 0.5060241 , 0.4822695 ],\n",
       "       [0.74264706, 0.15662651, 0.79432624],\n",
       "       [0.19852941, 0.62650602, 0.26595745],\n",
       "       [0.        , 0.96385542, 0.34751773],\n",
       "       [0.44117647, 0.36144578, 0.41843972],\n",
       "       [0.55882353, 0.37349398, 0.22695035],\n",
       "       [0.66176471, 0.34939759, 0.32269504],\n",
       "       [0.43382353, 0.56626506, 0.58865248],\n",
       "       [0.86029412, 0.13253012, 0.26241135],\n",
       "       [0.125     , 0.78313253, 0.16666667],\n",
       "       [0.72794118, 0.56626506, 0.06028369],\n",
       "       [0.43382353, 0.44578313, 0.13120567],\n",
       "       [0.41176471, 0.56626506, 0.13120567],\n",
       "       [0.59110078, 0.12048193, 0.26595745],\n",
       "       [0.79411765, 0.25301205, 0.40070922],\n",
       "       [0.52205882, 0.54216867, 0.19148936],\n",
       "       [0.11764706, 0.54216867, 0.43617021],\n",
       "       [0.71323529, 0.27710843, 0.68439716],\n",
       "       [0.41176471, 0.15662651, 0.55673759],\n",
       "       [0.30147059, 0.42168675, 0.42198582],\n",
       "       [0.61764706, 0.45783133, 0.16312057],\n",
       "       [0.51470588, 0.5060241 , 0.23404255],\n",
       "       [0.70588235, 0.24096386, 0.40070922],\n",
       "       [0.83088235, 0.13253012, 0.85815603],\n",
       "       [0.34558824, 0.6626506 , 0.        ],\n",
       "       [0.71323529, 0.06024096, 0.90425532],\n",
       "       [0.63970588, 0.42168675, 0.16312057],\n",
       "       [0.06617647, 0.6746988 , 0.12056738],\n",
       "       [0.86764706, 0.3253012 , 0.67021277],\n",
       "       [0.82352941, 0.20481928, 0.5248227 ],\n",
       "       [0.72058824, 0.60240964, 0.5035461 ],\n",
       "       [0.92647059, 0.        , 0.80141844],\n",
       "       [0.58823529, 0.3373494 , 0.70212766],\n",
       "       [0.60294118, 0.22891566, 0.64184397],\n",
       "       [0.        , 0.87951807, 0.24113475],\n",
       "       [0.21323529, 0.24096386, 0.30141844],\n",
       "       [0.75      , 0.19277108, 0.56028369],\n",
       "       [0.61764706, 0.19277108, 0.46453901],\n",
       "       [0.61029412, 0.3373494 , 0.40425532],\n",
       "       [0.46323529, 0.37349398, 0.4751773 ],\n",
       "       [0.75      , 0.39759036, 0.58510638],\n",
       "       [0.77941176, 0.3253012 , 0.5       ],\n",
       "       [0.17647059, 0.86746988, 0.34042553],\n",
       "       [0.51470588, 0.3253012 , 0.25531915],\n",
       "       [0.99264706, 0.26506024, 0.92907801],\n",
       "       [0.82352941, 0.10843373, 0.80141844],\n",
       "       [0.59110078, 0.57831325, 0.4787234 ],\n",
       "       [0.77941176, 0.31325301, 0.41489362],\n",
       "       [0.53676471, 0.68674699, 0.07092199],\n",
       "       [0.03676471, 0.43373494, 0.58510638],\n",
       "       [0.59558824, 0.42168675, 0.14184397],\n",
       "       [0.52205882, 0.55421687, 0.22695035],\n",
       "       [0.57352941, 0.25301205, 0.23404255],\n",
       "       [0.80882353, 0.24096386, 0.19858156],\n",
       "       [0.78676471, 0.21686747, 0.72340426],\n",
       "       [0.14705882, 0.60240964, 0.29432624],\n",
       "       [0.65441176, 0.34939759, 0.47163121],\n",
       "       [0.77941176, 0.1686747 , 0.4893617 ],\n",
       "       [0.52205882, 0.62650602, 0.39361702],\n",
       "       [0.78676471, 0.20481928, 0.79078014],\n",
       "       [0.67647059, 0.27710843, 0.4751773 ],\n",
       "       [0.70588235, 0.42168675, 0.18439716],\n",
       "       [0.28676471, 0.46987952, 0.15602837],\n",
       "       [0.08823529, 0.86746988, 0.03900709],\n",
       "       [0.46323529, 0.4939759 , 0.68085106],\n",
       "       [0.34558824, 0.68674699, 0.28014184],\n",
       "       [0.19117647, 0.62650602, 0.26595745],\n",
       "       [0.56617647, 0.55421687, 0.22340426],\n",
       "       [0.30147059, 0.6746988 , 0.19148936],\n",
       "       [0.64705882, 0.27710843, 0.79078014],\n",
       "       [0.89705882, 0.14457831, 0.36879433],\n",
       "       [0.84558824, 0.24096386, 0.71631206],\n",
       "       [0.59558824, 0.37349398, 0.75177305],\n",
       "       [0.60294118, 0.21686747, 0.75531915],\n",
       "       [0.79411765, 0.27710843, 0.46453901],\n",
       "       [0.47794118, 0.71084337, 0.06737589],\n",
       "       [0.625     , 0.42168675, 0.31205674],\n",
       "       [0.95588235, 0.14457831, 0.87588652],\n",
       "       [0.13970588, 0.59036145, 0.18439716],\n",
       "       [0.        , 0.90361446, 0.42553191],\n",
       "       [0.63235294, 0.27710843, 0.36879433],\n",
       "       [0.97794118, 0.13253012, 1.        ],\n",
       "       [0.43382353, 0.45783133, 0.32978723],\n",
       "       [0.28676471, 0.45783133, 0.15957447],\n",
       "       [0.63235294, 0.21686747, 0.60638298],\n",
       "       [0.63970588, 0.3253012 , 0.36524823],\n",
       "       [0.5       , 0.43373494, 0.42198582],\n",
       "       [0.25735294, 0.08433735, 0.65602837],\n",
       "       [0.69852941, 0.18072289, 0.54255319],\n",
       "       [0.79411765, 0.30120482, 0.59574468],\n",
       "       [0.69117647, 0.37349398, 0.37234043],\n",
       "       [0.38970588, 0.40963855, 0.43617021],\n",
       "       [0.59558824, 0.14457831, 0.70921986],\n",
       "       [0.77205882, 0.14457831, 0.64184397],\n",
       "       [0.66176471, 0.4939759 , 0.17730496],\n",
       "       [0.84558824, 0.24096386, 0.36524823],\n",
       "       [0.88970588, 0.30120482, 0.69148936],\n",
       "       [0.73529412, 0.20481928, 0.38652482],\n",
       "       [0.68382353, 0.26506024, 0.5035461 ],\n",
       "       [0.75735294, 0.25301205, 0.5035461 ],\n",
       "       [0.61764706, 0.12048193, 0.83687943],\n",
       "       [0.47794118, 0.42168675, 0.14893617],\n",
       "       [0.81617647, 0.15662651, 0.92907801],\n",
       "       [0.86029412, 0.34939759, 0.64539007],\n",
       "       [0.76470588, 0.18072289, 0.24113475],\n",
       "       [0.65441176, 0.36144578, 0.24468085],\n",
       "       [0.56617647, 0.63855422, 0.02836879],\n",
       "       [0.72058824, 0.42168675, 0.65957447],\n",
       "       [0.79411765, 0.03614458, 0.63475177],\n",
       "       [0.77941176, 0.43373494, 0.30141844],\n",
       "       [0.02205882, 0.69879518, 0.53900709],\n",
       "       [0.96323529, 0.03614458, 0.83687943],\n",
       "       [0.94117647, 0.08433735, 0.94326241],\n",
       "       [0.92647059, 0.27710843, 0.93262411],\n",
       "       [0.72794118, 0.1686747 , 0.4964539 ],\n",
       "       [0.69117647, 0.25301205, 0.40425532],\n",
       "       [0.71323529, 0.3253012 , 0.23758865],\n",
       "       [0.03676471, 0.62650602, 0.26241135],\n",
       "       [0.36764706, 0.78313253, 0.12411348],\n",
       "       [0.45588235, 0.18072289, 0.46099291],\n",
       "       [0.61764706, 0.3253012 , 0.36879433],\n",
       "       [0.16911765, 0.60240964, 0.38652482],\n",
       "       [0.27941176, 0.51807229, 0.60992908],\n",
       "       [0.91176471, 0.08433735, 0.82624113],\n",
       "       [0.92647059, 0.3253012 , 0.65602837],\n",
       "       [0.52941176, 0.43373494, 0.14893617],\n",
       "       [0.30882353, 0.71084337, 0.11702128],\n",
       "       [0.66911765, 0.51807229, 0.28014184],\n",
       "       [0.01470588, 1.        , 0.12411348],\n",
       "       [0.80882353, 0.26506024, 0.70921986],\n",
       "       [0.59558824, 0.21686747, 0.73758865],\n",
       "       [0.01470588, 0.92771084, 0.45390071],\n",
       "       [0.85294118, 0.34939759, 0.62056738],\n",
       "       [0.        , 0.87951807, 0.14539007],\n",
       "       [0.69117647, 0.36144578, 0.35460993],\n",
       "       [0.69117647, 0.34939759, 0.33687943],\n",
       "       [0.36029412, 0.62650602, 0.46453901],\n",
       "       [0.05147059, 0.8313253 , 0.07446809],\n",
       "       [0.86029412, 0.1686747 , 0.57801418],\n",
       "       [0.76470588, 0.1686747 , 0.91489362],\n",
       "       [0.69117647, 0.28915663, 0.28014184],\n",
       "       [0.89705882, 0.20481928, 0.4751773 ],\n",
       "       [0.05882353, 0.4939759 , 0.21985816],\n",
       "       [0.80147059, 0.02409639, 0.55673759],\n",
       "       [0.59558824, 0.69879518, 0.60638298],\n",
       "       [0.43382353, 0.59036145, 0.5106383 ],\n",
       "       [0.24264706, 0.6746988 , 0.56028369],\n",
       "       [0.91911765, 0.26506024, 0.69858156],\n",
       "       [0.02941176, 0.72289157, 0.37588652],\n",
       "       [0.63235294, 0.43373494, 0.16312057],\n",
       "       [0.66176471, 0.18072289, 0.75177305],\n",
       "       [0.875     , 0.25301205, 0.62411348],\n",
       "       [0.64705882, 0.73493976, 0.64539007],\n",
       "       [0.76470588, 0.34939759, 0.42553191],\n",
       "       [1.        , 0.20481928, 0.85106383],\n",
       "       [0.53676471, 0.45783133, 0.4929078 ],\n",
       "       [0.59558824, 0.42168675, 0.77659574],\n",
       "       [0.60294118, 0.44578313, 0.32624113],\n",
       "       [0.83088235, 0.24096386, 0.34397163],\n",
       "       [0.69117647, 0.38554217, 0.10992908],\n",
       "       [0.72794118, 0.36144578, 0.25177305],\n",
       "       [0.74264706, 0.18072289, 0.69858156],\n",
       "       [0.        , 0.97590361, 0.21631206],\n",
       "       [0.77205882, 0.01204819, 0.97163121],\n",
       "       [0.68382353, 0.51807229, 0.13829787],\n",
       "       [0.82352941, 0.18072289, 0.85460993],\n",
       "       [0.22058824, 0.48192771, 0.32624113],\n",
       "       [0.55147059, 0.53012048, 0.59219858],\n",
       "       [0.93382353, 0.28915663, 0.69148936],\n",
       "       [0.46323529, 0.19277108, 0.59219858],\n",
       "       [0.41176471, 0.46987952, 0.33333333],\n",
       "       [0.04411765, 0.57831325, 0.13120567],\n",
       "       [0.43382353, 0.75903614, 0.58865248],\n",
       "       [0.42647059, 0.45783133, 0.39361702],\n",
       "       [0.65441176, 0.45783133, 0.31560284],\n",
       "       [0.67647059, 0.30120482, 0.78014184],\n",
       "       [0.80882353, 0.09638554, 0.70921986],\n",
       "       [0.        , 0.75903614, 0.53191489],\n",
       "       [0.58823529, 0.24096386, 0.42907801],\n",
       "       [0.61029412, 0.36144578, 0.42907801],\n",
       "       [0.64705882, 0.38554217, 0.79078014],\n",
       "       [0.05882353, 0.4939759 , 0.4751773 ],\n",
       "       [0.375     , 0.44578313, 0.38652482],\n",
       "       [0.61029412, 0.42168675, 0.23049645],\n",
       "       [0.60294118, 0.53012048, 0.25177305],\n",
       "       [0.80882353, 0.26506024, 0.37588652],\n",
       "       [0.45588235, 0.37349398, 0.61347518],\n",
       "       [0.69852941, 0.3253012 , 0.21985816],\n",
       "       [0.625     , 0.06024096, 0.96099291],\n",
       "       [0.80882353, 0.14457831, 0.42198582],\n",
       "       [0.52205882, 0.31325301, 0.68439716],\n",
       "       [0.        , 0.89156627, 0.12056738],\n",
       "       [0.67647059, 0.36144578, 0.25177305],\n",
       "       [0.72794118, 0.19277108, 0.71631206],\n",
       "       [0.88970588, 0.21686747, 0.5035461 ],\n",
       "       [0.80147059, 0.14457831, 0.25177305],\n",
       "       [0.83823529, 0.25301205, 0.32624113],\n",
       "       [0.26470588, 0.43373494, 0.71631206],\n",
       "       [0.85294118, 0.39759036, 0.52836879],\n",
       "       [0.59558824, 0.14457831, 0.18794326],\n",
       "       [0.05882353, 0.78313253, 0.34397163],\n",
       "       [0.5       , 0.20481928, 0.17375887],\n",
       "       [0.97058824, 0.37349398, 0.73404255],\n",
       "       [0.38235294, 0.39759036, 0.21276596],\n",
       "       [0.88970588, 0.02409639, 0.81914894],\n",
       "       [0.26470588, 0.43373494, 0.45035461],\n",
       "       [0.93382353, 0.28915663, 0.58865248],\n",
       "       [0.5       , 0.30120482, 0.23049645],\n",
       "       [0.66176471, 0.36144578, 0.23049645],\n",
       "       [0.81617647, 0.13253012, 0.77304965],\n",
       "       [0.88970588, 0.36144578, 0.59574468],\n",
       "       [0.72794118, 0.08433735, 0.31914894],\n",
       "       [0.84558824, 0.31325301, 0.70212766],\n",
       "       [0.76470588, 0.26506024, 0.14184397],\n",
       "       [0.02941176, 0.80722892, 0.59219858],\n",
       "       [0.67647059, 0.30120482, 0.34397163],\n",
       "       [0.44852941, 0.22891566, 0.58510638],\n",
       "       [0.73529412, 0.34939759, 0.39716312],\n",
       "       [0.60294118, 0.48192771, 0.19503546],\n",
       "       [0.53676471, 0.40963855, 0.34751773],\n",
       "       [0.88235294, 0.39759036, 0.66312057],\n",
       "       [0.34558824, 0.56626506, 0.58865248],\n",
       "       [0.55147059, 0.25301205, 0.76595745],\n",
       "       [0.68382353, 0.34939759, 0.32269504],\n",
       "       [0.49264706, 0.39759036, 0.4858156 ],\n",
       "       [0.61764706, 0.45783133, 0.25177305],\n",
       "       [0.77941176, 0.26506024, 0.47163121],\n",
       "       [0.70588235, 0.27710843, 0.37943262],\n",
       "       [0.58088235, 0.60240964, 0.09929078],\n",
       "       [0.80882353, 0.14457831, 0.5106383 ],\n",
       "       [0.47794118, 0.25301205, 0.5       ],\n",
       "       [0.41176471, 0.54216867, 0.43617021],\n",
       "       [0.81617647, 0.03614458, 0.46099291],\n",
       "       [0.31617647, 0.6746988 , 0.29787234],\n",
       "       [0.41176471, 0.51807229, 0.14539007],\n",
       "       [0.91176471, 0.25301205, 0.57446809],\n",
       "       [0.56617647, 0.42168675, 0.12765957],\n",
       "       [0.50735294, 0.18072289, 0.9964539 ],\n",
       "       [0.69117647, 0.22891566, 0.40070922],\n",
       "       [0.65441176, 0.42168675, 0.68439716],\n",
       "       [0.68382353, 0.3253012 , 0.36879433],\n",
       "       [0.79411765, 0.10843373, 0.75531915],\n",
       "       [0.88235294, 0.25301205, 0.58510638],\n",
       "       [0.5       , 0.36144578, 0.40425532],\n",
       "       [0.72058824, 0.20481928, 0.74113475],\n",
       "       [0.73529412, 0.28915663, 0.60992908],\n",
       "       [0.56617647, 0.40963855, 0.41134752],\n",
       "       [0.71323529, 0.26506024, 0.26950355],\n",
       "       [0.97058824, 0.06024096, 0.90780142],\n",
       "       [0.94117647, 0.14457831, 0.94326241],\n",
       "       [0.85294118, 0.18072289, 0.84042553],\n",
       "       [0.58088235, 0.40963855, 0.19503546],\n",
       "       [0.47058824, 0.6626506 , 0.27659574],\n",
       "       [0.42647059, 0.56626506, 0.16666667],\n",
       "       [0.63235294, 0.39759036, 0.36879433],\n",
       "       [0.56617647, 0.22891566, 0.53900709],\n",
       "       [0.67647059, 0.37349398, 0.39007092],\n",
       "       [0.20588235, 0.6626506 , 0.04255319],\n",
       "       [0.75735294, 0.20481928, 0.55673759],\n",
       "       [0.11764706, 0.46987952, 0.34751773],\n",
       "       [0.85294118, 0.1686747 , 0.73049645],\n",
       "       [0.63970588, 0.36144578, 0.47163121],\n",
       "       [0.74264706, 0.25301205, 0.46099291]])"
      ]
     },
     "execution_count": 14,
     "metadata": {},
     "output_type": "execute_result"
    }
   ],
   "source": [
    "print('X_train continuous shape ', X_train[continuous_cols].shape)\n",
    "print('num_transformer shape ', num_transformer.fit_transform(X_train[continuous_cols]).shape)\n",
    "\n",
    "num_transformer.fit_transform(X_train[continuous_cols])"
   ]
  },
  {
   "cell_type": "code",
   "execution_count": 15,
   "metadata": {
    "scrolled": false
   },
   "outputs": [
    {
     "name": "stdout",
     "output_type": "stream",
     "text": [
      "X_train categorical shape  (274, 3)\n",
      "cat_transformer shape  (274, 27)\n"
     ]
    },
    {
     "data": {
      "text/plain": [
       "array([[0, 0, 0, ..., 0, 0, 0],\n",
       "       [0, 0, 0, ..., 0, 0, 0],\n",
       "       [0, 0, 0, ..., 0, 0, 0],\n",
       "       ...,\n",
       "       [0, 0, 0, ..., 0, 0, 0],\n",
       "       [1, 0, 0, ..., 0, 0, 0],\n",
       "       [0, 0, 0, ..., 0, 0, 0]], dtype=int32)"
      ]
     },
     "execution_count": 15,
     "metadata": {},
     "output_type": "execute_result"
    }
   ],
   "source": [
    "print('X_train categorical shape ', X_train[categorical_cols].shape)\n",
    "print('cat_transformer shape ', cat_transformer.fit_transform(X_train[categorical_cols]).shape)\n",
    "\n",
    "cat_transformer.fit_transform(X_train[categorical_cols])"
   ]
  },
  {
   "cell_type": "markdown",
   "metadata": {},
   "source": [
    "### Fit the Pipeline\n",
    "\n",
    "- Fitting the pipeline to the training dataset is performing fit_transform for each of the preprocessing steps in the pipeline\n",
    "- Fitting the pipeline is also fitting the model algorithm to the transformed training dataset"
   ]
  },
  {
   "cell_type": "code",
   "execution_count": 16,
   "metadata": {
    "scrolled": false
   },
   "outputs": [
    {
     "data": {
      "text/plain": [
       "Pipeline(steps=[('preprocess',\n",
       "                 ColumnTransformer(remainder='passthrough',\n",
       "                                   transformers=[('num',\n",
       "                                                  Pipeline(steps=[('impute',\n",
       "                                                                   SimpleImputer()),\n",
       "                                                                  ('scale',\n",
       "                                                                   MinMaxScaler())]),\n",
       "                                                  ['Sunshine', 'Humidity3pm',\n",
       "                                                   'MaxTemp']),\n",
       "                                                 ('cat',\n",
       "                                                  Pipeline(steps=[('impute',\n",
       "                                                                   SimpleImputer(strategy='most_frequent')),\n",
       "                                                                  ('enc',\n",
       "                                                                   OneHotEncoder(drop='first',\n",
       "                                                                                 dtype=<class 'numpy.int32'>,\n",
       "                                                                                 sparse=False))]),\n",
       "                                                  ['WindGustDir', 'RainToday',\n",
       "                                                   'MonthText'])])),\n",
       "                ('rgr', Ridge())])"
      ]
     },
     "execution_count": 16,
     "metadata": {},
     "output_type": "execute_result"
    }
   ],
   "source": [
    "pipe_ridge.fit(X_train, y_train)"
   ]
  },
  {
   "cell_type": "code",
   "execution_count": 17,
   "metadata": {},
   "outputs": [
    {
     "data": {
      "text/plain": [
       "0.5179593839415586"
      ]
     },
     "execution_count": 17,
     "metadata": {},
     "output_type": "execute_result"
    }
   ],
   "source": [
    "# what's the score (R2) against the training set\n",
    "pipe_ridge.score(X_train, y_train)"
   ]
  },
  {
   "cell_type": "code",
   "execution_count": 18,
   "metadata": {},
   "outputs": [
    {
     "data": {
      "text/plain": [
       "0.4895266992909896"
      ]
     },
     "execution_count": 18,
     "metadata": {},
     "output_type": "execute_result"
    }
   ],
   "source": [
    "# what's the score (R2) against the test set\n",
    "pipe_ridge.score(X_test, y_test)"
   ]
  },
  {
   "cell_type": "markdown",
   "metadata": {},
   "source": [
    "#### Wait, don't I need to transform the test dataset before scoring it?\n",
    "- Running __score__ or __predict__ methods on the pipeline executes __transform__ method for each preprocessor in the pipeline before scoring or predicting.\n",
    "- It does not __fit__ the pipeline to the test dataset.  That would be bad... data leakage."
   ]
  },
  {
   "cell_type": "code",
   "execution_count": 19,
   "metadata": {},
   "outputs": [
    {
     "name": "stdout",
     "output_type": "stream",
     "text": [
      "MAE = 1.746 | RMSE = 3.427 | R2 = 0.48953\n"
     ]
    }
   ],
   "source": [
    "import math\n",
    "from sklearn.metrics import mean_absolute_error, mean_squared_error, r2_score\n",
    "\n",
    "preds = pipe_ridge.predict(X_test)\n",
    "\n",
    "mae = mean_absolute_error(y_test, preds)\n",
    "rmse = math.sqrt(mean_squared_error(y_test, preds))\n",
    "r2 = r2_score(y_test, preds)\n",
    "    \n",
    "print(\"MAE = {:.3f} | RMSE = {:.3f} | R2 = {:.5f}\".format(mae, rmse, r2))"
   ]
  },
  {
   "cell_type": "markdown",
   "metadata": {},
   "source": [
    "### Now let's get a prediction"
   ]
  },
  {
   "cell_type": "code",
   "execution_count": 20,
   "metadata": {},
   "outputs": [
    {
     "data": {
      "text/plain": [
       "array([-0.19935467])"
      ]
     },
     "execution_count": 20,
     "metadata": {},
     "output_type": "execute_result"
    }
   ],
   "source": [
    "pipe_ridge.predict(X_test.head(1))"
   ]
  },
  {
   "cell_type": "markdown",
   "metadata": {},
   "source": [
    "### Serialize The Pipeline"
   ]
  },
  {
   "cell_type": "code",
   "execution_count": 21,
   "metadata": {},
   "outputs": [
    {
     "ename": "FileNotFoundError",
     "evalue": "[Errno 2] No such file or directory: 'data/ridge_pipe.pkl'",
     "output_type": "error",
     "traceback": [
      "\u001b[0;31m---------------------------------------------------------------------------\u001b[0m",
      "\u001b[0;31mFileNotFoundError\u001b[0m                         Traceback (most recent call last)",
      "\u001b[0;32m<ipython-input-21-aea165b4c515>\u001b[0m in \u001b[0;36m<module>\u001b[0;34m\u001b[0m\n\u001b[0;32m----> 1\u001b[0;31m \u001b[0;32mwith\u001b[0m \u001b[0mopen\u001b[0m\u001b[0;34m(\u001b[0m\u001b[0;34m\"data/ridge_pipe.pkl\"\u001b[0m\u001b[0;34m,\u001b[0m \u001b[0;34m\"wb\"\u001b[0m\u001b[0;34m)\u001b[0m \u001b[0;32mas\u001b[0m \u001b[0mfwb\u001b[0m\u001b[0;34m:\u001b[0m\u001b[0;34m\u001b[0m\u001b[0;34m\u001b[0m\u001b[0m\n\u001b[0m\u001b[1;32m      2\u001b[0m     \u001b[0mjoblib\u001b[0m\u001b[0;34m.\u001b[0m\u001b[0mdump\u001b[0m\u001b[0;34m(\u001b[0m\u001b[0mpipe_ridge\u001b[0m\u001b[0;34m,\u001b[0m \u001b[0mfwb\u001b[0m\u001b[0;34m)\u001b[0m\u001b[0;34m\u001b[0m\u001b[0;34m\u001b[0m\u001b[0m\n",
      "\u001b[0;31mFileNotFoundError\u001b[0m: [Errno 2] No such file or directory: 'data/ridge_pipe.pkl'"
     ]
    }
   ],
   "source": [
    "with open(\"../../Data/ridge_pipe.pkl\", \"wb\") as fwb:\n",
    "    joblib.dump(pipe_ridge, fwb)"
   ]
  },
  {
   "cell_type": "markdown",
   "metadata": {},
   "source": [
    "# Exercises for Pipeline (10 questions)\n",
    "- Use the weather dataset and build a pipeline to predict whether it will rain tomorrow using a logistic regression model"
   ]
  },
  {
   "cell_type": "markdown",
   "metadata": {},
   "source": [
    "1\\. Build a list called categorical_cols to indicate you intend to use WindGustDir, RainToday, and MonthText as categorical variables."
   ]
  },
  {
   "cell_type": "code",
   "execution_count": null,
   "metadata": {},
   "outputs": [],
   "source": [
    "# Your answer here\n"
   ]
  },
  {
   "cell_type": "markdown",
   "metadata": {},
   "source": [
    "2\\. Build a list called continuous_cols to indicate you intend to use Sunshine, Humidity3pm, and MaxTemp as numeric variables. Then concatenate the two lists into a list called predictor_cols"
   ]
  },
  {
   "cell_type": "code",
   "execution_count": null,
   "metadata": {},
   "outputs": [],
   "source": [
    "# Your answer here\n"
   ]
  },
  {
   "cell_type": "markdown",
   "metadata": {},
   "source": [
    "3\\. Assign the name of the column you're trying to predict to a variable called target_col"
   ]
  },
  {
   "cell_type": "code",
   "execution_count": null,
   "metadata": {},
   "outputs": [],
   "source": [
    "# Your answer here\n"
   ]
  },
  {
   "cell_type": "markdown",
   "metadata": {},
   "source": [
    "4\\. Split <i>X</i> and <i>y</i> into two training datasets <i>X_train</i> and <i>y_train</i> and two test datasets <i>X_text</i> and <i>y_test</i>. Set the `test_size` to 0.25 and `random_state` to 0."
   ]
  },
  {
   "cell_type": "code",
   "execution_count": null,
   "metadata": {},
   "outputs": [],
   "source": [
    "# Your answer here\n"
   ]
  },
  {
   "cell_type": "markdown",
   "metadata": {},
   "source": [
    "5\\. Build a pipeline for __Logistic Regression__. Use the mean to replace missing values of numeric variables and the most frequent value to replace missing values for categorical variables.  The numeric variables should be scaled with MinMaxScaler and the categorical variables should be One Hot Encoded (first value dropped). You can use the default parameter values for Logistic Regression."
   ]
  },
  {
   "cell_type": "code",
   "execution_count": null,
   "metadata": {},
   "outputs": [],
   "source": [
    "# Your answer here\n"
   ]
  },
  {
   "cell_type": "markdown",
   "metadata": {},
   "source": [
    "6\\. Fit the pipeline to the training dataset."
   ]
  },
  {
   "cell_type": "code",
   "execution_count": null,
   "metadata": {},
   "outputs": [],
   "source": [
    "# Your answer here\n"
   ]
  },
  {
   "cell_type": "markdown",
   "metadata": {},
   "source": [
    "7\\. What's the accuracy score against the training dataset?"
   ]
  },
  {
   "cell_type": "code",
   "execution_count": null,
   "metadata": {},
   "outputs": [],
   "source": [
    "# Your answer here\n"
   ]
  },
  {
   "cell_type": "markdown",
   "metadata": {},
   "source": [
    "8\\. What's the accuracy score against the test dataset?"
   ]
  },
  {
   "cell_type": "code",
   "execution_count": null,
   "metadata": {},
   "outputs": [],
   "source": [
    "# Your answer here\n"
   ]
  },
  {
   "cell_type": "markdown",
   "metadata": {},
   "source": [
    "9\\. Get a prediction for first observation in the test dataset?"
   ]
  },
  {
   "cell_type": "code",
   "execution_count": null,
   "metadata": {},
   "outputs": [],
   "source": [
    "# Your answer here\n"
   ]
  },
  {
   "cell_type": "markdown",
   "metadata": {},
   "source": [
    "10\\. What's the probability for rain tomorrow using the first observation in the test dataset?"
   ]
  },
  {
   "cell_type": "code",
   "execution_count": null,
   "metadata": {},
   "outputs": [],
   "source": [
    "# Your answer here\n"
   ]
  }
 ],
 "metadata": {
  "kernelspec": {
   "display_name": "Python 3",
   "language": "python",
   "name": "python3"
  },
  "language_info": {
   "codemirror_mode": {
    "name": "ipython",
    "version": 3
   },
   "file_extension": ".py",
   "mimetype": "text/x-python",
   "name": "python",
   "nbconvert_exporter": "python",
   "pygments_lexer": "ipython3",
   "version": "3.8.0"
  }
 },
 "nbformat": 4,
 "nbformat_minor": 4
}
