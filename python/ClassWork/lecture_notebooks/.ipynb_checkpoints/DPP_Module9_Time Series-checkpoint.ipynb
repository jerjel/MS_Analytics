{
 "cells": [
  {
   "cell_type": "markdown",
   "metadata": {},
   "source": [
    "# Data Programming in Python | BAIS:6040\n",
    "# Time Series Analysis\n",
    "\n",
    "Instructor: Jeff Hendricks\n",
    "\n",
    "Topics to be covered:\n",
    "- Analyzing time series data\n",
    "- Adding lag features and rolling statistics for time series data\n",
    "- Time series stationarity & decomposition\n",
    "\n",
    "References: \n",
    "- Python for Finance (https://learning.oreilly.com/library/view/python-for-finance/9781492024323/)\n",
    "- How to Check if Time Series Data is Stationary with Python by Jason Brownlee (https://machinelearningmastery.com/time-series-data-stationary-python/)\n",
    "\n",
    "- How to Decompose Time Series Data into Trend and Seasonality by Jason Brownlee (https://machinelearningmastery.com/decompose-time-series-data-trend-seasonality/)"
   ]
  },
  {
   "cell_type": "code",
   "execution_count": 1,
   "metadata": {},
   "outputs": [
    {
     "data": {
      "text/html": [
       "<div>\n",
       "<style scoped>\n",
       "    .dataframe tbody tr th:only-of-type {\n",
       "        vertical-align: middle;\n",
       "    }\n",
       "\n",
       "    .dataframe tbody tr th {\n",
       "        vertical-align: top;\n",
       "    }\n",
       "\n",
       "    .dataframe thead th {\n",
       "        text-align: right;\n",
       "    }\n",
       "</style>\n",
       "<table border=\"1\" class=\"dataframe\">\n",
       "  <thead>\n",
       "    <tr style=\"text-align: right;\">\n",
       "      <th></th>\n",
       "      <th>Open</th>\n",
       "      <th>High</th>\n",
       "      <th>Low</th>\n",
       "      <th>Close</th>\n",
       "      <th>AdjClose</th>\n",
       "      <th>Volume</th>\n",
       "    </tr>\n",
       "    <tr>\n",
       "      <th>Date</th>\n",
       "      <th></th>\n",
       "      <th></th>\n",
       "      <th></th>\n",
       "      <th></th>\n",
       "      <th></th>\n",
       "      <th></th>\n",
       "    </tr>\n",
       "  </thead>\n",
       "  <tbody>\n",
       "    <tr>\n",
       "      <th>2016-01-04</th>\n",
       "      <td>43.810001</td>\n",
       "      <td>44.070000</td>\n",
       "      <td>43.279999</td>\n",
       "      <td>44.040001</td>\n",
       "      <td>35.991669</td>\n",
       "      <td>1816200</td>\n",
       "    </tr>\n",
       "    <tr>\n",
       "      <th>2016-01-05</th>\n",
       "      <td>43.790001</td>\n",
       "      <td>44.299999</td>\n",
       "      <td>43.590000</td>\n",
       "      <td>44.139999</td>\n",
       "      <td>36.073399</td>\n",
       "      <td>1487100</td>\n",
       "    </tr>\n",
       "    <tr>\n",
       "      <th>2016-01-06</th>\n",
       "      <td>43.200001</td>\n",
       "      <td>43.330002</td>\n",
       "      <td>42.040001</td>\n",
       "      <td>42.320000</td>\n",
       "      <td>34.585995</td>\n",
       "      <td>2110400</td>\n",
       "    </tr>\n",
       "    <tr>\n",
       "      <th>2016-01-07</th>\n",
       "      <td>41.299999</td>\n",
       "      <td>41.650002</td>\n",
       "      <td>40.099998</td>\n",
       "      <td>40.230000</td>\n",
       "      <td>32.877945</td>\n",
       "      <td>2936200</td>\n",
       "    </tr>\n",
       "    <tr>\n",
       "      <th>2016-01-08</th>\n",
       "      <td>40.720001</td>\n",
       "      <td>41.119999</td>\n",
       "      <td>40.040001</td>\n",
       "      <td>40.139999</td>\n",
       "      <td>32.804390</td>\n",
       "      <td>3309300</td>\n",
       "    </tr>\n",
       "  </tbody>\n",
       "</table>\n",
       "</div>"
      ],
      "text/plain": [
       "                 Open       High        Low      Close   AdjClose   Volume\n",
       "Date                                                                      \n",
       "2016-01-04  43.810001  44.070000  43.279999  44.040001  35.991669  1816200\n",
       "2016-01-05  43.790001  44.299999  43.590000  44.139999  36.073399  1487100\n",
       "2016-01-06  43.200001  43.330002  42.040001  42.320000  34.585995  2110400\n",
       "2016-01-07  41.299999  41.650002  40.099998  40.230000  32.877945  2936200\n",
       "2016-01-08  40.720001  41.119999  40.040001  40.139999  32.804390  3309300"
      ]
     },
     "execution_count": 1,
     "metadata": {},
     "output_type": "execute_result"
    }
   ],
   "source": [
    "import pandas as pd\n",
    "import numpy as np\n",
    "import matplotlib.pyplot as plt\n",
    "\n",
    "pfg_data = pd.read_csv('../../Data/PFG.csv',header=0, index_col=0, parse_dates=True)\n",
    "pfg_data.columns = ['Open','High','Low','Close','AdjClose','Volume']\n",
    "\n",
    "pfg_data.head()"
   ]
  },
  {
   "cell_type": "code",
   "execution_count": 3,
   "metadata": {},
   "outputs": [
    {
     "name": "stdout",
     "output_type": "stream",
     "text": [
      "Defaulting to user installation because normal site-packages is not writeable\n",
      "Requirement already satisfied: pandas-datareader in /usr/local/lib/python3.8/dist-packages (0.9.0)\n",
      "Requirement already satisfied: pandas>=0.23 in /home/jerjacob/.local/lib/python3.8/site-packages (from pandas-datareader) (1.3.3)\n",
      "Requirement already satisfied: lxml in /usr/local/lib/python3.8/dist-packages (from pandas-datareader) (4.6.3)\n",
      "Requirement already satisfied: requests>=2.19.0 in /usr/local/lib/python3.8/dist-packages (from pandas-datareader) (2.25.1)\n",
      "Requirement already satisfied: numpy>=1.17.3 in /home/jerjacob/.local/lib/python3.8/site-packages (from pandas>=0.23->pandas-datareader) (1.21.2)\n",
      "Requirement already satisfied: python-dateutil>=2.7.3 in /usr/local/lib/python3.8/dist-packages (from pandas>=0.23->pandas-datareader) (2.8.1)\n",
      "Requirement already satisfied: pytz>=2017.3 in /usr/local/lib/python3.8/dist-packages (from pandas>=0.23->pandas-datareader) (2021.1)\n",
      "Requirement already satisfied: six>=1.5 in /home/jerjacob/.local/lib/python3.8/site-packages (from python-dateutil>=2.7.3->pandas>=0.23->pandas-datareader) (1.15.0)\n",
      "Requirement already satisfied: chardet<5,>=3.0.2 in /usr/lib/python3/dist-packages (from requests>=2.19.0->pandas-datareader) (3.0.4)\n",
      "Requirement already satisfied: idna<3,>=2.5 in /usr/lib/python3/dist-packages (from requests>=2.19.0->pandas-datareader) (2.6)\n",
      "Requirement already satisfied: urllib3<1.27,>=1.21.1 in /usr/local/lib/python3.8/dist-packages (from requests>=2.19.0->pandas-datareader) (1.26.4)\n",
      "Requirement already satisfied: certifi>=2017.4.17 in /usr/local/lib/python3.8/dist-packages (from requests>=2.19.0->pandas-datareader) (2020.12.5)\n",
      "\u001b[33mWARNING: You are using pip version 21.1.1; however, version 21.3 is available.\n",
      "You should consider upgrading via the '/usr/bin/python3 -m pip install --upgrade pip' command.\u001b[0m\n"
     ]
    }
   ],
   "source": [
    "# !pip install pandas-datareader"
   ]
  },
  {
   "cell_type": "code",
   "execution_count": 4,
   "metadata": {},
   "outputs": [
    {
     "name": "stdout",
     "output_type": "stream",
     "text": [
      "Defaulting to user installation because normal site-packages is not writeable\n",
      "Requirement already satisfied: yfinance in /usr/local/lib/python3.8/dist-packages (0.1.63)\n",
      "Collecting yfinance\n",
      "  Downloading yfinance-0.1.64.tar.gz (26 kB)\n",
      "Requirement already satisfied: pandas>=0.24 in /home/jerjacob/.local/lib/python3.8/site-packages (from yfinance) (1.3.3)\n",
      "Requirement already satisfied: numpy>=1.15 in /home/jerjacob/.local/lib/python3.8/site-packages (from yfinance) (1.21.2)\n",
      "Requirement already satisfied: requests>=2.20 in /usr/local/lib/python3.8/dist-packages (from yfinance) (2.25.1)\n",
      "Requirement already satisfied: multitasking>=0.0.7 in /usr/local/lib/python3.8/dist-packages (from yfinance) (0.0.9)\n",
      "Requirement already satisfied: lxml>=4.5.1 in /usr/local/lib/python3.8/dist-packages (from yfinance) (4.6.3)\n",
      "Requirement already satisfied: pytz>=2017.3 in /usr/local/lib/python3.8/dist-packages (from pandas>=0.24->yfinance) (2021.1)\n",
      "Requirement already satisfied: python-dateutil>=2.7.3 in /usr/local/lib/python3.8/dist-packages (from pandas>=0.24->yfinance) (2.8.1)\n",
      "Requirement already satisfied: six>=1.5 in /home/jerjacob/.local/lib/python3.8/site-packages (from python-dateutil>=2.7.3->pandas>=0.24->yfinance) (1.15.0)\n",
      "Requirement already satisfied: certifi>=2017.4.17 in /usr/local/lib/python3.8/dist-packages (from requests>=2.20->yfinance) (2020.12.5)\n",
      "Requirement already satisfied: urllib3<1.27,>=1.21.1 in /usr/local/lib/python3.8/dist-packages (from requests>=2.20->yfinance) (1.26.4)\n",
      "Requirement already satisfied: idna<3,>=2.5 in /usr/lib/python3/dist-packages (from requests>=2.20->yfinance) (2.6)\n",
      "Requirement already satisfied: chardet<5,>=3.0.2 in /usr/lib/python3/dist-packages (from requests>=2.20->yfinance) (3.0.4)\n",
      "Building wheels for collected packages: yfinance\n",
      "  Building wheel for yfinance (setup.py) ... \u001b[?25ldone\n",
      "\u001b[?25h  Created wheel for yfinance: filename=yfinance-0.1.64-py2.py3-none-any.whl size=24109 sha256=7fff12096ce4c7e8104996b3d6ff7bb824b43958d3282e07e1dfce38733b1e0d\n",
      "  Stored in directory: /tmp/pip-ephem-wheel-cache-1tzuw3wx/wheels/f9/e9/7e/8b13db3bf3aeb5049d759e10702736fb96753089ac950fddc0\n",
      "Successfully built yfinance\n",
      "Installing collected packages: yfinance\n",
      "\u001b[33m  WARNING: The script sample is installed in '/home/jerjacob/.local/bin' which is not on PATH.\n",
      "  Consider adding this directory to PATH or, if you prefer to suppress this warning, use --no-warn-script-location.\u001b[0m\n",
      "Successfully installed yfinance-0.1.64\n",
      "\u001b[33mWARNING: You are using pip version 21.1.1; however, version 21.3 is available.\n",
      "You should consider upgrading via the '/usr/bin/python3 -m pip install --upgrade pip' command.\u001b[0m\n"
     ]
    }
   ],
   "source": [
    "# !pip install yfinance --upgrade --no-cache-dir"
   ]
  },
  {
   "cell_type": "code",
   "execution_count": 5,
   "metadata": {},
   "outputs": [
    {
     "name": "stdout",
     "output_type": "stream",
     "text": [
      "[*********************100%***********************]  1 of 1 completed\n"
     ]
    },
    {
     "data": {
      "text/html": [
       "<div>\n",
       "<style scoped>\n",
       "    .dataframe tbody tr th:only-of-type {\n",
       "        vertical-align: middle;\n",
       "    }\n",
       "\n",
       "    .dataframe tbody tr th {\n",
       "        vertical-align: top;\n",
       "    }\n",
       "\n",
       "    .dataframe thead th {\n",
       "        text-align: right;\n",
       "    }\n",
       "</style>\n",
       "<table border=\"1\" class=\"dataframe\">\n",
       "  <thead>\n",
       "    <tr style=\"text-align: right;\">\n",
       "      <th></th>\n",
       "      <th>Open</th>\n",
       "      <th>High</th>\n",
       "      <th>Low</th>\n",
       "      <th>Close</th>\n",
       "      <th>AdjClose</th>\n",
       "      <th>Volume</th>\n",
       "    </tr>\n",
       "    <tr>\n",
       "      <th>Date</th>\n",
       "      <th></th>\n",
       "      <th></th>\n",
       "      <th></th>\n",
       "      <th></th>\n",
       "      <th></th>\n",
       "      <th></th>\n",
       "    </tr>\n",
       "  </thead>\n",
       "  <tbody>\n",
       "    <tr>\n",
       "      <th>2001-10-23</th>\n",
       "      <td>20.500000</td>\n",
       "      <td>21.389999</td>\n",
       "      <td>20.40</td>\n",
       "      <td>21.000000</td>\n",
       "      <td>12.788091</td>\n",
       "      <td>32584000</td>\n",
       "    </tr>\n",
       "    <tr>\n",
       "      <th>2001-10-24</th>\n",
       "      <td>21.100000</td>\n",
       "      <td>22.200001</td>\n",
       "      <td>21.00</td>\n",
       "      <td>22.150000</td>\n",
       "      <td>13.488385</td>\n",
       "      <td>5847500</td>\n",
       "    </tr>\n",
       "    <tr>\n",
       "      <th>2001-10-25</th>\n",
       "      <td>22.000000</td>\n",
       "      <td>22.150000</td>\n",
       "      <td>21.65</td>\n",
       "      <td>21.950001</td>\n",
       "      <td>13.366595</td>\n",
       "      <td>2038800</td>\n",
       "    </tr>\n",
       "    <tr>\n",
       "      <th>2001-10-26</th>\n",
       "      <td>21.950001</td>\n",
       "      <td>22.000000</td>\n",
       "      <td>21.40</td>\n",
       "      <td>21.500000</td>\n",
       "      <td>13.092569</td>\n",
       "      <td>3339100</td>\n",
       "    </tr>\n",
       "    <tr>\n",
       "      <th>2001-10-29</th>\n",
       "      <td>22.000000</td>\n",
       "      <td>22.000000</td>\n",
       "      <td>21.00</td>\n",
       "      <td>21.200001</td>\n",
       "      <td>12.909878</td>\n",
       "      <td>1758700</td>\n",
       "    </tr>\n",
       "  </tbody>\n",
       "</table>\n",
       "</div>"
      ],
      "text/plain": [
       "                 Open       High    Low      Close   AdjClose    Volume\n",
       "Date                                                                   \n",
       "2001-10-23  20.500000  21.389999  20.40  21.000000  12.788091  32584000\n",
       "2001-10-24  21.100000  22.200001  21.00  22.150000  13.488385   5847500\n",
       "2001-10-25  22.000000  22.150000  21.65  21.950001  13.366595   2038800\n",
       "2001-10-26  21.950001  22.000000  21.40  21.500000  13.092569   3339100\n",
       "2001-10-29  22.000000  22.000000  21.00  21.200001  12.909878   1758700"
      ]
     },
     "execution_count": 5,
     "metadata": {},
     "output_type": "execute_result"
    }
   ],
   "source": [
    "import pandas_datareader.data as pdr\n",
    "import yfinance as yf\n",
    "\n",
    "yf.pdr_override()\n",
    "pfg_data = pdr.get_data_yahoo('PFG')#, start, end)\n",
    "\n",
    "pfg_data.columns = ['Open','High','Low','Close','AdjClose','Volume']\n",
    "\n",
    "pfg_data.head()"
   ]
  },
  {
   "cell_type": "code",
   "execution_count": 7,
   "metadata": {
    "scrolled": false
   },
   "outputs": [
    {
     "data": {
      "image/png": "[encoded data removed]",
      "text/plain": [
       "<Figure size 720x864 with 6 Axes>"
      ]
     },
     "metadata": {
      "needs_background": "light"
     },
     "output_type": "display_data"
    }
   ],
   "source": [
    "pfg_data.plot(figsize=(10,12), subplots=True)\n",
    "plt.show()"
   ]
  },
  {
   "cell_type": "code",
   "execution_count": 9,
   "metadata": {},
   "outputs": [
    {
     "data": {
      "text/html": [
       "<div>\n",
       "<style scoped>\n",
       "    .dataframe tbody tr th:only-of-type {\n",
       "        vertical-align: middle;\n",
       "    }\n",
       "\n",
       "    .dataframe tbody tr th {\n",
       "        vertical-align: top;\n",
       "    }\n",
       "\n",
       "    .dataframe thead th {\n",
       "        text-align: right;\n",
       "    }\n",
       "</style>\n",
       "<table border=\"1\" class=\"dataframe\">\n",
       "  <thead>\n",
       "    <tr style=\"text-align: right;\">\n",
       "      <th></th>\n",
       "      <th>Open</th>\n",
       "      <th>High</th>\n",
       "      <th>Low</th>\n",
       "      <th>Close</th>\n",
       "      <th>AdjClose</th>\n",
       "      <th>Volume</th>\n",
       "    </tr>\n",
       "  </thead>\n",
       "  <tbody>\n",
       "    <tr>\n",
       "      <th>count</th>\n",
       "      <td>5035.000000</td>\n",
       "      <td>5035.000000</td>\n",
       "      <td>5035.000000</td>\n",
       "      <td>5035.000000</td>\n",
       "      <td>5035.000000</td>\n",
       "      <td>5.035000e+03</td>\n",
       "    </tr>\n",
       "    <tr>\n",
       "      <th>mean</th>\n",
       "      <td>42.749782</td>\n",
       "      <td>43.247978</td>\n",
       "      <td>42.244226</td>\n",
       "      <td>42.755639</td>\n",
       "      <td>32.474511</td>\n",
       "      <td>1.825204e+06</td>\n",
       "    </tr>\n",
       "    <tr>\n",
       "      <th>std</th>\n",
       "      <td>14.155480</td>\n",
       "      <td>14.185238</td>\n",
       "      <td>14.130019</td>\n",
       "      <td>14.150958</td>\n",
       "      <td>13.796936</td>\n",
       "      <td>1.716700e+06</td>\n",
       "    </tr>\n",
       "    <tr>\n",
       "      <th>min</th>\n",
       "      <td>5.730000</td>\n",
       "      <td>6.490000</td>\n",
       "      <td>5.410000</td>\n",
       "      <td>5.880000</td>\n",
       "      <td>3.953962</td>\n",
       "      <td>0.000000e+00</td>\n",
       "    </tr>\n",
       "    <tr>\n",
       "      <th>25%</th>\n",
       "      <td>29.469999</td>\n",
       "      <td>29.905000</td>\n",
       "      <td>29.010000</td>\n",
       "      <td>29.459999</td>\n",
       "      <td>19.940794</td>\n",
       "      <td>9.446500e+05</td>\n",
       "    </tr>\n",
       "    <tr>\n",
       "      <th>50%</th>\n",
       "      <td>43.669998</td>\n",
       "      <td>44.250000</td>\n",
       "      <td>43.169998</td>\n",
       "      <td>43.750000</td>\n",
       "      <td>32.139065</td>\n",
       "      <td>1.362300e+06</td>\n",
       "    </tr>\n",
       "    <tr>\n",
       "      <th>75%</th>\n",
       "      <td>54.125000</td>\n",
       "      <td>54.580000</td>\n",
       "      <td>53.630001</td>\n",
       "      <td>54.174999</td>\n",
       "      <td>41.307894</td>\n",
       "      <td>2.096100e+06</td>\n",
       "    </tr>\n",
       "    <tr>\n",
       "      <th>max</th>\n",
       "      <td>74.919998</td>\n",
       "      <td>75.580002</td>\n",
       "      <td>74.330002</td>\n",
       "      <td>75.040001</td>\n",
       "      <td>69.769997</td>\n",
       "      <td>3.884850e+07</td>\n",
       "    </tr>\n",
       "  </tbody>\n",
       "</table>\n",
       "</div>"
      ],
      "text/plain": [
       "              Open         High          Low        Close     AdjClose  \\\n",
       "count  5035.000000  5035.000000  5035.000000  5035.000000  5035.000000   \n",
       "mean     42.749782    43.247978    42.244226    42.755639    32.474511   \n",
       "std      14.155480    14.185238    14.130019    14.150958    13.796936   \n",
       "min       5.730000     6.490000     5.410000     5.880000     3.953962   \n",
       "25%      29.469999    29.905000    29.010000    29.459999    19.940794   \n",
       "50%      43.669998    44.250000    43.169998    43.750000    32.139065   \n",
       "75%      54.125000    54.580000    53.630001    54.174999    41.307894   \n",
       "max      74.919998    75.580002    74.330002    75.040001    69.769997   \n",
       "\n",
       "             Volume  \n",
       "count  5.035000e+03  \n",
       "mean   1.825204e+06  \n",
       "std    1.716700e+06  \n",
       "min    0.000000e+00  \n",
       "25%    9.446500e+05  \n",
       "50%    1.362300e+06  \n",
       "75%    2.096100e+06  \n",
       "max    3.884850e+07  "
      ]
     },
     "execution_count": 9,
     "metadata": {},
     "output_type": "execute_result"
    }
   ],
   "source": [
    "pfg_data.describe()"
   ]
  },
  {
   "cell_type": "code",
   "execution_count": 12,
   "metadata": {},
   "outputs": [
    {
     "data": {
      "text/html": [
       "<div>\n",
       "<style scoped>\n",
       "    .dataframe tbody tr th:only-of-type {\n",
       "        vertical-align: middle;\n",
       "    }\n",
       "\n",
       "    .dataframe tbody tr th {\n",
       "        vertical-align: top;\n",
       "    }\n",
       "\n",
       "    .dataframe thead th {\n",
       "        text-align: right;\n",
       "    }\n",
       "</style>\n",
       "<table border=\"1\" class=\"dataframe\">\n",
       "  <thead>\n",
       "    <tr style=\"text-align: right;\">\n",
       "      <th></th>\n",
       "      <th>Open</th>\n",
       "      <th>High</th>\n",
       "      <th>Low</th>\n",
       "      <th>Close</th>\n",
       "      <th>AdjClose</th>\n",
       "      <th>Volume</th>\n",
       "    </tr>\n",
       "    <tr>\n",
       "      <th>Date</th>\n",
       "      <th></th>\n",
       "      <th></th>\n",
       "      <th></th>\n",
       "      <th></th>\n",
       "      <th></th>\n",
       "      <th></th>\n",
       "    </tr>\n",
       "  </thead>\n",
       "  <tbody>\n",
       "    <tr>\n",
       "      <th>2001-10-23</th>\n",
       "      <td>NaN</td>\n",
       "      <td>NaN</td>\n",
       "      <td>NaN</td>\n",
       "      <td>NaN</td>\n",
       "      <td>NaN</td>\n",
       "      <td>NaN</td>\n",
       "    </tr>\n",
       "    <tr>\n",
       "      <th>2001-10-24</th>\n",
       "      <td>0.600000</td>\n",
       "      <td>0.810001</td>\n",
       "      <td>0.60</td>\n",
       "      <td>1.150000</td>\n",
       "      <td>0.700294</td>\n",
       "      <td>-26736500.0</td>\n",
       "    </tr>\n",
       "    <tr>\n",
       "      <th>2001-10-25</th>\n",
       "      <td>0.900000</td>\n",
       "      <td>-0.050001</td>\n",
       "      <td>0.65</td>\n",
       "      <td>-0.199999</td>\n",
       "      <td>-0.121790</td>\n",
       "      <td>-3808700.0</td>\n",
       "    </tr>\n",
       "    <tr>\n",
       "      <th>2001-10-26</th>\n",
       "      <td>-0.049999</td>\n",
       "      <td>-0.150000</td>\n",
       "      <td>-0.25</td>\n",
       "      <td>-0.450001</td>\n",
       "      <td>-0.274026</td>\n",
       "      <td>1300300.0</td>\n",
       "    </tr>\n",
       "    <tr>\n",
       "      <th>2001-10-29</th>\n",
       "      <td>0.049999</td>\n",
       "      <td>0.000000</td>\n",
       "      <td>-0.40</td>\n",
       "      <td>-0.299999</td>\n",
       "      <td>-0.182692</td>\n",
       "      <td>-1580400.0</td>\n",
       "    </tr>\n",
       "  </tbody>\n",
       "</table>\n",
       "</div>"
      ],
      "text/plain": [
       "                Open      High   Low     Close  AdjClose      Volume\n",
       "Date                                                                \n",
       "2001-10-23       NaN       NaN   NaN       NaN       NaN         NaN\n",
       "2001-10-24  0.600000  0.810001  0.60  1.150000  0.700294 -26736500.0\n",
       "2001-10-25  0.900000 -0.050001  0.65 -0.199999 -0.121790  -3808700.0\n",
       "2001-10-26 -0.049999 -0.150000 -0.25 -0.450001 -0.274026   1300300.0\n",
       "2001-10-29  0.049999  0.000000 -0.40 -0.299999 -0.182692  -1580400.0"
      ]
     },
     "execution_count": 12,
     "metadata": {},
     "output_type": "execute_result"
    }
   ],
   "source": [
    "# diff() provides absolute changes between two values\n",
    "pfg_data.diff().head()"
   ]
  },
  {
   "cell_type": "code",
   "execution_count": 13,
   "metadata": {},
   "outputs": [
    {
     "data": {
      "text/plain": [
       "Open           0.009720\n",
       "High           0.009627\n",
       "Low            0.009587\n",
       "Close          0.009537\n",
       "AdjClose       0.011168\n",
       "Volume     -6261.155940\n",
       "dtype: float64"
      ]
     },
     "execution_count": 13,
     "metadata": {},
     "output_type": "execute_result"
    }
   ],
   "source": [
    "pfg_data.diff().mean()"
   ]
  },
  {
   "cell_type": "code",
   "execution_count": 14,
   "metadata": {
    "scrolled": false
   },
   "outputs": [
    {
     "data": {
      "text/html": [
       "<div>\n",
       "<style scoped>\n",
       "    .dataframe tbody tr th:only-of-type {\n",
       "        vertical-align: middle;\n",
       "    }\n",
       "\n",
       "    .dataframe tbody tr th {\n",
       "        vertical-align: top;\n",
       "    }\n",
       "\n",
       "    .dataframe thead th {\n",
       "        text-align: right;\n",
       "    }\n",
       "</style>\n",
       "<table border=\"1\" class=\"dataframe\">\n",
       "  <thead>\n",
       "    <tr style=\"text-align: right;\">\n",
       "      <th></th>\n",
       "      <th>Open</th>\n",
       "      <th>High</th>\n",
       "      <th>Low</th>\n",
       "      <th>Close</th>\n",
       "      <th>AdjClose</th>\n",
       "      <th>Volume</th>\n",
       "    </tr>\n",
       "    <tr>\n",
       "      <th>Date</th>\n",
       "      <th></th>\n",
       "      <th></th>\n",
       "      <th></th>\n",
       "      <th></th>\n",
       "      <th></th>\n",
       "      <th></th>\n",
       "    </tr>\n",
       "  </thead>\n",
       "  <tbody>\n",
       "    <tr>\n",
       "      <th>2001-10-23</th>\n",
       "      <td>NaN</td>\n",
       "      <td>NaN</td>\n",
       "      <td>NaN</td>\n",
       "      <td>NaN</td>\n",
       "      <td>NaN</td>\n",
       "      <td>NaN</td>\n",
       "    </tr>\n",
       "    <tr>\n",
       "      <th>2001-10-24</th>\n",
       "      <td>0.029</td>\n",
       "      <td>0.038</td>\n",
       "      <td>0.029</td>\n",
       "      <td>0.055</td>\n",
       "      <td>0.055</td>\n",
       "      <td>-0.821</td>\n",
       "    </tr>\n",
       "    <tr>\n",
       "      <th>2001-10-25</th>\n",
       "      <td>0.043</td>\n",
       "      <td>-0.002</td>\n",
       "      <td>0.031</td>\n",
       "      <td>-0.009</td>\n",
       "      <td>-0.009</td>\n",
       "      <td>-0.651</td>\n",
       "    </tr>\n",
       "    <tr>\n",
       "      <th>2001-10-26</th>\n",
       "      <td>-0.002</td>\n",
       "      <td>-0.007</td>\n",
       "      <td>-0.012</td>\n",
       "      <td>-0.021</td>\n",
       "      <td>-0.021</td>\n",
       "      <td>0.638</td>\n",
       "    </tr>\n",
       "    <tr>\n",
       "      <th>2001-10-29</th>\n",
       "      <td>0.002</td>\n",
       "      <td>0.000</td>\n",
       "      <td>-0.019</td>\n",
       "      <td>-0.014</td>\n",
       "      <td>-0.014</td>\n",
       "      <td>-0.473</td>\n",
       "    </tr>\n",
       "  </tbody>\n",
       "</table>\n",
       "</div>"
      ],
      "text/plain": [
       "             Open   High    Low  Close  AdjClose  Volume\n",
       "Date                                                    \n",
       "2001-10-23    NaN    NaN    NaN    NaN       NaN     NaN\n",
       "2001-10-24  0.029  0.038  0.029  0.055     0.055  -0.821\n",
       "2001-10-25  0.043 -0.002  0.031 -0.009    -0.009  -0.651\n",
       "2001-10-26 -0.002 -0.007 -0.012 -0.021    -0.021   0.638\n",
       "2001-10-29  0.002  0.000 -0.019 -0.014    -0.014  -0.473"
      ]
     },
     "execution_count": 14,
     "metadata": {},
     "output_type": "execute_result"
    }
   ],
   "source": [
    "# percent changes rounded to 3 decimal places\n",
    "pfg_data.pct_change().round(3).head()"
   ]
  },
  {
   "cell_type": "code",
   "execution_count": 15,
   "metadata": {
    "scrolled": false
   },
   "outputs": [
    {
     "data": {
      "image/png": "[encoded data removed]",
      "text/plain": [
       "<Figure size 720x432 with 1 Axes>"
      ]
     },
     "metadata": {
      "needs_background": "light"
     },
     "output_type": "display_data"
    }
   ],
   "source": [
    "# mean value of percent changes as bar plot\n",
    "\n",
    "pfg_data[['Open','High','Low','Close','AdjClose']].pct_change().mean().plot(kind='bar', figsize=(10,6))\n",
    "plt.show()"
   ]
  },
  {
   "cell_type": "code",
   "execution_count": 16,
   "metadata": {},
   "outputs": [
    {
     "data": {
      "text/plain": [
       "Date\n",
       "2001-10-23    12.788091\n",
       "2001-10-24    13.488385\n",
       "2001-10-25    13.366595\n",
       "2001-10-26    13.092569\n",
       "2001-10-29    12.909878\n",
       "                ...    \n",
       "2021-10-15    68.650002\n",
       "2021-10-18    68.610001\n",
       "2021-10-19    69.029999\n",
       "2021-10-20    69.769997\n",
       "2021-10-21    69.010002\n",
       "Name: AdjClose, Length: 5035, dtype: float64"
      ]
     },
     "execution_count": 16,
     "metadata": {},
     "output_type": "execute_result"
    }
   ],
   "source": [
    "pfg_data.AdjClose"
   ]
  },
  {
   "cell_type": "code",
   "execution_count": 17,
   "metadata": {
    "scrolled": true
   },
   "outputs": [
    {
     "data": {
      "text/plain": [
       "Date\n",
       "2001-10-23          NaN\n",
       "2001-10-24    12.788091\n",
       "2001-10-25    13.488385\n",
       "2001-10-26    13.366595\n",
       "2001-10-29    13.092569\n",
       "                ...    \n",
       "2021-10-15    68.430000\n",
       "2021-10-18    68.650002\n",
       "2021-10-19    68.610001\n",
       "2021-10-20    69.029999\n",
       "2021-10-21    69.769997\n",
       "Name: AdjClose, Length: 5035, dtype: float64"
      ]
     },
     "execution_count": 17,
     "metadata": {},
     "output_type": "execute_result"
    }
   ],
   "source": [
    "# shift() provides a lag value for a given index\n",
    "pfg_data.AdjClose.shift(1)"
   ]
  },
  {
   "cell_type": "code",
   "execution_count": 18,
   "metadata": {},
   "outputs": [
    {
     "data": {
      "text/plain": [
       "Date\n",
       "2021-10-15    68.650002\n",
       "2021-10-18    68.610001\n",
       "2021-10-19    69.029999\n",
       "2021-10-20    69.769997\n",
       "2021-10-21    69.010002\n",
       "Name: AdjClose, dtype: float64"
      ]
     },
     "execution_count": 18,
     "metadata": {},
     "output_type": "execute_result"
    }
   ],
   "source": [
    "pfg_data.AdjClose.tail()"
   ]
  },
  {
   "cell_type": "code",
   "execution_count": 20,
   "metadata": {
    "scrolled": true
   },
   "outputs": [
    {
     "data": {
      "text/plain": [
       "Date\n",
       "2001-10-23    13.488385\n",
       "2001-10-24    13.366595\n",
       "2001-10-25    13.092569\n",
       "2001-10-26    12.909878\n",
       "2001-10-29    13.421406\n",
       "                ...    \n",
       "2021-10-15    68.610001\n",
       "2021-10-18    69.029999\n",
       "2021-10-19    69.769997\n",
       "2021-10-20    69.010002\n",
       "2021-10-21          NaN\n",
       "Name: AdjClose, Length: 5035, dtype: float64"
      ]
     },
     "execution_count": 20,
     "metadata": {},
     "output_type": "execute_result"
    }
   ],
   "source": [
    "# using a -1 in shift provides a look-ahead value for a given index\n",
    "pfg_data.AdjClose.shift(-1)"
   ]
  },
  {
   "cell_type": "code",
   "execution_count": 21,
   "metadata": {},
   "outputs": [
    {
     "data": {
      "text/plain": [
       "Date\n",
       "2001-10-23         NaN\n",
       "2001-10-24    0.053315\n",
       "2001-10-25   -0.009070\n",
       "2001-10-26   -0.020714\n",
       "2001-10-29   -0.014052\n",
       "Name: AdjClose, dtype: float64"
      ]
     },
     "execution_count": 21,
     "metadata": {},
     "output_type": "execute_result"
    }
   ],
   "source": [
    "# log returns\n",
    "\n",
    "rets = np.log(pfg_data.AdjClose/pfg_data.AdjClose.shift(1))\n",
    "rets.head()"
   ]
  },
  {
   "cell_type": "code",
   "execution_count": 22,
   "metadata": {},
   "outputs": [
    {
     "data": {
      "image/png": "[encoded data removed]",
      "text/plain": [
       "<Figure size 720x432 with 1 Axes>"
      ]
     },
     "metadata": {
      "needs_background": "light"
     },
     "output_type": "display_data"
    }
   ],
   "source": [
    "# cumulative log returns over time\n",
    "# np.exp needed to convert from log returns\n",
    "rets.cumsum().apply(np.exp).plot(figsize=(10,6))\n",
    "plt.show()"
   ]
  },
  {
   "cell_type": "markdown",
   "metadata": {},
   "source": [
    "### Resampling\n",
    "- https://pandas.pydata.org/pandas-docs/stable/reference/api/pandas.DataFrame.resample.html\n",
    "- https://pandas.pydata.org/pandas-docs/stable/reference/api/pandas.DataFrame.last.html"
   ]
  },
  {
   "cell_type": "code",
   "execution_count": 23,
   "metadata": {
    "scrolled": true
   },
   "outputs": [
    {
     "data": {
      "text/html": [
       "<div>\n",
       "<style scoped>\n",
       "    .dataframe tbody tr th:only-of-type {\n",
       "        vertical-align: middle;\n",
       "    }\n",
       "\n",
       "    .dataframe tbody tr th {\n",
       "        vertical-align: top;\n",
       "    }\n",
       "\n",
       "    .dataframe thead th {\n",
       "        text-align: right;\n",
       "    }\n",
       "</style>\n",
       "<table border=\"1\" class=\"dataframe\">\n",
       "  <thead>\n",
       "    <tr style=\"text-align: right;\">\n",
       "      <th></th>\n",
       "      <th>Open</th>\n",
       "      <th>High</th>\n",
       "      <th>Low</th>\n",
       "      <th>Close</th>\n",
       "      <th>AdjClose</th>\n",
       "      <th>Volume</th>\n",
       "    </tr>\n",
       "    <tr>\n",
       "      <th>Date</th>\n",
       "      <th></th>\n",
       "      <th></th>\n",
       "      <th></th>\n",
       "      <th></th>\n",
       "      <th></th>\n",
       "      <th></th>\n",
       "    </tr>\n",
       "  </thead>\n",
       "  <tbody>\n",
       "    <tr>\n",
       "      <th>2001-10-28</th>\n",
       "      <td>21.950001</td>\n",
       "      <td>22.000000</td>\n",
       "      <td>21.400000</td>\n",
       "      <td>21.500000</td>\n",
       "      <td>13.092569</td>\n",
       "      <td>3339100</td>\n",
       "    </tr>\n",
       "    <tr>\n",
       "      <th>2001-11-04</th>\n",
       "      <td>22.100000</td>\n",
       "      <td>22.250000</td>\n",
       "      <td>21.950001</td>\n",
       "      <td>22.180000</td>\n",
       "      <td>13.506656</td>\n",
       "      <td>1183800</td>\n",
       "    </tr>\n",
       "    <tr>\n",
       "      <th>2001-11-11</th>\n",
       "      <td>21.500000</td>\n",
       "      <td>21.770000</td>\n",
       "      <td>21.500000</td>\n",
       "      <td>21.600000</td>\n",
       "      <td>13.153460</td>\n",
       "      <td>1601000</td>\n",
       "    </tr>\n",
       "    <tr>\n",
       "      <th>2001-11-18</th>\n",
       "      <td>22.000000</td>\n",
       "      <td>22.879999</td>\n",
       "      <td>21.980000</td>\n",
       "      <td>22.250000</td>\n",
       "      <td>13.549286</td>\n",
       "      <td>1851600</td>\n",
       "    </tr>\n",
       "    <tr>\n",
       "      <th>2001-11-25</th>\n",
       "      <td>22.879999</td>\n",
       "      <td>22.879999</td>\n",
       "      <td>22.200001</td>\n",
       "      <td>22.379999</td>\n",
       "      <td>13.628445</td>\n",
       "      <td>328800</td>\n",
       "    </tr>\n",
       "  </tbody>\n",
       "</table>\n",
       "</div>"
      ],
      "text/plain": [
       "                 Open       High        Low      Close   AdjClose   Volume\n",
       "Date                                                                      \n",
       "2001-10-28  21.950001  22.000000  21.400000  21.500000  13.092569  3339100\n",
       "2001-11-04  22.100000  22.250000  21.950001  22.180000  13.506656  1183800\n",
       "2001-11-11  21.500000  21.770000  21.500000  21.600000  13.153460  1601000\n",
       "2001-11-18  22.000000  22.879999  21.980000  22.250000  13.549286  1851600\n",
       "2001-11-25  22.879999  22.879999  22.200001  22.379999  13.628445   328800"
      ]
     },
     "execution_count": 23,
     "metadata": {},
     "output_type": "execute_result"
    }
   ],
   "source": [
    "# last() select final periods of time series data based on a date offset.\n",
    "# downsample to 1 week\n",
    "\n",
    "pfg_data.resample('1w', label='right').last().head()"
   ]
  },
  {
   "cell_type": "code",
   "execution_count": 24,
   "metadata": {
    "scrolled": true
   },
   "outputs": [
    {
     "data": {
      "text/html": [
       "<div>\n",
       "<style scoped>\n",
       "    .dataframe tbody tr th:only-of-type {\n",
       "        vertical-align: middle;\n",
       "    }\n",
       "\n",
       "    .dataframe tbody tr th {\n",
       "        vertical-align: top;\n",
       "    }\n",
       "\n",
       "    .dataframe thead th {\n",
       "        text-align: right;\n",
       "    }\n",
       "</style>\n",
       "<table border=\"1\" class=\"dataframe\">\n",
       "  <thead>\n",
       "    <tr style=\"text-align: right;\">\n",
       "      <th></th>\n",
       "      <th>Open</th>\n",
       "      <th>High</th>\n",
       "      <th>Low</th>\n",
       "      <th>Close</th>\n",
       "      <th>AdjClose</th>\n",
       "      <th>Volume</th>\n",
       "    </tr>\n",
       "    <tr>\n",
       "      <th>Date</th>\n",
       "      <th></th>\n",
       "      <th></th>\n",
       "      <th></th>\n",
       "      <th></th>\n",
       "      <th></th>\n",
       "      <th></th>\n",
       "    </tr>\n",
       "  </thead>\n",
       "  <tbody>\n",
       "    <tr>\n",
       "      <th>2001-10-31</th>\n",
       "      <td>22.40</td>\n",
       "      <td>23.990000</td>\n",
       "      <td>21.950001</td>\n",
       "      <td>22.500000</td>\n",
       "      <td>13.701522</td>\n",
       "      <td>5101800</td>\n",
       "    </tr>\n",
       "    <tr>\n",
       "      <th>2001-11-30</th>\n",
       "      <td>22.90</td>\n",
       "      <td>23.000000</td>\n",
       "      <td>22.700001</td>\n",
       "      <td>22.950001</td>\n",
       "      <td>13.975560</td>\n",
       "      <td>2255100</td>\n",
       "    </tr>\n",
       "    <tr>\n",
       "      <th>2001-12-31</th>\n",
       "      <td>23.60</td>\n",
       "      <td>24.049999</td>\n",
       "      <td>23.549999</td>\n",
       "      <td>24.000000</td>\n",
       "      <td>14.614963</td>\n",
       "      <td>1596000</td>\n",
       "    </tr>\n",
       "    <tr>\n",
       "      <th>2002-01-31</th>\n",
       "      <td>25.58</td>\n",
       "      <td>25.580000</td>\n",
       "      <td>25.000000</td>\n",
       "      <td>25.450001</td>\n",
       "      <td>15.497943</td>\n",
       "      <td>2352100</td>\n",
       "    </tr>\n",
       "    <tr>\n",
       "      <th>2002-02-28</th>\n",
       "      <td>24.75</td>\n",
       "      <td>24.980000</td>\n",
       "      <td>24.000000</td>\n",
       "      <td>24.360001</td>\n",
       "      <td>14.834186</td>\n",
       "      <td>1467600</td>\n",
       "    </tr>\n",
       "  </tbody>\n",
       "</table>\n",
       "</div>"
      ],
      "text/plain": [
       "             Open       High        Low      Close   AdjClose   Volume\n",
       "Date                                                                  \n",
       "2001-10-31  22.40  23.990000  21.950001  22.500000  13.701522  5101800\n",
       "2001-11-30  22.90  23.000000  22.700001  22.950001  13.975560  2255100\n",
       "2001-12-31  23.60  24.049999  23.549999  24.000000  14.614963  1596000\n",
       "2002-01-31  25.58  25.580000  25.000000  25.450001  15.497943  2352100\n",
       "2002-02-28  24.75  24.980000  24.000000  24.360001  14.834186  1467600"
      ]
     },
     "execution_count": 24,
     "metadata": {},
     "output_type": "execute_result"
    }
   ],
   "source": [
    "# downsample to 1 month\n",
    "\n",
    "pfg_data.resample('1m', label='right').last().head()"
   ]
  },
  {
   "cell_type": "code",
   "execution_count": 25,
   "metadata": {
    "scrolled": false
   },
   "outputs": [
    {
     "data": {
      "image/png": "[encoded data removed]",
      "text/plain": [
       "<Figure size 720x432 with 1 Axes>"
      ]
     },
     "metadata": {
      "needs_background": "light"
     },
     "output_type": "display_data"
    }
   ],
   "source": [
    "# cumulative monthly returns\n",
    "\n",
    "rets.cumsum().apply(np.exp).resample('1m', label='right').last().plot(figsize=(10,6))\n",
    "plt.show()"
   ]
  },
  {
   "cell_type": "markdown",
   "metadata": {},
   "source": [
    "## Adding Lag Features to Time Series"
   ]
  },
  {
   "cell_type": "code",
   "execution_count": 26,
   "metadata": {},
   "outputs": [
    {
     "data": {
      "text/html": [
       "<div>\n",
       "<style scoped>\n",
       "    .dataframe tbody tr th:only-of-type {\n",
       "        vertical-align: middle;\n",
       "    }\n",
       "\n",
       "    .dataframe tbody tr th {\n",
       "        vertical-align: top;\n",
       "    }\n",
       "\n",
       "    .dataframe thead th {\n",
       "        text-align: right;\n",
       "    }\n",
       "</style>\n",
       "<table border=\"1\" class=\"dataframe\">\n",
       "  <thead>\n",
       "    <tr style=\"text-align: right;\">\n",
       "      <th></th>\n",
       "      <th>Price</th>\n",
       "    </tr>\n",
       "    <tr>\n",
       "      <th>Date</th>\n",
       "      <th></th>\n",
       "    </tr>\n",
       "  </thead>\n",
       "  <tbody>\n",
       "    <tr>\n",
       "      <th>2021-10-15</th>\n",
       "      <td>68.650002</td>\n",
       "    </tr>\n",
       "    <tr>\n",
       "      <th>2021-10-18</th>\n",
       "      <td>68.610001</td>\n",
       "    </tr>\n",
       "    <tr>\n",
       "      <th>2021-10-19</th>\n",
       "      <td>69.029999</td>\n",
       "    </tr>\n",
       "    <tr>\n",
       "      <th>2021-10-20</th>\n",
       "      <td>69.769997</td>\n",
       "    </tr>\n",
       "    <tr>\n",
       "      <th>2021-10-21</th>\n",
       "      <td>69.010002</td>\n",
       "    </tr>\n",
       "  </tbody>\n",
       "</table>\n",
       "</div>"
      ],
      "text/plain": [
       "                Price\n",
       "Date                 \n",
       "2021-10-15  68.650002\n",
       "2021-10-18  68.610001\n",
       "2021-10-19  69.029999\n",
       "2021-10-20  69.769997\n",
       "2021-10-21  69.010002"
      ]
     },
     "execution_count": 26,
     "metadata": {},
     "output_type": "execute_result"
    }
   ],
   "source": [
    "pfg_close = pd.DataFrame(pfg_data.AdjClose)\n",
    "pfg_close.columns = ['Price']\n",
    "pfg_close.tail()"
   ]
  },
  {
   "cell_type": "code",
   "execution_count": 27,
   "metadata": {},
   "outputs": [
    {
     "data": {
      "text/html": [
       "<div>\n",
       "<style scoped>\n",
       "    .dataframe tbody tr th:only-of-type {\n",
       "        vertical-align: middle;\n",
       "    }\n",
       "\n",
       "    .dataframe tbody tr th {\n",
       "        vertical-align: top;\n",
       "    }\n",
       "\n",
       "    .dataframe thead th {\n",
       "        text-align: right;\n",
       "    }\n",
       "</style>\n",
       "<table border=\"1\" class=\"dataframe\">\n",
       "  <thead>\n",
       "    <tr style=\"text-align: right;\">\n",
       "      <th></th>\n",
       "      <th>Price</th>\n",
       "      <th>1 Day Lag</th>\n",
       "      <th>7 Day Lag</th>\n",
       "      <th>30 Day Lag</th>\n",
       "    </tr>\n",
       "    <tr>\n",
       "      <th>Date</th>\n",
       "      <th></th>\n",
       "      <th></th>\n",
       "      <th></th>\n",
       "      <th></th>\n",
       "    </tr>\n",
       "  </thead>\n",
       "  <tbody>\n",
       "    <tr>\n",
       "      <th>2001-10-23</th>\n",
       "      <td>12.788091</td>\n",
       "      <td>NaN</td>\n",
       "      <td>NaN</td>\n",
       "      <td>NaN</td>\n",
       "    </tr>\n",
       "    <tr>\n",
       "      <th>2001-10-24</th>\n",
       "      <td>13.488385</td>\n",
       "      <td>12.788091</td>\n",
       "      <td>NaN</td>\n",
       "      <td>NaN</td>\n",
       "    </tr>\n",
       "    <tr>\n",
       "      <th>2001-10-25</th>\n",
       "      <td>13.366595</td>\n",
       "      <td>13.488385</td>\n",
       "      <td>NaN</td>\n",
       "      <td>NaN</td>\n",
       "    </tr>\n",
       "    <tr>\n",
       "      <th>2001-10-26</th>\n",
       "      <td>13.092569</td>\n",
       "      <td>13.366595</td>\n",
       "      <td>NaN</td>\n",
       "      <td>NaN</td>\n",
       "    </tr>\n",
       "    <tr>\n",
       "      <th>2001-10-29</th>\n",
       "      <td>12.909878</td>\n",
       "      <td>13.092569</td>\n",
       "      <td>NaN</td>\n",
       "      <td>NaN</td>\n",
       "    </tr>\n",
       "  </tbody>\n",
       "</table>\n",
       "</div>"
      ],
      "text/plain": [
       "                Price  1 Day Lag  7 Day Lag  30 Day Lag\n",
       "Date                                                   \n",
       "2001-10-23  12.788091        NaN        NaN         NaN\n",
       "2001-10-24  13.488385  12.788091        NaN         NaN\n",
       "2001-10-25  13.366595  13.488385        NaN         NaN\n",
       "2001-10-26  13.092569  13.366595        NaN         NaN\n",
       "2001-10-29  12.909878  13.092569        NaN         NaN"
      ]
     },
     "execution_count": 27,
     "metadata": {},
     "output_type": "execute_result"
    }
   ],
   "source": [
    "pfg_close['1 Day Lag'] =  pfg_close.Price.shift(1)\n",
    "pfg_close['7 Day Lag'] =  pfg_close.Price.shift(7)\n",
    "pfg_close['30 Day Lag'] =  pfg_close.Price.shift(30)\n",
    "\n",
    "pfg_close.head()"
   ]
  },
  {
   "cell_type": "markdown",
   "metadata": {},
   "source": [
    "### Rolling Statistics\n",
    "- https://pandas.pydata.org/pandas-docs/stable/reference/api/pandas.DataFrame.rolling.html\n",
    "- https://pandas.pydata.org/pandas-docs/stable/reference/api/pandas.DataFrame.ewm.html"
   ]
  },
  {
   "cell_type": "code",
   "execution_count": null,
   "metadata": {},
   "outputs": [],
   "source": [
    "# window defines the number of index values to include in the rolling statistics\n",
    "win = 10\n",
    "pfg_close['Min'] = pfg_close.Price.rolling(window=win).min()\n",
    "pfg_close['Mean'] = pfg_close.Price.rolling(window=win).mean()\n",
    "pfg_close['Max'] = pfg_close.Price.rolling(window=win).max()\n",
    "pfg_close['StdDev'] = pfg_close.Price.rolling(window=win).std()\n",
    "\n",
    "# EWMA is the exponentially weighted moving average\n",
    "# this is using decay of halflife 0.5\n",
    "pfg_close['EWMA'] = pfg_close.Price.ewm(halflife=0.5, min_periods=win).mean()\n",
    "\n",
    "pfg_close.head(15)"
   ]
  },
  {
   "cell_type": "code",
   "execution_count": null,
   "metadata": {
    "scrolled": true
   },
   "outputs": [],
   "source": [
    "pfg_close.dropna().tail()"
   ]
  },
  {
   "cell_type": "code",
   "execution_count": null,
   "metadata": {
    "scrolled": false
   },
   "outputs": [],
   "source": [
    "# plot some rolling stats and actual price for the last 200 days\n",
    "\n",
    "ax = pfg_close[['Min','Mean','Max']].iloc[-200:].plot(figsize=(10,6), style=['g--','r--','g--'], lw=0.8)\n",
    "\n",
    "pfg_close.Price.iloc[-200:].plot(ax=ax, lw=2.0)\n",
    "\n",
    "plt.show()"
   ]
  },
  {
   "cell_type": "code",
   "execution_count": null,
   "metadata": {
    "scrolled": false
   },
   "outputs": [],
   "source": [
    "ax = pfg_close[['EWMA']].iloc[-200:].plot(figsize=(10,6), style=['g--'], lw=2.5)\n",
    "\n",
    "pfg_close.Price.iloc[-200:].plot(ax=ax, lw=2.0)\n",
    "\n",
    "plt.show()"
   ]
  },
  {
   "cell_type": "code",
   "execution_count": null,
   "metadata": {},
   "outputs": [],
   "source": [
    "pfg_close.head()"
   ]
  },
  {
   "cell_type": "code",
   "execution_count": null,
   "metadata": {
    "scrolled": true
   },
   "outputs": [],
   "source": [
    "pfg_close['SMA50'] = pfg_close.Price.rolling(window=50).mean()\n",
    "pfg_close['SMA250'] = pfg_close.Price.rolling(window=250).mean()\n",
    "\n",
    "pfg_close.tail()"
   ]
  },
  {
   "cell_type": "code",
   "execution_count": null,
   "metadata": {
    "scrolled": false
   },
   "outputs": [],
   "source": [
    "# plot price in the context of two simple moving averages\n",
    "pfg_close[['Price','SMA50','SMA250']].plot(figsize=(10,6))\n",
    "plt.show()"
   ]
  },
  {
   "cell_type": "code",
   "execution_count": null,
   "metadata": {},
   "outputs": [],
   "source": [
    "# change position when SMA50 crosses SMA250\n",
    "# go long (buy) when SMA50 is greater than SMA250\n",
    "# otherwise, go short (sell)\n",
    "\n",
    "pfg_close.dropna(inplace=True)\n",
    "pfg_close['Position'] = np.where(pfg_close.SMA50 > pfg_close.SMA250, 1, -1)\n",
    "ax = pfg_close[['Price','SMA50','SMA250','Position']].plot(figsize=(10,6), secondary_y='Position')\n",
    "plt.show()"
   ]
  },
  {
   "cell_type": "markdown",
   "metadata": {},
   "source": [
    "### Correlation Analysis"
   ]
  },
  {
   "cell_type": "code",
   "execution_count": null,
   "metadata": {},
   "outputs": [],
   "source": [
    "vix_close = pd.read_csv('data/^VIX.csv',header=0, index_col=0, parse_dates=True, usecols=['Date','Adj Close'])\n",
    "vix_close.columns = ['VIX']\n",
    "vix_close.head()"
   ]
  },
  {
   "cell_type": "code",
   "execution_count": null,
   "metadata": {
    "scrolled": false
   },
   "outputs": [],
   "source": [
    "corr_data = pd.concat([pfg_close[['Price','1 Day Lag','7 Day Lag','30 Day Lag']],vix_close], axis=1, join='inner')\n",
    "corr_data.head()"
   ]
  },
  {
   "cell_type": "code",
   "execution_count": null,
   "metadata": {
    "scrolled": true
   },
   "outputs": [],
   "source": [
    "rets = np.log(corr_data/corr_data.shift(1))\n",
    "rets.tail()"
   ]
  },
  {
   "cell_type": "code",
   "execution_count": null,
   "metadata": {},
   "outputs": [],
   "source": [
    "rets.dropna(inplace=True)\n",
    "rets.plot(subplots=True, figsize=(10,6))\n",
    "plt.show()"
   ]
  },
  {
   "cell_type": "code",
   "execution_count": null,
   "metadata": {},
   "outputs": [],
   "source": [
    "pd.plotting.scatter_matrix(rets, figsize=(10,10), diagonal=\"hist\")\n",
    "plt.show()"
   ]
  },
  {
   "cell_type": "code",
   "execution_count": null,
   "metadata": {},
   "outputs": [],
   "source": [
    "rets.corr()"
   ]
  },
  {
   "cell_type": "markdown",
   "metadata": {},
   "source": [
    "## Stationarity of a Time Series\n",
    "\n",
    "Time series are stationary if they do not have trend or seasonal effects. Summary statistics calculated on the time series are consistent over time, like the mean or the variance of the observations.\n",
    "\n",
    "When a time series is stationary, it can be easier to model. Statistical modeling methods assume or require the time series to be stationary to be effective.\n",
    "\n",
    "Classical time series analysis and forecasting methods are concerned with making non-stationary time series data stationary by identifying and removing trends and removing seasonal effects.\n",
    "\n",
    "We will use what we learn from examining the stationarity of the time series as input into the configuration of the modeling algorithms."
   ]
  },
  {
   "cell_type": "code",
   "execution_count": null,
   "metadata": {},
   "outputs": [],
   "source": [
    "pfg_close = pd.read_csv('data/PFG.csv',header=0, index_col=0, parse_dates=True, usecols=['Date','Adj Close'])\n",
    "pfg_close.columns = ['Price']\n",
    "pfg_close.head()"
   ]
  },
  {
   "cell_type": "markdown",
   "metadata": {},
   "source": [
    "### Summary Statistics to Check Stationarity of a Time Series\n",
    "\n",
    "- Using the means and variances of a split dataset to see if there are significant differences\n",
    "- First, need to check that data is normal (follows Gaussian distribution)"
   ]
  },
  {
   "cell_type": "code",
   "execution_count": null,
   "metadata": {},
   "outputs": [],
   "source": [
    "pfg_close.hist(figsize=(10,6))\n",
    "plt.show()"
   ]
  },
  {
   "cell_type": "markdown",
   "metadata": {},
   "source": [
    "#### Check the Mean and Variance of Split Dataset\n",
    "\n",
    "- Split the time series into two contiguous sequences. We can then calculate the mean and variance of each group of numbers and compare the values. \n",
    "- The mean and variance values can be different, but if they are close it is an indication the series is stationary."
   ]
  },
  {
   "cell_type": "code",
   "execution_count": null,
   "metadata": {},
   "outputs": [],
   "source": [
    "X=pfg_close.Price.values\n",
    "split = round(len(X) / 2)\n",
    "X1, X2 = X[0:split], X[split:]\n",
    "mean1, mean2 = X1.mean(), X2.mean()\n",
    "var1, var2 = X1.var(), X2.var()\n",
    "print('mean1=%f, mean2=%f' % (mean1, mean2))\n",
    "print('variance1=%f, variance2=%f' % (var1, var2))"
   ]
  },
  {
   "cell_type": "code",
   "execution_count": null,
   "metadata": {},
   "outputs": [],
   "source": [
    "# use log transform to see if it improves the variance\n",
    "\n",
    "import numpy as np\n",
    "\n",
    "X=np.log(pfg_close.Price.values)\n",
    "split = round(len(X) / 2)\n",
    "X1, X2 = X[0:split], X[split:]\n",
    "mean1, mean2 = X1.mean(), X2.mean()\n",
    "var1, var2 = X1.var(), X2.var()\n",
    "print('mean1=%f, mean2=%f' % (mean1, mean2))\n",
    "print('variance1=%f, variance2=%f' % (var1, var2))"
   ]
  },
  {
   "cell_type": "markdown",
   "metadata": {},
   "source": [
    "### Augmented Dickey-Fuller Test\n",
    "\n",
    "Statistical tests can provide a quick check to see whether your time series is stationary or non-stationary.\n",
    "The Augmented Dickey-Fuller test is a type of statistical test called a unit root test. The intuition behind a unit root test is that it determines how strongly a time series is defined by a trend or seasonality.\n",
    "\n",
    "The Null hypothesis of the ADF Test is NON stationary.\n",
    "So we're looking for a p-value <= .05 and a test statistic that is more negative than 1% critical value to reject the null hypothesis of non-stationary, suggesting the data does not have a unit root and is stationary."
   ]
  },
  {
   "cell_type": "code",
   "execution_count": null,
   "metadata": {},
   "outputs": [],
   "source": [
    "from statsmodels.tsa.stattools import adfuller\n",
    "\n",
    "## use ADF to check the stationarity.  Null hypothesis is NON stationary.\n",
    "## a p-value <= .05 and a test statistic that is more negative than 1% critical value indicates a stationary series\n",
    "X = pfg_close.Price.values\n",
    "result = adfuller(X)\n",
    "print('ADF Statistic: %f' % result[0])\n",
    "print('p-value: %f' % result[1])\n",
    "print('Critical Values:')\n",
    "for key, value in result[4].items():\n",
    "\tprint('\\t%s: %.3f' % (key, value))"
   ]
  },
  {
   "cell_type": "markdown",
   "metadata": {},
   "source": [
    "## Time Series Decomposition\n",
    "\n",
    "A series is thought to be an aggregate or combination of the four components:\n",
    "\n",
    "- **Level:** The average value in the series.\n",
    "- **Trend:** The increasing or decreasing value in the series.\n",
    "- **Seasonality:** The repeating short-term cycle in the series.\n",
    "- **Noise:** The random variation in the series.\n",
    "\n",
    "All series have a level and noise. The trend and seasonality components are optional.\n",
    "\n",
    "It is helpful to think of the components as combining either **additively** or **multiplicatively**.\n",
    "\n",
    "#### Additive Model\n",
    "An additive model suggests that the components are added together as follows:\n",
    "\n",
    "**y(t) = Level + Trend + Seasonality + Noise**\n",
    "\n",
    "An additive model is linear where changes over time are consistently made by the same amount, with a linear trend that is a straight line and a linear seasonality that has the same frequency (width of cycles) and amplitude (height of cycles).\n",
    "\n",
    "#### Multiplicative Model\n",
    "A multiplicative model suggests that the components are multiplied together as follows:\n",
    "\n",
    "**y(t) = Level * Trend * Seasonality * Noise**\n",
    "\n",
    "A multiplicative model is nonlinear, such as quadratic or exponential with changes increasing or decreasing over time, with a nonlinear trend represented as a curved line, and a non-linear seasonality that has an increasing or decreasing frequency and/or amplitude over time.\n"
   ]
  },
  {
   "cell_type": "code",
   "execution_count": null,
   "metadata": {},
   "outputs": [],
   "source": [
    "series = pfg_close.Price\n",
    "series.plot(figsize=(10,6))\n",
    "plt.show()"
   ]
  },
  {
   "cell_type": "code",
   "execution_count": null,
   "metadata": {},
   "outputs": [],
   "source": [
    "from statsmodels.tsa.seasonal import seasonal_decompose\n",
    "\n",
    "decomposition = seasonal_decompose(series, model='addititive', period=1)\n",
    "#decomposition = seasonal_decompose(series, model='multiplicative', period=1)\n",
    "decomposition.plot()"
   ]
  }
 ],
 "metadata": {
  "kernelspec": {
   "display_name": "Python 3",
   "language": "python",
   "name": "python3"
  },
  "language_info": {
   "codemirror_mode": {
    "name": "ipython",
    "version": 3
   },
   "file_extension": ".py",
   "mimetype": "text/x-python",
   "name": "python",
   "nbconvert_exporter": "python",
   "pygments_lexer": "ipython3",
   "version": "3.8.0"
  },
  "varInspector": {
   "cols": {
    "lenName": 16,
    "lenType": 16,
    "lenVar": 40
   },
   "kernels_config": {
    "python": {
     "delete_cmd_postfix": "",
     "delete_cmd_prefix": "del ",
     "library": "var_list.py",
     "varRefreshCmd": "print(var_dic_list())"
    },
    "r": {
     "delete_cmd_postfix": ") ",
     "delete_cmd_prefix": "rm(",
     "library": "var_list.r",
     "varRefreshCmd": "cat(var_dic_list()) "
    }
   },
   "types_to_exclude": [
    "module",
    "function",
    "builtin_function_or_method",
    "instance",
    "_Feature"
   ],
   "window_display": false
  }
 },
 "nbformat": 4,
 "nbformat_minor": 2
}
