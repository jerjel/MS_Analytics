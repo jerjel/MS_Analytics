{
 "cells": [
  {
   "cell_type": "markdown",
   "metadata": {},
   "source": [
    "# Data Programming in Python | BAIS:6040\n",
    "# Text Processing with NLTK and TextBlob"
   ]
  },
  {
   "cell_type": "markdown",
   "metadata": {},
   "source": [
    "Instructor: Jeff Hendricks \n",
    "\n",
    "Topics to be covered:\n",
    "- Text processing with NLTK and text mining with TextBlob (+ exercises)\n",
    "- Adding new columns (+ exercises)\n",
    "- Popular keywords\n",
    "- Searching for records containing a certain string\n",
    "\n",
    "References: \n",
    "- NLTK official website (http://www.nltk.org/)\n",
    "- Pandas official website (http://pandas.pydata.org/) \n",
    "- Python Data Science Handbook by Jake VanderPlas (http://shop.oreilly.com/product/0636920034919.do)\n",
    "- Python for Data Analysis by Wes McKinney (https://www.oreilly.com/library/view/python-for-data/9781491957653/)\n",
    "- TextBlob official website (https://textblob.readthedocs.io/en/dev/)"
   ]
  },
  {
   "cell_type": "markdown",
   "metadata": {},
   "source": [
    "## Prerequisites"
   ]
  },
  {
   "cell_type": "code",
   "execution_count": 1,
   "metadata": {},
   "outputs": [],
   "source": [
    "# ! pip install --user nltk \n",
    "# ! pip install textblob==0.17.1\n",
    "# ! python -m nltk.downloader stopwords\n",
    "# ! python -m textblob.download_corpora"
   ]
  },
  {
   "cell_type": "markdown",
   "metadata": {},
   "source": [
    "## Importing modules"
   ]
  },
  {
   "cell_type": "code",
   "execution_count": 2,
   "metadata": {},
   "outputs": [
    {
     "name": "stderr",
     "output_type": "stream",
     "text": [
      "[nltk_data] Downloading package punkt to /home/jerjacob/nltk_data...\n",
      "[nltk_data]   Package punkt is already up-to-date!\n",
      "[nltk_data] Downloading package averaged_perceptron_tagger to\n",
      "[nltk_data]     /home/jerjacob/nltk_data...\n",
      "[nltk_data]   Package averaged_perceptron_tagger is already up-to-\n",
      "[nltk_data]       date!\n",
      "[nltk_data] Downloading package wordnet to /home/jerjacob/nltk_data...\n",
      "[nltk_data]   Package wordnet is already up-to-date!\n",
      "[nltk_data] Downloading package brown to /home/jerjacob/nltk_data...\n",
      "[nltk_data]   Package brown is already up-to-date!\n",
      "[nltk_data] Downloading package stopwords to\n",
      "[nltk_data]     /home/jerjacob/nltk_data...\n",
      "[nltk_data]   Package stopwords is already up-to-date!\n"
     ]
    },
    {
     "data": {
      "text/plain": [
       "True"
      ]
     },
     "execution_count": 2,
     "metadata": {},
     "output_type": "execute_result"
    }
   ],
   "source": [
    "from collections import Counter              # word counting\n",
    "import nltk                                  # text processing\n",
    "import pandas as pd                          # handling Pandas dataframes\n",
    "from textblob import TextBlob                # sentiment analysis and language detection and translation \n",
    "\n",
    "pd.set_option('display.max_colwidth', 200)   # set the maximum column width to 200\n",
    "\n",
    "nltk.download('punkt')\n",
    "nltk.download('averaged_perceptron_tagger')\n",
    "nltk.download('wordnet')\n",
    "nltk.download('brown')\n",
    "nltk.download('stopwords')"
   ]
  },
  {
   "cell_type": "markdown",
   "metadata": {},
   "source": [
    "## Text processing with NLTK"
   ]
  },
  {
   "cell_type": "code",
   "execution_count": 3,
   "metadata": {},
   "outputs": [
    {
     "data": {
      "text/plain": [
       "'I am pleased to announce the launch of http://greatoutdoors.com . This new platform will allow all who love hiking to find enjoyable trails. This has been a priority of mine and I’m pleased to share that it is up and running! #KeepAmericaHiking'"
      ]
     },
     "execution_count": 3,
     "metadata": {},
     "output_type": "execute_result"
    }
   ],
   "source": [
    "text = \"I am pleased to announce the launch of http://greatoutdoors.com . This new platform will allow all who love hiking to find enjoyable trails. This has been a priority of mine and I’m pleased to share that it is up and running! #KeepAmericaHiking\"\n",
    "text"
   ]
  },
  {
   "cell_type": "code",
   "execution_count": 4,
   "metadata": {},
   "outputs": [],
   "source": [
    "sents = nltk.sent_tokenize(text)       # Tokenize text into sentences."
   ]
  },
  {
   "cell_type": "code",
   "execution_count": 5,
   "metadata": {},
   "outputs": [
    {
     "data": {
      "text/plain": [
       "['I am pleased to announce the launch of http://greatoutdoors.com .',\n",
       " 'This new platform will allow all who love hiking to find enjoyable trails.',\n",
       " 'This has been a priority of mine and I’m pleased to share that it is up and running!',\n",
       " '#KeepAmericaHiking']"
      ]
     },
     "execution_count": 5,
     "metadata": {},
     "output_type": "execute_result"
    }
   ],
   "source": [
    "sents"
   ]
  },
  {
   "cell_type": "code",
   "execution_count": 6,
   "metadata": {},
   "outputs": [],
   "source": [
    "tokens = nltk.word_tokenize(text)        # Tokenize text into words."
   ]
  },
  {
   "cell_type": "code",
   "execution_count": 7,
   "metadata": {
    "scrolled": false
   },
   "outputs": [
    {
     "data": {
      "text/plain": [
       "['I',\n",
       " 'am',\n",
       " 'pleased',\n",
       " 'to',\n",
       " 'announce',\n",
       " 'the',\n",
       " 'launch',\n",
       " 'of',\n",
       " 'http',\n",
       " ':',\n",
       " '//greatoutdoors.com',\n",
       " '.',\n",
       " 'This',\n",
       " 'new',\n",
       " 'platform',\n",
       " 'will',\n",
       " 'allow',\n",
       " 'all',\n",
       " 'who',\n",
       " 'love',\n",
       " 'hiking',\n",
       " 'to',\n",
       " 'find',\n",
       " 'enjoyable',\n",
       " 'trails',\n",
       " '.',\n",
       " 'This',\n",
       " 'has',\n",
       " 'been',\n",
       " 'a',\n",
       " 'priority',\n",
       " 'of',\n",
       " 'mine',\n",
       " 'and',\n",
       " 'I',\n",
       " '’',\n",
       " 'm',\n",
       " 'pleased',\n",
       " 'to',\n",
       " 'share',\n",
       " 'that',\n",
       " 'it',\n",
       " 'is',\n",
       " 'up',\n",
       " 'and',\n",
       " 'running',\n",
       " '!',\n",
       " '#',\n",
       " 'KeepAmericaHiking']"
      ]
     },
     "execution_count": 7,
     "metadata": {},
     "output_type": "execute_result"
    }
   ],
   "source": [
    "tokens"
   ]
  },
  {
   "cell_type": "code",
   "execution_count": 8,
   "metadata": {},
   "outputs": [],
   "source": [
    "tagged_tokens = nltk.pos_tag(tokens)          # Tag each token with their part-of-speech tag."
   ]
  },
  {
   "cell_type": "markdown",
   "metadata": {},
   "source": [
    "Note that the argument of <b>pos_tag</b> function is a list of tokens, not raw text. "
   ]
  },
  {
   "cell_type": "code",
   "execution_count": 9,
   "metadata": {},
   "outputs": [
    {
     "data": {
      "text/plain": [
       "[('I', 'PRP'),\n",
       " ('am', 'VBP'),\n",
       " ('pleased', 'JJ'),\n",
       " ('to', 'TO'),\n",
       " ('announce', 'VB'),\n",
       " ('the', 'DT'),\n",
       " ('launch', 'NN'),\n",
       " ('of', 'IN'),\n",
       " ('http', 'NN'),\n",
       " (':', ':'),\n",
       " ('//greatoutdoors.com', 'NN'),\n",
       " ('.', '.'),\n",
       " ('This', 'DT'),\n",
       " ('new', 'JJ'),\n",
       " ('platform', 'NN'),\n",
       " ('will', 'MD'),\n",
       " ('allow', 'VB'),\n",
       " ('all', 'DT'),\n",
       " ('who', 'WP'),\n",
       " ('love', 'VBP'),\n",
       " ('hiking', 'VBG'),\n",
       " ('to', 'TO'),\n",
       " ('find', 'VB'),\n",
       " ('enjoyable', 'JJ'),\n",
       " ('trails', 'NNS'),\n",
       " ('.', '.'),\n",
       " ('This', 'DT'),\n",
       " ('has', 'VBZ'),\n",
       " ('been', 'VBN'),\n",
       " ('a', 'DT'),\n",
       " ('priority', 'NN'),\n",
       " ('of', 'IN'),\n",
       " ('mine', 'NN'),\n",
       " ('and', 'CC'),\n",
       " ('I', 'PRP'),\n",
       " ('’', 'VBP'),\n",
       " ('m', 'NNS'),\n",
       " ('pleased', 'VBD'),\n",
       " ('to', 'TO'),\n",
       " ('share', 'NN'),\n",
       " ('that', 'IN'),\n",
       " ('it', 'PRP'),\n",
       " ('is', 'VBZ'),\n",
       " ('up', 'JJ'),\n",
       " ('and', 'CC'),\n",
       " ('running', 'VBG'),\n",
       " ('!', '.'),\n",
       " ('#', '#'),\n",
       " ('KeepAmericaHiking', 'VBG')]"
      ]
     },
     "execution_count": 9,
     "metadata": {},
     "output_type": "execute_result"
    }
   ],
   "source": [
    "tagged_tokens"
   ]
  },
  {
   "cell_type": "markdown",
   "metadata": {},
   "source": [
    "Penn Part of Speech Tags: https://cs.nyu.edu/grishman/jet/guide/PennPOS.html"
   ]
  },
  {
   "cell_type": "code",
   "execution_count": 10,
   "metadata": {},
   "outputs": [],
   "source": [
    "stemmer = nltk.stem.SnowballStemmer(\"english\")"
   ]
  },
  {
   "cell_type": "code",
   "execution_count": 11,
   "metadata": {},
   "outputs": [
    {
     "data": {
      "text/plain": [
       "'car'"
      ]
     },
     "execution_count": 11,
     "metadata": {},
     "output_type": "execute_result"
    }
   ],
   "source": [
    "stemmer.stem(\"car\")"
   ]
  },
  {
   "cell_type": "code",
   "execution_count": 12,
   "metadata": {},
   "outputs": [
    {
     "data": {
      "text/plain": [
       "'car'"
      ]
     },
     "execution_count": 12,
     "metadata": {},
     "output_type": "execute_result"
    }
   ],
   "source": [
    "stemmer.stem(\"cars\")"
   ]
  },
  {
   "cell_type": "code",
   "execution_count": 13,
   "metadata": {},
   "outputs": [
    {
     "data": {
      "text/plain": [
       "'say'"
      ]
     },
     "execution_count": 13,
     "metadata": {},
     "output_type": "execute_result"
    }
   ],
   "source": [
    "stemmer.stem(\"say\")"
   ]
  },
  {
   "cell_type": "code",
   "execution_count": 14,
   "metadata": {},
   "outputs": [
    {
     "data": {
      "text/plain": [
       "'say'"
      ]
     },
     "execution_count": 14,
     "metadata": {},
     "output_type": "execute_result"
    }
   ],
   "source": [
    "stemmer.stem(\"saying\")"
   ]
  },
  {
   "cell_type": "code",
   "execution_count": 15,
   "metadata": {
    "scrolled": true
   },
   "outputs": [
    {
     "data": {
      "text/plain": [
       "'said'"
      ]
     },
     "execution_count": 15,
     "metadata": {},
     "output_type": "execute_result"
    }
   ],
   "source": [
    "stemmer.stem(\"said\")"
   ]
  },
  {
   "cell_type": "code",
   "execution_count": 16,
   "metadata": {},
   "outputs": [],
   "source": [
    "lemmatizer = nltk.stem.WordNetLemmatizer()"
   ]
  },
  {
   "cell_type": "code",
   "execution_count": 17,
   "metadata": {},
   "outputs": [
    {
     "data": {
      "text/plain": [
       "'car'"
      ]
     },
     "execution_count": 17,
     "metadata": {},
     "output_type": "execute_result"
    }
   ],
   "source": [
    "lemmatizer.lemmatize(\"cars\", pos=\"n\")"
   ]
  },
  {
   "cell_type": "code",
   "execution_count": 18,
   "metadata": {},
   "outputs": [
    {
     "data": {
      "text/plain": [
       "'say'"
      ]
     },
     "execution_count": 18,
     "metadata": {},
     "output_type": "execute_result"
    }
   ],
   "source": [
    "lemmatizer.lemmatize(\"saying\", pos=\"v\")"
   ]
  },
  {
   "cell_type": "code",
   "execution_count": 19,
   "metadata": {},
   "outputs": [
    {
     "data": {
      "text/plain": [
       "'say'"
      ]
     },
     "execution_count": 19,
     "metadata": {},
     "output_type": "execute_result"
    }
   ],
   "source": [
    "lemmatizer.lemmatize(\"said\", pos=\"v\")"
   ]
  },
  {
   "cell_type": "code",
   "execution_count": 20,
   "metadata": {},
   "outputs": [
    {
     "data": {
      "text/plain": [
       "'be'"
      ]
     },
     "execution_count": 20,
     "metadata": {},
     "output_type": "execute_result"
    }
   ],
   "source": [
    "lemmatizer.lemmatize(\"am\", pos=\"v\")"
   ]
  },
  {
   "cell_type": "code",
   "execution_count": 21,
   "metadata": {},
   "outputs": [
    {
     "data": {
      "text/plain": [
       "'be'"
      ]
     },
     "execution_count": 21,
     "metadata": {},
     "output_type": "execute_result"
    }
   ],
   "source": [
    "lemmatizer.lemmatize(\"are\", pos=\"v\")"
   ]
  },
  {
   "cell_type": "code",
   "execution_count": 22,
   "metadata": {},
   "outputs": [
    {
     "data": {
      "text/plain": [
       "'be'"
      ]
     },
     "execution_count": 22,
     "metadata": {},
     "output_type": "execute_result"
    }
   ],
   "source": [
    "lemmatizer.lemmatize(\"is\", pos=\"v\")"
   ]
  },
  {
   "cell_type": "markdown",
   "metadata": {},
   "source": [
    "## Text mining with TextBlob"
   ]
  },
  {
   "cell_type": "code",
   "execution_count": 23,
   "metadata": {},
   "outputs": [],
   "source": [
    "text = \"It's just awesome!\""
   ]
  },
  {
   "cell_type": "code",
   "execution_count": 24,
   "metadata": {},
   "outputs": [],
   "source": [
    "tb = TextBlob(text)"
   ]
  },
  {
   "cell_type": "code",
   "execution_count": 25,
   "metadata": {},
   "outputs": [
    {
     "data": {
      "text/plain": [
       "Sentiment(polarity=1.0, subjectivity=1.0)"
      ]
     },
     "execution_count": 25,
     "metadata": {},
     "output_type": "execute_result"
    }
   ],
   "source": [
    "tb.sentiment                # polarity between -1 (negative) and 1 (positive) \n",
    "                            # subjectivity between 0 (objective) and 1 (subjective)"
   ]
  },
  {
   "cell_type": "code",
   "execution_count": 26,
   "metadata": {
    "scrolled": true
   },
   "outputs": [
    {
     "data": {
      "text/plain": [
       "1.0"
      ]
     },
     "execution_count": 26,
     "metadata": {},
     "output_type": "execute_result"
    }
   ],
   "source": [
    "tb.sentiment.polarity"
   ]
  },
  {
   "cell_type": "code",
   "execution_count": 27,
   "metadata": {},
   "outputs": [
    {
     "data": {
      "text/plain": [
       "1.0"
      ]
     },
     "execution_count": 27,
     "metadata": {},
     "output_type": "execute_result"
    }
   ],
   "source": [
    "tb.sentiment.subjectivity"
   ]
  },
  {
   "cell_type": "code",
   "execution_count": 28,
   "metadata": {},
   "outputs": [],
   "source": [
    "text = \"It's Friday.\""
   ]
  },
  {
   "cell_type": "code",
   "execution_count": 29,
   "metadata": {},
   "outputs": [
    {
     "data": {
      "text/plain": [
       "Sentiment(polarity=0.0, subjectivity=0.0)"
      ]
     },
     "execution_count": 29,
     "metadata": {},
     "output_type": "execute_result"
    }
   ],
   "source": [
    "tb = TextBlob(text)\n",
    "tb.sentiment"
   ]
  },
  {
   "cell_type": "code",
   "execution_count": 30,
   "metadata": {},
   "outputs": [],
   "source": [
    "text = \"Machine Learning is a branch of Artificial Intelligence in computer science.\""
   ]
  },
  {
   "cell_type": "code",
   "execution_count": 31,
   "metadata": {},
   "outputs": [],
   "source": [
    "tb = TextBlob(text)"
   ]
  },
  {
   "cell_type": "code",
   "execution_count": 32,
   "metadata": {},
   "outputs": [
    {
     "data": {
      "text/plain": [
       "WordList(['machine learning', 'artificial intelligence', 'computer science'])"
      ]
     },
     "execution_count": 32,
     "metadata": {},
     "output_type": "execute_result"
    }
   ],
   "source": [
    "tb.noun_phrases"
   ]
  },
  {
   "cell_type": "code",
   "execution_count": 33,
   "metadata": {},
   "outputs": [
    {
     "data": {
      "text/plain": [
       "'en'"
      ]
     },
     "execution_count": 33,
     "metadata": {},
     "output_type": "execute_result"
    }
   ],
   "source": [
    "tb.detect_language()"
   ]
  },
  {
   "cell_type": "code",
   "execution_count": 34,
   "metadata": {},
   "outputs": [
    {
     "data": {
      "text/plain": [
       "TextBlob(\"El aprendizaje automático es una rama de la inteligencia artificial en informática.\")"
      ]
     },
     "execution_count": 34,
     "metadata": {},
     "output_type": "execute_result"
    }
   ],
   "source": [
    "text_es = tb.translate(to=\"es\")\n",
    "text_es"
   ]
  },
  {
   "cell_type": "markdown",
   "metadata": {},
   "source": [
    "Language translation and detection of TextBlob is powered by the Google Translate API."
   ]
  },
  {
   "cell_type": "code",
   "execution_count": 35,
   "metadata": {},
   "outputs": [
    {
     "data": {
      "text/plain": [
       "TextBlob(\"Machine Learning ist ein Teilgebiet der Künstlichen Intelligenz in der Informatik.\")"
      ]
     },
     "execution_count": 35,
     "metadata": {},
     "output_type": "execute_result"
    }
   ],
   "source": [
    "text_de = tb.translate(to=\"de\")\n",
    "text_de"
   ]
  },
  {
   "cell_type": "code",
   "execution_count": 36,
   "metadata": {},
   "outputs": [
    {
     "data": {
      "text/plain": [
       "'es'"
      ]
     },
     "execution_count": 36,
     "metadata": {},
     "output_type": "execute_result"
    }
   ],
   "source": [
    "tb = TextBlob(text_es.string)\n",
    "tb.detect_language()"
   ]
  },
  {
   "cell_type": "code",
   "execution_count": 37,
   "metadata": {},
   "outputs": [
    {
     "data": {
      "text/plain": [
       "'de'"
      ]
     },
     "execution_count": 37,
     "metadata": {},
     "output_type": "execute_result"
    }
   ],
   "source": [
    "tb = TextBlob(text_de.string)\n",
    "tb.detect_language()"
   ]
  },
  {
   "cell_type": "markdown",
   "metadata": {},
   "source": [
    "## Exercises for text processing and mining (9 questions)"
   ]
  },
  {
   "cell_type": "code",
   "execution_count": 38,
   "metadata": {},
   "outputs": [
    {
     "data": {
      "text/plain": [
       "'When our Country had no debt and built everything from Highways to the Military with CASH, we had a big system of Tariffs. Now we allow other countries to steal our wealth, treasure, and jobs - But no more! The USA is doing great, with unlimited upside into the future!'"
      ]
     },
     "execution_count": 38,
     "metadata": {},
     "output_type": "execute_result"
    }
   ],
   "source": [
    "text = \"When our Country had no debt and built everything from Highways to the Military with CASH, we had a big system of Tariffs. Now we allow other countries to steal our wealth, treasure, and jobs - But no more! The USA is doing great, with unlimited upside into the future!\"\n",
    "text"
   ]
  },
  {
   "cell_type": "markdown",
   "metadata": {},
   "source": [
    "1\\. Using NLTK, get a list <i>sents</i> of sentences in <i>text</i>."
   ]
  },
  {
   "cell_type": "code",
   "execution_count": 39,
   "metadata": {
    "scrolled": true
   },
   "outputs": [],
   "source": [
    "# Your answer here\n"
   ]
  },
  {
   "cell_type": "markdown",
   "metadata": {},
   "source": [
    "2\\. Using NLTK, get a list <i>tokens</i> of words in <i>text</i>."
   ]
  },
  {
   "cell_type": "code",
   "execution_count": 40,
   "metadata": {},
   "outputs": [],
   "source": [
    "# Your answer here\n"
   ]
  },
  {
   "cell_type": "markdown",
   "metadata": {},
   "source": [
    "3\\. Using NLTK, get a list <i>tagged_tokens</i> of tagged tokens in <i>text</i>."
   ]
  },
  {
   "cell_type": "code",
   "execution_count": 41,
   "metadata": {},
   "outputs": [],
   "source": [
    "# Your answer here\n"
   ]
  },
  {
   "cell_type": "markdown",
   "metadata": {},
   "source": [
    "4\\. Get a new list of the nouns in <i>tagged_tokens</i>, which are tagged with 'NN'."
   ]
  },
  {
   "cell_type": "code",
   "execution_count": 42,
   "metadata": {},
   "outputs": [],
   "source": [
    "# Your answer here\n"
   ]
  },
  {
   "cell_type": "markdown",
   "metadata": {},
   "source": [
    "5\\. Get a new list of the verbs in <i>tagged_tokens</i>, which are tagged with 'VB', 'VBD', 'VBG', 'VBN', 'VBP', or 'VBZ'."
   ]
  },
  {
   "cell_type": "code",
   "execution_count": 43,
   "metadata": {
    "scrolled": true
   },
   "outputs": [],
   "source": [
    "# Your answer here\n"
   ]
  },
  {
   "cell_type": "markdown",
   "metadata": {},
   "source": [
    "6\\. Using TextBlob, get a new list of the polarities of the sentences in <i>text</i>."
   ]
  },
  {
   "cell_type": "code",
   "execution_count": 44,
   "metadata": {},
   "outputs": [],
   "source": [
    "# Your answer here\n"
   ]
  },
  {
   "cell_type": "markdown",
   "metadata": {},
   "source": [
    "7\\. Using TextBlob, get a new list of the subjectivities of the sentences in <i>text</i>."
   ]
  },
  {
   "cell_type": "code",
   "execution_count": 45,
   "metadata": {},
   "outputs": [],
   "source": [
    "# Your answer here\n"
   ]
  },
  {
   "cell_type": "markdown",
   "metadata": {},
   "source": [
    "8\\. Using TextBlob, get a new list of the Chinese sentences translated from the sentences in <i>text</i>."
   ]
  },
  {
   "cell_type": "code",
   "execution_count": 46,
   "metadata": {},
   "outputs": [],
   "source": [
    "# Your answer here\n"
   ]
  },
  {
   "cell_type": "markdown",
   "metadata": {},
   "source": [
    "9\\. Using TextBlob, get a new list of the detected languages of the sentences in <i>text</i>."
   ]
  },
  {
   "cell_type": "code",
   "execution_count": 47,
   "metadata": {},
   "outputs": [],
   "source": [
    "# Your answer here\n"
   ]
  },
  {
   "cell_type": "markdown",
   "metadata": {},
   "source": [
    "## Loading a CSV file into a Pandas dataframe"
   ]
  },
  {
   "cell_type": "code",
   "execution_count": 48,
   "metadata": {},
   "outputs": [],
   "source": [
    "df = pd.read_csv(\"../../Data/imdb_data.csv\", sep=\",\", header=0)\n",
    "df.columns=['text']"
   ]
  },
  {
   "cell_type": "code",
   "execution_count": 49,
   "metadata": {
    "scrolled": false
   },
   "outputs": [
    {
     "data": {
      "text/html": [
       "<div>\n",
       "<style scoped>\n",
       "    .dataframe tbody tr th:only-of-type {\n",
       "        vertical-align: middle;\n",
       "    }\n",
       "\n",
       "    .dataframe tbody tr th {\n",
       "        vertical-align: top;\n",
       "    }\n",
       "\n",
       "    .dataframe thead th {\n",
       "        text-align: right;\n",
       "    }\n",
       "</style>\n",
       "<table border=\"1\" class=\"dataframe\">\n",
       "  <thead>\n",
       "    <tr style=\"text-align: right;\">\n",
       "      <th></th>\n",
       "      <th>text</th>\n",
       "    </tr>\n",
       "  </thead>\n",
       "  <tbody>\n",
       "    <tr>\n",
       "      <th>0</th>\n",
       "      <td>One of the other reviewers has mentioned that after watching just 1 Oz episode you'll be hooked. They are right, as this is exactly what happened with me.&lt;br /&gt;&lt;br /&gt;The first thing that struck me...</td>\n",
       "    </tr>\n",
       "    <tr>\n",
       "      <th>1</th>\n",
       "      <td>A wonderful little production. &lt;br /&gt;&lt;br /&gt;The filming technique is very unassuming- very old-time-BBC fashion and gives a comforting, and sometimes discomforting, sense of realism to the entire p...</td>\n",
       "    </tr>\n",
       "    <tr>\n",
       "      <th>2</th>\n",
       "      <td>I thought this was a wonderful way to spend time on a too hot summer weekend, sitting in the air conditioned theater and watching a light-hearted comedy. The plot is simplistic, but the dialogue i...</td>\n",
       "    </tr>\n",
       "    <tr>\n",
       "      <th>3</th>\n",
       "      <td>Basically there's a family where a little boy (Jake) thinks there's a zombie in his closet &amp; his parents are fighting all the time.&lt;br /&gt;&lt;br /&gt;This movie is slower than a soap opera... and suddenl...</td>\n",
       "    </tr>\n",
       "    <tr>\n",
       "      <th>4</th>\n",
       "      <td>Petter Mattei's \"Love in the Time of Money\" is a visually stunning film to watch. Mr. Mattei offers us a vivid portrait about human relations. This is a movie that seems to be telling us what mone...</td>\n",
       "    </tr>\n",
       "  </tbody>\n",
       "</table>\n",
       "</div>"
      ],
      "text/plain": [
       "                                                                                                                                                                                                      text\n",
       "0  One of the other reviewers has mentioned that after watching just 1 Oz episode you'll be hooked. They are right, as this is exactly what happened with me.<br /><br />The first thing that struck me...\n",
       "1  A wonderful little production. <br /><br />The filming technique is very unassuming- very old-time-BBC fashion and gives a comforting, and sometimes discomforting, sense of realism to the entire p...\n",
       "2  I thought this was a wonderful way to spend time on a too hot summer weekend, sitting in the air conditioned theater and watching a light-hearted comedy. The plot is simplistic, but the dialogue i...\n",
       "3  Basically there's a family where a little boy (Jake) thinks there's a zombie in his closet & his parents are fighting all the time.<br /><br />This movie is slower than a soap opera... and suddenl...\n",
       "4  Petter Mattei's \"Love in the Time of Money\" is a visually stunning film to watch. Mr. Mattei offers us a vivid portrait about human relations. This is a movie that seems to be telling us what mone..."
      ]
     },
     "execution_count": 49,
     "metadata": {},
     "output_type": "execute_result"
    }
   ],
   "source": [
    "df.head()"
   ]
  },
  {
   "cell_type": "markdown",
   "metadata": {},
   "source": [
    "## Deriving a new column from an existing column"
   ]
  },
  {
   "cell_type": "markdown",
   "metadata": {},
   "source": [
    "The raw dataset itself does not always come with all the information you may need. In many cases, you will have to derive new columns from a set of existing columns. "
   ]
  },
  {
   "cell_type": "markdown",
   "metadata": {},
   "source": [
    "### Adding a new column for text length (text ➔ text_length) "
   ]
  },
  {
   "cell_type": "code",
   "execution_count": 50,
   "metadata": {},
   "outputs": [
    {
     "data": {
      "text/plain": [
       "0    One of the other reviewers has mentioned that after watching just 1 Oz episode you'll be hooked. They are right, as this is exactly what happened with me.<br /><br />The first thing that struck me...\n",
       "1    A wonderful little production. <br /><br />The filming technique is very unassuming- very old-time-BBC fashion and gives a comforting, and sometimes discomforting, sense of realism to the entire p...\n",
       "2    I thought this was a wonderful way to spend time on a too hot summer weekend, sitting in the air conditioned theater and watching a light-hearted comedy. The plot is simplistic, but the dialogue i...\n",
       "3    Basically there's a family where a little boy (Jake) thinks there's a zombie in his closet & his parents are fighting all the time.<br /><br />This movie is slower than a soap opera... and suddenl...\n",
       "4    Petter Mattei's \"Love in the Time of Money\" is a visually stunning film to watch. Mr. Mattei offers us a vivid portrait about human relations. This is a movie that seems to be telling us what mone...\n",
       "Name: text, dtype: object"
      ]
     },
     "execution_count": 50,
     "metadata": {},
     "output_type": "execute_result"
    }
   ],
   "source": [
    "df.text[:5]"
   ]
  },
  {
   "cell_type": "code",
   "execution_count": 51,
   "metadata": {},
   "outputs": [],
   "source": [
    "df[\"text_length\"] = df.text.apply(lambda x: len(x))"
   ]
  },
  {
   "cell_type": "markdown",
   "metadata": {},
   "source": [
    "pandas.Series.apply: https://pandas.pydata.org/pandas-docs/stable/reference/api/pandas.Series.apply.html"
   ]
  },
  {
   "cell_type": "markdown",
   "metadata": {},
   "source": [
    "When using the <b>apply</b> method, pay attention to the existing column to be used (<i>text</i>) and the new column to be added (<i>text_length</i>)."
   ]
  },
  {
   "cell_type": "code",
   "execution_count": 52,
   "metadata": {},
   "outputs": [
    {
     "data": {
      "text/plain": [
       "Index(['text', 'text_length'], dtype='object')"
      ]
     },
     "execution_count": 52,
     "metadata": {},
     "output_type": "execute_result"
    }
   ],
   "source": [
    "df.columns"
   ]
  },
  {
   "cell_type": "code",
   "execution_count": 53,
   "metadata": {},
   "outputs": [
    {
     "data": {
      "text/html": [
       "<div>\n",
       "<style scoped>\n",
       "    .dataframe tbody tr th:only-of-type {\n",
       "        vertical-align: middle;\n",
       "    }\n",
       "\n",
       "    .dataframe tbody tr th {\n",
       "        vertical-align: top;\n",
       "    }\n",
       "\n",
       "    .dataframe thead th {\n",
       "        text-align: right;\n",
       "    }\n",
       "</style>\n",
       "<table border=\"1\" class=\"dataframe\">\n",
       "  <thead>\n",
       "    <tr style=\"text-align: right;\">\n",
       "      <th></th>\n",
       "      <th>text</th>\n",
       "      <th>text_length</th>\n",
       "    </tr>\n",
       "  </thead>\n",
       "  <tbody>\n",
       "    <tr>\n",
       "      <th>0</th>\n",
       "      <td>One of the other reviewers has mentioned that after watching just 1 Oz episode you'll be hooked. They are right, as this is exactly what happened with me.&lt;br /&gt;&lt;br /&gt;The first thing that struck me...</td>\n",
       "      <td>1761</td>\n",
       "    </tr>\n",
       "    <tr>\n",
       "      <th>1</th>\n",
       "      <td>A wonderful little production. &lt;br /&gt;&lt;br /&gt;The filming technique is very unassuming- very old-time-BBC fashion and gives a comforting, and sometimes discomforting, sense of realism to the entire p...</td>\n",
       "      <td>998</td>\n",
       "    </tr>\n",
       "    <tr>\n",
       "      <th>2</th>\n",
       "      <td>I thought this was a wonderful way to spend time on a too hot summer weekend, sitting in the air conditioned theater and watching a light-hearted comedy. The plot is simplistic, but the dialogue i...</td>\n",
       "      <td>926</td>\n",
       "    </tr>\n",
       "    <tr>\n",
       "      <th>3</th>\n",
       "      <td>Basically there's a family where a little boy (Jake) thinks there's a zombie in his closet &amp; his parents are fighting all the time.&lt;br /&gt;&lt;br /&gt;This movie is slower than a soap opera... and suddenl...</td>\n",
       "      <td>748</td>\n",
       "    </tr>\n",
       "    <tr>\n",
       "      <th>4</th>\n",
       "      <td>Petter Mattei's \"Love in the Time of Money\" is a visually stunning film to watch. Mr. Mattei offers us a vivid portrait about human relations. This is a movie that seems to be telling us what mone...</td>\n",
       "      <td>1317</td>\n",
       "    </tr>\n",
       "  </tbody>\n",
       "</table>\n",
       "</div>"
      ],
      "text/plain": [
       "                                                                                                                                                                                                      text  \\\n",
       "0  One of the other reviewers has mentioned that after watching just 1 Oz episode you'll be hooked. They are right, as this is exactly what happened with me.<br /><br />The first thing that struck me...   \n",
       "1  A wonderful little production. <br /><br />The filming technique is very unassuming- very old-time-BBC fashion and gives a comforting, and sometimes discomforting, sense of realism to the entire p...   \n",
       "2  I thought this was a wonderful way to spend time on a too hot summer weekend, sitting in the air conditioned theater and watching a light-hearted comedy. The plot is simplistic, but the dialogue i...   \n",
       "3  Basically there's a family where a little boy (Jake) thinks there's a zombie in his closet & his parents are fighting all the time.<br /><br />This movie is slower than a soap opera... and suddenl...   \n",
       "4  Petter Mattei's \"Love in the Time of Money\" is a visually stunning film to watch. Mr. Mattei offers us a vivid portrait about human relations. This is a movie that seems to be telling us what mone...   \n",
       "\n",
       "   text_length  \n",
       "0         1761  \n",
       "1          998  \n",
       "2          926  \n",
       "3          748  \n",
       "4         1317  "
      ]
     },
     "execution_count": 53,
     "metadata": {},
     "output_type": "execute_result"
    }
   ],
   "source": [
    "df[[\"text\", \"text_length\"]].head()"
   ]
  },
  {
   "cell_type": "markdown",
   "metadata": {},
   "source": [
    "### Adding a new column for tokens (text ➔ tokens)"
   ]
  },
  {
   "cell_type": "code",
   "execution_count": 54,
   "metadata": {},
   "outputs": [],
   "source": [
    "df[\"tokens\"] = df.text.apply(lambda x: nltk.word_tokenize(x))"
   ]
  },
  {
   "cell_type": "code",
   "execution_count": 55,
   "metadata": {},
   "outputs": [
    {
     "data": {
      "text/plain": [
       "Index(['text', 'text_length', 'tokens'], dtype='object')"
      ]
     },
     "execution_count": 55,
     "metadata": {},
     "output_type": "execute_result"
    }
   ],
   "source": [
    "df.columns"
   ]
  },
  {
   "cell_type": "code",
   "execution_count": 56,
   "metadata": {
    "scrolled": true
   },
   "outputs": [
    {
     "data": {
      "text/html": [
       "<div>\n",
       "<style scoped>\n",
       "    .dataframe tbody tr th:only-of-type {\n",
       "        vertical-align: middle;\n",
       "    }\n",
       "\n",
       "    .dataframe tbody tr th {\n",
       "        vertical-align: top;\n",
       "    }\n",
       "\n",
       "    .dataframe thead th {\n",
       "        text-align: right;\n",
       "    }\n",
       "</style>\n",
       "<table border=\"1\" class=\"dataframe\">\n",
       "  <thead>\n",
       "    <tr style=\"text-align: right;\">\n",
       "      <th></th>\n",
       "      <th>text</th>\n",
       "      <th>tokens</th>\n",
       "    </tr>\n",
       "  </thead>\n",
       "  <tbody>\n",
       "    <tr>\n",
       "      <th>0</th>\n",
       "      <td>One of the other reviewers has mentioned that after watching just 1 Oz episode you'll be hooked. They are right, as this is exactly what happened with me.&lt;br /&gt;&lt;br /&gt;The first thing that struck me...</td>\n",
       "      <td>[One, of, the, other, reviewers, has, mentioned, that, after, watching, just, 1, Oz, episode, you, 'll, be, hooked, ., They, are, right, ,, as, this, is, exactly, what, happened, with, me., &lt;, br,...</td>\n",
       "    </tr>\n",
       "    <tr>\n",
       "      <th>1</th>\n",
       "      <td>A wonderful little production. &lt;br /&gt;&lt;br /&gt;The filming technique is very unassuming- very old-time-BBC fashion and gives a comforting, and sometimes discomforting, sense of realism to the entire p...</td>\n",
       "      <td>[A, wonderful, little, production, ., &lt;, br, /, &gt;, &lt;, br, /, &gt;, The, filming, technique, is, very, unassuming-, very, old-time-BBC, fashion, and, gives, a, comforting, ,, and, sometimes, discomfor...</td>\n",
       "    </tr>\n",
       "    <tr>\n",
       "      <th>2</th>\n",
       "      <td>I thought this was a wonderful way to spend time on a too hot summer weekend, sitting in the air conditioned theater and watching a light-hearted comedy. The plot is simplistic, but the dialogue i...</td>\n",
       "      <td>[I, thought, this, was, a, wonderful, way, to, spend, time, on, a, too, hot, summer, weekend, ,, sitting, in, the, air, conditioned, theater, and, watching, a, light-hearted, comedy, ., The, plot,...</td>\n",
       "    </tr>\n",
       "    <tr>\n",
       "      <th>3</th>\n",
       "      <td>Basically there's a family where a little boy (Jake) thinks there's a zombie in his closet &amp; his parents are fighting all the time.&lt;br /&gt;&lt;br /&gt;This movie is slower than a soap opera... and suddenl...</td>\n",
       "      <td>[Basically, there, 's, a, family, where, a, little, boy, (, Jake, ), thinks, there, 's, a, zombie, in, his, closet, &amp;, his, parents, are, fighting, all, the, time., &lt;, br, /, &gt;, &lt;, br, /, &gt;, This,...</td>\n",
       "    </tr>\n",
       "    <tr>\n",
       "      <th>4</th>\n",
       "      <td>Petter Mattei's \"Love in the Time of Money\" is a visually stunning film to watch. Mr. Mattei offers us a vivid portrait about human relations. This is a movie that seems to be telling us what mone...</td>\n",
       "      <td>[Petter, Mattei, 's, ``, Love, in, the, Time, of, Money, '', is, a, visually, stunning, film, to, watch, ., Mr., Mattei, offers, us, a, vivid, portrait, about, human, relations, ., This, is, a, mo...</td>\n",
       "    </tr>\n",
       "  </tbody>\n",
       "</table>\n",
       "</div>"
      ],
      "text/plain": [
       "                                                                                                                                                                                                      text  \\\n",
       "0  One of the other reviewers has mentioned that after watching just 1 Oz episode you'll be hooked. They are right, as this is exactly what happened with me.<br /><br />The first thing that struck me...   \n",
       "1  A wonderful little production. <br /><br />The filming technique is very unassuming- very old-time-BBC fashion and gives a comforting, and sometimes discomforting, sense of realism to the entire p...   \n",
       "2  I thought this was a wonderful way to spend time on a too hot summer weekend, sitting in the air conditioned theater and watching a light-hearted comedy. The plot is simplistic, but the dialogue i...   \n",
       "3  Basically there's a family where a little boy (Jake) thinks there's a zombie in his closet & his parents are fighting all the time.<br /><br />This movie is slower than a soap opera... and suddenl...   \n",
       "4  Petter Mattei's \"Love in the Time of Money\" is a visually stunning film to watch. Mr. Mattei offers us a vivid portrait about human relations. This is a movie that seems to be telling us what mone...   \n",
       "\n",
       "                                                                                                                                                                                                    tokens  \n",
       "0  [One, of, the, other, reviewers, has, mentioned, that, after, watching, just, 1, Oz, episode, you, 'll, be, hooked, ., They, are, right, ,, as, this, is, exactly, what, happened, with, me., <, br,...  \n",
       "1  [A, wonderful, little, production, ., <, br, /, >, <, br, /, >, The, filming, technique, is, very, unassuming-, very, old-time-BBC, fashion, and, gives, a, comforting, ,, and, sometimes, discomfor...  \n",
       "2  [I, thought, this, was, a, wonderful, way, to, spend, time, on, a, too, hot, summer, weekend, ,, sitting, in, the, air, conditioned, theater, and, watching, a, light-hearted, comedy, ., The, plot,...  \n",
       "3  [Basically, there, 's, a, family, where, a, little, boy, (, Jake, ), thinks, there, 's, a, zombie, in, his, closet, &, his, parents, are, fighting, all, the, time., <, br, /, >, <, br, /, >, This,...  \n",
       "4  [Petter, Mattei, 's, ``, Love, in, the, Time, of, Money, '', is, a, visually, stunning, film, to, watch, ., Mr., Mattei, offers, us, a, vivid, portrait, about, human, relations, ., This, is, a, mo...  "
      ]
     },
     "execution_count": 56,
     "metadata": {},
     "output_type": "execute_result"
    }
   ],
   "source": [
    "df[[\"text\", \"tokens\"]].head()"
   ]
  },
  {
   "cell_type": "markdown",
   "metadata": {},
   "source": [
    "### Adding a new column for tagged tokens (tokens ➔ tagged_tokens)"
   ]
  },
  {
   "cell_type": "code",
   "execution_count": 57,
   "metadata": {},
   "outputs": [],
   "source": [
    "df[\"tagged_tokens\"] = df.tokens.apply(lambda x: nltk.pos_tag(x))"
   ]
  },
  {
   "cell_type": "code",
   "execution_count": 58,
   "metadata": {},
   "outputs": [
    {
     "data": {
      "text/plain": [
       "Index(['text', 'text_length', 'tokens', 'tagged_tokens'], dtype='object')"
      ]
     },
     "execution_count": 58,
     "metadata": {},
     "output_type": "execute_result"
    }
   ],
   "source": [
    "df.columns"
   ]
  },
  {
   "cell_type": "code",
   "execution_count": 59,
   "metadata": {
    "scrolled": true
   },
   "outputs": [
    {
     "data": {
      "text/html": [
       "<div>\n",
       "<style scoped>\n",
       "    .dataframe tbody tr th:only-of-type {\n",
       "        vertical-align: middle;\n",
       "    }\n",
       "\n",
       "    .dataframe tbody tr th {\n",
       "        vertical-align: top;\n",
       "    }\n",
       "\n",
       "    .dataframe thead th {\n",
       "        text-align: right;\n",
       "    }\n",
       "</style>\n",
       "<table border=\"1\" class=\"dataframe\">\n",
       "  <thead>\n",
       "    <tr style=\"text-align: right;\">\n",
       "      <th></th>\n",
       "      <th>text</th>\n",
       "      <th>tokens</th>\n",
       "      <th>tagged_tokens</th>\n",
       "    </tr>\n",
       "  </thead>\n",
       "  <tbody>\n",
       "    <tr>\n",
       "      <th>0</th>\n",
       "      <td>One of the other reviewers has mentioned that after watching just 1 Oz episode you'll be hooked. They are right, as this is exactly what happened with me.&lt;br /&gt;&lt;br /&gt;The first thing that struck me...</td>\n",
       "      <td>[One, of, the, other, reviewers, has, mentioned, that, after, watching, just, 1, Oz, episode, you, 'll, be, hooked, ., They, are, right, ,, as, this, is, exactly, what, happened, with, me., &lt;, br,...</td>\n",
       "      <td>[(One, CD), (of, IN), (the, DT), (other, JJ), (reviewers, NNS), (has, VBZ), (mentioned, VBN), (that, IN), (after, IN), (watching, VBG), (just, RB), (1, CD), (Oz, NNP), (episode, NN), (you, PRP), (...</td>\n",
       "    </tr>\n",
       "    <tr>\n",
       "      <th>1</th>\n",
       "      <td>A wonderful little production. &lt;br /&gt;&lt;br /&gt;The filming technique is very unassuming- very old-time-BBC fashion and gives a comforting, and sometimes discomforting, sense of realism to the entire p...</td>\n",
       "      <td>[A, wonderful, little, production, ., &lt;, br, /, &gt;, &lt;, br, /, &gt;, The, filming, technique, is, very, unassuming-, very, old-time-BBC, fashion, and, gives, a, comforting, ,, and, sometimes, discomfor...</td>\n",
       "      <td>[(A, DT), (wonderful, JJ), (little, JJ), (production, NN), (., .), (&lt;, JJ), (br, NN), (/, NNP), (&gt;, NNP), (&lt;, NNP), (br, NN), (/, NNP), (&gt;, VBZ), (The, DT), (filming, NN), (technique, NN), (is, VB...</td>\n",
       "    </tr>\n",
       "    <tr>\n",
       "      <th>2</th>\n",
       "      <td>I thought this was a wonderful way to spend time on a too hot summer weekend, sitting in the air conditioned theater and watching a light-hearted comedy. The plot is simplistic, but the dialogue i...</td>\n",
       "      <td>[I, thought, this, was, a, wonderful, way, to, spend, time, on, a, too, hot, summer, weekend, ,, sitting, in, the, air, conditioned, theater, and, watching, a, light-hearted, comedy, ., The, plot,...</td>\n",
       "      <td>[(I, PRP), (thought, VBD), (this, DT), (was, VBD), (a, DT), (wonderful, JJ), (way, NN), (to, TO), (spend, VB), (time, NN), (on, IN), (a, DT), (too, RB), (hot, JJ), (summer, NN), (weekend, NN), (,,...</td>\n",
       "    </tr>\n",
       "    <tr>\n",
       "      <th>3</th>\n",
       "      <td>Basically there's a family where a little boy (Jake) thinks there's a zombie in his closet &amp; his parents are fighting all the time.&lt;br /&gt;&lt;br /&gt;This movie is slower than a soap opera... and suddenl...</td>\n",
       "      <td>[Basically, there, 's, a, family, where, a, little, boy, (, Jake, ), thinks, there, 's, a, zombie, in, his, closet, &amp;, his, parents, are, fighting, all, the, time., &lt;, br, /, &gt;, &lt;, br, /, &gt;, This,...</td>\n",
       "      <td>[(Basically, NNP), (there, EX), ('s, VBZ), (a, DT), (family, NN), (where, WRB), (a, DT), (little, JJ), (boy, NN), ((, (), (Jake, NNP), (), )), (thinks, VBZ), (there, EX), ('s, VBZ), (a, DT), (zomb...</td>\n",
       "    </tr>\n",
       "    <tr>\n",
       "      <th>4</th>\n",
       "      <td>Petter Mattei's \"Love in the Time of Money\" is a visually stunning film to watch. Mr. Mattei offers us a vivid portrait about human relations. This is a movie that seems to be telling us what mone...</td>\n",
       "      <td>[Petter, Mattei, 's, ``, Love, in, the, Time, of, Money, '', is, a, visually, stunning, film, to, watch, ., Mr., Mattei, offers, us, a, vivid, portrait, about, human, relations, ., This, is, a, mo...</td>\n",
       "      <td>[(Petter, NNP), (Mattei, NNP), ('s, POS), (``, ``), (Love, NNP), (in, IN), (the, DT), (Time, NNP), (of, IN), (Money, NNP), ('', ''), (is, VBZ), (a, DT), (visually, RB), (stunning, JJ), (film, NN),...</td>\n",
       "    </tr>\n",
       "  </tbody>\n",
       "</table>\n",
       "</div>"
      ],
      "text/plain": [
       "                                                                                                                                                                                                      text  \\\n",
       "0  One of the other reviewers has mentioned that after watching just 1 Oz episode you'll be hooked. They are right, as this is exactly what happened with me.<br /><br />The first thing that struck me...   \n",
       "1  A wonderful little production. <br /><br />The filming technique is very unassuming- very old-time-BBC fashion and gives a comforting, and sometimes discomforting, sense of realism to the entire p...   \n",
       "2  I thought this was a wonderful way to spend time on a too hot summer weekend, sitting in the air conditioned theater and watching a light-hearted comedy. The plot is simplistic, but the dialogue i...   \n",
       "3  Basically there's a family where a little boy (Jake) thinks there's a zombie in his closet & his parents are fighting all the time.<br /><br />This movie is slower than a soap opera... and suddenl...   \n",
       "4  Petter Mattei's \"Love in the Time of Money\" is a visually stunning film to watch. Mr. Mattei offers us a vivid portrait about human relations. This is a movie that seems to be telling us what mone...   \n",
       "\n",
       "                                                                                                                                                                                                    tokens  \\\n",
       "0  [One, of, the, other, reviewers, has, mentioned, that, after, watching, just, 1, Oz, episode, you, 'll, be, hooked, ., They, are, right, ,, as, this, is, exactly, what, happened, with, me., <, br,...   \n",
       "1  [A, wonderful, little, production, ., <, br, /, >, <, br, /, >, The, filming, technique, is, very, unassuming-, very, old-time-BBC, fashion, and, gives, a, comforting, ,, and, sometimes, discomfor...   \n",
       "2  [I, thought, this, was, a, wonderful, way, to, spend, time, on, a, too, hot, summer, weekend, ,, sitting, in, the, air, conditioned, theater, and, watching, a, light-hearted, comedy, ., The, plot,...   \n",
       "3  [Basically, there, 's, a, family, where, a, little, boy, (, Jake, ), thinks, there, 's, a, zombie, in, his, closet, &, his, parents, are, fighting, all, the, time., <, br, /, >, <, br, /, >, This,...   \n",
       "4  [Petter, Mattei, 's, ``, Love, in, the, Time, of, Money, '', is, a, visually, stunning, film, to, watch, ., Mr., Mattei, offers, us, a, vivid, portrait, about, human, relations, ., This, is, a, mo...   \n",
       "\n",
       "                                                                                                                                                                                             tagged_tokens  \n",
       "0  [(One, CD), (of, IN), (the, DT), (other, JJ), (reviewers, NNS), (has, VBZ), (mentioned, VBN), (that, IN), (after, IN), (watching, VBG), (just, RB), (1, CD), (Oz, NNP), (episode, NN), (you, PRP), (...  \n",
       "1  [(A, DT), (wonderful, JJ), (little, JJ), (production, NN), (., .), (<, JJ), (br, NN), (/, NNP), (>, NNP), (<, NNP), (br, NN), (/, NNP), (>, VBZ), (The, DT), (filming, NN), (technique, NN), (is, VB...  \n",
       "2  [(I, PRP), (thought, VBD), (this, DT), (was, VBD), (a, DT), (wonderful, JJ), (way, NN), (to, TO), (spend, VB), (time, NN), (on, IN), (a, DT), (too, RB), (hot, JJ), (summer, NN), (weekend, NN), (,,...  \n",
       "3  [(Basically, NNP), (there, EX), ('s, VBZ), (a, DT), (family, NN), (where, WRB), (a, DT), (little, JJ), (boy, NN), ((, (), (Jake, NNP), (), )), (thinks, VBZ), (there, EX), ('s, VBZ), (a, DT), (zomb...  \n",
       "4  [(Petter, NNP), (Mattei, NNP), ('s, POS), (``, ``), (Love, NNP), (in, IN), (the, DT), (Time, NNP), (of, IN), (Money, NNP), ('', ''), (is, VBZ), (a, DT), (visually, RB), (stunning, JJ), (film, NN),...  "
      ]
     },
     "execution_count": 59,
     "metadata": {},
     "output_type": "execute_result"
    }
   ],
   "source": [
    "df[[\"text\", \"tokens\", \"tagged_tokens\"]].head()"
   ]
  },
  {
   "cell_type": "markdown",
   "metadata": {},
   "source": [
    "### Adding new columns for sentiment (text ➔ polarity, subjectivity)\n",
    "\n",
    "- Polarity between -1 (negative) and 1 (positive)\n",
    "- Subjectivity between 0 (objective) and 1 (subjective)"
   ]
  },
  {
   "cell_type": "code",
   "execution_count": 60,
   "metadata": {},
   "outputs": [],
   "source": [
    "df[\"polarity\"] = df.text.apply(lambda x: TextBlob(x).sentiment.polarity)\n",
    "df[\"subjectivity\"] = df.text.apply(lambda x: TextBlob(x).sentiment.subjectivity)"
   ]
  },
  {
   "cell_type": "code",
   "execution_count": 61,
   "metadata": {
    "scrolled": true
   },
   "outputs": [
    {
     "data": {
      "text/plain": [
       "Index(['text', 'text_length', 'tokens', 'tagged_tokens', 'polarity',\n",
       "       'subjectivity'],\n",
       "      dtype='object')"
      ]
     },
     "execution_count": 61,
     "metadata": {},
     "output_type": "execute_result"
    }
   ],
   "source": [
    "df.columns"
   ]
  },
  {
   "cell_type": "code",
   "execution_count": 62,
   "metadata": {
    "scrolled": true
   },
   "outputs": [
    {
     "data": {
      "text/html": [
       "<div>\n",
       "<style scoped>\n",
       "    .dataframe tbody tr th:only-of-type {\n",
       "        vertical-align: middle;\n",
       "    }\n",
       "\n",
       "    .dataframe tbody tr th {\n",
       "        vertical-align: top;\n",
       "    }\n",
       "\n",
       "    .dataframe thead th {\n",
       "        text-align: right;\n",
       "    }\n",
       "</style>\n",
       "<table border=\"1\" class=\"dataframe\">\n",
       "  <thead>\n",
       "    <tr style=\"text-align: right;\">\n",
       "      <th></th>\n",
       "      <th>text</th>\n",
       "      <th>polarity</th>\n",
       "      <th>subjectivity</th>\n",
       "    </tr>\n",
       "  </thead>\n",
       "  <tbody>\n",
       "    <tr>\n",
       "      <th>0</th>\n",
       "      <td>One of the other reviewers has mentioned that after watching just 1 Oz episode you'll be hooked. They are right, as this is exactly what happened with me.&lt;br /&gt;&lt;br /&gt;The first thing that struck me...</td>\n",
       "      <td>0.023433</td>\n",
       "      <td>0.490369</td>\n",
       "    </tr>\n",
       "    <tr>\n",
       "      <th>1</th>\n",
       "      <td>A wonderful little production. &lt;br /&gt;&lt;br /&gt;The filming technique is very unassuming- very old-time-BBC fashion and gives a comforting, and sometimes discomforting, sense of realism to the entire p...</td>\n",
       "      <td>0.109722</td>\n",
       "      <td>0.559343</td>\n",
       "    </tr>\n",
       "    <tr>\n",
       "      <th>2</th>\n",
       "      <td>I thought this was a wonderful way to spend time on a too hot summer weekend, sitting in the air conditioned theater and watching a light-hearted comedy. The plot is simplistic, but the dialogue i...</td>\n",
       "      <td>0.354008</td>\n",
       "      <td>0.658730</td>\n",
       "    </tr>\n",
       "    <tr>\n",
       "      <th>3</th>\n",
       "      <td>Basically there's a family where a little boy (Jake) thinks there's a zombie in his closet &amp; his parents are fighting all the time.&lt;br /&gt;&lt;br /&gt;This movie is slower than a soap opera... and suddenl...</td>\n",
       "      <td>-0.057813</td>\n",
       "      <td>0.454167</td>\n",
       "    </tr>\n",
       "    <tr>\n",
       "      <th>4</th>\n",
       "      <td>Petter Mattei's \"Love in the Time of Money\" is a visually stunning film to watch. Mr. Mattei offers us a vivid portrait about human relations. This is a movie that seems to be telling us what mone...</td>\n",
       "      <td>0.217952</td>\n",
       "      <td>0.452916</td>\n",
       "    </tr>\n",
       "  </tbody>\n",
       "</table>\n",
       "</div>"
      ],
      "text/plain": [
       "                                                                                                                                                                                                      text  \\\n",
       "0  One of the other reviewers has mentioned that after watching just 1 Oz episode you'll be hooked. They are right, as this is exactly what happened with me.<br /><br />The first thing that struck me...   \n",
       "1  A wonderful little production. <br /><br />The filming technique is very unassuming- very old-time-BBC fashion and gives a comforting, and sometimes discomforting, sense of realism to the entire p...   \n",
       "2  I thought this was a wonderful way to spend time on a too hot summer weekend, sitting in the air conditioned theater and watching a light-hearted comedy. The plot is simplistic, but the dialogue i...   \n",
       "3  Basically there's a family where a little boy (Jake) thinks there's a zombie in his closet & his parents are fighting all the time.<br /><br />This movie is slower than a soap opera... and suddenl...   \n",
       "4  Petter Mattei's \"Love in the Time of Money\" is a visually stunning film to watch. Mr. Mattei offers us a vivid portrait about human relations. This is a movie that seems to be telling us what mone...   \n",
       "\n",
       "   polarity  subjectivity  \n",
       "0  0.023433      0.490369  \n",
       "1  0.109722      0.559343  \n",
       "2  0.354008      0.658730  \n",
       "3 -0.057813      0.454167  \n",
       "4  0.217952      0.452916  "
      ]
     },
     "execution_count": 62,
     "metadata": {},
     "output_type": "execute_result"
    }
   ],
   "source": [
    "df[[\"text\", \"polarity\", \"subjectivity\"]].head()"
   ]
  },
  {
   "cell_type": "code",
   "execution_count": 63,
   "metadata": {},
   "outputs": [
    {
     "data": {
      "text/html": [
       "<div>\n",
       "<style scoped>\n",
       "    .dataframe tbody tr th:only-of-type {\n",
       "        vertical-align: middle;\n",
       "    }\n",
       "\n",
       "    .dataframe tbody tr th {\n",
       "        vertical-align: top;\n",
       "    }\n",
       "\n",
       "    .dataframe thead th {\n",
       "        text-align: right;\n",
       "    }\n",
       "</style>\n",
       "<table border=\"1\" class=\"dataframe\">\n",
       "  <thead>\n",
       "    <tr style=\"text-align: right;\">\n",
       "      <th></th>\n",
       "      <th>text</th>\n",
       "      <th>polarity</th>\n",
       "    </tr>\n",
       "  </thead>\n",
       "  <tbody>\n",
       "    <tr>\n",
       "      <th>9</th>\n",
       "      <td>If you like original gut wrenching laughter you will like this movie. If you are young or old then you will love this movie, hell even my mom liked it.&lt;br /&gt;&lt;br /&gt;Great Camp!!!</td>\n",
       "      <td>0.415000</td>\n",
       "    </tr>\n",
       "    <tr>\n",
       "      <th>38</th>\n",
       "      <td>Okay, so this series kind of takes the route of 'here we go again!' Week in, week out David Morse's character helps out his ride who is in a bit of a pickle - but what's wrong with that!? David Mo...</td>\n",
       "      <td>0.416142</td>\n",
       "    </tr>\n",
       "    <tr>\n",
       "      <th>84</th>\n",
       "      <td>We brought this film as a joke for a friend, and could of been our worst joke to play. The film is barely watchable, and the acting is dire. The worst child actor ever used and Hasslehoff giving a...</td>\n",
       "      <td>-0.568750</td>\n",
       "    </tr>\n",
       "    <tr>\n",
       "      <th>160</th>\n",
       "      <td>MYSTERY MEN has got to be THE stupidest film I've ever seen, but what a film! I thought it was fabulous, excellent and impressive. It was funny, well-done and nice to see ridiculous Super Heroes f...</td>\n",
       "      <td>0.495833</td>\n",
       "    </tr>\n",
       "    <tr>\n",
       "      <th>162</th>\n",
       "      <td>I can't believe it that was the worst movie i have ever seen in my life. i laughed a couple of times. ( probably because of how stupid it was ) If someone paid me to see that movie again i wouldn'...</td>\n",
       "      <td>-0.542857</td>\n",
       "    </tr>\n",
       "  </tbody>\n",
       "</table>\n",
       "</div>"
      ],
      "text/plain": [
       "                                                                                                                                                                                                        text  \\\n",
       "9                           If you like original gut wrenching laughter you will like this movie. If you are young or old then you will love this movie, hell even my mom liked it.<br /><br />Great Camp!!!   \n",
       "38   Okay, so this series kind of takes the route of 'here we go again!' Week in, week out David Morse's character helps out his ride who is in a bit of a pickle - but what's wrong with that!? David Mo...   \n",
       "84   We brought this film as a joke for a friend, and could of been our worst joke to play. The film is barely watchable, and the acting is dire. The worst child actor ever used and Hasslehoff giving a...   \n",
       "160  MYSTERY MEN has got to be THE stupidest film I've ever seen, but what a film! I thought it was fabulous, excellent and impressive. It was funny, well-done and nice to see ridiculous Super Heroes f...   \n",
       "162  I can't believe it that was the worst movie i have ever seen in my life. i laughed a couple of times. ( probably because of how stupid it was ) If someone paid me to see that movie again i wouldn'...   \n",
       "\n",
       "     polarity  \n",
       "9    0.415000  \n",
       "38   0.416142  \n",
       "84  -0.568750  \n",
       "160  0.495833  \n",
       "162 -0.542857  "
      ]
     },
     "execution_count": 63,
     "metadata": {},
     "output_type": "execute_result"
    }
   ],
   "source": [
    "df[(df.polarity > 0.4) | (df.polarity < -0.4)][[\"text\", \"polarity\"]].head()"
   ]
  },
  {
   "cell_type": "markdown",
   "metadata": {},
   "source": [
    "## Exercises for adding new columns (2 questions)"
   ]
  },
  {
   "cell_type": "markdown",
   "metadata": {},
   "source": [
    "Let's continue to use the dataframe <i>df</i> from the movie review dataset."
   ]
  },
  {
   "cell_type": "code",
   "execution_count": 64,
   "metadata": {},
   "outputs": [
    {
     "data": {
      "text/html": [
       "<div>\n",
       "<style scoped>\n",
       "    .dataframe tbody tr th:only-of-type {\n",
       "        vertical-align: middle;\n",
       "    }\n",
       "\n",
       "    .dataframe tbody tr th {\n",
       "        vertical-align: top;\n",
       "    }\n",
       "\n",
       "    .dataframe thead th {\n",
       "        text-align: right;\n",
       "    }\n",
       "</style>\n",
       "<table border=\"1\" class=\"dataframe\">\n",
       "  <thead>\n",
       "    <tr style=\"text-align: right;\">\n",
       "      <th></th>\n",
       "      <th>text</th>\n",
       "      <th>text_length</th>\n",
       "      <th>tokens</th>\n",
       "      <th>tagged_tokens</th>\n",
       "      <th>polarity</th>\n",
       "      <th>subjectivity</th>\n",
       "    </tr>\n",
       "  </thead>\n",
       "  <tbody>\n",
       "    <tr>\n",
       "      <th>0</th>\n",
       "      <td>One of the other reviewers has mentioned that after watching just 1 Oz episode you'll be hooked. They are right, as this is exactly what happened with me.&lt;br /&gt;&lt;br /&gt;The first thing that struck me...</td>\n",
       "      <td>1761</td>\n",
       "      <td>[One, of, the, other, reviewers, has, mentioned, that, after, watching, just, 1, Oz, episode, you, 'll, be, hooked, ., They, are, right, ,, as, this, is, exactly, what, happened, with, me., &lt;, br,...</td>\n",
       "      <td>[(One, CD), (of, IN), (the, DT), (other, JJ), (reviewers, NNS), (has, VBZ), (mentioned, VBN), (that, IN), (after, IN), (watching, VBG), (just, RB), (1, CD), (Oz, NNP), (episode, NN), (you, PRP), (...</td>\n",
       "      <td>0.023433</td>\n",
       "      <td>0.490369</td>\n",
       "    </tr>\n",
       "    <tr>\n",
       "      <th>1</th>\n",
       "      <td>A wonderful little production. &lt;br /&gt;&lt;br /&gt;The filming technique is very unassuming- very old-time-BBC fashion and gives a comforting, and sometimes discomforting, sense of realism to the entire p...</td>\n",
       "      <td>998</td>\n",
       "      <td>[A, wonderful, little, production, ., &lt;, br, /, &gt;, &lt;, br, /, &gt;, The, filming, technique, is, very, unassuming-, very, old-time-BBC, fashion, and, gives, a, comforting, ,, and, sometimes, discomfor...</td>\n",
       "      <td>[(A, DT), (wonderful, JJ), (little, JJ), (production, NN), (., .), (&lt;, JJ), (br, NN), (/, NNP), (&gt;, NNP), (&lt;, NNP), (br, NN), (/, NNP), (&gt;, VBZ), (The, DT), (filming, NN), (technique, NN), (is, VB...</td>\n",
       "      <td>0.109722</td>\n",
       "      <td>0.559343</td>\n",
       "    </tr>\n",
       "    <tr>\n",
       "      <th>2</th>\n",
       "      <td>I thought this was a wonderful way to spend time on a too hot summer weekend, sitting in the air conditioned theater and watching a light-hearted comedy. The plot is simplistic, but the dialogue i...</td>\n",
       "      <td>926</td>\n",
       "      <td>[I, thought, this, was, a, wonderful, way, to, spend, time, on, a, too, hot, summer, weekend, ,, sitting, in, the, air, conditioned, theater, and, watching, a, light-hearted, comedy, ., The, plot,...</td>\n",
       "      <td>[(I, PRP), (thought, VBD), (this, DT), (was, VBD), (a, DT), (wonderful, JJ), (way, NN), (to, TO), (spend, VB), (time, NN), (on, IN), (a, DT), (too, RB), (hot, JJ), (summer, NN), (weekend, NN), (,,...</td>\n",
       "      <td>0.354008</td>\n",
       "      <td>0.658730</td>\n",
       "    </tr>\n",
       "    <tr>\n",
       "      <th>3</th>\n",
       "      <td>Basically there's a family where a little boy (Jake) thinks there's a zombie in his closet &amp; his parents are fighting all the time.&lt;br /&gt;&lt;br /&gt;This movie is slower than a soap opera... and suddenl...</td>\n",
       "      <td>748</td>\n",
       "      <td>[Basically, there, 's, a, family, where, a, little, boy, (, Jake, ), thinks, there, 's, a, zombie, in, his, closet, &amp;, his, parents, are, fighting, all, the, time., &lt;, br, /, &gt;, &lt;, br, /, &gt;, This,...</td>\n",
       "      <td>[(Basically, NNP), (there, EX), ('s, VBZ), (a, DT), (family, NN), (where, WRB), (a, DT), (little, JJ), (boy, NN), ((, (), (Jake, NNP), (), )), (thinks, VBZ), (there, EX), ('s, VBZ), (a, DT), (zomb...</td>\n",
       "      <td>-0.057813</td>\n",
       "      <td>0.454167</td>\n",
       "    </tr>\n",
       "    <tr>\n",
       "      <th>4</th>\n",
       "      <td>Petter Mattei's \"Love in the Time of Money\" is a visually stunning film to watch. Mr. Mattei offers us a vivid portrait about human relations. This is a movie that seems to be telling us what mone...</td>\n",
       "      <td>1317</td>\n",
       "      <td>[Petter, Mattei, 's, ``, Love, in, the, Time, of, Money, '', is, a, visually, stunning, film, to, watch, ., Mr., Mattei, offers, us, a, vivid, portrait, about, human, relations, ., This, is, a, mo...</td>\n",
       "      <td>[(Petter, NNP), (Mattei, NNP), ('s, POS), (``, ``), (Love, NNP), (in, IN), (the, DT), (Time, NNP), (of, IN), (Money, NNP), ('', ''), (is, VBZ), (a, DT), (visually, RB), (stunning, JJ), (film, NN),...</td>\n",
       "      <td>0.217952</td>\n",
       "      <td>0.452916</td>\n",
       "    </tr>\n",
       "  </tbody>\n",
       "</table>\n",
       "</div>"
      ],
      "text/plain": [
       "                                                                                                                                                                                                      text  \\\n",
       "0  One of the other reviewers has mentioned that after watching just 1 Oz episode you'll be hooked. They are right, as this is exactly what happened with me.<br /><br />The first thing that struck me...   \n",
       "1  A wonderful little production. <br /><br />The filming technique is very unassuming- very old-time-BBC fashion and gives a comforting, and sometimes discomforting, sense of realism to the entire p...   \n",
       "2  I thought this was a wonderful way to spend time on a too hot summer weekend, sitting in the air conditioned theater and watching a light-hearted comedy. The plot is simplistic, but the dialogue i...   \n",
       "3  Basically there's a family where a little boy (Jake) thinks there's a zombie in his closet & his parents are fighting all the time.<br /><br />This movie is slower than a soap opera... and suddenl...   \n",
       "4  Petter Mattei's \"Love in the Time of Money\" is a visually stunning film to watch. Mr. Mattei offers us a vivid portrait about human relations. This is a movie that seems to be telling us what mone...   \n",
       "\n",
       "   text_length  \\\n",
       "0         1761   \n",
       "1          998   \n",
       "2          926   \n",
       "3          748   \n",
       "4         1317   \n",
       "\n",
       "                                                                                                                                                                                                    tokens  \\\n",
       "0  [One, of, the, other, reviewers, has, mentioned, that, after, watching, just, 1, Oz, episode, you, 'll, be, hooked, ., They, are, right, ,, as, this, is, exactly, what, happened, with, me., <, br,...   \n",
       "1  [A, wonderful, little, production, ., <, br, /, >, <, br, /, >, The, filming, technique, is, very, unassuming-, very, old-time-BBC, fashion, and, gives, a, comforting, ,, and, sometimes, discomfor...   \n",
       "2  [I, thought, this, was, a, wonderful, way, to, spend, time, on, a, too, hot, summer, weekend, ,, sitting, in, the, air, conditioned, theater, and, watching, a, light-hearted, comedy, ., The, plot,...   \n",
       "3  [Basically, there, 's, a, family, where, a, little, boy, (, Jake, ), thinks, there, 's, a, zombie, in, his, closet, &, his, parents, are, fighting, all, the, time., <, br, /, >, <, br, /, >, This,...   \n",
       "4  [Petter, Mattei, 's, ``, Love, in, the, Time, of, Money, '', is, a, visually, stunning, film, to, watch, ., Mr., Mattei, offers, us, a, vivid, portrait, about, human, relations, ., This, is, a, mo...   \n",
       "\n",
       "                                                                                                                                                                                             tagged_tokens  \\\n",
       "0  [(One, CD), (of, IN), (the, DT), (other, JJ), (reviewers, NNS), (has, VBZ), (mentioned, VBN), (that, IN), (after, IN), (watching, VBG), (just, RB), (1, CD), (Oz, NNP), (episode, NN), (you, PRP), (...   \n",
       "1  [(A, DT), (wonderful, JJ), (little, JJ), (production, NN), (., .), (<, JJ), (br, NN), (/, NNP), (>, NNP), (<, NNP), (br, NN), (/, NNP), (>, VBZ), (The, DT), (filming, NN), (technique, NN), (is, VB...   \n",
       "2  [(I, PRP), (thought, VBD), (this, DT), (was, VBD), (a, DT), (wonderful, JJ), (way, NN), (to, TO), (spend, VB), (time, NN), (on, IN), (a, DT), (too, RB), (hot, JJ), (summer, NN), (weekend, NN), (,,...   \n",
       "3  [(Basically, NNP), (there, EX), ('s, VBZ), (a, DT), (family, NN), (where, WRB), (a, DT), (little, JJ), (boy, NN), ((, (), (Jake, NNP), (), )), (thinks, VBZ), (there, EX), ('s, VBZ), (a, DT), (zomb...   \n",
       "4  [(Petter, NNP), (Mattei, NNP), ('s, POS), (``, ``), (Love, NNP), (in, IN), (the, DT), (Time, NNP), (of, IN), (Money, NNP), ('', ''), (is, VBZ), (a, DT), (visually, RB), (stunning, JJ), (film, NN),...   \n",
       "\n",
       "   polarity  subjectivity  \n",
       "0  0.023433      0.490369  \n",
       "1  0.109722      0.559343  \n",
       "2  0.354008      0.658730  \n",
       "3 -0.057813      0.454167  \n",
       "4  0.217952      0.452916  "
      ]
     },
     "execution_count": 64,
     "metadata": {},
     "output_type": "execute_result"
    }
   ],
   "source": [
    "df.head()"
   ]
  },
  {
   "cell_type": "markdown",
   "metadata": {},
   "source": [
    "1\\. Add a new column named <i>text_short</i> that contains only the first ten characters of the column <i>text</i>."
   ]
  },
  {
   "cell_type": "code",
   "execution_count": 65,
   "metadata": {
    "scrolled": true
   },
   "outputs": [],
   "source": [
    "# Your answer here\n"
   ]
  },
  {
   "cell_type": "markdown",
   "metadata": {},
   "source": [
    "2\\. Add a new column <i>lang</i> that contains the language of the column <i>text</i>."
   ]
  },
  {
   "cell_type": "code",
   "execution_count": 66,
   "metadata": {
    "scrolled": true
   },
   "outputs": [],
   "source": [
    "# Your answer here\n"
   ]
  },
  {
   "cell_type": "markdown",
   "metadata": {},
   "source": [
    "## Popular keywords"
   ]
  },
  {
   "cell_type": "code",
   "execution_count": 67,
   "metadata": {
    "scrolled": false
   },
   "outputs": [
    {
     "data": {
      "text/plain": [
       "0    [(One, CD), (of, IN), (the, DT), (other, JJ), (reviewers, NNS), (has, VBZ), (mentioned, VBN), (that, IN), (after, IN), (watching, VBG), (just, RB), (1, CD), (Oz, NNP), (episode, NN), (you, PRP), (...\n",
       "1    [(A, DT), (wonderful, JJ), (little, JJ), (production, NN), (., .), (<, JJ), (br, NN), (/, NNP), (>, NNP), (<, NNP), (br, NN), (/, NNP), (>, VBZ), (The, DT), (filming, NN), (technique, NN), (is, VB...\n",
       "2    [(I, PRP), (thought, VBD), (this, DT), (was, VBD), (a, DT), (wonderful, JJ), (way, NN), (to, TO), (spend, VB), (time, NN), (on, IN), (a, DT), (too, RB), (hot, JJ), (summer, NN), (weekend, NN), (,,...\n",
       "3    [(Basically, NNP), (there, EX), ('s, VBZ), (a, DT), (family, NN), (where, WRB), (a, DT), (little, JJ), (boy, NN), ((, (), (Jake, NNP), (), )), (thinks, VBZ), (there, EX), ('s, VBZ), (a, DT), (zomb...\n",
       "4    [(Petter, NNP), (Mattei, NNP), ('s, POS), (``, ``), (Love, NNP), (in, IN), (the, DT), (Time, NNP), (of, IN), (Money, NNP), ('', ''), (is, VBZ), (a, DT), (visually, RB), (stunning, JJ), (film, NN),...\n",
       "Name: tagged_tokens, dtype: object"
      ]
     },
     "execution_count": 67,
     "metadata": {},
     "output_type": "execute_result"
    }
   ],
   "source": [
    "df.tagged_tokens[:5]"
   ]
  },
  {
   "cell_type": "code",
   "execution_count": 68,
   "metadata": {},
   "outputs": [],
   "source": [
    "###################################################################################\n",
    "# The 'counter' object will have all the word count information. \n",
    "###################################################################################\n",
    "\n",
    "counter = Counter()\n",
    "\n",
    "for pos in df.tagged_tokens:\n",
    "    \n",
    "    ###################################################################\n",
    "    # Use a set to remove duplicate words in a review.\n",
    "    # This enables you to count every token in a review as just 1 \n",
    "    # even though they appear multiple times in the same review. \n",
    "    ###################################################################\n",
    "    word_set = set()\n",
    "    \n",
    "    for t in pos:\n",
    "        word = t[0].lower()\n",
    "        word_set.add(word)\n",
    "            \n",
    "    counter.update(word_set)"
   ]
  },
  {
   "cell_type": "markdown",
   "metadata": {},
   "source": [
    "collections.Counter: https://docs.python.org/3/library/collections.html#collections.Counter"
   ]
  },
  {
   "cell_type": "code",
   "execution_count": 69,
   "metadata": {},
   "outputs": [
    {
     "data": {
      "text/plain": [
       "[('the', 994),\n",
       " ('.', 990),\n",
       " ('a', 967),\n",
       " ('and', 966),\n",
       " (',', 959),\n",
       " ('of', 956),\n",
       " ('to', 938),\n",
       " ('this', 912),\n",
       " ('is', 901),\n",
       " ('in', 882),\n",
       " ('it', 877),\n",
       " ('i', 811),\n",
       " ('that', 794),\n",
       " ('for', 716),\n",
       " ('but', 709),\n",
       " ('with', 706),\n",
       " (\"'s\", 702),\n",
       " ('was', 650),\n",
       " ('on', 638),\n",
       " ('as', 625),\n",
       " ('movie', 614),\n",
       " ('not', 601),\n",
       " (\"n't\", 597),\n",
       " ('/', 588),\n",
       " ('>', 587),\n",
       " ('<', 587),\n",
       " ('br', 587),\n",
       " ('you', 580),\n",
       " ('have', 565),\n",
       " ('be', 551)]"
      ]
     },
     "execution_count": 69,
     "metadata": {},
     "output_type": "execute_result"
    }
   ],
   "source": [
    "counter.most_common(30)           # Show the top-n most popular words in 'counter'."
   ]
  },
  {
   "cell_type": "markdown",
   "metadata": {},
   "source": [
    "collections.Counter.most_common: https://docs.python.org/3/library/collections.html#collections.Counter.most_common"
   ]
  },
  {
   "cell_type": "code",
   "execution_count": 70,
   "metadata": {},
   "outputs": [
    {
     "data": {
      "text/plain": [
       "['i',\n",
       " 'me',\n",
       " 'my',\n",
       " 'myself',\n",
       " 'we',\n",
       " 'our',\n",
       " 'ours',\n",
       " 'ourselves',\n",
       " 'you',\n",
       " \"you're\",\n",
       " \"you've\",\n",
       " \"you'll\",\n",
       " \"you'd\",\n",
       " 'your',\n",
       " 'yours',\n",
       " 'yourself',\n",
       " 'yourselves',\n",
       " 'he',\n",
       " 'him',\n",
       " 'his',\n",
       " 'himself',\n",
       " 'she',\n",
       " \"she's\",\n",
       " 'her',\n",
       " 'hers',\n",
       " 'herself',\n",
       " 'it',\n",
       " \"it's\",\n",
       " 'its',\n",
       " 'itself']"
      ]
     },
     "execution_count": 70,
     "metadata": {},
     "output_type": "execute_result"
    }
   ],
   "source": [
    "global_stopwords = nltk.corpus.stopwords.words(\"english\") # stopwords based on the English stopwords provided by NLTK\n",
    "global_stopwords[:30]"
   ]
  },
  {
   "cell_type": "markdown",
   "metadata": {},
   "source": [
    "Stopwords actually have no meaning in terms of keyword analysis."
   ]
  },
  {
   "cell_type": "code",
   "execution_count": 71,
   "metadata": {
    "scrolled": false
   },
   "outputs": [
    {
     "data": {
      "text/plain": [
       "[('.', 990),\n",
       " (',', 959),\n",
       " (\"'s\", 702),\n",
       " ('movie', 614),\n",
       " (\"n't\", 597),\n",
       " ('/', 588),\n",
       " ('>', 587),\n",
       " ('<', 587),\n",
       " ('br', 587),\n",
       " ('film', 544),\n",
       " ('one', 539),\n",
       " (')', 531),\n",
       " ('(', 528),\n",
       " ('like', 458),\n",
       " ('``', 451),\n",
       " (\"''\", 450),\n",
       " ('!', 374),\n",
       " ('would', 350),\n",
       " ('even', 348),\n",
       " ('good', 343),\n",
       " ('see', 339),\n",
       " ('?', 315),\n",
       " ('time', 310),\n",
       " ('really', 309),\n",
       " ('get', 308),\n",
       " ('story', 302),\n",
       " ('much', 285),\n",
       " ('well', 282),\n",
       " ('made', 256),\n",
       " ('could', 255)]"
      ]
     },
     "execution_count": 71,
     "metadata": {},
     "output_type": "execute_result"
    }
   ],
   "source": [
    "counter = Counter()\n",
    "\n",
    "for pos in df.tagged_tokens:\n",
    "    word_set = set()\n",
    "    \n",
    "    for t in pos:\n",
    "        word = t[0].lower()\n",
    "        \n",
    "        ###################################\n",
    "        # Check if the word is a stopword.\n",
    "        ###################################\n",
    "        if word in global_stopwords:\n",
    "            continue\n",
    "        else:\n",
    "            word_set.add(word)\n",
    "            \n",
    "    counter.update(word_set)\n",
    "    \n",
    "counter.most_common(30)"
   ]
  },
  {
   "cell_type": "code",
   "execution_count": 72,
   "metadata": {
    "scrolled": false
   },
   "outputs": [
    {
     "data": {
      "text/plain": [
       "[(\"'s\", 702),\n",
       " ('movie', 614),\n",
       " (\"n't\", 597),\n",
       " ('/', 588),\n",
       " ('>', 587),\n",
       " ('<', 587),\n",
       " ('br', 587),\n",
       " ('film', 544),\n",
       " ('one', 539),\n",
       " ('like', 458),\n",
       " ('``', 451),\n",
       " (\"''\", 450),\n",
       " ('would', 350),\n",
       " ('even', 348),\n",
       " ('good', 343),\n",
       " ('see', 339),\n",
       " ('?', 315),\n",
       " ('time', 310),\n",
       " ('really', 309),\n",
       " ('get', 308),\n",
       " ('story', 302),\n",
       " ('much', 285),\n",
       " ('well', 282),\n",
       " ('made', 256),\n",
       " ('could', 255),\n",
       " ('way', 254),\n",
       " ('also', 252),\n",
       " ('first', 251),\n",
       " ('great', 246),\n",
       " ('people', 241)]"
      ]
     },
     "execution_count": 72,
     "metadata": {},
     "output_type": "execute_result"
    }
   ],
   "source": [
    "local_stopwords = [\":\", \";\", \",\", \".\", \"...\", \"!\", \"-\", \"#\", \"(\", \")\", \"@\", \"&\", \"%\", \"'\", \"’\", \"“\", \"”\", \n",
    "                   \"amp\", \"https\", \"rt\", \"t…\"]\n",
    "\n",
    "counter = Counter()\n",
    "for pos in df.tagged_tokens:\n",
    "    word_set = set()\n",
    "    \n",
    "    for t in pos:\n",
    "        word = t[0].lower()\n",
    "        \n",
    "        ##########################################################\n",
    "        # Check if the word is either a global or a local stopword.\n",
    "        ##########################################################\n",
    "        if word in (global_stopwords + local_stopwords):\n",
    "            continue\n",
    "        else:\n",
    "            word_set.add(word)\n",
    "            \n",
    "    counter.update(word_set)\n",
    "    \n",
    "counter.most_common(30)"
   ]
  },
  {
   "cell_type": "markdown",
   "metadata": {},
   "source": [
    "### Popular adjectives "
   ]
  },
  {
   "cell_type": "code",
   "execution_count": 73,
   "metadata": {},
   "outputs": [
    {
     "data": {
      "text/plain": [
       "[('good', 338),\n",
       " ('<', 241),\n",
       " ('great', 237),\n",
       " ('bad', 231),\n",
       " ('many', 210),\n",
       " ('first', 195),\n",
       " ('much', 192),\n",
       " ('little', 181),\n",
       " ('best', 166),\n",
       " ('br', 145),\n",
       " ('real', 138),\n",
       " ('old', 120),\n",
       " ('least', 118),\n",
       " ('better', 118),\n",
       " ('funny', 111),\n",
       " ('new', 102),\n",
       " ('young', 101),\n",
       " ('whole', 98),\n",
       " ('big', 92),\n",
       " ('worst', 88),\n",
       " ('last', 87),\n",
       " ('interesting', 80),\n",
       " ('original', 80),\n",
       " ('main', 77),\n",
       " ('hard', 77),\n",
       " ('sure', 76),\n",
       " ('different', 74),\n",
       " ('true', 74),\n",
       " ('excellent', 72),\n",
       " ('special', 71)]"
      ]
     },
     "execution_count": 73,
     "metadata": {},
     "output_type": "execute_result"
    }
   ],
   "source": [
    "counter = Counter()\n",
    "for pos in df.tagged_tokens:\n",
    "    word_set = set()\n",
    "    \n",
    "    for t in pos:\n",
    "        word = t[0].lower()\n",
    "        tag = t[1]\n",
    "        \n",
    "        if word in (global_stopwords + local_stopwords):\n",
    "            continue\n",
    "            \n",
    "        ##########################################################\n",
    "        # Check if the tag matches.\n",
    "        ##########################################################\n",
    "        if tag.startswith(\"JJ\"):\n",
    "            word_set.add(word)\n",
    "            \n",
    "    counter.update(word_set)\n",
    "    \n",
    "counter.most_common(30)"
   ]
  },
  {
   "cell_type": "markdown",
   "metadata": {},
   "source": [
    "### Popular verbs"
   ]
  },
  {
   "cell_type": "code",
   "execution_count": 74,
   "metadata": {
    "scrolled": false
   },
   "outputs": [
    {
     "data": {
      "text/plain": [
       "[(\"'s\", 464),\n",
       " ('see', 335),\n",
       " ('get', 298),\n",
       " ('>', 292),\n",
       " ('made', 255),\n",
       " ('make', 229),\n",
       " ('think', 221),\n",
       " ('watch', 206),\n",
       " ('seen', 201),\n",
       " ('know', 194),\n",
       " ('say', 161),\n",
       " ('go', 161),\n",
       " ('watching', 156),\n",
       " (\"'m\", 150),\n",
       " (\"'ve\", 143),\n",
       " ('find', 142),\n",
       " ('makes', 141),\n",
       " ('want', 130),\n",
       " ('going', 126),\n",
       " ('<', 125),\n",
       " ('gets', 120),\n",
       " ('got', 117),\n",
       " ('take', 115),\n",
       " (\"'re\", 109),\n",
       " ('done', 103),\n",
       " ('give', 102),\n",
       " ('seems', 101),\n",
       " ('saw', 99),\n",
       " ('thought', 96),\n",
       " ('come', 96)]"
      ]
     },
     "execution_count": 74,
     "metadata": {},
     "output_type": "execute_result"
    }
   ],
   "source": [
    "counter = Counter()\n",
    "for pos in df.tagged_tokens:\n",
    "    word_set = set()\n",
    "    \n",
    "    for t in pos:\n",
    "        word = t[0].lower()\n",
    "        tag = t[1]\n",
    "        \n",
    "        if word in (global_stopwords + local_stopwords):\n",
    "            continue\n",
    "            \n",
    "        ##########################################################\n",
    "        # Check the tag\n",
    "        ##########################################################\n",
    "        if tag.startswith(\"VB\"):\n",
    "            word_set.add(word)\n",
    "            \n",
    "    counter.update(word_set)\n",
    "    \n",
    "counter.most_common(30)"
   ]
  },
  {
   "cell_type": "markdown",
   "metadata": {},
   "source": [
    "## Searching for records containing a certain string"
   ]
  },
  {
   "cell_type": "code",
   "execution_count": 75,
   "metadata": {},
   "outputs": [],
   "source": [
    "target_string = \"movie\""
   ]
  },
  {
   "cell_type": "code",
   "execution_count": 76,
   "metadata": {},
   "outputs": [
    {
     "data": {
      "text/plain": [
       "0      False\n",
       "1      False\n",
       "2      False\n",
       "3       True\n",
       "4       True\n",
       "       ...  \n",
       "995     True\n",
       "996     True\n",
       "997     True\n",
       "998     True\n",
       "999    False\n",
       "Name: text, Length: 1000, dtype: bool"
      ]
     },
     "execution_count": 76,
     "metadata": {},
     "output_type": "execute_result"
    }
   ],
   "source": [
    "mask = df.text.str.contains(target_string, case=False, regex=False)\n",
    "mask"
   ]
  },
  {
   "cell_type": "markdown",
   "metadata": {},
   "source": [
    "pandas.Series.str.contains: https://pandas.pydata.org/pandas-docs/stable/reference/api/pandas.Series.str.contains.html"
   ]
  },
  {
   "cell_type": "code",
   "execution_count": 77,
   "metadata": {
    "scrolled": true
   },
   "outputs": [
    {
     "data": {
      "text/html": [
       "<div>\n",
       "<style scoped>\n",
       "    .dataframe tbody tr th:only-of-type {\n",
       "        vertical-align: middle;\n",
       "    }\n",
       "\n",
       "    .dataframe tbody tr th {\n",
       "        vertical-align: top;\n",
       "    }\n",
       "\n",
       "    .dataframe thead th {\n",
       "        text-align: right;\n",
       "    }\n",
       "</style>\n",
       "<table border=\"1\" class=\"dataframe\">\n",
       "  <thead>\n",
       "    <tr style=\"text-align: right;\">\n",
       "      <th></th>\n",
       "      <th>text</th>\n",
       "    </tr>\n",
       "  </thead>\n",
       "  <tbody>\n",
       "    <tr>\n",
       "      <th>3</th>\n",
       "      <td>Basically there's a family where a little boy (Jake) thinks there's a zombie in his closet &amp; his parents are fighting all the time.&lt;br /&gt;&lt;br /&gt;This movie is slower than a soap opera... and suddenl...</td>\n",
       "    </tr>\n",
       "    <tr>\n",
       "      <th>4</th>\n",
       "      <td>Petter Mattei's \"Love in the Time of Money\" is a visually stunning film to watch. Mr. Mattei offers us a vivid portrait about human relations. This is a movie that seems to be telling us what mone...</td>\n",
       "    </tr>\n",
       "    <tr>\n",
       "      <th>5</th>\n",
       "      <td>Probably my all-time favorite movie, a story of selflessness, sacrifice and dedication to a noble cause, but it's not preachy or boring. It just never gets old, despite my having seen it some 15 o...</td>\n",
       "    </tr>\n",
       "    <tr>\n",
       "      <th>6</th>\n",
       "      <td>I sure would like to see a resurrection of a up dated Seahunt series with the tech they have today it would bring back the kid excitement in me.I grew up on black and white TV and Seahunt with Gun...</td>\n",
       "    </tr>\n",
       "    <tr>\n",
       "      <th>9</th>\n",
       "      <td>If you like original gut wrenching laughter you will like this movie. If you are young or old then you will love this movie, hell even my mom liked it.&lt;br /&gt;&lt;br /&gt;Great Camp!!!</td>\n",
       "    </tr>\n",
       "  </tbody>\n",
       "</table>\n",
       "</div>"
      ],
      "text/plain": [
       "                                                                                                                                                                                                      text\n",
       "3  Basically there's a family where a little boy (Jake) thinks there's a zombie in his closet & his parents are fighting all the time.<br /><br />This movie is slower than a soap opera... and suddenl...\n",
       "4  Petter Mattei's \"Love in the Time of Money\" is a visually stunning film to watch. Mr. Mattei offers us a vivid portrait about human relations. This is a movie that seems to be telling us what mone...\n",
       "5  Probably my all-time favorite movie, a story of selflessness, sacrifice and dedication to a noble cause, but it's not preachy or boring. It just never gets old, despite my having seen it some 15 o...\n",
       "6  I sure would like to see a resurrection of a up dated Seahunt series with the tech they have today it would bring back the kid excitement in me.I grew up on black and white TV and Seahunt with Gun...\n",
       "9                         If you like original gut wrenching laughter you will like this movie. If you are young or old then you will love this movie, hell even my mom liked it.<br /><br />Great Camp!!!"
      ]
     },
     "execution_count": 77,
     "metadata": {},
     "output_type": "execute_result"
    }
   ],
   "source": [
    "df[mask][[\"text\"]].head()"
   ]
  },
  {
   "cell_type": "code",
   "execution_count": 78,
   "metadata": {
    "scrolled": true
   },
   "outputs": [
    {
     "data": {
      "text/html": [
       "<div>\n",
       "<style scoped>\n",
       "    .dataframe tbody tr th:only-of-type {\n",
       "        vertical-align: middle;\n",
       "    }\n",
       "\n",
       "    .dataframe tbody tr th {\n",
       "        vertical-align: top;\n",
       "    }\n",
       "\n",
       "    .dataframe thead th {\n",
       "        text-align: right;\n",
       "    }\n",
       "</style>\n",
       "<table border=\"1\" class=\"dataframe\">\n",
       "  <thead>\n",
       "    <tr style=\"text-align: right;\">\n",
       "      <th></th>\n",
       "      <th>text</th>\n",
       "    </tr>\n",
       "  </thead>\n",
       "  <tbody>\n",
       "    <tr>\n",
       "      <th>0</th>\n",
       "      <td>One of the other reviewers has mentioned that after watching just 1 Oz episode you'll be hooked. They are right, as this is exactly what happened with me.&lt;br /&gt;&lt;br /&gt;The first thing that struck me...</td>\n",
       "    </tr>\n",
       "    <tr>\n",
       "      <th>1</th>\n",
       "      <td>A wonderful little production. &lt;br /&gt;&lt;br /&gt;The filming technique is very unassuming- very old-time-BBC fashion and gives a comforting, and sometimes discomforting, sense of realism to the entire p...</td>\n",
       "    </tr>\n",
       "    <tr>\n",
       "      <th>2</th>\n",
       "      <td>I thought this was a wonderful way to spend time on a too hot summer weekend, sitting in the air conditioned theater and watching a light-hearted comedy. The plot is simplistic, but the dialogue i...</td>\n",
       "    </tr>\n",
       "    <tr>\n",
       "      <th>7</th>\n",
       "      <td>This show was an amazing, fresh &amp; innovative idea in the 70's when it first aired. The first 7 or 8 years were brilliant, but things dropped off after that. By 1990, the show was not really funny ...</td>\n",
       "    </tr>\n",
       "    <tr>\n",
       "      <th>8</th>\n",
       "      <td>Encouraged by the positive comments about this film on here I was looking forward to watching this film. Bad mistake. I've seen 950+ films and this is truly one of the worst of them - it's awful i...</td>\n",
       "    </tr>\n",
       "  </tbody>\n",
       "</table>\n",
       "</div>"
      ],
      "text/plain": [
       "                                                                                                                                                                                                      text\n",
       "0  One of the other reviewers has mentioned that after watching just 1 Oz episode you'll be hooked. They are right, as this is exactly what happened with me.<br /><br />The first thing that struck me...\n",
       "1  A wonderful little production. <br /><br />The filming technique is very unassuming- very old-time-BBC fashion and gives a comforting, and sometimes discomforting, sense of realism to the entire p...\n",
       "2  I thought this was a wonderful way to spend time on a too hot summer weekend, sitting in the air conditioned theater and watching a light-hearted comedy. The plot is simplistic, but the dialogue i...\n",
       "7  This show was an amazing, fresh & innovative idea in the 70's when it first aired. The first 7 or 8 years were brilliant, but things dropped off after that. By 1990, the show was not really funny ...\n",
       "8  Encouraged by the positive comments about this film on here I was looking forward to watching this film. Bad mistake. I've seen 950+ films and this is truly one of the worst of them - it's awful i..."
      ]
     },
     "execution_count": 78,
     "metadata": {},
     "output_type": "execute_result"
    }
   ],
   "source": [
    "df[~mask][[\"text\"]].head()"
   ]
  }
 ],
 "metadata": {
  "kernelspec": {
   "display_name": "Python 3",
   "language": "python",
   "name": "python3"
  },
  "language_info": {
   "codemirror_mode": {
    "name": "ipython",
    "version": 3
   },
   "file_extension": ".py",
   "mimetype": "text/x-python",
   "name": "python",
   "nbconvert_exporter": "python",
   "pygments_lexer": "ipython3",
   "version": "3.8.0"
  }
 },
 "nbformat": 4,
 "nbformat_minor": 1
}
