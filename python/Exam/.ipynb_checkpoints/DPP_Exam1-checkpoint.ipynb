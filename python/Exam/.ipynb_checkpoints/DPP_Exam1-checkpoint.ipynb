{
 "cells": [
  {
   "cell_type": "markdown",
   "metadata": {},
   "source": [
    "# Data Programming in Python | BAIS:6040\n",
    "# Exam 1"
   ]
  },
  {
   "cell_type": "markdown",
   "metadata": {},
   "source": [
    "## Instructions"
   ]
  },
  {
   "cell_type": "markdown",
   "metadata": {},
   "source": [
    "To complete the exam, fill in the commands needed to finish all of the exercises below. Program everything inside this notebook. You may use more than one code cell under the \"Your answer here\" cell if you wish. If the exercises request that you store information within certain variables, please use those specific variables names (case sensitive)."
   ]
  },
  {
   "cell_type": "markdown",
   "metadata": {},
   "source": [
    "## Questions"
   ]
  },
  {
   "cell_type": "markdown",
   "metadata": {},
   "source": [
    "1\\. Read all aspects of the question carefully and following the directions closely. (30 points)\n",
    "\n",
    "- Create a new pandas dataframe called __randoms__ that is 3 different columns with 100 observations of random numbers with a mean of 1 and standard deviation of 2. The column names should be Rand1, Rand2, and Rand3. \n",
    "\n",
    "\n",
    "- Add a new column called __Date__ that is of type pandas datetime that is the first date of the year starting with 1970 and has a consistent date interval for the entire __randoms__ dataframe.  So, each observation will be the first date of the year for each year starting in 1970. (Jan 1, 1970; Jan 1, 1971; Jan 1, 1972; etc)\n",
    "\n",
    "\n",
    "- Using the __context manager__, write out the randoms dataframe to a table called __randoms__ in an sqlite database called __numbers.db__ that is stored in the Data folder of your current working directory. If the table already exists, overwrite it. Do not write out the dataframe index as a column."
   ]
  },
  {
   "cell_type": "code",
   "execution_count": 1,
   "metadata": {},
   "outputs": [],
   "source": [
    "# Imports used \n",
    "import numpy as np\n",
    "import pandas as pd\n",
    "import datetime\n",
    "import sqlite3 as sq3\n",
    "import os  "
   ]
  },
  {
   "cell_type": "code",
   "execution_count": 2,
   "metadata": {},
   "outputs": [
    {
     "name": "stdout",
     "output_type": "stream",
     "text": [
      "      Rand1     Rand2     Rand3       Date\n",
      "0  2.332451  1.231290  1.629969 1970-01-01\n",
      "1  1.900424 -3.776994  4.697971 1971-01-01\n",
      "2 -1.531468  4.417328  4.086117 1972-01-01\n",
      "3  3.961985  0.588490  1.388244 1973-01-01\n",
      "4  3.090142 -2.857340 -0.198687 1974-01-01\n",
      "      Rand1     Rand2     Rand3                 Date\n",
      "0  2.332451  1.231290  1.629969  1970-01-01 00:00:00\n",
      "1  1.900424 -3.776994  4.697971  1971-01-01 00:00:00\n",
      "2 -1.531468  4.417328  4.086117  1972-01-01 00:00:00\n",
      "3  3.961985  0.588490  1.388244  1973-01-01 00:00:00\n",
      "4  3.090142 -2.857340 -0.198687  1974-01-01 00:00:00\n"
     ]
    }
   ],
   "source": [
    "# Answer for Question 1\n",
    "randoms = pd.DataFrame(data = np.random.normal(1,2,(100,3))\n",
    "                   ,columns=['Rand1', 'Rand2','Rand3'])\n",
    "randoms['Date'] = [datetime.datetime(1970+i, 1, 1) for i in range(len(randoms))]\n",
    "\n",
    "filepath='numbers.db'\n",
    "with sq3.connect(filepath) as con1:\n",
    "    randoms.to_sql('randoms', con=con1, if_exists='replace', index=False)\n",
    "    \n",
    "# Validate Answer 1\n",
    "print(randoms.head())\n",
    "with sq3.connect(filepath) as con2:\n",
    "    randoms_sq=pd.read_sql('Select * From randoms', con2)\n",
    "\n",
    "print(randoms_sq.head())"
   ]
  },
  {
   "cell_type": "markdown",
   "metadata": {},
   "source": [
    "2\\. Convert the code from #1 above into __two separate functions and add a third function__. All interactions with the database should be done with the __context manager__. Make sure you use the parameter/argument and function names given in the instructions. (30 points)\n",
    "\n",
    "- The first function is called create_randoms and takes the following as parameters/arguments to create the dataframe:\n",
    "    - n_obs which is the number of observations\n",
    "    - n_cols which is the number of columns\n",
    "    - rand_mean with a __default__ of 0 which is the mean for the random numbers\n",
    "    - rand_std with a __default__ of 1 which is the standard deviation for the random numbers\n",
    "    - start_yr which is a __string representation__ of the year that the Date column starts with\n",
    "\n",
    "\n",
    "- The second function named write_db is called by create_randoms (first function) and takes the following parameters to write out the dataframe to the database.:\n",
    "    - df which is the datafame to write out to the database\n",
    "    - table_name which is the name of the table\n",
    "    - db_name without the .db which is the name of the database\n",
    "        - (Note: you will need to append the .db before writing out the database)\n",
    "    - folder_nm with a default of 'Data' which is the name of the folder within the current working directory to write out to.\n",
    "    - the arguments needed to write to the database can be passed through the create_randoms function as explicitly named parameters OR passed as kwargs for 10 bonus points.\n",
    "    \n",
    "    \n",
    "- The third function named read_db takes the following parameters to read from a sqlite3 database and return it as a dataframe:\n",
    "    - table_name which is the name of the table\n",
    "    - database name without the .db which is the name of the database\n",
    "        - (Note: you will need to append the .db before reading from the database)\n",
    "    - folder_nm with a __default__ of 'Data' which is the name of the folder within the current working directory to read from.\n",
    "    - if there is __any__ error in reading the database file, the function should return an empty dataframe.\n",
    "    - the function should use __context manager__ to read the database"
   ]
  },
  {
   "cell_type": "code",
   "execution_count": 3,
   "metadata": {},
   "outputs": [
    {
     "name": "stdout",
     "output_type": "stream",
     "text": [
      "       Rand0     Rand1     Rand2     Rand3                 Date\n",
      "0   0.371569 -1.450260  0.062045  0.453386  1800-01-01 00:00:00\n",
      "1  -0.233001  0.321680 -0.242663 -0.137057  1801-01-01 00:00:00\n",
      "2   0.339116 -1.651602  1.018467  0.530654  1802-01-01 00:00:00\n",
      "3   0.726967 -0.674302  0.152275  0.342939  1803-01-01 00:00:00\n",
      "4  -0.452135  0.640686  0.969496  0.498372  1804-01-01 00:00:00\n",
      "..       ...       ...       ...       ...                  ...\n",
      "95  0.090756  0.087312  0.344476 -1.125269  1895-01-01 00:00:00\n",
      "96  1.050141 -1.315305  0.193629 -0.188231  1896-01-01 00:00:00\n",
      "97 -0.793833  0.241988 -1.536161  0.522117  1897-01-01 00:00:00\n",
      "98  0.670620 -0.183665  1.865548 -0.467289  1898-01-01 00:00:00\n",
      "99 -0.035885 -0.041587 -0.779114  1.196515  1899-01-01 00:00:00\n",
      "\n",
      "[100 rows x 5 columns]\n"
     ]
    }
   ],
   "source": [
    "# Answer for Question 2\n",
    "\n",
    "def write_db(df, table_name, db_name, folder_nm='Data'):\n",
    "    if not os.path.isdir(folder_nm):         \n",
    "        os.mkdir(folder_nm)  \n",
    "    filepath='{}/{}.db'.format(folder_nm, db_name)\n",
    "    with sq3.connect(filepath) as con1:\n",
    "        df.to_sql(table_name, con=con1, if_exists='replace', index=False)\n",
    "        \n",
    "def create_randoms(n_obs, n_cols, start_yr, rand_mean=0, rand_std=1, **kwargs):\n",
    "    randoms = pd.DataFrame(data = np.random.normal(rand_mean, rand_std, (n_obs,n_cols))\n",
    "                   ,columns=['Rand{}'.format(i) for i in range(n_cols)])\n",
    "    randoms['Date'] = [datetime.datetime(int(start_yr)+i, 1, 1) for i in range(n_obs)]\n",
    "    write_db(df=randoms, **kwargs)\n",
    "\n",
    "# Database parameter name was given as db_name so that same kwargs could be used for both methods\n",
    "def read_db(table_name, db_name, folder_nm=\"Data\"):\n",
    "    filepath = \"{}/{}.db\".format(folder_nm, db_name)\n",
    "    \n",
    "    try:\n",
    "        with sq3.connect(filepath) as con2:\n",
    "            return pd.read_sql('Select * From {}'.format(table_name), con2)\n",
    "    except:\n",
    "        return pd.DataFrame()\n",
    "        \n",
    "\n",
    "# Validate Answer 2\n",
    "kwargs = {\"table_name\": \"table_test\", \"db_name\": \"randoms_test\"}\n",
    "create_randoms(100,4,1800,**kwargs)\n",
    "print(read_db(**kwargs, folder_nm=\"Data\"))\n"
   ]
  },
  {
   "cell_type": "markdown",
   "metadata": {},
   "source": [
    "#### Test create_randoms calls if using expicitly named pass through parameters\n",
    "- DO NOT Make Changes. Just run the cells"
   ]
  },
  {
   "cell_type": "code",
   "execution_count": 4,
   "metadata": {},
   "outputs": [],
   "source": [
    "# test your create_randoms function call\n",
    "\n",
    "create_randoms(10,4,'1980', rand_mean=1, rand_std=2, table_name='randoms', db_name='numbers2')"
   ]
  },
  {
   "cell_type": "code",
   "execution_count": 5,
   "metadata": {},
   "outputs": [],
   "source": [
    "# test your create_randoms function call\n",
    "\n",
    "create_randoms(10,4,'1980', table_name='randoms', db_name='numbers2')"
   ]
  },
  {
   "cell_type": "markdown",
   "metadata": {},
   "source": [
    "#### Test create_randoms calls if using kwargs (Bonus)\n",
    "- DO NOT Make Changes. Just run the cells"
   ]
  },
  {
   "cell_type": "code",
   "execution_count": 6,
   "metadata": {},
   "outputs": [],
   "source": [
    "# test your create_randoms function call\n",
    "\n",
    "write_params={'table_name':'randoms', 'db_name':'numbers2'}\n",
    "\n",
    "create_randoms(10,4,'1980', rand_mean=1, rand_std=2,**write_params)"
   ]
  },
  {
   "cell_type": "code",
   "execution_count": 7,
   "metadata": {},
   "outputs": [],
   "source": [
    "# test your create_randoms function call\n",
    "\n",
    "create_randoms(10,4,'1980',**write_params)"
   ]
  },
  {
   "cell_type": "markdown",
   "metadata": {},
   "source": [
    "#### Test read_db calls\n",
    "- DO NOT Make Changes. Just run the cells"
   ]
  },
  {
   "cell_type": "code",
   "execution_count": 8,
   "metadata": {
    "scrolled": true
   },
   "outputs": [
    {
     "data": {
      "text/html": [
       "<div>\n",
       "<style scoped>\n",
       "    .dataframe tbody tr th:only-of-type {\n",
       "        vertical-align: middle;\n",
       "    }\n",
       "\n",
       "    .dataframe tbody tr th {\n",
       "        vertical-align: top;\n",
       "    }\n",
       "\n",
       "    .dataframe thead th {\n",
       "        text-align: right;\n",
       "    }\n",
       "</style>\n",
       "<table border=\"1\" class=\"dataframe\">\n",
       "  <thead>\n",
       "    <tr style=\"text-align: right;\">\n",
       "      <th></th>\n",
       "      <th>Rand0</th>\n",
       "      <th>Rand1</th>\n",
       "      <th>Rand2</th>\n",
       "      <th>Rand3</th>\n",
       "      <th>Date</th>\n",
       "    </tr>\n",
       "  </thead>\n",
       "  <tbody>\n",
       "    <tr>\n",
       "      <th>0</th>\n",
       "      <td>0.118427</td>\n",
       "      <td>-2.017402</td>\n",
       "      <td>-0.515444</td>\n",
       "      <td>0.814014</td>\n",
       "      <td>1980-01-01 00:00:00</td>\n",
       "    </tr>\n",
       "    <tr>\n",
       "      <th>1</th>\n",
       "      <td>0.206143</td>\n",
       "      <td>0.217080</td>\n",
       "      <td>-0.561877</td>\n",
       "      <td>-0.355409</td>\n",
       "      <td>1981-01-01 00:00:00</td>\n",
       "    </tr>\n",
       "    <tr>\n",
       "      <th>2</th>\n",
       "      <td>0.386567</td>\n",
       "      <td>-1.705196</td>\n",
       "      <td>0.897876</td>\n",
       "      <td>0.811513</td>\n",
       "      <td>1982-01-01 00:00:00</td>\n",
       "    </tr>\n",
       "    <tr>\n",
       "      <th>3</th>\n",
       "      <td>-0.276579</td>\n",
       "      <td>-1.482535</td>\n",
       "      <td>1.676595</td>\n",
       "      <td>0.760938</td>\n",
       "      <td>1983-01-01 00:00:00</td>\n",
       "    </tr>\n",
       "    <tr>\n",
       "      <th>4</th>\n",
       "      <td>-1.555866</td>\n",
       "      <td>1.076846</td>\n",
       "      <td>1.276294</td>\n",
       "      <td>0.128674</td>\n",
       "      <td>1984-01-01 00:00:00</td>\n",
       "    </tr>\n",
       "  </tbody>\n",
       "</table>\n",
       "</div>"
      ],
      "text/plain": [
       "      Rand0     Rand1     Rand2     Rand3                 Date\n",
       "0  0.118427 -2.017402 -0.515444  0.814014  1980-01-01 00:00:00\n",
       "1  0.206143  0.217080 -0.561877 -0.355409  1981-01-01 00:00:00\n",
       "2  0.386567 -1.705196  0.897876  0.811513  1982-01-01 00:00:00\n",
       "3 -0.276579 -1.482535  1.676595  0.760938  1983-01-01 00:00:00\n",
       "4 -1.555866  1.076846  1.276294  0.128674  1984-01-01 00:00:00"
      ]
     },
     "execution_count": 8,
     "metadata": {},
     "output_type": "execute_result"
    }
   ],
   "source": [
    "# test your read_db function call\n",
    "\n",
    "df = read_db('randoms','numbers2')\n",
    "df.head()"
   ]
  },
  {
   "cell_type": "code",
   "execution_count": 9,
   "metadata": {
    "scrolled": true
   },
   "outputs": [
    {
     "name": "stdout",
     "output_type": "stream",
     "text": [
      "<class 'pandas.core.frame.DataFrame'>\n"
     ]
    },
    {
     "data": {
      "text/html": [
       "<div>\n",
       "<style scoped>\n",
       "    .dataframe tbody tr th:only-of-type {\n",
       "        vertical-align: middle;\n",
       "    }\n",
       "\n",
       "    .dataframe tbody tr th {\n",
       "        vertical-align: top;\n",
       "    }\n",
       "\n",
       "    .dataframe thead th {\n",
       "        text-align: right;\n",
       "    }\n",
       "</style>\n",
       "<table border=\"1\" class=\"dataframe\">\n",
       "  <thead>\n",
       "    <tr style=\"text-align: right;\">\n",
       "      <th></th>\n",
       "    </tr>\n",
       "  </thead>\n",
       "  <tbody>\n",
       "  </tbody>\n",
       "</table>\n",
       "</div>"
      ],
      "text/plain": [
       "Empty DataFrame\n",
       "Columns: []\n",
       "Index: []"
      ]
     },
     "execution_count": 9,
     "metadata": {},
     "output_type": "execute_result"
    }
   ],
   "source": [
    "# test your read_db function call\n",
    "\n",
    "df = read_db('randoms','numbers3')\n",
    "\n",
    "print(type(df))\n",
    "df.head()"
   ]
  },
  {
   "cell_type": "markdown",
   "metadata": {},
   "source": [
    "3\\. Read all aspects of the question carefully and following the directions closely. Do not assume anything about the composition of combined_df. (40 points)\n",
    "\n",
    "- Load the LaborSheetData.csv file (from ICON) into a new dataframe called <i>ls_df</i>. You can download the file from ICON to your computer and then load it from your computer. OR if using IDAS, you can copy the file from the shared classdata folder to your IDAS drive and load it from there.\n",
    "\n",
    "- __Your code to load the dataframe__ should indicate the TimeStamp column is to be __parsed as a date and the first row contains headers__. \n",
    "\n",
    "\n",
    "- Add a new column called <i>SalesDif</i> to the dataframe using vectorization that is absolute value of the difference between Projected Sales and Sales.\n",
    "\n",
    "\n",
    "- Update any entries missing a manager with the value 'None'.\n",
    "\n",
    "\n",
    "- Add a <i>Month</i> column to ls_df that is the __3-character__ abbreviated text representation of Month (e.g. 'Jan', 'Feb', 'Mar', 'Jun', 'Jul') as a categorical variable.\n",
    "\n",
    "\n",
    "- Load the web-users.csv file (from ICON) into a new dataframe called <i>wu_df</i>. You can download the file from ICON to your computer and then load it from your computer. OR if using IDAS, you can copy the file from the shared classdata folder to your IDAS drive and load it from there.\n",
    "\n",
    "- __Your code to load the dataframe__ should indicate the __Date column is to be parsed as a date, the Date column is the index, and the first row contains headers__. \n",
    "\n",
    "\n",
    "- Create a new dataframe called <i>ls2_df</i> that has __just__ the date component from ls_df.TimeStamp as the index and __just__ ls_df.SalesDif as the only column. The dataframe should only contain rows from ls_df where the Manager is David H and the Store is 4007. \n",
    "\n",
    "\n",
    "- Using the pandas join method, join the two dataframes (wu_df & ls2_df) using the intersection of the date indices and store the result in a new dataframe called <i>combined_df</i>. The combined_df should have the USERS from wu_df as the first column.  The index value from the resulting combined_df will not be unique, so do not be concerned with that.\n",
    "\n",
    "- Get the average Sales by Month from ls_df and store the result in a __DataFrame__ called __avgs__."
   ]
  },
  {
   "cell_type": "code",
   "execution_count": 10,
   "metadata": {},
   "outputs": [],
   "source": [
    "# Answer for Question 3\n",
    "\n",
    "ls_df = pd.read_csv(\"LaborSheetData.csv\",parse_dates=[\"TimeStamp\"], header=0)\n",
    "ls_df[\"SalesDif\"] = abs(ls_df['Projected Sales']-ls_df.Sales)\n",
    "ls_df['Manager'] = np.where(ls_df.Manager.isnull(), \"None\", ls_df.Manager)\n",
    "ls_df[\"Month\"] = pd.Categorical([ls_df.TimeStamp[i].strftime(\"%b\") for i in range(len(ls_df))])\n",
    "     \n",
    "wu_df = pd.read_csv(\"web-users.csv\",parse_dates=[\"DATE\"], index_col=\"DATE\", header=0)\n",
    "\n",
    "ls2_df = pd.DataFrame(data=[ls_df.SalesDif[i] for i in range(len(ls_df)) if ls_df.Store[i] == 4007 if ls_df.Manager[i] == \"David H\"], index=[ datetime.datetime.strftime(ls_df.TimeStamp[i],'%Y-%m-%d') for i in range(len(ls_df)) if ls_df.Store[i] == 4007 if ls_df.Manager[i] == \"David H\"])\n",
    "ls2_df.columns=['SalesDif']\n",
    "ls2_df.index.name='TimeStamp'\n",
    "\n",
    "# Indexes of both dataframes were changed to same date format\n",
    "combined_df = wu_df.join(ls2_df)\n",
    "\n",
    "avgs = ls_df.groupby([\"Month\"]).Sales.mean()\n"
   ]
  },
  {
   "cell_type": "code",
   "execution_count": 11,
   "metadata": {},
   "outputs": [
    {
     "name": "stdout",
     "output_type": "stream",
     "text": [
      "<class 'pandas.core.series.Series'>\n"
     ]
    },
    {
     "data": {
      "text/plain": [
       "Month\n",
       "Apr    490.335702\n",
       "Aug    482.803510\n",
       "Feb    469.684367\n",
       "Jan    572.071429\n",
       "Jul    464.799242\n",
       "Jun    507.725735\n",
       "Mar    502.673863\n",
       "May    499.476950\n",
       "Sep    474.336513\n",
       "Name: Sales, dtype: float64"
      ]
     },
     "execution_count": 11,
     "metadata": {},
     "output_type": "execute_result"
    }
   ],
   "source": [
    "# Check your answer here. (Do not make any change to this cell. Just run this cell.)\n",
    "print(type(avgs))\n",
    "\n",
    "avgs"
   ]
  },
  {
   "cell_type": "code",
   "execution_count": 12,
   "metadata": {},
   "outputs": [
    {
     "data": {
      "text/html": [
       "<div>\n",
       "<style scoped>\n",
       "    .dataframe tbody tr th:only-of-type {\n",
       "        vertical-align: middle;\n",
       "    }\n",
       "\n",
       "    .dataframe tbody tr th {\n",
       "        vertical-align: top;\n",
       "    }\n",
       "\n",
       "    .dataframe thead th {\n",
       "        text-align: right;\n",
       "    }\n",
       "</style>\n",
       "<table border=\"1\" class=\"dataframe\">\n",
       "  <thead>\n",
       "    <tr style=\"text-align: right;\">\n",
       "      <th></th>\n",
       "      <th>USERS</th>\n",
       "      <th>SalesDif</th>\n",
       "    </tr>\n",
       "  </thead>\n",
       "  <tbody>\n",
       "    <tr>\n",
       "      <th>2016-01-01</th>\n",
       "      <td>73404</td>\n",
       "      <td>NaN</td>\n",
       "    </tr>\n",
       "    <tr>\n",
       "      <th>2016-01-02</th>\n",
       "      <td>66795</td>\n",
       "      <td>NaN</td>\n",
       "    </tr>\n",
       "    <tr>\n",
       "      <th>2016-01-03</th>\n",
       "      <td>57185</td>\n",
       "      <td>NaN</td>\n",
       "    </tr>\n",
       "    <tr>\n",
       "      <th>2016-01-04</th>\n",
       "      <td>106916</td>\n",
       "      <td>NaN</td>\n",
       "    </tr>\n",
       "    <tr>\n",
       "      <th>2016-01-05</th>\n",
       "      <td>99982</td>\n",
       "      <td>NaN</td>\n",
       "    </tr>\n",
       "    <tr>\n",
       "      <th>...</th>\n",
       "      <td>...</td>\n",
       "      <td>...</td>\n",
       "    </tr>\n",
       "    <tr>\n",
       "      <th>2019-10-02</th>\n",
       "      <td>164249</td>\n",
       "      <td>NaN</td>\n",
       "    </tr>\n",
       "    <tr>\n",
       "      <th>2019-10-03</th>\n",
       "      <td>159935</td>\n",
       "      <td>NaN</td>\n",
       "    </tr>\n",
       "    <tr>\n",
       "      <th>2019-10-04</th>\n",
       "      <td>159628</td>\n",
       "      <td>NaN</td>\n",
       "    </tr>\n",
       "    <tr>\n",
       "      <th>2019-10-05</th>\n",
       "      <td>131067</td>\n",
       "      <td>NaN</td>\n",
       "    </tr>\n",
       "    <tr>\n",
       "      <th>2019-10-06</th>\n",
       "      <td>111679</td>\n",
       "      <td>NaN</td>\n",
       "    </tr>\n",
       "  </tbody>\n",
       "</table>\n",
       "<p>1379 rows × 2 columns</p>\n",
       "</div>"
      ],
      "text/plain": [
       "             USERS  SalesDif\n",
       "2016-01-01   73404       NaN\n",
       "2016-01-02   66795       NaN\n",
       "2016-01-03   57185       NaN\n",
       "2016-01-04  106916       NaN\n",
       "2016-01-05   99982       NaN\n",
       "...            ...       ...\n",
       "2019-10-02  164249       NaN\n",
       "2019-10-03  159935       NaN\n",
       "2019-10-04  159628       NaN\n",
       "2019-10-05  131067       NaN\n",
       "2019-10-06  111679       NaN\n",
       "\n",
       "[1379 rows x 2 columns]"
      ]
     },
     "execution_count": 12,
     "metadata": {},
     "output_type": "execute_result"
    }
   ],
   "source": [
    "# Check your answer here. (Do not make any change to this cell. Just run this cell.)\n",
    "\n",
    "combined_df"
   ]
  }
 ],
 "metadata": {
  "kernelspec": {
   "display_name": "Python 3",
   "language": "python",
   "name": "python3"
  },
  "language_info": {
   "codemirror_mode": {
    "name": "ipython",
    "version": 3
   },
   "file_extension": ".py",
   "mimetype": "text/x-python",
   "name": "python",
   "nbconvert_exporter": "python",
   "pygments_lexer": "ipython3",
   "version": "3.8.0"
  }
 },
 "nbformat": 4,
 "nbformat_minor": 2
}
