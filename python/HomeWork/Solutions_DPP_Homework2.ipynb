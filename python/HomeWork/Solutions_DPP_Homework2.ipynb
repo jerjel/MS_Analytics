{
 "cells": [
  {
   "cell_type": "markdown",
   "metadata": {},
   "source": [
    "# Data Programming in Python | BAIS:6040\n",
    "# Solutions - Homework 2. Iteration & Flow Control"
   ]
  },
  {
   "cell_type": "markdown",
   "metadata": {
    "deletable": false,
    "editable": false,
    "nbgrader": {
     "cell_type": "markdown",
     "checksum": "aab325e517cd5c41bd96522f566c5001",
     "grade": false,
     "grade_id": "cell-a2b55e76ef873e32",
     "locked": true,
     "schema_version": 3,
     "solution": false,
     "task": false
    }
   },
   "source": [
    "## Instructions"
   ]
  },
  {
   "cell_type": "markdown",
   "metadata": {
    "deletable": false,
    "editable": false,
    "nbgrader": {
     "cell_type": "markdown",
     "checksum": "3d1137a7183062a6e5c8cb537b771cc9",
     "grade": false,
     "grade_id": "cell-331c8b99c1d8a311",
     "locked": true,
     "schema_version": 3,
     "solution": false,
     "task": false
    }
   },
   "source": [
    "To complete the homework, fill in the commands needed to finish all of the exercises below. Program everything inside this notebook. If the exercises request that you store information within certain variables, please use those specific variables names (case sensitive)."
   ]
  },
  {
   "cell_type": "markdown",
   "metadata": {
    "deletable": false,
    "editable": false,
    "nbgrader": {
     "cell_type": "markdown",
     "checksum": "8652496ee9bc55b9631d1961df304197",
     "grade": false,
     "grade_id": "cell-2fc43ffc7b8da177",
     "locked": true,
     "schema_version": 3,
     "solution": false,
     "task": false
    }
   },
   "source": [
    "## Exercises"
   ]
  },
  {
   "cell_type": "markdown",
   "metadata": {
    "deletable": false,
    "editable": false,
    "nbgrader": {
     "cell_type": "markdown",
     "checksum": "3b3d01353d3280e1602e785392597766",
     "grade": false,
     "grade_id": "cell-5a61ac656a714b05",
     "locked": true,
     "schema_version": 3,
     "solution": false,
     "task": false
    }
   },
   "source": [
    "1. Write a <b>for</b> loop that prints all multiples of 3 between 1 and 100, separated by a tab. (10 pts)"
   ]
  },
  {
   "cell_type": "code",
   "execution_count": 1,
   "metadata": {
    "deletable": false,
    "nbgrader": {
     "cell_type": "code",
     "checksum": "bfb063c8068574b68af3f5057d999de1",
     "grade": true,
     "grade_id": "cell-251813efbd2dcb9f",
     "locked": false,
     "points": 10,
     "schema_version": 3,
     "solution": true,
     "task": false
    }
   },
   "outputs": [
    {
     "name": "stdout",
     "output_type": "stream",
     "text": [
      "3\t6\t9\t12\t15\t18\t21\t24\t27\t30\t33\t36\t39\t42\t45\t48\t51\t54\t57\t60\t63\t66\t69\t72\t75\t78\t81\t84\t87\t90\t93\t96\t99\t"
     ]
    }
   ],
   "source": [
    "# YOUR CODE HERE\n",
    "for num in range(3, 100, 3):\n",
    "    print(num, end=\"\\t\")"
   ]
  },
  {
   "cell_type": "markdown",
   "metadata": {
    "deletable": false,
    "editable": false,
    "nbgrader": {
     "cell_type": "markdown",
     "checksum": "6accb9b2c47926070d6c22ffddf5455e",
     "grade": false,
     "grade_id": "cell-392f31df5cdaa317",
     "locked": true,
     "schema_version": 3,
     "solution": false,
     "task": false
    }
   },
   "source": [
    "2. Write a <b>for</b> loop that adds all 4-digit even numbers one after another, printing the intermediate sum for every 100th number (i.e., at the index positions 99, 199, 299, ...) along with its index number. It should print the final sum after the <b>for</b> loop. (15 pts)"
   ]
  },
  {
   "cell_type": "code",
   "execution_count": 1,
   "metadata": {
    "deletable": false,
    "nbgrader": {
     "cell_type": "code",
     "checksum": "64fab2bb04f6423804c295353b07aeb6",
     "grade": true,
     "grade_id": "cell-c6f708085fb123ef",
     "locked": false,
     "points": 15,
     "schema_version": 3,
     "solution": true,
     "task": false
    }
   },
   "outputs": [
    {
     "name": "stdout",
     "output_type": "stream",
     "text": [
      "109900 99\n",
      "239800 199\n",
      "389700 299\n",
      "559600 399\n",
      "749500 499\n",
      "959400 599\n",
      "1189300 699\n",
      "1439200 799\n",
      "1709100 899\n",
      "1999000 999\n",
      "2308900 1099\n",
      "2638800 1199\n",
      "2988700 1299\n",
      "3358600 1399\n",
      "3748500 1499\n",
      "4158400 1599\n",
      "4588300 1699\n",
      "5038200 1799\n",
      "5508100 1899\n",
      "5998000 1999\n",
      "6507900 2099\n",
      "7037800 2199\n",
      "7587700 2299\n",
      "8157600 2399\n",
      "8747500 2499\n",
      "9357400 2599\n",
      "9987300 2699\n",
      "10637200 2799\n",
      "11307100 2899\n",
      "11997000 2999\n",
      "12706900 3099\n",
      "13436800 3199\n",
      "14186700 3299\n",
      "14956600 3399\n",
      "15746500 3499\n",
      "16556400 3599\n",
      "17386300 3699\n",
      "18236200 3799\n",
      "19106100 3899\n",
      "19996000 3999\n",
      "20905900 4099\n",
      "21835800 4199\n",
      "22785700 4299\n",
      "23755600 4399\n",
      "24745500 4499\n",
      "24745500\n"
     ]
    }
   ],
   "source": [
    "# YOUR CODE HERE\n",
    "l = range(1000, 10000, 2)\n",
    "sum1 = 0\n",
    "for i in range(len(l)):\n",
    "    sum1 += l[i]\n",
    "    if i % 100 == 99:\n",
    "        print(sum1, i)\n",
    "\n",
    "print(sum1)"
   ]
  },
  {
   "cell_type": "markdown",
   "metadata": {
    "deletable": false,
    "editable": false,
    "nbgrader": {
     "cell_type": "markdown",
     "checksum": "cf77636f21a636e70e66da14047449bb",
     "grade": false,
     "grade_id": "cell-a582dede7ca1292d",
     "locked": true,
     "schema_version": 3,
     "solution": false,
     "task": false
    }
   },
   "source": [
    "3. You have a list <i>names</i> of strings as below. Write a <b>for</b> loop that iterates over <i>names</i> to find a name that starts with \"S\" and has the length of 5. The loop stops when it finds the first occurrence of the name, insert the the name found along with its index number into the variable, <b><i>ans3</i></b>. (15 pts)"
   ]
  },
  {
   "cell_type": "code",
   "execution_count": null,
   "metadata": {
    "deletable": false,
    "editable": false,
    "nbgrader": {
     "cell_type": "code",
     "checksum": "8eb12472cbfa737676bf1ded3e27cc39",
     "grade": false,
     "grade_id": "cell-3984d6d40d4d0167",
     "locked": true,
     "schema_version": 3,
     "solution": false,
     "task": false
    }
   },
   "outputs": [],
   "source": [
    "names = [\"Alice\", \"Bob\", \"Mary\", \"Sam\", \"Sarah\", \"Tom\"]"
   ]
  },
  {
   "cell_type": "code",
   "execution_count": null,
   "metadata": {
    "deletable": false,
    "nbgrader": {
     "cell_type": "code",
     "checksum": "b409c639a4c5cb80086e36bac1c77658",
     "grade": false,
     "grade_id": "cell-6c95efd4226cc420",
     "locked": false,
     "schema_version": 3,
     "solution": true,
     "task": false
    }
   },
   "outputs": [],
   "source": [
    "# YOUR CODE HERE\n",
    "for i in range(len(names)):\n",
    "    name = names[i]\n",
    "    if (name.startswith(\"S\")) and (len(name) == 5):\n",
    "        ans3=(name, i)\n",
    "        break"
   ]
  },
  {
   "cell_type": "code",
   "execution_count": null,
   "metadata": {
    "deletable": false,
    "editable": false,
    "nbgrader": {
     "cell_type": "code",
     "checksum": "2fc0cbbe714568d4826e0feb4720273c",
     "grade": true,
     "grade_id": "cell-791bdcedf00b96c6",
     "locked": true,
     "points": 15,
     "schema_version": 3,
     "solution": false,
     "task": false
    }
   },
   "outputs": [],
   "source": [
    "# Check your answer here. (Do not make any change to this cell. Just run this cell.)\n",
    "ans3"
   ]
  },
  {
   "cell_type": "markdown",
   "metadata": {
    "deletable": false,
    "editable": false,
    "nbgrader": {
     "cell_type": "markdown",
     "checksum": "a2ccb4388472ade79c556cb315163fb2",
     "grade": false,
     "grade_id": "cell-882b400a7b1210b2",
     "locked": true,
     "schema_version": 3,
     "solution": false,
     "task": false
    }
   },
   "source": [
    "4. You have a dictionary <i>states</i> as below. Write a <b>for</b> loop that prints all key-value pairs in <i>states</i> in ascending order of the keys, separated by a space. For example, the output should look as follows: (IA: Iowa) (IL: Illinois) ... (WI: Wisconsin). (15 pts)"
   ]
  },
  {
   "cell_type": "code",
   "execution_count": 2,
   "metadata": {
    "deletable": false,
    "editable": false,
    "nbgrader": {
     "cell_type": "code",
     "checksum": "b7b63e945a04ee922551bb306d1f8b9b",
     "grade": false,
     "grade_id": "cell-960b4259680a5fc6",
     "locked": true,
     "schema_version": 3,
     "solution": false,
     "task": false
    }
   },
   "outputs": [],
   "source": [
    "states = {\"IL\": \"Illinois\", \"WI\": \"Wisconsin\", \"IA\": \"Iowa\", \"NE\": \"Nebraska\", \"MN\": \"Minnesota\"}"
   ]
  },
  {
   "cell_type": "code",
   "execution_count": 3,
   "metadata": {
    "deletable": false,
    "nbgrader": {
     "cell_type": "code",
     "checksum": "e80838c6e9aaa0cee0ff83c5ae664fb8",
     "grade": true,
     "grade_id": "cell-91934c3bd3d668ed",
     "locked": false,
     "points": 15,
     "schema_version": 3,
     "solution": true,
     "task": false
    }
   },
   "outputs": [
    {
     "name": "stdout",
     "output_type": "stream",
     "text": [
      "(IA: Iowa) (IL: Illinois) (MN: Minnesota) (NE: Nebraska) (WI: Wisconsin) "
     ]
    }
   ],
   "source": [
    "# YOUR CODE HERE\n",
    "for key in sorted(states.keys()):\n",
    "    print(\"({}: {})\".format(key, states[key]), end=\" \")"
   ]
  },
  {
   "cell_type": "markdown",
   "metadata": {
    "deletable": false,
    "editable": false,
    "nbgrader": {
     "cell_type": "markdown",
     "checksum": "4a515e15f780b63ae4945a3ba792cf06",
     "grade": false,
     "grade_id": "cell-ccf90c3f34068f04",
     "locked": true,
     "schema_version": 3,
     "solution": false,
     "task": false
    }
   },
   "source": [
    "5. You have lists <i>l1</i> and <i>l2</i> of integers as below. Using list comprehension, create a list <b><i>ans5</i></b> of lists, each of which contains any number from <i>l1</i>, any number from <i>l2</i>, and the product of the two numbers. For example, <i>ans5</i> should look as follows: [[0, 9, 0], [0, 8, 0], [0, 7, 0] ..., [9, 0, 0]]. (15 pts)"
   ]
  },
  {
   "cell_type": "code",
   "execution_count": null,
   "metadata": {
    "deletable": false,
    "editable": false,
    "nbgrader": {
     "cell_type": "code",
     "checksum": "82acb67c43cc1e3198877e1433e874e5",
     "grade": false,
     "grade_id": "cell-67fd10d046c1bbf7",
     "locked": true,
     "schema_version": 3,
     "solution": false,
     "task": false
    }
   },
   "outputs": [],
   "source": [
    "l1 = list(range(10))\n",
    "l2 = list(reversed(l1))\n",
    "l1, l2"
   ]
  },
  {
   "cell_type": "code",
   "execution_count": null,
   "metadata": {
    "deletable": false,
    "nbgrader": {
     "cell_type": "code",
     "checksum": "de1e4f557f2b03f88a12e0a514b2b03e",
     "grade": false,
     "grade_id": "cell-8e3fb21353c390e6",
     "locked": false,
     "schema_version": 3,
     "solution": true,
     "task": false
    }
   },
   "outputs": [],
   "source": [
    "# YOUR CODE HERE\n",
    "ans5 = [[num1, num2, num1*num2] for num1 in l1 for num2 in l2]"
   ]
  },
  {
   "cell_type": "code",
   "execution_count": null,
   "metadata": {
    "deletable": false,
    "editable": false,
    "nbgrader": {
     "cell_type": "code",
     "checksum": "c56e58ef367962a8ea4b51091ee5bb7f",
     "grade": true,
     "grade_id": "cell-a6716366be59f5ec",
     "locked": true,
     "points": 15,
     "schema_version": 3,
     "solution": false,
     "task": false
    }
   },
   "outputs": [],
   "source": [
    "# Check your answer here. (Do not make any change to this cell. Just run this cell.)\n",
    "ans5"
   ]
  },
  {
   "cell_type": "markdown",
   "metadata": {
    "deletable": false,
    "editable": false,
    "nbgrader": {
     "cell_type": "markdown",
     "checksum": "93ebb495f746d1766823db94b154873c",
     "grade": false,
     "grade_id": "cell-7b6c92beea345217",
     "locked": true,
     "schema_version": 3,
     "solution": false,
     "task": false
    }
   },
   "source": [
    "6. You have three lists <i>names</i>, <i>ages</i>, and <i>genders</i> as below. Using list comprehension, create a list <b><i>ans6</i></b> of tuples, each of which contains the name from <i>names</i>, the age from <i>ages</i>, and the gender from <i>genders</i> at the same index position. For example, <i>ans6</i> should look as follows: [('Alice', 30, 'female'), ('Bob', 25, 'male'), ..., ('Tom', 34, 'male')]. (15 pts)"
   ]
  },
  {
   "cell_type": "code",
   "execution_count": 1,
   "metadata": {
    "deletable": false,
    "editable": false,
    "nbgrader": {
     "cell_type": "code",
     "checksum": "8614521d439fe54daadc8a8716acaaa6",
     "grade": false,
     "grade_id": "cell-3ba6c9ec7cced7b5",
     "locked": true,
     "schema_version": 3,
     "solution": false,
     "task": false
    }
   },
   "outputs": [],
   "source": [
    "names = [\"Alice\", \"Bob\", \"Mary\", \"Sam\", \"Sarah\", \"Tom\"]\n",
    "ages = [30, 25, 27, 31, 39, 34]\n",
    "genders = [\"female\", \"male\", \"female\", \"male\", \"female\", \"male\"] "
   ]
  },
  {
   "cell_type": "code",
   "execution_count": 4,
   "metadata": {
    "deletable": false,
    "nbgrader": {
     "cell_type": "code",
     "checksum": "5b5562b284313cbd40cfe4e1d735d042",
     "grade": false,
     "grade_id": "cell-f644582d6e057fd9",
     "locked": false,
     "schema_version": 3,
     "solution": true,
     "task": false
    }
   },
   "outputs": [],
   "source": [
    "# YOUR CODE HERE\n",
    "ans6 = [(name, age, gender) for name, age, gender in zip(names, ages, genders)]"
   ]
  },
  {
   "cell_type": "code",
   "execution_count": null,
   "metadata": {},
   "outputs": [],
   "source": [
    "# Or\n",
    "ans6 = [(names[i],ages[i],genders[i]) for i in range(len(names))]"
   ]
  },
  {
   "cell_type": "code",
   "execution_count": 5,
   "metadata": {
    "deletable": false,
    "editable": false,
    "nbgrader": {
     "cell_type": "code",
     "checksum": "0abe4a91c27b24b9efd514993ead3cd4",
     "grade": true,
     "grade_id": "cell-73ab621184531878",
     "locked": true,
     "points": 15,
     "schema_version": 3,
     "solution": false,
     "task": false
    }
   },
   "outputs": [
    {
     "data": {
      "text/plain": [
       "[('Alice', 30, 'female'),\n",
       " ('Bob', 25, 'male'),\n",
       " ('Mary', 27, 'female'),\n",
       " ('Sam', 31, 'male'),\n",
       " ('Sarah', 39, 'female'),\n",
       " ('Tom', 34, 'male')]"
      ]
     },
     "execution_count": 5,
     "metadata": {},
     "output_type": "execute_result"
    }
   ],
   "source": [
    "# Check your answer here. (Do not make any change to this cell. Just run this cell.)\n",
    "ans6"
   ]
  },
  {
   "cell_type": "markdown",
   "metadata": {
    "deletable": false,
    "editable": false,
    "nbgrader": {
     "cell_type": "markdown",
     "checksum": "86c0c3381e0dcd13cd0cc6a6c176d8f1",
     "grade": false,
     "grade_id": "cell-eb79037b5d40f326",
     "locked": true,
     "schema_version": 3,
     "solution": false,
     "task": false
    }
   },
   "source": [
    "7. Using x**2 as a lambda function and the range function, create a list <b><i>ans7</i></b> of results from calling the lambda function using map() with input values 0 through 9. (15 pts)"
   ]
  },
  {
   "cell_type": "code",
   "execution_count": 4,
   "metadata": {
    "deletable": false,
    "nbgrader": {
     "cell_type": "code",
     "checksum": "4b3716467d42c9898f144095afa321f9",
     "grade": false,
     "grade_id": "cell-32115a4cab24c26f",
     "locked": false,
     "schema_version": 3,
     "solution": true,
     "task": false
    }
   },
   "outputs": [],
   "source": [
    "# YOUR CODE HERE\n",
    "ans7=list(map(lambda x:x**2, range(10)))"
   ]
  },
  {
   "cell_type": "code",
   "execution_count": 5,
   "metadata": {
    "deletable": false,
    "editable": false,
    "nbgrader": {
     "cell_type": "code",
     "checksum": "11781fb1c849371fe27d2f310c64e40a",
     "grade": true,
     "grade_id": "cell-e3c2ff3e033f512a",
     "locked": true,
     "points": 15,
     "schema_version": 3,
     "solution": false,
     "task": false
    }
   },
   "outputs": [
    {
     "data": {
      "text/plain": [
       "[0, 1, 4, 9, 16, 25, 36, 49, 64, 81]"
      ]
     },
     "execution_count": 5,
     "metadata": {},
     "output_type": "execute_result"
    }
   ],
   "source": [
    "# Check your answer here. (Do not make any change to this cell. Just run this cell.)\n",
    "ans7"
   ]
  }
 ],
 "metadata": {
  "kernelspec": {
   "display_name": "Python 3",
   "language": "python",
   "name": "python3"
  },
  "language_info": {
   "codemirror_mode": {
    "name": "ipython",
    "version": 3
   },
   "file_extension": ".py",
   "mimetype": "text/x-python",
   "name": "python",
   "nbconvert_exporter": "python",
   "pygments_lexer": "ipython3",
   "version": "3.8.0"
  }
 },
 "nbformat": 4,
 "nbformat_minor": 2
}
