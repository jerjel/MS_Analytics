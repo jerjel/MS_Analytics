{
 "cells": [
  {
   "cell_type": "markdown",
   "metadata": {},
   "source": [
    "# Data Programming in Python | BAIS:6040\n",
    "\n",
    "# Homework 9. Time Series Analysis"
   ]
  },
  {
   "cell_type": "markdown",
   "metadata": {},
   "source": [
    "## Instructions"
   ]
  },
  {
   "cell_type": "markdown",
   "metadata": {},
   "source": [
    "To complete the homework, fill in the commands needed to finish all of the exercises below. Program everything inside this notebook. If the exercises request that you store information within certain variables, please use those specific variables names (case sensitive)."
   ]
  },
  {
   "cell_type": "markdown",
   "metadata": {},
   "source": [
    "## Questions"
   ]
  },
  {
   "cell_type": "markdown",
   "metadata": {},
   "source": [
    "Import libraries needed"
   ]
  },
  {
   "cell_type": "code",
   "execution_count": 1,
   "metadata": {},
   "outputs": [],
   "source": [
    "import pandas as pd\n",
    "import numpy as np\n",
    "import matplotlib.pyplot as plt"
   ]
  },
  {
   "cell_type": "markdown",
   "metadata": {},
   "source": [
    "1\\. Import the ten year treasury yield .csv file (^TNX.csv) into a pandas dataframe called __tnx__ and import the British Pound Sterling to USD exchange rate .csv file (GBPUSD.csv) into a pandas dataframe called __gbpusd__. Make sure the index of each dataframe is the __Date__ and the data type of Date is pandas datetime. Drop all the missing values in __tnx and gbpusd__. (10 pts)"
   ]
  },
  {
   "cell_type": "code",
   "execution_count": 2,
   "metadata": {
    "scrolled": true
   },
   "outputs": [],
   "source": [
    "# Your answer here\n",
    "gbpusd = pd.read_csv('../Data/GBPUSD.csv',header=0, index_col=0, parse_dates=True)\n",
    "tnx = pd.read_csv('../Data/^TNX.csv',header=0, index_col=0, parse_dates=True)\n",
    "\n",
    "gbpusd.dropna(axis=0,inplace=True)\n",
    "tnx.dropna(axis=0,inplace=True)"
   ]
  },
  {
   "cell_type": "code",
   "execution_count": 3,
   "metadata": {},
   "outputs": [
    {
     "name": "stdout",
     "output_type": "stream",
     "text": [
      "<class 'pandas.core.frame.DataFrame'>\n",
      "DatetimeIndex: 1296 entries, 2016-01-04 to 2021-03-15\n",
      "Data columns (total 6 columns):\n",
      " #   Column     Non-Null Count  Dtype  \n",
      "---  ------     --------------  -----  \n",
      " 0   Open       1296 non-null   float64\n",
      " 1   High       1296 non-null   float64\n",
      " 2   Low        1296 non-null   float64\n",
      " 3   Close      1296 non-null   float64\n",
      " 4   Adj Close  1296 non-null   float64\n",
      " 5   Volume     1296 non-null   float64\n",
      "dtypes: float64(6)\n",
      "memory usage: 70.9 KB\n"
     ]
    }
   ],
   "source": [
    "# Check your answer here. (Do not make any change to this cell. Just run this cell.)\n",
    "\n",
    "tnx.info()"
   ]
  },
  {
   "cell_type": "code",
   "execution_count": 4,
   "metadata": {},
   "outputs": [
    {
     "name": "stdout",
     "output_type": "stream",
     "text": [
      "<class 'pandas.core.frame.DataFrame'>\n",
      "DatetimeIndex: 1333 entries, 2016-01-04 to 2021-03-17\n",
      "Data columns (total 6 columns):\n",
      " #   Column     Non-Null Count  Dtype  \n",
      "---  ------     --------------  -----  \n",
      " 0   Open       1333 non-null   float64\n",
      " 1   High       1333 non-null   float64\n",
      " 2   Low        1333 non-null   float64\n",
      " 3   Close      1333 non-null   float64\n",
      " 4   Adj Close  1333 non-null   float64\n",
      " 5   Volume     1333 non-null   float64\n",
      "dtypes: float64(6)\n",
      "memory usage: 72.9 KB\n"
     ]
    }
   ],
   "source": [
    "# Check your answer here. (Do not make any change to this cell. Just run this cell.)\n",
    "\n",
    "gbpusd.info()"
   ]
  },
  {
   "cell_type": "markdown",
   "metadata": {},
   "source": [
    "2\\. Get the 1 month downsample of adjusted close of the GBPUSD exchange rate and store in a variable called gbpusd_month. (10 pts)"
   ]
  },
  {
   "cell_type": "code",
   "execution_count": 5,
   "metadata": {},
   "outputs": [],
   "source": [
    "# Your answer here\n",
    "gbpusd_month = gbpusd['Adj Close'].resample('1m', label='right').last().head()"
   ]
  },
  {
   "cell_type": "code",
   "execution_count": 6,
   "metadata": {},
   "outputs": [
    {
     "data": {
      "text/plain": [
       "Date\n",
       "2016-01-31    1.436204\n",
       "2016-02-29    1.386194\n",
       "2016-03-31    1.437401\n",
       "2016-04-30    1.461134\n",
       "2016-05-31    1.463507\n",
       "Freq: M, Name: Adj Close, dtype: float64"
      ]
     },
     "execution_count": 6,
     "metadata": {},
     "output_type": "execute_result"
    }
   ],
   "source": [
    "# Check your answer here. (Do not make any change to this cell. Just run this cell.)\n",
    "\n",
    "gbpusd_month.head()"
   ]
  },
  {
   "cell_type": "markdown",
   "metadata": {},
   "source": [
    "3\\. Create, and add to the __tnx__ dataframe, 1, 7, and 30 day lag features which represent the lags for the adjusted close of the treasury rate yield. For example, the name of the 1 day lag should be 'Treasury 1 Day Lag'. (10 pts)"
   ]
  },
  {
   "cell_type": "code",
   "execution_count": 7,
   "metadata": {},
   "outputs": [],
   "source": [
    "# Your answer here\n",
    "tnx['Treasury 1 Day Lag'] = tnx['Adj Close'].shift(1)\n",
    "tnx['Treasury 7 Day Lag'] = tnx['Adj Close'].shift(7)\n",
    "tnx['Treasury 30 Day Lag'] = tnx['Adj Close'].shift(30)"
   ]
  },
  {
   "cell_type": "code",
   "execution_count": 8,
   "metadata": {},
   "outputs": [
    {
     "data": {
      "text/html": [
       "<div>\n",
       "<style scoped>\n",
       "    .dataframe tbody tr th:only-of-type {\n",
       "        vertical-align: middle;\n",
       "    }\n",
       "\n",
       "    .dataframe tbody tr th {\n",
       "        vertical-align: top;\n",
       "    }\n",
       "\n",
       "    .dataframe thead th {\n",
       "        text-align: right;\n",
       "    }\n",
       "</style>\n",
       "<table border=\"1\" class=\"dataframe\">\n",
       "  <thead>\n",
       "    <tr style=\"text-align: right;\">\n",
       "      <th></th>\n",
       "      <th>Open</th>\n",
       "      <th>High</th>\n",
       "      <th>Low</th>\n",
       "      <th>Close</th>\n",
       "      <th>Adj Close</th>\n",
       "      <th>Volume</th>\n",
       "      <th>Treasury 1 Day Lag</th>\n",
       "      <th>Treasury 7 Day Lag</th>\n",
       "      <th>Treasury 30 Day Lag</th>\n",
       "    </tr>\n",
       "    <tr>\n",
       "      <th>Date</th>\n",
       "      <th></th>\n",
       "      <th></th>\n",
       "      <th></th>\n",
       "      <th></th>\n",
       "      <th></th>\n",
       "      <th></th>\n",
       "      <th></th>\n",
       "      <th></th>\n",
       "      <th></th>\n",
       "    </tr>\n",
       "  </thead>\n",
       "  <tbody>\n",
       "    <tr>\n",
       "      <th>2021-03-09</th>\n",
       "      <td>1.544</td>\n",
       "      <td>1.563</td>\n",
       "      <td>1.528</td>\n",
       "      <td>1.546</td>\n",
       "      <td>1.546</td>\n",
       "      <td>0.0</td>\n",
       "      <td>1.596</td>\n",
       "      <td>1.460</td>\n",
       "      <td>1.040</td>\n",
       "    </tr>\n",
       "    <tr>\n",
       "      <th>2021-03-10</th>\n",
       "      <td>1.561</td>\n",
       "      <td>1.563</td>\n",
       "      <td>1.506</td>\n",
       "      <td>1.520</td>\n",
       "      <td>1.520</td>\n",
       "      <td>0.0</td>\n",
       "      <td>1.546</td>\n",
       "      <td>1.446</td>\n",
       "      <td>1.040</td>\n",
       "    </tr>\n",
       "    <tr>\n",
       "      <th>2021-03-11</th>\n",
       "      <td>1.497</td>\n",
       "      <td>1.547</td>\n",
       "      <td>1.497</td>\n",
       "      <td>1.527</td>\n",
       "      <td>1.527</td>\n",
       "      <td>0.0</td>\n",
       "      <td>1.520</td>\n",
       "      <td>1.415</td>\n",
       "      <td>1.014</td>\n",
       "    </tr>\n",
       "    <tr>\n",
       "      <th>2021-03-12</th>\n",
       "      <td>1.591</td>\n",
       "      <td>1.642</td>\n",
       "      <td>1.584</td>\n",
       "      <td>1.635</td>\n",
       "      <td>1.635</td>\n",
       "      <td>0.0</td>\n",
       "      <td>1.527</td>\n",
       "      <td>1.470</td>\n",
       "      <td>1.057</td>\n",
       "    </tr>\n",
       "    <tr>\n",
       "      <th>2021-03-15</th>\n",
       "      <td>1.627</td>\n",
       "      <td>1.627</td>\n",
       "      <td>1.595</td>\n",
       "      <td>1.607</td>\n",
       "      <td>1.607</td>\n",
       "      <td>0.0</td>\n",
       "      <td>1.635</td>\n",
       "      <td>1.550</td>\n",
       "      <td>1.093</td>\n",
       "    </tr>\n",
       "  </tbody>\n",
       "</table>\n",
       "</div>"
      ],
      "text/plain": [
       "             Open   High    Low  Close  Adj Close  Volume  Treasury 1 Day Lag  \\\n",
       "Date                                                                            \n",
       "2021-03-09  1.544  1.563  1.528  1.546      1.546     0.0               1.596   \n",
       "2021-03-10  1.561  1.563  1.506  1.520      1.520     0.0               1.546   \n",
       "2021-03-11  1.497  1.547  1.497  1.527      1.527     0.0               1.520   \n",
       "2021-03-12  1.591  1.642  1.584  1.635      1.635     0.0               1.527   \n",
       "2021-03-15  1.627  1.627  1.595  1.607      1.607     0.0               1.635   \n",
       "\n",
       "            Treasury 7 Day Lag  Treasury 30 Day Lag  \n",
       "Date                                                 \n",
       "2021-03-09               1.460                1.040  \n",
       "2021-03-10               1.446                1.040  \n",
       "2021-03-11               1.415                1.014  \n",
       "2021-03-12               1.470                1.057  \n",
       "2021-03-15               1.550                1.093  "
      ]
     },
     "execution_count": 8,
     "metadata": {},
     "output_type": "execute_result"
    }
   ],
   "source": [
    "# Check your answer here. (Do not make any change to this cell. Just run this cell.)\n",
    "\n",
    "tnx.tail()"
   ]
  },
  {
   "cell_type": "markdown",
   "metadata": {},
   "source": [
    "4\\. Create and add to the __gbpusd__ dataframe, a 20 day rolling min, rolling max, and rolling mean of the adjusted close for the exchange rate. For example, the name of the rolling mean should be 'Exchange Rt Mean'(10 pts)"
   ]
  },
  {
   "cell_type": "code",
   "execution_count": 9,
   "metadata": {},
   "outputs": [],
   "source": [
    "# Your answer here\n",
    "\n",
    "win = 20\n",
    "gbpusd['Exchange Rt Min'] = gbpusd['Adj Close'].rolling(window=win).min()\n",
    "gbpusd['Exchange Rt Max'] = gbpusd['Adj Close'].rolling(window=win).max()\n",
    "gbpusd['Exchange Rt Mean'] = gbpusd['Adj Close'].rolling(window=win).mean()\n"
   ]
  },
  {
   "cell_type": "code",
   "execution_count": 10,
   "metadata": {},
   "outputs": [
    {
     "data": {
      "text/html": [
       "<div>\n",
       "<style scoped>\n",
       "    .dataframe tbody tr th:only-of-type {\n",
       "        vertical-align: middle;\n",
       "    }\n",
       "\n",
       "    .dataframe tbody tr th {\n",
       "        vertical-align: top;\n",
       "    }\n",
       "\n",
       "    .dataframe thead th {\n",
       "        text-align: right;\n",
       "    }\n",
       "</style>\n",
       "<table border=\"1\" class=\"dataframe\">\n",
       "  <thead>\n",
       "    <tr style=\"text-align: right;\">\n",
       "      <th></th>\n",
       "      <th>Open</th>\n",
       "      <th>High</th>\n",
       "      <th>Low</th>\n",
       "      <th>Close</th>\n",
       "      <th>Adj Close</th>\n",
       "      <th>Volume</th>\n",
       "      <th>Exchange Rt Min</th>\n",
       "      <th>Exchange Rt Max</th>\n",
       "      <th>Exchange Rt Mean</th>\n",
       "    </tr>\n",
       "    <tr>\n",
       "      <th>Date</th>\n",
       "      <th></th>\n",
       "      <th></th>\n",
       "      <th></th>\n",
       "      <th></th>\n",
       "      <th></th>\n",
       "      <th></th>\n",
       "      <th></th>\n",
       "      <th></th>\n",
       "      <th></th>\n",
       "    </tr>\n",
       "  </thead>\n",
       "  <tbody>\n",
       "    <tr>\n",
       "      <th>2016-01-04</th>\n",
       "      <td>1.473991</td>\n",
       "      <td>1.481701</td>\n",
       "      <td>1.469141</td>\n",
       "      <td>1.473709</td>\n",
       "      <td>1.473709</td>\n",
       "      <td>0.0</td>\n",
       "      <td>NaN</td>\n",
       "      <td>NaN</td>\n",
       "      <td>NaN</td>\n",
       "    </tr>\n",
       "    <tr>\n",
       "      <th>2016-01-05</th>\n",
       "      <td>1.471454</td>\n",
       "      <td>1.472971</td>\n",
       "      <td>1.464129</td>\n",
       "      <td>1.471410</td>\n",
       "      <td>1.471410</td>\n",
       "      <td>0.0</td>\n",
       "      <td>NaN</td>\n",
       "      <td>NaN</td>\n",
       "      <td>NaN</td>\n",
       "    </tr>\n",
       "    <tr>\n",
       "      <th>2016-01-06</th>\n",
       "      <td>1.467696</td>\n",
       "      <td>1.467998</td>\n",
       "      <td>1.460494</td>\n",
       "      <td>1.467394</td>\n",
       "      <td>1.467394</td>\n",
       "      <td>0.0</td>\n",
       "      <td>NaN</td>\n",
       "      <td>NaN</td>\n",
       "      <td>NaN</td>\n",
       "    </tr>\n",
       "    <tr>\n",
       "      <th>2016-01-07</th>\n",
       "      <td>1.462929</td>\n",
       "      <td>1.464343</td>\n",
       "      <td>1.453488</td>\n",
       "      <td>1.462994</td>\n",
       "      <td>1.462994</td>\n",
       "      <td>0.0</td>\n",
       "      <td>NaN</td>\n",
       "      <td>NaN</td>\n",
       "      <td>NaN</td>\n",
       "    </tr>\n",
       "    <tr>\n",
       "      <th>2016-01-08</th>\n",
       "      <td>1.462309</td>\n",
       "      <td>1.464794</td>\n",
       "      <td>1.452855</td>\n",
       "      <td>1.462694</td>\n",
       "      <td>1.462694</td>\n",
       "      <td>0.0</td>\n",
       "      <td>NaN</td>\n",
       "      <td>NaN</td>\n",
       "      <td>NaN</td>\n",
       "    </tr>\n",
       "    <tr>\n",
       "      <th>...</th>\n",
       "      <td>...</td>\n",
       "      <td>...</td>\n",
       "      <td>...</td>\n",
       "      <td>...</td>\n",
       "      <td>...</td>\n",
       "      <td>...</td>\n",
       "      <td>...</td>\n",
       "      <td>...</td>\n",
       "      <td>...</td>\n",
       "    </tr>\n",
       "    <tr>\n",
       "      <th>2021-03-09</th>\n",
       "      <td>1.382437</td>\n",
       "      <td>1.392118</td>\n",
       "      <td>1.380338</td>\n",
       "      <td>1.382361</td>\n",
       "      <td>1.382361</td>\n",
       "      <td>0.0</td>\n",
       "      <td>1.381025</td>\n",
       "      <td>1.414827</td>\n",
       "      <td>1.393518</td>\n",
       "    </tr>\n",
       "    <tr>\n",
       "      <th>2021-03-10</th>\n",
       "      <td>1.388710</td>\n",
       "      <td>1.393417</td>\n",
       "      <td>1.384677</td>\n",
       "      <td>1.389043</td>\n",
       "      <td>1.389043</td>\n",
       "      <td>0.0</td>\n",
       "      <td>1.381025</td>\n",
       "      <td>1.414827</td>\n",
       "      <td>1.393880</td>\n",
       "    </tr>\n",
       "    <tr>\n",
       "      <th>2021-03-11</th>\n",
       "      <td>1.393130</td>\n",
       "      <td>1.398054</td>\n",
       "      <td>1.392176</td>\n",
       "      <td>1.393146</td>\n",
       "      <td>1.393146</td>\n",
       "      <td>0.0</td>\n",
       "      <td>1.381025</td>\n",
       "      <td>1.414827</td>\n",
       "      <td>1.394375</td>\n",
       "    </tr>\n",
       "    <tr>\n",
       "      <th>2021-03-12</th>\n",
       "      <td>1.398641</td>\n",
       "      <td>1.400403</td>\n",
       "      <td>1.386789</td>\n",
       "      <td>1.398993</td>\n",
       "      <td>1.398993</td>\n",
       "      <td>0.0</td>\n",
       "      <td>1.382361</td>\n",
       "      <td>1.414827</td>\n",
       "      <td>1.395273</td>\n",
       "    </tr>\n",
       "    <tr>\n",
       "      <th>2021-03-17</th>\n",
       "      <td>1.389217</td>\n",
       "      <td>1.392699</td>\n",
       "      <td>1.386155</td>\n",
       "      <td>1.386155</td>\n",
       "      <td>1.386155</td>\n",
       "      <td>0.0</td>\n",
       "      <td>1.382361</td>\n",
       "      <td>1.414827</td>\n",
       "      <td>1.395223</td>\n",
       "    </tr>\n",
       "  </tbody>\n",
       "</table>\n",
       "<p>1333 rows × 9 columns</p>\n",
       "</div>"
      ],
      "text/plain": [
       "                Open      High       Low     Close  Adj Close  Volume  \\\n",
       "Date                                                                    \n",
       "2016-01-04  1.473991  1.481701  1.469141  1.473709   1.473709     0.0   \n",
       "2016-01-05  1.471454  1.472971  1.464129  1.471410   1.471410     0.0   \n",
       "2016-01-06  1.467696  1.467998  1.460494  1.467394   1.467394     0.0   \n",
       "2016-01-07  1.462929  1.464343  1.453488  1.462994   1.462994     0.0   \n",
       "2016-01-08  1.462309  1.464794  1.452855  1.462694   1.462694     0.0   \n",
       "...              ...       ...       ...       ...        ...     ...   \n",
       "2021-03-09  1.382437  1.392118  1.380338  1.382361   1.382361     0.0   \n",
       "2021-03-10  1.388710  1.393417  1.384677  1.389043   1.389043     0.0   \n",
       "2021-03-11  1.393130  1.398054  1.392176  1.393146   1.393146     0.0   \n",
       "2021-03-12  1.398641  1.400403  1.386789  1.398993   1.398993     0.0   \n",
       "2021-03-17  1.389217  1.392699  1.386155  1.386155   1.386155     0.0   \n",
       "\n",
       "            Exchange Rt Min  Exchange Rt Max  Exchange Rt Mean  \n",
       "Date                                                            \n",
       "2016-01-04              NaN              NaN               NaN  \n",
       "2016-01-05              NaN              NaN               NaN  \n",
       "2016-01-06              NaN              NaN               NaN  \n",
       "2016-01-07              NaN              NaN               NaN  \n",
       "2016-01-08              NaN              NaN               NaN  \n",
       "...                     ...              ...               ...  \n",
       "2021-03-09         1.381025         1.414827          1.393518  \n",
       "2021-03-10         1.381025         1.414827          1.393880  \n",
       "2021-03-11         1.381025         1.414827          1.394375  \n",
       "2021-03-12         1.382361         1.414827          1.395273  \n",
       "2021-03-17         1.382361         1.414827          1.395223  \n",
       "\n",
       "[1333 rows x 9 columns]"
      ]
     },
     "execution_count": 10,
     "metadata": {},
     "output_type": "execute_result"
    }
   ],
   "source": [
    "# Check your answer here. (Do not make any change to this cell. Just run this cell.)\n",
    "\n",
    "gbpusd"
   ]
  },
  {
   "cell_type": "markdown",
   "metadata": {},
   "source": [
    "5\\. Plot the rolling min, mean, and max along with the actual adjusted close for the exchange rate for the last 250 days. Use green dashed lines to represent the min and max and a red dashed line for the mean. (15 pts)"
   ]
  },
  {
   "cell_type": "code",
   "execution_count": 11,
   "metadata": {},
   "outputs": [
    {
     "data": {
      "image/png": "[encoded data removed]",
      "text/plain": [
       "<Figure size 720x432 with 1 Axes>"
      ]
     },
     "metadata": {
      "needs_background": "light"
     },
     "output_type": "display_data"
    }
   ],
   "source": [
    "# Your answer here\n",
    "ax = gbpusd[['Exchange Rt Min','Exchange Rt Mean','Exchange Rt Max']].iloc[-250:].plot(figsize=(10,6), style=['g--','r--','g--'], lw=0.8)\n",
    "gbpusd['Adj Close'].iloc[-250:].plot(ax=ax, lw=2.0)\n",
    "plt.show()"
   ]
  },
  {
   "cell_type": "markdown",
   "metadata": {},
   "source": [
    "6\\. Overwrite __tnx__ with a new dataframe also called __tnx__ that just has the Adj Close column and rename that column 'TreasuryYield' in the new dataframe. Overwrite __gbpusd__ with a new dataframe also called __gbpusd__ that just has the Adj Close column and rename that column 'Exchange Rate' in the new dataframe.(10 pts)"
   ]
  },
  {
   "cell_type": "code",
   "execution_count": 12,
   "metadata": {},
   "outputs": [],
   "source": [
    "# Your answer here\n",
    "tnx = pd.DataFrame(tnx['Adj Close'])\n",
    "tnx.columns = ['TreasuryYield']\n",
    "\n",
    "gbpusd = pd.DataFrame(gbpusd['Adj Close'])\n",
    "gbpusd.columns = ['ExchangeRate']"
   ]
  },
  {
   "cell_type": "code",
   "execution_count": 13,
   "metadata": {
    "scrolled": true
   },
   "outputs": [
    {
     "data": {
      "text/html": [
       "<div>\n",
       "<style scoped>\n",
       "    .dataframe tbody tr th:only-of-type {\n",
       "        vertical-align: middle;\n",
       "    }\n",
       "\n",
       "    .dataframe tbody tr th {\n",
       "        vertical-align: top;\n",
       "    }\n",
       "\n",
       "    .dataframe thead th {\n",
       "        text-align: right;\n",
       "    }\n",
       "</style>\n",
       "<table border=\"1\" class=\"dataframe\">\n",
       "  <thead>\n",
       "    <tr style=\"text-align: right;\">\n",
       "      <th></th>\n",
       "      <th>TreasuryYield</th>\n",
       "    </tr>\n",
       "    <tr>\n",
       "      <th>Date</th>\n",
       "      <th></th>\n",
       "    </tr>\n",
       "  </thead>\n",
       "  <tbody>\n",
       "    <tr>\n",
       "      <th>2016-01-04</th>\n",
       "      <td>2.245</td>\n",
       "    </tr>\n",
       "    <tr>\n",
       "      <th>2016-01-05</th>\n",
       "      <td>2.248</td>\n",
       "    </tr>\n",
       "    <tr>\n",
       "      <th>2016-01-06</th>\n",
       "      <td>2.177</td>\n",
       "    </tr>\n",
       "    <tr>\n",
       "      <th>2016-01-07</th>\n",
       "      <td>2.153</td>\n",
       "    </tr>\n",
       "    <tr>\n",
       "      <th>2016-01-08</th>\n",
       "      <td>2.130</td>\n",
       "    </tr>\n",
       "  </tbody>\n",
       "</table>\n",
       "</div>"
      ],
      "text/plain": [
       "            TreasuryYield\n",
       "Date                     \n",
       "2016-01-04          2.245\n",
       "2016-01-05          2.248\n",
       "2016-01-06          2.177\n",
       "2016-01-07          2.153\n",
       "2016-01-08          2.130"
      ]
     },
     "execution_count": 13,
     "metadata": {},
     "output_type": "execute_result"
    }
   ],
   "source": [
    "# Check your answer here. (Do not make any change to this cell. Just run this cell.)\n",
    "\n",
    "tnx.head()"
   ]
  },
  {
   "cell_type": "code",
   "execution_count": 14,
   "metadata": {
    "scrolled": true
   },
   "outputs": [
    {
     "data": {
      "text/html": [
       "<div>\n",
       "<style scoped>\n",
       "    .dataframe tbody tr th:only-of-type {\n",
       "        vertical-align: middle;\n",
       "    }\n",
       "\n",
       "    .dataframe tbody tr th {\n",
       "        vertical-align: top;\n",
       "    }\n",
       "\n",
       "    .dataframe thead th {\n",
       "        text-align: right;\n",
       "    }\n",
       "</style>\n",
       "<table border=\"1\" class=\"dataframe\">\n",
       "  <thead>\n",
       "    <tr style=\"text-align: right;\">\n",
       "      <th></th>\n",
       "      <th>ExchangeRate</th>\n",
       "    </tr>\n",
       "    <tr>\n",
       "      <th>Date</th>\n",
       "      <th></th>\n",
       "    </tr>\n",
       "  </thead>\n",
       "  <tbody>\n",
       "    <tr>\n",
       "      <th>2016-01-04</th>\n",
       "      <td>1.473709</td>\n",
       "    </tr>\n",
       "    <tr>\n",
       "      <th>2016-01-05</th>\n",
       "      <td>1.471410</td>\n",
       "    </tr>\n",
       "    <tr>\n",
       "      <th>2016-01-06</th>\n",
       "      <td>1.467394</td>\n",
       "    </tr>\n",
       "    <tr>\n",
       "      <th>2016-01-07</th>\n",
       "      <td>1.462994</td>\n",
       "    </tr>\n",
       "    <tr>\n",
       "      <th>2016-01-08</th>\n",
       "      <td>1.462694</td>\n",
       "    </tr>\n",
       "  </tbody>\n",
       "</table>\n",
       "</div>"
      ],
      "text/plain": [
       "            ExchangeRate\n",
       "Date                    \n",
       "2016-01-04      1.473709\n",
       "2016-01-05      1.471410\n",
       "2016-01-06      1.467394\n",
       "2016-01-07      1.462994\n",
       "2016-01-08      1.462694"
      ]
     },
     "execution_count": 14,
     "metadata": {},
     "output_type": "execute_result"
    }
   ],
   "source": [
    "# Check your answer here. (Do not make any change to this cell. Just run this cell.)\n",
    "\n",
    "gbpusd.head()"
   ]
  },
  {
   "cell_type": "markdown",
   "metadata": {},
   "source": [
    "7\\. Using the pandas join method, join the tnx and gbpusd dataframes using the __intersection of the date indices__ and store the result in a new dataframe called <i>combined_df</i>. The new dataframe should have __TreasuryYield as the first column__. (10 pts)"
   ]
  },
  {
   "cell_type": "code",
   "execution_count": 15,
   "metadata": {},
   "outputs": [
    {
     "data": {
      "text/html": [
       "<div>\n",
       "<style scoped>\n",
       "    .dataframe tbody tr th:only-of-type {\n",
       "        vertical-align: middle;\n",
       "    }\n",
       "\n",
       "    .dataframe tbody tr th {\n",
       "        vertical-align: top;\n",
       "    }\n",
       "\n",
       "    .dataframe thead th {\n",
       "        text-align: right;\n",
       "    }\n",
       "</style>\n",
       "<table border=\"1\" class=\"dataframe\">\n",
       "  <thead>\n",
       "    <tr style=\"text-align: right;\">\n",
       "      <th></th>\n",
       "      <th>TreasuryYield</th>\n",
       "      <th>ExchangeRate</th>\n",
       "    </tr>\n",
       "    <tr>\n",
       "      <th>Date</th>\n",
       "      <th></th>\n",
       "      <th></th>\n",
       "    </tr>\n",
       "  </thead>\n",
       "  <tbody>\n",
       "    <tr>\n",
       "      <th>2016-01-04</th>\n",
       "      <td>2.245</td>\n",
       "      <td>1.473709</td>\n",
       "    </tr>\n",
       "    <tr>\n",
       "      <th>2016-01-05</th>\n",
       "      <td>2.248</td>\n",
       "      <td>1.471410</td>\n",
       "    </tr>\n",
       "    <tr>\n",
       "      <th>2016-01-06</th>\n",
       "      <td>2.177</td>\n",
       "      <td>1.467394</td>\n",
       "    </tr>\n",
       "    <tr>\n",
       "      <th>2016-01-07</th>\n",
       "      <td>2.153</td>\n",
       "      <td>1.462994</td>\n",
       "    </tr>\n",
       "    <tr>\n",
       "      <th>2016-01-08</th>\n",
       "      <td>2.130</td>\n",
       "      <td>1.462694</td>\n",
       "    </tr>\n",
       "    <tr>\n",
       "      <th>...</th>\n",
       "      <td>...</td>\n",
       "      <td>...</td>\n",
       "    </tr>\n",
       "    <tr>\n",
       "      <th>2021-03-08</th>\n",
       "      <td>1.596</td>\n",
       "      <td>1.385368</td>\n",
       "    </tr>\n",
       "    <tr>\n",
       "      <th>2021-03-09</th>\n",
       "      <td>1.546</td>\n",
       "      <td>1.382361</td>\n",
       "    </tr>\n",
       "    <tr>\n",
       "      <th>2021-03-10</th>\n",
       "      <td>1.520</td>\n",
       "      <td>1.389043</td>\n",
       "    </tr>\n",
       "    <tr>\n",
       "      <th>2021-03-11</th>\n",
       "      <td>1.527</td>\n",
       "      <td>1.393146</td>\n",
       "    </tr>\n",
       "    <tr>\n",
       "      <th>2021-03-12</th>\n",
       "      <td>1.635</td>\n",
       "      <td>1.398993</td>\n",
       "    </tr>\n",
       "  </tbody>\n",
       "</table>\n",
       "<p>1272 rows × 2 columns</p>\n",
       "</div>"
      ],
      "text/plain": [
       "            TreasuryYield  ExchangeRate\n",
       "Date                                   \n",
       "2016-01-04          2.245      1.473709\n",
       "2016-01-05          2.248      1.471410\n",
       "2016-01-06          2.177      1.467394\n",
       "2016-01-07          2.153      1.462994\n",
       "2016-01-08          2.130      1.462694\n",
       "...                   ...           ...\n",
       "2021-03-08          1.596      1.385368\n",
       "2021-03-09          1.546      1.382361\n",
       "2021-03-10          1.520      1.389043\n",
       "2021-03-11          1.527      1.393146\n",
       "2021-03-12          1.635      1.398993\n",
       "\n",
       "[1272 rows x 2 columns]"
      ]
     },
     "metadata": {},
     "output_type": "display_data"
    }
   ],
   "source": [
    "# Your answer here\n",
    "combined_df = pd.merge(tnx, gbpusd, left_index=True, right_index=True)\n",
    "display(combined_df)"
   ]
  },
  {
   "cell_type": "code",
   "execution_count": 16,
   "metadata": {},
   "outputs": [
    {
     "name": "stdout",
     "output_type": "stream",
     "text": [
      "<class 'pandas.core.frame.DataFrame'>\n",
      "DatetimeIndex: 1272 entries, 2016-01-04 to 2021-03-12\n",
      "Data columns (total 2 columns):\n",
      " #   Column         Non-Null Count  Dtype  \n",
      "---  ------         --------------  -----  \n",
      " 0   TreasuryYield  1272 non-null   float64\n",
      " 1   ExchangeRate   1272 non-null   float64\n",
      "dtypes: float64(2)\n",
      "memory usage: 29.8 KB\n"
     ]
    }
   ],
   "source": [
    "# Check your answer here. (Do not make any change to this cell. Just run this cell.)\n",
    "\n",
    "combined_df.info()"
   ]
  },
  {
   "cell_type": "markdown",
   "metadata": {},
   "source": [
    "8\\. Get the correlation between the log changes in TreasuryYield and ExchangeRate of combined_df and store in a variable called __chg_corr__. (10 pts)"
   ]
  },
  {
   "cell_type": "code",
   "execution_count": 17,
   "metadata": {
    "scrolled": false
   },
   "outputs": [],
   "source": [
    "# Your answer here\n",
    "chg_corr = np.log(combined_df/combined_df.shift(1))\n"
   ]
  },
  {
   "cell_type": "code",
   "execution_count": 18,
   "metadata": {},
   "outputs": [
    {
     "data": {
      "text/html": [
       "<div>\n",
       "<style scoped>\n",
       "    .dataframe tbody tr th:only-of-type {\n",
       "        vertical-align: middle;\n",
       "    }\n",
       "\n",
       "    .dataframe tbody tr th {\n",
       "        vertical-align: top;\n",
       "    }\n",
       "\n",
       "    .dataframe thead th {\n",
       "        text-align: right;\n",
       "    }\n",
       "</style>\n",
       "<table border=\"1\" class=\"dataframe\">\n",
       "  <thead>\n",
       "    <tr style=\"text-align: right;\">\n",
       "      <th></th>\n",
       "      <th>TreasuryYield</th>\n",
       "      <th>ExchangeRate</th>\n",
       "    </tr>\n",
       "    <tr>\n",
       "      <th>Date</th>\n",
       "      <th></th>\n",
       "      <th></th>\n",
       "    </tr>\n",
       "  </thead>\n",
       "  <tbody>\n",
       "    <tr>\n",
       "      <th>2016-01-04</th>\n",
       "      <td>NaN</td>\n",
       "      <td>NaN</td>\n",
       "    </tr>\n",
       "    <tr>\n",
       "      <th>2016-01-05</th>\n",
       "      <td>0.001335</td>\n",
       "      <td>-0.001561</td>\n",
       "    </tr>\n",
       "    <tr>\n",
       "      <th>2016-01-06</th>\n",
       "      <td>-0.032093</td>\n",
       "      <td>-0.002733</td>\n",
       "    </tr>\n",
       "    <tr>\n",
       "      <th>2016-01-07</th>\n",
       "      <td>-0.011086</td>\n",
       "      <td>-0.003003</td>\n",
       "    </tr>\n",
       "    <tr>\n",
       "      <th>2016-01-08</th>\n",
       "      <td>-0.010740</td>\n",
       "      <td>-0.000205</td>\n",
       "    </tr>\n",
       "    <tr>\n",
       "      <th>...</th>\n",
       "      <td>...</td>\n",
       "      <td>...</td>\n",
       "    </tr>\n",
       "    <tr>\n",
       "      <th>2021-03-08</th>\n",
       "      <td>0.026668</td>\n",
       "      <td>-0.002913</td>\n",
       "    </tr>\n",
       "    <tr>\n",
       "      <th>2021-03-09</th>\n",
       "      <td>-0.031830</td>\n",
       "      <td>-0.002173</td>\n",
       "    </tr>\n",
       "    <tr>\n",
       "      <th>2021-03-10</th>\n",
       "      <td>-0.016961</td>\n",
       "      <td>0.004822</td>\n",
       "    </tr>\n",
       "    <tr>\n",
       "      <th>2021-03-11</th>\n",
       "      <td>0.004595</td>\n",
       "      <td>0.002949</td>\n",
       "    </tr>\n",
       "    <tr>\n",
       "      <th>2021-03-12</th>\n",
       "      <td>0.068338</td>\n",
       "      <td>0.004188</td>\n",
       "    </tr>\n",
       "  </tbody>\n",
       "</table>\n",
       "<p>1272 rows × 2 columns</p>\n",
       "</div>"
      ],
      "text/plain": [
       "            TreasuryYield  ExchangeRate\n",
       "Date                                   \n",
       "2016-01-04            NaN           NaN\n",
       "2016-01-05       0.001335     -0.001561\n",
       "2016-01-06      -0.032093     -0.002733\n",
       "2016-01-07      -0.011086     -0.003003\n",
       "2016-01-08      -0.010740     -0.000205\n",
       "...                   ...           ...\n",
       "2021-03-08       0.026668     -0.002913\n",
       "2021-03-09      -0.031830     -0.002173\n",
       "2021-03-10      -0.016961      0.004822\n",
       "2021-03-11       0.004595      0.002949\n",
       "2021-03-12       0.068338      0.004188\n",
       "\n",
       "[1272 rows x 2 columns]"
      ]
     },
     "execution_count": 18,
     "metadata": {},
     "output_type": "execute_result"
    }
   ],
   "source": [
    "# Check your answer here. (Do not make any change to this cell. Just run this cell.)\n",
    "\n",
    "chg_corr"
   ]
  },
  {
   "cell_type": "markdown",
   "metadata": {},
   "source": [
    "9\\. Using the Augmented Dickey-Fuller Test, determine the stationarity for both the Treasury Yield and Exchange Rate in combined_df. (15 pts)"
   ]
  },
  {
   "cell_type": "code",
   "execution_count": 19,
   "metadata": {},
   "outputs": [
    {
     "name": "stdout",
     "output_type": "stream",
     "text": [
      "\n",
      ">>>>> Treasury Yield\n",
      "ADF Statistic: -0.996130\n",
      "p-value: 0.754673\n",
      "Critical Values:\n",
      "\t1%: -3.436\n",
      "\t5%: -2.864\n",
      "\t10%: -2.568\n",
      "\n",
      ">>>>> Exchange Rate\n",
      "ADF Statistic: -3.074237\n",
      "p-value: 0.028519\n",
      "Critical Values:\n",
      "\t1%: -3.436\n",
      "\t5%: -2.864\n",
      "\t10%: -2.568\n"
     ]
    }
   ],
   "source": [
    "# Your answer here\n",
    "## a p-value <= .05 and a test statistic that is more negative than 1% critical value indicates a stationary series\n",
    "from statsmodels.tsa.stattools import adfuller\n",
    "def adfullerTest(y, X):\n",
    "    result = adfuller(X)\n",
    "    print('\\n>>>>>',y)\n",
    "    print('ADF Statistic: %f' % result[0])\n",
    "    print('p-value: %f' % result[1])\n",
    "    print('Critical Values:')\n",
    "    for key, value in result[4].items():\n",
    "        print('\\t%s: %.3f' % (key, value))\n",
    "adfullerTest('Treasury Yield',combined_df.TreasuryYield.values)   \n",
    "adfullerTest('Exchange Rate',combined_df.ExchangeRate.values)   "
   ]
  }
 ],
 "metadata": {
  "kernelspec": {
   "display_name": "Python 3",
   "language": "python",
   "name": "python3"
  },
  "language_info": {
   "codemirror_mode": {
    "name": "ipython",
    "version": 3
   },
   "file_extension": ".py",
   "mimetype": "text/x-python",
   "name": "python",
   "nbconvert_exporter": "python",
   "pygments_lexer": "ipython3",
   "version": "3.8.0"
  }
 },
 "nbformat": 4,
 "nbformat_minor": 4
}
