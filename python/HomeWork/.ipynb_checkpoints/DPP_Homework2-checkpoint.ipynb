{
 "cells": [
  {
   "cell_type": "markdown",
   "metadata": {
    "deletable": false,
    "nbgrader": {
     "cell_type": "markdown",
     "checksum": "2ab1ae3153157279552c487368b8ab42",
     "grade": false,
     "grade_id": "cell-a468d93d0ceee349",
     "locked": true,
     "schema_version": 3,
     "solution": false,
     "task": false
    }
   },
   "source": [
    "# Data Programming in Python | BAIS:6040\n",
    "# Homework 2. Iteration & Flow Control"
   ]
  },
  {
   "cell_type": "markdown",
   "metadata": {
    "deletable": false,
    "editable": false,
    "nbgrader": {
     "cell_type": "markdown",
     "checksum": "aab325e517cd5c41bd96522f566c5001",
     "grade": false,
     "grade_id": "cell-a2b55e76ef873e32",
     "locked": true,
     "schema_version": 3,
     "solution": false,
     "task": false
    }
   },
   "source": [
    "## Instructions"
   ]
  },
  {
   "cell_type": "markdown",
   "metadata": {
    "deletable": false,
    "editable": false,
    "nbgrader": {
     "cell_type": "markdown",
     "checksum": "3d1137a7183062a6e5c8cb537b771cc9",
     "grade": false,
     "grade_id": "cell-331c8b99c1d8a311",
     "locked": true,
     "schema_version": 3,
     "solution": false,
     "task": false
    }
   },
   "source": [
    "To complete the homework, fill in the commands needed to finish all of the exercises below. Program everything inside this notebook. If the exercises request that you store information within certain variables, please use those specific variables names (case sensitive)."
   ]
  },
  {
   "cell_type": "markdown",
   "metadata": {
    "deletable": false,
    "editable": false,
    "nbgrader": {
     "cell_type": "markdown",
     "checksum": "8652496ee9bc55b9631d1961df304197",
     "grade": false,
     "grade_id": "cell-2fc43ffc7b8da177",
     "locked": true,
     "schema_version": 3,
     "solution": false,
     "task": false
    }
   },
   "source": [
    "## Exercises"
   ]
  },
  {
   "cell_type": "markdown",
   "metadata": {
    "deletable": false,
    "editable": false,
    "nbgrader": {
     "cell_type": "markdown",
     "checksum": "3b3d01353d3280e1602e785392597766",
     "grade": false,
     "grade_id": "cell-5a61ac656a714b05",
     "locked": true,
     "schema_version": 3,
     "solution": false,
     "task": false
    }
   },
   "source": [
    "1. Write a <b>for</b> loop that prints all multiples of 3 between 1 and 100, separated by a tab. (10 pts)"
   ]
  },
  {
   "cell_type": "code",
   "execution_count": 1,
   "metadata": {
    "deletable": false,
    "nbgrader": {
     "cell_type": "code",
     "checksum": "bfb063c8068574b68af3f5057d999de1",
     "grade": true,
     "grade_id": "cell-251813efbd2dcb9f",
     "locked": false,
     "points": 10,
     "schema_version": 3,
     "solution": true,
     "task": false
    }
   },
   "outputs": [
    {
     "name": "stdout",
     "output_type": "stream",
     "text": [
      "0\t3\t6\t9\t12\t15\t18\t21\t24\t27\t30\t33\t36\t39\t42\t45\t48\t51\t54\t57\t60\t63\t66\t69\t72\t75\t78\t81\t84\t87\t90\t93\t96\t99\t"
     ]
    }
   ],
   "source": [
    "# YOUR CODE HERE\n",
    "for i in range(0,100,3):\n",
    "    print(i,end=\"\\t\")\n",
    "    "
   ]
  },
  {
   "cell_type": "markdown",
   "metadata": {
    "deletable": false,
    "editable": false,
    "nbgrader": {
     "cell_type": "markdown",
     "checksum": "6accb9b2c47926070d6c22ffddf5455e",
     "grade": false,
     "grade_id": "cell-392f31df5cdaa317",
     "locked": true,
     "schema_version": 3,
     "solution": false,
     "task": false
    }
   },
   "source": [
    "2. Write a <b>for</b> loop that adds all 4-digit even numbers one after another, printing the intermediate sum for every 100th number (i.e., at the index positions 99, 199, 299, ...) along with its index number. It should print the final sum after the <b>for</b> loop. (15 pts)"
   ]
  },
  {
   "cell_type": "code",
   "execution_count": 2,
   "metadata": {
    "deletable": false,
    "nbgrader": {
     "cell_type": "code",
     "checksum": "64fab2bb04f6423804c295353b07aeb6",
     "grade": true,
     "grade_id": "cell-c6f708085fb123ef",
     "locked": false,
     "points": 15,
     "schema_version": 3,
     "solution": true,
     "task": false
    }
   },
   "outputs": [
    {
     "name": "stdout",
     "output_type": "stream",
     "text": [
      "1000: 1000\n",
      "1100: 53550\n",
      "1200: 111100\n",
      "1300: 173650\n",
      "1400: 241200\n",
      "1500: 313750\n",
      "1600: 391300\n",
      "1700: 473850\n",
      "1800: 561400\n",
      "1900: 653950\n",
      "2000: 751500\n",
      "2100: 854050\n",
      "2200: 961600\n",
      "2300: 1074150\n",
      "2400: 1191700\n",
      "2500: 1314250\n",
      "2600: 1441800\n",
      "2700: 1574350\n",
      "2800: 1711900\n",
      "2900: 1854450\n",
      "3000: 2002000\n",
      "3100: 2154550\n",
      "3200: 2312100\n",
      "3300: 2474650\n",
      "3400: 2642200\n",
      "3500: 2814750\n",
      "3600: 2992300\n",
      "3700: 3174850\n",
      "3800: 3362400\n",
      "3900: 3554950\n",
      "4000: 3752500\n",
      "4100: 3955050\n",
      "4200: 4162600\n",
      "4300: 4375150\n",
      "4400: 4592700\n",
      "4500: 4815250\n",
      "4600: 5042800\n",
      "4700: 5275350\n",
      "4800: 5512900\n",
      "4900: 5755450\n",
      "5000: 6003000\n",
      "5100: 6255550\n",
      "5200: 6513100\n",
      "5300: 6775650\n",
      "5400: 7043200\n",
      "5500: 7315750\n",
      "5600: 7593300\n",
      "5700: 7875850\n",
      "5800: 8163400\n",
      "5900: 8455950\n",
      "6000: 8753500\n",
      "6100: 9056050\n",
      "6200: 9363600\n",
      "6300: 9676150\n",
      "6400: 9993700\n",
      "6500: 10316250\n",
      "6600: 10643800\n",
      "6700: 10976350\n",
      "6800: 11313900\n",
      "6900: 11656450\n",
      "7000: 12004000\n",
      "7100: 12356550\n",
      "7200: 12714100\n",
      "7300: 13076650\n",
      "7400: 13444200\n",
      "7500: 13816750\n",
      "7600: 14194300\n",
      "7700: 14576850\n",
      "7800: 14964400\n",
      "7900: 15356950\n",
      "8000: 15754500\n",
      "8100: 16157050\n",
      "8200: 16564600\n",
      "8300: 16977150\n",
      "8400: 17394700\n",
      "8500: 17817250\n",
      "8600: 18244800\n",
      "8700: 18677350\n",
      "8800: 19114900\n",
      "8900: 19557450\n",
      "9000: 20005000\n",
      "9100: 20457550\n",
      "9200: 20915100\n",
      "9300: 21377650\n",
      "9400: 21845200\n",
      "9500: 22317750\n",
      "9600: 22795300\n",
      "9700: 23277850\n",
      "9800: 23765400\n",
      "9900: 24257950\n",
      "24745500\n"
     ]
    }
   ],
   "source": [
    "# YOUR CODE HERE\n",
    "tot=0\n",
    "for i in range(1000,10000,2):\n",
    "    tot+=i\n",
    "    if i in range(1000,10000,100):\n",
    "        print(\"{}: {}\".format(i, tot))\n",
    "print(tot)      "
   ]
  },
  {
   "cell_type": "markdown",
   "metadata": {
    "deletable": false,
    "editable": false,
    "nbgrader": {
     "cell_type": "markdown",
     "checksum": "cf77636f21a636e70e66da14047449bb",
     "grade": false,
     "grade_id": "cell-a582dede7ca1292d",
     "locked": true,
     "schema_version": 3,
     "solution": false,
     "task": false
    }
   },
   "source": [
    "3. You have a list <i>names</i> of strings as below. Write a <b>for</b> loop that iterates over <i>names</i> to find a name that starts with \"S\" and has the length of 5. The loop stops when it finds the first occurrence of the name, insert the the name found along with its index number into the variable, <b><i>ans3</i></b>. (15 pts)"
   ]
  },
  {
   "cell_type": "code",
   "execution_count": 3,
   "metadata": {
    "deletable": false,
    "editable": false,
    "nbgrader": {
     "cell_type": "code",
     "checksum": "8eb12472cbfa737676bf1ded3e27cc39",
     "grade": false,
     "grade_id": "cell-3984d6d40d4d0167",
     "locked": true,
     "schema_version": 3,
     "solution": false,
     "task": false
    }
   },
   "outputs": [],
   "source": [
    "names = [\"Alice\", \"Bob\", \"Mary\", \"Sam\", \"Sarah\", \"Tom\"]"
   ]
  },
  {
   "cell_type": "code",
   "execution_count": 4,
   "metadata": {
    "deletable": false,
    "nbgrader": {
     "cell_type": "code",
     "checksum": "b409c639a4c5cb80086e36bac1c77658",
     "grade": false,
     "grade_id": "cell-6c95efd4226cc420",
     "locked": false,
     "schema_version": 3,
     "solution": true,
     "task": false
    }
   },
   "outputs": [],
   "source": [
    "# YOUR CODE HERE\n",
    "for i,name in enumerate(names):\n",
    "    if name.startswith('S') and len(name) == 5:\n",
    "        ans3=(i, name)\n",
    "        break"
   ]
  },
  {
   "cell_type": "code",
   "execution_count": 5,
   "metadata": {
    "deletable": false,
    "editable": false,
    "nbgrader": {
     "cell_type": "code",
     "checksum": "2fc0cbbe714568d4826e0feb4720273c",
     "grade": true,
     "grade_id": "cell-791bdcedf00b96c6",
     "locked": true,
     "points": 15,
     "schema_version": 3,
     "solution": false,
     "task": false
    }
   },
   "outputs": [
    {
     "data": {
      "text/plain": [
       "(4, 'Sarah')"
      ]
     },
     "execution_count": 5,
     "metadata": {},
     "output_type": "execute_result"
    }
   ],
   "source": [
    "# Check your answer here. (Do not make any change to this cell. Just run this cell.)\n",
    "ans3"
   ]
  },
  {
   "cell_type": "markdown",
   "metadata": {
    "deletable": false,
    "editable": false,
    "nbgrader": {
     "cell_type": "markdown",
     "checksum": "a2ccb4388472ade79c556cb315163fb2",
     "grade": false,
     "grade_id": "cell-882b400a7b1210b2",
     "locked": true,
     "schema_version": 3,
     "solution": false,
     "task": false
    }
   },
   "source": [
    "4. You have a dictionary <i>states</i> as below. Write a <b>for</b> loop that prints all key-value pairs in <i>states</i> in ascending order of the keys, separated by a space. For example, the output should look as follows: (IA: Iowa) (IL: Illinois) ... (WI: Wisconsin). (15 pts)"
   ]
  },
  {
   "cell_type": "code",
   "execution_count": 6,
   "metadata": {
    "deletable": false,
    "editable": false,
    "nbgrader": {
     "cell_type": "code",
     "checksum": "b7b63e945a04ee922551bb306d1f8b9b",
     "grade": false,
     "grade_id": "cell-960b4259680a5fc6",
     "locked": true,
     "schema_version": 3,
     "solution": false,
     "task": false
    }
   },
   "outputs": [],
   "source": [
    "states = {\"IL\": \"Illinois\", \"WI\": \"Wisconsin\", \"IA\": \"Iowa\", \"NE\": \"Nebraska\", \"MN\": \"Minnesota\"}"
   ]
  },
  {
   "cell_type": "code",
   "execution_count": 7,
   "metadata": {
    "deletable": false,
    "nbgrader": {
     "cell_type": "code",
     "checksum": "e80838c6e9aaa0cee0ff83c5ae664fb8",
     "grade": true,
     "grade_id": "cell-91934c3bd3d668ed",
     "locked": false,
     "points": 15,
     "schema_version": 3,
     "solution": true,
     "task": false
    }
   },
   "outputs": [
    {
     "name": "stdout",
     "output_type": "stream",
     "text": [
      "(IA: Iowa) (IL: Illinois) (MN: Minnesota) (NE: Nebraska) (WI: Wisconsin) "
     ]
    }
   ],
   "source": [
    "# YOUR CODE HERE\n",
    "for stateKey in sorted(states):\n",
    "    print(\"({}: {})\".format(stateKey, states[stateKey]), end=\" \")\n",
    "    "
   ]
  },
  {
   "cell_type": "markdown",
   "metadata": {
    "deletable": false,
    "editable": false,
    "nbgrader": {
     "cell_type": "markdown",
     "checksum": "4a515e15f780b63ae4945a3ba792cf06",
     "grade": false,
     "grade_id": "cell-ccf90c3f34068f04",
     "locked": true,
     "schema_version": 3,
     "solution": false,
     "task": false
    }
   },
   "source": [
    "5. You have lists <i>l1</i> and <i>l2</i> of integers as below. Using list comprehension, create a list <b><i>ans5</i></b> of lists, each of which contains any number from <i>l1</i>, any number from <i>l2</i>, and the product of the two numbers. For example, <i>ans5</i> should look as follows: [[0, 9, 0], [0, 8, 0], [0, 7, 0] ..., [9, 0, 0]]. (15 pts)"
   ]
  },
  {
   "cell_type": "code",
   "execution_count": 8,
   "metadata": {
    "deletable": false,
    "editable": false,
    "nbgrader": {
     "cell_type": "code",
     "checksum": "82acb67c43cc1e3198877e1433e874e5",
     "grade": false,
     "grade_id": "cell-67fd10d046c1bbf7",
     "locked": true,
     "schema_version": 3,
     "solution": false,
     "task": false
    }
   },
   "outputs": [
    {
     "data": {
      "text/plain": [
       "([0, 1, 2, 3, 4, 5, 6, 7, 8, 9], [9, 8, 7, 6, 5, 4, 3, 2, 1, 0])"
      ]
     },
     "execution_count": 8,
     "metadata": {},
     "output_type": "execute_result"
    }
   ],
   "source": [
    "l1 = list(range(10))\n",
    "l2 = list(reversed(l1))\n",
    "l1, l2"
   ]
  },
  {
   "cell_type": "code",
   "execution_count": 9,
   "metadata": {
    "deletable": false,
    "nbgrader": {
     "cell_type": "code",
     "checksum": "de1e4f557f2b03f88a12e0a514b2b03e",
     "grade": false,
     "grade_id": "cell-8e3fb21353c390e6",
     "locked": false,
     "schema_version": 3,
     "solution": true,
     "task": false
    }
   },
   "outputs": [],
   "source": [
    "# YOUR CODE HERE\n",
    "ans5 = [[i,j,i*j] for i in l1 for j in l2]"
   ]
  },
  {
   "cell_type": "code",
   "execution_count": 10,
   "metadata": {
    "deletable": false,
    "editable": false,
    "nbgrader": {
     "cell_type": "code",
     "checksum": "c56e58ef367962a8ea4b51091ee5bb7f",
     "grade": true,
     "grade_id": "cell-a6716366be59f5ec",
     "locked": true,
     "points": 15,
     "schema_version": 3,
     "solution": false,
     "task": false
    }
   },
   "outputs": [
    {
     "data": {
      "text/plain": [
       "[[0, 9, 0],\n",
       " [0, 8, 0],\n",
       " [0, 7, 0],\n",
       " [0, 6, 0],\n",
       " [0, 5, 0],\n",
       " [0, 4, 0],\n",
       " [0, 3, 0],\n",
       " [0, 2, 0],\n",
       " [0, 1, 0],\n",
       " [0, 0, 0],\n",
       " [1, 9, 9],\n",
       " [1, 8, 8],\n",
       " [1, 7, 7],\n",
       " [1, 6, 6],\n",
       " [1, 5, 5],\n",
       " [1, 4, 4],\n",
       " [1, 3, 3],\n",
       " [1, 2, 2],\n",
       " [1, 1, 1],\n",
       " [1, 0, 0],\n",
       " [2, 9, 18],\n",
       " [2, 8, 16],\n",
       " [2, 7, 14],\n",
       " [2, 6, 12],\n",
       " [2, 5, 10],\n",
       " [2, 4, 8],\n",
       " [2, 3, 6],\n",
       " [2, 2, 4],\n",
       " [2, 1, 2],\n",
       " [2, 0, 0],\n",
       " [3, 9, 27],\n",
       " [3, 8, 24],\n",
       " [3, 7, 21],\n",
       " [3, 6, 18],\n",
       " [3, 5, 15],\n",
       " [3, 4, 12],\n",
       " [3, 3, 9],\n",
       " [3, 2, 6],\n",
       " [3, 1, 3],\n",
       " [3, 0, 0],\n",
       " [4, 9, 36],\n",
       " [4, 8, 32],\n",
       " [4, 7, 28],\n",
       " [4, 6, 24],\n",
       " [4, 5, 20],\n",
       " [4, 4, 16],\n",
       " [4, 3, 12],\n",
       " [4, 2, 8],\n",
       " [4, 1, 4],\n",
       " [4, 0, 0],\n",
       " [5, 9, 45],\n",
       " [5, 8, 40],\n",
       " [5, 7, 35],\n",
       " [5, 6, 30],\n",
       " [5, 5, 25],\n",
       " [5, 4, 20],\n",
       " [5, 3, 15],\n",
       " [5, 2, 10],\n",
       " [5, 1, 5],\n",
       " [5, 0, 0],\n",
       " [6, 9, 54],\n",
       " [6, 8, 48],\n",
       " [6, 7, 42],\n",
       " [6, 6, 36],\n",
       " [6, 5, 30],\n",
       " [6, 4, 24],\n",
       " [6, 3, 18],\n",
       " [6, 2, 12],\n",
       " [6, 1, 6],\n",
       " [6, 0, 0],\n",
       " [7, 9, 63],\n",
       " [7, 8, 56],\n",
       " [7, 7, 49],\n",
       " [7, 6, 42],\n",
       " [7, 5, 35],\n",
       " [7, 4, 28],\n",
       " [7, 3, 21],\n",
       " [7, 2, 14],\n",
       " [7, 1, 7],\n",
       " [7, 0, 0],\n",
       " [8, 9, 72],\n",
       " [8, 8, 64],\n",
       " [8, 7, 56],\n",
       " [8, 6, 48],\n",
       " [8, 5, 40],\n",
       " [8, 4, 32],\n",
       " [8, 3, 24],\n",
       " [8, 2, 16],\n",
       " [8, 1, 8],\n",
       " [8, 0, 0],\n",
       " [9, 9, 81],\n",
       " [9, 8, 72],\n",
       " [9, 7, 63],\n",
       " [9, 6, 54],\n",
       " [9, 5, 45],\n",
       " [9, 4, 36],\n",
       " [9, 3, 27],\n",
       " [9, 2, 18],\n",
       " [9, 1, 9],\n",
       " [9, 0, 0]]"
      ]
     },
     "execution_count": 10,
     "metadata": {},
     "output_type": "execute_result"
    }
   ],
   "source": [
    "# Check your answer here. (Do not make any change to this cell. Just run this cell.)\n",
    "ans5"
   ]
  },
  {
   "cell_type": "markdown",
   "metadata": {
    "deletable": false,
    "editable": false,
    "nbgrader": {
     "cell_type": "markdown",
     "checksum": "93ebb495f746d1766823db94b154873c",
     "grade": false,
     "grade_id": "cell-7b6c92beea345217",
     "locked": true,
     "schema_version": 3,
     "solution": false,
     "task": false
    }
   },
   "source": [
    "6. You have three lists <i>names</i>, <i>ages</i>, and <i>genders</i> as below. Using list comprehension, create a list <b><i>ans6</i></b> of tuples, each of which contains the name from <i>names</i>, the age from <i>ages</i>, and the gender from <i>genders</i> at the same index position. For example, <i>ans6</i> should look as follows: [('Alice', 30, 'female'), ('Bob', 25, 'male'), ..., ('Tom', 34, 'male')]. (15 pts)"
   ]
  },
  {
   "cell_type": "code",
   "execution_count": 11,
   "metadata": {
    "deletable": false,
    "editable": false,
    "nbgrader": {
     "cell_type": "code",
     "checksum": "8614521d439fe54daadc8a8716acaaa6",
     "grade": false,
     "grade_id": "cell-3ba6c9ec7cced7b5",
     "locked": true,
     "schema_version": 3,
     "solution": false,
     "task": false
    }
   },
   "outputs": [],
   "source": [
    "names = [\"Alice\", \"Bob\", \"Mary\", \"Sam\", \"Sarah\", \"Tom\"]\n",
    "ages = [30, 25, 27, 31, 39, 34]\n",
    "genders = [\"female\", \"male\", \"female\", \"male\", \"female\", \"male\"] "
   ]
  },
  {
   "cell_type": "code",
   "execution_count": 12,
   "metadata": {
    "deletable": false,
    "nbgrader": {
     "cell_type": "code",
     "checksum": "5b5562b284313cbd40cfe4e1d735d042",
     "grade": false,
     "grade_id": "cell-f644582d6e057fd9",
     "locked": false,
     "schema_version": 3,
     "solution": true,
     "task": false
    }
   },
   "outputs": [],
   "source": [
    "# YOUR CODE HERE\n",
    "ans6 = [(name, age, gender) for name, age, gender in zip(names, ages, genders)]"
   ]
  },
  {
   "cell_type": "code",
   "execution_count": 13,
   "metadata": {
    "deletable": false,
    "editable": false,
    "nbgrader": {
     "cell_type": "code",
     "checksum": "0abe4a91c27b24b9efd514993ead3cd4",
     "grade": true,
     "grade_id": "cell-73ab621184531878",
     "locked": true,
     "points": 15,
     "schema_version": 3,
     "solution": false,
     "task": false
    }
   },
   "outputs": [
    {
     "data": {
      "text/plain": [
       "[('Alice', 30, 'female'),\n",
       " ('Bob', 25, 'male'),\n",
       " ('Mary', 27, 'female'),\n",
       " ('Sam', 31, 'male'),\n",
       " ('Sarah', 39, 'female'),\n",
       " ('Tom', 34, 'male')]"
      ]
     },
     "execution_count": 13,
     "metadata": {},
     "output_type": "execute_result"
    }
   ],
   "source": [
    "# Check your answer here. (Do not make any change to this cell. Just run this cell.)\n",
    "ans6"
   ]
  },
  {
   "cell_type": "markdown",
   "metadata": {
    "deletable": false,
    "editable": false,
    "nbgrader": {
     "cell_type": "markdown",
     "checksum": "86c0c3381e0dcd13cd0cc6a6c176d8f1",
     "grade": false,
     "grade_id": "cell-eb79037b5d40f326",
     "locked": true,
     "schema_version": 3,
     "solution": false,
     "task": false
    }
   },
   "source": [
    "7. Using x**2 as a lambda function and the range function, create a list <b><i>ans7</i></b> of results from calling the lambda function using map() with input values 0 through 9. (15 pts)"
   ]
  },
  {
   "cell_type": "code",
   "execution_count": 14,
   "metadata": {
    "deletable": false,
    "nbgrader": {
     "cell_type": "code",
     "checksum": "4b3716467d42c9898f144095afa321f9",
     "grade": false,
     "grade_id": "cell-32115a4cab24c26f",
     "locked": false,
     "schema_version": 3,
     "solution": true,
     "task": false
    }
   },
   "outputs": [],
   "source": [
    "# YOUR CODE HERE\n",
    "ans7 = list(map(lambda x: x**2, range(10) ))"
   ]
  },
  {
   "cell_type": "code",
   "execution_count": 15,
   "metadata": {
    "deletable": false,
    "editable": false,
    "nbgrader": {
     "cell_type": "code",
     "checksum": "11781fb1c849371fe27d2f310c64e40a",
     "grade": true,
     "grade_id": "cell-e3c2ff3e033f512a",
     "locked": true,
     "points": 15,
     "schema_version": 3,
     "solution": false,
     "task": false
    }
   },
   "outputs": [
    {
     "data": {
      "text/plain": [
       "[0, 1, 4, 9, 16, 25, 36, 49, 64, 81]"
      ]
     },
     "execution_count": 15,
     "metadata": {},
     "output_type": "execute_result"
    }
   ],
   "source": [
    "# Check your answer here. (Do not make any change to this cell. Just run this cell.)\n",
    "ans7"
   ]
  }
 ],
 "metadata": {
  "kernelspec": {
   "display_name": "Python 3",
   "language": "python",
   "name": "python3"
  },
  "language_info": {
   "codemirror_mode": {
    "name": "ipython",
    "version": 3
   },
   "file_extension": ".py",
   "mimetype": "text/x-python",
   "name": "python",
   "nbconvert_exporter": "python",
   "pygments_lexer": "ipython3",
   "version": "3.8.0"
  }
 },
 "nbformat": 4,
 "nbformat_minor": 2
}
