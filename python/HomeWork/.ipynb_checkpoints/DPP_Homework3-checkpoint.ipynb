{
 "cells": [
  {
   "cell_type": "markdown",
   "metadata": {
    "deletable": false,
    "nbgrader": {
     "cell_type": "markdown",
     "checksum": "5c921fa8cc9b768c7e9659bb328c1cba",
     "grade": false,
     "grade_id": "cell-cd5542807a75b960",
     "locked": true,
     "schema_version": 3,
     "solution": false,
     "task": false
    }
   },
   "source": [
    "# Data Programming in Python | BAIS:6040\n",
    "# Homework 3. Functions, Exceptions, and Numpy"
   ]
  },
  {
   "cell_type": "markdown",
   "metadata": {
    "deletable": false,
    "editable": false,
    "nbgrader": {
     "cell_type": "markdown",
     "checksum": "58cfd0d4984b8e9246e87d038fb7527f",
     "grade": false,
     "grade_id": "cell-17fd0df184eade32",
     "locked": true,
     "schema_version": 3,
     "solution": false,
     "task": false
    }
   },
   "source": [
    "## Instructions"
   ]
  },
  {
   "cell_type": "markdown",
   "metadata": {
    "deletable": false,
    "editable": false,
    "nbgrader": {
     "cell_type": "markdown",
     "checksum": "c7cea56e9e8a78dafd13ec748b161639",
     "grade": false,
     "grade_id": "cell-178450cc62a44a36",
     "locked": true,
     "schema_version": 3,
     "solution": false,
     "task": false
    }
   },
   "source": [
    "To complete the homework, fill in the commands needed to finish all of the exercises below. Program everything inside this notebook. If the exercises request that you store information within certain variables, please use those specific variables names (case sensitive)."
   ]
  },
  {
   "cell_type": "markdown",
   "metadata": {
    "deletable": false,
    "editable": false,
    "nbgrader": {
     "cell_type": "markdown",
     "checksum": "d8f9b732c55fd13a65bcec575676592b",
     "grade": false,
     "grade_id": "cell-b718284710e9735e",
     "locked": true,
     "schema_version": 3,
     "solution": false,
     "task": false
    }
   },
   "source": [
    "## Exercises"
   ]
  },
  {
   "cell_type": "markdown",
   "metadata": {
    "deletable": false,
    "editable": false,
    "nbgrader": {
     "cell_type": "markdown",
     "checksum": "dc772c6db279a25b337124bfabb89d6c",
     "grade": false,
     "grade_id": "cell-2b5ce36d98dce6d7",
     "locked": true,
     "schema_version": 3,
     "solution": false,
     "task": false
    }
   },
   "source": [
    "1\\. Write a function <i>get_all_stats</i> that takes a list <i>l</i> of float pointing numbers as an argument and returns a tuple of the min, max, sum, and average of all \\*positive\\* numbers in <i>l</i>. (Hint: you may need a temporary list inside the function body to store the positive numbers in <i>l</i>.) (15 pts)"
   ]
  },
  {
   "cell_type": "code",
   "execution_count": 1,
   "metadata": {
    "deletable": false,
    "nbgrader": {
     "cell_type": "code",
     "checksum": "65ded035a37c75b23114c0a61af9f52d",
     "grade": false,
     "grade_id": "cell-98d40a508951022d",
     "locked": false,
     "schema_version": 3,
     "solution": true,
     "task": false
    }
   },
   "outputs": [],
   "source": [
    "# YOUR CODE HERE\n",
    "def get_all_stats(l):\n",
    "    positive_list = list(filter(lambda x: x>-1,l ))\n",
    "    if len(positive_list)>0:\n",
    "        _min=positive_list[0]\n",
    "        _max=positive_list[0]\n",
    "        _sum=0\n",
    "        for item in positive_list:\n",
    "            if item >= _max:\n",
    "                _max=item\n",
    "            if item <= _min:\n",
    "                _min=item\n",
    "            _sum+=item\n",
    "        return _min, _max, _sum, _sum/len(positive_list)\n",
    "    else:\n",
    "        return 0,0,0,0"
   ]
  },
  {
   "cell_type": "code",
   "execution_count": 2,
   "metadata": {
    "deletable": false,
    "editable": false,
    "nbgrader": {
     "cell_type": "code",
     "checksum": "ad4a7d5e94b15c4f792f1c93fa47b4fe",
     "grade": true,
     "grade_id": "cell-77f2848513932b1f",
     "locked": true,
     "points": 0,
     "schema_version": 3,
     "solution": false,
     "task": false
    }
   },
   "outputs": [
    {
     "data": {
      "text/plain": [
       "(1.0, 3.0, 6.0, 2.0)"
      ]
     },
     "execution_count": 2,
     "metadata": {},
     "output_type": "execute_result"
    }
   ],
   "source": [
    "# Test the function here\n",
    "get_all_stats([1.0, 2.0, 3.0])          # Output: (1.0, 3.0, 6.0, 2.0)."
   ]
  },
  {
   "cell_type": "code",
   "execution_count": 3,
   "metadata": {
    "deletable": false,
    "editable": false,
    "nbgrader": {
     "cell_type": "code",
     "checksum": "7b20226c613aab5dfcbb861229be8510",
     "grade": true,
     "grade_id": "cell-1677fa6e075d432f",
     "locked": true,
     "points": 15,
     "schema_version": 3,
     "solution": false,
     "task": false
    }
   },
   "outputs": [
    {
     "data": {
      "text/plain": [
       "(1.0, 3.0, 6.0, 2.0)"
      ]
     },
     "execution_count": 3,
     "metadata": {},
     "output_type": "execute_result"
    }
   ],
   "source": [
    "# Test the function here\n",
    "get_all_stats([1.0, 2.0, 3.0, -1.0])    # Output: (1.0, 3.0, 6.0, 2.0)."
   ]
  },
  {
   "cell_type": "markdown",
   "metadata": {
    "deletable": false,
    "editable": false,
    "nbgrader": {
     "cell_type": "markdown",
     "checksum": "0bbe869d77dcd83ffa6e023ce7c0a867",
     "grade": false,
     "grade_id": "cell-e321503bfc49dba8",
     "locked": true,
     "schema_version": 3,
     "solution": false,
     "task": false
    }
   },
   "source": [
    "2\\. Write a function <i>get_all_stats2</i> that works the same as <i>get_all_stats</i> above. In addition, it returns \"Invalid value!\" if <i>l</i> has any non-floating point number. (5 pts)"
   ]
  },
  {
   "cell_type": "code",
   "execution_count": 4,
   "metadata": {
    "deletable": false,
    "nbgrader": {
     "cell_type": "code",
     "checksum": "19fd38a8db0dae1580e2d84ad033c81c",
     "grade": false,
     "grade_id": "cell-cdc9e9b2d9196832",
     "locked": false,
     "schema_version": 3,
     "solution": true,
     "task": false
    }
   },
   "outputs": [],
   "source": [
    "# YOUR CODE HERE\n",
    "def get_all_stats2(l):\n",
    "    non_float_list = list(filter(lambda x: type(x)!=float,l ))\n",
    "    if len(non_float_list)>0:\n",
    "        return \"Invalid value!\"\n",
    "    else:\n",
    "        return get_all_stats(l)"
   ]
  },
  {
   "cell_type": "code",
   "execution_count": 5,
   "metadata": {
    "deletable": false,
    "editable": false,
    "nbgrader": {
     "cell_type": "code",
     "checksum": "c11543e52ddd115442a1107b398cfcc6",
     "grade": true,
     "grade_id": "cell-2b7edd249b3b299d",
     "locked": true,
     "points": 0,
     "schema_version": 3,
     "solution": false,
     "task": false
    }
   },
   "outputs": [
    {
     "data": {
      "text/plain": [
       "(1.0, 3.0, 6.0, 2.0)"
      ]
     },
     "execution_count": 5,
     "metadata": {},
     "output_type": "execute_result"
    }
   ],
   "source": [
    "# Test the function here\n",
    "get_all_stats2([1.0, 2.0, 3.0, -1.0])    # Output: (1.0, 3.0, 6.0, 2.0)."
   ]
  },
  {
   "cell_type": "code",
   "execution_count": 6,
   "metadata": {
    "deletable": false,
    "editable": false,
    "nbgrader": {
     "cell_type": "code",
     "checksum": "e95ab217412c1285c47d85e691ad148c",
     "grade": true,
     "grade_id": "cell-3eea5b5c5d1a90ac",
     "locked": true,
     "points": 5,
     "schema_version": 3,
     "solution": false,
     "task": false
    }
   },
   "outputs": [
    {
     "data": {
      "text/plain": [
       "'Invalid value!'"
      ]
     },
     "execution_count": 6,
     "metadata": {},
     "output_type": "execute_result"
    }
   ],
   "source": [
    "# Test the function here\n",
    "get_all_stats2([1.0, 2.0, 3, -1.0])      # Output: 'Invalid value!'."
   ]
  },
  {
   "cell_type": "markdown",
   "metadata": {
    "deletable": false,
    "editable": false,
    "nbgrader": {
     "cell_type": "markdown",
     "checksum": "c300fc4c9b43cc8472c441c94c73a237",
     "grade": false,
     "grade_id": "cell-5d347b2d83047843",
     "locked": true,
     "schema_version": 3,
     "solution": false,
     "task": false
    }
   },
   "source": [
    "3\\. Write a function <i>truncate</i> that takes a string <i>s</i> and an integer <i>limit</i> as arguments and returns the string as it is if the length of the string is equal to or less than <i>limit</i>. If the length is greater than <i>limit</i>, it only takes the <i>limit</i>-length leading substring of <i>s</i> (i.e., from the index position 0 to <i>limit</i> -1) replacing the rest of <i>s</i> with \"...\" and return that truncated string. Set the default value of <i>limit</i> to 50. (15 pts)"
   ]
  },
  {
   "cell_type": "code",
   "execution_count": 7,
   "metadata": {
    "deletable": false,
    "nbgrader": {
     "cell_type": "code",
     "checksum": "837ef168863e670c61f9bb54814b1048",
     "grade": false,
     "grade_id": "cell-3bc18beaf8091d2c",
     "locked": false,
     "schema_version": 3,
     "solution": true,
     "task": false
    }
   },
   "outputs": [],
   "source": [
    "# YOUR CODE HERE\n",
    "def truncate(s, limit=50):\n",
    "    if len(s)<=limit:\n",
    "        return s;\n",
    "    elif len(s)>limit:\n",
    "        return \"{}...\".format(s[:limit])\n",
    "    else:\n",
    "        return \"Limit should be a positive number!\""
   ]
  },
  {
   "cell_type": "code",
   "execution_count": 8,
   "metadata": {
    "deletable": false,
    "editable": false,
    "nbgrader": {
     "cell_type": "code",
     "checksum": "2d3b82bb401bf10b6f95180da015ec04",
     "grade": true,
     "grade_id": "cell-67b32101d08068e3",
     "locked": true,
     "points": 0,
     "schema_version": 3,
     "solution": false,
     "task": false
    }
   },
   "outputs": [
    {
     "data": {
      "text/plain": [
       "'This homework corresponds to the Jun 4 class.'"
      ]
     },
     "execution_count": 8,
     "metadata": {},
     "output_type": "execute_result"
    }
   ],
   "source": [
    "# Test the function here\n",
    "truncate(\"This homework corresponds to the Jun 4 class.\", 50)\n",
    "# Output: 'This homework corresponds to the Jun 4 class.'."
   ]
  },
  {
   "cell_type": "code",
   "execution_count": 9,
   "metadata": {
    "deletable": false,
    "editable": false,
    "nbgrader": {
     "cell_type": "code",
     "checksum": "ea83cee9b1856a1c338513e6c013ef7e",
     "grade": true,
     "grade_id": "cell-0b173ffbd88fb869",
     "locked": true,
     "points": 15,
     "schema_version": 3,
     "solution": false,
     "task": false
    }
   },
   "outputs": [
    {
     "data": {
      "text/plain": [
       "'This homework corresponds to the Jun 4 class. Plea...'"
      ]
     },
     "execution_count": 9,
     "metadata": {},
     "output_type": "execute_result"
    }
   ],
   "source": [
    "# Test the function here\n",
    "truncate(\"This homework corresponds to the Jun 4 class. Please refer to the corresponding lecture materials posted on ICON.\")\n",
    "# Output: 'This homework corresponds to the Jun 4 class. Plea...'."
   ]
  },
  {
   "cell_type": "markdown",
   "metadata": {
    "deletable": false,
    "editable": false,
    "nbgrader": {
     "cell_type": "markdown",
     "checksum": "84399f61358c00cb6945638fb88d2d96",
     "grade": false,
     "grade_id": "cell-f9d32bff3351d5fc",
     "locked": true,
     "schema_version": 3,
     "solution": false,
     "task": false
    }
   },
   "source": [
    "4\\. Create a dictionary <i>kwargs</i> that sets the parameter values of <i>s</i> and <i>limit</i> on your own and call the function <i>truncate</i> by passing <i>kwargs</i>. (5 pts)"
   ]
  },
  {
   "cell_type": "code",
   "execution_count": 10,
   "metadata": {
    "deletable": false,
    "nbgrader": {
     "cell_type": "code",
     "checksum": "1ee3858241e47bac93cf034d13a5c90a",
     "grade": true,
     "grade_id": "cell-39d5cdf6385fa46c",
     "locked": false,
     "points": 0,
     "schema_version": 3,
     "solution": true,
     "task": false
    }
   },
   "outputs": [
    {
     "data": {
      "text/plain": [
       "'This homework corresponds to the Jun 4 class.'"
      ]
     },
     "execution_count": 10,
     "metadata": {},
     "output_type": "execute_result"
    }
   ],
   "source": [
    "# YOUR CODE HERE\n",
    "kwargs = {\"s\": \"This homework corresponds to the Jun 4 class.\", \"limit\": 50}\n",
    "truncate(**kwargs)"
   ]
  },
  {
   "cell_type": "markdown",
   "metadata": {
    "deletable": false,
    "editable": false,
    "nbgrader": {
     "cell_type": "markdown",
     "checksum": "20991eca3d03b0d5ca8666c254cdb085",
     "grade": false,
     "grade_id": "cell-10ac671c37d0ed5f",
     "locked": true,
     "schema_version": 3,
     "solution": false,
     "task": false
    }
   },
   "source": [
    "5\\. Given the definintions of r and s below, add the two arrays together using vectorization.\n",
    "(10 pts)"
   ]
  },
  {
   "cell_type": "code",
   "execution_count": 11,
   "metadata": {
    "deletable": false,
    "editable": false,
    "nbgrader": {
     "cell_type": "code",
     "checksum": "ed60988e24080804f854abac32008c06",
     "grade": false,
     "grade_id": "cell-976e28fd871568bb",
     "locked": true,
     "schema_version": 3,
     "solution": false,
     "task": false
    }
   },
   "outputs": [],
   "source": [
    "# run this cell first\n",
    "import numpy as np\n",
    "\n",
    "np.random.seed(0)\n",
    "r = np.arange(12).reshape((4,3))\n",
    "s = np.arange(12).reshape((4,3))*0.5"
   ]
  },
  {
   "cell_type": "code",
   "execution_count": 12,
   "metadata": {
    "deletable": false,
    "nbgrader": {
     "cell_type": "code",
     "checksum": "33c704401152e744259ed0275a09efd9",
     "grade": true,
     "grade_id": "cell-4cb2d6d4c6d1a12c",
     "locked": false,
     "points": 10,
     "schema_version": 3,
     "solution": true,
     "task": false
    },
    "scrolled": true
   },
   "outputs": [
    {
     "data": {
      "text/plain": [
       "array([[ 0. ,  1.5,  3. ],\n",
       "       [ 4.5,  6. ,  7.5],\n",
       "       [ 9. , 10.5, 12. ],\n",
       "       [13.5, 15. , 16.5]])"
      ]
     },
     "execution_count": 12,
     "metadata": {},
     "output_type": "execute_result"
    }
   ],
   "source": [
    "# YOUR CODE HERE\n",
    "r + s"
   ]
  },
  {
   "cell_type": "markdown",
   "metadata": {
    "deletable": false,
    "editable": false,
    "nbgrader": {
     "cell_type": "markdown",
     "checksum": "1cee95c0b3a7d834b3636f72a5acec34",
     "grade": false,
     "grade_id": "cell-737f0fdd4478d402",
     "locked": true,
     "schema_version": 3,
     "solution": false,
     "task": false
    }
   },
   "source": [
    "6\\. Create a 10 x 10 array <i>x</i> of random integers between 1 (inclusive) and 100 (inclusive). (10 pts)"
   ]
  },
  {
   "cell_type": "code",
   "execution_count": 13,
   "metadata": {
    "deletable": false,
    "nbgrader": {
     "cell_type": "code",
     "checksum": "bcd06c6975a60f3dacd945124b1592fd",
     "grade": false,
     "grade_id": "cell-5dbd53ef9207fff3",
     "locked": false,
     "schema_version": 3,
     "solution": true,
     "task": false
    }
   },
   "outputs": [],
   "source": [
    "# YOUR CODE HERE\n",
    "x=np.random.randint(1,100,(10,10))"
   ]
  },
  {
   "cell_type": "code",
   "execution_count": 14,
   "metadata": {
    "deletable": false,
    "editable": false,
    "nbgrader": {
     "cell_type": "code",
     "checksum": "4ad66cfcb6931caea8ca9efb88b71c6b",
     "grade": true,
     "grade_id": "cell-5b076b0eb8c51f89",
     "locked": true,
     "points": 10,
     "schema_version": 3,
     "solution": false,
     "task": false
    },
    "scrolled": true
   },
   "outputs": [
    {
     "data": {
      "text/plain": [
       "array([[45, 48, 65, 68, 68, 10, 84, 22, 37, 88],\n",
       "       [71, 89, 89, 13, 59, 66, 40, 88, 47, 89],\n",
       "       [82, 38, 26, 78, 73, 10, 21, 81, 70, 80],\n",
       "       [48, 65, 83, 89, 50, 30, 20, 20, 15, 40],\n",
       "       [33, 66, 10, 58, 33, 32, 75, 24, 36, 76],\n",
       "       [56, 29, 35,  1,  1, 37, 54,  6, 39, 18],\n",
       "       [80,  5, 43, 59, 32,  2, 66, 42, 58, 36],\n",
       "       [12, 47, 83, 92,  1, 15, 54, 13, 43, 85],\n",
       "       [76, 69,  7, 69, 48,  4, 77, 53, 79, 16],\n",
       "       [21, 59, 24, 80, 14, 86, 49, 50, 70, 42]])"
      ]
     },
     "execution_count": 14,
     "metadata": {},
     "output_type": "execute_result"
    }
   ],
   "source": [
    "# Check your answer here. (Do not make any change to this cell. Just run this cell.)\n",
    "x"
   ]
  },
  {
   "cell_type": "markdown",
   "metadata": {
    "deletable": false,
    "editable": false,
    "nbgrader": {
     "cell_type": "markdown",
     "checksum": "81bb7aa0b7374833aa622bec5b8cae2b",
     "grade": false,
     "grade_id": "cell-3c538672bb6fc015",
     "locked": true,
     "schema_version": 3,
     "solution": false,
     "task": false
    }
   },
   "source": [
    "7\\. Create a 10 x 10 array <i>y</i> of integers from 100 (inclusive) to 1 (inclusive). Order is important. For example, the first row has integers from 100 to 91, the second row from 90 to 81, and so on and so forth. (10 pts)"
   ]
  },
  {
   "cell_type": "code",
   "execution_count": 15,
   "metadata": {
    "deletable": false,
    "nbgrader": {
     "cell_type": "code",
     "checksum": "f7140c15ca50cdda69b9cfb00a697e19",
     "grade": false,
     "grade_id": "cell-a8cbab14e4d931b4",
     "locked": false,
     "schema_version": 3,
     "solution": true,
     "task": false
    }
   },
   "outputs": [],
   "source": [
    "# YOUR CODE HERE\n",
    "z=np.arange(1, 101).reshape(10,10)[::-1]\n",
    "y=np.empty((10,10),int)\n",
    "for row in range(len(z)):\n",
    "    y[row] = z[row][::-1]"
   ]
  },
  {
   "cell_type": "code",
   "execution_count": 16,
   "metadata": {
    "deletable": false,
    "editable": false,
    "nbgrader": {
     "cell_type": "code",
     "checksum": "ddafef758c7da0d804e44e8b53b112a9",
     "grade": true,
     "grade_id": "cell-e6ad105b811ad981",
     "locked": true,
     "points": 10,
     "schema_version": 3,
     "solution": false,
     "task": false
    }
   },
   "outputs": [
    {
     "data": {
      "text/plain": [
       "array([[100,  99,  98,  97,  96,  95,  94,  93,  92,  91],\n",
       "       [ 90,  89,  88,  87,  86,  85,  84,  83,  82,  81],\n",
       "       [ 80,  79,  78,  77,  76,  75,  74,  73,  72,  71],\n",
       "       [ 70,  69,  68,  67,  66,  65,  64,  63,  62,  61],\n",
       "       [ 60,  59,  58,  57,  56,  55,  54,  53,  52,  51],\n",
       "       [ 50,  49,  48,  47,  46,  45,  44,  43,  42,  41],\n",
       "       [ 40,  39,  38,  37,  36,  35,  34,  33,  32,  31],\n",
       "       [ 30,  29,  28,  27,  26,  25,  24,  23,  22,  21],\n",
       "       [ 20,  19,  18,  17,  16,  15,  14,  13,  12,  11],\n",
       "       [ 10,   9,   8,   7,   6,   5,   4,   3,   2,   1]])"
      ]
     },
     "execution_count": 16,
     "metadata": {},
     "output_type": "execute_result"
    }
   ],
   "source": [
    "# Check your answer here. (Do not make any change to this cell. Just run this cell.)\n",
    "y"
   ]
  },
  {
   "cell_type": "markdown",
   "metadata": {
    "deletable": false,
    "editable": false,
    "nbgrader": {
     "cell_type": "markdown",
     "checksum": "8bd946977e3be7da6aaf3ec229a24232",
     "grade": false,
     "grade_id": "cell-404194f851734fa2",
     "locked": true,
     "schema_version": 3,
     "solution": false,
     "task": false
    }
   },
   "source": [
    "8\\. Get all the values that are in the first 5 rows and the last 5 columns of <i>x</i> and assign the resulting array to <i>x_top_right</i>. Get all the values that are in the last 5 rows and the first 5 columns of <i>y</i> and assign the resulting array to <i>y_bottom_left</i>. (10 pts)"
   ]
  },
  {
   "cell_type": "code",
   "execution_count": 17,
   "metadata": {
    "deletable": false,
    "nbgrader": {
     "cell_type": "code",
     "checksum": "113d2e715a6407a435b9068d2759db66",
     "grade": false,
     "grade_id": "cell-73ff6d426d4c4169",
     "locked": false,
     "schema_version": 3,
     "solution": true,
     "task": false
    }
   },
   "outputs": [],
   "source": [
    "# YOUR CODE HERE\n",
    "x_top_right = x[:5,-5:]\n",
    "y_bottom_left = y[-5:,:5]"
   ]
  },
  {
   "cell_type": "code",
   "execution_count": 18,
   "metadata": {
    "deletable": false,
    "editable": false,
    "nbgrader": {
     "cell_type": "code",
     "checksum": "4cd3ea1447e6275fcdf853459dbbb11e",
     "grade": true,
     "grade_id": "cell-a8017f89b5d771bb",
     "locked": true,
     "points": 10,
     "schema_version": 3,
     "solution": false,
     "task": false
    }
   },
   "outputs": [
    {
     "data": {
      "text/plain": [
       "(array([[10, 84, 22, 37, 88],\n",
       "        [66, 40, 88, 47, 89],\n",
       "        [10, 21, 81, 70, 80],\n",
       "        [30, 20, 20, 15, 40],\n",
       "        [32, 75, 24, 36, 76]]),\n",
       " array([[50, 49, 48, 47, 46],\n",
       "        [40, 39, 38, 37, 36],\n",
       "        [30, 29, 28, 27, 26],\n",
       "        [20, 19, 18, 17, 16],\n",
       "        [10,  9,  8,  7,  6]]))"
      ]
     },
     "execution_count": 18,
     "metadata": {},
     "output_type": "execute_result"
    }
   ],
   "source": [
    "# Check your answer here. (Do not make any change to this cell. Just run this cell.)\n",
    "x_top_right, y_bottom_left"
   ]
  },
  {
   "cell_type": "markdown",
   "metadata": {
    "deletable": false,
    "editable": false,
    "nbgrader": {
     "cell_type": "markdown",
     "checksum": "7e453adb8b9442801b29910644f01eff",
     "grade": false,
     "grade_id": "cell-31608cfd9a7a4310",
     "locked": true,
     "schema_version": 3,
     "solution": false,
     "task": false
    }
   },
   "source": [
    "9\\. Before we calculate the dot product of <i>x_top_right</i> and <i>y_bottom_left</i>, check if the number of columns of <i>x_top_right</i> equals the number of rows of <i>y_bottom_left</i>, using an <b>assert</b> statement. Do not directly put their numbers (i.e., 5) in the test. (Hint: if the <b>assert</b> statement returns an AssertionError, that means you had wrong <i>x_top_right</i> or <i>y_bottom_left</i>.) (10 pts)"
   ]
  },
  {
   "cell_type": "code",
   "execution_count": 19,
   "metadata": {
    "deletable": false,
    "nbgrader": {
     "cell_type": "code",
     "checksum": "4f08ea32a988b81119b0859d6c6c9ca9",
     "grade": true,
     "grade_id": "cell-ab95c796d9ae5dbd",
     "locked": false,
     "points": 10,
     "schema_version": 3,
     "solution": true,
     "task": false
    }
   },
   "outputs": [],
   "source": [
    "# YOUR CODE HERE\n",
    "assert x_top_right.shape[1] == y_bottom_left.shape[0], \"Dot product cannot be calculated\""
   ]
  },
  {
   "cell_type": "markdown",
   "metadata": {
    "deletable": false,
    "editable": false,
    "nbgrader": {
     "cell_type": "markdown",
     "checksum": "15c39889ce9f1cab66fafe30c3ed6b56",
     "grade": false,
     "grade_id": "cell-545c7d73400d0283",
     "locked": true,
     "schema_version": 3,
     "solution": false,
     "task": false
    }
   },
   "source": [
    "10\\. Get the dot product of <i>x_top_right</i> and <i>y_bottom_left</i>. (10 pts)"
   ]
  },
  {
   "cell_type": "code",
   "execution_count": 20,
   "metadata": {
    "deletable": false,
    "nbgrader": {
     "cell_type": "code",
     "checksum": "bf08177abb564fcc5f45f79d07be7ec5",
     "grade": true,
     "grade_id": "cell-a61c6ac04dce4313",
     "locked": false,
     "points": 0,
     "schema_version": 3,
     "solution": true,
     "task": false
    }
   },
   "outputs": [
    {
     "data": {
      "text/plain": [
       "array([[6140, 5899, 5658, 5417, 5176],\n",
       "       [9370, 9040, 8710, 8380, 8050],\n",
       "       [5970, 5708, 5446, 5184, 4922],\n",
       "       [3600, 3475, 3350, 3225, 3100],\n",
       "       [6800, 6557, 6314, 6071, 5828]])"
      ]
     },
     "execution_count": 20,
     "metadata": {},
     "output_type": "execute_result"
    }
   ],
   "source": [
    "# YOUR CODE HERE\n",
    "np.dot(x_top_right, y_bottom_left)  "
   ]
  }
 ],
 "metadata": {
  "kernelspec": {
   "display_name": "Python 3",
   "language": "python",
   "name": "python3"
  },
  "language_info": {
   "codemirror_mode": {
    "name": "ipython",
    "version": 3
   },
   "file_extension": ".py",
   "mimetype": "text/x-python",
   "name": "python",
   "nbconvert_exporter": "python",
   "pygments_lexer": "ipython3",
   "version": "3.8.0"
  }
 },
 "nbformat": 4,
 "nbformat_minor": 2
}
